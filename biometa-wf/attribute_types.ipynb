{
 "cells": [
  {
   "cell_type": "markdown",
   "metadata": {},
   "source": [
    "My goal in this notebook is to normalize the attribute type names. I am going through all of the attribute types `samples/attributes/name` from the SRA and trying to decide if they are related to {sex, developmental_stage, tissue, or cell_type}. I am storing the mappings in `config/attribute_type.yaml`."
   ]
  },
  {
   "cell_type": "code",
   "execution_count": 1,
   "metadata": {},
   "outputs": [],
   "source": [
    "from time import sleep\n",
    "import joblib\n",
    "import yaml\n",
    "import pyperclip\n",
    "from more_itertools import flatten\n",
    "from pymongo import MongoClient\n",
    "from IPython.display import display, Markdown, clear_output"
   ]
  },
  {
   "cell_type": "markdown",
   "metadata": {},
   "source": [
    "# Get a list of Attribute Types"
   ]
  },
  {
   "cell_type": "code",
   "execution_count": 2,
   "metadata": {},
   "outputs": [
    {
     "output_type": "stream",
     "name": "stdout",
     "text": "There are 347 unique attribute types.\n"
    }
   ],
   "source": [
    "rnaseq_srxs = joblib.load(\"../output/library_strategy-wf/rnaseq_inliers.pkl\")\n",
    "\n",
    "with MongoClient() as client:\n",
    "    db = client[\"sramongo\"]\n",
    "    ncbi = db[\"ncbi\"]\n",
    "\n",
    "    attribute_types = sorted(list({\n",
    "        x[\"attribute_type\"]\n",
    "        for x in ncbi.aggregate(\n",
    "            [\n",
    "                {\"$match\": {\"srx\": {\"$in\": rnaseq_srxs}}},\n",
    "                {\"$unwind\": {\"path\": \"$sample.attributes\"}},\n",
    "                {\"$project\": {\"_id\": 0, \"attribute_type\": \"$sample.attributes.name\"}},\n",
    "            ]\n",
    "        )\n",
    "    }), key=lambda x: x.lower())\n",
    "\n",
    "print(f\"There are {len(attribute_types):,} unique attribute types.\")"
   ]
  },
  {
   "cell_type": "markdown",
   "metadata": {},
   "source": [
    "# Map Attribute Types to CV"
   ]
  },
  {
   "cell_type": "code",
   "execution_count": 3,
   "metadata": {},
   "outputs": [],
   "source": [
    "def get_values(attribute_type):\n",
    "    \"\"\"Given an attribute type, give a set of all values.\"\"\"\n",
    "    with MongoClient() as client:\n",
    "        db = client[\"sramongo\"]\n",
    "        ncbi = db[\"ncbi\"]\n",
    "\n",
    "        return {\n",
    "            x[\"attribute_value\"]\n",
    "            for x in ncbi.aggregate(\n",
    "                [\n",
    "                    {\"$unwind\": {\"path\": \"$sample.attributes\"}},\n",
    "                    {\"$match\": {\"sample.attributes.name\": attribute_type, \"srx\": {\"$in\": rnaseq_srxs}}},\n",
    "                    {\"$project\": {\"_id\": 0, \"attribute_value\": \"$sample.attributes.value\"}},\n",
    "                ]\n",
    "            )\n",
    "        }"
   ]
  },
  {
   "cell_type": "code",
   "execution_count": 12,
   "metadata": {
    "tags": [
     "outputPrepend"
    ]
   },
   "outputs": [
    {
     "output_type": "display_data",
     "data": {
      "text/plain": "<IPython.core.display.Markdown object>",
      "text/markdown": "## zygotic genotype"
     },
     "metadata": {}
    },
    {
     "output_type": "stream",
     "name": "stdout",
     "text": "{'l(3)mbt[GM76]/Df', 'l(3)mbt[GM76]/+'}"
    }
   ],
   "source": [
    "# Print out attributes not yet in the mapper.\n",
    "\n",
    "def keep_running():\n",
    "    mapped_attributes = list(flatten(yaml.safe_load(open(\"config/attribute_type.yaml\")).values()))\n",
    "    for attribute_type in attribute_types:\n",
    "        if attribute_type not in mapped_attributes:\n",
    "            clear_output(wait=True)\n",
    "            display(Markdown(f\"## {attribute_type}\"))\n",
    "            pyperclip.copy(f'  - \"{attribute_type}\"\\n')\n",
    "            print(get_values(attribute_type), end=\"\\r\")\n",
    "            sleep(5)\n",
    "            keep_running()\n",
    "keep_running()"
   ]
  },
  {
   "cell_type": "code",
   "execution_count": null,
   "metadata": {},
   "outputs": [],
   "source": []
  }
 ],
 "metadata": {
  "language_info": {
   "codemirror_mode": {
    "name": "ipython",
    "version": 3
   },
   "file_extension": ".py",
   "mimetype": "text/x-python",
   "name": "python",
   "nbconvert_exporter": "python",
   "pygments_lexer": "ipython3",
   "version": "3.7.3-final"
  },
  "orig_nbformat": 2,
  "kernelspec": {
   "name": "python3",
   "display_name": "Python 3"
  }
 },
 "nbformat": 4,
 "nbformat_minor": 2
}