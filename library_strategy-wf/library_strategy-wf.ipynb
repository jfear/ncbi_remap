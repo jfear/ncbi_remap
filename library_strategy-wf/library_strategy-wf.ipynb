{
 "cells": [
  {
   "cell_type": "code",
   "execution_count": 1,
   "metadata": {},
   "outputs": [],
   "source": [
    "import joblib\n",
    "from IPython.display import display, Markdown"
   ]
  },
  {
   "cell_type": "markdown",
   "metadata": {},
   "source": [
    "# Library Selection Workflow"
   ]
  },
  {
   "cell_type": "code",
   "execution_count": 2,
   "metadata": {},
   "outputs": [
    {
     "output_type": "display_data",
     "data": {
      "text/plain": "<IPython.core.display.Markdown object>",
      "text/markdown": "## Isolation Forest counts"
     },
     "metadata": {}
    },
    {
     "output_type": "stream",
     "name": "stdout",
     "text": "Training = 11,085\nTesting = 3,695\nOutliers = 875\n"
    }
   ],
   "source": [
    "display(Markdown(\"## Isolation Forest counts\"))\n",
    "iso = joblib.load(\"../output/library_strategy-wf/isolation_forest.pkl\")\n",
    "n_train, n_test = iso.X_train.shape[0], iso.X_test.shape[0]\n",
    "print(f\"Training = {n_train:,}\", f\"Testing = {n_test:,}\", f\"Outliers = {iso.outliers_all.shape[0]:,}\",sep=\"\\n\")"
   ]
  },
  {
   "cell_type": "code",
   "execution_count": 3,
   "metadata": {},
   "outputs": [
    {
     "output_type": "display_data",
     "data": {
      "text/plain": "<IPython.core.display.Markdown object>",
      "text/markdown": "## Outlier Enrichment: Library Selection"
     },
     "metadata": {}
    },
    {
     "output_type": "stream",
     "name": "stdout",
     "text": "chi^2: 680.6102, p-value: 0.0000, df: 13\n"
    },
    {
     "output_type": "execute_result",
     "data": {
      "text/plain": "library_selection                CAGE    DNase  Hybrid Selection  \\\nis_outlier type                                                    \nFalse      observed            1.0000  44.0000            1.0000   \n           expected           15.0647  41.4279            0.9415   \n           residual          -14.0647   2.5721            0.0585   \n           adj std residual  -15.0201   1.6628            0.2492   \n           X^2                13.1311   0.1597            0.0036   \n           fdr q-value         0.0000   0.2003            0.3867   \n           flag_sig            1.0000   0.0000            0.0000   \nTrue       observed           15.0000   0.0000            0.0000   \n           expected            0.9353   2.5721            0.0585   \n           residual           14.0647  -2.5721           -0.0585   \n           adj std residual   15.0201  -1.6628           -0.2492   \n           X^2               211.4952   2.5721            0.0585   \n           fdr q-value         0.0000   0.2003            0.3867   \n           flag_sig            1.0000   0.0000            0.0000   \n\nlibrary_selection            Inverse rRNA    OTHER  Oligo-dT     PCR    PolyA  \\\nis_outlier type                                                                 \nFalse      observed                2.0000  28.0000    2.0000  7.0000  43.0000   \n           expected                1.8831  31.0709    1.8831  6.5908  41.4279   \n           residual                0.1169  -3.0709    0.1169  0.4092   1.5721   \n           adj std residual        0.3525  -2.2889    0.3525  0.6599   1.0163   \n           X^2                     0.0073   0.3035    0.0073  0.0254   0.0597   \n           fdr q-value             0.3867   0.0814    0.3867  0.3867   0.3703   \n           flag_sig                0.0000   0.0000    0.0000  0.0000   0.0000   \nTrue       observed                0.0000   5.0000    0.0000  0.0000   1.0000   \n           expected                0.1169   1.9291    0.1169  0.4092   2.5721   \n           residual               -0.1169   3.0709   -0.1169 -0.4092  -1.5721   \n           adj std residual       -0.3525   2.2889   -0.3525 -0.6599  -1.0163   \n           X^2                     0.1169   4.8885    0.1169  0.4092   0.9609   \n           fdr q-value             0.3867   0.0814    0.3867  0.3867   0.3703   \n           flag_sig                0.0000   0.0000    0.0000  0.0000   0.0000   \n\nlibrary_selection              RANDOM  RANDOM PCR   RT-PCR       cDNA  \\\nis_outlier type                                                         \nFalse      observed          359.0000      9.0000  48.0000  2871.0000   \n           expected          348.3708      8.4739  51.7848  2837.8095   \n           residual           10.6292      0.5261  -3.7848    33.1905   \n           adj std residual    2.4830      0.7484  -2.1917     6.0026   \n           X^2                 0.3243      0.0327   0.2766     0.3882   \n           fdr q-value         0.0640      0.3867   0.0843     0.0000   \n           flag_sig            0.0000      0.0000   0.0000     1.0000   \nTrue       observed           11.0000      0.0000   7.0000   143.0000   \n           expected           21.6292      0.5261   3.2152   176.1905   \n           residual          -10.6292     -0.5261   3.7848   -33.1905   \n           adj std residual   -2.4830     -0.7484   2.1917    -6.0026   \n           X^2                 5.2235      0.5261   4.4555     6.2524   \n           fdr q-value         0.0640      0.3867   0.0843     0.0000   \n           flag_sig            0.0000      0.0000   0.0000     1.0000   \n\nlibrary_selection            size fractionation  unspecified  \nis_outlier type                                               \nFalse      observed                      7.0000      57.0000  \n           expected                     37.6617      54.6095  \n           residual                    -30.6617       2.3905  \n           adj std residual            -20.7774       1.3486  \n           X^2                          24.9628       0.1046  \n           fdr q-value                   0.0000       0.2812  \n           flag_sig                      1.0000       0.0000  \nTrue       observed                     33.0000       1.0000  \n           expected                      2.3383       3.3905  \n           residual                     30.6617      -2.3905  \n           adj std residual             20.7774      -1.3486  \n           X^2                         402.0623       1.6855  \n           fdr q-value                   0.0000       0.2812  \n           flag_sig                      1.0000       0.0000  ",
      "text/html": "<div>\n<style scoped>\n    .dataframe tbody tr th:only-of-type {\n        vertical-align: middle;\n    }\n\n    .dataframe tbody tr th {\n        vertical-align: top;\n    }\n\n    .dataframe thead th {\n        text-align: right;\n    }\n</style>\n<table border=\"1\" class=\"dataframe\">\n  <thead>\n    <tr style=\"text-align: right;\">\n      <th></th>\n      <th>library_selection</th>\n      <th>CAGE</th>\n      <th>DNase</th>\n      <th>Hybrid Selection</th>\n      <th>Inverse rRNA</th>\n      <th>OTHER</th>\n      <th>Oligo-dT</th>\n      <th>PCR</th>\n      <th>PolyA</th>\n      <th>RANDOM</th>\n      <th>RANDOM PCR</th>\n      <th>RT-PCR</th>\n      <th>cDNA</th>\n      <th>size fractionation</th>\n      <th>unspecified</th>\n    </tr>\n    <tr>\n      <th>is_outlier</th>\n      <th>type</th>\n      <th></th>\n      <th></th>\n      <th></th>\n      <th></th>\n      <th></th>\n      <th></th>\n      <th></th>\n      <th></th>\n      <th></th>\n      <th></th>\n      <th></th>\n      <th></th>\n      <th></th>\n      <th></th>\n    </tr>\n  </thead>\n  <tbody>\n    <tr>\n      <th rowspan=\"7\" valign=\"top\">False</th>\n      <th>observed</th>\n      <td>1.0000</td>\n      <td>44.0000</td>\n      <td>1.0000</td>\n      <td>2.0000</td>\n      <td>28.0000</td>\n      <td>2.0000</td>\n      <td>7.0000</td>\n      <td>43.0000</td>\n      <td>359.0000</td>\n      <td>9.0000</td>\n      <td>48.0000</td>\n      <td>2871.0000</td>\n      <td>7.0000</td>\n      <td>57.0000</td>\n    </tr>\n    <tr>\n      <th>expected</th>\n      <td>15.0647</td>\n      <td>41.4279</td>\n      <td>0.9415</td>\n      <td>1.8831</td>\n      <td>31.0709</td>\n      <td>1.8831</td>\n      <td>6.5908</td>\n      <td>41.4279</td>\n      <td>348.3708</td>\n      <td>8.4739</td>\n      <td>51.7848</td>\n      <td>2837.8095</td>\n      <td>37.6617</td>\n      <td>54.6095</td>\n    </tr>\n    <tr>\n      <th>residual</th>\n      <td>-14.0647</td>\n      <td>2.5721</td>\n      <td>0.0585</td>\n      <td>0.1169</td>\n      <td>-3.0709</td>\n      <td>0.1169</td>\n      <td>0.4092</td>\n      <td>1.5721</td>\n      <td>10.6292</td>\n      <td>0.5261</td>\n      <td>-3.7848</td>\n      <td>33.1905</td>\n      <td>-30.6617</td>\n      <td>2.3905</td>\n    </tr>\n    <tr>\n      <th>adj std residual</th>\n      <td>-15.0201</td>\n      <td>1.6628</td>\n      <td>0.2492</td>\n      <td>0.3525</td>\n      <td>-2.2889</td>\n      <td>0.3525</td>\n      <td>0.6599</td>\n      <td>1.0163</td>\n      <td>2.4830</td>\n      <td>0.7484</td>\n      <td>-2.1917</td>\n      <td>6.0026</td>\n      <td>-20.7774</td>\n      <td>1.3486</td>\n    </tr>\n    <tr>\n      <th>X^2</th>\n      <td>13.1311</td>\n      <td>0.1597</td>\n      <td>0.0036</td>\n      <td>0.0073</td>\n      <td>0.3035</td>\n      <td>0.0073</td>\n      <td>0.0254</td>\n      <td>0.0597</td>\n      <td>0.3243</td>\n      <td>0.0327</td>\n      <td>0.2766</td>\n      <td>0.3882</td>\n      <td>24.9628</td>\n      <td>0.1046</td>\n    </tr>\n    <tr>\n      <th>fdr q-value</th>\n      <td>0.0000</td>\n      <td>0.2003</td>\n      <td>0.3867</td>\n      <td>0.3867</td>\n      <td>0.0814</td>\n      <td>0.3867</td>\n      <td>0.3867</td>\n      <td>0.3703</td>\n      <td>0.0640</td>\n      <td>0.3867</td>\n      <td>0.0843</td>\n      <td>0.0000</td>\n      <td>0.0000</td>\n      <td>0.2812</td>\n    </tr>\n    <tr>\n      <th>flag_sig</th>\n      <td>1.0000</td>\n      <td>0.0000</td>\n      <td>0.0000</td>\n      <td>0.0000</td>\n      <td>0.0000</td>\n      <td>0.0000</td>\n      <td>0.0000</td>\n      <td>0.0000</td>\n      <td>0.0000</td>\n      <td>0.0000</td>\n      <td>0.0000</td>\n      <td>1.0000</td>\n      <td>1.0000</td>\n      <td>0.0000</td>\n    </tr>\n    <tr>\n      <th rowspan=\"7\" valign=\"top\">True</th>\n      <th>observed</th>\n      <td>15.0000</td>\n      <td>0.0000</td>\n      <td>0.0000</td>\n      <td>0.0000</td>\n      <td>5.0000</td>\n      <td>0.0000</td>\n      <td>0.0000</td>\n      <td>1.0000</td>\n      <td>11.0000</td>\n      <td>0.0000</td>\n      <td>7.0000</td>\n      <td>143.0000</td>\n      <td>33.0000</td>\n      <td>1.0000</td>\n    </tr>\n    <tr>\n      <th>expected</th>\n      <td>0.9353</td>\n      <td>2.5721</td>\n      <td>0.0585</td>\n      <td>0.1169</td>\n      <td>1.9291</td>\n      <td>0.1169</td>\n      <td>0.4092</td>\n      <td>2.5721</td>\n      <td>21.6292</td>\n      <td>0.5261</td>\n      <td>3.2152</td>\n      <td>176.1905</td>\n      <td>2.3383</td>\n      <td>3.3905</td>\n    </tr>\n    <tr>\n      <th>residual</th>\n      <td>14.0647</td>\n      <td>-2.5721</td>\n      <td>-0.0585</td>\n      <td>-0.1169</td>\n      <td>3.0709</td>\n      <td>-0.1169</td>\n      <td>-0.4092</td>\n      <td>-1.5721</td>\n      <td>-10.6292</td>\n      <td>-0.5261</td>\n      <td>3.7848</td>\n      <td>-33.1905</td>\n      <td>30.6617</td>\n      <td>-2.3905</td>\n    </tr>\n    <tr>\n      <th>adj std residual</th>\n      <td>15.0201</td>\n      <td>-1.6628</td>\n      <td>-0.2492</td>\n      <td>-0.3525</td>\n      <td>2.2889</td>\n      <td>-0.3525</td>\n      <td>-0.6599</td>\n      <td>-1.0163</td>\n      <td>-2.4830</td>\n      <td>-0.7484</td>\n      <td>2.1917</td>\n      <td>-6.0026</td>\n      <td>20.7774</td>\n      <td>-1.3486</td>\n    </tr>\n    <tr>\n      <th>X^2</th>\n      <td>211.4952</td>\n      <td>2.5721</td>\n      <td>0.0585</td>\n      <td>0.1169</td>\n      <td>4.8885</td>\n      <td>0.1169</td>\n      <td>0.4092</td>\n      <td>0.9609</td>\n      <td>5.2235</td>\n      <td>0.5261</td>\n      <td>4.4555</td>\n      <td>6.2524</td>\n      <td>402.0623</td>\n      <td>1.6855</td>\n    </tr>\n    <tr>\n      <th>fdr q-value</th>\n      <td>0.0000</td>\n      <td>0.2003</td>\n      <td>0.3867</td>\n      <td>0.3867</td>\n      <td>0.0814</td>\n      <td>0.3867</td>\n      <td>0.3867</td>\n      <td>0.3703</td>\n      <td>0.0640</td>\n      <td>0.3867</td>\n      <td>0.0843</td>\n      <td>0.0000</td>\n      <td>0.0000</td>\n      <td>0.2812</td>\n    </tr>\n    <tr>\n      <th>flag_sig</th>\n      <td>1.0000</td>\n      <td>0.0000</td>\n      <td>0.0000</td>\n      <td>0.0000</td>\n      <td>0.0000</td>\n      <td>0.0000</td>\n      <td>0.0000</td>\n      <td>0.0000</td>\n      <td>0.0000</td>\n      <td>0.0000</td>\n      <td>0.0000</td>\n      <td>1.0000</td>\n      <td>1.0000</td>\n      <td>0.0000</td>\n    </tr>\n  </tbody>\n</table>\n</div>"
     },
     "metadata": {},
     "execution_count": 3
    }
   ],
   "source": [
    "display(Markdown(\"## Outlier Enrichment: Library Selection\"))\n",
    "chisq_res = joblib.load(\"../output/library_strategy-wf/outlier_and_library_selection_enrichment.pkl\")\n",
    "print(chisq_res[0])\n",
    "chisq_res[1]"
   ]
  },
  {
   "cell_type": "code",
   "execution_count": null,
   "metadata": {},
   "outputs": [],
   "source": []
  }
 ],
 "metadata": {
  "language_info": {
   "codemirror_mode": {
    "name": "ipython",
    "version": 3
   },
   "file_extension": ".py",
   "mimetype": "text/x-python",
   "name": "python",
   "nbconvert_exporter": "python",
   "pygments_lexer": "ipython3",
   "version": "3.7.3-final"
  },
  "orig_nbformat": 2,
  "kernelspec": {
   "name": "python3",
   "display_name": "Python 3"
  }
 },
 "nbformat": 4,
 "nbformat_minor": 2
}