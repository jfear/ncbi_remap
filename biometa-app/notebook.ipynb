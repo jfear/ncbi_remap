{
 "cells": [
  {
   "cell_type": "code",
   "execution_count": 4,
   "metadata": {},
   "outputs": [],
   "source": [
    "from pymongo import MongoClient\n",
    "import sqlite3\n",
    "import pandas as pd\n",
    "import joblib\n",
    "from IPython.display import display, Markdown"
   ]
  },
  {
   "cell_type": "code",
   "execution_count": 23,
   "metadata": {},
   "outputs": [
    {
     "output_type": "stream",
     "name": "stdout",
     "text": "13905\n"
    }
   ],
   "source": [
    "rnaseq_srxs = joblib.load(\"../output/library_strategy-wf/rnaseq_inliers.pkl\")\n",
    "print(len(rnaseq_srxs))"
   ]
  },
  {
   "cell_type": "code",
   "execution_count": 16,
   "metadata": {},
   "outputs": [],
   "source": [
    "# Mongo DataBase\n",
    "client = MongoClient()\n",
    "db = client[\"sramongo\"][\"ncbi\"]\n",
    "\n",
    "# SQLLite DataBase\n",
    "con = sqlite3.connect(\"../data/biometa.db\")\n",
    "cur = con.cursor()"
   ]
  },
  {
   "cell_type": "code",
   "execution_count": 20,
   "metadata": {},
   "outputs": [
    {
     "output_type": "display_data",
     "data": {
      "text/plain": "<IPython.core.display.Markdown object>",
      "text/markdown": "## Number of BioProjects"
     },
     "metadata": {}
    },
    {
     "output_type": "execute_result",
     "data": {
      "text/plain": "595"
     },
     "metadata": {},
     "execution_count": 20
    }
   ],
   "source": [
    "display(Markdown(\"## Number of BioProjects\"))\n",
    "next(db.aggregate([\n",
    "    {\n",
    "        \"$match\": {\n",
    "            \"srx\": {\"$in\": rnaseq_srxs}\n",
    "        }\n",
    "    },\n",
    "    {\n",
    "        \"$group\": {\n",
    "            \"_id\": \"$BioProject.accn\",\n",
    "            \"title\": {\"$first\": \"$BioProject.title\"}\n",
    "        }\n",
    "    },\n",
    "    {\"$count\": \"cnt\"}\n",
    "]))[\"cnt\"]"
   ]
  },
  {
   "cell_type": "code",
   "execution_count": 21,
   "metadata": {},
   "outputs": [
    {
     "output_type": "display_data",
     "data": {
      "text/plain": "<IPython.core.display.Markdown object>",
      "text/markdown": "## Number of BioSamples"
     },
     "metadata": {}
    },
    {
     "output_type": "execute_result",
     "data": {
      "text/plain": "12933"
     },
     "metadata": {},
     "execution_count": 21
    }
   ],
   "source": [
    "display(Markdown(\"## Number of BioSamples\"))\n",
    "next(db.aggregate([\n",
    "    {\n",
    "        \"$match\": {\n",
    "            \"srx\": {\"$in\": rnaseq_srxs}\n",
    "        }\n",
    "    },\n",
    "    {\n",
    "        \"$group\": {\n",
    "            \"_id\": \"$BioSample.accn\"\n",
    "        }\n",
    "    },\n",
    "    {\"$count\": \"cnt\"}\n",
    "]))[\"cnt\"]"
   ]
  },
  {
   "cell_type": "code",
   "execution_count": 22,
   "metadata": {},
   "outputs": [
    {
     "output_type": "display_data",
     "data": {
      "text/plain": "<IPython.core.display.Markdown object>",
      "text/markdown": "## Number of BioSamples Complete"
     },
     "metadata": {}
    },
    {
     "output_type": "execute_result",
     "data": {
      "text/plain": "776"
     },
     "metadata": {},
     "execution_count": 22
    }
   ],
   "source": [
    "display(Markdown(\"## Number of BioSamples Complete\"))\n",
    "cur.execute(\"SELECT * FROM biometa WHERE complete = 1\")\n",
    "len(cur.fetchall())"
   ]
  },
  {
   "cell_type": "code",
   "execution_count": null,
   "metadata": {},
   "outputs": [],
   "source": [
    "# Close database connections\n",
    "client.close()\n",
    "con.close()"
   ]
  }
 ],
 "metadata": {
  "language_info": {
   "codemirror_mode": {
    "name": "ipython",
    "version": 3
   },
   "file_extension": ".py",
   "mimetype": "text/x-python",
   "name": "python",
   "nbconvert_exporter": "python",
   "pygments_lexer": "ipython3",
   "version": "3.7.3-final"
  },
  "orig_nbformat": 2,
  "kernelspec": {
   "name": "python3",
   "display_name": "Python 3"
  }
 },
 "nbformat": 4,
 "nbformat_minor": 2
}