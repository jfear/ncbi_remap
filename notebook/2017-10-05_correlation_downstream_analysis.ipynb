{
 "cells": [
  {
   "cell_type": "markdown",
   "metadata": {},
   "source": [
    "# Correlation"
   ]
  },
  {
   "cell_type": "markdown",
   "metadata": {},
   "source": [
    "### Story\n",
    "SRA is hierarchically structures, with experiments (SRX) representing an individual library and runs (SRR) representing technical replicates of running a library on multiple lanes. It makes sense to collapse SRRs to the SRX level, but there is concern that sometimes SRRs within and SRX were are from separate libraries. To look for these types of relationships it makes sense to look at the correlation of SRRs within SRX and determine if they look like they are from the same library.\n",
    "\n",
    "### Questions and Tasks\n",
    "- [ ] Are there any examples where SRRs are poorly correlated?\n",
    "- [ ] Are there any other features that would suggest why these SRRs are not related?\n",
    "- [ ] Create a list of SRRs that are save to merge to the SRX.\n",
    "\n",
    "### Definition of done\n",
    "- [ ] A table flagging SRRs as being safe to merge."
   ]
  },
  {
   "cell_type": "code",
   "execution_count": 1,
   "metadata": {
    "code_folding": [
     0
    ]
   },
   "outputs": [
    {
     "name": "stdout",
     "output_type": "stream",
     "text": [
      "last updated: 2017-10-06 \n",
      "Git hash: 6981e4093c2e6b3d7a4e4ca51337c4f0c41a767e\n"
     ]
    }
   ],
   "source": [
    "# %load ../start.py\n",
    "# Load useful extensions\n",
    "\n",
    "# Activate the autoreload extension for easy reloading of external packages\n",
    "%reload_ext autoreload\n",
    "%autoreload 2\n",
    "\n",
    "# Trun on the water mark\n",
    "%reload_ext watermark\n",
    "%watermark -u -d -g\n",
    "\n",
    "# Load ipycache extension\n",
    "%reload_ext ipycache\n",
    "from ipycache import CacheMagics\n",
    "CacheMagics.cachedir = '../cachedir'\n",
    "\n",
    "# Add project library to path\n",
    "import sys\n",
    "sys.path.insert(0, '../../lib/python')\n",
    "\n",
    "# The usual suspects\n",
    "import os\n",
    "import numpy as np\n",
    "import pandas as pd\n",
    "\n",
    "# plotting\n",
    "import matplotlib as mpl\n",
    "import matplotlib.pyplot as plt\n",
    "import seaborn as sns\n",
    "\n",
    "%matplotlib inline\n",
    "sns.set_context('poster')\n",
    "\n",
    "# Turn off scientific notation\n",
    "np.set_printoptions(precision=5, suppress=True)\n"
   ]
  },
  {
   "cell_type": "code",
   "execution_count": 2,
   "metadata": {
    "code_folding": [
     0
    ],
    "collapsed": true
   },
   "outputs": [],
   "source": [
    "# %load ../../bin/load.py\n",
    "from pymongo import MongoClient\n",
    "with open('/home/fearjm/Projects/ncbi_remap/output/.mongodb_host', 'r') as fh:\n",
    "    host = fh.read().strip()\n",
    "client = MongoClient(host=host, port=27022)\n",
    "db = client['sra2']\n",
    "remap = db['remap']\n",
    "ncbi = db['ncbi']"
   ]
  },
  {
   "cell_type": "code",
   "execution_count": 3,
   "metadata": {
    "code_folding": [],
    "collapsed": true
   },
   "outputs": [],
   "source": [
    "# Other imports\n",
    "from itertools import combinations\n",
    "\n",
    "from sklearn.preprocessing import StandardScaler\n",
    "\n",
    "import dask.multiprocessing\n",
    "import dask.dataframe as dd\n",
    "from dask.delayed import delayed\n",
    "\n",
    "from ncbi_remap.parser import parse_featureCounts_counts"
   ]
  },
  {
   "cell_type": "code",
   "execution_count": 4,
   "metadata": {
    "collapsed": true
   },
   "outputs": [],
   "source": [
    "fname = '../../output/prealignment/raw/{srx}/{srr}/{srr}.hisat2.bam.feature_counts.counts'"
   ]
  },
  {
   "cell_type": "code",
   "execution_count": 65,
   "metadata": {
    "code_folding": [
     6
    ],
    "collapsed": true
   },
   "outputs": [],
   "source": [
    "def wrapper(srx, srr, fname):\n",
    "    df = parse_featureCounts_counts(srr, fname)\n",
    "    return df.unstack(level=0)\n",
    "\n",
    "def wrapper2(srx, srr, fname):\n",
    "    df = parse_featureCounts_counts(srr, fname).to_frame().reset_index()\n",
    "    df.rename(columns={'sample': 'srr'}, inplace=True)\n",
    "    df['srx'] = srx\n",
    "    return df"
   ]
  },
  {
   "cell_type": "code",
   "execution_count": 5,
   "metadata": {
    "code_folding": [
     0
    ],
    "collapsed": true
   },
   "outputs": [],
   "source": [
    "samples = [(x['_id'], x['srr']) for x in remap.aggregate([\n",
    "    {'$unwind': '$runs'},\n",
    "    {\n",
    "        '$match': {\n",
    "            'runs.pre_aln_flags': 'complete'\n",
    "        }\n",
    "    },\n",
    "    {\n",
    "        '$project': {\n",
    "           '_id': 0,\n",
    "            'srx': '$srx',\n",
    "            'srr': '$runs.srr'\n",
    "        }\n",
    "    }, \n",
    "    {\n",
    "        '$group': {\n",
    "            '_id': '$srx',\n",
    "            'srr': {'$addToSet': '$srr'},\n",
    "        }\n",
    "    },\n",
    "    {\n",
    "        '$sort': {\n",
    "            'srx': 1,\n",
    "            'srr': 1\n",
    "        }\n",
    "    }\n",
    "])]"
   ]
  },
  {
   "cell_type": "code",
   "execution_count": 6,
   "metadata": {
    "collapsed": true
   },
   "outputs": [],
   "source": [
    "for srx, srrs in samples:\n",
    "    if len(srrs) > 1:\n",
    "        break"
   ]
  },
  {
   "cell_type": "code",
   "execution_count": 7,
   "metadata": {},
   "outputs": [
    {
     "data": {
      "text/plain": [
       "('ERX1172343',\n",
       " ['ERR1092794',\n",
       "  'ERR1092789',\n",
       "  'ERR1092790',\n",
       "  'ERR1092793',\n",
       "  'ERR1092791',\n",
       "  'ERR1092792'])"
      ]
     },
     "execution_count": 7,
     "metadata": {},
     "output_type": "execute_result"
    }
   ],
   "source": [
    "srx, srrs"
   ]
  },
  {
   "cell_type": "code",
   "execution_count": 66,
   "metadata": {},
   "outputs": [],
   "source": [
    "dfs = [delayed(wrapper)(srx, srr, fname.format(srx=srx, srr=srr)) for srr in srrs if os.path.exists(fname.format(srx=srx, srr=srr))]"
   ]
  },
  {
   "cell_type": "code",
   "execution_count": 67,
   "metadata": {
    "collapsed": true
   },
   "outputs": [],
   "source": [
    "ddf = dfs[0].join(dfs[1:])"
   ]
  },
  {
   "cell_type": "code",
   "execution_count": 68,
   "metadata": {
    "collapsed": true
   },
   "outputs": [],
   "source": [
    "# normalize for library size (average per nucleotide)\n",
    "ddf_apn = ddf / ddf.sum() * 10**6"
   ]
  },
  {
   "cell_type": "code",
   "execution_count": 71,
   "metadata": {
    "collapsed": true
   },
   "outputs": [],
   "source": [
    "from scipy.spatial.distance import squareform, pdist"
   ]
  },
  {
   "cell_type": "code",
   "execution_count": 115,
   "metadata": {},
   "outputs": [],
   "source": [
    "combos = list(combinations(srrs, 2))\n",
    "corrs = [delayed(pdist)(ddf_apn[[x1, x2]].T, metric='correlation') for x1, x2 in combos]\n",
    "euc = [delayed(pdist)(ddf_apn[[x1, x2]].T, metric='euclidean') for x1, x2 in combos]"
   ]
  },
  {
   "cell_type": "code",
   "execution_count": 119,
   "metadata": {},
   "outputs": [],
   "source": [
    "corr_val = np.array(dd.compute(*corrs)).flatten()\n",
    "euc_val = np.array(dd.compute(*euc)).flatten()"
   ]
  },
  {
   "cell_type": "code",
   "execution_count": 117,
   "metadata": {},
   "outputs": [
    {
     "data": {
      "text/plain": [
       "('ERR1092794', 'ERR1092793')"
      ]
     },
     "execution_count": 117,
     "metadata": {},
     "output_type": "execute_result"
    }
   ],
   "source": [
    "combos[corr_val.argmax()]"
   ]
  },
  {
   "cell_type": "code",
   "execution_count": 118,
   "metadata": {},
   "outputs": [
    {
     "data": {
      "text/plain": [
       "array([ 0.00183,  0.00169,  0.00185,  0.00175,  0.00181,  0.00176,\n",
       "        0.00176,  0.0018 ,  0.00182,  0.00175,  0.00172,  0.00174,\n",
       "        0.00184,  0.00165,  0.00181])"
      ]
     },
     "execution_count": 118,
     "metadata": {},
     "output_type": "execute_result"
    }
   ],
   "source": [
    "corr_val"
   ]
  },
  {
   "cell_type": "code",
   "execution_count": 123,
   "metadata": {},
   "outputs": [
    {
     "data": {
      "text/plain": [
       "<matplotlib.axes._subplots.AxesSubplot at 0x2aac6b2a0d30>"
      ]
     },
     "execution_count": 123,
     "metadata": {},
     "output_type": "execute_result"
    },
    {
     "data": {
      "image/png": "[encoded data removed]",
      "text/plain": [
       "<matplotlib.figure.Figure at 0x2aac6a534550>"
      ]
     },
     "metadata": {},
     "output_type": "display_data"
    }
   ],
   "source": [
    "sns.heatmap(squareform(euc_val))"
   ]
  },
  {
   "cell_type": "code",
   "execution_count": 121,
   "metadata": {},
   "outputs": [
    {
     "data": {
      "text/html": [
       "<div>\n",
       "<table border=\"1\" class=\"dataframe\">\n",
       "  <thead>\n",
       "    <tr style=\"text-align: right;\">\n",
       "      <th>sample</th>\n",
       "      <th>ERR1092794</th>\n",
       "      <th>ERR1092789</th>\n",
       "      <th>ERR1092790</th>\n",
       "      <th>ERR1092793</th>\n",
       "      <th>ERR1092791</th>\n",
       "      <th>ERR1092792</th>\n",
       "    </tr>\n",
       "    <tr>\n",
       "      <th>FBgn</th>\n",
       "      <th></th>\n",
       "      <th></th>\n",
       "      <th></th>\n",
       "      <th></th>\n",
       "      <th></th>\n",
       "      <th></th>\n",
       "    </tr>\n",
       "  </thead>\n",
       "  <tbody>\n",
       "    <tr>\n",
       "      <th>FBgn0000003</th>\n",
       "      <td>3.560136</td>\n",
       "      <td>2.082753</td>\n",
       "      <td>1.763852</td>\n",
       "      <td>2.307798</td>\n",
       "      <td>2.048263</td>\n",
       "      <td>5.146039</td>\n",
       "    </tr>\n",
       "    <tr>\n",
       "      <th>FBgn0000008</th>\n",
       "      <td>163.511962</td>\n",
       "      <td>171.566777</td>\n",
       "      <td>162.526319</td>\n",
       "      <td>169.238537</td>\n",
       "      <td>164.885190</td>\n",
       "      <td>165.445168</td>\n",
       "    </tr>\n",
       "    <tr>\n",
       "      <th>FBgn0000014</th>\n",
       "      <td>152.068668</td>\n",
       "      <td>162.975421</td>\n",
       "      <td>167.061937</td>\n",
       "      <td>160.263766</td>\n",
       "      <td>153.619742</td>\n",
       "      <td>165.959772</td>\n",
       "    </tr>\n",
       "    <tr>\n",
       "      <th>FBgn0000015</th>\n",
       "      <td>335.924265</td>\n",
       "      <td>340.530113</td>\n",
       "      <td>340.927302</td>\n",
       "      <td>352.067441</td>\n",
       "      <td>348.460781</td>\n",
       "      <td>334.749866</td>\n",
       "    </tr>\n",
       "    <tr>\n",
       "      <th>FBgn0000017</th>\n",
       "      <td>240.309183</td>\n",
       "      <td>232.226958</td>\n",
       "      <td>227.032889</td>\n",
       "      <td>216.676612</td>\n",
       "      <td>233.502008</td>\n",
       "      <td>219.221281</td>\n",
       "    </tr>\n",
       "  </tbody>\n",
       "</table>\n",
       "</div>"
      ],
      "text/plain": [
       "sample       ERR1092794  ERR1092789  ERR1092790  ERR1092793  ERR1092791  \\\n",
       "FBgn                                                                      \n",
       "FBgn0000003    3.560136    2.082753    1.763852    2.307798    2.048263   \n",
       "FBgn0000008  163.511962  171.566777  162.526319  169.238537  164.885190   \n",
       "FBgn0000014  152.068668  162.975421  167.061937  160.263766  153.619742   \n",
       "FBgn0000015  335.924265  340.530113  340.927302  352.067441  348.460781   \n",
       "FBgn0000017  240.309183  232.226958  227.032889  216.676612  233.502008   \n",
       "\n",
       "sample       ERR1092792  \n",
       "FBgn                     \n",
       "FBgn0000003    5.146039  \n",
       "FBgn0000008  165.445168  \n",
       "FBgn0000014  165.959772  \n",
       "FBgn0000015  334.749866  \n",
       "FBgn0000017  219.221281  "
      ]
     },
     "execution_count": 121,
     "metadata": {},
     "output_type": "execute_result"
    }
   ],
   "source": [
    "ddf_apn.head().compute()"
   ]
  },
  {
   "cell_type": "code",
   "execution_count": null,
   "metadata": {
    "collapsed": true
   },
   "outputs": [],
   "source": []
  },
  {
   "cell_type": "code",
   "execution_count": null,
   "metadata": {
    "collapsed": true
   },
   "outputs": [],
   "source": []
  },
  {
   "cell_type": "code",
   "execution_count": null,
   "metadata": {
    "collapsed": true
   },
   "outputs": [],
   "source": []
  },
  {
   "cell_type": "code",
   "execution_count": null,
   "metadata": {
    "collapsed": true
   },
   "outputs": [],
   "source": []
  },
  {
   "cell_type": "code",
   "execution_count": null,
   "metadata": {
    "collapsed": true
   },
   "outputs": [],
   "source": []
  },
  {
   "cell_type": "code",
   "execution_count": null,
   "metadata": {
    "collapsed": true
   },
   "outputs": [],
   "source": []
  },
  {
   "cell_type": "code",
   "execution_count": null,
   "metadata": {
    "collapsed": true
   },
   "outputs": [],
   "source": []
  },
  {
   "cell_type": "code",
   "execution_count": 74,
   "metadata": {
    "collapsed": true
   },
   "outputs": [],
   "source": []
  },
  {
   "cell_type": "code",
   "execution_count": null,
   "metadata": {
    "collapsed": true
   },
   "outputs": [],
   "source": []
  },
  {
   "cell_type": "code",
   "execution_count": 6,
   "metadata": {
    "collapsed": true
   },
   "outputs": [],
   "source": [
    "srx, srr = samples[0]"
   ]
  },
  {
   "cell_type": "code",
   "execution_count": 9,
   "metadata": {
    "collapsed": true
   },
   "outputs": [],
   "source": [
    "dfs = [delayed(wrapper)(srx, srr, fname.format(srx=srx, srr=srr)) for srx, srr in samples[:100] if os.path.exists(fname.format(srx=srx, srr=srr))]\n",
    "ddf = dfs[0].join(dfs[1:])\n",
    "sample_corr = ddf.corr().compute()"
   ]
  },
  {
   "cell_type": "code",
   "execution_count": null,
   "metadata": {
    "collapsed": true
   },
   "outputs": [],
   "source": []
  },
  {
   "cell_type": "code",
   "execution_count": 12,
   "metadata": {},
   "outputs": [
    {
     "data": {
      "text/plain": [
       "<matplotlib.axes._subplots.AxesSubplot at 0x2aaccef75d30>"
      ]
     },
     "execution_count": 12,
     "metadata": {},
     "output_type": "execute_result"
    },
    {
     "data": {
      "image/png": "[encoded data removed]",
      "text/plain": [
       "<matplotlib.figure.Figure at 0x2aaccef75320>"
      ]
     },
     "metadata": {},
     "output_type": "display_data"
    }
   ],
   "source": [
    "fig, ax = plt.subplots(1, 1, figsize=(12, 10))\n",
    "sns.heatmap(sample_corr, xticklabels=False, yticklabels=False, ax=ax)"
   ]
  },
  {
   "cell_type": "code",
   "execution_count": 11,
   "metadata": {},
   "outputs": [
    {
     "data": {
      "text/plain": [
       "(100, 100)"
      ]
     },
     "execution_count": 11,
     "metadata": {},
     "output_type": "execute_result"
    }
   ],
   "source": [
    "sample_corr.shape"
   ]
  },
  {
   "cell_type": "code",
   "execution_count": 13,
   "metadata": {},
   "outputs": [
    {
     "data": {
      "text/html": [
       "<div>\n",
       "<table border=\"1\" class=\"dataframe\">\n",
       "  <thead>\n",
       "    <tr>\n",
       "      <th></th>\n",
       "      <th>DRX000774</th>\n",
       "      <th>DRX000775</th>\n",
       "      <th>DRX000998</th>\n",
       "      <th>DRX000999</th>\n",
       "      <th>DRX001000</th>\n",
       "      <th>DRX001001</th>\n",
       "      <th>DRX012753</th>\n",
       "      <th>DRX012754</th>\n",
       "      <th>DRX012755</th>\n",
       "      <th>DRX013093</th>\n",
       "      <th>...</th>\n",
       "      <th>DRX042328</th>\n",
       "      <th>DRX042329</th>\n",
       "      <th>DRX042330</th>\n",
       "      <th>DRX042331</th>\n",
       "      <th>DRX042332</th>\n",
       "      <th>DRX042333</th>\n",
       "      <th>DRX042334</th>\n",
       "      <th>DRX042335</th>\n",
       "      <th>DRX042336</th>\n",
       "      <th>DRX042337</th>\n",
       "    </tr>\n",
       "    <tr>\n",
       "      <th></th>\n",
       "      <th>DRR001177</th>\n",
       "      <th>DRR001178</th>\n",
       "      <th>DRR001444</th>\n",
       "      <th>DRR001445</th>\n",
       "      <th>DRR001446</th>\n",
       "      <th>DRR001447</th>\n",
       "      <th>DRR014222</th>\n",
       "      <th>DRR014223</th>\n",
       "      <th>DRR014224</th>\n",
       "      <th>DRR014573</th>\n",
       "      <th>...</th>\n",
       "      <th>DRR047040</th>\n",
       "      <th>DRR047041</th>\n",
       "      <th>DRR047042</th>\n",
       "      <th>DRR047043</th>\n",
       "      <th>DRR047044</th>\n",
       "      <th>DRR047045</th>\n",
       "      <th>DRR047046</th>\n",
       "      <th>DRR047047</th>\n",
       "      <th>DRR047048</th>\n",
       "      <th>DRR047049</th>\n",
       "    </tr>\n",
       "    <tr>\n",
       "      <th>FBgn</th>\n",
       "      <th></th>\n",
       "      <th></th>\n",
       "      <th></th>\n",
       "      <th></th>\n",
       "      <th></th>\n",
       "      <th></th>\n",
       "      <th></th>\n",
       "      <th></th>\n",
       "      <th></th>\n",
       "      <th></th>\n",
       "      <th></th>\n",
       "      <th></th>\n",
       "      <th></th>\n",
       "      <th></th>\n",
       "      <th></th>\n",
       "      <th></th>\n",
       "      <th></th>\n",
       "      <th></th>\n",
       "      <th></th>\n",
       "      <th></th>\n",
       "      <th></th>\n",
       "    </tr>\n",
       "  </thead>\n",
       "  <tbody>\n",
       "    <tr>\n",
       "      <th>FBgn0031081</th>\n",
       "      <td>0</td>\n",
       "      <td>0</td>\n",
       "      <td>679</td>\n",
       "      <td>166</td>\n",
       "      <td>615</td>\n",
       "      <td>460</td>\n",
       "      <td>110</td>\n",
       "      <td>7</td>\n",
       "      <td>62</td>\n",
       "      <td>0</td>\n",
       "      <td>...</td>\n",
       "      <td>0</td>\n",
       "      <td>0</td>\n",
       "      <td>0</td>\n",
       "      <td>0</td>\n",
       "      <td>0</td>\n",
       "      <td>0</td>\n",
       "      <td>0</td>\n",
       "      <td>0</td>\n",
       "      <td>0</td>\n",
       "      <td>0</td>\n",
       "    </tr>\n",
       "    <tr>\n",
       "      <th>FBgn0052826</th>\n",
       "      <td>4</td>\n",
       "      <td>2</td>\n",
       "      <td>30</td>\n",
       "      <td>4</td>\n",
       "      <td>10</td>\n",
       "      <td>5</td>\n",
       "      <td>0</td>\n",
       "      <td>0</td>\n",
       "      <td>0</td>\n",
       "      <td>0</td>\n",
       "      <td>...</td>\n",
       "      <td>0</td>\n",
       "      <td>0</td>\n",
       "      <td>0</td>\n",
       "      <td>0</td>\n",
       "      <td>0</td>\n",
       "      <td>0</td>\n",
       "      <td>0</td>\n",
       "      <td>0</td>\n",
       "      <td>0</td>\n",
       "      <td>0</td>\n",
       "    </tr>\n",
       "    <tr>\n",
       "      <th>FBgn0031085</th>\n",
       "      <td>0</td>\n",
       "      <td>0</td>\n",
       "      <td>221</td>\n",
       "      <td>37</td>\n",
       "      <td>120</td>\n",
       "      <td>85</td>\n",
       "      <td>474</td>\n",
       "      <td>574</td>\n",
       "      <td>267</td>\n",
       "      <td>0</td>\n",
       "      <td>...</td>\n",
       "      <td>0</td>\n",
       "      <td>0</td>\n",
       "      <td>0</td>\n",
       "      <td>0</td>\n",
       "      <td>0</td>\n",
       "      <td>0</td>\n",
       "      <td>0</td>\n",
       "      <td>0</td>\n",
       "      <td>0</td>\n",
       "      <td>0</td>\n",
       "    </tr>\n",
       "    <tr>\n",
       "      <th>FBgn0062565</th>\n",
       "      <td>0</td>\n",
       "      <td>0</td>\n",
       "      <td>104</td>\n",
       "      <td>1</td>\n",
       "      <td>17</td>\n",
       "      <td>12</td>\n",
       "      <td>0</td>\n",
       "      <td>0</td>\n",
       "      <td>1</td>\n",
       "      <td>0</td>\n",
       "      <td>...</td>\n",
       "      <td>0</td>\n",
       "      <td>0</td>\n",
       "      <td>0</td>\n",
       "      <td>0</td>\n",
       "      <td>0</td>\n",
       "      <td>0</td>\n",
       "      <td>0</td>\n",
       "      <td>0</td>\n",
       "      <td>0</td>\n",
       "      <td>0</td>\n",
       "    </tr>\n",
       "    <tr>\n",
       "      <th>FBgn0031088</th>\n",
       "      <td>0</td>\n",
       "      <td>0</td>\n",
       "      <td>446</td>\n",
       "      <td>70</td>\n",
       "      <td>242</td>\n",
       "      <td>179</td>\n",
       "      <td>2</td>\n",
       "      <td>0</td>\n",
       "      <td>4</td>\n",
       "      <td>0</td>\n",
       "      <td>...</td>\n",
       "      <td>0</td>\n",
       "      <td>0</td>\n",
       "      <td>0</td>\n",
       "      <td>0</td>\n",
       "      <td>0</td>\n",
       "      <td>0</td>\n",
       "      <td>0</td>\n",
       "      <td>0</td>\n",
       "      <td>0</td>\n",
       "      <td>0</td>\n",
       "    </tr>\n",
       "  </tbody>\n",
       "</table>\n",
       "<p>5 rows × 100 columns</p>\n",
       "</div>"
      ],
      "text/plain": [
       "            DRX000774 DRX000775 DRX000998 DRX000999 DRX001000 DRX001001  \\\n",
       "            DRR001177 DRR001178 DRR001444 DRR001445 DRR001446 DRR001447   \n",
       "FBgn                                                                      \n",
       "FBgn0031081         0         0       679       166       615       460   \n",
       "FBgn0052826         4         2        30         4        10         5   \n",
       "FBgn0031085         0         0       221        37       120        85   \n",
       "FBgn0062565         0         0       104         1        17        12   \n",
       "FBgn0031088         0         0       446        70       242       179   \n",
       "\n",
       "            DRX012753 DRX012754 DRX012755 DRX013093    ...    DRX042328  \\\n",
       "            DRR014222 DRR014223 DRR014224 DRR014573    ...    DRR047040   \n",
       "FBgn                                                   ...                \n",
       "FBgn0031081       110         7        62         0    ...            0   \n",
       "FBgn0052826         0         0         0         0    ...            0   \n",
       "FBgn0031085       474       574       267         0    ...            0   \n",
       "FBgn0062565         0         0         1         0    ...            0   \n",
       "FBgn0031088         2         0         4         0    ...            0   \n",
       "\n",
       "            DRX042329 DRX042330 DRX042331 DRX042332 DRX042333 DRX042334  \\\n",
       "            DRR047041 DRR047042 DRR047043 DRR047044 DRR047045 DRR047046   \n",
       "FBgn                                                                      \n",
       "FBgn0031081         0         0         0         0         0         0   \n",
       "FBgn0052826         0         0         0         0         0         0   \n",
       "FBgn0031085         0         0         0         0         0         0   \n",
       "FBgn0062565         0         0         0         0         0         0   \n",
       "FBgn0031088         0         0         0         0         0         0   \n",
       "\n",
       "            DRX042335 DRX042336 DRX042337  \n",
       "            DRR047047 DRR047048 DRR047049  \n",
       "FBgn                                       \n",
       "FBgn0031081         0         0         0  \n",
       "FBgn0052826         0         0         0  \n",
       "FBgn0031085         0         0         0  \n",
       "FBgn0062565         0         0         0  \n",
       "FBgn0031088         0         0         0  \n",
       "\n",
       "[5 rows x 100 columns]"
      ]
     },
     "execution_count": 13,
     "metadata": {},
     "output_type": "execute_result"
    }
   ],
   "source": [
    "ddf.compute().head()"
   ]
  },
  {
   "cell_type": "code",
   "execution_count": 21,
   "metadata": {
    "collapsed": true
   },
   "outputs": [],
   "source": [
    "grp = pd.DataFrame(samples, columns=['srx', 'srr']).groupby('srx')"
   ]
  },
  {
   "cell_type": "code",
   "execution_count": 35,
   "metadata": {
    "collapsed": true
   },
   "outputs": [],
   "source": [
    "for srx, sd in grp:\n",
    "    if len(sd['srr'].values) >= 2:\n",
    "        break"
   ]
  },
  {
   "cell_type": "code",
   "execution_count": 36,
   "metadata": {},
   "outputs": [
    {
     "data": {
      "text/plain": [
       "'ERX1172343'"
      ]
     },
     "execution_count": 36,
     "metadata": {},
     "output_type": "execute_result"
    }
   ],
   "source": [
    "srx"
   ]
  },
  {
   "cell_type": "code",
   "execution_count": 39,
   "metadata": {},
   "outputs": [
    {
     "data": {
      "text/plain": [
       "array(['ERR1092789', 'ERR1092790', 'ERR1092791', 'ERR1092792',\n",
       "       'ERR1092793', 'ERR1092794'], dtype=object)"
      ]
     },
     "execution_count": 39,
     "metadata": {},
     "output_type": "execute_result"
    }
   ],
   "source": [
    "sd['srr'].values"
   ]
  },
  {
   "cell_type": "code",
   "execution_count": null,
   "metadata": {
    "collapsed": true
   },
   "outputs": [],
   "source": []
  },
  {
   "cell_type": "code",
   "execution_count": null,
   "metadata": {
    "collapsed": true
   },
   "outputs": [],
   "source": []
  },
  {
   "cell_type": "code",
   "execution_count": null,
   "metadata": {
    "collapsed": true
   },
   "outputs": [],
   "source": []
  },
  {
   "cell_type": "code",
   "execution_count": null,
   "metadata": {
    "collapsed": true
   },
   "outputs": [],
   "source": []
  },
  {
   "cell_type": "code",
   "execution_count": null,
   "metadata": {
    "collapsed": true
   },
   "outputs": [],
   "source": []
  },
  {
   "cell_type": "code",
   "execution_count": null,
   "metadata": {
    "collapsed": true
   },
   "outputs": [],
   "source": []
  },
  {
   "cell_type": "code",
   "execution_count": null,
   "metadata": {
    "collapsed": true
   },
   "outputs": [],
   "source": []
  },
  {
   "cell_type": "code",
   "execution_count": null,
   "metadata": {
    "collapsed": true
   },
   "outputs": [],
   "source": []
  },
  {
   "cell_type": "code",
   "execution_count": null,
   "metadata": {
    "collapsed": true
   },
   "outputs": [],
   "source": []
  },
  {
   "cell_type": "code",
   "execution_count": null,
   "metadata": {
    "collapsed": true
   },
   "outputs": [],
   "source": []
  },
  {
   "cell_type": "code",
   "execution_count": null,
   "metadata": {
    "collapsed": true
   },
   "outputs": [],
   "source": []
  },
  {
   "cell_type": "code",
   "execution_count": null,
   "metadata": {
    "collapsed": true
   },
   "outputs": [],
   "source": []
  },
  {
   "cell_type": "code",
   "execution_count": null,
   "metadata": {
    "collapsed": true
   },
   "outputs": [],
   "source": []
  },
  {
   "cell_type": "code",
   "execution_count": null,
   "metadata": {
    "collapsed": true
   },
   "outputs": [],
   "source": []
  },
  {
   "cell_type": "code",
   "execution_count": null,
   "metadata": {
    "collapsed": true
   },
   "outputs": [],
   "source": []
  }
 ],
 "metadata": {
  "kernelspec": {
   "display_name": "Python [conda env:ncbi_remap]",
   "language": "python",
   "name": "conda-env-ncbi_remap-py"
  },
  "language_info": {
   "codemirror_mode": {
    "name": "ipython",
    "version": 3
   },
   "file_extension": ".py",
   "mimetype": "text/x-python",
   "name": "python",
   "nbconvert_exporter": "python",
   "pygments_lexer": "ipython3",
   "version": "3.5.3"
  },
  "toc": {
   "nav_menu": {},
   "number_sections": false,
   "sideBar": true,
   "skip_h1_title": false,
   "toc_cell": false,
   "toc_position": {},
   "toc_section_display": "block",
   "toc_window_display": false
  }
 },
 "nbformat": 4,
 "nbformat_minor": 2
}
