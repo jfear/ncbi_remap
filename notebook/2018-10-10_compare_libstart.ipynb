{
 "cells": [
  {
   "cell_type": "code",
   "execution_count": 1,
   "metadata": {},
   "outputs": [],
   "source": [
    "# %load ../config/defaults.py\n",
    "import os\n",
    "import sys\n",
    "from pathlib import Path\n",
    "\n",
    "from IPython.display import display, HTML, Markdown\n",
    "import numpy as np\n",
    "import pandas as pd\n",
    "\n",
    "import matplotlib as mpl\n",
    "import matplotlib.pyplot as plt\n",
    "import seaborn as sns\n",
    "\n",
    "# Project level imports\n",
    "from ncbi_remap.notebook import Nb\n",
    "from ncbi_remap.plotting import make_figs"
   ]
  },
  {
   "cell_type": "code",
   "execution_count": 98,
   "metadata": {},
   "outputs": [
    {
     "name": "stdout",
     "output_type": "stream",
     "text": [
      "Please check output/fbgn2chrom.tsv. If it does not exist, run bin/fbgn2chrom.py\n",
      "last updated: 2018-10-12 \n",
      "Git hash: da3bbc4919814182d8c6894679de675c7d0adc44\n"
     ]
    }
   ],
   "source": [
    "# Setup notebook\n",
    "nbconfig = Nb.setup_notebook()"
   ]
  },
  {
   "cell_type": "code",
   "execution_count": 99,
   "metadata": {},
   "outputs": [],
   "source": [
    "# Connect to data store\n",
    "store = pd.HDFStore('../sra.h5', mode='r')"
   ]
  },
  {
   "cell_type": "code",
   "execution_count": 147,
   "metadata": {},
   "outputs": [],
   "source": [
    "libstrat = pd.read_parquet('../output/metadata-wf/select_library_strategy.parquet')"
   ]
  },
  {
   "cell_type": "code",
   "execution_count": 136,
   "metadata": {},
   "outputs": [
    {
     "data": {
      "text/plain": [
       "srx\n",
       "SRX026307     GRO-Seq|ChIP-Seq|RNA-Seq\n",
       "SRX1011104                     GRO-Seq\n",
       "SRX1011106                     GRO-Seq\n",
       "SRX1011107                     GRO-Seq\n",
       "SRX1011108                     GRO-Seq\n",
       "SRX1011109                     GRO-Seq\n",
       "SRX1033610                     GRO-Seq\n",
       "SRX1033611                     GRO-Seq\n",
       "SRX1033612                     GRO-Seq\n",
       "SRX1033613                     GRO-Seq\n",
       "SRX1120707                     GRO-Seq\n",
       "SRX1120708                     GRO-Seq\n",
       "SRX1120709                     GRO-Seq\n",
       "SRX1120710                     GRO-Seq\n",
       "SRX1120711                     GRO-Seq\n",
       "SRX1120712                     GRO-Seq\n",
       "SRX1120713                     GRO-Seq\n",
       "SRX1120714                     GRO-Seq\n",
       "SRX1120715                     GRO-Seq\n",
       "SRX1120716                     GRO-Seq\n",
       "SRX215615                      GRO-Seq\n",
       "SRX215616                      GRO-Seq\n",
       "SRX215617                      GRO-Seq\n",
       "SRX215618                      GRO-Seq\n",
       "SRX643398                      GRO-Seq\n",
       "SRX643399                      GRO-Seq\n",
       "SRX643400                      GRO-Seq\n",
       "SRX643401                      GRO-Seq\n",
       "SRX643402                      GRO-Seq\n",
       "SRX643403                      GRO-Seq\n",
       "Name: Fear_et_al_library_strategy, dtype: object"
      ]
     },
     "execution_count": 136,
     "metadata": {},
     "output_type": "execute_result"
    }
   ],
   "source": [
    "libstrat[libstrat.str.contains('GRO')]"
   ]
  },
  {
   "cell_type": "code",
   "execution_count": 137,
   "metadata": {},
   "outputs": [
    {
     "data": {
      "text/plain": [
       "srx\n",
       "SRX1562306    PRO-Seq\n",
       "SRX1562307    PRO-Seq\n",
       "SRX1562308    PRO-Seq\n",
       "SRX1562309    PRO-Seq\n",
       "SRX1562310    PRO-Seq\n",
       "SRX1562311    PRO-Seq\n",
       "SRX1562312    PRO-Seq\n",
       "SRX1562313    PRO-Seq\n",
       "SRX1562314    PRO-Seq\n",
       "SRX1562315    PRO-Seq\n",
       "SRX1562316    PRO-Seq\n",
       "SRX1562317    PRO-Seq\n",
       "SRX1775533    PRO-Seq\n",
       "SRX1775534    PRO-Seq\n",
       "SRX1997358    PRO-Seq\n",
       "SRX1997359    PRO-Seq\n",
       "SRX1997360    PRO-Seq\n",
       "SRX1997361    PRO-Seq\n",
       "SRX203291     PRO-Seq\n",
       "SRX203292     PRO-Seq\n",
       "SRX203294     PRO-Seq\n",
       "SRX203295     PRO-Seq\n",
       "SRX203296     PRO-Seq\n",
       "Name: Fear_et_al_library_strategy, dtype: object"
      ]
     },
     "execution_count": 137,
     "metadata": {},
     "output_type": "execute_result"
    }
   ],
   "source": [
    "libstrat[libstrat.str.contains('PRO')]"
   ]
  },
  {
   "cell_type": "code",
   "execution_count": 145,
   "metadata": {},
   "outputs": [
    {
     "data": {
      "text/plain": [
       "srx\n",
       "ERX1432621    4C-Seq|ChIP-Seq|WGS\n",
       "ERX1495767                 4C-Seq\n",
       "ERX364701                  4C-Seq\n",
       "ERX364702                  4C-Seq\n",
       "ERX364703                  4C-Seq\n",
       "ERX364704                  4C-Seq\n",
       "ERX364705                  4C-Seq\n",
       "ERX364706                  4C-Seq\n",
       "ERX364707                  4C-Seq\n",
       "ERX364708                  4C-Seq\n",
       "ERX364709                  4C-Seq\n",
       "ERX364710                  4C-Seq\n",
       "ERX364711                  4C-Seq\n",
       "ERX364712                  4C-Seq\n",
       "ERX364713                  4C-Seq\n",
       "ERX364714                  4C-Seq\n",
       "ERX364715                  4C-Seq\n",
       "ERX364716                  4C-Seq\n",
       "ERX364717                  4C-Seq\n",
       "ERX364718                  4C-Seq\n",
       "ERX364719                  4C-Seq\n",
       "ERX364720                  4C-Seq\n",
       "ERX364721                  4C-Seq\n",
       "ERX364722                  4C-Seq\n",
       "ERX364723                  4C-Seq\n",
       "ERX364724                  4C-Seq\n",
       "ERX364725                  4C-Seq\n",
       "ERX364726                  4C-Seq\n",
       "ERX364727                  4C-Seq\n",
       "ERX364728                  4C-Seq\n",
       "                     ...         \n",
       "SRX826294                  4C-Seq\n",
       "SRX826295                  4C-Seq\n",
       "SRX826296                  4C-Seq\n",
       "SRX826297                  4C-Seq\n",
       "SRX826298                  4C-Seq\n",
       "SRX826299                  4C-Seq\n",
       "SRX826300                  4C-Seq\n",
       "SRX826301                  4C-Seq\n",
       "SRX826303                  4C-Seq\n",
       "SRX826304                  4C-Seq\n",
       "SRX826307                  4C-Seq\n",
       "SRX826308                  4C-Seq\n",
       "SRX826309                  4C-Seq\n",
       "SRX826310                  4C-Seq\n",
       "SRX826311                  4C-Seq\n",
       "SRX826312                  4C-Seq\n",
       "SRX826313                  4C-Seq\n",
       "SRX826314                  4C-Seq\n",
       "SRX826315                  4C-Seq\n",
       "SRX826316                  4C-Seq\n",
       "SRX826317                  4C-Seq\n",
       "SRX826318                  4C-Seq\n",
       "SRX826319                  4C-Seq\n",
       "SRX826320                  4C-Seq\n",
       "SRX826321                  4C-Seq\n",
       "SRX826323                  4C-Seq\n",
       "SRX826324                  4C-Seq\n",
       "SRX826325                  4C-Seq\n",
       "SRX826326                  4C-Seq\n",
       "SRX826327                  4C-Seq\n",
       "Name: Fear_et_al_library_strategy, Length: 811, dtype: object"
      ]
     },
     "execution_count": 145,
     "metadata": {},
     "output_type": "execute_result"
    }
   ],
   "source": [
    "libstrat[libstrat.str.contains('4C')]"
   ]
  },
  {
   "cell_type": "code",
   "execution_count": 148,
   "metadata": {},
   "outputs": [],
   "source": [
    "libstrat.to_csv('~/library_strategy.tsv', sep='\\t')"
   ]
  },
  {
   "cell_type": "code",
   "execution_count": null,
   "metadata": {},
   "outputs": [],
   "source": []
  }
 ],
 "metadata": {
  "kernelspec": {
   "display_name": "Python [conda env:ncbi_remap]",
   "language": "python",
   "name": "conda-env-ncbi_remap-py"
  },
  "language_info": {
   "codemirror_mode": {
    "name": "ipython",
    "version": 3
   },
   "file_extension": ".py",
   "mimetype": "text/x-python",
   "name": "python",
   "nbconvert_exporter": "python",
   "pygments_lexer": "ipython3",
   "version": "3.6.5"
  }
 },
 "nbformat": 4,
 "nbformat_minor": 2
}
