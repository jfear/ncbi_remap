{
 "cells": [
  {
   "cell_type": "code",
   "execution_count": 20,
   "metadata": {},
   "outputs": [],
   "source": [
    "import sqlite3\n",
    "import pandas as pd"
   ]
  },
  {
   "cell_type": "code",
   "execution_count": 21,
   "metadata": {},
   "outputs": [],
   "source": [
    "con = sqlite3.connect(\"../data/biometa.db\")\n",
    "cur = con.cursor()\n",
    "# cur.execute(\"DELETE FROM biometa WHERE biosample = 'SAMD00116379'\")\n",
    "# con.commit()\n",
    "cur.execute(\"SELECT * from biometa\")\n",
    "\n",
    "df = pd.DataFrame(cur.fetchall(), columns=[\"biosample\", \"sex\", \"devel_stage\", \"tissue\", \"cell_line\", \"perturbed\", \"complete\"])\n",
    "\n",
    "con.close()"
   ]
  },
  {
   "cell_type": "code",
   "execution_count": 22,
   "metadata": {},
   "outputs": [],
   "source": [
    "df.sex.replace(\"\", \"No Information\").value_counts().to_frame().to_clipboard()"
   ]
  },
  {
   "cell_type": "code",
   "execution_count": 23,
   "metadata": {},
   "outputs": [],
   "source": [
    "df.devel_stage.replace(\"\", \"No Information\").value_counts().to_frame().sort_index().to_clipboard()"
   ]
  },
  {
   "cell_type": "code",
   "execution_count": 24,
   "metadata": {},
   "outputs": [],
   "source": [
    "df.tissue.replace(\"\", \"No Information\").value_counts().to_frame().sort_index().to_clipboard()"
   ]
  },
  {
   "cell_type": "code",
   "execution_count": 27,
   "metadata": {},
   "outputs": [],
   "source": [
    "df.cell_line.replace(\"\", \"No Information\").value_counts().to_frame().to_clipboard()"
   ]
  },
  {
   "cell_type": "code",
   "execution_count": null,
   "metadata": {},
   "outputs": [],
   "source": []
  }
 ],
 "metadata": {
  "language_info": {
   "codemirror_mode": {
    "name": "ipython",
    "version": 3
   },
   "file_extension": ".py",
   "mimetype": "text/x-python",
   "name": "python",
   "nbconvert_exporter": "python",
   "pygments_lexer": "ipython3",
   "version": "3.7.3-final"
  },
  "orig_nbformat": 2,
  "kernelspec": {
   "name": "python3",
   "display_name": "Python 3"
  }
 },
 "nbformat": 4,
 "nbformat_minor": 2
}