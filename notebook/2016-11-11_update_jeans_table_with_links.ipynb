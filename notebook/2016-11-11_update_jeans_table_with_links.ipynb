{
 "cells": [
  {
   "cell_type": "code",
   "execution_count": 1,
   "metadata": {
    "collapsed": false
   },
   "outputs": [],
   "source": [
    "import re\n",
    "import pandas as pd\n",
    "pd.options.display.max_columns = 999\n",
    "pd.options.display.max_colwidth = 100"
   ]
  },
  {
   "cell_type": "code",
   "execution_count": 2,
   "metadata": {
    "collapsed": false
   },
   "outputs": [],
   "source": [
    "df = pd.read_csv('../../data/jean/RunsDroso_4annot_9549_libraries.txt', sep='\\t', encoding=\"ISO-8859-1\")"
   ]
  },
  {
   "cell_type": "code",
   "execution_count": 3,
   "metadata": {
    "collapsed": true
   },
   "outputs": [],
   "source": [
    "SRR_URL = '=HYPERLINK(\"https://trace.ncbi.nlm.nih.gov/Traces/sra/?run={id}\",\"{id}\")'\n",
    "SRP_URL = '=HYPERLINK(\"https://trace.ncbi.nlm.nih.gov/Traces/sra/?study={id}\",\"{id}\")'\n",
    "PMID_URL = '=HYPERLINK(\"https://www.ncbi.nlm.nih.gov/pubmed/?term={id}\",\"{id}\")'\n",
    "BIOSAMPLE_URL = '=HYPERLINK(\"https://www.ncbi.nlm.nih.gov/biosample/{id}/\",\"{id}\")'\n",
    "\n",
    "def makeURL(x, URL, type=None):\n",
    "    try:\n",
    "        if type == 'pmid':\n",
    "            return URL.format(id=x[2:])\n",
    "        else:\n",
    "            return URL.format(id=x)\n",
    "    except:\n",
    "        return x"
   ]
  },
  {
   "cell_type": "code",
   "execution_count": 4,
   "metadata": {
    "collapsed": false
   },
   "outputs": [],
   "source": [
    "df.iloc[:, 0] = df.iloc[:,0].map(lambda x: makeURL(x, SRR_URL))\n",
    "df.iloc[:, 2] = df.iloc[:,2].map(lambda x: makeURL(x, SRP_URL))\n",
    "df.iloc[:, 4] = df.iloc[:,4].map(lambda x: makeURL(x, PMID_URL, type='pmid'))\n",
    "df.iloc[:, 6] = df.iloc[:,6].map(lambda x: makeURL(x, BIOSAMPLE_URL))"
   ]
  },
  {
   "cell_type": "code",
   "execution_count": 5,
   "metadata": {
    "collapsed": false
   },
   "outputs": [],
   "source": [
    "df.to_excel('../../output/RunsDroso_4annot_9549_libraries.xls', index=False, na_rep='.')"
   ]
  },
  {
   "cell_type": "code",
   "execution_count": null,
   "metadata": {
    "collapsed": true
   },
   "outputs": [],
   "source": []
  }
 ],
 "metadata": {
  "kernelspec": {
   "display_name": "Python [conda env:ncbi_remap]",
   "language": "python",
   "name": "conda-env-ncbi_remap-py"
  },
  "language_info": {
   "codemirror_mode": {
    "name": "ipython",
    "version": 3
   },
   "file_extension": ".py",
   "mimetype": "text/x-python",
   "name": "python",
   "nbconvert_exporter": "python",
   "pygments_lexer": "ipython3",
   "version": "3.5.2"
  },
  "nav_menu": {},
  "toc": {
   "navigate_menu": true,
   "number_sections": true,
   "sideBar": true,
   "threshold": 6,
   "toc_cell": false,
   "toc_section_display": "block",
   "toc_window_display": false
  }
 },
 "nbformat": 4,
 "nbformat_minor": 0
}
