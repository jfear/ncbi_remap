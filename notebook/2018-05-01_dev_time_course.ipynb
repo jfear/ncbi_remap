{
 "cells": [
  {
   "cell_type": "markdown",
   "metadata": {},
   "source": [
    "# Developmental Time Course"
   ]
  },
  {
   "cell_type": "code",
   "execution_count": 1,
   "metadata": {},
   "outputs": [
    {
     "name": "stdout",
     "output_type": "stream",
     "text": [
      "Please check output/fbgn2chrom.tsv. If it does not exist, run bin/fbgn2chrom.py\n",
      "last updated: 2018-05-01 \n",
      "Git hash: 69e627d87b83358b44de6959a32570f5edba2b8c\n"
     ]
    }
   ],
   "source": [
    "import os\n",
    "import sys\n",
    "from pathlib import Path\n",
    "from textwrap import dedent\n",
    "\n",
    "from IPython.display import display, HTML, Markdown\n",
    "import numpy as np\n",
    "import pandas as pd\n",
    "\n",
    "import matplotlib as mpl\n",
    "import matplotlib.pyplot as plt\n",
    "import seaborn as sns\n",
    "\n",
    "# Project level imports\n",
    "sys.path.insert(0, '../lib')\n",
    "from ncbi_remap.notebook import Nb\n",
    "from ncbi_remap.plotting import make_figs\n",
    "\n",
    "# Setup notebook\n",
    "nbconfig = Nb.setup_notebook()\n",
    "\n",
    "# Connect to data store\n",
    "store = pd.HDFStore('../output/sra.h5', mode='r')"
   ]
  },
  {
   "cell_type": "code",
   "execution_count": 2,
   "metadata": {},
   "outputs": [],
   "source": [
    "from pymongo import MongoClient\n",
    "try:\n",
    "    with open('../output/.mongodb_host', 'r') as fh:\n",
    "        host = fh.read().strip()\n",
    "except FileNotFoundError:\n",
    "    host = 'localhost'\n",
    "\n",
    "mongoClient = MongoClient(host=host, port=27022)\n",
    "db = mongoClient['sra']\n",
    "ncbi = db['ncbi']\n",
    "biometa = db['biometa']"
   ]
  },
  {
   "cell_type": "code",
   "execution_count": 3,
   "metadata": {},
   "outputs": [],
   "source": [
    "# Get list of completed srx\n",
    "complete = store['aln/complete'].srx.unique().tolist()"
   ]
  },
  {
   "cell_type": "code",
   "execution_count": 4,
   "metadata": {},
   "outputs": [
    {
     "data": {
      "text/plain": [
       "24028"
      ]
     },
     "execution_count": 4,
     "metadata": {},
     "output_type": "execute_result"
    }
   ],
   "source": [
    "len(complete)"
   ]
  },
  {
   "cell_type": "code",
   "execution_count": 5,
   "metadata": {},
   "outputs": [],
   "source": [
    "passed = [x for x in store['prealn/qc_passed'].srx.unique().tolist() if x in complete]"
   ]
  },
  {
   "cell_type": "code",
   "execution_count": 6,
   "metadata": {},
   "outputs": [
    {
     "data": {
      "text/plain": [
       "17178"
      ]
     },
     "execution_count": 6,
     "metadata": {},
     "output_type": "execute_result"
    }
   ],
   "source": [
    "len(passed)"
   ]
  },
  {
   "cell_type": "code",
   "execution_count": 7,
   "metadata": {},
   "outputs": [],
   "source": [
    "rnaseq = [x['_id'] for x in ncbi.aggregate([\n",
    "    {\n",
    "        '$match': {\n",
    "            '_id': {'$in': passed},\n",
    "            'sra.experiment.library_strategy': 'RNA-Seq'\n",
    "        }\n",
    "    },\n",
    "    {\n",
    "        '$project': {\n",
    "            '_id': 1\n",
    "        }\n",
    "    }\n",
    "])]"
   ]
  },
  {
   "cell_type": "code",
   "execution_count": 8,
   "metadata": {},
   "outputs": [
    {
     "data": {
      "text/plain": [
       "10965"
      ]
     },
     "execution_count": 8,
     "metadata": {},
     "output_type": "execute_result"
    }
   ],
   "source": [
    "len(rnaseq)"
   ]
  },
  {
   "cell_type": "code",
   "execution_count": 13,
   "metadata": {},
   "outputs": [],
   "source": [
    "names = set([x['name'] for x in biometa.aggregate([\n",
    "    {\n",
    "        '$unwind': {\n",
    "            'path': '$sample_attributes'\n",
    "        }\n",
    "    },\n",
    "    {\n",
    "        '$match': {\n",
    "            'sample_attributes.name': {'$exists': 1}\n",
    "        }\n",
    "    },\n",
    "    {\n",
    "        '$project': {\n",
    "            '_id': 0,\n",
    "            'name': '$sample_attributes.name'\n",
    "        }\n",
    "    }\n",
    "])])"
   ]
  },
  {
   "cell_type": "code",
   "execution_count": 13,
   "metadata": {},
   "outputs": [],
   "source": [
    "# List some possible names to use\n",
    "\"age\"\n",
    "\"age_of_animals\"\n",
    "\"age_of_flies\"\n",
    "\"age_of_fly_in_days_post_eclosion\"\n",
    "\"ages\"\n",
    "\"biosamplemodel\"\n",
    "\"biosourceprovider\"\n",
    "\"biosourcetype\"\n",
    "\"days_after_eclosion\"\n",
    "\"developemntal_stage\"\n",
    "\"developmentalstage\"\n",
    "\"developmental_stage\"\n",
    "\"developmental_temperature\"\n",
    "\"developmental_time\"\n",
    "\"developmental_time_point\"\n",
    "\"development_point\"\n",
    "\"development_stage\"\n",
    "\"develpomental_stage\"\n",
    "\"dev_stage\"\n",
    "\"dev-stage\"\n",
    "\"embryonic_stage\"\n",
    "\"embryonic_stages\"\n",
    "\"embryonic_temperature\"\n",
    "\"embryos_hand-sorted_or_not\"\n",
    "\"embryos_per_sample\"\n",
    "\"gender/age\"\n",
    "\"gestational_age\"\n",
    "\"mating_status\"\n",
    "\"mating_system\"\n",
    "\"sex/age\"\n",
    "\"tissue_age\"\n",
    "\"tissue/development_stage\"\n",
    "\"tissue_source\""
   ]
  },
  {
   "cell_type": "code",
   "execution_count": 9,
   "metadata": {},
   "outputs": [],
   "source": [
    "dev_stage = [\n",
    "    \"developemntal_stage\",\n",
    "    \"developmentalstage\",\n",
    "    \"developmental_stage\",\n",
    "    \"development_point\",\n",
    "    \"development_stage\",\n",
    "    \"develpomental_stage\",\n",
    "    \"dev_stage\",\n",
    "    \"dev-stage\"\n",
    "]"
   ]
  },
  {
   "cell_type": "code",
   "execution_count": 10,
   "metadata": {},
   "outputs": [],
   "source": [
    "staged = list(set([x['_id'] for x in biometa.aggregate([\n",
    "    {\n",
    "        '$unwind': {\n",
    "            'path': '$experiments'\n",
    "        }\n",
    "    },\n",
    "    {\n",
    "        '$match': {\n",
    "            'experiments.srx': {'$in': rnaseq}\n",
    "        }\n",
    "    },\n",
    "    {\n",
    "        '$unwind': {\n",
    "            'path': '$sample_attributes'\n",
    "        }\n",
    "    },\n",
    "    {\n",
    "        '$match': {\n",
    "            'sample_attributes.name': {'$in': dev_stage}\n",
    "        }\n",
    "    },\n",
    "    {\n",
    "        '$group': {\n",
    "            '_id': '$experiments.srx'\n",
    "        }\n",
    "    },\n",
    "    {\n",
    "        '$project': {\n",
    "            '_id': 1,\n",
    "        }\n",
    "    }\n",
    "    \n",
    "])]))"
   ]
  },
  {
   "cell_type": "code",
   "execution_count": 11,
   "metadata": {},
   "outputs": [
    {
     "data": {
      "text/plain": [
       "4229"
      ]
     },
     "execution_count": 11,
     "metadata": {},
     "output_type": "execute_result"
    }
   ],
   "source": [
    "len(staged)"
   ]
  },
  {
   "cell_type": "code",
   "execution_count": 12,
   "metadata": {},
   "outputs": [],
   "source": [
    "biosamples = list(set([x['_id'] for x in biometa.aggregate([\n",
    "    {\n",
    "        '$unwind': {\n",
    "            'path': '$experiments'\n",
    "        }\n",
    "    },\n",
    "    {\n",
    "        '$match': {\n",
    "            'experiments.srx': {'$in': staged}\n",
    "        }\n",
    "    },\n",
    "    {\n",
    "        '$group': {\n",
    "            '_id': '$_id'\n",
    "        }\n",
    "    },\n",
    "])]))"
   ]
  },
  {
   "cell_type": "code",
   "execution_count": 13,
   "metadata": {},
   "outputs": [
    {
     "data": {
      "text/plain": [
       "3873"
      ]
     },
     "execution_count": 13,
     "metadata": {},
     "output_type": "execute_result"
    }
   ],
   "source": [
    "len(biosamples)"
   ]
  },
  {
   "cell_type": "code",
   "execution_count": 14,
   "metadata": {},
   "outputs": [],
   "source": [
    "keepers = list(biometa.find({'_id': {'$in': biosamples}}))"
   ]
  },
  {
   "cell_type": "code",
   "execution_count": 15,
   "metadata": {},
   "outputs": [
    {
     "data": {
      "text/plain": [
       "3873"
      ]
     },
     "execution_count": 15,
     "metadata": {},
     "output_type": "execute_result"
    }
   ],
   "source": [
    "len(keepers)"
   ]
  },
  {
   "cell_type": "code",
   "execution_count": 16,
   "metadata": {},
   "outputs": [
    {
     "data": {
      "text/plain": [
       "{'_id': 'SAMD00025834',\n",
       " 'bioproject': 'PRJDB3522',\n",
       " 'contacts': [],\n",
       " 'description': 'light condition: constant light',\n",
       " 'experiments': [{'runs': ['DRR030335'], 'srx': 'DRX027351'}],\n",
       " 'papers': [],\n",
       " 'sample_attributes': [{'name': 'collection_date', 'value': '2014-10-01'},\n",
       "  {'name': 'dev_stage', 'value': 'adult'},\n",
       "  {'name': 'strain', 'value': 'Dark-fly'},\n",
       "  {'name': 'tissue_type', 'value': 'whole'},\n",
       "  {'name': 'sample_name', 'value': 'D1'},\n",
       "  {'name': 'sex', 'value': 'female'},\n",
       "  {'name': 'tissue', 'value': 'whole'}],\n",
       " 'sample_title': 'Dark-fly_LL_1',\n",
       " 'srp': 'DRP003494',\n",
       " 'srs': 'DRS041155',\n",
       " 'study_abstract': 'Flies (Drosophila melanogater) of 4 strains (M: Oregon-R, D: Dark-fly, U: Urbana-S, R: RAL-774) were reared in three light conditions (1, 4, 7: constant light; 2, 5, 8: light/dark cycling; 3, 6, 9: constant dark). Total RNAs were extracted from whole bodies of adult females. RNA expression was compared between strains and between light conditions to reveal effects of genome x environment interaction.',\n",
       " 'study_title': 'Dark-fly_female_transcriptome',\n",
       " 'taxon_id': '7227'}"
      ]
     },
     "execution_count": 16,
     "metadata": {},
     "output_type": "execute_result"
    }
   ],
   "source": [
    "keepers[0]"
   ]
  },
  {
   "cell_type": "code",
   "execution_count": 17,
   "metadata": {},
   "outputs": [],
   "source": [
    "import json"
   ]
  },
  {
   "cell_type": "code",
   "execution_count": 18,
   "metadata": {},
   "outputs": [],
   "source": [
    "with open('../data/dev_stage.json') as fh:\n",
    "    res = json.loads(fh.read())"
   ]
  },
  {
   "cell_type": "code",
   "execution_count": 19,
   "metadata": {},
   "outputs": [],
   "source": [
    "clean = [x for x in res if 'study_title' not in x]"
   ]
  },
  {
   "cell_type": "code",
   "execution_count": 21,
   "metadata": {},
   "outputs": [
    {
     "data": {
      "text/plain": [
       "{'_id': 'SAMD00025834',\n",
       " 'sample_attributes': [{'name': 'dev_stage', 'value': 'adult stage'},\n",
       "  {'name': 'sample_name', 'value': 'D1'},\n",
       "  {'name': 'sex', 'value': 'female'},\n",
       "  {'name': 'tissue', 'value': 'whole body'}]}"
      ]
     },
     "execution_count": 21,
     "metadata": {},
     "output_type": "execute_result"
    }
   ],
   "source": [
    "clean[0]"
   ]
  },
  {
   "cell_type": "code",
   "execution_count": 22,
   "metadata": {},
   "outputs": [],
   "source": [
    "data = []\n",
    "for k in keepers:\n",
    "    dat = {\n",
    "        'biosample': k['_id'],\n",
    "        'description': k.get('description', ''),\n",
    "        'sample_title': k.get('study_title', ''),\n",
    "        'study_abstract': k.get('study_abstract', ''),\n",
    "    }\n",
    "    \n",
    "    if len(k['papers']) > 0:\n",
    "        dat['pmid'] = k['papers'][0]['pubmed_id']\n",
    "    else:\n",
    "        dat['pmid'] = ''\n",
    "        \n",
    "    for attr in k['sample_attributes']:\n",
    "        dat['author_' + attr['name']] = attr['value']\n",
    "    \n",
    "    data.append(dat)\n",
    "    \n",
    "df = pd.DataFrame(data)\n",
    "df.set_index('biosample', inplace=True)"
   ]
  },
  {
   "cell_type": "code",
   "execution_count": 23,
   "metadata": {},
   "outputs": [],
   "source": [
    "data = []\n",
    "for k in clean:\n",
    "    dat = {'biosample': k['_id']}\n",
    "    for attr in k['sample_attributes']:\n",
    "        dat['nih_' + attr['name']] = attr['value']\n",
    "        \n",
    "    data.append(dat)\n",
    "        \n",
    "df2 = pd.DataFrame(data)\n",
    "df2.set_index('biosample', inplace=True)"
   ]
  },
  {
   "cell_type": "code",
   "execution_count": 24,
   "metadata": {},
   "outputs": [],
   "source": [
    "biosample2srx = [(x['_id'], x['biosample'][0]['biosample_accn']) for x in ncbi.find({'_id': {'$in': staged}}, {'_id': 1, 'biosample.biosample_accn': 1})]"
   ]
  },
  {
   "cell_type": "code",
   "execution_count": 25,
   "metadata": {},
   "outputs": [],
   "source": [
    "mapper = pd.DataFrame(biosample2srx, columns=['srx', 'biosample'])\n",
    "mapper.set_index('biosample', inplace=True)"
   ]
  },
  {
   "cell_type": "code",
   "execution_count": 26,
   "metadata": {},
   "outputs": [],
   "source": [
    "metadata = mapper.join(df2).join(df).reset_index().set_index('srx')"
   ]
  },
  {
   "cell_type": "code",
   "execution_count": 27,
   "metadata": {},
   "outputs": [
    {
     "data": {
      "text/plain": [
       "(4229, 149)"
      ]
     },
     "execution_count": 27,
     "metadata": {},
     "output_type": "execute_result"
    }
   ],
   "source": [
    "metadata.shape"
   ]
  },
  {
   "cell_type": "code",
   "execution_count": 36,
   "metadata": {},
   "outputs": [],
   "source": [
    "cnts = []\n",
    "missing = []\n",
    "for srx in staged:\n",
    "    try:\n",
    "        dd = pd.read_parquet(f'../output/aln-wf/gene_counts/{srx}.parquet')\n",
    "        cnts.append(dd.reset_index().pivot('srx', 'FBgn'))\n",
    "    except:\n",
    "        missing.append(srx)\n",
    "dfCnts = pd.concat(cnts).T\n",
    "dfCnts.index = dfCnts.index.droplevel(0)"
   ]
  },
  {
   "cell_type": "code",
   "execution_count": 37,
   "metadata": {},
   "outputs": [
    {
     "data": {
      "text/html": [
       "<div>\n",
       "<style scoped>\n",
       "    .dataframe tbody tr th:only-of-type {\n",
       "        vertical-align: middle;\n",
       "    }\n",
       "\n",
       "    .dataframe tbody tr th {\n",
       "        vertical-align: top;\n",
       "    }\n",
       "\n",
       "    .dataframe thead th {\n",
       "        text-align: right;\n",
       "    }\n",
       "</style>\n",
       "<table border=\"1\" class=\"dataframe\">\n",
       "  <thead>\n",
       "    <tr style=\"text-align: right;\">\n",
       "      <th>srx</th>\n",
       "      <th>SRX193500</th>\n",
       "      <th>SRX146431</th>\n",
       "      <th>SRX1329269</th>\n",
       "      <th>SRX3145626</th>\n",
       "      <th>SRX1006095</th>\n",
       "      <th>SRX3526138</th>\n",
       "      <th>SRX674969</th>\n",
       "      <th>SRX1339396</th>\n",
       "      <th>SRX645263</th>\n",
       "      <th>SRX675335</th>\n",
       "      <th>...</th>\n",
       "      <th>SRX1000484</th>\n",
       "      <th>SRX1342081</th>\n",
       "      <th>SRX2878010</th>\n",
       "      <th>SRX1743455</th>\n",
       "      <th>SRX1006454</th>\n",
       "      <th>SRX1411408</th>\n",
       "      <th>SRX3327320</th>\n",
       "      <th>SRX2549141</th>\n",
       "      <th>SRX1006213</th>\n",
       "      <th>SRX1006364</th>\n",
       "    </tr>\n",
       "    <tr>\n",
       "      <th>FBgn</th>\n",
       "      <th></th>\n",
       "      <th></th>\n",
       "      <th></th>\n",
       "      <th></th>\n",
       "      <th></th>\n",
       "      <th></th>\n",
       "      <th></th>\n",
       "      <th></th>\n",
       "      <th></th>\n",
       "      <th></th>\n",
       "      <th></th>\n",
       "      <th></th>\n",
       "      <th></th>\n",
       "      <th></th>\n",
       "      <th></th>\n",
       "      <th></th>\n",
       "      <th></th>\n",
       "      <th></th>\n",
       "      <th></th>\n",
       "      <th></th>\n",
       "      <th></th>\n",
       "    </tr>\n",
       "  </thead>\n",
       "  <tbody>\n",
       "    <tr>\n",
       "      <th>FBgn0000003</th>\n",
       "      <td>3</td>\n",
       "      <td>510</td>\n",
       "      <td>0</td>\n",
       "      <td>0</td>\n",
       "      <td>76</td>\n",
       "      <td>0</td>\n",
       "      <td>0</td>\n",
       "      <td>1</td>\n",
       "      <td>1</td>\n",
       "      <td>5</td>\n",
       "      <td>...</td>\n",
       "      <td>4</td>\n",
       "      <td>4</td>\n",
       "      <td>0</td>\n",
       "      <td>0</td>\n",
       "      <td>2</td>\n",
       "      <td>1</td>\n",
       "      <td>490</td>\n",
       "      <td>0</td>\n",
       "      <td>2</td>\n",
       "      <td>1</td>\n",
       "    </tr>\n",
       "    <tr>\n",
       "      <th>FBgn0000008</th>\n",
       "      <td>621</td>\n",
       "      <td>919</td>\n",
       "      <td>17</td>\n",
       "      <td>365</td>\n",
       "      <td>182</td>\n",
       "      <td>8</td>\n",
       "      <td>107</td>\n",
       "      <td>9461</td>\n",
       "      <td>2077</td>\n",
       "      <td>81</td>\n",
       "      <td>...</td>\n",
       "      <td>9</td>\n",
       "      <td>280</td>\n",
       "      <td>158</td>\n",
       "      <td>64</td>\n",
       "      <td>15</td>\n",
       "      <td>59</td>\n",
       "      <td>76</td>\n",
       "      <td>325</td>\n",
       "      <td>0</td>\n",
       "      <td>97</td>\n",
       "    </tr>\n",
       "    <tr>\n",
       "      <th>FBgn0000014</th>\n",
       "      <td>2190</td>\n",
       "      <td>8</td>\n",
       "      <td>19</td>\n",
       "      <td>222</td>\n",
       "      <td>0</td>\n",
       "      <td>47</td>\n",
       "      <td>154</td>\n",
       "      <td>29</td>\n",
       "      <td>2</td>\n",
       "      <td>92</td>\n",
       "      <td>...</td>\n",
       "      <td>466</td>\n",
       "      <td>388</td>\n",
       "      <td>257</td>\n",
       "      <td>35</td>\n",
       "      <td>0</td>\n",
       "      <td>0</td>\n",
       "      <td>451</td>\n",
       "      <td>752</td>\n",
       "      <td>0</td>\n",
       "      <td>0</td>\n",
       "    </tr>\n",
       "    <tr>\n",
       "      <th>FBgn0000015</th>\n",
       "      <td>169</td>\n",
       "      <td>8</td>\n",
       "      <td>27</td>\n",
       "      <td>145</td>\n",
       "      <td>0</td>\n",
       "      <td>42</td>\n",
       "      <td>211</td>\n",
       "      <td>68</td>\n",
       "      <td>0</td>\n",
       "      <td>160</td>\n",
       "      <td>...</td>\n",
       "      <td>290</td>\n",
       "      <td>245</td>\n",
       "      <td>196</td>\n",
       "      <td>40</td>\n",
       "      <td>0</td>\n",
       "      <td>19</td>\n",
       "      <td>183</td>\n",
       "      <td>276</td>\n",
       "      <td>0</td>\n",
       "      <td>6</td>\n",
       "    </tr>\n",
       "    <tr>\n",
       "      <th>FBgn0000017</th>\n",
       "      <td>244</td>\n",
       "      <td>3321</td>\n",
       "      <td>76</td>\n",
       "      <td>8292</td>\n",
       "      <td>928</td>\n",
       "      <td>51</td>\n",
       "      <td>467</td>\n",
       "      <td>24434</td>\n",
       "      <td>4994</td>\n",
       "      <td>511</td>\n",
       "      <td>...</td>\n",
       "      <td>324</td>\n",
       "      <td>441</td>\n",
       "      <td>671</td>\n",
       "      <td>238</td>\n",
       "      <td>81</td>\n",
       "      <td>881</td>\n",
       "      <td>324</td>\n",
       "      <td>452</td>\n",
       "      <td>21</td>\n",
       "      <td>713</td>\n",
       "    </tr>\n",
       "  </tbody>\n",
       "</table>\n",
       "<p>5 rows × 4229 columns</p>\n",
       "</div>"
      ],
      "text/plain": [
       "srx          SRX193500  SRX146431  SRX1329269  SRX3145626  SRX1006095  \\\n",
       "FBgn                                                                    \n",
       "FBgn0000003          3        510           0           0          76   \n",
       "FBgn0000008        621        919          17         365         182   \n",
       "FBgn0000014       2190          8          19         222           0   \n",
       "FBgn0000015        169          8          27         145           0   \n",
       "FBgn0000017        244       3321          76        8292         928   \n",
       "\n",
       "srx          SRX3526138  SRX674969  SRX1339396  SRX645263  SRX675335  \\\n",
       "FBgn                                                                   \n",
       "FBgn0000003           0          0           1          1          5   \n",
       "FBgn0000008           8        107        9461       2077         81   \n",
       "FBgn0000014          47        154          29          2         92   \n",
       "FBgn0000015          42        211          68          0        160   \n",
       "FBgn0000017          51        467       24434       4994        511   \n",
       "\n",
       "srx             ...      SRX1000484  SRX1342081  SRX2878010  SRX1743455  \\\n",
       "FBgn            ...                                                       \n",
       "FBgn0000003     ...               4           4           0           0   \n",
       "FBgn0000008     ...               9         280         158          64   \n",
       "FBgn0000014     ...             466         388         257          35   \n",
       "FBgn0000015     ...             290         245         196          40   \n",
       "FBgn0000017     ...             324         441         671         238   \n",
       "\n",
       "srx          SRX1006454  SRX1411408  SRX3327320  SRX2549141  SRX1006213  \\\n",
       "FBgn                                                                      \n",
       "FBgn0000003           2           1         490           0           2   \n",
       "FBgn0000008          15          59          76         325           0   \n",
       "FBgn0000014           0           0         451         752           0   \n",
       "FBgn0000015           0          19         183         276           0   \n",
       "FBgn0000017          81         881         324         452          21   \n",
       "\n",
       "srx          SRX1006364  \n",
       "FBgn                     \n",
       "FBgn0000003           1  \n",
       "FBgn0000008          97  \n",
       "FBgn0000014           0  \n",
       "FBgn0000015           6  \n",
       "FBgn0000017         713  \n",
       "\n",
       "[5 rows x 4229 columns]"
      ]
     },
     "execution_count": 37,
     "metadata": {},
     "output_type": "execute_result"
    }
   ],
   "source": [
    "dfCnts.head()"
   ]
  },
  {
   "cell_type": "code",
   "execution_count": 38,
   "metadata": {},
   "outputs": [],
   "source": [
    "dfCnts.to_csv('../output/notebook/20180501_agg_gene_level_cnts.tsv', sep='\\t')"
   ]
  },
  {
   "cell_type": "code",
   "execution_count": 40,
   "metadata": {},
   "outputs": [],
   "source": [
    "metadata.loc[dfCnts.columns].to_csv('../output/notebook/20180501_metadata.tsv', sep='\\t')"
   ]
  },
  {
   "cell_type": "code",
   "execution_count": 41,
   "metadata": {},
   "outputs": [
    {
     "data": {
      "text/plain": [
       "(4229, 149)"
      ]
     },
     "execution_count": 41,
     "metadata": {},
     "output_type": "execute_result"
    }
   ],
   "source": [
    "metadata.shape"
   ]
  },
  {
   "cell_type": "code",
   "execution_count": 34,
   "metadata": {},
   "outputs": [],
   "source": [
    "missing = []\n",
    "for srx in complete:\n",
    "    if not Path(f\"../output/aln-wf/gene_counts/{srx}.parquet\").exists():\n",
    "        missing.append(srx)"
   ]
  },
  {
   "cell_type": "code",
   "execution_count": 35,
   "metadata": {},
   "outputs": [
    {
     "data": {
      "text/plain": [
       "4543"
      ]
     },
     "execution_count": 35,
     "metadata": {},
     "output_type": "execute_result"
    }
   ],
   "source": [
    "len(missing)"
   ]
  },
  {
   "cell_type": "code",
   "execution_count": null,
   "metadata": {},
   "outputs": [],
   "source": []
  }
 ],
 "metadata": {
  "kernelspec": {
   "display_name": "Python [conda env:ncbi_remap]",
   "language": "python",
   "name": "conda-env-ncbi_remap-py"
  },
  "language_info": {
   "codemirror_mode": {
    "name": "ipython",
    "version": 3
   },
   "file_extension": ".py",
   "mimetype": "text/x-python",
   "name": "python",
   "nbconvert_exporter": "python",
   "pygments_lexer": "ipython3",
   "version": "3.6.3"
  }
 },
 "nbformat": 4,
 "nbformat_minor": 2
}
