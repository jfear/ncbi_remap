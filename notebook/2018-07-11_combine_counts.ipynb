{
 "cells": [
  {
   "cell_type": "code",
   "execution_count": 1,
   "metadata": {},
   "outputs": [],
   "source": [
    "import os\n",
    "import sys\n",
    "from pathlib import Path\n",
    "\n",
    "from IPython.display import display, HTML, Markdown\n",
    "import numpy as np\n",
    "import pandas as pd\n",
    "\n",
    "import matplotlib as mpl\n",
    "import matplotlib.pyplot as plt\n",
    "import seaborn as sns\n",
    "\n",
    "from dask.distributed import Client\n",
    "from dask import delayed\n",
    "import dask.dataframe as dd\n",
    "\n",
    "# Project level imports\n",
    "sys.path.insert(0, '../lib')\n",
    "from ncbi_remap.notebook import Nb\n",
    "from ncbi_remap.plotting import make_figs\n",
    "\n",
    "# Connect to data store\n",
    "store = pd.HDFStore('../output/sra.h5', mode='r')\n",
    "samples = store['aln/complete'].srx.unique().tolist()\n",
    "store.close()"
   ]
  },
  {
   "cell_type": "code",
   "execution_count": 3,
   "metadata": {},
   "outputs": [],
   "source": [
    "from pymongo import MongoClient\n",
    "try:\n",
    "    with open('../output/.mongodb_host', 'r') as fh:\n",
    "        host = fh.read().strip()\n",
    "except FileNotFoundError:\n",
    "    host = 'localhost'\n",
    "\n",
    "mongoClient = MongoClient(host=host, port=27017)\n",
    "db = mongoClient['sramongo']\n",
    "ncbi = db['ncbi']"
   ]
  },
  {
   "cell_type": "code",
   "execution_count": 4,
   "metadata": {},
   "outputs": [],
   "source": [
    "rnaseq = [x['_id'] for x in ncbi.aggregate([\n",
    "    {\n",
    "        '$match': {\n",
    "            '_id': {'$in': samples},\n",
    "            'sra.experiment.library_strategy': 'RNA-Seq'\n",
    "        }\n",
    "    },\n",
    "    {\n",
    "        '$project': {\n",
    "            '_id': 1\n",
    "        }\n",
    "    }\n",
    "])]"
   ]
  },
  {
   "cell_type": "code",
   "execution_count": 5,
   "metadata": {},
   "outputs": [
    {
     "data": {
      "text/plain": [
       "14423"
      ]
     },
     "execution_count": 5,
     "metadata": {},
     "output_type": "execute_result"
    }
   ],
   "source": [
    "len(rnaseq)"
   ]
  },
  {
   "cell_type": "code",
   "execution_count": 6,
   "metadata": {},
   "outputs": [
    {
     "data": {
      "text/html": [
       "<table style=\"border: 2px solid white;\">\n",
       "<tr>\n",
       "<td style=\"vertical-align: top; border: 0px solid white\">\n",
       "<h3>Client</h3>\n",
       "<ul>\n",
       "  <li><b>Scheduler: </b>tcp://127.0.0.1:39073\n",
       "  <li><b>Dashboard: </b><a href='http://127.0.0.1:8787/status' target='_blank'>http://127.0.0.1:8787/status</a>\n",
       "</ul>\n",
       "</td>\n",
       "<td style=\"vertical-align: top; border: 0px solid white\">\n",
       "<h3>Cluster</h3>\n",
       "<ul>\n",
       "  <li><b>Workers: </b>8</li>\n",
       "  <li><b>Cores: </b>8</li>\n",
       "  <li><b>Memory: </b>26.14 GB</li>\n",
       "</ul>\n",
       "</td>\n",
       "</tr>\n",
       "</table>"
      ],
      "text/plain": [
       "<Client: scheduler='tcp://127.0.0.1:39073' processes=8 cores=8>"
      ]
     },
     "execution_count": 6,
     "metadata": {},
     "output_type": "execute_result"
    }
   ],
   "source": [
    "client = Client()\n",
    "client"
   ]
  },
  {
   "cell_type": "code",
   "execution_count": 7,
   "metadata": {},
   "outputs": [],
   "source": [
    "@delayed\n",
    "def read_parquet(fname):\n",
    "    df = pd.read_parquet(fname)\n",
    "    srx = df.srx.unique()[0]\n",
    "    sr = df['count']\n",
    "    sr.name = srx\n",
    "    return sr"
   ]
  },
  {
   "cell_type": "markdown",
   "metadata": {},
   "source": [
    "## Genic Counts"
   ]
  },
  {
   "cell_type": "code",
   "execution_count": 7,
   "metadata": {},
   "outputs": [],
   "source": [
    "work = []\n",
    "for srx in rnaseq[:5000]:\n",
    "    work.append(read_parquet(f'../output/aln-wf/gene_counts/{srx}.parquet'))\n",
    "futures = client.compute(work)\n",
    "df = pd.concat(client.gather(futures), axis=1)\n",
    "df.to_csv('../geo-wf/gene_counts_1.tsv', sep='\\t')"
   ]
  },
  {
   "cell_type": "code",
   "execution_count": 12,
   "metadata": {},
   "outputs": [],
   "source": [
    "work = []\n",
    "for srx in rnaseq[5000:10000]:\n",
    "    work.append(read_parquet(f'../output/aln-wf/gene_counts/{srx}.parquet'))\n",
    "futures = client.compute(work)\n",
    "df = pd.concat(client.gather(futures), axis=1)\n",
    "df.to_csv('../geo-wf/gene_counts_2.tsv', sep='\\t')"
   ]
  },
  {
   "cell_type": "code",
   "execution_count": 7,
   "metadata": {},
   "outputs": [],
   "source": [
    "work = []\n",
    "for srx in rnaseq[10000:]:\n",
    "    work.append(read_parquet(f'../output/aln-wf/gene_counts/{srx}.parquet'))\n",
    "futures = client.compute(work)\n",
    "df = pd.concat(client.gather(futures), axis=1)\n",
    "df.to_csv('../geo-wf/gene_counts_3.tsv', sep='\\t')"
   ]
  },
  {
   "cell_type": "code",
   "execution_count": 2,
   "metadata": {},
   "outputs": [],
   "source": [
    "df = pd.concat([pd.read_csv('../geo-wf/gene_counts_1.tsv', sep='\\t', index_col=0),\n",
    "           pd.read_csv('../geo-wf/gene_counts_2.tsv', sep='\\t', index_col=0),\n",
    "           pd.read_csv('../geo-wf/gene_counts_3.tsv', sep='\\t', index_col=0)], axis=1)\n",
    "\n",
    "df.to_csv('/media/psf/Promise_Pegasus/fearjm/ncbi_remap/geo-wf/justin.fear@nih.gov/gene_counts.tsv', sep='\\t')"
   ]
  },
  {
   "cell_type": "markdown",
   "metadata": {},
   "source": [
    "## Intergenic Counts"
   ]
  },
  {
   "cell_type": "code",
   "execution_count": 8,
   "metadata": {},
   "outputs": [],
   "source": [
    "work = []\n",
    "for srx in rnaseq[:5000]:\n",
    "    work.append(read_parquet(f'../output/aln-wf/intergenic_counts/{srx}.parquet'))\n",
    "futures = client.compute(work)\n",
    "df = pd.concat(client.gather(futures), axis=1)\n",
    "df.to_csv('../geo-wf/intergenic_counts_1.tsv', sep='\\t')"
   ]
  },
  {
   "cell_type": "code",
   "execution_count": 9,
   "metadata": {},
   "outputs": [],
   "source": [
    "work = []\n",
    "for srx in rnaseq[5000:10000]:\n",
    "    work.append(read_parquet(f'../output/aln-wf/intergenic_counts/{srx}.parquet'))\n",
    "futures = client.compute(work)\n",
    "df = pd.concat(client.gather(futures), axis=1)\n",
    "df.to_csv('../geo-wf/intergenic_counts_2.tsv', sep='\\t')"
   ]
  },
  {
   "cell_type": "code",
   "execution_count": 10,
   "metadata": {},
   "outputs": [],
   "source": [
    "work = []\n",
    "for srx in rnaseq[10000:]:\n",
    "    work.append(read_parquet(f'../output/aln-wf/intergenic_counts/{srx}.parquet'))\n",
    "futures = client.compute(work)\n",
    "df = pd.concat(client.gather(futures), axis=1)\n",
    "df.to_csv('../geo-wf/intergenic_counts_3.tsv', sep='\\t')"
   ]
  },
  {
   "cell_type": "code",
   "execution_count": 3,
   "metadata": {},
   "outputs": [],
   "source": [
    "df = pd.concat([pd.read_csv('../geo-wf/intergenic_counts_1.tsv', sep='\\t', index_col=0),\n",
    "           pd.read_csv('../geo-wf/intergenic_counts_2.tsv', sep='\\t', index_col=0),\n",
    "           pd.read_csv('../geo-wf/intergenic_counts_3.tsv', sep='\\t', index_col=0)], axis=1)\n",
    "\n",
    "df.to_csv('/media/psf/Promise_Pegasus/fearjm/ncbi_remap/geo-wf/justin.fear@nih.gov/intergenic_counts.tsv', sep='\\t')"
   ]
  },
  {
   "cell_type": "code",
   "execution_count": null,
   "metadata": {},
   "outputs": [],
   "source": []
  }
 ],
 "metadata": {
  "kernelspec": {
   "display_name": "Python [conda env:ncbi_remap]",
   "language": "python",
   "name": "conda-env-ncbi_remap-py"
  },
  "language_info": {
   "codemirror_mode": {
    "name": "ipython",
    "version": 3
   },
   "file_extension": ".py",
   "mimetype": "text/x-python",
   "name": "python",
   "nbconvert_exporter": "python",
   "pygments_lexer": "ipython3",
   "version": "3.6.5"
  }
 },
 "nbformat": 4,
 "nbformat_minor": 2
}
