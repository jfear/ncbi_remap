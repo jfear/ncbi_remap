{
 "cells": [
  {
   "cell_type": "markdown",
   "metadata": {},
   "source": [
    "# Moving alginment workflow"
   ]
  },
  {
   "cell_type": "markdown",
   "metadata": {
    "code_folding": []
   },
   "source": [
    "I have been refactoring the aln workflow. Now I want to move the output over to its new location. "
   ]
  },
  {
   "cell_type": "code",
   "execution_count": 1,
   "metadata": {},
   "outputs": [
    {
     "name": "stdout",
     "output_type": "stream",
     "text": [
      "last updated: 2017-10-25 \n",
      "Git hash: e60adc9f502e97e6e986666e21266bb33a51c5a1\n"
     ]
    }
   ],
   "source": [
    "# %load ../start.py\n",
    "# Load useful extensions\n",
    "\n",
    "# Activate the autoreload extension for easy reloading of external packages\n",
    "%reload_ext autoreload\n",
    "%autoreload 2\n",
    "\n",
    "# Trun on the water mark\n",
    "%reload_ext watermark\n",
    "%watermark -u -d -g\n",
    "\n",
    "# Load ipycache extension\n",
    "%reload_ext ipycache\n",
    "from ipycache import CacheMagics\n",
    "CacheMagics.cachedir = '../cachedir'\n",
    "\n",
    "# Add project library to path\n",
    "import sys\n",
    "sys.path.insert(0, '../../lib/python')\n",
    "\n",
    "# The usual suspects\n",
    "import os\n",
    "import numpy as np\n",
    "import pandas as pd\n",
    "\n",
    "# plotting\n",
    "import matplotlib as mpl\n",
    "import matplotlib.pyplot as plt\n",
    "import seaborn as sns\n",
    "\n",
    "%matplotlib inline\n",
    "sns.set_context('poster')\n",
    "\n",
    "# Turn off scientific notation\n",
    "np.set_printoptions(precision=5, suppress=True)\n"
   ]
  },
  {
   "cell_type": "code",
   "execution_count": 2,
   "metadata": {},
   "outputs": [],
   "source": [
    "# %load ../../bin/load.py\n",
    "from pymongo import MongoClient\n",
    "with open('/home/fearjm/Projects/ncbi_remap/output/.mongodb_host', 'r') as fh:\n",
    "    host = fh.read().strip()\n",
    "client = MongoClient(host=host, port=27022)\n",
    "db = client['sra2']\n",
    "remap = db['remap']\n"
   ]
  },
  {
   "cell_type": "code",
   "execution_count": 3,
   "metadata": {},
   "outputs": [],
   "source": [
    "import shutil\n",
    "from dask import delayed, compute\n",
    "from dask.diagnostics import ProgressBar"
   ]
  },
  {
   "cell_type": "code",
   "execution_count": 4,
   "metadata": {},
   "outputs": [],
   "source": [
    "store = pd.HDFStore('../../sra.h5', mode='r')"
   ]
  },
  {
   "cell_type": "code",
   "execution_count": 5,
   "metadata": {},
   "outputs": [],
   "source": [
    "def move(fname, srx=None, srr=None):\n",
    "    orig = os.path.join('../../output/alignment/raw/{srx}/{srr}', fname).format(srx=srx, srr=srr)\n",
    "    new = os.path.join('../../aln-wf/output/samples/{srx}/{srr}', fname).format(srx=srx, srr=srr)\n",
    "    os.makedirs(os.path.dirname(new), exist_ok=True)\n",
    "    \n",
    "    try:\n",
    "        shutil.move(orig, new)\n",
    "    except FileNotFoundError as e:\n",
    "        pass"
   ]
  },
  {
   "cell_type": "code",
   "execution_count": 6,
   "metadata": {},
   "outputs": [],
   "source": [
    "patterns = [\n",
    "    '{srr}_1.trim.clean.fastq.gz.log',\n",
    "    '{srr}.fq.bam.bamtools.stats',\n",
    "    '{srr}.fq.bam.counts',\n",
    "    '{srr}.fq.bam.counts.log',\n",
    "    '{srr}.fq.bam.counts.jcounts',\n",
    "    '{srr}.fq.bam.counts.summary',\n",
    "    '{srr}.fq.bam.log',\n",
    "    '{srr}.fq.bam.samtools.idxstats',\n",
    "    '{srr}.fq.bam.samtools.stats',\n",
    "    '{srr}.fq.bam.tsv',\n",
    "    'ALIGNMENT_BAD'\n",
    "]"
   ]
  },
  {
   "cell_type": "code",
   "execution_count": 7,
   "metadata": {},
   "outputs": [],
   "source": [
    "dfs = []\n",
    "for i, record in store['ids'].iterrows():\n",
    "    if os.path.exists('../../output/alignment/raw/{srx}/{srr}'.format(**record.to_dict())):\n",
    "        for p in patterns:\n",
    "            dfs.append(delayed(move)(p, **record.to_dict()))"
   ]
  },
  {
   "cell_type": "code",
   "execution_count": 9,
   "metadata": {},
   "outputs": [
    {
     "data": {
      "text/plain": [
       "55"
      ]
     },
     "execution_count": 9,
     "metadata": {},
     "output_type": "execute_result"
    }
   ],
   "source": [
    "len(dfs)"
   ]
  },
  {
   "cell_type": "code",
   "execution_count": 10,
   "metadata": {},
   "outputs": [
    {
     "name": "stdout",
     "output_type": "stream",
     "text": [
      "\r",
      "[                                        ] | 0% Completed |  0.0s\r",
      "[                                        ] | 1% Completed |  0.1s\r",
      "[##                                      ] | 7% Completed |  0.2s\r",
      "[###                                     ] | 9% Completed |  0.3s\r",
      "[###                                     ] | 9% Completed |  0.4s\r",
      "[######                                  ] | 16% Completed |  0.5s\r",
      "[#############################           ] | 74% Completed |  0.6s\r",
      "[##################################      ] | 87% Completed |  0.7s\r",
      "[#####################################   ] | 92% Completed |  0.8s\r",
      "[########################################] | 100% Completed |  0.9s\n"
     ]
    }
   ],
   "source": [
    "with ProgressBar():\n",
    "    compute(*dfs)"
   ]
  },
  {
   "cell_type": "code",
   "execution_count": 63,
   "metadata": {},
   "outputs": [],
   "source": [
    "def move(fname, srx=None):\n",
    "    orig = os.path.join('../../output/alignment/raw/{srx}', fname).format(srx=srx)\n",
    "    new = os.path.join('../../aln-wf/output/samples/{srx}', fname).format(srx=srx)\n",
    "    try:\n",
    "        shutil.move(orig, new)\n",
    "    except FileNotFoundError as e:\n",
    "        pass"
   ]
  },
  {
   "cell_type": "code",
   "execution_count": 64,
   "metadata": {},
   "outputs": [],
   "source": [
    "patterns = [\n",
    "    '{srx}.counts'\n",
    "]"
   ]
  },
  {
   "cell_type": "code",
   "execution_count": 65,
   "metadata": {},
   "outputs": [],
   "source": [
    "srxs = set(store['ids'].srx.tolist())"
   ]
  },
  {
   "cell_type": "code",
   "execution_count": 37,
   "metadata": {},
   "outputs": [],
   "source": [
    "dfs = []\n",
    "for srx in srxs:\n",
    "    if os.path.exists('../../output/alignment/raw/{srx}'.format(srx=srx)):\n",
    "        for p in patterns:\n",
    "            dfs.append(delayed(move)(p, srx=srx))"
   ]
  },
  {
   "cell_type": "code",
   "execution_count": 40,
   "metadata": {},
   "outputs": [
    {
     "name": "stdout",
     "output_type": "stream",
     "text": [
      "[########################################] | 100% Completed | 47min  9.4s\n"
     ]
    }
   ],
   "source": [
    "with ProgressBar():\n",
    "    compute(*dfs)"
   ]
  }
 ],
 "metadata": {
  "kernelspec": {
   "display_name": "Python [conda env:ncbi_remap]",
   "language": "python",
   "name": "conda-env-ncbi_remap-py"
  },
  "language_info": {
   "codemirror_mode": {
    "name": "ipython",
    "version": 3
   },
   "file_extension": ".py",
   "mimetype": "text/x-python",
   "name": "python",
   "nbconvert_exporter": "python",
   "pygments_lexer": "ipython3",
   "version": "3.5.4"
  },
  "toc": {
   "nav_menu": {},
   "number_sections": false,
   "sideBar": true,
   "skip_h1_title": false,
   "toc_cell": false,
   "toc_position": {},
   "toc_section_display": "block",
   "toc_window_display": false
  }
 },
 "nbformat": 4,
 "nbformat_minor": 2
}
