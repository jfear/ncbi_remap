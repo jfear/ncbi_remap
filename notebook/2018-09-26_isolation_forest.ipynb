{
 "cells": [
  {
   "cell_type": "code",
   "execution_count": 352,
   "metadata": {},
   "outputs": [],
   "source": [
    "import os\n",
    "import sys\n",
    "from pathlib import Path\n",
    "\n",
    "from IPython.display import display, HTML, Markdown\n",
    "import numpy as np\n",
    "import pandas as pd\n",
    "\n",
    "import matplotlib as mpl\n",
    "import matplotlib.pyplot as plt\n",
    "import seaborn as sns\n",
    "\n",
    "from sklearn.model_selection import train_test_split\n",
    "from sklearn.pipeline import Pipeline\n",
    "from sklearn.preprocessing import StandardScaler, LabelEncoder\n",
    "from sklearn.decomposition import PCA\n",
    "from sklearn.metrics import precision_score\n",
    "\n",
    "# Project level imports\n",
    "sys.path.insert(0, '../lib')\n",
    "from ncbi_remap.notebook import Nb\n",
    "from ncbi_remap.plotting import make_figs"
   ]
  },
  {
   "cell_type": "code",
   "execution_count": 353,
   "metadata": {},
   "outputs": [
    {
     "name": "stdout",
     "output_type": "stream",
     "text": [
      "Please check output/fbgn2chrom.tsv. If it does not exist, run bin/fbgn2chrom.py\n",
      "last updated: 2018-09-27 \n",
      "Git hash: 3e6018d790e56d8ccd70647a7eccff8c120a8e6d\n"
     ]
    }
   ],
   "source": [
    "# Setup notebook\n",
    "nbconfig = Nb.setup_notebook()"
   ]
  },
  {
   "cell_type": "code",
   "execution_count": 354,
   "metadata": {},
   "outputs": [],
   "source": [
    "# Connect to data store\n",
    "store = pd.HDFStore('../output/sra.h5', mode='r')"
   ]
  },
  {
   "cell_type": "code",
   "execution_count": 355,
   "metadata": {},
   "outputs": [],
   "source": [
    "complete_srx = store['aln/complete'].srx.unique().tolist()"
   ]
  },
  {
   "cell_type": "code",
   "execution_count": 356,
   "metadata": {},
   "outputs": [],
   "source": [
    "from pymongo import MongoClient\n",
    "try:\n",
    "    with open('../output/.mongodb_host', 'r') as fh:\n",
    "        host = fh.read().strip()\n",
    "except FileNotFoundError:\n",
    "    host = 'localhost'\n",
    "\n",
    "mongoClient = MongoClient(host=host, port=27017)\n",
    "db = mongoClient['sramongo']\n",
    "ncbi = db['ncbi']"
   ]
  },
  {
   "cell_type": "markdown",
   "metadata": {},
   "source": [
    "## Pull Out Library Strategy"
   ]
  },
  {
   "cell_type": "code",
   "execution_count": 357,
   "metadata": {},
   "outputs": [],
   "source": [
    "libstrat = pd.DataFrame(list(ncbi.aggregate([\n",
    "    {\n",
    "        '$match': {\n",
    "            '_id': {'$in': complete_srx},\n",
    "        }\n",
    "    },\n",
    "    {\n",
    "        '$unwind': {\n",
    "            'path': \"$runs\"\n",
    "        }\n",
    "    },\n",
    "    {\n",
    "        '$project': {\n",
    "            '_id': 0,\n",
    "            'srx': '$srx',\n",
    "            'srr': '$runs.srr',\n",
    "            'library_strategy': '$sra.experiment.library_strategy'\n",
    "        }\n",
    "    }\n",
    "]))).set_index(['srx', 'srr'])\n",
    "\n",
    "libstrat_srx = libstrat.reset_index().groupby('srx').first().library_strategy"
   ]
  },
  {
   "cell_type": "code",
   "execution_count": 358,
   "metadata": {},
   "outputs": [],
   "source": [
    "srrs = libstrat.index.get_level_values('srr')\n",
    "srxs = libstrat_srx.index"
   ]
  },
  {
   "cell_type": "markdown",
   "metadata": {},
   "source": [
    "## Build Feature Table"
   ]
  },
  {
   "cell_type": "code",
   "execution_count": 377,
   "metadata": {},
   "outputs": [],
   "source": [
    "# collect RNA-seq metrics\n",
    "cols = [\n",
    "    'PCT_CODING_BASES',\n",
    "    'PCT_UTR_BASES',\n",
    "    'PCT_INTRONIC_BASES',\n",
    "    'PCT_INTERGENIC_BASES',\n",
    "    'PCT_MRNA_BASES',\n",
    "    'MEDIAN_CV_COVERAGE',\n",
    "    'MEDIAN_5PRIME_BIAS',\n",
    "    'MEDIAN_3PRIME_BIAS'\n",
    "]\n",
    "\n",
    "cm = store.select('prealn/workflow/collectrnaseqmetrics/unstranded', where='srx == srxs', columns=cols)\n",
    "\n",
    "# collect RNA-seq metrics gene body coverage\n",
    "gb = store.select('prealn/workflow/collectrnaseqmetrics/genebody', where='srx == srxs')\n",
    "\n",
    "# markduplicates\n",
    "cols = [\n",
    "    'PERCENT_DUPLICATION',\n",
    "]\n",
    "\n",
    "mark = store.select('prealn/workflow/markduplicates', where='srx == srxs', columns=cols)\n",
    "\n",
    "# feature counts summary\n",
    "cols = [\n",
    "    'Assigned',\n",
    "    'Unassigned_Ambiguity',\n",
    "    'Unassigned_MultiMapping',\n",
    "    'Unassigned_NoFeatures',\n",
    "    'Unassigned_Unmapped'\n",
    "]\n",
    "\n",
    "feature_summary = store.select('prealn/workflow/feature_counts/summary', columns=cols, where='srx == srxs')\n",
    "\n",
    "# Munge together\n",
    "dat_by_srr = cm.join(gb).join(mark).join(feature_summary)\n",
    "dat_by_srr_no_na = dat_by_srr.fillna(dat_by_srr.mean().to_dict(), axis=0)\n",
    "dat_by_srr_no_na.shape\n",
    "\n",
    "# Coverage counts\n",
    "genic = pd.read_parquet('../output/aln-downstream-wf/aggregate_genic_counts.parquet').reindex(srxs)['count']\n",
    "genic.name = 'genic'\n",
    "genic = genic.astype(np.float64)\n",
    "\n",
    "intergenic = pd.read_parquet('../output/aln-downstream-wf/aggregate_intergenic_counts.parquet').reindex(srxs)['count']\n",
    "intergenic.name = 'intergenic'\n",
    "intergenic = intergenic.astype(np.float64)\n",
    "\n",
    "junctions = pd.read_parquet('../output/aln-downstream-wf/aggregate_junction_counts.parquet').reindex(srxs)['count']\n",
    "junctions.name = 'junctions'\n",
    "junctions = junctions.astype(np.float64)\n",
    "\n",
    "coverage = pd.concat([genic, intergenic, junctions], axis=1)\n",
    "\n",
    "# Make feature set with all features\n",
    "features = dat_by_srr_no_na.reset_index().groupby('srx').mean().join(coverage)"
   ]
  },
  {
   "cell_type": "code",
   "execution_count": 378,
   "metadata": {},
   "outputs": [],
   "source": [
    "# Only look at things we have features for\n",
    "Y = libstart_srx.reindex(features.index)\n",
    "\n",
    "# split out the OTHER category\n",
    "Y_OTHER = Y[Y == 'OTHER'].copy()\n",
    "features_OTHER = features.reindex(Y_OTHER.index).dropna()\n",
    "\n",
    "Y = Y[Y != 'OTHER'].copy()\n",
    "features = features.reindex(Y.index)"
   ]
  },
  {
   "cell_type": "code",
   "execution_count": 381,
   "metadata": {},
   "outputs": [],
   "source": [
    "# Encode labels\n",
    "encoder = LabelEncoder()\n",
    "Y_enc = encoder.fit_transform(Y)"
   ]
  },
  {
   "cell_type": "markdown",
   "metadata": {},
   "source": [
    "## Random Forest Classifier"
   ]
  },
  {
   "cell_type": "markdown",
   "metadata": {},
   "source": [
    "First I want to construct a random forest classifier that is trained on a subset of the data and can classify samples. I then look for instances where a sample appears to be mis classified.\n",
    "\n",
    "There is a small problem with train_test_split, because of differences in class size there are some classes that are missing from the training set. This throws an error when calling precision."
   ]
  },
  {
   "cell_type": "code",
   "execution_count": 425,
   "metadata": {},
   "outputs": [
    {
     "name": "stdout",
     "output_type": "stream",
     "text": [
      "0.971993846575\n"
     ]
    },
    {
     "name": "stderr",
     "output_type": "stream",
     "text": [
      "/home/fearjm/miniconda3/envs/ncbi_remap/lib/python3.6/site-packages/sklearn/metrics/classification.py:1143: UndefinedMetricWarning: Precision is ill-defined and being set to 0.0 in labels with no predicted samples.\n",
      "  'precision', 'predicted', average, warn_for)\n"
     ]
    }
   ],
   "source": [
    "# Make training and testing datasets\n",
    "X_train, X_test, Y_train, Y_test = train_test_split(features, Y_enc)\n",
    "\n",
    "# Run a random forest classifier\n",
    "from sklearn.ensemble import RandomForestClassifier\n",
    "\n",
    "classifier_pipeline = Pipeline([\n",
    "    ('scale', StandardScaler()),\n",
    "    ('clf', RandomForestClassifier(n_estimators=100, random_state=42))\n",
    "])\n",
    "\n",
    "classifier_pipeline.fit(X_train, Y_train)\n",
    "\n",
    "# Test\n",
    "Y_test_pred = classifier_pipeline.predict(X_test)\n",
    "print(precision_score(Y_test, Y_test_pred, average='weighted'))"
   ]
  },
  {
   "cell_type": "markdown",
   "metadata": {},
   "source": [
    "### Check for miss-classification"
   ]
  },
  {
   "cell_type": "code",
   "execution_count": 426,
   "metadata": {},
   "outputs": [],
   "source": [
    "miss = pd.DataFrame(dict(annot=encoder.inverse_transform(Y_enc), predicted=encoder.inverse_transform(Y_features)), index=features.index)\n",
    "random_forest_miss_classified = miss[miss.annot != miss.predicted].copy()"
   ]
  },
  {
   "cell_type": "code",
   "execution_count": 427,
   "metadata": {},
   "outputs": [
    {
     "data": {
      "text/html": [
       "<div>\n",
       "<style scoped>\n",
       "    .dataframe tbody tr th:only-of-type {\n",
       "        vertical-align: middle;\n",
       "    }\n",
       "\n",
       "    .dataframe tbody tr th {\n",
       "        vertical-align: top;\n",
       "    }\n",
       "\n",
       "    .dataframe thead th {\n",
       "        text-align: right;\n",
       "    }\n",
       "</style>\n",
       "<table border=\"1\" class=\"dataframe\">\n",
       "  <thead>\n",
       "    <tr style=\"text-align: right;\">\n",
       "      <th></th>\n",
       "      <th>annot</th>\n",
       "      <th>predicted</th>\n",
       "    </tr>\n",
       "    <tr>\n",
       "      <th>srx</th>\n",
       "      <th></th>\n",
       "      <th></th>\n",
       "    </tr>\n",
       "  </thead>\n",
       "  <tbody>\n",
       "    <tr>\n",
       "      <th>ERX278731</th>\n",
       "      <td>RNA-Seq</td>\n",
       "      <td>EST</td>\n",
       "    </tr>\n",
       "    <tr>\n",
       "      <th>SRX1006593</th>\n",
       "      <td>RNA-Seq</td>\n",
       "      <td>ChIP-Seq</td>\n",
       "    </tr>\n",
       "  </tbody>\n",
       "</table>\n",
       "</div>"
      ],
      "text/plain": [
       "              annot predicted\n",
       "srx                          \n",
       "ERX278731   RNA-Seq       EST\n",
       "SRX1006593  RNA-Seq  ChIP-Seq"
      ]
     },
     "execution_count": 427,
     "metadata": {},
     "output_type": "execute_result"
    }
   ],
   "source": [
    "random_forest_miss_classified.query('annot == \"RNA-Seq\"')"
   ]
  },
  {
   "cell_type": "code",
   "execution_count": 428,
   "metadata": {},
   "outputs": [
    {
     "data": {
      "text/html": [
       "<div>\n",
       "<style scoped>\n",
       "    .dataframe tbody tr th:only-of-type {\n",
       "        vertical-align: middle;\n",
       "    }\n",
       "\n",
       "    .dataframe tbody tr th {\n",
       "        vertical-align: top;\n",
       "    }\n",
       "\n",
       "    .dataframe thead th {\n",
       "        text-align: right;\n",
       "    }\n",
       "</style>\n",
       "<table border=\"1\" class=\"dataframe\">\n",
       "  <thead>\n",
       "    <tr style=\"text-align: right;\">\n",
       "      <th></th>\n",
       "      <th>annot</th>\n",
       "      <th>predicted</th>\n",
       "    </tr>\n",
       "    <tr>\n",
       "      <th>srx</th>\n",
       "      <th></th>\n",
       "      <th></th>\n",
       "    </tr>\n",
       "  </thead>\n",
       "  <tbody>\n",
       "    <tr>\n",
       "      <th>SRX046659</th>\n",
       "      <td>ChIP-Seq</td>\n",
       "      <td>WGS</td>\n",
       "    </tr>\n",
       "    <tr>\n",
       "      <th>SRX046660</th>\n",
       "      <td>ChIP-Seq</td>\n",
       "      <td>WGS</td>\n",
       "    </tr>\n",
       "    <tr>\n",
       "      <th>SRX1056719</th>\n",
       "      <td>ChIP-Seq</td>\n",
       "      <td>WGS</td>\n",
       "    </tr>\n",
       "    <tr>\n",
       "      <th>SRX1059356</th>\n",
       "      <td>ChIP-Seq</td>\n",
       "      <td>RNA-Seq</td>\n",
       "    </tr>\n",
       "    <tr>\n",
       "      <th>SRX1134694</th>\n",
       "      <td>ChIP-Seq</td>\n",
       "      <td>WGS</td>\n",
       "    </tr>\n",
       "    <tr>\n",
       "      <th>SRX1168458</th>\n",
       "      <td>ChIP-Seq</td>\n",
       "      <td>RNA-Seq</td>\n",
       "    </tr>\n",
       "    <tr>\n",
       "      <th>SRX2011093</th>\n",
       "      <td>ChIP-Seq</td>\n",
       "      <td>WGS</td>\n",
       "    </tr>\n",
       "    <tr>\n",
       "      <th>SRX2068664</th>\n",
       "      <td>ChIP-Seq</td>\n",
       "      <td>WGS</td>\n",
       "    </tr>\n",
       "    <tr>\n",
       "      <th>SRX215623</th>\n",
       "      <td>ChIP-Seq</td>\n",
       "      <td>WGS</td>\n",
       "    </tr>\n",
       "    <tr>\n",
       "      <th>SRX215629</th>\n",
       "      <td>ChIP-Seq</td>\n",
       "      <td>WGS</td>\n",
       "    </tr>\n",
       "    <tr>\n",
       "      <th>SRX306202</th>\n",
       "      <td>ChIP-Seq</td>\n",
       "      <td>WGS</td>\n",
       "    </tr>\n",
       "    <tr>\n",
       "      <th>SRX3166313</th>\n",
       "      <td>ChIP-Seq</td>\n",
       "      <td>WGS</td>\n",
       "    </tr>\n",
       "    <tr>\n",
       "      <th>SRX386287</th>\n",
       "      <td>ChIP-Seq</td>\n",
       "      <td>WGS</td>\n",
       "    </tr>\n",
       "    <tr>\n",
       "      <th>SRX511123</th>\n",
       "      <td>ChIP-Seq</td>\n",
       "      <td>RNA-Seq</td>\n",
       "    </tr>\n",
       "    <tr>\n",
       "      <th>SRX595765</th>\n",
       "      <td>ChIP-Seq</td>\n",
       "      <td>RNA-Seq</td>\n",
       "    </tr>\n",
       "    <tr>\n",
       "      <th>SRX595767</th>\n",
       "      <td>ChIP-Seq</td>\n",
       "      <td>RNA-Seq</td>\n",
       "    </tr>\n",
       "    <tr>\n",
       "      <th>SRX671954</th>\n",
       "      <td>ChIP-Seq</td>\n",
       "      <td>WGS</td>\n",
       "    </tr>\n",
       "    <tr>\n",
       "      <th>SRX859008</th>\n",
       "      <td>ChIP-Seq</td>\n",
       "      <td>WGS</td>\n",
       "    </tr>\n",
       "    <tr>\n",
       "      <th>SRX859010</th>\n",
       "      <td>ChIP-Seq</td>\n",
       "      <td>WGS</td>\n",
       "    </tr>\n",
       "    <tr>\n",
       "      <th>SRX883605</th>\n",
       "      <td>ChIP-Seq</td>\n",
       "      <td>RNA-Seq</td>\n",
       "    </tr>\n",
       "    <tr>\n",
       "      <th>SRX970862</th>\n",
       "      <td>ChIP-Seq</td>\n",
       "      <td>MNase-Seq</td>\n",
       "    </tr>\n",
       "  </tbody>\n",
       "</table>\n",
       "</div>"
      ],
      "text/plain": [
       "               annot  predicted\n",
       "srx                            \n",
       "SRX046659   ChIP-Seq        WGS\n",
       "SRX046660   ChIP-Seq        WGS\n",
       "SRX1056719  ChIP-Seq        WGS\n",
       "SRX1059356  ChIP-Seq    RNA-Seq\n",
       "SRX1134694  ChIP-Seq        WGS\n",
       "SRX1168458  ChIP-Seq    RNA-Seq\n",
       "SRX2011093  ChIP-Seq        WGS\n",
       "SRX2068664  ChIP-Seq        WGS\n",
       "SRX215623   ChIP-Seq        WGS\n",
       "SRX215629   ChIP-Seq        WGS\n",
       "SRX306202   ChIP-Seq        WGS\n",
       "SRX3166313  ChIP-Seq        WGS\n",
       "SRX386287   ChIP-Seq        WGS\n",
       "SRX511123   ChIP-Seq    RNA-Seq\n",
       "SRX595765   ChIP-Seq    RNA-Seq\n",
       "SRX595767   ChIP-Seq    RNA-Seq\n",
       "SRX671954   ChIP-Seq        WGS\n",
       "SRX859008   ChIP-Seq        WGS\n",
       "SRX859010   ChIP-Seq        WGS\n",
       "SRX883605   ChIP-Seq    RNA-Seq\n",
       "SRX970862   ChIP-Seq  MNase-Seq"
      ]
     },
     "execution_count": 428,
     "metadata": {},
     "output_type": "execute_result"
    }
   ],
   "source": [
    "random_forest_miss_classified.query('annot == \"ChIP-Seq\"')"
   ]
  },
  {
   "cell_type": "code",
   "execution_count": 429,
   "metadata": {},
   "outputs": [
    {
     "data": {
      "text/html": [
       "<div>\n",
       "<style scoped>\n",
       "    .dataframe tbody tr th:only-of-type {\n",
       "        vertical-align: middle;\n",
       "    }\n",
       "\n",
       "    .dataframe tbody tr th {\n",
       "        vertical-align: top;\n",
       "    }\n",
       "\n",
       "    .dataframe thead th {\n",
       "        text-align: right;\n",
       "    }\n",
       "</style>\n",
       "<table border=\"1\" class=\"dataframe\">\n",
       "  <thead>\n",
       "    <tr style=\"text-align: right;\">\n",
       "      <th></th>\n",
       "      <th>annot</th>\n",
       "      <th>predicted</th>\n",
       "    </tr>\n",
       "    <tr>\n",
       "      <th>srx</th>\n",
       "      <th></th>\n",
       "      <th></th>\n",
       "    </tr>\n",
       "  </thead>\n",
       "  <tbody>\n",
       "    <tr>\n",
       "      <th>DRX000998</th>\n",
       "      <td>WGS</td>\n",
       "      <td>ChIP-Seq</td>\n",
       "    </tr>\n",
       "    <tr>\n",
       "      <th>DRX001000</th>\n",
       "      <td>WGS</td>\n",
       "      <td>ChIP-Seq</td>\n",
       "    </tr>\n",
       "    <tr>\n",
       "      <th>ERX004310</th>\n",
       "      <td>WGS</td>\n",
       "      <td>ChIP-Seq</td>\n",
       "    </tr>\n",
       "    <tr>\n",
       "      <th>SRX000529</th>\n",
       "      <td>WGS</td>\n",
       "      <td>ChIP-Seq</td>\n",
       "    </tr>\n",
       "    <tr>\n",
       "      <th>SRX000535</th>\n",
       "      <td>WGS</td>\n",
       "      <td>ChIP-Seq</td>\n",
       "    </tr>\n",
       "    <tr>\n",
       "      <th>SRX000536</th>\n",
       "      <td>WGS</td>\n",
       "      <td>ChIP-Seq</td>\n",
       "    </tr>\n",
       "    <tr>\n",
       "      <th>SRX000558</th>\n",
       "      <td>WGS</td>\n",
       "      <td>ChIP-Seq</td>\n",
       "    </tr>\n",
       "    <tr>\n",
       "      <th>SRX006305</th>\n",
       "      <td>WGS</td>\n",
       "      <td>ChIP-Seq</td>\n",
       "    </tr>\n",
       "    <tr>\n",
       "      <th>SRX015974</th>\n",
       "      <td>WGS</td>\n",
       "      <td>ChIP-Seq</td>\n",
       "    </tr>\n",
       "    <tr>\n",
       "      <th>SRX1116302</th>\n",
       "      <td>WGS</td>\n",
       "      <td>ChIP-Seq</td>\n",
       "    </tr>\n",
       "    <tr>\n",
       "      <th>SRX1116305</th>\n",
       "      <td>WGS</td>\n",
       "      <td>ChIP-Seq</td>\n",
       "    </tr>\n",
       "    <tr>\n",
       "      <th>SRX1890138</th>\n",
       "      <td>WGS</td>\n",
       "      <td>ChIP-Seq</td>\n",
       "    </tr>\n",
       "    <tr>\n",
       "      <th>SRX193620</th>\n",
       "      <td>WGS</td>\n",
       "      <td>ChIP-Seq</td>\n",
       "    </tr>\n",
       "    <tr>\n",
       "      <th>SRX360487</th>\n",
       "      <td>WGS</td>\n",
       "      <td>ChIP-Seq</td>\n",
       "    </tr>\n",
       "    <tr>\n",
       "      <th>SRX360488</th>\n",
       "      <td>WGS</td>\n",
       "      <td>RNA-Seq</td>\n",
       "    </tr>\n",
       "    <tr>\n",
       "      <th>SRX471360</th>\n",
       "      <td>WGS</td>\n",
       "      <td>ChIP-Seq</td>\n",
       "    </tr>\n",
       "    <tr>\n",
       "      <th>SRX477037</th>\n",
       "      <td>WGS</td>\n",
       "      <td>ChIP-Seq</td>\n",
       "    </tr>\n",
       "    <tr>\n",
       "      <th>SRX482046</th>\n",
       "      <td>WGS</td>\n",
       "      <td>ChIP-Seq</td>\n",
       "    </tr>\n",
       "    <tr>\n",
       "      <th>SRX483151</th>\n",
       "      <td>WGS</td>\n",
       "      <td>ChIP-Seq</td>\n",
       "    </tr>\n",
       "    <tr>\n",
       "      <th>SRX792309</th>\n",
       "      <td>WGS</td>\n",
       "      <td>ChIP-Seq</td>\n",
       "    </tr>\n",
       "    <tr>\n",
       "      <th>SRX826516</th>\n",
       "      <td>WGS</td>\n",
       "      <td>ChIP-Seq</td>\n",
       "    </tr>\n",
       "    <tr>\n",
       "      <th>SRX891930</th>\n",
       "      <td>WGS</td>\n",
       "      <td>RNA-Seq</td>\n",
       "    </tr>\n",
       "    <tr>\n",
       "      <th>SRX891980</th>\n",
       "      <td>WGS</td>\n",
       "      <td>RNA-Seq</td>\n",
       "    </tr>\n",
       "    <tr>\n",
       "      <th>SRX891982</th>\n",
       "      <td>WGS</td>\n",
       "      <td>ChIP-Seq</td>\n",
       "    </tr>\n",
       "    <tr>\n",
       "      <th>SRX891995</th>\n",
       "      <td>WGS</td>\n",
       "      <td>ChIP-Seq</td>\n",
       "    </tr>\n",
       "  </tbody>\n",
       "</table>\n",
       "</div>"
      ],
      "text/plain": [
       "           annot predicted\n",
       "srx                       \n",
       "DRX000998    WGS  ChIP-Seq\n",
       "DRX001000    WGS  ChIP-Seq\n",
       "ERX004310    WGS  ChIP-Seq\n",
       "SRX000529    WGS  ChIP-Seq\n",
       "SRX000535    WGS  ChIP-Seq\n",
       "SRX000536    WGS  ChIP-Seq\n",
       "SRX000558    WGS  ChIP-Seq\n",
       "SRX006305    WGS  ChIP-Seq\n",
       "SRX015974    WGS  ChIP-Seq\n",
       "SRX1116302   WGS  ChIP-Seq\n",
       "SRX1116305   WGS  ChIP-Seq\n",
       "SRX1890138   WGS  ChIP-Seq\n",
       "SRX193620    WGS  ChIP-Seq\n",
       "SRX360487    WGS  ChIP-Seq\n",
       "SRX360488    WGS   RNA-Seq\n",
       "SRX471360    WGS  ChIP-Seq\n",
       "SRX477037    WGS  ChIP-Seq\n",
       "SRX482046    WGS  ChIP-Seq\n",
       "SRX483151    WGS  ChIP-Seq\n",
       "SRX792309    WGS  ChIP-Seq\n",
       "SRX826516    WGS  ChIP-Seq\n",
       "SRX891930    WGS   RNA-Seq\n",
       "SRX891980    WGS   RNA-Seq\n",
       "SRX891982    WGS  ChIP-Seq\n",
       "SRX891995    WGS  ChIP-Seq"
      ]
     },
     "execution_count": 429,
     "metadata": {},
     "output_type": "execute_result"
    }
   ],
   "source": [
    "random_forest_miss_classified.query('annot == \"WGS\"')"
   ]
  },
  {
   "cell_type": "markdown",
   "metadata": {},
   "source": [
    "### Re-classify OTHER"
   ]
  },
  {
   "cell_type": "code",
   "execution_count": 430,
   "metadata": {},
   "outputs": [],
   "source": [
    "Y_features = classifier_pipeline.predict(features)\n",
    "Y_OTHER_features = classifier_pipeline.predict(features_OTHER)"
   ]
  },
  {
   "cell_type": "code",
   "execution_count": 431,
   "metadata": {},
   "outputs": [
    {
     "data": {
      "text/plain": [
       "RNA-Seq      1361\n",
       "ChIP-Seq      784\n",
       "WGS           362\n",
       "EST            45\n",
       "MNase-Seq      13\n",
       "miRNA-Seq       3\n",
       "RIP-Seq         2\n",
       "CLONEEND        2\n",
       "dtype: int64"
      ]
     },
     "execution_count": 431,
     "metadata": {},
     "output_type": "execute_result"
    }
   ],
   "source": [
    "_dat = pd.Series(encoder.inverse_transform(Y_OTHER_features), index=features_OTHER.index)\n",
    "_dat.value_counts()"
   ]
  },
  {
   "cell_type": "markdown",
   "metadata": {},
   "source": [
    "#### Look at MNase-Seq"
   ]
  },
  {
   "cell_type": "code",
   "execution_count": 432,
   "metadata": {},
   "outputs": [
    {
     "data": {
      "text/plain": [
       "srx\n",
       "ERX365144    MNase-Seq\n",
       "ERX365194    MNase-Seq\n",
       "SRX518359    MNase-Seq\n",
       "SRX518360    MNase-Seq\n",
       "SRX518366    MNase-Seq\n",
       "SRX518367    MNase-Seq\n",
       "SRX518368    MNase-Seq\n",
       "SRX518372    MNase-Seq\n",
       "SRX518385    MNase-Seq\n",
       "SRX518394    MNase-Seq\n",
       "SRX518395    MNase-Seq\n",
       "SRX518398    MNase-Seq\n",
       "SRX518403    MNase-Seq\n",
       "dtype: object"
      ]
     },
     "execution_count": 432,
     "metadata": {},
     "output_type": "execute_result"
    }
   ],
   "source": [
    "_dat[_dat == 'MNase-Seq']"
   ]
  },
  {
   "cell_type": "markdown",
   "metadata": {},
   "source": [
    "#### Look at CLONEEND"
   ]
  },
  {
   "cell_type": "code",
   "execution_count": 433,
   "metadata": {},
   "outputs": [
    {
     "data": {
      "text/plain": [
       "srx\n",
       "SRX008031    CLONEEND\n",
       "SRX008034    CLONEEND\n",
       "dtype: object"
      ]
     },
     "execution_count": 433,
     "metadata": {},
     "output_type": "execute_result"
    }
   ],
   "source": [
    "_dat[_dat == 'CLONEEND']"
   ]
  },
  {
   "cell_type": "code",
   "execution_count": 435,
   "metadata": {},
   "outputs": [
    {
     "data": {
      "text/plain": [
       "srx\n",
       "SRX005000    CLONEEND\n",
       "SRX005001    CLONEEND\n",
       "SRX005002    CLONEEND\n",
       "SRX005004    CLONEEND\n",
       "SRX005008    CLONEEND\n",
       "SRX005014    CLONEEND\n",
       "SRX005017    CLONEEND\n",
       "Name: library_strategy, dtype: object"
      ]
     },
     "execution_count": 435,
     "metadata": {},
     "output_type": "execute_result"
    }
   ],
   "source": [
    "# What is cloneend?\n",
    "libstart_srx[libstart_srx == 'CLONEEND']"
   ]
  },
  {
   "cell_type": "markdown",
   "metadata": {},
   "source": [
    "SRX008031 and SRX008034 are from a small RNA-Seq.\n",
    "All the annotated CLONEEND are from the sample project SRP000784. They are also small rna (piRNA). \n"
   ]
  },
  {
   "cell_type": "markdown",
   "metadata": {},
   "source": [
    "#### Look at RIP-Seq"
   ]
  },
  {
   "cell_type": "code",
   "execution_count": 437,
   "metadata": {},
   "outputs": [
    {
     "data": {
      "text/plain": [
       "srx\n",
       "ERX249572    RIP-Seq\n",
       "SRX017296    RIP-Seq\n",
       "dtype: object"
      ]
     },
     "execution_count": 437,
     "metadata": {},
     "output_type": "execute_result"
    }
   ],
   "source": [
    "_dat[_dat == 'RIP-Seq']"
   ]
  },
  {
   "cell_type": "markdown",
   "metadata": {},
   "source": [
    "* ERX249572 is CLIP-Seq\n",
    "* SRX017296 is related to piRNAs using small RNA purification"
   ]
  },
  {
   "cell_type": "markdown",
   "metadata": {},
   "source": [
    "#### Look at RNA-Seq"
   ]
  },
  {
   "cell_type": "code",
   "execution_count": 438,
   "metadata": {},
   "outputs": [
    {
     "data": {
      "text/plain": [
       "srx\n",
       "ERX1495556    RNA-Seq\n",
       "ERX1495558    RNA-Seq\n",
       "ERX1475753    RNA-Seq\n",
       "SRX960112     RNA-Seq\n",
       "SRX693212     RNA-Seq\n",
       "SRX1850772    RNA-Seq\n",
       "ERX1475830    RNA-Seq\n",
       "SRX145917     RNA-Seq\n",
       "ERX1475823    RNA-Seq\n",
       "SRX826291     RNA-Seq\n",
       "SRX960185     RNA-Seq\n",
       "SRX1743177    RNA-Seq\n",
       "SRX2053346    RNA-Seq\n",
       "SRX625656     RNA-Seq\n",
       "SRX1868782    RNA-Seq\n",
       "ERX365299     RNA-Seq\n",
       "ERX1475792    RNA-Seq\n",
       "ERX1475875    RNA-Seq\n",
       "ERX1475838    RNA-Seq\n",
       "ERX1495719    RNA-Seq\n",
       "dtype: object"
      ]
     },
     "execution_count": 438,
     "metadata": {},
     "output_type": "execute_result"
    }
   ],
   "source": [
    "_dat[_dat == 'RNA-Seq'].sample(20)"
   ]
  },
  {
   "cell_type": "markdown",
   "metadata": {},
   "source": [
    "* ERX1495556, ERX1495558: 5' CAGE\n",
    "* ERX1475753: 3' tag\n",
    "* SRX960112: mmPCR-seq\n",
    "* SRX693212: 4c\n",
    "* SRX1743177: GRO-Seq\n",
    "* ERX1475838: 3' tag"
   ]
  },
  {
   "cell_type": "markdown",
   "metadata": {},
   "source": [
    "#### Look at WGS"
   ]
  },
  {
   "cell_type": "code",
   "execution_count": 440,
   "metadata": {},
   "outputs": [
    {
     "data": {
      "text/plain": [
       "srx\n",
       "SRX1048629    WGS\n",
       "ERX364954     WGS\n",
       "ERX364789     WGS\n",
       "ERX149376     WGS\n",
       "SRX1048635    WGS\n",
       "ERX365096     WGS\n",
       "SRX518365     WGS\n",
       "ERX365342     WGS\n",
       "ERX365093     WGS\n",
       "SRX3202392    WGS\n",
       "ERX364928     WGS\n",
       "ERX365135     WGS\n",
       "ERX364913     WGS\n",
       "SRX141932     WGS\n",
       "ERX365207     WGS\n",
       "SRX1048665    WGS\n",
       "ERX365147     WGS\n",
       "SRX1048657    WGS\n",
       "ERX364717     WGS\n",
       "ERX364873     WGS\n",
       "dtype: object"
      ]
     },
     "execution_count": 440,
     "metadata": {},
     "output_type": "execute_result"
    }
   ],
   "source": [
    "_dat[_dat == 'WGS'].sample(20)"
   ]
  },
  {
   "cell_type": "markdown",
   "metadata": {},
   "source": [
    "looks mostly 4c"
   ]
  },
  {
   "cell_type": "code",
   "execution_count": 447,
   "metadata": {},
   "outputs": [],
   "source": [
    "# grab all title with -seq\n",
    "titles = pd.DataFrame(list(ncbi.aggregate([\n",
    "    {\n",
    "        '$match': {\n",
    "            'sra.experiment.title': {'$regex': '\\w[-_]seq', '$options': '-i'}\n",
    "        }\n",
    "    },\n",
    "    {\n",
    "        '$project': {\n",
    "            '_id': 0,\n",
    "            'srx': '$srx',\n",
    "            'title': '$sra.experiment.title'\n",
    "        }\n",
    "    },\n",
    "])))"
   ]
  },
  {
   "cell_type": "code",
   "execution_count": null,
   "metadata": {},
   "outputs": [],
   "source": []
  },
  {
   "cell_type": "code",
   "execution_count": 485,
   "metadata": {},
   "outputs": [],
   "source": [
    "# titles often has the seq technology in them\n",
    "import re\n",
    "regex = re.compile('(?P<tseq>.*[-_]seq)', re.IGNORECASE)\n",
    "title_seq = titles.title.str.extract(regex)\n",
    "title_seq.index = titles.srx"
   ]
  },
  {
   "cell_type": "code",
   "execution_count": 526,
   "metadata": {},
   "outputs": [],
   "source": [
    "res = []\n",
    "for t in title_seq.tseq.tolist():\n",
    "    _t = t.lower()\n",
    "    _t = _t.replace('_seq', '-seq')\n",
    "    _t = _t.replace('_', ' ')\n",
    "    res.append(re.findall('\\w+-seq', _t)[0])\n",
    "    \n",
    "title_seq['tseq'] = res"
   ]
  },
  {
   "cell_type": "code",
   "execution_count": 527,
   "metadata": {},
   "outputs": [
    {
     "data": {
      "text/plain": [
       "rna-seq            11724\n",
       "dna-seq             7036\n",
       "chip-seq            3603\n",
       "4c-seq               726\n",
       "ncrna-seq            513\n",
       "rad-seq              332\n",
       "rip-seq              296\n",
       "mnase-seq            254\n",
       "tag-seq              245\n",
       "mirna-seq            121\n",
       "bisulfite-seq         96\n",
       "extraction1-seq       72\n",
       "tada-seq              64\n",
       "mmpcr-seq             63\n",
       "pool-seq              61\n",
       "mrna-seq              57\n",
       "atac-seq              51\n",
       "faire-seq             49\n",
       "start-seq             32\n",
       "extraction2-seq       24\n",
       "ka-seq                24\n",
       "smrna-seq             22\n",
       "12-seq                22\n",
       "mtail-seq             21\n",
       "pro-seq               21\n",
       "re-seq                20\n",
       "gro-seq               20\n",
       "clip-seq              16\n",
       "wpp-seq               16\n",
       "input-seq             12\n",
       "24-seq                12\n",
       "degradome-seq         11\n",
       "ribo-seq              11\n",
       "chirp-seq             10\n",
       "extraction3-seq        9\n",
       "icechip-seq            9\n",
       "sns-seq                9\n",
       "dnase-seq              6\n",
       "nascent-seq            6\n",
       "pb-seq                 6\n",
       "extraction5-seq        4\n",
       "kc-seq                 4\n",
       "w3l-seq                4\n",
       "adultfemale-seq        4\n",
       "extraction6-seq        4\n",
       "extraction4-seq        4\n",
       "8-seq                  4\n",
       "ip-seq                 4\n",
       "medip-seq              3\n",
       "extraction7-seq        3\n",
       "extraction8-seq        3\n",
       "hic-seq                2\n",
       "dip-seq                1\n",
       "bs-seq                 1\n",
       "1-seq                  1\n",
       "deep-seq               1\n",
       "hmerip-seq             1\n",
       "Name: tseq, dtype: int64"
      ]
     },
     "execution_count": 527,
     "metadata": {},
     "output_type": "execute_result"
    }
   ],
   "source": [
    "title_seq.tseq.value_counts()"
   ]
  },
  {
   "cell_type": "code",
   "execution_count": 525,
   "metadata": {},
   "outputs": [
    {
     "data": {
      "text/html": [
       "<div>\n",
       "<style scoped>\n",
       "    .dataframe tbody tr th:only-of-type {\n",
       "        vertical-align: middle;\n",
       "    }\n",
       "\n",
       "    .dataframe tbody tr th {\n",
       "        vertical-align: top;\n",
       "    }\n",
       "\n",
       "    .dataframe thead th {\n",
       "        text-align: right;\n",
       "    }\n",
       "</style>\n",
       "<table border=\"1\" class=\"dataframe\">\n",
       "  <thead>\n",
       "    <tr style=\"text-align: right;\">\n",
       "      <th></th>\n",
       "      <th>tseq</th>\n",
       "      <th>library_strategy</th>\n",
       "    </tr>\n",
       "    <tr>\n",
       "      <th>srx</th>\n",
       "      <th></th>\n",
       "      <th></th>\n",
       "    </tr>\n",
       "  </thead>\n",
       "  <tbody>\n",
       "    <tr>\n",
       "      <th>SRX111555</th>\n",
       "      <td>deep-seq</td>\n",
       "      <td>OTHER</td>\n",
       "    </tr>\n",
       "  </tbody>\n",
       "</table>\n",
       "</div>"
      ],
      "text/plain": [
       "               tseq library_strategy\n",
       "srx                                 \n",
       "SRX111555  deep-seq            OTHER"
      ]
     },
     "execution_count": 525,
     "metadata": {},
     "output_type": "execute_result"
    }
   ],
   "source": [
    "title_seq.join(libstrat_srx).dropna().query('tseq == \"deep-seq\"')"
   ]
  },
  {
   "cell_type": "code",
   "execution_count": null,
   "metadata": {},
   "outputs": [],
   "source": []
  },
  {
   "cell_type": "markdown",
   "metadata": {},
   "source": [
    "## Isolation Forest"
   ]
  },
  {
   "cell_type": "code",
   "execution_count": 407,
   "metadata": {},
   "outputs": [],
   "source": [
    "from sklearn.ensemble import IsolationForest"
   ]
  },
  {
   "cell_type": "markdown",
   "metadata": {},
   "source": [
    "### Split data by library stategy"
   ]
  },
  {
   "cell_type": "code",
   "execution_count": 252,
   "metadata": {},
   "outputs": [],
   "source": [
    "features_rnaseq = features.join(libstrat_srx)\\\n",
    "    .query('library_strategy == \"RNA-Seq\"')\\\n",
    "    .drop('library_strategy', axis=1)"
   ]
  },
  {
   "cell_type": "code",
   "execution_count": 253,
   "metadata": {},
   "outputs": [],
   "source": [
    "features_chipseq = features.join(libstrat_srx)\\\n",
    "    .query('library_strategy == \"ChIP-Seq\"')\\\n",
    "    .drop('library_strategy', axis=1)"
   ]
  },
  {
   "cell_type": "code",
   "execution_count": 254,
   "metadata": {},
   "outputs": [],
   "source": [
    "features_wgs = features.join(libstrat_srx)\\\n",
    "    .query('library_strategy == \"WGS\"')\\\n",
    "    .drop('library_strategy', axis=1)"
   ]
  },
  {
   "cell_type": "markdown",
   "metadata": {},
   "source": [
    "### RNA-Seq with spiked in ChIP-Seq"
   ]
  },
  {
   "cell_type": "code",
   "execution_count": 408,
   "metadata": {},
   "outputs": [],
   "source": [
    "X_train, X_test = train_test_split(pd.concat([features_rnaseq, features_chipseq.sample(n=200)]))"
   ]
  },
  {
   "cell_type": "code",
   "execution_count": 409,
   "metadata": {},
   "outputs": [
    {
     "name": "stdout",
     "output_type": "stream",
     "text": [
      "There are 156 ChIP-Seq in Train, and 44 ChIP-Seq in Test.\n"
     ]
    }
   ],
   "source": [
    "_cnt1, _cnt2 = X_train.index.isin(features_chipseq.index).sum(), X_test.index.isin(features_chipseq.index).sum()\n",
    "print(f'There are {_cnt1} ChIP-Seq in Train, and {_cnt2} ChIP-Seq in Test.')"
   ]
  },
  {
   "cell_type": "code",
   "execution_count": 410,
   "metadata": {},
   "outputs": [
    {
     "data": {
      "text/plain": [
       "Pipeline(memory=None,\n",
       "     steps=[('scale', StandardScaler(copy=True, with_mean=True, with_std=True)), ('pca', PCA(copy=True, iterated_power='auto', n_components=12, random_state=None,\n",
       "  svd_solver='auto', tol=0.0, whiten=False)), ('isolation', IsolationForest(behaviour='new', bootstrap=False, contamination='auto',\n",
       "        max_features=1.0, max_samples='auto', n_estimators=100,\n",
       "        n_jobs=None, random_state=42, verbose=0))])"
      ]
     },
     "execution_count": 410,
     "metadata": {},
     "output_type": "execute_result"
    }
   ],
   "source": [
    "isolation_pipeline = Pipeline([\n",
    "    ('scale', StandardScaler()),\n",
    "    ('pca', PCA(n_components=12)), \n",
    "    ('isolation', IsolationForest(behaviour='new', random_state=42, max_samples='auto', contamination='auto'))\n",
    "])\n",
    "\n",
    "isolation_pipeline.fit(X_train)"
   ]
  },
  {
   "cell_type": "code",
   "execution_count": 411,
   "metadata": {},
   "outputs": [
    {
     "name": "stdout",
     "output_type": "stream",
     "text": [
      "(array([-1,  1]), array([ 223, 3433]))\n",
      "33\n"
     ]
    },
    {
     "data": {
      "text/html": [
       "<div>\n",
       "<style scoped>\n",
       "    .dataframe tbody tr th:only-of-type {\n",
       "        vertical-align: middle;\n",
       "    }\n",
       "\n",
       "    .dataframe tbody tr th {\n",
       "        vertical-align: top;\n",
       "    }\n",
       "\n",
       "    .dataframe thead th {\n",
       "        text-align: right;\n",
       "    }\n",
       "</style>\n",
       "<table border=\"1\" class=\"dataframe\">\n",
       "  <thead>\n",
       "    <tr style=\"text-align: right;\">\n",
       "      <th></th>\n",
       "      <th>predicted</th>\n",
       "      <th>library_strategy</th>\n",
       "    </tr>\n",
       "  </thead>\n",
       "  <tbody>\n",
       "    <tr>\n",
       "      <th>ERX088873</th>\n",
       "      <td>-1.0</td>\n",
       "      <td>ChIP-Seq</td>\n",
       "    </tr>\n",
       "    <tr>\n",
       "      <th>ERX103225</th>\n",
       "      <td>-1.0</td>\n",
       "      <td>ChIP-Seq</td>\n",
       "    </tr>\n",
       "    <tr>\n",
       "      <th>ERX103237</th>\n",
       "      <td>-1.0</td>\n",
       "      <td>ChIP-Seq</td>\n",
       "    </tr>\n",
       "    <tr>\n",
       "      <th>SRX033319</th>\n",
       "      <td>-1.0</td>\n",
       "      <td>ChIP-Seq</td>\n",
       "    </tr>\n",
       "    <tr>\n",
       "      <th>SRX046659</th>\n",
       "      <td>-1.0</td>\n",
       "      <td>ChIP-Seq</td>\n",
       "    </tr>\n",
       "    <tr>\n",
       "      <th>SRX062281</th>\n",
       "      <td>-1.0</td>\n",
       "      <td>ChIP-Seq</td>\n",
       "    </tr>\n",
       "    <tr>\n",
       "      <th>SRX1056715</th>\n",
       "      <td>-1.0</td>\n",
       "      <td>ChIP-Seq</td>\n",
       "    </tr>\n",
       "    <tr>\n",
       "      <th>SRX111780</th>\n",
       "      <td>-1.0</td>\n",
       "      <td>ChIP-Seq</td>\n",
       "    </tr>\n",
       "    <tr>\n",
       "      <th>SRX1134695</th>\n",
       "      <td>-1.0</td>\n",
       "      <td>ChIP-Seq</td>\n",
       "    </tr>\n",
       "    <tr>\n",
       "      <th>SRX1433390</th>\n",
       "      <td>-1.0</td>\n",
       "      <td>ChIP-Seq</td>\n",
       "    </tr>\n",
       "    <tr>\n",
       "      <th>SRX151962</th>\n",
       "      <td>-1.0</td>\n",
       "      <td>ChIP-Seq</td>\n",
       "    </tr>\n",
       "    <tr>\n",
       "      <th>SRX181436</th>\n",
       "      <td>-1.0</td>\n",
       "      <td>ChIP-Seq</td>\n",
       "    </tr>\n",
       "    <tr>\n",
       "      <th>SRX1850482</th>\n",
       "      <td>-1.0</td>\n",
       "      <td>ChIP-Seq</td>\n",
       "    </tr>\n",
       "    <tr>\n",
       "      <th>SRX1892724</th>\n",
       "      <td>-1.0</td>\n",
       "      <td>ChIP-Seq</td>\n",
       "    </tr>\n",
       "    <tr>\n",
       "      <th>SRX191916</th>\n",
       "      <td>-1.0</td>\n",
       "      <td>ChIP-Seq</td>\n",
       "    </tr>\n",
       "    <tr>\n",
       "      <th>SRX2055947</th>\n",
       "      <td>-1.0</td>\n",
       "      <td>ChIP-Seq</td>\n",
       "    </tr>\n",
       "    <tr>\n",
       "      <th>SRX2172424</th>\n",
       "      <td>-1.0</td>\n",
       "      <td>ChIP-Seq</td>\n",
       "    </tr>\n",
       "    <tr>\n",
       "      <th>SRX2504295</th>\n",
       "      <td>-1.0</td>\n",
       "      <td>ChIP-Seq</td>\n",
       "    </tr>\n",
       "    <tr>\n",
       "      <th>SRX287722</th>\n",
       "      <td>-1.0</td>\n",
       "      <td>ChIP-Seq</td>\n",
       "    </tr>\n",
       "    <tr>\n",
       "      <th>SRX287758</th>\n",
       "      <td>-1.0</td>\n",
       "      <td>ChIP-Seq</td>\n",
       "    </tr>\n",
       "    <tr>\n",
       "      <th>SRX287792</th>\n",
       "      <td>-1.0</td>\n",
       "      <td>ChIP-Seq</td>\n",
       "    </tr>\n",
       "    <tr>\n",
       "      <th>SRX318801</th>\n",
       "      <td>-1.0</td>\n",
       "      <td>ChIP-Seq</td>\n",
       "    </tr>\n",
       "    <tr>\n",
       "      <th>SRX331424</th>\n",
       "      <td>-1.0</td>\n",
       "      <td>ChIP-Seq</td>\n",
       "    </tr>\n",
       "    <tr>\n",
       "      <th>SRX365703</th>\n",
       "      <td>-1.0</td>\n",
       "      <td>ChIP-Seq</td>\n",
       "    </tr>\n",
       "    <tr>\n",
       "      <th>SRX467013</th>\n",
       "      <td>-1.0</td>\n",
       "      <td>ChIP-Seq</td>\n",
       "    </tr>\n",
       "    <tr>\n",
       "      <th>SRX467025</th>\n",
       "      <td>-1.0</td>\n",
       "      <td>ChIP-Seq</td>\n",
       "    </tr>\n",
       "    <tr>\n",
       "      <th>SRX467095</th>\n",
       "      <td>-1.0</td>\n",
       "      <td>ChIP-Seq</td>\n",
       "    </tr>\n",
       "    <tr>\n",
       "      <th>SRX495197</th>\n",
       "      <td>-1.0</td>\n",
       "      <td>ChIP-Seq</td>\n",
       "    </tr>\n",
       "    <tr>\n",
       "      <th>SRX495206</th>\n",
       "      <td>-1.0</td>\n",
       "      <td>ChIP-Seq</td>\n",
       "    </tr>\n",
       "    <tr>\n",
       "      <th>SRX495280</th>\n",
       "      <td>-1.0</td>\n",
       "      <td>ChIP-Seq</td>\n",
       "    </tr>\n",
       "    <tr>\n",
       "      <th>SRX647915</th>\n",
       "      <td>-1.0</td>\n",
       "      <td>ChIP-Seq</td>\n",
       "    </tr>\n",
       "    <tr>\n",
       "      <th>SRX969910</th>\n",
       "      <td>-1.0</td>\n",
       "      <td>ChIP-Seq</td>\n",
       "    </tr>\n",
       "    <tr>\n",
       "      <th>SRX969911</th>\n",
       "      <td>-1.0</td>\n",
       "      <td>ChIP-Seq</td>\n",
       "    </tr>\n",
       "  </tbody>\n",
       "</table>\n",
       "</div>"
      ],
      "text/plain": [
       "            predicted library_strategy\n",
       "ERX088873        -1.0         ChIP-Seq\n",
       "ERX103225        -1.0         ChIP-Seq\n",
       "ERX103237        -1.0         ChIP-Seq\n",
       "SRX033319        -1.0         ChIP-Seq\n",
       "SRX046659        -1.0         ChIP-Seq\n",
       "SRX062281        -1.0         ChIP-Seq\n",
       "SRX1056715       -1.0         ChIP-Seq\n",
       "SRX111780        -1.0         ChIP-Seq\n",
       "SRX1134695       -1.0         ChIP-Seq\n",
       "SRX1433390       -1.0         ChIP-Seq\n",
       "SRX151962        -1.0         ChIP-Seq\n",
       "SRX181436        -1.0         ChIP-Seq\n",
       "SRX1850482       -1.0         ChIP-Seq\n",
       "SRX1892724       -1.0         ChIP-Seq\n",
       "SRX191916        -1.0         ChIP-Seq\n",
       "SRX2055947       -1.0         ChIP-Seq\n",
       "SRX2172424       -1.0         ChIP-Seq\n",
       "SRX2504295       -1.0         ChIP-Seq\n",
       "SRX287722        -1.0         ChIP-Seq\n",
       "SRX287758        -1.0         ChIP-Seq\n",
       "SRX287792        -1.0         ChIP-Seq\n",
       "SRX318801        -1.0         ChIP-Seq\n",
       "SRX331424        -1.0         ChIP-Seq\n",
       "SRX365703        -1.0         ChIP-Seq\n",
       "SRX467013        -1.0         ChIP-Seq\n",
       "SRX467025        -1.0         ChIP-Seq\n",
       "SRX467095        -1.0         ChIP-Seq\n",
       "SRX495197        -1.0         ChIP-Seq\n",
       "SRX495206        -1.0         ChIP-Seq\n",
       "SRX495280        -1.0         ChIP-Seq\n",
       "SRX647915        -1.0         ChIP-Seq\n",
       "SRX969910        -1.0         ChIP-Seq\n",
       "SRX969911        -1.0         ChIP-Seq"
      ]
     },
     "execution_count": 411,
     "metadata": {},
     "output_type": "execute_result"
    }
   ],
   "source": [
    "print(np.unique(isolation_pipeline.predict(X_test), return_counts=True))\n",
    "\n",
    "predicted = pd.Series(isolation_pipeline.predict(X_test), index=X_test.index).sort_values()\n",
    "predicted.name = 'predicted'\n",
    "_dat = pd.concat([predicted, libstrat_srx], axis=1, sort=True).dropna().query(\"predicted == -1 & library_strategy == 'ChIP-Seq'\")\n",
    "print(_dat.shape[0])\n",
    "_dat"
   ]
  },
  {
   "cell_type": "code",
   "execution_count": null,
   "metadata": {},
   "outputs": [],
   "source": []
  },
  {
   "cell_type": "markdown",
   "metadata": {},
   "source": [
    "Isolation forest appears to be working okay. Depends on the level of contamination. \n",
    "\n",
    "1. run isolation forest on RNA-seq data.\n",
    "2. Get list of outliers\n",
    "3. compare to random forest miss-classified"
   ]
  },
  {
   "cell_type": "markdown",
   "metadata": {},
   "source": [
    "List of 5' and 3' bias can be useful to split these datasets out."
   ]
  },
  {
   "cell_type": "code",
   "execution_count": null,
   "metadata": {},
   "outputs": [],
   "source": []
  },
  {
   "cell_type": "code",
   "execution_count": null,
   "metadata": {},
   "outputs": [],
   "source": []
  },
  {
   "cell_type": "code",
   "execution_count": null,
   "metadata": {},
   "outputs": [],
   "source": []
  },
  {
   "cell_type": "code",
   "execution_count": null,
   "metadata": {},
   "outputs": [],
   "source": []
  },
  {
   "cell_type": "code",
   "execution_count": null,
   "metadata": {},
   "outputs": [],
   "source": []
  },
  {
   "cell_type": "code",
   "execution_count": null,
   "metadata": {},
   "outputs": [],
   "source": []
  }
 ],
 "metadata": {
  "kernelspec": {
   "display_name": "Python [conda env:ncbi_remap]",
   "language": "python",
   "name": "conda-env-ncbi_remap-py"
  },
  "language_info": {
   "codemirror_mode": {
    "name": "ipython",
    "version": 3
   },
   "file_extension": ".py",
   "mimetype": "text/x-python",
   "name": "python",
   "nbconvert_exporter": "python",
   "pygments_lexer": "ipython3",
   "version": "3.6.5"
  }
 },
 "nbformat": 4,
 "nbformat_minor": 2
}
