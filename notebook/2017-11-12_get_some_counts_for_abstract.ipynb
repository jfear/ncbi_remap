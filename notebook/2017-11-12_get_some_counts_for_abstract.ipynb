{
 "cells": [
  {
   "cell_type": "code",
   "execution_count": 1,
   "metadata": {},
   "outputs": [
    {
     "name": "stdout",
     "output_type": "stream",
     "text": [
      "last updated: 2017-11-12 \n",
      "Git hash: 9f6e655489b6172aa3ba3b86f86205f4af524129\n"
     ]
    }
   ],
   "source": [
    "# %load ../start2.py\n",
    "# Imports\n",
    "import os\n",
    "import sys\n",
    "\n",
    "import numpy as np\n",
    "import pandas as pd\n",
    "\n",
    "import matplotlib as mpl\n",
    "import matplotlib.pyplot as plt\n",
    "import seaborn as sns\n",
    "\n",
    "# Project level imports\n",
    "sys.path.insert(0, '../../lib/python')\n",
    "from ncbi_remap.notebook import Nb\n",
    "from ncbi_remap.plotting import make_figs\n",
    "\n",
    "# Setup notebook\n",
    "nbconfig = Nb.setup_notebook()\n",
    "\n",
    "# Turn on cache\n",
    "from joblib import Memory\n",
    "memory = Memory(cachedir=nbconfig.cache, verbose=0)\n",
    "\n",
    "# Connect to data store\n",
    "store = pd.HDFStore('../../output/sra.h5', mode='r')\n"
   ]
  },
  {
   "cell_type": "code",
   "execution_count": 2,
   "metadata": {},
   "outputs": [],
   "source": [
    "# %load ../../bin/load.py\n",
    "from pymongo import MongoClient\n",
    "with open('/home/fearjm/Projects/ncbi_remap/output/.mongodb_host', 'r') as fh:\n",
    "    host = fh.read().strip()\n",
    "client = MongoClient(host=host, port=27022)\n",
    "db = client['sra2']\n",
    "remap = db['remap']\n",
    "ncbi = db['ncbi']"
   ]
  },
  {
   "cell_type": "markdown",
   "metadata": {},
   "source": [
    "## How much data have I processed?"
   ]
  },
  {
   "cell_type": "code",
   "execution_count": 3,
   "metadata": {},
   "outputs": [],
   "source": [
    "# grab info from store\n",
    "df_store = store['prealn/workflow/fastq'].copy()\n",
    "r1 = df_store.libsize_R1 * df_store.avgLen_R1\n",
    "r2 = df_store.libsize_R2 * df_store.avgLen_R2\n",
    "reads = df_store[['libsize_R1', 'libsize_R2']].max(axis=1)"
   ]
  },
  {
   "cell_type": "code",
   "execution_count": 4,
   "metadata": {},
   "outputs": [
    {
     "name": "stdout",
     "output_type": "stream",
     "text": [
      "I have completed processing of 34 trillion bases.\n",
      "I have completed processing of 336 billion reads.\n"
     ]
    }
   ],
   "source": [
    "print('I have completed processing of {:,.0f} trillion bases.'.format((r1.sum() + r2.sum()) / 10**12))\n",
    "print('I have completed processing of {:,.0f} billion reads.'.format(reads.sum() / 10**9))"
   ]
  },
  {
   "cell_type": "markdown",
   "metadata": {},
   "source": [
    "## How much does the database say?"
   ]
  },
  {
   "cell_type": "code",
   "execution_count": 5,
   "metadata": {},
   "outputs": [],
   "source": [
    "df = pd.DataFrame(list(ncbi.aggregate([\n",
    "    {'$unwind': '$sra.run'},\n",
    "    {\n",
    "        '$match': {\n",
    "            'sra.run.nbases': {'$exists': 1},\n",
    "        }\n",
    "    },\n",
    "    {\n",
    "        '$project': {\n",
    "            '_id': 0,\n",
    "            'srx': '$_id',\n",
    "            'srr': '$sra.run.run_id',\n",
    "            'nbases': '$sra.run.nbases',\n",
    "            'nreads': {\n",
    "                '$max': ['$sra.run.read_count_r1', '$sra.run.read_count_r2']\n",
    "            }\n",
    "        }\n",
    "    }\n",
    "])))\n",
    "\n",
    "df.set_index(['srx', 'srr'], inplace=True)"
   ]
  },
  {
   "cell_type": "code",
   "execution_count": 6,
   "metadata": {},
   "outputs": [
    {
     "name": "stdout",
     "output_type": "stream",
     "text": [
      "There are 52 trillion bases in the database.\n",
      "There are 483 billion bases in the database\n"
     ]
    }
   ],
   "source": [
    "print('There are {:,.0f} trillion bases in the database.'.format(df.nbases.sum() / 10**12))\n",
    "print('There are {:,.0f} billion bases in the database'.format(df.nreads.sum() / 10**9))"
   ]
  },
  {
   "cell_type": "markdown",
   "metadata": {},
   "source": [
    "## How much modENCODE was there?"
   ]
  },
  {
   "cell_type": "code",
   "execution_count": 7,
   "metadata": {},
   "outputs": [],
   "source": [
    "mod = pd.read_csv('../../output/modENCODE_sampletable.tsv', sep='\\t')\n",
    "mod_srx = mod.srx.tolist()\n",
    "\n",
    "df_mod = pd.DataFrame(list(ncbi.aggregate([\n",
    "    {'$unwind': '$sra.run'},\n",
    "    {\n",
    "        '$match': {\n",
    "            'sra.run.nbases': {'$exists': 1},\n",
    "            '_id': {'$in': mod_srx}\n",
    "        }\n",
    "    },\n",
    "    {\n",
    "        '$project': {\n",
    "            '_id': 0,\n",
    "            'srx': '$_id',\n",
    "            'srr': '$sra.run.run_id',\n",
    "            'nbases': '$sra.run.nbases',\n",
    "            'nreads': {\n",
    "                '$max': ['$sra.run.read_count_r1', '$sra.run.read_count_r2']\n",
    "            }\n",
    "        }\n",
    "    }\n",
    "])))\n",
    "\n",
    "df_mod.set_index(['srx', 'srr'], inplace=True)"
   ]
  },
  {
   "cell_type": "code",
   "execution_count": 8,
   "metadata": {},
   "outputs": [
    {
     "name": "stdout",
     "output_type": "stream",
     "text": [
      "There is 21 times more bases than modEncode\n",
      "There is 16 times more reads than modEncode\n"
     ]
    }
   ],
   "source": [
    "print('There is {:.0f} times more bases than modEncode'.format(df.nbases.sum() / df_mod.nbases.sum()))\n",
    "print('There is {:.0f} times more reads than modEncode'.format(df.nreads.sum() / df_mod.nreads.sum()))"
   ]
  },
  {
   "cell_type": "markdown",
   "metadata": {},
   "source": [
    "## What is the technology breakdown?"
   ]
  },
  {
   "cell_type": "code",
   "execution_count": 17,
   "metadata": {},
   "outputs": [],
   "source": [
    "df_tech = pd.DataFrame(list(ncbi.aggregate([\n",
    "    {\n",
    "        '$project': {\n",
    "            '_id': 0,\n",
    "            'srx': '$_id',\n",
    "            'library_strategy': '$sra.experiment.library_strategy'\n",
    "        }\n",
    "    }\n",
    "\n",
    "])))\n",
    "\n",
    "df_tech.set_index('srx', inplace=True)"
   ]
  },
  {
   "cell_type": "code",
   "execution_count": 24,
   "metadata": {},
   "outputs": [
    {
     "data": {
      "text/html": [
       "<div>\n",
       "<style>\n",
       "    .dataframe thead tr:only-child th {\n",
       "        text-align: right;\n",
       "    }\n",
       "\n",
       "    .dataframe thead th {\n",
       "        text-align: left;\n",
       "    }\n",
       "\n",
       "    .dataframe tbody tr th {\n",
       "        vertical-align: top;\n",
       "    }\n",
       "</style>\n",
       "<table border=\"1\" class=\"dataframe\">\n",
       "  <thead>\n",
       "    <tr style=\"text-align: right;\">\n",
       "      <th></th>\n",
       "      <th>library_strategy</th>\n",
       "    </tr>\n",
       "  </thead>\n",
       "  <tbody>\n",
       "    <tr>\n",
       "      <th>RNA-Seq</th>\n",
       "      <td>11,804</td>\n",
       "    </tr>\n",
       "    <tr>\n",
       "      <th>OTHER</th>\n",
       "      <td>6,822</td>\n",
       "    </tr>\n",
       "    <tr>\n",
       "      <th>WGS</th>\n",
       "      <td>3,737</td>\n",
       "    </tr>\n",
       "    <tr>\n",
       "      <th>ChIP-Seq</th>\n",
       "      <td>3,474</td>\n",
       "    </tr>\n",
       "    <tr>\n",
       "      <th>AMPLICON</th>\n",
       "      <td>441</td>\n",
       "    </tr>\n",
       "    <tr>\n",
       "      <th>EST</th>\n",
       "      <td>408</td>\n",
       "    </tr>\n",
       "    <tr>\n",
       "      <th>miRNA-Seq</th>\n",
       "      <td>275</td>\n",
       "    </tr>\n",
       "    <tr>\n",
       "      <th>ncRNA-Seq</th>\n",
       "      <td>231</td>\n",
       "    </tr>\n",
       "    <tr>\n",
       "      <th>MNase-Seq</th>\n",
       "      <td>151</td>\n",
       "    </tr>\n",
       "    <tr>\n",
       "      <th>RIP-Seq</th>\n",
       "      <td>121</td>\n",
       "    </tr>\n",
       "    <tr>\n",
       "      <th>SELEX</th>\n",
       "      <td>32</td>\n",
       "    </tr>\n",
       "    <tr>\n",
       "      <th>DNase-Hypersensitivity</th>\n",
       "      <td>23</td>\n",
       "    </tr>\n",
       "    <tr>\n",
       "      <th>FAIRE-seq</th>\n",
       "      <td>19</td>\n",
       "    </tr>\n",
       "    <tr>\n",
       "      <th>CLONEEND</th>\n",
       "      <td>18</td>\n",
       "    </tr>\n",
       "    <tr>\n",
       "      <th>Bisulfite-Seq</th>\n",
       "      <td>17</td>\n",
       "    </tr>\n",
       "    <tr>\n",
       "      <th>FL-cDNA</th>\n",
       "      <td>13</td>\n",
       "    </tr>\n",
       "    <tr>\n",
       "      <th>POOLCLONE</th>\n",
       "      <td>8</td>\n",
       "    </tr>\n",
       "    <tr>\n",
       "      <th>WGA</th>\n",
       "      <td>7</td>\n",
       "    </tr>\n",
       "    <tr>\n",
       "      <th>MeDIP-Seq</th>\n",
       "      <td>6</td>\n",
       "    </tr>\n",
       "    <tr>\n",
       "      <th>Synthetic-Long-Read</th>\n",
       "      <td>6</td>\n",
       "    </tr>\n",
       "    <tr>\n",
       "      <th>CLONE</th>\n",
       "      <td>4</td>\n",
       "    </tr>\n",
       "  </tbody>\n",
       "</table>\n",
       "</div>"
      ],
      "text/plain": [
       "                       library_strategy\n",
       "RNA-Seq                          11,804\n",
       "OTHER                             6,822\n",
       "WGS                               3,737\n",
       "ChIP-Seq                          3,474\n",
       "AMPLICON                            441\n",
       "EST                                 408\n",
       "miRNA-Seq                           275\n",
       "ncRNA-Seq                           231\n",
       "MNase-Seq                           151\n",
       "RIP-Seq                             121\n",
       "SELEX                                32\n",
       "DNase-Hypersensitivity               23\n",
       "FAIRE-seq                            19\n",
       "CLONEEND                             18\n",
       "Bisulfite-Seq                        17\n",
       "FL-cDNA                              13\n",
       "POOLCLONE                             8\n",
       "WGA                                   7\n",
       "MeDIP-Seq                             6\n",
       "Synthetic-Long-Read                   6\n",
       "CLONE                                 4"
      ]
     },
     "execution_count": 24,
     "metadata": {},
     "output_type": "execute_result"
    }
   ],
   "source": [
    "df_tech.library_strategy.value_counts().map(lambda x: '{:,}'.format(x)).to_frame()"
   ]
  },
  {
   "cell_type": "code",
   "execution_count": null,
   "metadata": {},
   "outputs": [],
   "source": []
  }
 ],
 "metadata": {
  "kernelspec": {
   "display_name": "Python [conda env:ncbi_remap]",
   "language": "python",
   "name": "conda-env-ncbi_remap-py"
  },
  "language_info": {
   "codemirror_mode": {
    "name": "ipython",
    "version": 3
   },
   "file_extension": ".py",
   "mimetype": "text/x-python",
   "name": "python",
   "nbconvert_exporter": "python",
   "pygments_lexer": "ipython3",
   "version": "3.5.4"
  },
  "toc": {
   "nav_menu": {},
   "number_sections": true,
   "sideBar": true,
   "skip_h1_title": false,
   "toc_cell": false,
   "toc_position": {},
   "toc_section_display": "block",
   "toc_window_display": false
  }
 },
 "nbformat": 4,
 "nbformat_minor": 2
}
