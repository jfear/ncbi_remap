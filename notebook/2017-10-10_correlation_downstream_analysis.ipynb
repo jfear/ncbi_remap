{
 "cells": [
  {
   "cell_type": "markdown",
   "metadata": {},
   "source": [
    "# Correlation Downstream Analysis"
   ]
  },
  {
   "cell_type": "markdown",
   "metadata": {},
   "source": [
    "### Story\n",
    "SRA is hierarchically structured, with experiments (SRX) representing an individual library and runs (SRR) representing technical replicates of running a library on multiple lanes. It makes sense to collapse SRRs to the SRX level, but there is concern that sometimes SRRs within and SRX were are from separate libraries. To look for these types of relationships it makes sense to look at the correlation of SRRs within SRX and determine if they look like they are from the same library.\n",
    "\n",
    "There are three classes of SRXs: (1) singletons which have only one SRR (n=13,456), (2) dubletons which have two SRRs (n=2,056), and (3) multi which have 3 or more SRRs per SRX (n=6,720). I also identified 170 runs that were missing their counts files. I need to go back and re-run these samples, but wanted to move on for now.\n",
    "\n",
    "I have thought a lot about how to approach this problem. I think the method I have come up with is reasonable. I used a bootstrap approach to approximate and correlation cutoff. Briefly, using samples in the doubletons, I boostrapped 1,000 experiments each with ~1,000 random pairs of samples. I calculated the correlation between each of these samples and found the 95% correlation cutoff (i.e., the correlation value which 95% of random pairs fell below). I took the median from these 1,000 simulations and set a correlation cutoff of ~0.97. I think this number is conservative, because my original sample distribution was small enough that there are probably some real sample pairs in the the simulations. \n",
    "\n",
    "For doubletons, I looked for sample pairs that had correlations below the cutoff. I only kept the SRR with the largest library size. For multi, I compared each SRR (within SRX) to the median of the group. If the correlation was below the cutoff criteria I dropped the SRR. This could potentially remove excessive amounts of SRRs if there is one SRR that is very different and it drives the median further away from the other samples. It would probably be better to do some sort of iterative approach, but this still seems reasonable. Initially for the multi I was trying to use Mahalanobis distance instead, but could never get this to behave correctly.  \n",
    "\n",
    "In general, most SRRs appeared to be highly correlated. I only ended up flagging 1,511 SRRs from 606 SRXs as having low correlations. \n",
    "\n",
    "\n",
    "### Output\n",
    "* I have a file of flags located at `../../output/correlation_downstream_analysis.pkl`\n",
    "    * `flag_missing_counts`: True if the counts file was missing.\n",
    "    * `flag_singleton`: True if the SRX only had 1 SRR.\n",
    "    * `flag_doubleton`: True if the SRX only had 2 SSRs.\n",
    "    * `flag_multi`: True if the SRX had 3 or more SRRs.\n",
    "    * `flag_drop_corr': True if correlation was below cutoff of 0.97"
   ]
  },
  {
   "cell_type": "code",
   "execution_count": null,
   "metadata": {},
   "outputs": [],
   "source": [
    "../../output/correlation_downstream_analysis.pkl"
   ]
  },
  {
   "cell_type": "code",
   "execution_count": 1,
   "metadata": {
    "code_folding": [
     0
    ]
   },
   "outputs": [
    {
     "name": "stdout",
     "output_type": "stream",
     "text": [
      "last updated: 2017-10-10 \n",
      "Git hash: 07b1ebd4420d6ba09fb5fca685f2c9a0c3a65742\n"
     ]
    }
   ],
   "source": [
    "# %load ../start.py\n",
    "# Load useful extensions\n",
    "\n",
    "# Activate the autoreload extension for easy reloading of external packages\n",
    "%reload_ext autoreload\n",
    "%autoreload 2\n",
    "\n",
    "# Trun on the water mark\n",
    "%reload_ext watermark\n",
    "%watermark -u -d -g\n",
    "\n",
    "# Load ipycache extension\n",
    "%reload_ext ipycache\n",
    "from ipycache import CacheMagics\n",
    "CacheMagics.cachedir = '../cachedir'\n",
    "\n",
    "# Add project library to path\n",
    "import sys\n",
    "sys.path.insert(0, '../../lib/python')\n",
    "\n",
    "# The usual suspects\n",
    "import os\n",
    "import numpy as np\n",
    "import pandas as pd\n",
    "\n",
    "# plotting\n",
    "import matplotlib as mpl\n",
    "import matplotlib.pyplot as plt\n",
    "import seaborn as sns\n",
    "\n",
    "%matplotlib inline\n",
    "sns.set_context('poster')\n",
    "\n",
    "# Turn off scientific notation\n",
    "np.set_printoptions(precision=5, suppress=True)\n"
   ]
  },
  {
   "cell_type": "code",
   "execution_count": 2,
   "metadata": {
    "code_folding": [
     0
    ]
   },
   "outputs": [],
   "source": [
    "# %load ../../bin/load.py\n",
    "from pymongo import MongoClient\n",
    "with open('/home/fearjm/Projects/ncbi_remap/output/.mongodb_host', 'r') as fh:\n",
    "    host = fh.read().strip()\n",
    "client = MongoClient(host=host, port=27022)\n",
    "db = client['sra2']\n",
    "remap = db['remap']"
   ]
  },
  {
   "cell_type": "code",
   "execution_count": 3,
   "metadata": {
    "code_folding": [
     0
    ]
   },
   "outputs": [],
   "source": [
    "# imports\n",
    "from itertools import combinations\n",
    "from numpy.random import choice\n",
    "from ncbi_remap.parser import parse_featureCounts_counts\n",
    "from dask import delayed, compute\n",
    "from dask import dataframe as dd\n",
    "from dask.diagnostics import ProgressBar\n",
    "from sklearn.neighbors import KernelDensity"
   ]
  },
  {
   "cell_type": "code",
   "execution_count": 212,
   "metadata": {
    "code_folding": [
     0
    ]
   },
   "outputs": [],
   "source": [
    "# Constatns\n",
    "PATTERN = '../../output/prealignment/raw/{srx}/{srr}/{srr}.hisat2.bam.feature_counts.counts'\n",
    "IGNORE = []\n",
    "CUTOFF = 0.97"
   ]
  },
  {
   "cell_type": "code",
   "execution_count": 252,
   "metadata": {
    "code_folding": [
     0
    ]
   },
   "outputs": [],
   "source": [
    "# functions\n",
    "def check_file(srx, srr):\n",
    "    fname = PATTERN.format(srx=srx, srr=srr)\n",
    "    return srx, srr, os.path.exists(fname)\n",
    "    dfs.append(delayed(os.path.exists)(fname))\n",
    "    \n",
    "    \n",
    "def read_data(srx, srr):\n",
    "    fname = PATTERN.format(srx=srx, srr=srr)\n",
    "    if os.path.exists(fname):\n",
    "        return parse_featureCounts_counts(srr, fname).unstack(level=0)\n",
    "    else:\n",
    "        return None\n",
    "    \n",
    "    \n",
    "# Create delayed pipeline for reading and calcuating corrs\n",
    "def calc_corr(srx, srrs):\n",
    "    curr = []\n",
    "    for srr in srrs:\n",
    "        curr.append(read_data(srx, srr))\n",
    "    merged = pd.concat(curr, axis=1)\n",
    "    return srx, merged.corr().iloc[0, 1], merged.sum().to_dict()\n",
    "\n",
    "\n",
    "def calc_corr_multi(srx, srrs):\n",
    "    curr = []\n",
    "    for srr in srrs:\n",
    "        curr.append(read_data(srx, srr))\n",
    "        \n",
    "    merged = pd.concat(curr, axis=1)\n",
    "    med = merged.median(axis=1)\n",
    "    return merged.apply(lambda x: {\n",
    "        'srx': srx, \n",
    "        'srr': x.name, \n",
    "        'corr': stats.pearsonr(x, med)[0]\n",
    "    }, axis=0).values.tolist()\n",
    "\n",
    "\n",
    "def get_srr(x):\n",
    "    srrs = x.srr_counts.keys()\n",
    "    nsrr = len(srrs)\n",
    "    return pd.DataFrame(list(zip([x.srx]*nsrr, srrs)), columns=['srx', 'verified_srr'])\n",
    "\n",
    "\n",
    "def get_best_srr(x):\n",
    "    best = max(x.srr_counts, key=lambda k: x.srr_counts[k])\n",
    "    return pd.DataFrame([{'srx': x.srx, 'verified_srr': best}])\n",
    "    \n",
    "    \n",
    "def get_files_for_group(df, func=calc_corr):\n",
    "    dfs = []\n",
    "    for srx, srrs in df.groupby('srx').aggregate({'srr': lambda x: x.tolist()}).iterrows():\n",
    "        dfs.append(delayed(func)(srx, srrs[0]))\n",
    "    return dfs"
   ]
  },
  {
   "cell_type": "markdown",
   "metadata": {
    "heading_collapsed": true
   },
   "source": [
    "## How many SRXs have multiple SRRs?"
   ]
  },
  {
   "cell_type": "markdown",
   "metadata": {
    "hidden": true
   },
   "source": [
    "The table below shows how many SRXs have multiple SRRs. The vast majority of SRXs have a single SRR. Very few SRXs have more than 3 SRRs. "
   ]
  },
  {
   "cell_type": "code",
   "execution_count": 6,
   "metadata": {
    "code_folding": [
     0
    ],
    "hidden": true
   },
   "outputs": [],
   "source": [
    "# Query db\n",
    "agg = list(remap.aggregate([\n",
    "    {'$unwind': '$runs'},\n",
    "    {\n",
    "        '$match': {\n",
    "            '$and': [\n",
    "                {'runs.pre_aln_flags': {'$ne': 'download_bad'}},\n",
    "                {'runs.pre_aln_flags': {'$ne': 'alignment_bad'}},\n",
    "                {'runs.pre_aln_flags': {'$ne': 'quality_scores_bad'}},\n",
    "                {'runs.pre_aln_flags': {'$ne': 'abi_solid'}},\n",
    "                \n",
    "            ]\n",
    "        }\n",
    "    },\n",
    "    {'$unwind': '$runs.pre_aln_flags'},\n",
    "    {\n",
    "        '$group': {\n",
    "            '_id': '$_id',\n",
    "            'srrs': {'$addToSet': '$runs.srr'},\n",
    "            'pre_aln_flags': {'$addToSet': '$runs.pre_aln_flags'}\n",
    "        }\n",
    "    },\n",
    "    {\n",
    "        '$match': {\n",
    "            'pre_aln_flags': 'complete'\n",
    "        }\n",
    "    },\n",
    "    {\n",
    "        '$project': {\n",
    "            '_id': 0,\n",
    "            'srx': '$_id',\n",
    "            'num_runs': {'$size': '$srrs'}\n",
    "        }\n",
    "    },\n",
    "]))\n",
    "\n",
    "df = pd.DataFrame(agg)"
   ]
  },
  {
   "cell_type": "code",
   "execution_count": 7,
   "metadata": {
    "code_folding": [
     0
    ],
    "hidden": true
   },
   "outputs": [
    {
     "data": {
      "text/html": [
       "<div>\n",
       "<table border=\"1\" class=\"dataframe\">\n",
       "  <thead>\n",
       "    <tr style=\"text-align: right;\">\n",
       "      <th></th>\n",
       "      <th>Count</th>\n",
       "    </tr>\n",
       "    <tr>\n",
       "      <th>Number SRRs</th>\n",
       "      <th></th>\n",
       "    </tr>\n",
       "  </thead>\n",
       "  <tbody>\n",
       "    <tr>\n",
       "      <th>1</th>\n",
       "      <td>13,456</td>\n",
       "    </tr>\n",
       "    <tr>\n",
       "      <th>2</th>\n",
       "      <td>1,027</td>\n",
       "    </tr>\n",
       "    <tr>\n",
       "      <th>3</th>\n",
       "      <td>415</td>\n",
       "    </tr>\n",
       "    <tr>\n",
       "      <th>5</th>\n",
       "      <td>344</td>\n",
       "    </tr>\n",
       "    <tr>\n",
       "      <th>8</th>\n",
       "      <td>222</td>\n",
       "    </tr>\n",
       "    <tr>\n",
       "      <th>4</th>\n",
       "      <td>193</td>\n",
       "    </tr>\n",
       "    <tr>\n",
       "      <th>6</th>\n",
       "      <td>87</td>\n",
       "    </tr>\n",
       "    <tr>\n",
       "      <th>7</th>\n",
       "      <td>61</td>\n",
       "    </tr>\n",
       "    <tr>\n",
       "      <th>9</th>\n",
       "      <td>12</td>\n",
       "    </tr>\n",
       "    <tr>\n",
       "      <th>10</th>\n",
       "      <td>5</td>\n",
       "    </tr>\n",
       "    <tr>\n",
       "      <th>14</th>\n",
       "      <td>2</td>\n",
       "    </tr>\n",
       "    <tr>\n",
       "      <th>13</th>\n",
       "      <td>2</td>\n",
       "    </tr>\n",
       "    <tr>\n",
       "      <th>15</th>\n",
       "      <td>1</td>\n",
       "    </tr>\n",
       "    <tr>\n",
       "      <th>20</th>\n",
       "      <td>1</td>\n",
       "    </tr>\n",
       "  </tbody>\n",
       "</table>\n",
       "</div>"
      ],
      "text/plain": [
       "              Count\n",
       "Number SRRs        \n",
       "1            13,456\n",
       "2             1,027\n",
       "3               415\n",
       "5               344\n",
       "8               222\n",
       "4               193\n",
       "6                87\n",
       "7                61\n",
       "9                12\n",
       "10                5\n",
       "14                2\n",
       "13                2\n",
       "15                1\n",
       "20                1"
      ]
     },
     "execution_count": 7,
     "metadata": {},
     "output_type": "execute_result"
    }
   ],
   "source": [
    "# summarize counts of SRRs per SRX\n",
    "cnts = df.num_runs.value_counts().to_frame()\n",
    "cnts.index.name = 'Number SRRs'\n",
    "cnts.columns = ['Count']\n",
    "cnts.applymap(lambda x: '{:,}'.format(x))"
   ]
  },
  {
   "cell_type": "markdown",
   "metadata": {
    "heading_collapsed": true
   },
   "source": [
    "## Which SRRs are missing the files?"
   ]
  },
  {
   "cell_type": "code",
   "execution_count": 221,
   "metadata": {
    "code_folding": [
     0
    ],
    "hidden": true
   },
   "outputs": [],
   "source": [
    "# Get a list of all complete and check that they have the files.\n",
    "agg = remap.aggregate([\n",
    "    {'$unwind': '$runs'},\n",
    "    {\n",
    "        '$match': {\n",
    "            '$and': [\n",
    "                {'runs.pre_aln_flags': {'$ne': 'download_bad'}},\n",
    "                {'runs.pre_aln_flags': {'$ne': 'alignment_bad'}},\n",
    "                {'runs.pre_aln_flags': {'$ne': 'quality_scores_bad'}},\n",
    "                {'runs.pre_aln_flags': {'$ne': 'abi_solid'}},\n",
    "                \n",
    "            ]\n",
    "        }\n",
    "    },\n",
    "    {\n",
    "        '$project': {\n",
    "            '_id': 0,\n",
    "            'srx': '$_id',\n",
    "            'srr': '$runs.srr',\n",
    "        }\n",
    "    }\n",
    "])\n",
    "\n",
    "all_srr = pd.DataFrame(list(agg))"
   ]
  },
  {
   "cell_type": "code",
   "execution_count": 222,
   "metadata": {
    "code_folding": [
     0
    ],
    "hidden": true
   },
   "outputs": [
    {
     "name": "stdout",
     "output_type": "stream",
     "text": [
      "[########################################] | 100% Completed | 18.5s\n"
     ]
    }
   ],
   "source": [
    "# Check and see if files are missing. \n",
    "dfs = []\n",
    "for _, row in all_srr.iterrows():\n",
    "    dfs.append(delayed(check_file)(row.srx, row.srr))\n",
    "\n",
    "with ProgressBar():\n",
    "    srr_chk_counts = pd.DataFrame(list(compute(*dfs)), columns=['srx', 'srr', 'flag_counts_exist'])"
   ]
  },
  {
   "cell_type": "code",
   "execution_count": 223,
   "metadata": {
    "code_folding": [
     0
    ],
    "hidden": true
   },
   "outputs": [
    {
     "data": {
      "text/html": [
       "<div>\n",
       "<table border=\"1\" class=\"dataframe\">\n",
       "  <thead>\n",
       "    <tr style=\"text-align: right;\">\n",
       "      <th></th>\n",
       "      <th>flag_counts_exist</th>\n",
       "    </tr>\n",
       "  </thead>\n",
       "  <tbody>\n",
       "    <tr>\n",
       "      <th>True</th>\n",
       "      <td>22,189</td>\n",
       "    </tr>\n",
       "    <tr>\n",
       "      <th>False</th>\n",
       "      <td>10,632</td>\n",
       "    </tr>\n",
       "  </tbody>\n",
       "</table>\n",
       "</div>"
      ],
      "text/plain": [
       "      flag_counts_exist\n",
       "True             22,189\n",
       "False            10,632"
      ]
     },
     "execution_count": 223,
     "metadata": {},
     "output_type": "execute_result"
    }
   ],
   "source": [
    "# There are 10,632 files missing\n",
    "srr_chk_counts.flag_counts_exist.value_counts().to_frame().applymap(lambda x: '{:,}'.format(x))"
   ]
  },
  {
   "cell_type": "code",
   "execution_count": 224,
   "metadata": {
    "code_folding": [
     0
    ],
    "hidden": true
   },
   "outputs": [],
   "source": [
    "# IGNORE SRXs with missing files for now.\n",
    "IGNORE = list(set(srr_chk_counts.loc[~srr_chk_counts.flag_counts_exist, 'srx'].tolist()))\n",
    "#IGNORE.extend(['SRX1059356', ])"
   ]
  },
  {
   "cell_type": "markdown",
   "metadata": {
    "heading_collapsed": true
   },
   "source": [
    "## What is the correlation like when there are 2 SRRs?"
   ]
  },
  {
   "cell_type": "markdown",
   "metadata": {
    "heading_collapsed": true,
    "hidden": true
   },
   "source": [
    "### Calculate correlation among SRRs within SRX.\n",
    "\n",
    "This first approach just calculates SRRs within each SRX (with two SRRs). I then plot the distribution and see that the majority of samples have a correlation ≥.90, with only 65 SRXs with less than that.\n",
    "\n",
    "The question is where to draw that cutoff. While .90 seems reasonable, perhaps a cutoff at .95 would be better. "
   ]
  },
  {
   "cell_type": "code",
   "execution_count": 206,
   "metadata": {
    "code_folding": [
     0
    ],
    "hidden": true
   },
   "outputs": [],
   "source": [
    "# Grab srx/srr where there are two srr per srx.\n",
    "srxs = df.loc[df.num_runs == 2, 'srx'].values.tolist()\n",
    "\n",
    "agg = remap.aggregate([\n",
    "    {\n",
    "        '$match': {\n",
    "            '$and': [\n",
    "                {'_id': {'$in': srxs}},\n",
    "                {'_id': {'$nin': IGNORE}},\n",
    "            ]\n",
    "        }\n",
    "    },\n",
    "    {'$unwind': '$runs'},\n",
    "    {\n",
    "        '$match': {\n",
    "            '$and': [\n",
    "                {'runs.pre_aln_flags': {'$ne': 'download_bad'}},\n",
    "                {'runs.pre_aln_flags': {'$ne': 'alignment_bad'}},\n",
    "                {'runs.pre_aln_flags': {'$ne': 'quality_scores_bad'}},\n",
    "                {'runs.pre_aln_flags': {'$ne': 'abi_solid'}},\n",
    "                \n",
    "            ]\n",
    "        }\n",
    "    },\n",
    "    {\n",
    "        '$project': {\n",
    "            '_id': 0,\n",
    "            'srx': '$_id',\n",
    "            'srr': '$runs.srr',\n",
    "        }\n",
    "    }\n",
    "])\n",
    "\n",
    "twos = pd.DataFrame(list(agg))"
   ]
  },
  {
   "cell_type": "code",
   "execution_count": 248,
   "metadata": {
    "code_folding": [
     0
    ],
    "hidden": true
   },
   "outputs": [
    {
     "name": "stdout",
     "output_type": "stream",
     "text": [
      "[########################################] | 100% Completed |  3min  6.8s\n"
     ]
    }
   ],
   "source": [
    "# do all the computation\n",
    "with ProgressBar():\n",
    "    pair_srr_corr = compute(*get_files_for_group(twos))"
   ]
  },
  {
   "cell_type": "code",
   "execution_count": 249,
   "metadata": {
    "code_folding": [
     0
    ],
    "hidden": true
   },
   "outputs": [
    {
     "data": {
      "text/plain": [
       "<matplotlib.axes._subplots.AxesSubplot at 0x2aac4942fe80>"
      ]
     },
     "execution_count": 249,
     "metadata": {},
     "output_type": "execute_result"
    },
    {
     "data": {
      "image/png": "[encoded data removed]",
      "text/plain": [
       "<matplotlib.figure.Figure at 0x2aac4942fb38>"
      ]
     },
     "metadata": {},
     "output_type": "display_data"
    }
   ],
   "source": [
    "# Make table and plot results\n",
    "df_corr = pd.DataFrame(list(pair_srr_corr), columns=['srx', 'corr', 'srr_counts'])\n",
    "sns.distplot(df_corr['corr'])"
   ]
  },
  {
   "cell_type": "code",
   "execution_count": 16,
   "metadata": {
    "code_folding": [
     0
    ],
    "hidden": true
   },
   "outputs": [
    {
     "name": "stdout",
     "output_type": "stream",
     "text": [
      "Total: 1,025\n",
      "<0.9: 65\n",
      "<.95: 121\n",
      "<.98: 223\n",
      "\n"
     ]
    }
   ],
   "source": [
    "# print summary numbers\n",
    "print('Total: {:,}'.format(df_corr.shape[0]))\n",
    "print(\"\"\"\\\n",
    "<0.9: {}\n",
    "<.95: {}\n",
    "<.98: {}\n",
    "\"\"\".format((df_corr['corr'] < .90).sum(), (df_corr['corr'] < .95).sum(), (df_corr['corr'] < .98).sum()))"
   ]
  },
  {
   "cell_type": "markdown",
   "metadata": {
    "heading_collapsed": true,
    "hidden": true
   },
   "source": [
    "### Let's Bootstrap"
   ]
  },
  {
   "cell_type": "code",
   "execution_count": 17,
   "metadata": {
    "code_folding": [
     0
    ],
    "hidden": true
   },
   "outputs": [],
   "source": [
    "# Create delayed pipeline for reading in coverage counts\n",
    "dfs = []\n",
    "for srx, srrs in twos.groupby('srx').aggregate({'srr': lambda x: x.tolist()}).iterrows():\n",
    "    for srr in srrs[0]:\n",
    "        dfs.append(delayed(read_data)(srx, srr))"
   ]
  },
  {
   "cell_type": "code",
   "execution_count": 18,
   "metadata": {
    "code_folding": [
     0
    ],
    "hidden": true
   },
   "outputs": [
    {
     "name": "stdout",
     "output_type": "stream",
     "text": [
      "[########################################] | 100% Completed |  0.2s\n",
      "[########################################] | 100% Completed |  2min 58.5s\n"
     ]
    }
   ],
   "source": [
    "# Compute to build dataframe\n",
    "with ProgressBar():\n",
    "    df_counts = dfs[0].compute()\n",
    "    df_counts = df_counts.join(list(compute(*dfs[1:], num_workers=10)))\n",
    "\n",
    "# Calculate pairwise correlation\n",
    "all_corr = df_counts.corr()"
   ]
  },
  {
   "cell_type": "code",
   "execution_count": 19,
   "metadata": {
    "code_folding": [
     0
    ],
    "hidden": true
   },
   "outputs": [],
   "source": [
    "# Use a bootstrap type method to identify where the 95% cutoff for correlations should be.\n",
    "def kde(data, corr_df, alpha=0.95):\n",
    "    \"\"\"Calculates KDE and then estimates correlation which 95% of samples are below.\n",
    "    \n",
    "    Parameters:\n",
    "    -----------\n",
    "    data: np.array\n",
    "        Array of tuples with pairs of SRRs. The pairs of SRRs should be randomly put together.\n",
    "    \n",
    "    corr_df: pandas.DataFrame\n",
    "        All pairwise correlations among all SRRs being examined.\n",
    "        \n",
    "    alpha: float < 1\n",
    "        The cutoff to use to estimate correlation value that is larger than `alpha` * 100 samples.\n",
    "    \"\"\"\n",
    "    # Pull out correlations\n",
    "    corrs = []\n",
    "    for first, second in data:\n",
    "        corrs.append(corr_df.loc[first, second])\n",
    "\n",
    "    # Fit emperical KDE\n",
    "    kde_skl = KernelDensity(bandwidth=0.2)\n",
    "    kde_skl.fit(np.asarray(corrs)[:, np.newaxis])\n",
    "    \n",
    "    # Calculate pdf on Grid\n",
    "    x_grid = np.linspace(-1, 2, 1000)\n",
    "    log_pdf = kde_skl.score_samples(x_grid[:, np.newaxis])\n",
    "    \n",
    "    # Integrate and find cutoff at alpha\n",
    "    cum = np.cumsum(np.exp(log_pdf)) \n",
    "    return x_grid[np.argmax((cum / max(cum)) > alpha)]\n",
    "\n",
    "# Figure out all possible combinations\n",
    "all_possible_combos = np.array(list(combinations(twos.srr.tolist(), 2)))\n",
    "idx = np.arange(0, len(all_possible_combos))\n",
    "\n",
    "# Lets do some experiments\n",
    "nexp = 1000                   # number of experiments to run\n",
    "nobs = df_corr.shape[0]        # number of samples per experiment\n",
    "experiments = all_possible_combos[choice(idx, size=(nexp, nobs)), :]"
   ]
  },
  {
   "cell_type": "code",
   "execution_count": 20,
   "metadata": {
    "code_folding": [
     0
    ],
    "hidden": true,
    "scrolled": false
   },
   "outputs": [
    {
     "name": "stdout",
     "output_type": "stream",
     "text": [
      "[########################################] | 100% Completed |  5min 44.4s\n"
     ]
    }
   ],
   "source": [
    "# Compute kde and cutoff loctions\n",
    "random = [delayed(kde)(x, all_corr) for x in experiments]\n",
    "with ProgressBar():\n",
    "    random = compute(*random)"
   ]
  },
  {
   "cell_type": "code",
   "execution_count": 67,
   "metadata": {
    "code_folding": [
     0
    ],
    "hidden": true
   },
   "outputs": [
    {
     "name": "stdout",
     "output_type": "stream",
     "text": [
      "Using a correlation cutoff of 0.966967, I will combine 2 random samples by chance only 5% of the time\n"
     ]
    }
   ],
   "source": [
    "# output boostrap summary Make sure to change CUTOFF\n",
    "print(\n",
    "    'Using a correlation cutoff of {:0f}, '\n",
    "    'I will combine 2 random samples by chance only 5% of the time'.format(np.median(random))\n",
    ")"
   ]
  },
  {
   "cell_type": "code",
   "execution_count": 68,
   "metadata": {
    "code_folding": [
     0
    ],
    "hidden": true
   },
   "outputs": [
    {
     "data": {
      "image/png": "[encoded data removed]",
      "text/plain": [
       "<matplotlib.figure.Figure at 0x2aaf052e2198>"
      ]
     },
     "metadata": {},
     "output_type": "display_data"
    }
   ],
   "source": [
    "# Plot boostrap results\n",
    "ax = sns.distplot(list(random))\n",
    "ax.set_title('Boostrapped 95% Correlation Thresholds')\n",
    "ax.axvline(CUTOFF, color='r', ls='--', lw=2, label='{:0.2f}'.format(CUTOFF));\n",
    "ax.legend()\n",
    "ax.set_xlabel('Correation Value at which 95% Boostrapped Samples were Below')\n",
    "ax.set_ylabel('Density');"
   ]
  },
  {
   "cell_type": "code",
   "execution_count": 69,
   "metadata": {
    "hidden": true
   },
   "outputs": [
    {
     "data": {
      "text/plain": [
       "178"
      ]
     },
     "execution_count": 69,
     "metadata": {},
     "output_type": "execute_result"
    }
   ],
   "source": [
    "(df_corr['corr'] < CUTOFF).sum()"
   ]
  },
  {
   "cell_type": "code",
   "execution_count": 70,
   "metadata": {
    "hidden": true
   },
   "outputs": [
    {
     "data": {
      "text/plain": [
       "<matplotlib.axes._subplots.AxesSubplot at 0x2aaaf6e43240>"
      ]
     },
     "execution_count": 70,
     "metadata": {},
     "output_type": "execute_result"
    },
    {
     "data": {
      "image/png": "[encoded data removed]",
      "text/plain": [
       "<matplotlib.figure.Figure at 0x2aabd0b81d68>"
      ]
     },
     "metadata": {},
     "output_type": "display_data"
    }
   ],
   "source": [
    "sns.distplot(df_corr.loc[(df_corr['corr'] < CUTOFF), 'corr'])"
   ]
  },
  {
   "cell_type": "markdown",
   "metadata": {
    "heading_collapsed": true,
    "hidden": true
   },
   "source": [
    "### Create table of SRX to SRR that can be merged"
   ]
  },
  {
   "cell_type": "code",
   "execution_count": 253,
   "metadata": {
    "code_folding": [
     0
    ],
    "hidden": true
   },
   "outputs": [],
   "source": [
    "# If pair above cutoff then output both SRR, if pair less than cutoff only output the SRR with the most reads.\n",
    "mask = df_corr['corr'] >= CUTOFF\n",
    "\n",
    "dfs = []\n",
    "for _, row in df_corr[mask].iterrows():\n",
    "    dfs.append(get_srr(row))\n",
    "    \n",
    "for _, row in df_corr[~mask].iterrows():\n",
    "    dfs.append(get_best_srr(row))\n",
    "    \n",
    "df_verified_pairs = pd.concat(dfs, ignore_index=True)"
   ]
  },
  {
   "cell_type": "code",
   "execution_count": 254,
   "metadata": {
    "code_folding": [
     0
    ],
    "hidden": true
   },
   "outputs": [],
   "source": [
    "# check that I have not lost anything\n",
    "assert df_verified_pairs.srx.nunique() == twos.srx.nunique()"
   ]
  },
  {
   "cell_type": "markdown",
   "metadata": {
    "heading_collapsed": true
   },
   "source": [
    "## Now work with SRXs with more than 2 SRRs"
   ]
  },
  {
   "cell_type": "code",
   "execution_count": 7,
   "metadata": {
    "code_folding": [
     0
    ],
    "hidden": true
   },
   "outputs": [],
   "source": [
    "# Grab srx/srr where there are more than srr per srx.\n",
    "srxs = df.loc[df.num_runs > 2, 'srx'].values.tolist()\n",
    "\n",
    "agg = remap.aggregate([\n",
    "    {\n",
    "        '$match': {\n",
    "            '$and': [\n",
    "                {'_id': {'$in': srxs}},\n",
    "                {'_id': {'$nin': IGNORE}},\n",
    "            ]\n",
    "        }\n",
    "    },\n",
    "    {'$unwind': '$runs'},\n",
    "    {\n",
    "        '$match': {\n",
    "            '$and': [\n",
    "                {'runs.pre_aln_flags': {'$ne': 'download_bad'}},\n",
    "                {'runs.pre_aln_flags': {'$ne': 'alignment_bad'}},\n",
    "                {'runs.pre_aln_flags': {'$ne': 'quality_scores_bad'}},\n",
    "                {'runs.pre_aln_flags': {'$ne': 'abi_solid'}},\n",
    "                \n",
    "            ]\n",
    "        }\n",
    "    },\n",
    "    {\n",
    "        '$project': {\n",
    "            '_id': 0,\n",
    "            'srx': '$_id',\n",
    "            'srr': '$runs.srr',\n",
    "        }\n",
    "    }\n",
    "])\n",
    "\n",
    "multi = pd.DataFrame(list(agg))"
   ]
  },
  {
   "cell_type": "code",
   "execution_count": 188,
   "metadata": {
    "code_folding": [],
    "hidden": true
   },
   "outputs": [
    {
     "name": "stdout",
     "output_type": "stream",
     "text": [
      "[########################################] | 100% Completed | 39min 26.0s\n"
     ]
    }
   ],
   "source": [
    "# do all the computation\n",
    "with ProgressBar():\n",
    "    multi_srr_corr = compute(*get_files_for_group(multi, func=calc_corr_multi))"
   ]
  },
  {
   "cell_type": "code",
   "execution_count": 190,
   "metadata": {
    "code_folding": [
     0
    ],
    "hidden": true
   },
   "outputs": [
    {
     "data": {
      "text/plain": [
       "<matplotlib.axes._subplots.AxesSubplot at 0x2aabc8576c88>"
      ]
     },
     "execution_count": 190,
     "metadata": {},
     "output_type": "execute_result"
    },
    {
     "data": {
      "image/png": "[encoded data removed]",
      "text/plain": [
       "<matplotlib.figure.Figure at 0x2aabf47d00f0>"
      ]
     },
     "metadata": {},
     "output_type": "display_data"
    }
   ],
   "source": [
    "# Make table and plot results\n",
    "df_multi_corr = pd.concat([pd.DataFrame(x) for x in multi_srr_corr])\n",
    "sns.distplot(df_multi_corr['corr'])"
   ]
  },
  {
   "cell_type": "code",
   "execution_count": 200,
   "metadata": {
    "hidden": true
   },
   "outputs": [
    {
     "name": "stdout",
     "output_type": "stream",
     "text": [
      "There are 1,333 runs that fall below our cutoff criteria.\n"
     ]
    }
   ],
   "source": [
    "print('There are {:,} runs that fall below our cutoff criteria.'.format((df_multi_corr['corr'] < CUTOFF).sum()))"
   ]
  },
  {
   "cell_type": "markdown",
   "metadata": {},
   "source": [
    "## Create Output Table"
   ]
  },
  {
   "cell_type": "code",
   "execution_count": 201,
   "metadata": {
    "code_folding": [
     0
    ]
   },
   "outputs": [],
   "source": [
    "# Get list of singletons.\n",
    "# Grab srx/srr where there are more than srr per srx.\n",
    "srxs = df.loc[df.num_runs == 1, 'srx'].values.tolist()\n",
    "\n",
    "agg = remap.aggregate([\n",
    "    {\n",
    "        '$match': {\n",
    "            '$and': [\n",
    "                {'_id': {'$in': srxs}},\n",
    "                {'_id': {'$nin': IGNORE}},\n",
    "            ]\n",
    "        }\n",
    "    },\n",
    "    {'$unwind': '$runs'},\n",
    "    {\n",
    "        '$match': {\n",
    "            '$and': [\n",
    "                {'runs.pre_aln_flags': {'$ne': 'download_bad'}},\n",
    "                {'runs.pre_aln_flags': {'$ne': 'alignment_bad'}},\n",
    "                {'runs.pre_aln_flags': {'$ne': 'quality_scores_bad'}},\n",
    "                {'runs.pre_aln_flags': {'$ne': 'abi_solid'}},\n",
    "                \n",
    "            ]\n",
    "        }\n",
    "    },\n",
    "    {\n",
    "        '$project': {\n",
    "            '_id': 0,\n",
    "            'srx': '$_id',\n",
    "            'srr': '$runs.srr',\n",
    "        }\n",
    "    }\n",
    "])\n",
    "\n",
    "singles = pd.DataFrame(list(agg))"
   ]
  },
  {
   "cell_type": "code",
   "execution_count": 262,
   "metadata": {
    "code_folding": [
     0
    ]
   },
   "outputs": [],
   "source": [
    "# Prep flags\n",
    "singles['flag_singleton'] = True\n",
    "singles['flag_drop_corr'] = False\n",
    "singles['flag_missing_counts'] = False\n",
    "\n",
    "twos['flag_doubleton'] = True\n",
    "twos['flag_drop_corr'] = False\n",
    "twos['flag_missing_counts'] = False\n",
    "\n",
    "multi['flag_multi'] = True\n",
    "multi['flag_drop_corr'] = False\n",
    "multi['flag_missing_counts'] = False\n",
    "\n",
    "# Update singles\n",
    "## Flag singletons with missing files\n",
    "singles.loc[singles.srx.isin(IGNORE), 'flag_missing_counts'] = True\n",
    "\n",
    "# Update twos flags based on cutoffs\n",
    "## Flag pairs with missing files\n",
    "twos.loc[twos.srx.isin(IGNORE), 'flag_missing_counts'] = True\n",
    "\n",
    "## Flag SRRs with low correlation\n",
    "twos.loc[~twos.srr.isin(df_verified_pairs.verified_srr) & ~twos.flag_missing_counts, 'flag_drop_corr'] = True\n",
    "\n",
    "# Update multi flags based on cutoffs\n",
    "## Flag SRXs with missing files\n",
    "multi.loc[multi.srx.isin(IGNORE), 'flag_missing_counts'] = True\n",
    "\n",
    "## Flag SRRs with low correlation\n",
    "srr_drop = df_multi_corr[df_multi_corr['corr'] < CUTOFF].srr\n",
    "multi.loc[multi.srr.isin(srr_drop.values) & ~multi.flag_missing_counts, 'flag_drop_corr'] = True\n",
    "\n",
    "# merge everything together\n",
    "output = pd.concat([singles, twos, multi], ignore_index=True).fillna(False)"
   ]
  },
  {
   "cell_type": "code",
   "execution_count": 278,
   "metadata": {},
   "outputs": [],
   "source": [
    "# Save output\n",
    "cols = [\n",
    "    'srx', 'srr', 'flag_missing_counts',\n",
    "    'flag_singleton', 'flag_doubleton', 'flag_multi',\n",
    "    'flag_drop_corr'\n",
    "]\n",
    "output[cols].set_index(['srx', 'srr']).to_pickle('../../output/correlation_downstream_analysis.pkl')"
   ]
  },
  {
   "cell_type": "code",
   "execution_count": 298,
   "metadata": {},
   "outputs": [
    {
     "data": {
      "text/plain": [
       "flag_doubleton                                                      2056\n",
       "flag_drop_corr                                                      1511\n",
       "flag_missing_counts                                                  170\n",
       "flag_multi                                                          6720\n",
       "flag_singleton                                                     13456\n",
       "srr                    DRR001177DRR001178DRR001444DRR001445DRR001446D...\n",
       "srx                    DRX000774DRX000775DRX000998DRX000999DRX001000D...\n",
       "dtype: object"
      ]
     },
     "execution_count": 298,
     "metadata": {},
     "output_type": "execute_result"
    }
   ],
   "source": [
    "output.sum()"
   ]
  },
  {
   "cell_type": "code",
   "execution_count": 301,
   "metadata": {},
   "outputs": [
    {
     "data": {
      "text/plain": [
       "606"
      ]
     },
     "execution_count": 301,
     "metadata": {},
     "output_type": "execute_result"
    }
   ],
   "source": [
    "output.loc[output.flag_drop_corr, 'srx'].nunique()"
   ]
  },
  {
   "cell_type": "code",
   "execution_count": 304,
   "metadata": {},
   "outputs": [
    {
     "data": {
      "text/plain": [
       "srx                                                SRX043517\n",
       "corr                                                0.147669\n",
       "srr_counts    {'SRR103723': 29615181, 'SRR103724': 28138346}\n",
       "Name: 377, dtype: object"
      ]
     },
     "execution_count": 304,
     "metadata": {},
     "output_type": "execute_result"
    }
   ],
   "source": [
    "df_corr.iloc[df_corr['corr'].argmin()]"
   ]
  },
  {
   "cell_type": "code",
   "execution_count": 305,
   "metadata": {},
   "outputs": [
    {
     "data": {
      "text/html": [
       "<div>\n",
       "<table border=\"1\" class=\"dataframe\">\n",
       "  <thead>\n",
       "    <tr style=\"text-align: right;\">\n",
       "      <th></th>\n",
       "      <th>srx</th>\n",
       "      <th>corr</th>\n",
       "      <th>srr_counts</th>\n",
       "    </tr>\n",
       "  </thead>\n",
       "  <tbody>\n",
       "    <tr>\n",
       "      <th>377</th>\n",
       "      <td>SRX043517</td>\n",
       "      <td>0.147669</td>\n",
       "      <td>{'SRR103723': 29615181, 'SRR103724': 28138346}</td>\n",
       "    </tr>\n",
       "  </tbody>\n",
       "</table>\n",
       "</div>"
      ],
      "text/plain": [
       "           srx      corr                                      srr_counts\n",
       "377  SRX043517  0.147669  {'SRR103723': 29615181, 'SRR103724': 28138346}"
      ]
     },
     "execution_count": 305,
     "metadata": {},
     "output_type": "execute_result"
    }
   ],
   "source": [
    "df_corr[df_corr.srx == 'SRX043517']"
   ]
  },
  {
   "cell_type": "code",
   "execution_count": null,
   "metadata": {},
   "outputs": [],
   "source": []
  }
 ],
 "metadata": {
  "kernelspec": {
   "display_name": "Python [conda env:ncbi_remap]",
   "language": "python",
   "name": "conda-env-ncbi_remap-py"
  },
  "language_info": {
   "codemirror_mode": {
    "name": "ipython",
    "version": 3
   },
   "file_extension": ".py",
   "mimetype": "text/x-python",
   "name": "python",
   "nbconvert_exporter": "python",
   "pygments_lexer": "ipython3",
   "version": "3.5.3"
  },
  "toc": {
   "nav_menu": {},
   "number_sections": false,
   "sideBar": true,
   "skip_h1_title": false,
   "toc_cell": false,
   "toc_position": {},
   "toc_section_display": "block",
   "toc_window_display": false
  }
 },
 "nbformat": 4,
 "nbformat_minor": 2
}
