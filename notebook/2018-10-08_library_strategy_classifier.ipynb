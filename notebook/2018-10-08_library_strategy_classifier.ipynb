{
 "cells": [
  {
   "cell_type": "code",
   "execution_count": 1,
   "metadata": {},
   "outputs": [
    {
     "name": "stderr",
     "output_type": "stream",
     "text": [
      "/home/fearjm/miniconda3/envs/ncbi_remap/lib/python3.6/site-packages/sklearn/utils/fixes.py:313: FutureWarning: numpy not_equal will not check object identity in the future. The comparison did not return the same result as suggested by the identity (`is`)) and will change.\n",
      "  _nan_object_mask = _nan_object_array != _nan_object_array\n"
     ]
    }
   ],
   "source": [
    "import os\n",
    "import sys\n",
    "from pathlib import Path\n",
    "\n",
    "from IPython.display import display, HTML, Markdown\n",
    "import numpy as np\n",
    "import pandas as pd\n",
    "\n",
    "import matplotlib as mpl\n",
    "import matplotlib.pyplot as plt\n",
    "import seaborn as sns\n",
    "\n",
    "from sklearn.pipeline import make_pipeline\n",
    "from sklearn.preprocessing import StandardScaler, LabelEncoder\n",
    "from sklearn.model_selection import train_test_split, learning_curve\n",
    "from sklearn.ensemble import RandomForestClassifier\n",
    "from sklearn.decomposition import PCA\n",
    "from sklearn.metrics import classification_report\n",
    "\n",
    "# Project level imports\n",
    "sys.path.insert(0, '../lib')\n",
    "from ncbi_remap.notebook import Nb\n",
    "from ncbi_remap.plotting import make_figs"
   ]
  },
  {
   "cell_type": "code",
   "execution_count": 2,
   "metadata": {},
   "outputs": [
    {
     "name": "stdout",
     "output_type": "stream",
     "text": [
      "Please check output/fbgn2chrom.tsv. If it does not exist, run bin/fbgn2chrom.py\n",
      "last updated: 2018-10-08 \n",
      "Git hash: c5425d3c436714fc2475c8e5525cbd28738fd3eb\n"
     ]
    }
   ],
   "source": [
    "# Setup notebook\n",
    "nbconfig = Nb.setup_notebook()"
   ]
  },
  {
   "cell_type": "code",
   "execution_count": 3,
   "metadata": {},
   "outputs": [],
   "source": [
    "# Connect to data store\n",
    "store = pd.HDFStore('../output/sra.h5', mode='r')"
   ]
  },
  {
   "cell_type": "code",
   "execution_count": 4,
   "metadata": {},
   "outputs": [],
   "source": [
    "complete_srx = store['aln/complete'].srx.unique().tolist()"
   ]
  },
  {
   "cell_type": "code",
   "execution_count": 5,
   "metadata": {},
   "outputs": [],
   "source": [
    "from pymongo import MongoClient\n",
    "try:\n",
    "    with open('../output/.mongodb_host', 'r') as fh:\n",
    "        host = fh.read().strip()\n",
    "except FileNotFoundError:\n",
    "    host = 'localhost'\n",
    "\n",
    "mongoClient = MongoClient(host=host, port=27017)\n",
    "db = mongoClient['sra']\n",
    "ncbi = db['ncbi']"
   ]
  },
  {
   "cell_type": "markdown",
   "metadata": {},
   "source": [
    "## Pull Out Library Strategy"
   ]
  },
  {
   "cell_type": "code",
   "execution_count": 6,
   "metadata": {},
   "outputs": [],
   "source": [
    "libstrat = pd.DataFrame(list(ncbi.aggregate([\n",
    "    {\n",
    "        '$match': {\n",
    "            '_id': {'$in': complete_srx},\n",
    "        }\n",
    "    },\n",
    "    {\n",
    "        '$unwind': {\n",
    "            'path': \"$runs\"\n",
    "        }\n",
    "    },\n",
    "    {\n",
    "        '$project': {\n",
    "            '_id': 0,\n",
    "            'srx': '$srx',\n",
    "            'srr': '$runs.srr',\n",
    "            'library_strategy': '$sra.experiment.library_strategy'\n",
    "        }\n",
    "    }\n",
    "]))).set_index(['srx', 'srr'])\n",
    "\n",
    "libstrat_srx = libstrat.reset_index().groupby('srx').first().library_strategy"
   ]
  },
  {
   "cell_type": "code",
   "execution_count": 7,
   "metadata": {},
   "outputs": [
    {
     "data": {
      "text/plain": [
       "RNA-Seq                   14423\n",
       "EST                        4546\n",
       "ChIP-Seq                   3003\n",
       "OTHER                      2572\n",
       "WGS                        1972\n",
       "miRNA-Seq                   131\n",
       "MNase-Seq                   116\n",
       "Targeted-Capture             96\n",
       "AMPLICON                     86\n",
       "ncRNA-Seq                    69\n",
       "RIP-Seq                      58\n",
       "FAIRE-seq                    19\n",
       "DNase-Hypersensitivity       10\n",
       "POOLCLONE                     8\n",
       "FL-cDNA                       7\n",
       "CLONEEND                      7\n",
       "MeDIP-Seq                     6\n",
       "WGA                           6\n",
       "Bisulfite-Seq                 5\n",
       "CLONE                         1\n",
       "Name: library_strategy, dtype: int64"
      ]
     },
     "execution_count": 7,
     "metadata": {},
     "output_type": "execute_result"
    }
   ],
   "source": [
    "vcnts = libstrat_srx.value_counts()\n",
    "vcnts"
   ]
  },
  {
   "cell_type": "code",
   "execution_count": 8,
   "metadata": {},
   "outputs": [],
   "source": [
    "drop_label = vcnts.index[vcnts < 50].tolist()"
   ]
  },
  {
   "cell_type": "code",
   "execution_count": 9,
   "metadata": {},
   "outputs": [],
   "source": [
    "# Change everything with fewer than 50 samples to OTHER, the classifiers don't work well with too few samples\n",
    "for label in drop_label:\n",
    "    libstrat_srx[libstrat_srx == label] = 'OTHER'"
   ]
  },
  {
   "cell_type": "code",
   "execution_count": 10,
   "metadata": {},
   "outputs": [],
   "source": [
    "srrs = libstrat.index.get_level_values('srr')\n",
    "srxs = libstrat_srx.index"
   ]
  },
  {
   "cell_type": "markdown",
   "metadata": {},
   "source": [
    "## Build Feature Table"
   ]
  },
  {
   "cell_type": "code",
   "execution_count": 11,
   "metadata": {},
   "outputs": [],
   "source": [
    "# collect RNA-seq metrics\n",
    "cols = [\n",
    "    'PCT_CODING_BASES',\n",
    "    'PCT_UTR_BASES',\n",
    "    'PCT_INTRONIC_BASES',\n",
    "    'PCT_INTERGENIC_BASES',\n",
    "    'PCT_MRNA_BASES',\n",
    "    'MEDIAN_CV_COVERAGE',\n",
    "    'MEDIAN_5PRIME_BIAS',\n",
    "    'MEDIAN_3PRIME_BIAS'\n",
    "]\n",
    "\n",
    "cm = store.select('prealn/workflow/collectrnaseqmetrics/unstranded', where='srx == srxs', columns=cols)\n",
    "\n",
    "# collect RNA-seq metrics gene body coverage\n",
    "gb = store.select('prealn/workflow/collectrnaseqmetrics/genebody', where='srx == srxs')\n",
    "\n",
    "# markduplicates\n",
    "cols = [\n",
    "    'PERCENT_DUPLICATION',\n",
    "]\n",
    "\n",
    "mark = store.select('prealn/workflow/markduplicates', where='srx == srxs', columns=cols)\n",
    "\n",
    "# feature counts summary\n",
    "cols = [\n",
    "    'Assigned',\n",
    "    'Unassigned_Ambiguity',\n",
    "    'Unassigned_MultiMapping',\n",
    "    'Unassigned_NoFeatures',\n",
    "    'Unassigned_Unmapped'\n",
    "]\n",
    "\n",
    "feature_summary = store.select('prealn/workflow/feature_counts/summary', columns=cols, where='srx == srxs')\n",
    "\n",
    "# Munge together\n",
    "dat_by_srr = cm.join(gb).join(mark).join(feature_summary)\n",
    "dat_by_srr_no_na = dat_by_srr.fillna(dat_by_srr.mean().to_dict(), axis=0)\n",
    "dat_by_srr_no_na.shape\n",
    "\n",
    "# Coverage counts\n",
    "genic = pd.read_parquet('../output/aln-downstream-wf/aggregate_genic_counts.parquet').reindex(srxs)['count']\n",
    "genic.name = 'genic'\n",
    "genic = genic.astype(np.float64)\n",
    "\n",
    "intergenic = pd.read_parquet('../output/aln-downstream-wf/aggregate_intergenic_counts.parquet').reindex(srxs)['count']\n",
    "intergenic.name = 'intergenic'\n",
    "intergenic = intergenic.astype(np.float64)\n",
    "\n",
    "junctions = pd.read_parquet('../output/aln-downstream-wf/aggregate_junction_counts.parquet').reindex(srxs)['count']\n",
    "junctions.name = 'junctions'\n",
    "junctions = junctions.astype(np.float64)\n",
    "\n",
    "coverage = pd.concat([genic, intergenic, junctions], axis=1)\n",
    "\n",
    "# Make feature set with all features\n",
    "features = dat_by_srr_no_na.reset_index().groupby('srx').mean().join(coverage)"
   ]
  },
  {
   "cell_type": "code",
   "execution_count": 12,
   "metadata": {},
   "outputs": [],
   "source": [
    "# Only look at things we have features for\n",
    "Y = libstrat_srx.reindex(features.index)\n",
    "\n",
    "# split out the OTHER category\n",
    "Y_OTHER = Y[Y == 'OTHER'].copy()\n",
    "features_OTHER = features.reindex(Y_OTHER.index).dropna()\n",
    "\n",
    "Y = Y[Y != 'OTHER'].copy()\n",
    "features = features.reindex(Y.index)"
   ]
  },
  {
   "cell_type": "code",
   "execution_count": 13,
   "metadata": {},
   "outputs": [],
   "source": [
    "# Encode labels\n",
    "encoder = LabelEncoder()\n",
    "Y_enc = encoder.fit_transform(Y)\n",
    "\n",
    "X = features.values"
   ]
  },
  {
   "cell_type": "markdown",
   "metadata": {},
   "source": [
    "## Random Forest Classifier"
   ]
  },
  {
   "cell_type": "markdown",
   "metadata": {},
   "source": [
    "First I want to construct a random forest classifier that is trained on a subset of the data and can classify samples. I then look for instances where a sample appears to be mis classified.\n",
    "\n",
    "There is a small problem with train_test_split, because of differences in class size there are some classes that are missing from the training set. This throws an error when calling precision."
   ]
  },
  {
   "cell_type": "code",
   "execution_count": 14,
   "metadata": {},
   "outputs": [],
   "source": [
    "X_train, X_test, Y_train, Y_test = train_test_split(X, Y_enc, stratify=Y_enc, random_state=42)"
   ]
  },
  {
   "cell_type": "code",
   "execution_count": 15,
   "metadata": {},
   "outputs": [],
   "source": [
    "clf =  RandomForestClassifier(n_estimators=200, oob_score=True)"
   ]
  },
  {
   "cell_type": "code",
   "execution_count": 16,
   "metadata": {},
   "outputs": [
    {
     "data": {
      "text/plain": [
       "<matplotlib.legend.Legend at 0x7ff539d65cf8>"
      ]
     },
     "execution_count": 16,
     "metadata": {},
     "output_type": "execute_result"
    },
    {
     "data": {
      "image/png": "[encoded data removed]",
      "text/plain": [
       "<Figure size 800x600 with 1 Axes>"
      ]
     },
     "metadata": {},
     "output_type": "display_data"
    }
   ],
   "source": [
    "# Learning Curve\n",
    "train_sizes, train_scores, test_scores = learning_curve(\n",
    "    clf, \n",
    "    X_train, \n",
    "    Y_train, \n",
    "    cv=5, \n",
    "    train_sizes=np.linspace(0.001, 1, 20), \n",
    "    n_jobs=-1, \n",
    ")\n",
    "\n",
    "# Calculate mean scores and std\n",
    "train_mean = np.mean(train_scores, axis=1)\n",
    "train_std = np.std(train_scores, axis=1)\n",
    "\n",
    "test_mean = np.mean(test_scores, axis=1)\n",
    "test_std = np.std(test_scores, axis=1)\n",
    "\n",
    "# plot learning curve\n",
    "plt.plot(train_sizes, train_mean, color='blue', marker='o', markersize=5, label='training accuracy')\n",
    "plt.fill_between(train_sizes, train_mean + train_std, train_mean - train_std, alpha=0.15, color='blue')\n",
    "\n",
    "plt.plot(train_sizes, test_mean, color='green', linestyle='--', marker='s', markersize=5, label='validation accuracy')\n",
    "plt.fill_between(train_sizes, test_mean + test_std, test_mean - test_std, alpha=0.15, color='green')\n",
    "\n",
    "plt.xlabel('Training Sample Size')\n",
    "plt.ylabel('Score')\n",
    "plt.legend(loc='lower right')"
   ]
  },
  {
   "cell_type": "code",
   "execution_count": 17,
   "metadata": {},
   "outputs": [
    {
     "name": "stdout",
     "output_type": "stream",
     "text": [
      "0.979428571429\n",
      "                  precision    recall  f1-score   support\n",
      "\n",
      "        AMPLICON       1.00      1.00      1.00        21\n",
      "        ChIP-Seq       0.94      0.98      0.96       751\n",
      "             EST       1.00      0.96      0.98      1136\n",
      "       MNase-Seq       1.00      0.52      0.68        29\n",
      "         RIP-Seq       1.00      0.40      0.57        15\n",
      "         RNA-Seq       0.98      1.00      0.99      3606\n",
      "Targeted-Capture       0.96      0.96      0.96        24\n",
      "             WGS       0.97      0.94      0.95       493\n",
      "       miRNA-Seq       1.00      0.76      0.86        33\n",
      "       ncRNA-Seq       1.00      0.24      0.38        17\n",
      "\n",
      "       micro avg       0.98      0.98      0.98      6125\n",
      "       macro avg       0.99      0.77      0.83      6125\n",
      "    weighted avg       0.98      0.98      0.97      6125\n",
      "\n"
     ]
    }
   ],
   "source": [
    "clf.fit(X_train, Y_train)\n",
    "Y_pred = clf.predict(X_test)\n",
    "print(clf.oob_score_)\n",
    "print(classification_report(Y_test, Y_pred, target_names=encoder.classes_))"
   ]
  },
  {
   "cell_type": "code",
   "execution_count": 18,
   "metadata": {},
   "outputs": [
    {
     "data": {
      "text/plain": [
       "PCT_UTR_BASES              0.074579\n",
       "PCT_INTRONIC_BASES         0.055856\n",
       "PCT_MRNA_BASES             0.053605\n",
       "intergenic                 0.050134\n",
       "pos_0                      0.047277\n",
       "Unassigned_NoFeatures      0.046017\n",
       "Unassigned_MultiMapping    0.039708\n",
       "PCT_INTERGENIC_BASES       0.039460\n",
       "PCT_CODING_BASES           0.039444\n",
       "pos_1                      0.032093\n",
       "MEDIAN_CV_COVERAGE         0.028325\n",
       "genic                      0.021625\n",
       "pos_99                     0.021228\n",
       "PERCENT_DUPLICATION        0.019245\n",
       "pos_100                    0.018392\n",
       "Assigned                   0.017312\n",
       "pos_3                      0.015588\n",
       "pos_2                      0.014434\n",
       "MEDIAN_5PRIME_BIAS         0.014378\n",
       "pos_98                     0.014083\n",
       "pos_71                     0.014079\n",
       "Unassigned_Unmapped        0.013769\n",
       "pos_97                     0.013662\n",
       "junctions                  0.013130\n",
       "Unassigned_Ambiguity       0.012110\n",
       "pos_93                     0.011160\n",
       "pos_4                      0.010395\n",
       "pos_96                     0.010167\n",
       "pos_5                      0.009770\n",
       "pos_95                     0.007926\n",
       "                             ...   \n",
       "pos_46                     0.001360\n",
       "pos_56                     0.001336\n",
       "pos_90                     0.001335\n",
       "pos_22                     0.001328\n",
       "pos_24                     0.001324\n",
       "pos_50                     0.001319\n",
       "pos_33                     0.001297\n",
       "pos_25                     0.001279\n",
       "pos_31                     0.001219\n",
       "pos_36                     0.001204\n",
       "pos_57                     0.001195\n",
       "pos_48                     0.001194\n",
       "pos_29                     0.001157\n",
       "pos_59                     0.001151\n",
       "pos_53                     0.001149\n",
       "pos_43                     0.001106\n",
       "pos_30                     0.001098\n",
       "pos_27                     0.001094\n",
       "pos_32                     0.001085\n",
       "pos_38                     0.001082\n",
       "pos_28                     0.001071\n",
       "pos_26                     0.001060\n",
       "pos_52                     0.001035\n",
       "pos_34                     0.000993\n",
       "pos_39                     0.000992\n",
       "pos_42                     0.000975\n",
       "pos_35                     0.000961\n",
       "pos_37                     0.000910\n",
       "pos_41                     0.000905\n",
       "pos_40                     0.000860\n",
       "Length: 118, dtype: float64"
      ]
     },
     "execution_count": 18,
     "metadata": {},
     "output_type": "execute_result"
    }
   ],
   "source": [
    "pd.Series(clf.feature_importances_, index=features.columns).sort_values(ascending=False)"
   ]
  },
  {
   "cell_type": "code",
   "execution_count": null,
   "metadata": {},
   "outputs": [],
   "source": []
  },
  {
   "cell_type": "code",
   "execution_count": 42,
   "metadata": {},
   "outputs": [],
   "source": [
    "n = 20\n",
    "\n",
    "Y_res = np.empty((Y_enc.shape[0], n), dtype=object)\n",
    "Y_res_other = np.empty((Y_enc.shape[0], n), dtype=object)\n",
    "for i in range(n):\n",
    "    X_train, X_test, Y_train, Y_test = train_test_split(X, Y_enc, stratify=Y_enc, test_size=.8)\n",
    "    clf.fit(X_train, Y_train)\n",
    "    Y_pred = clf.predict(X)\n",
    "    Y_res[:, i] = encoder.inverse_transform(Y_pred)\n",
    "    \n",
    "    Y_pred2 = clf.predict(features_OTHER.values)\n",
    "    Y_res_other[:, i] = encoder.inverse_transform(Y_pred2)\n",
    "\n",
    "YPred = pd.DataFrame(Y_res, index=features.index)\n",
    "YPredOther = pd.DataFrame(Y_res_res, index=features_OTHER.index)"
   ]
  },
  {
   "cell_type": "code",
   "execution_count": 61,
   "metadata": {},
   "outputs": [],
   "source": [
    "us = YPred.reset_index().melt(id_vars='srx').groupby('srx').value.value_counts().unstack()"
   ]
  },
  {
   "cell_type": "code",
   "execution_count": 62,
   "metadata": {},
   "outputs": [
    {
     "data": {
      "text/plain": [
       "srx\n",
       "DRX000998     ChIP-Seq\n",
       "DRX000999     ChIP-Seq\n",
       "DRX001000     ChIP-Seq\n",
       "DRX001001     ChIP-Seq\n",
       "DRX012753      RNA-Seq\n",
       "DRX012754      RNA-Seq\n",
       "DRX012755      RNA-Seq\n",
       "DRX013093      RNA-Seq\n",
       "DRX013094      RNA-Seq\n",
       "DRX014765      RNA-Seq\n",
       "DRX014766      RNA-Seq\n",
       "DRX014767      RNA-Seq\n",
       "DRX014768      RNA-Seq\n",
       "DRX014769      RNA-Seq\n",
       "DRX014770      RNA-Seq\n",
       "DRX014771      RNA-Seq\n",
       "DRX014772      RNA-Seq\n",
       "DRX014773      RNA-Seq\n",
       "DRX014774      RNA-Seq\n",
       "DRX014775      RNA-Seq\n",
       "DRX014776      RNA-Seq\n",
       "DRX014777      RNA-Seq\n",
       "DRX014778      RNA-Seq\n",
       "DRX014779      RNA-Seq\n",
       "DRX014780      RNA-Seq\n",
       "DRX014781      RNA-Seq\n",
       "DRX014782      RNA-Seq\n",
       "DRX014783      RNA-Seq\n",
       "DRX014784      RNA-Seq\n",
       "DRX014785      RNA-Seq\n",
       "               ...    \n",
       "SRX984892    ncRNA-Seq\n",
       "SRX986397      RNA-Seq\n",
       "SRX986398      RNA-Seq\n",
       "SRX986399      RNA-Seq\n",
       "SRX986400      RNA-Seq\n",
       "SRX986401      RNA-Seq\n",
       "SRX986402      RNA-Seq\n",
       "SRX986403      RNA-Seq\n",
       "SRX986404      RNA-Seq\n",
       "SRX986405      RNA-Seq\n",
       "SRX986406      RNA-Seq\n",
       "SRX986407      RNA-Seq\n",
       "SRX986408      RNA-Seq\n",
       "SRX986409      RNA-Seq\n",
       "SRX986410      RNA-Seq\n",
       "SRX986411      RNA-Seq\n",
       "SRX986412      RNA-Seq\n",
       "SRX986413      RNA-Seq\n",
       "SRX986414      RNA-Seq\n",
       "SRX986415      RNA-Seq\n",
       "SRX986416      RNA-Seq\n",
       "SRX986417      RNA-Seq\n",
       "SRX986418      RNA-Seq\n",
       "SRX992688     ChIP-Seq\n",
       "SRX992689     ChIP-Seq\n",
       "SRX992690     ChIP-Seq\n",
       "SRX998011     ChIP-Seq\n",
       "SRX998315     ChIP-Seq\n",
       "SRX998316          WGS\n",
       "SRX998317     ChIP-Seq\n",
       "Length: 24500, dtype: object"
      ]
     },
     "execution_count": 62,
     "metadata": {},
     "output_type": "execute_result"
    }
   ],
   "source": [
    "us.idxmax(axis=1)"
   ]
  },
  {
   "cell_type": "code",
   "execution_count": 88,
   "metadata": {},
   "outputs": [
    {
     "name": "stdout",
     "output_type": "stream",
     "text": [
      "23110\n"
     ]
    },
    {
     "data": {
      "text/plain": [
       "RNA-Seq             14321\n",
       "EST                  4179\n",
       "ChIP-Seq             2734\n",
       "WGS                  1690\n",
       "AMPLICON               80\n",
       "Targeted-Capture       69\n",
       "miRNA-Seq              31\n",
       "ncRNA-Seq               5\n",
       "MNase-Seq               1\n",
       "Name: value, dtype: int64"
      ]
     },
     "execution_count": 88,
     "metadata": {},
     "output_type": "execute_result"
    }
   ],
   "source": [
    "# Samples that are always called the same\n",
    "singles = us[(us == 20).any(axis=1)].index.tolist()\n",
    "print(len(singles))\n",
    "us.reindex(singles).stack().to_frame().reset_index().value.value_counts()"
   ]
  },
  {
   "cell_type": "code",
   "execution_count": 71,
   "metadata": {},
   "outputs": [],
   "source": [
    "# not called the same every time\n",
    "multi = us[~(us == 20).any(axis=1)]"
   ]
  },
  {
   "cell_type": "code",
   "execution_count": 76,
   "metadata": {},
   "outputs": [
    {
     "data": {
      "text/plain": [
       "<matplotlib.axes._subplots.AxesSubplot at 0x7ff539ce5b38>"
      ]
     },
     "execution_count": 76,
     "metadata": {},
     "output_type": "execute_result"
    },
    {
     "data": {
      "image/png": "[encoded data removed]",
      "text/plain": [
       "<Figure size 800x600 with 1 Axes>"
      ]
     },
     "metadata": {},
     "output_type": "display_data"
    }
   ],
   "source": [
    "# distribution of difference between most and least called classes\n",
    "sns.kdeplot(multi.max(axis=1) - multi.min(axis=1))"
   ]
  },
  {
   "cell_type": "code",
   "execution_count": 101,
   "metadata": {},
   "outputs": [],
   "source": [
    "# will just use the best call if 15 calls went to one\n",
    "commons = us[(us.max(axis=1) >= 15)].index.tolist()"
   ]
  },
  {
   "cell_type": "code",
   "execution_count": null,
   "metadata": {},
   "outputs": [],
   "source": []
  },
  {
   "cell_type": "code",
   "execution_count": 102,
   "metadata": {},
   "outputs": [],
   "source": [
    "# These are the problem children\n",
    "problems = us[~us.index.isin(commons + singles)]"
   ]
  },
  {
   "cell_type": "code",
   "execution_count": 115,
   "metadata": {},
   "outputs": [
    {
     "data": {
      "text/plain": [
       "srx         value    \n",
       "ERX1080662  RNA-Seq       8.0\n",
       "            miRNA-Seq    12.0\n",
       "ERX1080670  RNA-Seq      11.0\n",
       "            miRNA-Seq     9.0\n",
       "ERX2172904  RNA-Seq      10.0\n",
       "            miRNA-Seq    10.0\n",
       "ERX2172905  RNA-Seq       8.0\n",
       "            miRNA-Seq    12.0\n",
       "ERX2172906  RNA-Seq      14.0\n",
       "            miRNA-Seq     6.0\n",
       "ERX2173751  RNA-Seq       6.0\n",
       "            miRNA-Seq    14.0\n",
       "ERX2173764  RNA-Seq       6.0\n",
       "            miRNA-Seq    14.0\n",
       "ERX2173935  RNA-Seq       8.0\n",
       "            miRNA-Seq    12.0\n",
       "ERX2173942  RNA-Seq       6.0\n",
       "            miRNA-Seq    14.0\n",
       "ERX2173944  RNA-Seq       7.0\n",
       "            miRNA-Seq    13.0\n",
       "ERX2372811  ChIP-Seq     13.0\n",
       "            RNA-Seq       7.0\n",
       "ERX278732   EST          14.0\n",
       "            RNA-Seq       6.0\n",
       "ERX965964   RNA-Seq       6.0\n",
       "            miRNA-Seq    14.0\n",
       "ERX965965   RNA-Seq       6.0\n",
       "            miRNA-Seq    14.0\n",
       "ERX965967   RNA-Seq       9.0\n",
       "            miRNA-Seq    11.0\n",
       "                         ... \n",
       "SRX893380   WGS           9.0\n",
       "SRX893381   MNase-Seq     9.0\n",
       "            WGS          11.0\n",
       "SRX969925   ChIP-Seq     11.0\n",
       "            MNase-Seq     8.0\n",
       "            WGS           1.0\n",
       "SRX970862   ChIP-Seq     11.0\n",
       "            MNase-Seq     8.0\n",
       "            WGS           1.0\n",
       "SRX984884   RNA-Seq       7.0\n",
       "            miRNA-Seq     2.0\n",
       "            ncRNA-Seq    11.0\n",
       "SRX984890   RNA-Seq       8.0\n",
       "            miRNA-Seq     1.0\n",
       "            ncRNA-Seq    11.0\n",
       "SRX984891   RNA-Seq       7.0\n",
       "            miRNA-Seq     1.0\n",
       "            ncRNA-Seq    12.0\n",
       "SRX984892   RNA-Seq       7.0\n",
       "            miRNA-Seq     2.0\n",
       "            ncRNA-Seq    11.0\n",
       "SRX998011   ChIP-Seq     10.0\n",
       "            MNase-Seq     1.0\n",
       "            WGS           9.0\n",
       "SRX998315   ChIP-Seq     12.0\n",
       "            MNase-Seq     1.0\n",
       "            WGS           7.0\n",
       "SRX998316   ChIP-Seq      8.0\n",
       "            MNase-Seq     2.0\n",
       "            WGS          10.0\n",
       "Length: 1113, dtype: float64"
      ]
     },
     "execution_count": 115,
     "metadata": {},
     "output_type": "execute_result"
    }
   ],
   "source": [
    "sns.kde"
   ]
  },
  {
   "cell_type": "code",
   "execution_count": 112,
   "metadata": {},
   "outputs": [
    {
     "data": {
      "text/plain": [
       "\u001b[0;31mSignature:\u001b[0m \u001b[0mplt\u001b[0m\u001b[0;34m.\u001b[0m\u001b[0mhist\u001b[0m\u001b[0;34m(\u001b[0m\u001b[0mx\u001b[0m\u001b[0;34m,\u001b[0m \u001b[0mbins\u001b[0m\u001b[0;34m=\u001b[0m\u001b[0;32mNone\u001b[0m\u001b[0;34m,\u001b[0m \u001b[0mrange\u001b[0m\u001b[0;34m=\u001b[0m\u001b[0;32mNone\u001b[0m\u001b[0;34m,\u001b[0m \u001b[0mdensity\u001b[0m\u001b[0;34m=\u001b[0m\u001b[0;32mNone\u001b[0m\u001b[0;34m,\u001b[0m \u001b[0mweights\u001b[0m\u001b[0;34m=\u001b[0m\u001b[0;32mNone\u001b[0m\u001b[0;34m,\u001b[0m \u001b[0mcumulative\u001b[0m\u001b[0;34m=\u001b[0m\u001b[0;32mFalse\u001b[0m\u001b[0;34m,\u001b[0m \u001b[0mbottom\u001b[0m\u001b[0;34m=\u001b[0m\u001b[0;32mNone\u001b[0m\u001b[0;34m,\u001b[0m \u001b[0mhisttype\u001b[0m\u001b[0;34m=\u001b[0m\u001b[0;34m'bar'\u001b[0m\u001b[0;34m,\u001b[0m \u001b[0malign\u001b[0m\u001b[0;34m=\u001b[0m\u001b[0;34m'mid'\u001b[0m\u001b[0;34m,\u001b[0m \u001b[0morientation\u001b[0m\u001b[0;34m=\u001b[0m\u001b[0;34m'vertical'\u001b[0m\u001b[0;34m,\u001b[0m \u001b[0mrwidth\u001b[0m\u001b[0;34m=\u001b[0m\u001b[0;32mNone\u001b[0m\u001b[0;34m,\u001b[0m \u001b[0mlog\u001b[0m\u001b[0;34m=\u001b[0m\u001b[0;32mFalse\u001b[0m\u001b[0;34m,\u001b[0m \u001b[0mcolor\u001b[0m\u001b[0;34m=\u001b[0m\u001b[0;32mNone\u001b[0m\u001b[0;34m,\u001b[0m \u001b[0mlabel\u001b[0m\u001b[0;34m=\u001b[0m\u001b[0;32mNone\u001b[0m\u001b[0;34m,\u001b[0m \u001b[0mstacked\u001b[0m\u001b[0;34m=\u001b[0m\u001b[0;32mFalse\u001b[0m\u001b[0;34m,\u001b[0m \u001b[0mnormed\u001b[0m\u001b[0;34m=\u001b[0m\u001b[0;32mNone\u001b[0m\u001b[0;34m,\u001b[0m \u001b[0mhold\u001b[0m\u001b[0;34m=\u001b[0m\u001b[0;32mNone\u001b[0m\u001b[0;34m,\u001b[0m \u001b[0mdata\u001b[0m\u001b[0;34m=\u001b[0m\u001b[0;32mNone\u001b[0m\u001b[0;34m,\u001b[0m \u001b[0;34m**\u001b[0m\u001b[0mkwargs\u001b[0m\u001b[0;34m)\u001b[0m\u001b[0;34m\u001b[0m\u001b[0m\n",
       "\u001b[0;31mDocstring:\u001b[0m\n",
       "Plot a histogram.\n",
       "\n",
       "Compute and draw the histogram of *x*. The return value is a\n",
       "tuple (*n*, *bins*, *patches*) or ([*n0*, *n1*, ...], *bins*,\n",
       "[*patches0*, *patches1*,...]) if the input contains multiple\n",
       "data.\n",
       "\n",
       "Multiple data can be provided via *x* as a list of datasets\n",
       "of potentially different length ([*x0*, *x1*, ...]), or as\n",
       "a 2-D ndarray in which each column is a dataset.  Note that\n",
       "the ndarray form is transposed relative to the list form.\n",
       "\n",
       "Masked arrays are not supported at present.\n",
       "\n",
       "Parameters\n",
       "----------\n",
       "x : (n,) array or sequence of (n,) arrays\n",
       "    Input values, this takes either a single array or a sequence of\n",
       "    arrays which are not required to be of the same length\n",
       "\n",
       "bins : integer or sequence or 'auto', optional\n",
       "    If an integer is given, ``bins + 1`` bin edges are calculated and\n",
       "    returned, consistent with :func:`numpy.histogram`.\n",
       "\n",
       "    If `bins` is a sequence, gives bin edges, including left edge of\n",
       "    first bin and right edge of last bin.  In this case, `bins` is\n",
       "    returned unmodified.\n",
       "\n",
       "    All but the last (righthand-most) bin is half-open.  In other\n",
       "    words, if `bins` is::\n",
       "\n",
       "        [1, 2, 3, 4]\n",
       "\n",
       "    then the first bin is ``[1, 2)`` (including 1, but excluding 2) and\n",
       "    the second ``[2, 3)``.  The last bin, however, is ``[3, 4]``, which\n",
       "    *includes* 4.\n",
       "\n",
       "    Unequally spaced bins are supported if *bins* is a sequence.\n",
       "\n",
       "    If Numpy 1.11 is installed, may also be ``'auto'``.\n",
       "\n",
       "    Default is taken from the rcParam ``hist.bins``.\n",
       "\n",
       "range : tuple or None, optional\n",
       "    The lower and upper range of the bins. Lower and upper outliers\n",
       "    are ignored. If not provided, *range* is ``(x.min(), x.max())``.\n",
       "    Range has no effect if *bins* is a sequence.\n",
       "\n",
       "    If *bins* is a sequence or *range* is specified, autoscaling\n",
       "    is based on the specified bin range instead of the\n",
       "    range of x.\n",
       "\n",
       "    Default is ``None``\n",
       "\n",
       "density : boolean, optional\n",
       "    If ``True``, the first element of the return tuple will\n",
       "    be the counts normalized to form a probability density, i.e.,\n",
       "    the area (or integral) under the histogram will sum to 1.\n",
       "    This is achieved by dividing the count by the number of\n",
       "    observations times the bin width and not dividing by the total\n",
       "    number of observations. If *stacked* is also ``True``, the sum of\n",
       "    the histograms is normalized to 1.\n",
       "\n",
       "    Default is ``None`` for both *normed* and *density*. If either is\n",
       "    set, then that value will be used. If neither are set, then the\n",
       "    args will be treated as ``False``.\n",
       "\n",
       "    If both *density* and *normed* are set an error is raised.\n",
       "\n",
       "weights : (n, ) array_like or None, optional\n",
       "    An array of weights, of the same shape as *x*.  Each value in *x*\n",
       "    only contributes its associated weight towards the bin count\n",
       "    (instead of 1).  If *normed* or *density* is ``True``,\n",
       "    the weights are normalized, so that the integral of the density\n",
       "    over the range remains 1.\n",
       "\n",
       "    Default is ``None``\n",
       "\n",
       "cumulative : boolean, optional\n",
       "    If ``True``, then a histogram is computed where each bin gives the\n",
       "    counts in that bin plus all bins for smaller values. The last bin\n",
       "    gives the total number of datapoints. If *normed* or *density*\n",
       "    is also ``True`` then the histogram is normalized such that the\n",
       "    last bin equals 1. If *cumulative* evaluates to less than 0\n",
       "    (e.g., -1), the direction of accumulation is reversed.\n",
       "    In this case, if *normed* and/or *density* is also ``True``, then\n",
       "    the histogram is normalized such that the first bin equals 1.\n",
       "\n",
       "    Default is ``False``\n",
       "\n",
       "bottom : array_like, scalar, or None\n",
       "    Location of the bottom baseline of each bin.  If a scalar,\n",
       "    the base line for each bin is shifted by the same amount.\n",
       "    If an array, each bin is shifted independently and the length\n",
       "    of bottom must match the number of bins.  If None, defaults to 0.\n",
       "\n",
       "    Default is ``None``\n",
       "\n",
       "histtype : {'bar', 'barstacked', 'step',  'stepfilled'}, optional\n",
       "    The type of histogram to draw.\n",
       "\n",
       "    - 'bar' is a traditional bar-type histogram.  If multiple data\n",
       "      are given the bars are arranged side by side.\n",
       "\n",
       "    - 'barstacked' is a bar-type histogram where multiple\n",
       "      data are stacked on top of each other.\n",
       "\n",
       "    - 'step' generates a lineplot that is by default\n",
       "      unfilled.\n",
       "\n",
       "    - 'stepfilled' generates a lineplot that is by default\n",
       "      filled.\n",
       "\n",
       "    Default is 'bar'\n",
       "\n",
       "align : {'left', 'mid', 'right'}, optional\n",
       "    Controls how the histogram is plotted.\n",
       "\n",
       "        - 'left': bars are centered on the left bin edges.\n",
       "\n",
       "        - 'mid': bars are centered between the bin edges.\n",
       "\n",
       "        - 'right': bars are centered on the right bin edges.\n",
       "\n",
       "    Default is 'mid'\n",
       "\n",
       "orientation : {'horizontal', 'vertical'}, optional\n",
       "    If 'horizontal', `~matplotlib.pyplot.barh` will be used for\n",
       "    bar-type histograms and the *bottom* kwarg will be the left edges.\n",
       "\n",
       "rwidth : scalar or None, optional\n",
       "    The relative width of the bars as a fraction of the bin width.  If\n",
       "    ``None``, automatically compute the width.\n",
       "\n",
       "    Ignored if *histtype* is 'step' or 'stepfilled'.\n",
       "\n",
       "    Default is ``None``\n",
       "\n",
       "log : boolean, optional\n",
       "    If ``True``, the histogram axis will be set to a log scale. If\n",
       "    *log* is ``True`` and *x* is a 1D array, empty bins will be\n",
       "    filtered out and only the non-empty ``(n, bins, patches)``\n",
       "    will be returned.\n",
       "\n",
       "    Default is ``False``\n",
       "\n",
       "color : color or array_like of colors or None, optional\n",
       "    Color spec or sequence of color specs, one per dataset.  Default\n",
       "    (``None``) uses the standard line color sequence.\n",
       "\n",
       "    Default is ``None``\n",
       "\n",
       "label : string or None, optional\n",
       "    String, or sequence of strings to match multiple datasets.  Bar\n",
       "    charts yield multiple patches per dataset, but only the first gets\n",
       "    the label, so that the legend command will work as expected.\n",
       "\n",
       "    default is ``None``\n",
       "\n",
       "stacked : boolean, optional\n",
       "    If ``True``, multiple data are stacked on top of each other If\n",
       "    ``False`` multiple data are arranged side by side if histtype is\n",
       "    'bar' or on top of each other if histtype is 'step'\n",
       "\n",
       "    Default is ``False``\n",
       "\n",
       "normed : bool, optional\n",
       "    Deprecated; use the density keyword argument instead.\n",
       "\n",
       "Returns\n",
       "-------\n",
       "n : array or list of arrays\n",
       "    The values of the histogram bins. See *normed* or *density*\n",
       "    and *weights* for a description of the possible semantics.\n",
       "    If input *x* is an array, then this is an array of length\n",
       "    *nbins*. If input is a sequence arrays\n",
       "    ``[data1, data2,..]``, then this is a list of arrays with\n",
       "    the values of the histograms for each of the arrays in the\n",
       "    same order.\n",
       "\n",
       "bins : array\n",
       "    The edges of the bins. Length nbins + 1 (nbins left edges and right\n",
       "    edge of last bin).  Always a single array even when multiple data\n",
       "    sets are passed in.\n",
       "\n",
       "patches : list or list of lists\n",
       "    Silent list of individual patches used to create the histogram\n",
       "    or list of such list if multiple input datasets.\n",
       "\n",
       "Other Parameters\n",
       "----------------\n",
       "**kwargs : `~matplotlib.patches.Patch` properties\n",
       "\n",
       "See also\n",
       "--------\n",
       "hist2d : 2D histograms\n",
       "\n",
       "Notes\n",
       "-----\n",
       ".. [Notes section required for data comment. See #10189.]\n",
       "\n",
       ".. note::\n",
       "    In addition to the above described arguments, this function can take a\n",
       "    **data** keyword argument. If such a **data** argument is given, the\n",
       "    following arguments are replaced by **data[<arg>]**:\n",
       "\n",
       "    * All arguments with the following names: 'weights', 'x'.\n",
       "\u001b[0;31mFile:\u001b[0m      ~/miniconda3/envs/ncbi_remap/lib/python3.6/site-packages/matplotlib/pyplot.py\n",
       "\u001b[0;31mType:\u001b[0m      function\n"
      ]
     },
     "metadata": {},
     "output_type": "display_data"
    }
   ],
   "source": [
    "plt.hist?"
   ]
  },
  {
   "cell_type": "code",
   "execution_count": 71,
   "metadata": {},
   "outputs": [],
   "source": [
    "# not called the same every time\n",
    "multi = us[~(us == 20).any(axis=1)]"
   ]
  },
  {
   "cell_type": "code",
   "execution_count": 73,
   "metadata": {},
   "outputs": [
    {
     "data": {
      "text/plain": [
       "(1390, 10)"
      ]
     },
     "execution_count": 73,
     "metadata": {},
     "output_type": "execute_result"
    }
   ],
   "source": [
    "multi.shape"
   ]
  },
  {
   "cell_type": "code",
   "execution_count": 82,
   "metadata": {},
   "outputs": [
    {
     "data": {
      "text/plain": [
       "<matplotlib.axes._subplots.AxesSubplot at 0x7ff539c40940>"
      ]
     },
     "execution_count": 82,
     "metadata": {},
     "output_type": "execute_result"
    },
    {
     "data": {
      "image/png": "[encoded data removed]",
      "text/plain": [
       "<Figure size 800x600 with 1 Axes>"
      ]
     },
     "metadata": {},
     "output_type": "display_data"
    }
   ],
   "source": [
    "# Distribution of the number of classes\n",
    "sns.kdeplot((~multi.isna()).sum(axis=1))"
   ]
  },
  {
   "cell_type": "code",
   "execution_count": null,
   "metadata": {},
   "outputs": [],
   "source": []
  },
  {
   "cell_type": "code",
   "execution_count": null,
   "metadata": {},
   "outputs": [],
   "source": []
  },
  {
   "cell_type": "code",
   "execution_count": null,
   "metadata": {},
   "outputs": [],
   "source": []
  },
  {
   "cell_type": "code",
   "execution_count": null,
   "metadata": {},
   "outputs": [],
   "source": []
  },
  {
   "cell_type": "code",
   "execution_count": null,
   "metadata": {},
   "outputs": [],
   "source": []
  },
  {
   "cell_type": "code",
   "execution_count": null,
   "metadata": {},
   "outputs": [],
   "source": []
  }
 ],
 "metadata": {
  "kernelspec": {
   "display_name": "Python [conda env:ncbi_remap]",
   "language": "python",
   "name": "conda-env-ncbi_remap-py"
  },
  "language_info": {
   "codemirror_mode": {
    "name": "ipython",
    "version": 3
   },
   "file_extension": ".py",
   "mimetype": "text/x-python",
   "name": "python",
   "nbconvert_exporter": "python",
   "pygments_lexer": "ipython3",
   "version": "3.6.5"
  }
 },
 "nbformat": 4,
 "nbformat_minor": 2
}
