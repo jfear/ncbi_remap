{
 "cells": [
  {
   "cell_type": "code",
   "execution_count": 1,
   "metadata": {
    "collapsed": true
   },
   "outputs": [],
   "source": [
    "from pymongo import MongoClient"
   ]
  },
  {
   "cell_type": "code",
   "execution_count": 2,
   "metadata": {
    "collapsed": true
   },
   "outputs": [],
   "source": [
    "client = MongoClient(host='localhost', port=27022)\n",
    "db = client['test']\n",
    "test = db['test_collection']"
   ]
  },
  {
   "cell_type": "code",
   "execution_count": 5,
   "metadata": {
    "collapsed": false
   },
   "outputs": [],
   "source": [
    "document = {\n",
    "    '_id': 'id1',\n",
    "    'test_array': [\n",
    "        {'name': 'bob'},\n",
    "        {'name': 'dan', 'job': 'dentist'},\n",
    "        {'name': 'joe', 'job': 'musician'},\n",
    "        {'name': 'jill', 'job': 'CEO', 'pets': ['dog', 'cat']},\n",
    "    ],\n",
    "    \n",
    "    'test_document': {\n",
    "        'field1': 'hi',\n",
    "        'field2': 'hello',\n",
    "        'field3': 'yo',\n",
    "        'field4': 'Whatsssuuuuppppp'\n",
    "    }\n",
    "    \n",
    "}"
   ]
  },
  {
   "cell_type": "code",
   "execution_count": 7,
   "metadata": {
    "collapsed": false
   },
   "outputs": [],
   "source": [
    "test.find_one_and_update({'_id': 'id1'}, {'$set': document}, upsert=True)"
   ]
  },
  {
   "cell_type": "code",
   "execution_count": 8,
   "metadata": {
    "collapsed": false
   },
   "outputs": [
    {
     "data": {
      "text/plain": [
       "{'_id': 'id1',\n",
       " 'test_array': [{'name': 'bob'},\n",
       "  {'job': 'dentist', 'name': 'dan'},\n",
       "  {'job': 'musician', 'name': 'joe'},\n",
       "  {'job': 'CEO', 'name': 'jill', 'pets': ['dog', 'cat']}],\n",
       " 'test_document': {'field1': 'hi',\n",
       "  'field2': 'hello',\n",
       "  'field3': 'yo',\n",
       "  'field4': 'Whatsssuuuuppppp'}}"
      ]
     },
     "execution_count": 8,
     "metadata": {},
     "output_type": "execute_result"
    }
   ],
   "source": [
    "test.find_one_and_update({'test_array.name': 'jill'}, {'$addToSet': {'test_array.$.pets': 'cow'}})"
   ]
  },
  {
   "cell_type": "code",
   "execution_count": 16,
   "metadata": {
    "collapsed": false
   },
   "outputs": [
    {
     "data": {
      "text/plain": [
       "[{'_id': 'id1',\n",
       "  'test_array': [{'name': 'bob', 'pets': ['zebra', 'yak']},\n",
       "   {'job': 'dentist', 'name': 'dan'},\n",
       "   {'job': 'musician', 'name': 'joe'},\n",
       "   {'job': 'CEO', 'name': 'jill', 'pets': ['dog', 'cat', 'cow']}],\n",
       "  'test_document': {'field1': 'hi',\n",
       "   'field2': 'hello',\n",
       "   'field3': 'yo',\n",
       "   'field4': 'Whatsssuuuuppppp'}}]"
      ]
     },
     "execution_count": 16,
     "metadata": {},
     "output_type": "execute_result"
    }
   ],
   "source": [
    "list(test.find({'test_array.name': 'bob'}))"
   ]
  },
  {
   "cell_type": "code",
   "execution_count": 15,
   "metadata": {
    "collapsed": false
   },
   "outputs": [
    {
     "data": {
      "text/plain": [
       "{'_id': 'id1',\n",
       " 'test_array': [{'name': 'bob'},\n",
       "  {'job': 'dentist', 'name': 'dan'},\n",
       "  {'job': 'musician', 'name': 'joe'},\n",
       "  {'job': 'CEO', 'name': 'jill', 'pets': ['dog', 'cat', 'cow']}],\n",
       " 'test_document': {'field1': 'hi',\n",
       "  'field2': 'hello',\n",
       "  'field3': 'yo',\n",
       "  'field4': 'Whatsssuuuuppppp'}}"
      ]
     },
     "execution_count": 15,
     "metadata": {},
     "output_type": "execute_result"
    }
   ],
   "source": [
    "test.find_one_and_update({'test_array.name': 'bob'}, {'$addToSet': {'test_array.$.pets': {'$each': ['zebra', 'yak']}}})"
   ]
  },
  {
   "cell_type": "code",
   "execution_count": 40,
   "metadata": {
    "collapsed": false
   },
   "outputs": [
    {
     "data": {
      "text/plain": [
       "[{'_id': 'id1',\n",
       "  'test_array': [{'name': 'bob', 'pets': ['zebra', 'yak']},\n",
       "   {'job': 'dentist', 'name': 'dan'},\n",
       "   {'job': 'musician', 'name': 'joe'},\n",
       "   {'job': 'CEO', 'name': 'jill', 'pets': ['dog', 'cat', 'cow']}],\n",
       "  'test_document': {'field1': 'hi',\n",
       "   'field2': 'hello',\n",
       "   'field3': 'yo',\n",
       "   'field4': 'Whatsssuuuuppppp'}}]"
      ]
     },
     "execution_count": 40,
     "metadata": {},
     "output_type": "execute_result"
    }
   ],
   "source": [
    "list(test.find({'test_array.name': 'jill', 'test_array.pets': {'$ne': 'ye'},\n",
    "               }))"
   ]
  },
  {
   "cell_type": "code",
   "execution_count": null,
   "metadata": {
    "collapsed": true
   },
   "outputs": [],
   "source": []
  }
 ],
 "metadata": {
  "anaconda-cloud": {},
  "kernelspec": {
   "display_name": "Python [conda env:ncbi_remap]",
   "language": "python",
   "name": "conda-env-ncbi_remap-py"
  },
  "language_info": {
   "codemirror_mode": {
    "name": "ipython",
    "version": 3
   },
   "file_extension": ".py",
   "mimetype": "text/x-python",
   "name": "python",
   "nbconvert_exporter": "python",
   "pygments_lexer": "ipython3",
   "version": "3.5.2"
  },
  "toc": {
   "colors": {
    "hover_highlight": "#DAA520",
    "running_highlight": "#FF0000",
    "selected_highlight": "#FFD700"
   },
   "moveMenuLeft": true,
   "nav_menu": {
    "height": "12px",
    "width": "252px"
   },
   "navigate_menu": true,
   "number_sections": false,
   "sideBar": true,
   "threshold": 4,
   "toc_cell": false,
   "toc_section_display": "block",
   "toc_window_display": false
  }
 },
 "nbformat": 4,
 "nbformat_minor": 2
}
