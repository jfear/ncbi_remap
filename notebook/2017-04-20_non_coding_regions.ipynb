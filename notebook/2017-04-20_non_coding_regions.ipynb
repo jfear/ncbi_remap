{
 "cells": [
  {
   "cell_type": "markdown",
   "metadata": {
    "deletable": true,
    "editable": true
   },
   "source": [
    "# Non-coding regions"
   ]
  },
  {
   "cell_type": "markdown",
   "metadata": {
    "deletable": true,
    "editable": true
   },
   "source": [
    "Brian is wanting a wiggle track with just the non-coding regions. My pipeline is producing BedGraphs, which are just a special type of BED file. I should be able to generate extend the genome models slightly (say 20bp) and then take the inverse of the gene models and produce Bed File. The BedGraphs are stranded, so it probably makes sense to create a separate inverse BED for each strand. Then I can use BedTools to intersect the BedGraph and convert to wiggles."
   ]
  },
  {
   "cell_type": "code",
   "execution_count": 1,
   "metadata": {
    "collapsed": false,
    "deletable": true,
    "editable": true
   },
   "outputs": [
    {
     "name": "stdout",
     "output_type": "stream",
     "text": [
      "last updated: 2017-04-20 \n",
      "Git hash: 9ab597bab00e615cd19772b4adfdc95a7ccffa27\n"
     ]
    }
   ],
   "source": [
    "# %load ../start.py\n",
    "# Load useful extensions\n",
    "\n",
    "# Activate the autoreload extension for easy reloading of external packages\n",
    "%reload_ext autoreload\n",
    "%autoreload 2\n",
    "\n",
    "# Trun on the water mark\n",
    "%reload_ext watermark\n",
    "%watermark -u -d -g\n",
    "\n",
    "# Load ipycache extension\n",
    "%reload_ext ipycache\n",
    "from ipycache import CacheMagics\n",
    "CacheMagics.cachedir = '../cachedir'\n",
    "\n",
    "# Add project library to path\n",
    "import sys\n",
    "sys.path.insert(0, '../../lib/python')\n",
    "\n",
    "# The usual suspects\n",
    "import os\n",
    "import numpy as np\n",
    "import pandas as pd\n",
    "\n",
    "# plotting\n",
    "import matplotlib as mpl\n",
    "import matplotlib.pyplot as plt\n",
    "import seaborn as sns\n",
    "\n",
    "%matplotlib inline\n",
    "sns.set_context('poster')\n",
    "\n",
    "# Turn off scientific notation\n",
    "np.set_printoptions(precision=5, suppress=True)\n"
   ]
  },
  {
   "cell_type": "code",
   "execution_count": 4,
   "metadata": {
    "collapsed": false,
    "deletable": true,
    "editable": true
   },
   "outputs": [],
   "source": [
    "# Additional Imports\n",
    "import pybedtools\n",
    "\n",
    "# Import GTF\n",
    "chromSizes = '/data/LCDB/lcdb-references/dmel/r6-11/fasta/dmel_r6-11.chromsizes'\n",
    "GTF = '/data/LCDB/lcdb-references/dmel/r6-11/gtf/dmel_r6-11.gtf'\n",
    "gtf = pybedtools.BedTool(GTF).remove_invalid().saveas()\n",
    "\n",
    "# Subset functions for pybedtools\n",
    "def featuretype_filter(feature, featuretype):\n",
    "    if feature[2] == featuretype:\n",
    "        return True\n",
    "    return False\n",
    "\n",
    "def subset_featuretypes(g, featuretype):\n",
    "    result = g.filter(featuretype_filter, featuretype).saveas()\n",
    "    return pybedtools.BedTool(result.fn)\n",
    "\n",
    "def strand_filter(feature, strand):\n",
    "    if feature[3] == strand:\n",
    "        return True\n",
    "    return False\n",
    "\n",
    "def subset_strand(g, strand):\n",
    "    result = g.filter(strand_filter, strand).saveas()\n",
    "    return pybedtools.BedTool(result.fn)\n",
    "\n",
    "# pull out all exons\n",
    "exons = subset_featuretypes(gtf, 'exon').bed6()\n",
    "\n",
    "# Merge overlapping regions strand specifically\n",
    "merged = exons.sort().merge(s=True, bed=True)\n",
    "\n",
    "# Extend features by 20bp\n",
    "extended = merged.slop( g=chromSizes, b=20)\n",
    "\n",
    "# split by strand\n",
    "exons_plus = pybedtools.BedTool([x[:3] + ['.', '.', '+'] for x in subset_strand(extended, '+')])\n",
    "exons_minus = pybedtools.BedTool([x[:3] + ['.', '.', '-'] for x in subset_strand(extended, '-')])"
   ]
  },
  {
   "cell_type": "code",
   "execution_count": 2,
   "metadata": {
    "collapsed": false
   },
   "outputs": [],
   "source": [
    "def add_strand(feature, strand='+'):\n",
    "    feature.name = '.'\n",
    "    feature.strand = strand\n",
    "    return feature"
   ]
  },
  {
   "cell_type": "code",
   "execution_count": 5,
   "metadata": {
    "collapsed": false
   },
   "outputs": [
    {
     "name": "stdout",
     "output_type": "stream",
     "text": [
      "chr2L\t7508\t8136\t.\t.\t+\n",
      " chr2L\t8172\t9504\t.\t.\t+\n",
      " chr2L\t21931\t22961\t.\t.\t+\n",
      " chr2L\t22977\t24257\t.\t.\t+\n",
      " chr2L\t54796\t55787\t.\t.\t+\n",
      " chr2L\t65978\t66262\t.\t.\t+\n",
      " chr2L\t66297\t66632\t.\t.\t+\n",
      " chr2L\t66655\t67023\t.\t.\t+\n",
      " chr2L\t67022\t67527\t.\t.\t+\n",
      " chr2L\t67548\t67782\t.\t.\t+\n",
      " "
     ]
    }
   ],
   "source": [
    "exons_plus.head()"
   ]
  },
  {
   "cell_type": "code",
   "execution_count": null,
   "metadata": {
    "collapsed": true
   },
   "outputs": [],
   "source": []
  },
  {
   "cell_type": "code",
   "execution_count": null,
   "metadata": {
    "collapsed": true
   },
   "outputs": [],
   "source": []
  },
  {
   "cell_type": "code",
   "execution_count": null,
   "metadata": {
    "collapsed": true
   },
   "outputs": [],
   "source": []
  },
  {
   "cell_type": "code",
   "execution_count": null,
   "metadata": {
    "collapsed": true
   },
   "outputs": [],
   "source": []
  },
  {
   "cell_type": "code",
   "execution_count": null,
   "metadata": {
    "collapsed": true
   },
   "outputs": [],
   "source": []
  },
  {
   "cell_type": "code",
   "execution_count": null,
   "metadata": {
    "collapsed": true
   },
   "outputs": [],
   "source": []
  },
  {
   "cell_type": "code",
   "execution_count": null,
   "metadata": {
    "collapsed": true
   },
   "outputs": [],
   "source": []
  },
  {
   "cell_type": "code",
   "execution_count": 111,
   "metadata": {
    "collapsed": true,
    "deletable": true,
    "editable": true
   },
   "outputs": [],
   "source": [
    "!cp /home/fearjm/Projects/ncbi_remap/output/alignment/raw/ERX455041/ERR489286/ERR489286.fq.first.bedgraph ."
   ]
  },
  {
   "cell_type": "code",
   "execution_count": 124,
   "metadata": {
    "collapsed": true,
    "deletable": true,
    "editable": true
   },
   "outputs": [],
   "source": [
    "bg = pybedtools.BedTool('../../output/alignment/raw/ERX455041/ERR489286/ERR489286.fq.first.bedgraph').saveas()\n",
    "bed = pybedtools.BedTool('../../output/inverse_exons_20bp.first.bed')"
   ]
  },
  {
   "cell_type": "code",
   "execution_count": 126,
   "metadata": {
    "collapsed": true,
    "deletable": true,
    "editable": true
   },
   "outputs": [],
   "source": [
    "bg_bed = bg.intersect(bed).sort()"
   ]
  },
  {
   "cell_type": "code",
   "execution_count": 127,
   "metadata": {
    "collapsed": false,
    "deletable": true,
    "editable": true
   },
   "outputs": [
    {
     "name": "stdout",
     "output_type": "stream",
     "text": [
      "chr2L\t7508\t8136\t0\n",
      " chr2L\t8172\t9504\t0\n",
      " chr2L\t21931\t22340\t0\n",
      " chr2L\t22340\t22400\t1\n",
      " chr2L\t22400\t22961\t0\n",
      " chr2L\t22977\t23270\t0\n",
      " chr2L\t23270\t23330\t1\n",
      " chr2L\t23330\t23600\t0\n",
      " chr2L\t23600\t23660\t1\n",
      " chr2L\t23660\t24257\t0\n",
      " "
     ]
    }
   ],
   "source": [
    "bg_bed.head()"
   ]
  },
  {
   "cell_type": "code",
   "execution_count": 134,
   "metadata": {
    "collapsed": false,
    "deletable": true,
    "editable": true
   },
   "outputs": [
    {
     "name": "stdout",
     "output_type": "stream",
     "text": [
      "chr2L\t7508\t8136\t0\n",
      " chr2L\t8172\t9504\t0\n",
      " chr2L\t21931\t22961\t1\n",
      " chr2L\t22977\t24257\t1\n",
      " chr2L\t54796\t55787\t0\n",
      " chr2L\t65978\t66262\t0\n",
      " chr2L\t66297\t66632\t0\n",
      " chr2L\t66655\t67527\t8\n",
      " chr2L\t67548\t67782\t22\n",
      " chr2L\t67871\t68043\t18\n",
      " "
     ]
    }
   ],
   "source": [
    "bg_bed.merge(c=4, o='max').head()"
   ]
  },
  {
   "cell_type": "code",
   "execution_count": null,
   "metadata": {
    "collapsed": true,
    "deletable": true,
    "editable": true
   },
   "outputs": [],
   "source": []
  }
 ],
 "metadata": {
  "anaconda-cloud": {},
  "kernelspec": {
   "display_name": "Python [conda env:ncbi_remap]",
   "language": "python",
   "name": "conda-env-ncbi_remap-py"
  },
  "language_info": {
   "codemirror_mode": {
    "name": "ipython",
    "version": 3
   },
   "file_extension": ".py",
   "mimetype": "text/x-python",
   "name": "python",
   "nbconvert_exporter": "python",
   "pygments_lexer": "ipython3",
   "version": "3.5.2"
  },
  "toc": {
   "colors": {
    "hover_highlight": "#DAA520",
    "running_highlight": "#FF0000",
    "selected_highlight": "#FFD700"
   },
   "moveMenuLeft": true,
   "nav_menu": {
    "height": "30px",
    "width": "252px"
   },
   "navigate_menu": true,
   "number_sections": false,
   "sideBar": true,
   "threshold": 4,
   "toc_cell": false,
   "toc_section_display": "block",
   "toc_window_display": false
  }
 },
 "nbformat": 4,
 "nbformat_minor": 2
}
