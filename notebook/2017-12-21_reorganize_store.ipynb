{
 "cells": [
  {
   "cell_type": "markdown",
   "metadata": {},
   "source": [
    "# Reorganize store"
   ]
  },
  {
   "cell_type": "markdown",
   "metadata": {},
   "source": [
    "I have realized that the data store is awkwardly organized. I think there are some better ways to go about organizing the various flags. I think a script that initializes the different parts of the store and then simply fill in the bits of data. I think this will be easier to use in the long run."
   ]
  },
  {
   "cell_type": "code",
   "execution_count": 2,
   "metadata": {},
   "outputs": [
    {
     "name": "stdout",
     "output_type": "stream",
     "text": [
      "last updated: 2017-12-21 \n",
      "Git hash: e8b461e4623cb168ee15bba032c8be008bcc76e9\n"
     ]
    }
   ],
   "source": [
    "import os\n",
    "import sys\n",
    "\n",
    "import numpy as np\n",
    "import pandas as pd\n",
    "\n",
    "import matplotlib as mpl\n",
    "import matplotlib.pyplot as plt\n",
    "import seaborn as sns\n",
    "\n",
    "# Project level imports\n",
    "sys.path.insert(0, '../lib')\n",
    "from ncbi_remap.notebook import Nb\n",
    "from ncbi_remap.plotting import make_figs\n",
    "\n",
    "# Setup notebook\n",
    "nbconfig = Nb.setup_notebook()\n",
    "\n",
    "# Turn on cache\n",
    "from joblib import Memory\n",
    "memory = Memory(cachedir=nbconfig.cache, verbose=0)\n",
    "\n",
    "# Connect to data store\n",
    "store = pd.HDFStore('../output/sra.h5')"
   ]
  },
  {
   "cell_type": "code",
   "execution_count": 5,
   "metadata": {},
   "outputs": [
    {
     "data": {
      "text/plain": [
       "/ (RootGroup) ''\n",
       "  children := ['aln' (Group), 'ids' (Group), 'layout' (Group), 'prealn' (Group), 'strand' (Group), 'test' (Group)]"
      ]
     },
     "execution_count": 5,
     "metadata": {},
     "output_type": "execute_result"
    }
   ],
   "source": [
    "store.root"
   ]
  },
  {
   "cell_type": "markdown",
   "metadata": {},
   "source": [
    "## Current organization"
   ]
  },
  {
   "cell_type": "markdown",
   "metadata": {},
   "source": [
    "I think the broad structure of the store is ok. However, the set of flags should be combined into a single table for easy tracking. I think using indicator variables is the easiest way to go."
   ]
  },
  {
   "cell_type": "code",
   "execution_count": 3,
   "metadata": {},
   "outputs": [
    {
     "data": {
      "text/plain": [
       "/prealn (Group) ''\n",
       "  children := ['abi_solid' (Group), 'alignment_bad' (Group), 'complete' (Group), 'download_bad' (Group), 'qc_passed' (Group), 'quality_scores_bad' (Group), 'queue' (Group), 'workflow' (Group)]"
      ]
     },
     "execution_count": 3,
     "metadata": {},
     "output_type": "execute_result"
    }
   ],
   "source": [
    "store.root.prealn"
   ]
  },
  {
   "cell_type": "code",
   "execution_count": 4,
   "metadata": {},
   "outputs": [
    {
     "data": {
      "text/plain": [
       "/prealn/workflow (Group) ''\n",
       "  children := ['bamtools_stats' (Group), 'collectrnaseqmetrics' (Group), 'fastq' (Group), 'fastq_screen' (Group), 'feature_counts' (Group), 'hisat2' (Group), 'markduplicates' (Group), 'merge' (Group), 'samtools_idxstats' (Group), 'samtools_stats' (Group)]"
      ]
     },
     "execution_count": 4,
     "metadata": {},
     "output_type": "execute_result"
    }
   ],
   "source": [
    "store.root.prealn.workflow"
   ]
  },
  {
   "cell_type": "markdown",
   "metadata": {},
   "source": [
    "## Update flags"
   ]
  },
  {
   "cell_type": "code",
   "execution_count": 115,
   "metadata": {},
   "outputs": [],
   "source": [
    "flags = pd.DataFrame([], index=store['ids'].set_index(['srx', 'srr']).index, \n",
    "                     columns=['flag_abi_solid', 'flag_alignment_bad', 'flag_complete', 'flag_download_bad', 'flag_quality_scores_bad', 'flag_qc_passed'])\n",
    "\n",
    "flags.fillna(False, inplace=True)\n",
    "\n",
    "flags.loc[store['prealn/abi_solid'].set_index(['srx', 'srr']).index, 'flag_abi_solid'] = True\n",
    "flags.loc[store['prealn/alignment_bad'].set_index(['srx', 'srr']).index, 'flag_alignment_bad'] = True\n",
    "flags.loc[store['prealn/complete'].set_index(['srx', 'srr']).index, 'flag_complete'] = True\n",
    "flags.loc[store['prealn/download_bad'].set_index(['srx', 'srr']).index, 'flag_download_bad'] = True\n",
    "flags.loc[store['prealn/quality_scores_bad'].set_index(['srx', 'srr']).index, 'flag_quality_scores_bad'] = True\n",
    "flags.loc[store['prealn/qc_passed'].set_index(['srx', 'srr']).index, 'flag_qc_passed'] = True"
   ]
  },
  {
   "cell_type": "code",
   "execution_count": 162,
   "metadata": {},
   "outputs": [],
   "source": [
    "store['prealn/flags'] = flags"
   ]
  },
  {
   "cell_type": "markdown",
   "metadata": {},
   "source": [
    "## Update strand"
   ]
  },
  {
   "cell_type": "code",
   "execution_count": 93,
   "metadata": {},
   "outputs": [],
   "source": [
    "strand = pd.Series(index=store['ids'].set_index(['srx', 'srr']).index, name='strand')\n",
    "strand.fillna('Missing', inplace=True)\n",
    "\n",
    "strand[store['strand/first'].set_index(['srx', 'srr']).index] = 'first'\n",
    "strand[store['strand/second'].set_index(['srx', 'srr']).index] = 'second'\n",
    "strand[store['strand/unstranded'].set_index(['srx', 'srr']).index] = 'unstranded'"
   ]
  },
  {
   "cell_type": "code",
   "execution_count": 164,
   "metadata": {},
   "outputs": [],
   "source": [
    "store['strand'] = strand"
   ]
  },
  {
   "cell_type": "markdown",
   "metadata": {},
   "source": [
    "## Update layout"
   ]
  },
  {
   "cell_type": "code",
   "execution_count": 167,
   "metadata": {},
   "outputs": [],
   "source": [
    "layout = pd.Series(index=store['ids'].set_index(['srx', 'srr']).index, name='layout')\n",
    "layout.fillna(\"Missing\", inplace=True)\n",
    "\n",
    "layout[store['layout/PE'].set_index(['srx', 'srr']).index] = 'PE'\n",
    "layout[store['layout/SE'].set_index(['srx', 'srr']).index] = 'SE'\n",
    "layout[store['layout/keep_R1'].set_index(['srx', 'srr']).index] = 'keep_R1'\n",
    "layout[store['layout/keep_R2'].set_index(['srx', 'srr']).index] = 'keep_R2'"
   ]
  },
  {
   "cell_type": "code",
   "execution_count": 169,
   "metadata": {},
   "outputs": [],
   "source": [
    "store['layout'] = layout"
   ]
  }
 ],
 "metadata": {
  "kernelspec": {
   "display_name": "Python [conda env:ncbi_remap]",
   "language": "python",
   "name": "conda-env-ncbi_remap-py"
  },
  "language_info": {
   "codemirror_mode": {
    "name": "ipython",
    "version": 3
   },
   "file_extension": ".py",
   "mimetype": "text/x-python",
   "name": "python",
   "nbconvert_exporter": "python",
   "pygments_lexer": "ipython3",
   "version": "3.6.3"
  }
 },
 "nbformat": 4,
 "nbformat_minor": 2
}
