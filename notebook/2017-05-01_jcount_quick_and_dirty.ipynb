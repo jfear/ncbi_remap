{
 "cells": [
  {
   "cell_type": "code",
   "execution_count": 38,
   "metadata": {
    "code_folding": [
     0
    ],
    "collapsed": false,
    "deletable": true,
    "editable": true
   },
   "outputs": [
    {
     "name": "stdout",
     "output_type": "stream",
     "text": [
      "last updated: 2017-05-03 \n",
      "Git hash: d40ee230d57b6ca21eb5f009ae3fbbe19e777d8b\n"
     ]
    }
   ],
   "source": [
    "# %load ../start.py\n",
    "# Load useful extensions\n",
    "\n",
    "# Activate the autoreload extension for easy reloading of external packages\n",
    "%reload_ext autoreload\n",
    "%autoreload 2\n",
    "\n",
    "# Trun on the water mark\n",
    "%reload_ext watermark\n",
    "%watermark -u -d -g\n",
    "\n",
    "# Load ipycache extension\n",
    "%reload_ext ipycache\n",
    "from ipycache import CacheMagics\n",
    "CacheMagics.cachedir = '../cachedir'\n",
    "\n",
    "# Add project library to path\n",
    "import sys\n",
    "sys.path.insert(0, '../../lib/python')\n",
    "\n",
    "# The usual suspects\n",
    "import os\n",
    "import numpy as np\n",
    "import pandas as pd\n",
    "\n",
    "# plotting\n",
    "import matplotlib as mpl\n",
    "import matplotlib.pyplot as plt\n",
    "import seaborn as sns\n",
    "\n",
    "%matplotlib inline\n",
    "sns.set_context('poster')\n",
    "\n",
    "# Turn off scientific notation\n",
    "np.set_printoptions(precision=5, suppress=True)\n"
   ]
  },
  {
   "cell_type": "code",
   "execution_count": 39,
   "metadata": {
    "collapsed": false,
    "deletable": true,
    "editable": true
   },
   "outputs": [],
   "source": [
    "df = pd.read_table('../../output/bigwigs/golden_312.jcount')\n",
    "\n",
    "dfNew = df[df.PrimaryGene.isnull()].copy()\n",
    "dfNew['count'] = dfNew['count'].map(lambda x: int(x))\n",
    "grp = dfNew.groupby(['Site1_chr', 'Site1_location', 'Site2_chr', 'Site2_location'])\n",
    "cnts =  grp['count'].aggregate(['sum', 'size'])\n",
    "cnts.reset_index(inplace=True)\n",
    "\n",
    "with open('../../output/bigwigs/golden_unannotated_junc.bed', 'w') as fh:\n",
    "    for r in cnts.to_records():\n",
    "        chrom = r[1]\n",
    "        start = str(int(r[2]))\n",
    "        end = str(int(r[4]))\n",
    "        name = '{0}({1})'.format(r[5], r[6])\n",
    "        fh.write('\\t'.join([chrom, start, end, name]) + '\\n')\n",
    "\n",
    "dfOld = df[~df.PrimaryGene.isnull()].copy()\n",
    "dfOld['count'] = dfOld['count'].fillna(0).map(lambda x: int(x))\n",
    "grp = dfOld.groupby(['Site1_chr', 'Site1_location', 'Site2_chr', 'Site2_location'])\n",
    "cnts =  grp['count'].aggregate(['sum', 'size'])\n",
    "cnts.reset_index(inplace=True)\n",
    "\n",
    "with open('../../output/bigwigs/golden_annotated_junc.bed', 'w') as fh:\n",
    "    for r in cnts.to_records():\n",
    "        chrom = r[1]\n",
    "        start = str(int(r[2]))\n",
    "        end = str(int(r[4]))\n",
    "        name = '{0}({1})'.format(r[5], r[6])\n",
    "        fh.write('\\t'.join([chrom, start, end, name]) + '\\n')"
   ]
  },
  {
   "cell_type": "code",
   "execution_count": null,
   "metadata": {
    "collapsed": true,
    "deletable": true,
    "editable": true
   },
   "outputs": [],
   "source": []
  }
 ],
 "metadata": {
  "anaconda-cloud": {},
  "kernelspec": {
   "display_name": "Python [conda env:ncbi_remap]",
   "language": "python",
   "name": "conda-env-ncbi_remap-py"
  },
  "language_info": {
   "codemirror_mode": {
    "name": "ipython",
    "version": 3
   },
   "file_extension": ".py",
   "mimetype": "text/x-python",
   "name": "python",
   "nbconvert_exporter": "python",
   "pygments_lexer": "ipython3",
   "version": "3.5.2"
  },
  "toc": {
   "colors": {
    "hover_highlight": "#DAA520",
    "running_highlight": "#FF0000",
    "selected_highlight": "#FFD700"
   },
   "moveMenuLeft": true,
   "nav_menu": {
    "height": "12px",
    "width": "252px"
   },
   "navigate_menu": true,
   "number_sections": false,
   "sideBar": true,
   "threshold": 4,
   "toc_cell": false,
   "toc_section_display": "block",
   "toc_window_display": false
  }
 },
 "nbformat": 4,
 "nbformat_minor": 2
}
