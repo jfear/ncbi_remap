{
 "cells": [
  {
   "cell_type": "markdown",
   "metadata": {},
   "source": [
    "# GEO Submission"
   ]
  },
  {
   "cell_type": "code",
   "execution_count": 3,
   "metadata": {},
   "outputs": [],
   "source": [
    "import os\n",
    "import sys\n",
    "from pathlib import Path\n",
    "\n",
    "from IPython.display import display, HTML, Markdown\n",
    "import numpy as np\n",
    "import pandas as pd\n",
    "\n",
    "import matplotlib as mpl\n",
    "import matplotlib.pyplot as plt\n",
    "import seaborn as sns\n",
    "\n",
    "# Project level imports\n",
    "sys.path.insert(0, '../lib')\n",
    "from ncbi_remap.notebook import Nb\n",
    "from ncbi_remap.plotting import make_figs"
   ]
  },
  {
   "cell_type": "code",
   "execution_count": 8,
   "metadata": {},
   "outputs": [],
   "source": [
    "from pymongo import MongoClient\n",
    "try:\n",
    "    with open('../output/.mongodb_host', 'r') as fh:\n",
    "        host = fh.read().strip()\n",
    "except FileNotFoundError:\n",
    "    host = 'localhost'\n",
    "\n",
    "mongoClient = MongoClient(host=host, port=27017)\n",
    "db = mongoClient['sramongo']\n",
    "ncbi = db['ncbi']"
   ]
  },
  {
   "cell_type": "code",
   "execution_count": 5,
   "metadata": {},
   "outputs": [],
   "source": [
    "# Connect to data store\n",
    "store = pd.HDFStore('../output/sra.h5', mode='r')\n",
    "srxs = store['aln/complete'].srx.unique().tolist()\n",
    "store.close()"
   ]
  },
  {
   "cell_type": "code",
   "execution_count": 6,
   "metadata": {},
   "outputs": [
    {
     "data": {
      "text/plain": [
       "24028"
      ]
     },
     "execution_count": 6,
     "metadata": {},
     "output_type": "execute_result"
    }
   ],
   "source": [
    "len(srxs)"
   ]
  },
  {
   "cell_type": "code",
   "execution_count": 10,
   "metadata": {},
   "outputs": [],
   "source": [
    "fileds = {\n",
    "    'Sample name': '$biosample.biosample_accn',\n",
    "    'title': '$biosample.title',\n",
    "    'source name',\n",
    "    'organism': '$biosample.organism_name',\n",
    "    '*tags',\n",
    "    'molecule',\n",
    "    'description',\n",
    "    '*processed files',\n",
    "    'raw file',\n",
    "}"
   ]
  },
  {
   "cell_type": "code",
   "execution_count": 16,
   "metadata": {},
   "outputs": [
    {
     "data": {
      "text/plain": [
       "{'_id': 'DRX013093',\n",
       " '_cls': 'Ncbi',\n",
       " 'sra': {'submission': {'submission_id': 'DRA001230',\n",
       "   'external_id': [],\n",
       "   'secondary_id': [],\n",
       "   'submitter_id': [],\n",
       "   'uuid': []},\n",
       "  'organization': {'organization_type': 'center',\n",
       "   'abbreviation': 'TOKYO_METRO',\n",
       "   'name': 'TOKYO_METRO'},\n",
       "  'study': {'study_id': 'DRP001295',\n",
       "   'BioProject': 'PRJDB2332',\n",
       "   'pubmed': '24151578',\n",
       "   'external_id': [],\n",
       "   'secondary_id': [],\n",
       "   'submitter_id': [],\n",
       "   'uuid': [],\n",
       "   'title': 'Comparative transcriptome analysis of immune response to oral Penicillium-fungus infection in D. virilis and D. melanogaster.',\n",
       "   'study_type': 'Other',\n",
       "   'abstract': 'D. virilis has a higher resistance to oral infection of a species of filamentous fungi belonging to the genus Penicillium, compared to D. melanogaster. To clarify the immune mechanism responsible for the higher antifungal resistance of D. virilis, larval immune response to the fungal infection between D. virilis and D. melanogaster was compared by means of comparative transcriptome analyses.',\n",
       "   'center_name': 'BioProject',\n",
       "   'center_project_name': 'Drosophila melanogaster',\n",
       "   'related_studies': [],\n",
       "   'url_links': [],\n",
       "   'xref_links': [],\n",
       "   'entrez_links': [],\n",
       "   'ddbj_links': [],\n",
       "   'ena_links': []},\n",
       "  'sample': {'sample_id': 'DRS012892',\n",
       "   'BioSample': 'SAMD00010225',\n",
       "   'external_id': [],\n",
       "   'secondary_id': [],\n",
       "   'submitter_id': [],\n",
       "   'uuid': [],\n",
       "   'title': 'Penicillium-fungus uninfected 3rd instar larvae of Drosophila melanogaster.',\n",
       "   'taxon_id': '7227',\n",
       "   'scientific_name': 'Drosophila melanogaster',\n",
       "   'attributes': [{'name': 'sample_name', 'value': 'DRS012892'},\n",
       "    {'name': 'sample comment',\n",
       "     'value': 'Twenty 3rd instar larvae of D. melanogaster (Canton-S) reared on the fungus-free Sabouraud dextrose agar medium for 12 hours at 20?C.'}],\n",
       "   'url_links': [],\n",
       "   'xref_links': [],\n",
       "   'entrez_links': [],\n",
       "   'ddbj_links': [],\n",
       "   'ena_links': []},\n",
       "  'experiment': {'experiment_id': 'DRX013093',\n",
       "   'external_id': [],\n",
       "   'secondary_id': [],\n",
       "   'submitter_id': [],\n",
       "   'uuid': [],\n",
       "   'title': 'Transcriptome analysis of uninfected 3rd instar larvae of D. melanogaster.',\n",
       "   'study_id': 'DRP001295',\n",
       "   'design': 'RNA-seq by using a 454 GS junior sequencer for mRNA extracted from the fat bodies and the salivary glands.',\n",
       "   'library_strategy': 'RNA-Seq',\n",
       "   'library_source': 'TRANSCRIPTOMIC',\n",
       "   'library_selection': 'cDNA',\n",
       "   'library_layout': 'SINGLE',\n",
       "   'platform': 'LS454',\n",
       "   'instrument_model': '454 GS Junior',\n",
       "   'attributes': [],\n",
       "   'url_links': [],\n",
       "   'xref_links': [],\n",
       "   'entrez_links': [],\n",
       "   'ddbj_links': [],\n",
       "   'ena_links': []},\n",
       "  'pool': ['DRS012892'],\n",
       "  'db_flags': ['SE', 'RNASeq'],\n",
       "  'db_imported': datetime.datetime(2018, 5, 29, 19, 1, 24, 425000)},\n",
       " 'biosample': [{'biosample_accn': 'SAMD00010225',\n",
       "   'biosample_id': '2708314',\n",
       "   'biosample_primary': 'SAMD00010225',\n",
       "   'sample_id': 'DRS012892',\n",
       "   'title': 'Penicillium-fungus uninfected 3rd instar larvae of Drosophila melanogaster.',\n",
       "   'tax_id': '7227',\n",
       "   'tax_name': 'Drosophila melanogaster',\n",
       "   'organism_name': 'Drosophila melanogaster',\n",
       "   'institute': 'Evolutionary genetics laboratory',\n",
       "   'access': 'public',\n",
       "   'publication_date': '2013-11-28',\n",
       "   'last_update': '2014-11-12',\n",
       "   'submission_date': '2014-03-26',\n",
       "   'contacts': [],\n",
       "   'models': ['Generic'],\n",
       "   'attributes': [{'name': 'sample_name', 'value': 'DRS012892'},\n",
       "    {'name': 'sample comment',\n",
       "     'value': 'Twenty 3rd instar larvae of D. melanogaster (Canton-S) reared on the fungus-free Sabouraud dextrose agar medium for 12 hours at 20?C.'}]}],\n",
       " 'bioproject': {'bioproject_accn': 'PRJDB2332',\n",
       "  'bioproject_id': '247092',\n",
       "  'name': 'Drosophila melanogaster',\n",
       "  'title': 'Comparative transcriptome analysis of immune response to oral Penicillium-fungus infection in D. virilis and D. melanogaster.',\n",
       "  'description': 'D. virilis has a higher resistance to oral infection of a species of filamentous fungi belonging to the genus Penicillium, compared to D. melanogaster. To clarify the immune mechanism responsible for the higher antifungal resistance of D. virilis, larval immune response to the fungal infection between D. virilis and D. melanogaster was compared by means of comparative transcriptome analyses.',\n",
       "  'publication': '24151578',\n",
       "  'publication_date': datetime.datetime(2013, 10, 24, 0, 0),\n",
       "  'submission_date': datetime.datetime(2013, 11, 25, 0, 0),\n",
       "  'external_id': []},\n",
       " 'pubmed': [{'pubmed_id': '24151578',\n",
       "   'title': 'Extensive differences in antifungal immune response in two Drosophila species revealed by comparative transcriptome analysis.',\n",
       "   'abstract': 'The innate immune system of Drosophila is activated by ingestion of microorganisms. D. melanogaster breeds on fruits fermented by Saccharomyces cerevisiae, whereas D. virilis breeds on slime flux and decaying bark of tree housing a variety of bacteria, yeasts, and molds. In this study, it is shown that D. virilis has a higher resistance to oral infection of a species of filamentous fungi belonging to the genus Penicillium compared to D. melanogaster. In response to the fungal infection, a transcriptome profile of immune-related genes was considerably different between D. melanogaster and D. virilis: the genes encoding antifungal peptides, Drosomycin and Metchnikowin, were highly expressed in D. melanogaster whereas, the genes encoding Diptericin and Defensin were highly expressed in D. virilis. On the other hand, the immune-induced molecule (IM) genes showed contrary expression patterns between the two species: they were induced by the fungal infection in D. melanogaster but tended to be suppressed in D. virilis. Our transcriptome analysis also showed newly predicted immune-related genes in D. virilis. These results suggest that the innate immune system has been extensively differentiated during the evolution of these Drosophila species. ',\n",
       "   'authors': [{'first_name': 'Yosuke',\n",
       "     'last_name': 'Seto',\n",
       "     'affiliation': 'Department of Biological Sciences, Tokyo Metropolitan University, 1-1 Minami-Osawa, Hachioji-shi, Tokyo 192-0397, Japan.'},\n",
       "    {'first_name': 'Koichiro', 'last_name': 'Tamura'}],\n",
       "   'citation': '2314-436X 2013 Int J Genomics 2013',\n",
       "   'date_completed': datetime.datetime(2013, 10, 23, 0, 0),\n",
       "   'date_revised': datetime.datetime(2017, 2, 20, 0, 0)}]}"
      ]
     },
     "execution_count": 16,
     "metadata": {},
     "output_type": "execute_result"
    }
   ],
   "source": [
    "ncbi.find_one({'sra.experiment.library_strategy': 'RNA-Seq', '_id': {'$in': srxs}}, {'sra.run': 0})"
   ]
  },
  {
   "cell_type": "code",
   "execution_count": null,
   "metadata": {},
   "outputs": [],
   "source": []
  }
 ],
 "metadata": {
  "kernelspec": {
   "display_name": "Python [conda env:ncbi_remap]",
   "language": "python",
   "name": "conda-env-ncbi_remap-py"
  },
  "language_info": {
   "codemirror_mode": {
    "name": "ipython",
    "version": 3
   },
   "file_extension": ".py",
   "mimetype": "text/x-python",
   "name": "python",
   "nbconvert_exporter": "python",
   "pygments_lexer": "ipython3",
   "version": "3.6.5"
  }
 },
 "nbformat": 4,
 "nbformat_minor": 2
}
