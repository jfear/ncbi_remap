{
 "cells": [
  {
   "cell_type": "code",
   "execution_count": 3,
   "metadata": {},
   "outputs": [],
   "source": [
    "import os\n",
    "import sys\n",
    "from pathlib import Path\n",
    "\n",
    "from IPython.display import display, HTML, Markdown\n",
    "import numpy as np\n",
    "import pandas as pd\n",
    "\n",
    "import matplotlib as mpl\n",
    "import matplotlib.pyplot as plt\n",
    "import seaborn as sns\n",
    "\n",
    "# Project level imports\n",
    "sys.path.insert(0, '../lib')\n",
    "from ncbi_remap.notebook import Nb\n",
    "from ncbi_remap.plotting import make_figs"
   ]
  },
  {
   "cell_type": "code",
   "execution_count": 4,
   "metadata": {},
   "outputs": [
    {
     "name": "stdout",
     "output_type": "stream",
     "text": [
      "Please check output/fbgn2chrom.tsv. If it does not exist, run bin/fbgn2chrom.py\n",
      "last updated: 2018-08-29 \n",
      "Git hash: 3e6018d790e56d8ccd70647a7eccff8c120a8e6d\n"
     ]
    }
   ],
   "source": [
    "# Setup notebook\n",
    "nbconfig = Nb.setup_notebook()\n",
    "\n",
    "# Connect to data store\n",
    "store = pd.HDFStore('../sra.h5', mode='r')"
   ]
  },
  {
   "cell_type": "code",
   "execution_count": null,
   "metadata": {},
   "outputs": [],
   "source": []
  },
  {
   "cell_type": "code",
   "execution_count": 28,
   "metadata": {},
   "outputs": [],
   "source": [
    "def parse(srx):\n",
    "    try:\n",
    "        df = pd.read_parquet(f'../aln-wf/output/samtools_idxstats/{srx}.parquet', columns=['# mapped reads'])\n",
    "        df.columns = ['mapped']\n",
    "        df = df.mapped\n",
    "        prop =  df['chrM'] / df.sum()\n",
    "    except:\n",
    "        return\n",
    "    return srx, prop"
   ]
  },
  {
   "cell_type": "code",
   "execution_count": 42,
   "metadata": {},
   "outputs": [],
   "source": [
    "dd = pd.read_csv('../geo-wf/output/rnaseq_metadata.tsv', sep='\\t')\n",
    "srxs = dd.sample_name.tolist()\n",
    "\n",
    "res = []\n",
    "for srx in srxs:\n",
    "    res.append(parse(srx))"
   ]
  },
  {
   "cell_type": "code",
   "execution_count": 49,
   "metadata": {},
   "outputs": [
    {
     "data": {
      "image/png": "[encoded data removed]",
      "text/plain": [
       "<Figure size 800x600 with 1 Axes>"
      ]
     },
     "metadata": {},
     "output_type": "display_data"
    }
   ],
   "source": [
    "dat = pd.DataFrame(res, columns=['srx', 'prop']).set_index('srx')\n",
    "ax = dat.prop.plot.kde()\n",
    "fig = plt.gcf()\n",
    "fig.savefig('../output/dist_mito.png')"
   ]
  },
  {
   "cell_type": "code",
   "execution_count": 50,
   "metadata": {},
   "outputs": [
    {
     "data": {
      "text/html": [
       "<div>\n",
       "<style scoped>\n",
       "    .dataframe tbody tr th:only-of-type {\n",
       "        vertical-align: middle;\n",
       "    }\n",
       "\n",
       "    .dataframe tbody tr th {\n",
       "        vertical-align: top;\n",
       "    }\n",
       "\n",
       "    .dataframe thead th {\n",
       "        text-align: right;\n",
       "    }\n",
       "</style>\n",
       "<table border=\"1\" class=\"dataframe\">\n",
       "  <thead>\n",
       "    <tr style=\"text-align: right;\">\n",
       "      <th></th>\n",
       "      <th>prop</th>\n",
       "    </tr>\n",
       "  </thead>\n",
       "  <tbody>\n",
       "    <tr>\n",
       "      <th>count</th>\n",
       "      <td>14423.000000</td>\n",
       "    </tr>\n",
       "    <tr>\n",
       "      <th>mean</th>\n",
       "      <td>0.075634</td>\n",
       "    </tr>\n",
       "    <tr>\n",
       "      <th>std</th>\n",
       "      <td>0.087537</td>\n",
       "    </tr>\n",
       "    <tr>\n",
       "      <th>min</th>\n",
       "      <td>0.000000</td>\n",
       "    </tr>\n",
       "    <tr>\n",
       "      <th>25%</th>\n",
       "      <td>0.025417</td>\n",
       "    </tr>\n",
       "    <tr>\n",
       "      <th>50%</th>\n",
       "      <td>0.049720</td>\n",
       "    </tr>\n",
       "    <tr>\n",
       "      <th>75%</th>\n",
       "      <td>0.094468</td>\n",
       "    </tr>\n",
       "    <tr>\n",
       "      <th>max</th>\n",
       "      <td>0.924951</td>\n",
       "    </tr>\n",
       "  </tbody>\n",
       "</table>\n",
       "</div>"
      ],
      "text/plain": [
       "               prop\n",
       "count  14423.000000\n",
       "mean       0.075634\n",
       "std        0.087537\n",
       "min        0.000000\n",
       "25%        0.025417\n",
       "50%        0.049720\n",
       "75%        0.094468\n",
       "max        0.924951"
      ]
     },
     "execution_count": 50,
     "metadata": {},
     "output_type": "execute_result"
    }
   ],
   "source": [
    "dat.describe()"
   ]
  },
  {
   "cell_type": "code",
   "execution_count": 57,
   "metadata": {},
   "outputs": [],
   "source": [
    "bad = dat[dat.prop > .40].index.tolist()"
   ]
  },
  {
   "cell_type": "code",
   "execution_count": 63,
   "metadata": {},
   "outputs": [
    {
     "data": {
      "text/plain": [
       "array([nan, 'Sing-Hoi Sze <shsze@cse.tamu.edu>',\n",
       "       'Ekaterina Khrameeva <e.khrameeva@skoltech.ru>',\n",
       "       'Peter Combs <peter.combs@berkeley.edu>',\n",
       "       'Martino Colombo <martino.colombo@dcb.unibe.ch>',\n",
       "       'Amanda Crocker <acrocker@middlebury.edu>',\n",
       "       'Katharine Abruzzi <katea@brandeis.edu>',\n",
       "       'Jean-Yves Roignant <j.roignant@imb-mainz.de>',\n",
       "       'Nelson Lau <nlau@brandeis.edu>',\n",
       "       'Bernardo Lemos <blemos@hsph.harvard.edu>',\n",
       "       'Tiffany Cook <tiffany.cook.cmmg@gmail.com>',\n",
       "       'Brian Oliver <briano@helix.nih.gov>',\n",
       "       'Weijin Xu <weijin@brandeis.edu>',\n",
       "       'Carolyn Elya <cnelya@fas.harvard.edu>',\n",
       "       'Jun Chen <cjnankai@gmail.com>',\n",
       "       'Itai Yanai <yanai@technion.ac.il>',\n",
       "       'Devanjali Dutta <d.dutta@zmbh.uni-heidelberg.de>',\n",
       "       'Daniel Gerlach <gerlach@starklab.org>',\n",
       "       'Maria Spletter <maria.spletter@gmail.com>'], dtype=object)"
      ]
     },
     "execution_count": 63,
     "metadata": {},
     "output_type": "execute_result"
    }
   ],
   "source": [
    "dd.query(f'sample_name == {bad}').contact.unique()"
   ]
  },
  {
   "cell_type": "code",
   "execution_count": null,
   "metadata": {},
   "outputs": [],
   "source": []
  }
 ],
 "metadata": {
  "kernelspec": {
   "display_name": "Python [conda env:ncbi_remap]",
   "language": "python",
   "name": "conda-env-ncbi_remap-py"
  },
  "language_info": {
   "codemirror_mode": {
    "name": "ipython",
    "version": 3
   },
   "file_extension": ".py",
   "mimetype": "text/x-python",
   "name": "python",
   "nbconvert_exporter": "python",
   "pygments_lexer": "ipython3",
   "version": "3.6.5"
  }
 },
 "nbformat": 4,
 "nbformat_minor": 2
}
