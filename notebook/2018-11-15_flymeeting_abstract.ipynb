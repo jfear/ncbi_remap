{
 "cells": [
  {
   "cell_type": "markdown",
   "metadata": {},
   "source": [
    "# Fly Meeting Abstract Prep"
   ]
  },
  {
   "cell_type": "markdown",
   "metadata": {},
   "source": [
    "I am working on preparing the Fly Meeting Abstract and need some details."
   ]
  },
  {
   "cell_type": "code",
   "execution_count": 3,
   "metadata": {},
   "outputs": [],
   "source": [
    "import os\n",
    "import sys\n",
    "from pathlib import Path\n",
    "\n",
    "from IPython.display import display, HTML, Markdown\n",
    "import numpy as np\n",
    "import pandas as pd\n",
    "\n",
    "import matplotlib as mpl\n",
    "import matplotlib.pyplot as plt\n",
    "import seaborn as sns\n",
    "\n",
    "# Project level imports\n",
    "sys.path.insert(0, '../lib')\n",
    "from ncbi_remap.notebook import Nb\n",
    "from ncbi_remap.plotting import make_figs"
   ]
  },
  {
   "cell_type": "code",
   "execution_count": 4,
   "metadata": {},
   "outputs": [
    {
     "name": "stdout",
     "output_type": "stream",
     "text": [
      "Please check output/fbgn2chrom.tsv. If it does not exist, run bin/fbgn2chrom.py\n",
      "last updated: 2018-11-15 \n",
      "Git hash: 58aa35e5aea674c7af407cd79cf6acd98196f546\n"
     ]
    }
   ],
   "source": [
    "# Setup notebook\n",
    "nbconfig = Nb.setup_notebook()"
   ]
  },
  {
   "cell_type": "code",
   "execution_count": 5,
   "metadata": {},
   "outputs": [],
   "source": [
    "# Connect to data store\n",
    "store = pd.HDFStore('../sra.h5', mode='r')"
   ]
  },
  {
   "cell_type": "code",
   "execution_count": 6,
   "metadata": {},
   "outputs": [],
   "source": [
    "from pymongo import MongoClient\n",
    "host = 'localhost'\n",
    "mongoClient = MongoClient(host=host, port=27017)\n",
    "db = mongoClient['sra']\n",
    "ncbi = db['ncbi']"
   ]
  },
  {
   "cell_type": "code",
   "execution_count": 8,
   "metadata": {},
   "outputs": [],
   "source": [
    "rnaseq = pd.read_csv('../output/geo-wf/rnaseq_metadata.tsv', sep='\\t', index_col=0)"
   ]
  },
  {
   "cell_type": "code",
   "execution_count": 16,
   "metadata": {},
   "outputs": [],
   "source": [
    "num_pub = rnaseq.shape[0]"
   ]
  },
  {
   "cell_type": "code",
   "execution_count": 12,
   "metadata": {},
   "outputs": [],
   "source": [
    "mod = pd.read_csv('../output/modENCODE_rnaseq_sampletable.tsv', sep='\\t')"
   ]
  },
  {
   "cell_type": "code",
   "execution_count": 21,
   "metadata": {},
   "outputs": [
    {
     "name": "stdout",
     "output_type": "stream",
     "text": [
      "There is 42 times at much data than modENCODE\n"
     ]
    }
   ],
   "source": [
    "_mul = num_pub / len(mod.srx.unique())\n",
    "print(f'There is {_mul:.0f} times at much data than modENCODE')"
   ]
  },
  {
   "cell_type": "code",
   "execution_count": 75,
   "metadata": {},
   "outputs": [
    {
     "data": {
      "text/plain": [
       "{'_id': 'SRX4104113',\n",
       " '_cls': 'Ncbi',\n",
       " 'sra': {'submission': {'submission_id': 'SRA707623',\n",
       "   'external_id': [],\n",
       "   'secondary_id': [],\n",
       "   'submitter_id': [],\n",
       "   'uuid': []},\n",
       "  'organization': {'organization_type': 'institute',\n",
       "   'name': 'Southern University of Science and Technology',\n",
       "   'email': 'shenwei4907@foxmail.com',\n",
       "   'first_name': 'wei',\n",
       "   'last_name': 'shen'},\n",
       "  'study': {'study_id': 'SRP148502',\n",
       "   'BioProject': 'PRJNA470784',\n",
       "   'external_id': [],\n",
       "   'secondary_id': [],\n",
       "   'submitter_id': [],\n",
       "   'uuid': [],\n",
       "   'title': 'Drosophila melanogaster PCR-free Hi-C Raw sequence reads',\n",
       "   'study_type': 'Whole Genome Sequencing',\n",
       "   'abstract': 'We modified on in situ Hi-C and developed new method which produces adequate DNA for direct High-throughput sequeuncing. Systematic comparison between non-amplified and amplified Hi-Cs were carried out.',\n",
       "   'center_name': 'BioProject',\n",
       "   'center_project_name': 'Drosophila melanogaster strain:S2',\n",
       "   'related_studies': [],\n",
       "   'url_links': [],\n",
       "   'xref_links': [],\n",
       "   'entrez_links': [],\n",
       "   'ddbj_links': [],\n",
       "   'ena_links': []},\n",
       "  'sample': {'sample_id': 'SRS3320019',\n",
       "   'BioSample': 'SAMN09104457',\n",
       "   'BioProject': '470784',\n",
       "   'external_id': [],\n",
       "   'secondary_id': [],\n",
       "   'submitter_id': [],\n",
       "   'uuid': [],\n",
       "   'title': 'Drosophila melanogaster S2 PCR free Hi-C',\n",
       "   'taxon_id': '7227',\n",
       "   'scientific_name': 'Drosophila melanogaster',\n",
       "   'attributes': [{'name': 'strain', 'value': 'S2'},\n",
       "    {'name': 'dev_stage', 'value': 'late stage (20-24hours old)'},\n",
       "    {'name': 'sex', 'value': 'male'},\n",
       "    {'name': 'tissue', 'value': 'embryo'},\n",
       "    {'name': 'cell_line', 'value': 'S2'},\n",
       "    {'name': 'BioSampleModel', 'value': 'Model organism or animal'}],\n",
       "   'url_links': [],\n",
       "   'xref_links': [],\n",
       "   'entrez_links': [],\n",
       "   'ddbj_links': [],\n",
       "   'ena_links': []},\n",
       "  'experiment': {'experiment_id': 'SRX4104113',\n",
       "   'external_id': [],\n",
       "   'secondary_id': [],\n",
       "   'submitter_id': [],\n",
       "   'uuid': [],\n",
       "   'title': 'non amplified',\n",
       "   'study_id': 'SRP148502',\n",
       "   'design': 'in situ Hi-C without PCR',\n",
       "   'library_name': 'PF0-rep1-2',\n",
       "   'library_strategy': 'HI-C',\n",
       "   'library_source': 'GENOMIC',\n",
       "   'library_selection': 'other',\n",
       "   'library_layout': 'PAIRED',\n",
       "   'platform': 'ILLUMINA',\n",
       "   'instrument_model': 'Illumina HiSeq X Ten',\n",
       "   'attributes': [],\n",
       "   'url_links': [],\n",
       "   'xref_links': [],\n",
       "   'entrez_links': [],\n",
       "   'ddbj_links': [],\n",
       "   'ena_links': []},\n",
       "  'run': [{'run_id': 'SRR7187330',\n",
       "    'external_id': [],\n",
       "    'secondary_id': [],\n",
       "    'submitter_id': [],\n",
       "    'uuid': [],\n",
       "    'experiment_id': 'SRX4104113',\n",
       "    'samples': ['SRS3320019'],\n",
       "    'nspots': 142610233,\n",
       "    'nbases': 42783069900,\n",
       "    'nreads': 2,\n",
       "    'read_count_r1': 142610233.0,\n",
       "    'read_len_r1': 150.0,\n",
       "    'read_count_r2': 142610233.0,\n",
       "    'read_len_r2': 150.0,\n",
       "    'run_flags': ['PE'],\n",
       "    'release_date': '2018-05-20 00:30:13',\n",
       "    'load_date': '2018-05-19 23:49:46',\n",
       "    'size_MB': 15830,\n",
       "    'download_path': 'https://sra-download.ncbi.nlm.nih.gov/traces/sra63/SRR/007018/SRR7187330'}],\n",
       "  'pool': ['SRS3320019'],\n",
       "  'db_flags': ['PE'],\n",
       "  'db_imported': datetime.datetime(2018, 5, 29, 18, 26, 49, 710000)},\n",
       " 'biosample': [{'biosample_accn': 'SAMN09104457',\n",
       "   'biosample_id': '9104457',\n",
       "   'biosample_primary': 'SAMN09104457',\n",
       "   'sample_id': 'SRS3320019',\n",
       "   'title': 'Drosophila melanogaster S2 PCR free Hi-C',\n",
       "   'tax_id': '7227',\n",
       "   'tax_name': 'Drosophila melanogaster',\n",
       "   'organism_name': 'Drosophila melanogaster',\n",
       "   'institute': 'Southern University of Science and Technology',\n",
       "   'access': 'public',\n",
       "   'publication_date': '2018-05-10',\n",
       "   'last_update': '2018-05-19',\n",
       "   'submission_date': '2018-05-10',\n",
       "   'contacts': [{'email': 'shenwei4907@foxmail.com',\n",
       "     'first_name': 'wei',\n",
       "     'last_name': 'shen'}],\n",
       "   'models': ['Model organism or animal'],\n",
       "   'attributes': [{'name': 'strain', 'value': 'S2'},\n",
       "    {'name': 'dev_stage', 'value': 'late stage (20-24hours old)'},\n",
       "    {'name': 'sex', 'value': 'male'},\n",
       "    {'name': 'tissue', 'value': 'embryo'},\n",
       "    {'name': 'cell_line', 'value': 'S2'}]}],\n",
       " 'bioproject': {'bioproject_accn': 'PRJNA470784',\n",
       "  'bioproject_id': '470784',\n",
       "  'name': 'Drosophila melanogaster strain:S2',\n",
       "  'title': 'Drosophila melanogaster PCR-free Hi-C Raw sequence reads',\n",
       "  'description': 'We modified on in situ Hi-C and developed new method which produces adequate DNA for direct High-throughput sequeuncing. Systematic comparison between non-amplified and amplified Hi-Cs were carried out.',\n",
       "  'submission_id': 'SUB4020811',\n",
       "  'last_update': datetime.datetime(2018, 5, 10, 0, 0),\n",
       "  'submission_date': datetime.datetime(2018, 5, 10, 0, 0),\n",
       "  'external_id': []}}"
      ]
     },
     "execution_count": 75,
     "metadata": {},
     "output_type": "execute_result"
    }
   ],
   "source": [
    "ncbi.find_one({})"
   ]
  },
  {
   "cell_type": "code",
   "execution_count": null,
   "metadata": {},
   "outputs": [],
   "source": []
  },
  {
   "cell_type": "code",
   "execution_count": 87,
   "metadata": {},
   "outputs": [],
   "source": [
    "pe_srxs = layout[(layout == 'PE')].index.get_level_values('srx').unique().tolist()\n",
    "se_srxs = layout[(layout == 'SE')].index.get_level_values('srx').unique().tolist()\n",
    "k1_srxs = layout[(layout == 'keep_R1')].index.get_level_values('srx').unique().tolist()\n",
    "k2_srxs = layout[(layout == 'keep_R2')].index.get_level_values('srx').unique().tolist()"
   ]
  },
  {
   "cell_type": "code",
   "execution_count": null,
   "metadata": {},
   "outputs": [],
   "source": []
  },
  {
   "cell_type": "code",
   "execution_count": 97,
   "metadata": {},
   "outputs": [],
   "source": [
    "pe = pd.DataFrame(list(ncbi.aggregate([\n",
    "    {\n",
    "        '$match': {\n",
    "            '_id': {'$in': pe_srxs}\n",
    "        }\n",
    "    },\n",
    "    {\n",
    "        '$unwind': '$sra.run'\n",
    "    },\n",
    "    {\n",
    "        '$project': {\n",
    "            's1': '$sra.run.read_count_r1',\n",
    "            's2': '$sra.run.read_count_r2',\n",
    "            'l1': '$sra.run.read_len_r1',\n",
    "            'l2': '$sra.run.read_len_r2',\n",
    "        }\n",
    "    }\n",
    "])))\n",
    "\n",
    "pe.set_index('_id', inplace=True)\n",
    "\n",
    "pe_size = pe.s1.sum()\n",
    "pe_bases = ((pe.l1 + pe.l2) * pe.s1).sum()"
   ]
  },
  {
   "cell_type": "code",
   "execution_count": 101,
   "metadata": {},
   "outputs": [],
   "source": [
    "se = pd.DataFrame(list(ncbi.aggregate([\n",
    "    {\n",
    "        '$match': {\n",
    "            '_id': {'$in': se_srxs}\n",
    "        }\n",
    "    },\n",
    "    {\n",
    "        '$unwind': '$sra.run'\n",
    "    },\n",
    "    {\n",
    "        '$project': {\n",
    "            's1': '$sra.run.read_count_r1',\n",
    "            'l1': '$sra.run.read_len_r1',\n",
    "        }\n",
    "    }\n",
    "])))\n",
    "\n",
    "se.set_index('_id', inplace=True)\n",
    "\n",
    "se_size = se.s1.sum()\n",
    "se_bases = (se.l1 * se.s1).sum()"
   ]
  },
  {
   "cell_type": "code",
   "execution_count": 103,
   "metadata": {},
   "outputs": [],
   "source": [
    "k1 = pd.DataFrame(list(ncbi.aggregate([\n",
    "    {\n",
    "        '$match': {\n",
    "            '_id': {'$in': k1_srxs}\n",
    "        }\n",
    "    },\n",
    "    {\n",
    "        '$unwind': '$sra.run'\n",
    "    },\n",
    "    {\n",
    "        '$project': {\n",
    "            's1': '$sra.run.read_count_r1',\n",
    "            'l1': '$sra.run.read_len_r1',\n",
    "        }\n",
    "    }\n",
    "])))\n",
    "\n",
    "k1.set_index('_id', inplace=True)\n",
    "\n",
    "k1_size = k1.s1.sum()\n",
    "k1_bases = (k1.l1 * k1.s1).sum()"
   ]
  },
  {
   "cell_type": "code",
   "execution_count": 104,
   "metadata": {},
   "outputs": [],
   "source": [
    "k2 = pd.DataFrame(list(ncbi.aggregate([\n",
    "    {\n",
    "        '$match': {\n",
    "            '_id': {'$in': k2_srxs}\n",
    "        }\n",
    "    },\n",
    "    {\n",
    "        '$unwind': '$sra.run'\n",
    "    },\n",
    "    {\n",
    "        '$project': {\n",
    "            's2': '$sra.run.read_count_r2',\n",
    "            'l2': '$sra.run.read_len_r2',\n",
    "        }\n",
    "    }\n",
    "])))\n",
    "\n",
    "k2.set_index('_id', inplace=True)\n",
    "\n",
    "k2_size = k2.s2.sum()\n",
    "k2_bases = (k2.l2 * k2.s2).sum()"
   ]
  },
  {
   "cell_type": "code",
   "execution_count": 102,
   "metadata": {},
   "outputs": [
    {
     "data": {
      "text/plain": [
       "351029884742.0"
      ]
     },
     "execution_count": 102,
     "metadata": {},
     "output_type": "execute_result"
    }
   ],
   "source": []
  },
  {
   "cell_type": "code",
   "execution_count": 124,
   "metadata": {},
   "outputs": [
    {
     "name": "stdout",
     "output_type": "stream",
     "text": [
      "696 billion reads\n"
     ]
    }
   ],
   "source": [
    "total_size = pe_size + se_size + k1_size + k2_size\n",
    "print(f'{total_size / 1e9:,.0f} billion reads')"
   ]
  },
  {
   "cell_type": "code",
   "execution_count": 126,
   "metadata": {},
   "outputs": [
    {
     "name": "stdout",
     "output_type": "stream",
     "text": [
      "74.90210148208793 tera bases\n"
     ]
    }
   ],
   "source": [
    "total_bases = pe_bases + se_bases + k1_bases + k2_bases\n",
    "print(f'{total_bases / 1e12:,} tera bases')"
   ]
  },
  {
   "cell_type": "code",
   "execution_count": null,
   "metadata": {},
   "outputs": [],
   "source": []
  },
  {
   "cell_type": "code",
   "execution_count": 127,
   "metadata": {},
   "outputs": [],
   "source": [
    "bob = (260053, 452600, 18551)"
   ]
  },
  {
   "cell_type": "code",
   "execution_count": 129,
   "metadata": {},
   "outputs": [
    {
     "data": {
      "text/plain": [
       "array([0.35565, 0.61898, 0.02537])"
      ]
     },
     "execution_count": 129,
     "metadata": {},
     "output_type": "execute_result"
    }
   ],
   "source": [
    "bob / np.sum(bob)"
   ]
  },
  {
   "cell_type": "code",
   "execution_count": null,
   "metadata": {},
   "outputs": [],
   "source": []
  }
 ],
 "metadata": {
  "kernelspec": {
   "display_name": "Python [conda env:ncbi_remap]",
   "language": "python",
   "name": "conda-env-ncbi_remap-py"
  },
  "language_info": {
   "codemirror_mode": {
    "name": "ipython",
    "version": 3
   },
   "file_extension": ".py",
   "mimetype": "text/x-python",
   "name": "python",
   "nbconvert_exporter": "python",
   "pygments_lexer": "ipython3",
   "version": "3.6.5"
  }
 },
 "nbformat": 4,
 "nbformat_minor": 2
}
