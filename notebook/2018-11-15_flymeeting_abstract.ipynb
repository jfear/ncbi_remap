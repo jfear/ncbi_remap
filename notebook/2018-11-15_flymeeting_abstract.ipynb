{
 "cells": [
  {
   "cell_type": "markdown",
   "metadata": {},
   "source": [
    "# Fly Meeting Abstract Prep"
   ]
  },
  {
   "cell_type": "markdown",
   "metadata": {},
   "source": [
    "I am working on preparing the Fly Meeting Abstract and need some details."
   ]
  },
  {
   "cell_type": "code",
   "execution_count": 1,
   "metadata": {},
   "outputs": [],
   "source": [
    "import os\n",
    "import sys\n",
    "from pathlib import Path\n",
    "\n",
    "from IPython.display import display, HTML, Markdown\n",
    "import numpy as np\n",
    "import pandas as pd\n",
    "\n",
    "import matplotlib as mpl\n",
    "import matplotlib.pyplot as plt\n",
    "import seaborn as sns\n",
    "\n",
    "# Project level imports\n",
    "sys.path.insert(0, '../lib')\n",
    "from ncbi_remap.notebook import Nb\n",
    "from ncbi_remap.plotting import make_figs"
   ]
  },
  {
   "cell_type": "code",
   "execution_count": 2,
   "metadata": {},
   "outputs": [
    {
     "name": "stdout",
     "output_type": "stream",
     "text": [
      "Please check output/fbgn2chrom.tsv. If it does not exist, run bin/fbgn2chrom.py\n",
      "last updated: 2018-11-16 \n",
      "Git hash: 2dab13c6a3b0c50698c294cc055129f6cbcc5d67\n"
     ]
    }
   ],
   "source": [
    "# Setup notebook\n",
    "nbconfig = Nb.setup_notebook()"
   ]
  },
  {
   "cell_type": "code",
   "execution_count": 3,
   "metadata": {},
   "outputs": [],
   "source": [
    "# Connect to data store\n",
    "store = pd.HDFStore('../sra.h5', mode='r')"
   ]
  },
  {
   "cell_type": "code",
   "execution_count": 4,
   "metadata": {},
   "outputs": [],
   "source": [
    "from pymongo import MongoClient\n",
    "host = 'localhost'\n",
    "mongoClient = MongoClient(host=host, port=27017)\n",
    "db = mongoClient['sra']\n",
    "ncbi = db['ncbi']"
   ]
  },
  {
   "cell_type": "code",
   "execution_count": 5,
   "metadata": {},
   "outputs": [],
   "source": [
    "rnaseq = pd.read_csv('../output/geo-wf/rnaseq_metadata.tsv', sep='\\t', index_col=0)"
   ]
  },
  {
   "cell_type": "code",
   "execution_count": 6,
   "metadata": {},
   "outputs": [],
   "source": [
    "num_pub = rnaseq.shape[0]"
   ]
  },
  {
   "cell_type": "code",
   "execution_count": 7,
   "metadata": {},
   "outputs": [],
   "source": [
    "mod = pd.read_csv('../output/modENCODE_rnaseq_sampletable.tsv', sep='\\t')"
   ]
  },
  {
   "cell_type": "code",
   "execution_count": 8,
   "metadata": {},
   "outputs": [
    {
     "name": "stdout",
     "output_type": "stream",
     "text": [
      "There is 42 times at much data than modENCODE\n"
     ]
    }
   ],
   "source": [
    "_mul = num_pub / len(mod.srx.unique())\n",
    "print(f'There is {_mul:.0f} times at much data than modENCODE')"
   ]
  },
  {
   "cell_type": "code",
   "execution_count": 9,
   "metadata": {},
   "outputs": [],
   "source": [
    "layout = store['layout']"
   ]
  },
  {
   "cell_type": "code",
   "execution_count": 10,
   "metadata": {},
   "outputs": [],
   "source": [
    "pe_srxs = layout[(layout == 'PE')].index.get_level_values('srx').unique().tolist()\n",
    "se_srxs = layout[(layout == 'SE')].index.get_level_values('srx').unique().tolist()\n",
    "k1_srxs = layout[(layout == 'keep_R1')].index.get_level_values('srx').unique().tolist()\n",
    "k2_srxs = layout[(layout == 'keep_R2')].index.get_level_values('srx').unique().tolist()"
   ]
  },
  {
   "cell_type": "code",
   "execution_count": 11,
   "metadata": {},
   "outputs": [],
   "source": [
    "pe = pd.DataFrame(list(ncbi.aggregate([\n",
    "    {\n",
    "        '$match': {\n",
    "            '_id': {'$in': pe_srxs}\n",
    "        }\n",
    "    },\n",
    "    {\n",
    "        '$unwind': '$sra.run'\n",
    "    },\n",
    "    {\n",
    "        '$project': {\n",
    "            's1': '$sra.run.read_count_r1',\n",
    "            's2': '$sra.run.read_count_r2',\n",
    "            'l1': '$sra.run.read_len_r1',\n",
    "            'l2': '$sra.run.read_len_r2',\n",
    "        }\n",
    "    }\n",
    "])))\n",
    "\n",
    "pe.set_index('_id', inplace=True)\n",
    "\n",
    "pe_size = pe.s1.sum()\n",
    "pe_bases = ((pe.l1 + pe.l2) * pe.s1).sum()"
   ]
  },
  {
   "cell_type": "code",
   "execution_count": 12,
   "metadata": {},
   "outputs": [],
   "source": [
    "se = pd.DataFrame(list(ncbi.aggregate([\n",
    "    {\n",
    "        '$match': {\n",
    "            '_id': {'$in': se_srxs}\n",
    "        }\n",
    "    },\n",
    "    {\n",
    "        '$unwind': '$sra.run'\n",
    "    },\n",
    "    {\n",
    "        '$project': {\n",
    "            's1': '$sra.run.read_count_r1',\n",
    "            'l1': '$sra.run.read_len_r1',\n",
    "        }\n",
    "    }\n",
    "])))\n",
    "\n",
    "se.set_index('_id', inplace=True)\n",
    "\n",
    "se_size = se.s1.sum()\n",
    "se_bases = (se.l1 * se.s1).sum()"
   ]
  },
  {
   "cell_type": "code",
   "execution_count": 13,
   "metadata": {},
   "outputs": [],
   "source": [
    "k1 = pd.DataFrame(list(ncbi.aggregate([\n",
    "    {\n",
    "        '$match': {\n",
    "            '_id': {'$in': k1_srxs}\n",
    "        }\n",
    "    },\n",
    "    {\n",
    "        '$unwind': '$sra.run'\n",
    "    },\n",
    "    {\n",
    "        '$project': {\n",
    "            's1': '$sra.run.read_count_r1',\n",
    "            'l1': '$sra.run.read_len_r1',\n",
    "        }\n",
    "    }\n",
    "])))\n",
    "\n",
    "k1.set_index('_id', inplace=True)\n",
    "\n",
    "k1_size = k1.s1.sum()\n",
    "k1_bases = (k1.l1 * k1.s1).sum()"
   ]
  },
  {
   "cell_type": "code",
   "execution_count": 14,
   "metadata": {},
   "outputs": [],
   "source": [
    "k2 = pd.DataFrame(list(ncbi.aggregate([\n",
    "    {\n",
    "        '$match': {\n",
    "            '_id': {'$in': k2_srxs}\n",
    "        }\n",
    "    },\n",
    "    {\n",
    "        '$unwind': '$sra.run'\n",
    "    },\n",
    "    {\n",
    "        '$project': {\n",
    "            's2': '$sra.run.read_count_r2',\n",
    "            'l2': '$sra.run.read_len_r2',\n",
    "        }\n",
    "    }\n",
    "])))\n",
    "\n",
    "k2.set_index('_id', inplace=True)\n",
    "\n",
    "k2_size = k2.s2.sum()\n",
    "k2_bases = (k2.l2 * k2.s2).sum()"
   ]
  },
  {
   "cell_type": "code",
   "execution_count": 15,
   "metadata": {},
   "outputs": [
    {
     "name": "stdout",
     "output_type": "stream",
     "text": [
      "696 billion reads\n"
     ]
    }
   ],
   "source": [
    "total_size = pe_size + se_size + k1_size + k2_size\n",
    "print(f'{total_size / 1e9:,.0f} billion reads')"
   ]
  },
  {
   "cell_type": "code",
   "execution_count": 16,
   "metadata": {},
   "outputs": [
    {
     "name": "stdout",
     "output_type": "stream",
     "text": [
      "74.90210148208793 tera bases\n"
     ]
    }
   ],
   "source": [
    "total_bases = pe_bases + se_bases + k1_bases + k2_bases\n",
    "print(f'{total_bases / 1e12:,} tera bases')"
   ]
  },
  {
   "cell_type": "code",
   "execution_count": null,
   "metadata": {},
   "outputs": [],
   "source": []
  },
  {
   "cell_type": "code",
   "execution_count": null,
   "metadata": {},
   "outputs": [],
   "source": []
  },
  {
   "cell_type": "code",
   "execution_count": 17,
   "metadata": {},
   "outputs": [],
   "source": [
    "srxs = rnaseq.index.unique().tolist()\n",
    "layout = layout.loc[(srxs, slice(None))]"
   ]
  },
  {
   "cell_type": "code",
   "execution_count": 18,
   "metadata": {},
   "outputs": [],
   "source": [
    "pe_srxs = layout[(layout == 'PE')].index.get_level_values('srx').unique().tolist()\n",
    "se_srxs = layout[(layout == 'SE')].index.get_level_values('srx').unique().tolist()\n",
    "k1_srxs = layout[(layout == 'keep_R1')].index.get_level_values('srx').unique().tolist()\n",
    "k2_srxs = layout[(layout == 'keep_R2')].index.get_level_values('srx').unique().tolist()"
   ]
  },
  {
   "cell_type": "code",
   "execution_count": 19,
   "metadata": {},
   "outputs": [],
   "source": [
    "pe = pd.DataFrame(list(ncbi.aggregate([\n",
    "    {\n",
    "        '$match': {\n",
    "            '_id': {'$in': pe_srxs}\n",
    "        }\n",
    "    },\n",
    "    {\n",
    "        '$unwind': '$sra.run'\n",
    "    },\n",
    "    {\n",
    "        '$project': {\n",
    "            's1': '$sra.run.read_count_r1',\n",
    "            's2': '$sra.run.read_count_r2',\n",
    "            'l1': '$sra.run.read_len_r1',\n",
    "            'l2': '$sra.run.read_len_r2',\n",
    "        }\n",
    "    }\n",
    "])))\n",
    "\n",
    "pe.set_index('_id', inplace=True)\n",
    "\n",
    "pe_size = pe.s1.sum()\n",
    "pe_bases = ((pe.l1 + pe.l2) * pe.s1).sum()"
   ]
  },
  {
   "cell_type": "code",
   "execution_count": 20,
   "metadata": {},
   "outputs": [],
   "source": [
    "se = pd.DataFrame(list(ncbi.aggregate([\n",
    "    {\n",
    "        '$match': {\n",
    "            '_id': {'$in': se_srxs}\n",
    "        }\n",
    "    },\n",
    "    {\n",
    "        '$unwind': '$sra.run'\n",
    "    },\n",
    "    {\n",
    "        '$project': {\n",
    "            's1': '$sra.run.read_count_r1',\n",
    "            'l1': '$sra.run.read_len_r1',\n",
    "        }\n",
    "    }\n",
    "])))\n",
    "\n",
    "se.set_index('_id', inplace=True)\n",
    "\n",
    "se_size = se.s1.sum()\n",
    "se_bases = (se.l1 * se.s1).sum()"
   ]
  },
  {
   "cell_type": "code",
   "execution_count": 21,
   "metadata": {},
   "outputs": [],
   "source": [
    "k1 = pd.DataFrame(list(ncbi.aggregate([\n",
    "    {\n",
    "        '$match': {\n",
    "            '_id': {'$in': k1_srxs}\n",
    "        }\n",
    "    },\n",
    "    {\n",
    "        '$unwind': '$sra.run'\n",
    "    },\n",
    "    {\n",
    "        '$project': {\n",
    "            's1': '$sra.run.read_count_r1',\n",
    "            'l1': '$sra.run.read_len_r1',\n",
    "        }\n",
    "    }\n",
    "])))\n",
    "\n",
    "k1.set_index('_id', inplace=True)\n",
    "\n",
    "k1_size = k1.s1.sum()\n",
    "k1_bases = (k1.l1 * k1.s1).sum()"
   ]
  },
  {
   "cell_type": "code",
   "execution_count": 22,
   "metadata": {},
   "outputs": [],
   "source": [
    "k2 = pd.DataFrame(list(ncbi.aggregate([\n",
    "    {\n",
    "        '$match': {\n",
    "            '_id': {'$in': k2_srxs}\n",
    "        }\n",
    "    },\n",
    "    {\n",
    "        '$unwind': '$sra.run'\n",
    "    },\n",
    "    {\n",
    "        '$project': {\n",
    "            's2': '$sra.run.read_count_r2',\n",
    "            'l2': '$sra.run.read_len_r2',\n",
    "        }\n",
    "    }\n",
    "])))\n",
    "\n",
    "k2.set_index('_id', inplace=True)\n",
    "\n",
    "k2_size = k2.s2.sum()\n",
    "k2_bases = (k2.l2 * k2.s2).sum()"
   ]
  },
  {
   "cell_type": "code",
   "execution_count": 23,
   "metadata": {},
   "outputs": [
    {
     "name": "stdout",
     "output_type": "stream",
     "text": [
      "275 billion reads\n"
     ]
    }
   ],
   "source": [
    "total_size = pe_size + se_size + k1_size + k2_size\n",
    "print(f'{total_size / 1e9:,.0f} billion reads')"
   ]
  },
  {
   "cell_type": "code",
   "execution_count": 24,
   "metadata": {},
   "outputs": [
    {
     "name": "stdout",
     "output_type": "stream",
     "text": [
      "28.718069278185045 tera bases\n"
     ]
    }
   ],
   "source": [
    "total_bases = pe_bases + se_bases + k1_bases + k2_bases\n",
    "print(f'{total_bases / 1e12:,} tera bases')"
   ]
  },
  {
   "cell_type": "code",
   "execution_count": 25,
   "metadata": {},
   "outputs": [],
   "source": [
    "srxs = rnaseq[rnaseq.tissue == 'testis'].index.tolist()\n",
    "layout = layout.loc[(srxs, slice(None))]"
   ]
  },
  {
   "cell_type": "code",
   "execution_count": 26,
   "metadata": {},
   "outputs": [],
   "source": [
    "pe_srxs = layout[(layout == 'PE')].index.get_level_values('srx').unique().tolist()\n",
    "se_srxs = layout[(layout == 'SE')].index.get_level_values('srx').unique().tolist()\n",
    "k1_srxs = layout[(layout == 'keep_R1')].index.get_level_values('srx').unique().tolist()\n",
    "k2_srxs = layout[(layout == 'keep_R2')].index.get_level_values('srx').unique().tolist()"
   ]
  },
  {
   "cell_type": "code",
   "execution_count": 27,
   "metadata": {},
   "outputs": [],
   "source": [
    "pe = pd.DataFrame(list(ncbi.aggregate([\n",
    "    {\n",
    "        '$match': {\n",
    "            '_id': {'$in': pe_srxs}\n",
    "        }\n",
    "    },\n",
    "    {\n",
    "        '$unwind': '$sra.run'\n",
    "    },\n",
    "    {\n",
    "        '$project': {\n",
    "            's1': '$sra.run.read_count_r1',\n",
    "            's2': '$sra.run.read_count_r2',\n",
    "            'l1': '$sra.run.read_len_r1',\n",
    "            'l2': '$sra.run.read_len_r2',\n",
    "        }\n",
    "    }\n",
    "])))\n",
    "\n",
    "pe.set_index('_id', inplace=True)\n",
    "\n",
    "pe_size = pe.s1.sum()\n",
    "pe_bases = ((pe.l1 + pe.l2) * pe.s1).sum()"
   ]
  },
  {
   "cell_type": "code",
   "execution_count": 28,
   "metadata": {},
   "outputs": [],
   "source": [
    "se = pd.DataFrame(list(ncbi.aggregate([\n",
    "    {\n",
    "        '$match': {\n",
    "            '_id': {'$in': se_srxs}\n",
    "        }\n",
    "    },\n",
    "    {\n",
    "        '$unwind': '$sra.run'\n",
    "    },\n",
    "    {\n",
    "        '$project': {\n",
    "            's1': '$sra.run.read_count_r1',\n",
    "            'l1': '$sra.run.read_len_r1',\n",
    "        }\n",
    "    }\n",
    "])))\n",
    "\n",
    "se.set_index('_id', inplace=True)\n",
    "\n",
    "se_size = se.s1.sum()\n",
    "se_bases = (se.l1 * se.s1).sum()"
   ]
  },
  {
   "cell_type": "code",
   "execution_count": 29,
   "metadata": {},
   "outputs": [],
   "source": [
    "k1 = pd.DataFrame(list(ncbi.aggregate([\n",
    "    {\n",
    "        '$match': {\n",
    "            '_id': {'$in': k1_srxs}\n",
    "        }\n",
    "    },\n",
    "    {\n",
    "        '$unwind': '$sra.run'\n",
    "    },\n",
    "    {\n",
    "        '$project': {\n",
    "            's1': '$sra.run.read_count_r1',\n",
    "            'l1': '$sra.run.read_len_r1',\n",
    "        }\n",
    "    }\n",
    "])))\n",
    "\n",
    "k1.set_index('_id', inplace=True)\n",
    "\n",
    "k1_size = k1.s1.sum()\n",
    "k1_bases = (k1.l1 * k1.s1).sum()"
   ]
  },
  {
   "cell_type": "code",
   "execution_count": 30,
   "metadata": {},
   "outputs": [
    {
     "name": "stdout",
     "output_type": "stream",
     "text": [
      "4 billion reads\n"
     ]
    }
   ],
   "source": [
    "total_size = pe_size + se_size + k1_size\n",
    "print(f'{total_size / 1e9:,.0f} billion reads')"
   ]
  },
  {
   "cell_type": "code",
   "execution_count": 31,
   "metadata": {},
   "outputs": [
    {
     "name": "stdout",
     "output_type": "stream",
     "text": [
      "0.51784359414977 tera bases\n"
     ]
    }
   ],
   "source": [
    "total_bases = pe_bases + se_bases + k1_bases\n",
    "print(f'{total_bases / 1e12:,} tera bases')"
   ]
  },
  {
   "cell_type": "code",
   "execution_count": 32,
   "metadata": {},
   "outputs": [
    {
     "data": {
      "text/plain": [
       "2052837076.0"
      ]
     },
     "execution_count": 32,
     "metadata": {},
     "output_type": "execute_result"
    }
   ],
   "source": [
    "pe_size"
   ]
  },
  {
   "cell_type": "code",
   "execution_count": null,
   "metadata": {},
   "outputs": [],
   "source": []
  },
  {
   "cell_type": "code",
   "execution_count": null,
   "metadata": {},
   "outputs": [],
   "source": []
  },
  {
   "cell_type": "code",
   "execution_count": null,
   "metadata": {},
   "outputs": [],
   "source": []
  },
  {
   "cell_type": "code",
   "execution_count": null,
   "metadata": {},
   "outputs": [],
   "source": []
  }
 ],
 "metadata": {
  "kernelspec": {
   "display_name": "Python [conda env:ncbi_remap]",
   "language": "python",
   "name": "conda-env-ncbi_remap-py"
  },
  "language_info": {
   "codemirror_mode": {
    "name": "ipython",
    "version": 3
   },
   "file_extension": ".py",
   "mimetype": "text/x-python",
   "name": "python",
   "nbconvert_exporter": "python",
   "pygments_lexer": "ipython3",
   "version": "3.6.5"
  }
 },
 "nbformat": 4,
 "nbformat_minor": 2
}
