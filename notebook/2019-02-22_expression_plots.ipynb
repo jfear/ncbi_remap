{
 "cells": [
  {
   "cell_type": "code",
   "execution_count": 1,
   "metadata": {},
   "outputs": [],
   "source": [
    "import os\n",
    "import sys\n",
    "from pathlib import Path\n",
    "from more_itertools import chunked\n",
    "\n",
    "from IPython.display import display, HTML, Markdown\n",
    "import numpy as np\n",
    "import pandas as pd\n",
    "from scipy.cluster.hierarchy import linkage, dendrogram\n",
    "\n",
    "import matplotlib as mpl\n",
    "import matplotlib.pyplot as plt\n",
    "import seaborn as sns\n",
    "\n",
    "from dask.distributed import Client, as_completed\n",
    "from dask import dataframe as dd\n",
    "from dask import delayed\n",
    "\n",
    "# Project level imports\n",
    "from ncbi_remap.notebook import Nb\n",
    "from ncbi_remap.plotting import make_figs"
   ]
  },
  {
   "cell_type": "code",
   "execution_count": 2,
   "metadata": {},
   "outputs": [
    {
     "name": "stdout",
     "output_type": "stream",
     "text": [
      "Please check output/fbgn2chrom.tsv. If it does not exist, run bin/fbgn2chrom.py\n",
      "last updated: 2019-02-23 \n",
      "Git hash: f9a755c9ef13ad8d0af3d21d28cffe6e5451402f\n"
     ]
    }
   ],
   "source": [
    "# Setup notebook\n",
    "nbconfig = Nb.setup_notebook()"
   ]
  },
  {
   "cell_type": "code",
   "execution_count": 3,
   "metadata": {},
   "outputs": [
    {
     "data": {
      "text/html": [
       "<table style=\"border: 2px solid white;\">\n",
       "<tr>\n",
       "<td style=\"vertical-align: top; border: 0px solid white\">\n",
       "<h3>Client</h3>\n",
       "<ul>\n",
       "  <li><b>Scheduler: </b>tcp://127.0.0.1:41575\n",
       "  <li><b>Dashboard: </b><a href='http://127.0.0.1:8787/status' target='_blank'>http://127.0.0.1:8787/status</a>\n",
       "</ul>\n",
       "</td>\n",
       "<td style=\"vertical-align: top; border: 0px solid white\">\n",
       "<h3>Cluster</h3>\n",
       "<ul>\n",
       "  <li><b>Workers: </b>32</li>\n",
       "  <li><b>Cores: </b>32</li>\n",
       "  <li><b>Memory: </b>33.65 GB</li>\n",
       "</ul>\n",
       "</td>\n",
       "</tr>\n",
       "</table>"
      ],
      "text/plain": [
       "<Client: scheduler='tcp://127.0.0.1:41575' processes=32 cores=32>"
      ]
     },
     "execution_count": 3,
     "metadata": {},
     "output_type": "execute_result"
    }
   ],
   "source": [
    "# Start dask cluster\n",
    "dask_client = Client()\n",
    "dask_client"
   ]
  },
  {
   "cell_type": "code",
   "execution_count": 4,
   "metadata": {},
   "outputs": [],
   "source": [
    "def read_gene_counts(srx):\n",
    "    return  pd.read_parquet(f'/home/fearjm/scratch/ncbi_remap/output/aln-wf/gene_counts/{srx}.parquet', columns=['count'])['count'].rename(srx)\n",
    "\n",
    "\n",
    "def chunk_and_run(iterable, chunk_size=1_000):\n",
    "    chunks = chunked(iterable, chunk_size)\n",
    "    for chunk in chunks:\n",
    "        futures = dask_client.map(read_gene_counts, chunk)\n",
    "        yield pd.concat(dask_client.gather(futures), axis=1)\n",
    "        \n",
    "def build_table(iterable, chunk_size=1000):\n",
    "    dfs = chunk_and_run(iterable, chunk_size)\n",
    "    df = next(dfs)\n",
    "    for _df in dfs:\n",
    "        df = df.merge(_df, on='FBgn')\n",
    "    return df"
   ]
  },
  {
   "cell_type": "code",
   "execution_count": 5,
   "metadata": {},
   "outputs": [],
   "source": [
    "rnaseq = (\n",
    "    pd.read_parquet('../output/metadata-wf/select_library_strategy.parquet')\n",
    "    .rename(columns={'Fear_et_al_library_strategy': 'strategy'})\n",
    "    .strategy\n",
    "    .pipe(lambda x: x[x == 'RNA-Seq'])\n",
    "    .index.unique().tolist()\n",
    ")"
   ]
  },
  {
   "cell_type": "code",
   "execution_count": 6,
   "metadata": {},
   "outputs": [],
   "source": [
    "df = build_table(rnaseq)\n",
    "df.to_parquet('/home/fearjm/scratch/ncbi_remap/rnaseq_wide.parquet')"
   ]
  },
  {
   "cell_type": "code",
   "execution_count": 7,
   "metadata": {},
   "outputs": [],
   "source": [
    "df.rank().to_parquet('/home/fearjm/scratch/ncbi_remap/rnaseq_wide_ranks.parquet')"
   ]
  },
  {
   "cell_type": "code",
   "execution_count": null,
   "metadata": {},
   "outputs": [],
   "source": []
  }
 ],
 "metadata": {
  "jupytext": {
   "text_representation": {
    "extension": ".py",
    "format_name": "percent",
    "format_version": "1.2",
    "jupytext_version": "1.0.0"
   }
  },
  "kernelspec": {
   "display_name": "Python [conda env:ncbi_remap]",
   "language": "python",
   "name": "conda-env-ncbi_remap-py"
  },
  "language_info": {
   "codemirror_mode": {
    "name": "ipython",
    "version": 3
   },
   "file_extension": ".py",
   "mimetype": "text/x-python",
   "name": "python",
   "nbconvert_exporter": "python",
   "pygments_lexer": "ipython3",
   "version": "3.6.5"
  }
 },
 "nbformat": 4,
 "nbformat_minor": 2
}
