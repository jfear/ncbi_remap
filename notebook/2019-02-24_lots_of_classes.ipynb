{
 "cells": [
  {
   "cell_type": "code",
   "execution_count": 2,
   "metadata": {},
   "outputs": [],
   "source": [
    "import os\n",
    "import sys\n",
    "from pathlib import Path\n",
    "\n",
    "from IPython.display import display, HTML, Markdown\n",
    "import numpy as np\n",
    "import pandas as pd\n",
    "\n",
    "import matplotlib as mpl\n",
    "import matplotlib.pyplot as plt\n",
    "import seaborn as sns\n",
    "\n",
    "# Project level imports\n",
    "from ncbi_remap.notebook import Nb\n",
    "from ncbi_remap.plotting import make_figs"
   ]
  },
  {
   "cell_type": "code",
   "execution_count": 3,
   "metadata": {},
   "outputs": [
    {
     "name": "stdout",
     "output_type": "stream",
     "text": [
      "Please check output/fbgn2chrom.tsv. If it does not exist, run bin/fbgn2chrom.py\n",
      "last updated: 2019-02-24 \n",
      "Git hash: f9a755c9ef13ad8d0af3d21d28cffe6e5451402f\n"
     ]
    }
   ],
   "source": [
    "# Setup notebook\n",
    "nbconfig = Nb.setup_notebook()"
   ]
  },
  {
   "cell_type": "code",
   "execution_count": 4,
   "metadata": {},
   "outputs": [],
   "source": [
    "# Connect to data store\n",
    "store = pd.HDFStore('../output/sra.h5', mode='r')"
   ]
  },
  {
   "cell_type": "code",
   "execution_count": 6,
   "metadata": {},
   "outputs": [],
   "source": [
    "from pymongo import MongoClient\n",
    "try:\n",
    "    with open('../output/.mongodb_host', 'r') as fh:\n",
    "        host = fh.read().strip()\n",
    "except FileNotFoundError:\n",
    "    host = 'localhost'\n",
    "\n",
    "mongoClient = MongoClient(host=host, port=27017)\n",
    "db = mongoClient['sramongo']\n",
    "ncbi = db['ncbi']"
   ]
  },
  {
   "cell_type": "code",
   "execution_count": 8,
   "metadata": {},
   "outputs": [
    {
     "data": {
      "text/plain": [
       "{'_id': 'SRX4103067',\n",
       " '_cls': 'Ncbi',\n",
       " 'sra': {'submission': {'submission_id': 'SRA707247',\n",
       "   'external_id': [],\n",
       "   'secondary_id': [],\n",
       "   'submitter_id': [],\n",
       "   'uuid': []},\n",
       "  'organization': {'organization_type': 'institute',\n",
       "   'name': 'Stowers Institute for Medical Research',\n",
       "   'email': 'dem@stowers.org',\n",
       "   'first_name': 'Danny',\n",
       "   'last_name': 'Miller'},\n",
       "  'study': {'study_id': 'SRP148480',\n",
       "   'BioProject': 'PRJNA432528',\n",
       "   'external_id': [],\n",
       "   'secondary_id': [],\n",
       "   'submitter_id': [],\n",
       "   'uuid': [],\n",
       "   'title': 'Interchromosomal effect in Drosophila melanogaster',\n",
       "   'study_type': 'Other',\n",
       "   'abstract': 'Sequences from stocks used to study the interchromosomal effect in Drosophila melanogaster.',\n",
       "   'center_name': 'BioProject',\n",
       "   'center_project_name': 'Drosophila melanogaster',\n",
       "   'related_studies': [],\n",
       "   'url_links': [],\n",
       "   'xref_links': [],\n",
       "   'entrez_links': [],\n",
       "   'ddbj_links': [],\n",
       "   'ena_links': []},\n",
       "  'sample': {'sample_id': 'SRS3319166',\n",
       "   'BioSample': 'SAMN09227153',\n",
       "   'BioProject': '432528',\n",
       "   'external_id': [],\n",
       "   'secondary_id': [],\n",
       "   'submitter_id': [],\n",
       "   'uuid': [],\n",
       "   'taxon_id': '7227',\n",
       "   'scientific_name': 'Drosophila melanogaster',\n",
       "   'attributes': [{'name': 'isolate',\n",
       "     'value': 'chr2-04: mom was FM7; recomb; TM6B'},\n",
       "    {'name': 'age', 'value': '1-5d'},\n",
       "    {'name': 'dev_stage', 'value': 'adult'},\n",
       "    {'name': 'sex', 'value': 'female'},\n",
       "    {'name': 'tissue', 'value': 'whole fly'},\n",
       "    {'name': 'BioSampleModel', 'value': 'Model organism or animal'}],\n",
       "   'url_links': [],\n",
       "   'xref_links': [],\n",
       "   'entrez_links': [],\n",
       "   'ddbj_links': [],\n",
       "   'ena_links': []},\n",
       "  'experiment': {'experiment_id': 'SRX4103067',\n",
       "   'external_id': [],\n",
       "   'secondary_id': [],\n",
       "   'submitter_id': [],\n",
       "   'uuid': [],\n",
       "   'title': 'WGS of an individual female with the genotype FM7/ISO1; recombinant/ISO1; +/ISO1, from a mom heterozygous for the X and 3rd chromsome balancers.',\n",
       "   'study_id': 'SRP148480',\n",
       "   'design': 'high-output mode',\n",
       "   'library_name': 'chr2-04-library',\n",
       "   'library_strategy': 'WGS',\n",
       "   'library_source': 'GENOMIC',\n",
       "   'library_selection': 'RANDOM',\n",
       "   'library_layout': 'PAIRED',\n",
       "   'platform': 'ILLUMINA',\n",
       "   'instrument_model': 'NextSeq 500',\n",
       "   'attributes': [],\n",
       "   'url_links': [],\n",
       "   'xref_links': [],\n",
       "   'entrez_links': [],\n",
       "   'ddbj_links': [],\n",
       "   'ena_links': []},\n",
       "  'run': [{'run_id': 'SRR7186333',\n",
       "    'external_id': [],\n",
       "    'secondary_id': [],\n",
       "    'submitter_id': [],\n",
       "    'uuid': [],\n",
       "    'experiment_id': 'SRX4103067',\n",
       "    'samples': ['SRS3319166'],\n",
       "    'nspots': 73410334,\n",
       "    'nbases': 22169920868,\n",
       "    'nreads': 2,\n",
       "    'read_count_r1': 73410334.0,\n",
       "    'read_len_r1': 151.0,\n",
       "    'read_count_r2': 73410334.0,\n",
       "    'read_len_r2': 151.0,\n",
       "    'run_flags': ['PE'],\n",
       "    'release_date': '2018-05-19 02:41:14',\n",
       "    'load_date': '2018-05-19 02:20:41',\n",
       "    'size_MB': 9349,\n",
       "    'download_path': 'https://sra-download.ncbi.nlm.nih.gov/traces/sra63/SRR/007017/SRR7186333'}],\n",
       "  'pool': ['SRS3319166'],\n",
       "  'db_flags': ['PE'],\n",
       "  'db_imported': datetime.datetime(2018, 5, 29, 18, 26, 59, 963000)},\n",
       " 'biosample': [{'biosample_accn': 'SAMN09227153',\n",
       "   'biosample_id': '9227153',\n",
       "   'biosample_primary': 'SAMN09227153',\n",
       "   'sample_id': 'SRS3319166',\n",
       "   'title': 'Model organism or animal sample from Drosophila melanogaster',\n",
       "   'tax_id': '7227',\n",
       "   'tax_name': 'Drosophila melanogaster',\n",
       "   'organism_name': 'Drosophila melanogaster',\n",
       "   'institute': 'Stowers Institute for Medical Research',\n",
       "   'access': 'public',\n",
       "   'publication_date': '2018-05-19',\n",
       "   'last_update': '2018-05-19',\n",
       "   'submission_date': '2018-05-19',\n",
       "   'contacts': [{'email': 'dem@stowers.org',\n",
       "     'first_name': 'Danny',\n",
       "     'last_name': 'Miller'}],\n",
       "   'models': ['Model organism or animal'],\n",
       "   'attributes': [{'name': 'isolate',\n",
       "     'value': 'chr2-04: mom was FM7; recomb; TM6B'},\n",
       "    {'name': 'age', 'value': '1-5d'},\n",
       "    {'name': 'dev_stage', 'value': 'adult'},\n",
       "    {'name': 'sex', 'value': 'female'},\n",
       "    {'name': 'tissue', 'value': 'whole fly'}]}],\n",
       " 'bioproject': {'bioproject_accn': 'PRJNA432528',\n",
       "  'bioproject_id': '432528',\n",
       "  'name': 'Drosophila melanogaster',\n",
       "  'title': 'Interchromosomal effect in Drosophila melanogaster',\n",
       "  'description': 'Sequences from stocks used to study the interchromosomal effect in Drosophila melanogaster.',\n",
       "  'submission_id': 'SUB3608654',\n",
       "  'last_update': datetime.datetime(2018, 2, 1, 0, 0),\n",
       "  'submission_date': datetime.datetime(2018, 2, 1, 0, 0),\n",
       "  'external_id': []}}"
      ]
     },
     "execution_count": 8,
     "metadata": {},
     "output_type": "execute_result"
    }
   ],
   "source": [
    "ncbi.find_one({}, {'sra.run.tax_analysis': False})"
   ]
  },
  {
   "cell_type": "code",
   "execution_count": null,
   "metadata": {},
   "outputs": [],
   "source": [
    "ncbi"
   ]
  }
 ],
 "metadata": {
  "jupytext": {
   "main_language": "python",
   "text_representation": {
    "extension": ".py",
    "format_name": "percent",
    "format_version": "1.2",
    "jupytext_version": "1.0.0"
   }
  },
  "kernelspec": {
   "display_name": "Python [conda env:ncbi_remap]",
   "language": "python",
   "name": "conda-env-ncbi_remap-py"
  },
  "language_info": {
   "codemirror_mode": {
    "name": "ipython",
    "version": 3
   },
   "file_extension": ".py",
   "mimetype": "text/x-python",
   "name": "python",
   "nbconvert_exporter": "python",
   "pygments_lexer": "ipython3",
   "version": "3.6.5"
  }
 },
 "nbformat": 4,
 "nbformat_minor": 2
}
