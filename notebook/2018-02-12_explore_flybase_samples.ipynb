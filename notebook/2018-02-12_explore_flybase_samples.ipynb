{
 "cells": [
  {
   "cell_type": "markdown",
   "metadata": {},
   "source": [
    "# Explore FlyBase Samples"
   ]
  },
  {
   "cell_type": "code",
   "execution_count": 1,
   "metadata": {},
   "outputs": [
    {
     "name": "stdout",
     "output_type": "stream",
     "text": [
      "last updated: 2018-02-13 \n",
      "Git hash: 72422ef06747d1215ff3ee6f53c32f5d4f010ff8\n"
     ]
    }
   ],
   "source": [
    "import os\n",
    "import sys\n",
    "\n",
    "import numpy as np\n",
    "import pandas as pd\n",
    "\n",
    "import matplotlib as mpl\n",
    "import matplotlib.pyplot as plt\n",
    "import seaborn as sns\n",
    "\n",
    "from pymongo import MongoClient\n",
    "\n",
    "# Project level imports\n",
    "sys.path.insert(0, '../lib')\n",
    "from ncbi_remap.notebook import Nb\n",
    "from ncbi_remap.plotting import make_figs\n",
    "\n",
    "# Setup notebook\n",
    "nbconfig = Nb.setup_notebook()\n",
    "\n",
    "# Turn on cache\n",
    "from joblib import Memory\n",
    "memory = Memory(cachedir=nbconfig.cache, verbose=0)\n",
    "\n",
    "# Connect to data store\n",
    "store = pd.HDFStore('../sra.h5', mode='r')\n",
    "\n",
    "with open('/home/fearjm/Projects/ncbi_remap/output/.mongodb_host', 'r') as fh:\n",
    "    host = fh.read().strip()\n",
    "client = MongoClient(host=host, port=27022)\n",
    "db = client['sra2']\n",
    "ncbi = db['ncbi']"
   ]
  },
  {
   "cell_type": "code",
   "execution_count": 2,
   "metadata": {},
   "outputs": [],
   "source": [
    "fb = pd.read_csv('../output/flybase_samples.tsv', sep='\\t')"
   ]
  },
  {
   "cell_type": "code",
   "execution_count": 3,
   "metadata": {},
   "outputs": [],
   "source": [
    "df = pd.DataFrame(list(ncbi.aggregate([\n",
    "    {\n",
    "        '$match': {\n",
    "            '_id': {'$in': fb.srx.unique().tolist()}\n",
    "        }\n",
    "    },\n",
    "    {\n",
    "        '$project': {\n",
    "            '_id': 0,\n",
    "            'srx': '$_id',\n",
    "            'strat': '$sra.experiment.library_strategy'\n",
    "        }\n",
    "    }\n",
    "])))"
   ]
  },
  {
   "cell_type": "code",
   "execution_count": 4,
   "metadata": {},
   "outputs": [
    {
     "data": {
      "text/plain": [
       "strat\n",
       "EST           133\n",
       "OTHER         523\n",
       "RNA-Seq      4062\n",
       "ncRNA-Seq       5\n",
       "dtype: int64"
      ]
     },
     "execution_count": 4,
     "metadata": {},
     "output_type": "execute_result"
    }
   ],
   "source": [
    "df.groupby('strat').size()"
   ]
  },
  {
   "cell_type": "code",
   "execution_count": 65,
   "metadata": {},
   "outputs": [],
   "source": [
    "#srxs = df.srx.unique().tolist()\n",
    "srxs = df[df.strat == 'RNA-Seq'].srx.unique().tolist()"
   ]
  },
  {
   "cell_type": "code",
   "execution_count": 46,
   "metadata": {},
   "outputs": [],
   "source": [
    "#cv = store.select('prealn/workflow/feature_counts/counts', 'srx == srxs and FBgn == FBgn0031081')"
   ]
  },
  {
   "cell_type": "code",
   "execution_count": null,
   "metadata": {},
   "outputs": [],
   "source": []
  },
  {
   "cell_type": "code",
   "execution_count": 47,
   "metadata": {},
   "outputs": [
    {
     "data": {
      "text/plain": [
       "/prealn/workflow/collectrnaseqmetrics/first (Group) ''\n",
       "  children := ['table' (Table)]"
      ]
     },
     "execution_count": 47,
     "metadata": {},
     "output_type": "execute_result"
    }
   ],
   "source": [
    "store.root.prealn.workflow.collectrnaseqmetrics.first"
   ]
  },
  {
   "cell_type": "code",
   "execution_count": 66,
   "metadata": {},
   "outputs": [],
   "source": [
    "dd = store.select('prealn/workflow/collectrnaseqmetrics/first', 'srx == srxs')"
   ]
  },
  {
   "cell_type": "code",
   "execution_count": 67,
   "metadata": {},
   "outputs": [
    {
     "data": {
      "text/html": [
       "<div>\n",
       "<style scoped>\n",
       "    .dataframe tbody tr th:only-of-type {\n",
       "        vertical-align: middle;\n",
       "    }\n",
       "\n",
       "    .dataframe tbody tr th {\n",
       "        vertical-align: top;\n",
       "    }\n",
       "\n",
       "    .dataframe thead th {\n",
       "        text-align: right;\n",
       "    }\n",
       "</style>\n",
       "<table border=\"1\" class=\"dataframe\">\n",
       "  <thead>\n",
       "    <tr style=\"text-align: right;\">\n",
       "      <th></th>\n",
       "      <th></th>\n",
       "      <th>CODING_BASES</th>\n",
       "      <th>CORRECT_STRAND_READS</th>\n",
       "      <th>IGNORED_READS</th>\n",
       "      <th>INCORRECT_STRAND_READS</th>\n",
       "      <th>INTERGENIC_BASES</th>\n",
       "      <th>INTRONIC_BASES</th>\n",
       "      <th>LIBRARY</th>\n",
       "      <th>MEDIAN_3PRIME_BIAS</th>\n",
       "      <th>MEDIAN_5PRIME_BIAS</th>\n",
       "      <th>MEDIAN_5PRIME_TO_3PRIME_BIAS</th>\n",
       "      <th>...</th>\n",
       "      <th>PCT_R2_TRANSCRIPT_STRAND_READS</th>\n",
       "      <th>PCT_RIBOSOMAL_BASES</th>\n",
       "      <th>PCT_USABLE_BASES</th>\n",
       "      <th>PCT_UTR_BASES</th>\n",
       "      <th>PF_ALIGNED_BASES</th>\n",
       "      <th>PF_BASES</th>\n",
       "      <th>READ_GROUP</th>\n",
       "      <th>RIBOSOMAL_BASES</th>\n",
       "      <th>SAMPLE</th>\n",
       "      <th>UTR_BASES</th>\n",
       "    </tr>\n",
       "    <tr>\n",
       "      <th>srx</th>\n",
       "      <th>srr</th>\n",
       "      <th></th>\n",
       "      <th></th>\n",
       "      <th></th>\n",
       "      <th></th>\n",
       "      <th></th>\n",
       "      <th></th>\n",
       "      <th></th>\n",
       "      <th></th>\n",
       "      <th></th>\n",
       "      <th></th>\n",
       "      <th></th>\n",
       "      <th></th>\n",
       "      <th></th>\n",
       "      <th></th>\n",
       "      <th></th>\n",
       "      <th></th>\n",
       "      <th></th>\n",
       "      <th></th>\n",
       "      <th></th>\n",
       "      <th></th>\n",
       "      <th></th>\n",
       "    </tr>\n",
       "  </thead>\n",
       "  <tbody>\n",
       "    <tr>\n",
       "      <th>SRX2541782</th>\n",
       "      <th>SRR5234256</th>\n",
       "      <td>780477711</td>\n",
       "      <td>374543</td>\n",
       "      <td>0</td>\n",
       "      <td>8061645</td>\n",
       "      <td>4261270</td>\n",
       "      <td>8793815</td>\n",
       "      <td>NaN</td>\n",
       "      <td>0.480405</td>\n",
       "      <td>0.035758</td>\n",
       "      <td>0.089864</td>\n",
       "      <td>...</td>\n",
       "      <td>0.955791</td>\n",
       "      <td>NaN</td>\n",
       "      <td>0.929315</td>\n",
       "      <td>0.283640</td>\n",
       "      <td>1107728932</td>\n",
       "      <td>1177935850</td>\n",
       "      <td>NaN</td>\n",
       "      <td>NaN</td>\n",
       "      <td>NaN</td>\n",
       "      <td>314196136</td>\n",
       "    </tr>\n",
       "    <tr>\n",
       "      <th>SRX2541781</th>\n",
       "      <th>SRR5234255</th>\n",
       "      <td>1132009725</td>\n",
       "      <td>483851</td>\n",
       "      <td>0</td>\n",
       "      <td>14427572</td>\n",
       "      <td>7694024</td>\n",
       "      <td>16131450</td>\n",
       "      <td>NaN</td>\n",
       "      <td>0.498561</td>\n",
       "      <td>0.034192</td>\n",
       "      <td>0.083288</td>\n",
       "      <td>...</td>\n",
       "      <td>0.967751</td>\n",
       "      <td>NaN</td>\n",
       "      <td>0.894001</td>\n",
       "      <td>0.326727</td>\n",
       "      <td>1716741854</td>\n",
       "      <td>1893639850</td>\n",
       "      <td>NaN</td>\n",
       "      <td>NaN</td>\n",
       "      <td>NaN</td>\n",
       "      <td>560906655</td>\n",
       "    </tr>\n",
       "    <tr>\n",
       "      <th>SRX2541780</th>\n",
       "      <th>SRR5234254</th>\n",
       "      <td>1096594006</td>\n",
       "      <td>451799</td>\n",
       "      <td>0</td>\n",
       "      <td>10816139</td>\n",
       "      <td>7199184</td>\n",
       "      <td>20608107</td>\n",
       "      <td>NaN</td>\n",
       "      <td>0.525108</td>\n",
       "      <td>0.033812</td>\n",
       "      <td>0.080478</td>\n",
       "      <td>...</td>\n",
       "      <td>0.960095</td>\n",
       "      <td>NaN</td>\n",
       "      <td>0.910165</td>\n",
       "      <td>0.272086</td>\n",
       "      <td>1544690187</td>\n",
       "      <td>1666603000</td>\n",
       "      <td>NaN</td>\n",
       "      <td>NaN</td>\n",
       "      <td>NaN</td>\n",
       "      <td>420288890</td>\n",
       "    </tr>\n",
       "    <tr>\n",
       "      <th>SRX2541779</th>\n",
       "      <th>SRR5234253</th>\n",
       "      <td>1003871659</td>\n",
       "      <td>529290</td>\n",
       "      <td>0</td>\n",
       "      <td>11587057</td>\n",
       "      <td>20661535</td>\n",
       "      <td>15148754</td>\n",
       "      <td>NaN</td>\n",
       "      <td>0.520353</td>\n",
       "      <td>0.038342</td>\n",
       "      <td>0.087381</td>\n",
       "      <td>...</td>\n",
       "      <td>0.956446</td>\n",
       "      <td>NaN</td>\n",
       "      <td>0.908467</td>\n",
       "      <td>0.311256</td>\n",
       "      <td>1509532753</td>\n",
       "      <td>1622207750</td>\n",
       "      <td>NaN</td>\n",
       "      <td>NaN</td>\n",
       "      <td>NaN</td>\n",
       "      <td>469850805</td>\n",
       "    </tr>\n",
       "    <tr>\n",
       "      <th>SRX2541778</th>\n",
       "      <th>SRR5234252</th>\n",
       "      <td>925768673</td>\n",
       "      <td>471282</td>\n",
       "      <td>0</td>\n",
       "      <td>9249692</td>\n",
       "      <td>5026043</td>\n",
       "      <td>18207055</td>\n",
       "      <td>NaN</td>\n",
       "      <td>0.483001</td>\n",
       "      <td>0.037370</td>\n",
       "      <td>0.093534</td>\n",
       "      <td>...</td>\n",
       "      <td>0.951676</td>\n",
       "      <td>NaN</td>\n",
       "      <td>0.914458</td>\n",
       "      <td>0.285327</td>\n",
       "      <td>1327881656</td>\n",
       "      <td>1426691050</td>\n",
       "      <td>NaN</td>\n",
       "      <td>NaN</td>\n",
       "      <td>NaN</td>\n",
       "      <td>378879885</td>\n",
       "    </tr>\n",
       "  </tbody>\n",
       "</table>\n",
       "<p>5 rows × 30 columns</p>\n",
       "</div>"
      ],
      "text/plain": [
       "                       CODING_BASES  CORRECT_STRAND_READS  IGNORED_READS  \\\n",
       "srx        srr                                                             \n",
       "SRX2541782 SRR5234256     780477711                374543              0   \n",
       "SRX2541781 SRR5234255    1132009725                483851              0   \n",
       "SRX2541780 SRR5234254    1096594006                451799              0   \n",
       "SRX2541779 SRR5234253    1003871659                529290              0   \n",
       "SRX2541778 SRR5234252     925768673                471282              0   \n",
       "\n",
       "                       INCORRECT_STRAND_READS  INTERGENIC_BASES  \\\n",
       "srx        srr                                                    \n",
       "SRX2541782 SRR5234256                 8061645           4261270   \n",
       "SRX2541781 SRR5234255                14427572           7694024   \n",
       "SRX2541780 SRR5234254                10816139           7199184   \n",
       "SRX2541779 SRR5234253                11587057          20661535   \n",
       "SRX2541778 SRR5234252                 9249692           5026043   \n",
       "\n",
       "                       INTRONIC_BASES  LIBRARY  MEDIAN_3PRIME_BIAS  \\\n",
       "srx        srr                                                       \n",
       "SRX2541782 SRR5234256         8793815      NaN            0.480405   \n",
       "SRX2541781 SRR5234255        16131450      NaN            0.498561   \n",
       "SRX2541780 SRR5234254        20608107      NaN            0.525108   \n",
       "SRX2541779 SRR5234253        15148754      NaN            0.520353   \n",
       "SRX2541778 SRR5234252        18207055      NaN            0.483001   \n",
       "\n",
       "                       MEDIAN_5PRIME_BIAS  MEDIAN_5PRIME_TO_3PRIME_BIAS  \\\n",
       "srx        srr                                                            \n",
       "SRX2541782 SRR5234256            0.035758                      0.089864   \n",
       "SRX2541781 SRR5234255            0.034192                      0.083288   \n",
       "SRX2541780 SRR5234254            0.033812                      0.080478   \n",
       "SRX2541779 SRR5234253            0.038342                      0.087381   \n",
       "SRX2541778 SRR5234252            0.037370                      0.093534   \n",
       "\n",
       "                         ...      PCT_R2_TRANSCRIPT_STRAND_READS  \\\n",
       "srx        srr           ...                                       \n",
       "SRX2541782 SRR5234256    ...                            0.955791   \n",
       "SRX2541781 SRR5234255    ...                            0.967751   \n",
       "SRX2541780 SRR5234254    ...                            0.960095   \n",
       "SRX2541779 SRR5234253    ...                            0.956446   \n",
       "SRX2541778 SRR5234252    ...                            0.951676   \n",
       "\n",
       "                       PCT_RIBOSOMAL_BASES  PCT_USABLE_BASES  PCT_UTR_BASES  \\\n",
       "srx        srr                                                                \n",
       "SRX2541782 SRR5234256                  NaN          0.929315       0.283640   \n",
       "SRX2541781 SRR5234255                  NaN          0.894001       0.326727   \n",
       "SRX2541780 SRR5234254                  NaN          0.910165       0.272086   \n",
       "SRX2541779 SRR5234253                  NaN          0.908467       0.311256   \n",
       "SRX2541778 SRR5234252                  NaN          0.914458       0.285327   \n",
       "\n",
       "                       PF_ALIGNED_BASES    PF_BASES  READ_GROUP  \\\n",
       "srx        srr                                                    \n",
       "SRX2541782 SRR5234256        1107728932  1177935850         NaN   \n",
       "SRX2541781 SRR5234255        1716741854  1893639850         NaN   \n",
       "SRX2541780 SRR5234254        1544690187  1666603000         NaN   \n",
       "SRX2541779 SRR5234253        1509532753  1622207750         NaN   \n",
       "SRX2541778 SRR5234252        1327881656  1426691050         NaN   \n",
       "\n",
       "                       RIBOSOMAL_BASES  SAMPLE  UTR_BASES  \n",
       "srx        srr                                             \n",
       "SRX2541782 SRR5234256              NaN     NaN  314196136  \n",
       "SRX2541781 SRR5234255              NaN     NaN  560906655  \n",
       "SRX2541780 SRR5234254              NaN     NaN  420288890  \n",
       "SRX2541779 SRR5234253              NaN     NaN  469850805  \n",
       "SRX2541778 SRR5234252              NaN     NaN  378879885  \n",
       "\n",
       "[5 rows x 30 columns]"
      ]
     },
     "execution_count": 67,
     "metadata": {},
     "output_type": "execute_result"
    }
   ],
   "source": [
    "dd.head()"
   ]
  },
  {
   "cell_type": "code",
   "execution_count": 68,
   "metadata": {},
   "outputs": [
    {
     "data": {
      "text/plain": [
       "<matplotlib.axes._subplots.AxesSubplot at 0x7f039bbfa860>"
      ]
     },
     "execution_count": 68,
     "metadata": {},
     "output_type": "execute_result"
    },
    {
     "data": {
      "image/png": "[encoded data removed]",
      "text/plain": [
       "<matplotlib.figure.Figure at 0x7f039bb825c0>"
      ]
     },
     "metadata": {},
     "output_type": "display_data"
    }
   ],
   "source": [
    "sns.distplot(dd.PCT_CORRECT_STRAND_READS)"
   ]
  },
  {
   "cell_type": "code",
   "execution_count": 69,
   "metadata": {},
   "outputs": [
    {
     "data": {
      "text/plain": [
       "<matplotlib.axes._subplots.AxesSubplot at 0x7f03980c2240>"
      ]
     },
     "execution_count": 69,
     "metadata": {},
     "output_type": "execute_result"
    },
    {
     "data": {
      "image/png": "[encoded data removed]",
      "text/plain": [
       "<matplotlib.figure.Figure at 0x7f039bb3cb00>"
      ]
     },
     "metadata": {},
     "output_type": "display_data"
    }
   ],
   "source": [
    "sns.distplot(dd.PCT_CODING_BASES)"
   ]
  },
  {
   "cell_type": "code",
   "execution_count": null,
   "metadata": {},
   "outputs": [],
   "source": []
  },
  {
   "cell_type": "code",
   "execution_count": 75,
   "metadata": {},
   "outputs": [],
   "source": [
    "fb[fb.srx.isin(df.loc[df.strat == 'RNA-Seq', 'srx'].tolist())].to_csv('../output/flybase_samples_annot_RNA-Seq.tsv', sep='\\t', index=False)"
   ]
  },
  {
   "cell_type": "code",
   "execution_count": null,
   "metadata": {},
   "outputs": [],
   "source": []
  }
 ],
 "metadata": {
  "kernelspec": {
   "display_name": "Python [conda env:ncbi_remap]",
   "language": "python",
   "name": "conda-env-ncbi_remap-py"
  },
  "language_info": {
   "codemirror_mode": {
    "name": "ipython",
    "version": 3
   },
   "file_extension": ".py",
   "mimetype": "text/x-python",
   "name": "python",
   "nbconvert_exporter": "python",
   "pygments_lexer": "ipython3",
   "version": "3.6.3"
  }
 },
 "nbformat": 4,
 "nbformat_minor": 2
}
