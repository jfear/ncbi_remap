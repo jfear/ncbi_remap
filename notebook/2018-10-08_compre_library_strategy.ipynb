{
 "cells": [
  {
   "cell_type": "code",
   "execution_count": 3,
   "metadata": {},
   "outputs": [],
   "source": [
    "import os\n",
    "import sys\n",
    "from pathlib import Path\n",
    "\n",
    "from IPython.display import display, HTML, Markdown\n",
    "import numpy as np\n",
    "import pandas as pd\n",
    "\n",
    "import matplotlib as mpl\n",
    "import matplotlib.pyplot as plt\n",
    "import seaborn as sns\n",
    "\n",
    "# Project level imports\n",
    "sys.path.insert(0, '../lib')\n",
    "from ncbi_remap.notebook import Nb\n",
    "from ncbi_remap.plotting import make_figs"
   ]
  },
  {
   "cell_type": "code",
   "execution_count": 4,
   "metadata": {},
   "outputs": [
    {
     "name": "stdout",
     "output_type": "stream",
     "text": [
      "Please check output/fbgn2chrom.tsv. If it does not exist, run bin/fbgn2chrom.py\n",
      "last updated: 2018-10-08 \n",
      "Git hash: c5425d3c436714fc2475c8e5525cbd28738fd3eb\n"
     ]
    }
   ],
   "source": [
    "# Setup notebook\n",
    "nbconfig = Nb.setup_notebook()"
   ]
  },
  {
   "cell_type": "code",
   "execution_count": 5,
   "metadata": {},
   "outputs": [],
   "source": [
    "# Connect to data store\n",
    "store = pd.HDFStore('../sra.h5', mode='r')"
   ]
  },
  {
   "cell_type": "code",
   "execution_count": 10,
   "metadata": {},
   "outputs": [],
   "source": [
    "complete = store['aln/complete']\n",
    "complete_srx = complete['srx'].unique().tolist()"
   ]
  },
  {
   "cell_type": "code",
   "execution_count": 7,
   "metadata": {},
   "outputs": [],
   "source": [
    "from pymongo import MongoClient\n",
    "try:\n",
    "    with open('../output/.mongodb_host', 'r') as fh:\n",
    "        host = fh.read().strip()\n",
    "except FileNotFoundError:\n",
    "    host = 'localhost'\n",
    "\n",
    "mongoClient = MongoClient(host=host, port=27017)\n",
    "db = mongoClient['sra']\n",
    "ncbi = db['ncbi']"
   ]
  },
  {
   "cell_type": "code",
   "execution_count": 11,
   "metadata": {},
   "outputs": [],
   "source": [
    "libstrat = pd.DataFrame(list(ncbi.aggregate([\n",
    "    {\n",
    "        '$match': {\n",
    "            '_id': {'$in': complete_srx}\n",
    "        }\n",
    "    },\n",
    "    {\n",
    "        '$project': {\n",
    "            'srx': '$_id',\n",
    "            '_id': 0,\n",
    "            'library_strategy': '$sra.experiment.library_strategy'\n",
    "        }\n",
    "    }\n",
    "])))\n",
    "libstrat.set_index('srx', inplace=True)"
   ]
  },
  {
   "cell_type": "code",
   "execution_count": 44,
   "metadata": {},
   "outputs": [],
   "source": [
    "freetxt = pd.read_parquet('../metadata-wf/output/free_text_library_strategy.parquet')"
   ]
  },
  {
   "cell_type": "code",
   "execution_count": 49,
   "metadata": {},
   "outputs": [],
   "source": [
    "dat = libstrat.join(freetxt).dropna()"
   ]
  },
  {
   "cell_type": "code",
   "execution_count": 50,
   "metadata": {},
   "outputs": [
    {
     "data": {
      "text/plain": [
       "60.407116774143418"
      ]
     },
     "execution_count": 50,
     "metadata": {},
     "output_type": "execute_result"
    }
   ],
   "source": [
    "(dat.library_strategy == dat.freetxt_library_strategy).sum() / dat.shape[0] * 100"
   ]
  },
  {
   "cell_type": "code",
   "execution_count": 51,
   "metadata": {},
   "outputs": [],
   "source": [
    "diff = dat[(dat.library_strategy != dat.freetxt_library_strategy)]"
   ]
  },
  {
   "cell_type": "code",
   "execution_count": 52,
   "metadata": {},
   "outputs": [
    {
     "data": {
      "text/plain": [
       "3Prime-Seq|CLONE|DNA-Seq|Kilo-Seq     4158\n",
       "END-Seq|RNA-Seq                        771\n",
       "4C-Seq                                 721\n",
       "ChIP-Seq|RNA-Seq                       588\n",
       "END-Seq                                318\n",
       "mmPCR-Seq                              304\n",
       "3Prime-Seq|RNA-Seq                     287\n",
       "RNA-Seq                                272\n",
       "3Prime-Seq                             265\n",
       "3Prime-Seq|WGS                         212\n",
       "RNA-Seq|mmPCR-Seq                      117\n",
       "WGS                                    108\n",
       "ChIP-Seq|MNase-Seq                      83\n",
       "END-Seq|WGS                             78\n",
       "ATAC-Seq|END-Seq                        78\n",
       "4C-Seq|HiC-Seq                          78\n",
       "Pool-Seq                                77\n",
       "END-Seq|Pool-Seq                        77\n",
       "DNA-Seq|WGS                             73\n",
       "DNA-Seq                                 62\n",
       "TADA-Seq                                59\n",
       "3Prime-Seq|CLONE|EST|RNA-Seq            58\n",
       "RAD-Seq|WGS                             55\n",
       "ATAC-Seq|ChIP-Seq|RNA-Seq               47\n",
       "CLIP-Seq|RNA-Seq                        46\n",
       "RNA-Seq|ncRNA-Seq                       46\n",
       "ChIP-Seq|RNA-Seq|WGS                    45\n",
       "GRO-Seq|RNA-Seq                         42\n",
       "PAL-Seq|RNA-Seq                         40\n",
       "STARR-Seq                               39\n",
       "                                      ... \n",
       "ICE-Seq|RNA-Seq                          6\n",
       "3Prime-Seq|CLIP-Seq|IP-Seq|RNA-Seq       6\n",
       "ChIP-Seq|ChiRP-Seq                       5\n",
       "3Prime-Seq|DNA-Seq|RNA-Seq               5\n",
       "CLONE|RNA-Seq                            5\n",
       "MAP-Seq|RNA-Seq                          5\n",
       "3Prime-Seq|ncRNA-Seq                     5\n",
       "4C-Seq|HiC-Seq|MNase-Seq                 5\n",
       "PARE-Seq                                 4\n",
       "Nascent-Seq|RNA-Seq                      4\n",
       "ATAC-Seq|MNase-Seq|RNA-Seq               4\n",
       "END-Seq|MNase-Seq                        3\n",
       "ChIP-Seq|IP-Seq                          3\n",
       "ChiRP-Seq                                3\n",
       "MNase-Seq|RNA-Seq                        2\n",
       "END-Seq|SITE-Seq                         2\n",
       "DNA-Seq|WGA                              2\n",
       "MINCE-Seq                                2\n",
       "CLIP-Seq                                 2\n",
       "BS-Seq                                   2\n",
       "3Prime-Seq|RNA-Seq|ncRNA-Seq             2\n",
       "3Prime-Seq|DNA-Seq                       2\n",
       "END-Seq|STARR-Seq                        2\n",
       "MINCE-Seq|MNase-Seq                      2\n",
       "DIP-Seq|RNA-Seq                          1\n",
       "3C-Seq                                   1\n",
       "MNase-Seq|WGS                            1\n",
       "END-Seq|RNA-Seq|STARR-Seq                1\n",
       "hMeRIP-Seq                               1\n",
       "ChIP-Seq|HiC-Seq|RNA-Seq                 1\n",
       "Name: freetxt_library_strategy, Length: 118, dtype: int64"
      ]
     },
     "execution_count": 52,
     "metadata": {},
     "output_type": "execute_result"
    }
   ],
   "source": [
    "diff.freetxt_library_strategy.value_counts()"
   ]
  },
  {
   "cell_type": "code",
   "execution_count": 55,
   "metadata": {},
   "outputs": [
    {
     "data": {
      "text/plain": [
       "END-Seq|RNA-Seq                                              456\n",
       "ChIP-Seq|RNA-Seq                                             433\n",
       "3Prime-Seq|RNA-Seq                                           259\n",
       "END-Seq                                                      212\n",
       "RNA-Seq|mmPCR-Seq                                            113\n",
       "3Prime-Seq|CLONE|EST|RNA-Seq                                  58\n",
       "WGS                                                           53\n",
       "RNA-Seq|TAIL-Seq|mTAIL-Seq                                    33\n",
       "3Prime-Seq|ChIP-Seq|END-Seq|RNA-Seq|RNaseH-Seq                32\n",
       "GRO-Seq|RNA-Seq                                               30\n",
       "CLIP-Seq|RNA-Seq                                              24\n",
       "IP-Seq|RNA-Seq                                                24\n",
       "FAIRE-Seq|RNA-Seq                                             21\n",
       "ATAC-Seq|RNA-Seq|Start-Seq                                    20\n",
       "DNA-Seq|END-Seq|Nascent-Seq|RNA-Seq                           18\n",
       "4C-Seq|RNA-Seq                                                18\n",
       "RNA-Seq|STARR-Seq                                             16\n",
       "PAL-Seq|RNA-Seq                                               15\n",
       "DNA-Seq|RNA-Seq                                               14\n",
       "DNA-Seq|END-Seq|Nascent-Seq|PA-Seq|RNA-Seq                    14\n",
       "3Prime-Seq|Hydro-Seq|RNA-Seq                                  14\n",
       "ChIP-Seq|RNA-Seq|Start-Seq                                    13\n",
       "3Prime-Seq|END-Seq|RNA-Seq                                    12\n",
       "ChIP-Seq|FAIRE-Seq|RNA-Seq                                    12\n",
       "DNase-Seq|RNA-Seq|WGS                                         12\n",
       "4C-Seq|ChIP-Seq|HiC-Seq|RNA-Seq                               11\n",
       "RNA-Seq|WGS                                                   11\n",
       "HiC-Seq|RNA-Seq                                               10\n",
       "RNA-Seq|iCLIP-Seq                                             10\n",
       "Nascent-Seq                                                    8\n",
       "DamID-Seq|RNA-Seq                                              8\n",
       "ChIP-Seq|GRO-Seq|RNA-Seq                                       8\n",
       "GRO-Seq                                                        8\n",
       "ATAC-Seq|ChIP-Seq|RNA-Seq                                      8\n",
       "PRO-Seq|RNA-Seq                                                8\n",
       "ChIP-Seq|END-Seq|RNA-Seq                                       7\n",
       "PARE-Seq|RNA-Seq                                               7\n",
       "PAC-Seq                                                        6\n",
       "3C-Seq|RNA-Seq                                                 6\n",
       "CAP-Seq|ChIP-Seq|RNA-Seq                                       6\n",
       "3Prime-Seq|END-Seq                                             6\n",
       "3Prime-Seq|CLIP-Seq|IP-Seq|RNA-Seq                             6\n",
       "ATAC-Seq|RNA-Seq                                               6\n",
       "ICE-Seq|RNA-Seq                                                6\n",
       "3Prime-Seq|DNA-Seq|RNA-Seq                                     5\n",
       "CLONE|RNA-Seq                                                  5\n",
       "MAP-Seq|RNA-Seq                                                5\n",
       "ChIP-Seq|RNA-Seq|WGS                                           5\n",
       "ChIP-Seq|DNase-Hypersensitivity|END-Seq|RNA-Seq|STARR-Seq      4\n",
       "DNase-Hypersensitivity|END-Seq|RNA-Seq|STARR-Seq               4\n",
       "3Prime-Seq                                                     4\n",
       "PARE-Seq                                                       4\n",
       "ATAC-Seq|MNase-Seq|RNA-Seq                                     4\n",
       "Nascent-Seq|RNA-Seq                                            4\n",
       "MNase-Seq|RNA-Seq                                              2\n",
       "END-Seq|SITE-Seq                                               2\n",
       "ChIP-Seq                                                       2\n",
       "CLONE|GRO-Seq|RNA-Seq                                          2\n",
       "ChIP-Seq|HiC-Seq|RNA-Seq                                       1\n",
       "END-Seq|RNA-Seq|STARR-Seq                                      1\n",
       "Name: freetxt_library_strategy, dtype: int64"
      ]
     },
     "execution_count": 55,
     "metadata": {},
     "output_type": "execute_result"
    }
   ],
   "source": [
    "diff[diff.library_strategy == 'RNA-Seq'].freetxt_library_strategy.value_counts()"
   ]
  },
  {
   "cell_type": "code",
   "execution_count": null,
   "metadata": {},
   "outputs": [],
   "source": []
  }
 ],
 "metadata": {
  "kernelspec": {
   "display_name": "Python [conda env:ncbi_remap]",
   "language": "python",
   "name": "conda-env-ncbi_remap-py"
  },
  "language_info": {
   "codemirror_mode": {
    "name": "ipython",
    "version": 3
   },
   "file_extension": ".py",
   "mimetype": "text/x-python",
   "name": "python",
   "nbconvert_exporter": "python",
   "pygments_lexer": "ipython3",
   "version": "3.6.5"
  }
 },
 "nbformat": 4,
 "nbformat_minor": 2
}
