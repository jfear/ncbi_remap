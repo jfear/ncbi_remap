{
 "cells": [
  {
   "cell_type": "code",
   "execution_count": 11,
   "metadata": {
    "code_folding": [
     0
    ],
    "collapsed": false
   },
   "outputs": [
    {
     "name": "stdout",
     "output_type": "stream",
     "text": [
      "last updated: 2017-07-27 \n",
      "Git hash: 667797bb512f88c9803b2342738a55cbf0c9297a\n"
     ]
    }
   ],
   "source": [
    "# %load ../start.py\n",
    "# Load useful extensions\n",
    "\n",
    "# Activate the autoreload extension for easy reloading of external packages\n",
    "%reload_ext autoreload\n",
    "%autoreload 2\n",
    "\n",
    "# Trun on the water mark\n",
    "%reload_ext watermark\n",
    "%watermark -u -d -g\n",
    "\n",
    "# Load ipycache extension\n",
    "%reload_ext ipycache\n",
    "from ipycache import CacheMagics\n",
    "CacheMagics.cachedir = '../cachedir'\n",
    "\n",
    "# Add project library to path\n",
    "import sys\n",
    "sys.path.insert(0, '../../lib/python')\n",
    "\n",
    "# The usual suspects\n",
    "import os\n",
    "import numpy as np\n",
    "import pandas as pd\n",
    "\n",
    "# plotting\n",
    "import matplotlib as mpl\n",
    "import matplotlib.pyplot as plt\n",
    "import seaborn as sns\n",
    "\n",
    "%matplotlib inline\n",
    "sns.set_context('poster')\n",
    "\n",
    "# Turn off scientific notation\n",
    "np.set_printoptions(precision=5, suppress=True)\n"
   ]
  },
  {
   "cell_type": "code",
   "execution_count": 12,
   "metadata": {
    "code_folding": [
     0
    ],
    "collapsed": true
   },
   "outputs": [],
   "source": [
    "# %load ../../bin/load.py\n",
    "from pymongo import MongoClient\n",
    "with open('/home/fearjm/Projects/ncbi_remap/output/.mongodb_host', 'r') as fh:\n",
    "    host = fh.read().strip()\n",
    "client = MongoClient(host=host, port=27022)\n",
    "db = client['sra2']\n",
    "remap = db['remap']"
   ]
  },
  {
   "cell_type": "code",
   "execution_count": 13,
   "metadata": {
    "code_folding": [
     0
    ],
    "collapsed": false
   },
   "outputs": [
    {
     "name": "stdout",
     "output_type": "stream",
     "text": [
      "35,382 SRRs in the database.\n"
     ]
    }
   ],
   "source": [
    "# Number of SRRs\n",
    "cnt = remap.aggregate([\n",
    "    {'$unwind': '$runs'},\n",
    "    {'$count': 'cnt'}\n",
    "]).next()\n",
    "\n",
    "print('{cnt:,} SRRs in the database.'.format(**cnt))"
   ]
  },
  {
   "cell_type": "code",
   "execution_count": 14,
   "metadata": {
    "code_folding": [
     0
    ],
    "collapsed": false
   },
   "outputs": [
    {
     "name": "stdout",
     "output_type": "stream",
     "text": [
      "15,647 SRRs have not been downloaded.\n"
     ]
    }
   ],
   "source": [
    "# Number of SRR not yet downloaded\n",
    "cnt = remap.aggregate([\n",
    "    {'$unwind': '$runs'},\n",
    "    {'$match': {'runs.pre_aln_flags': []}},\n",
    "    {'$count': 'cnt'}\n",
    "]).next()\n",
    "\n",
    "print('{cnt:,} SRRs have not been downloaded.'.format(**cnt))"
   ]
  },
  {
   "cell_type": "code",
   "execution_count": 15,
   "metadata": {
    "code_folding": [
     0
    ],
    "collapsed": false
   },
   "outputs": [
    {
     "name": "stdout",
     "output_type": "stream",
     "text": [
      "1 SRRs have been downloaded, but have not finished pre-alignment.\n"
     ]
    }
   ],
   "source": [
    "# Number of SRR downloaded but not done with pre-alignment\n",
    "cnt = remap.aggregate([\n",
    "    {'$unwind': '$runs'},\n",
    "    {\n",
    "        '$match': {\n",
    "            '$and': [\n",
    "                {'runs.pre_aln_flags': {'$ne': 'complete'}},\n",
    "                {'runs.pre_aln_flags': {'$ne': 'download_bad'}},\n",
    "                {'runs.pre_aln_flags': {'$ne': 'alignment_bad'}},\n",
    "                {'runs.pre_aln_flags': {'$ne': 'quality_scores_bad'}},\n",
    "                {'runs.pre_aln_flags': {'$ne': 'abi_solid'}},\n",
    "                {'runs.pre_aln_flags': {'$ne': []}},\n",
    "            ],\n",
    "        }\n",
    "    },\n",
    "    {'$count': 'cnt'}\n",
    "]).next()\n",
    "\n",
    "print('{cnt:,} SRRs have been downloaded, but have not finished pre-alignment.'.format(**cnt))"
   ]
  },
  {
   "cell_type": "code",
   "execution_count": 16,
   "metadata": {
    "code_folding": [
     0
    ],
    "collapsed": false
   },
   "outputs": [
    {
     "name": "stdout",
     "output_type": "stream",
     "text": [
      "19,201 SRRs have have finished pre-alignment.\n"
     ]
    }
   ],
   "source": [
    "# Number of SRR passed pre-alignment\n",
    "cnt = remap.aggregate([\n",
    "    {'$unwind': '$runs'},\n",
    "    {'$match': {'runs.pre_aln_flags': 'complete'}},\n",
    "    {'$count': 'cnt'}\n",
    "]).next()\n",
    "\n",
    "print('{cnt:,} SRRs have have finished pre-alignment.'.format(**cnt))"
   ]
  },
  {
   "cell_type": "code",
   "execution_count": 17,
   "metadata": {
    "code_folding": [
     0
    ],
    "collapsed": false
   },
   "outputs": [
    {
     "name": "stdout",
     "output_type": "stream",
     "text": [
      "12,004 SRRs have have finished alignment.\n"
     ]
    }
   ],
   "source": [
    "# Number of SRR passed alignment\n",
    "cnt = remap.aggregate([\n",
    "    {'$unwind': '$runs'},\n",
    "    {'$match': {'runs.aln_flags': 'complete'}},\n",
    "    {'$count': 'cnt'}\n",
    "]).next()\n",
    "\n",
    "print('{cnt:,} SRRs have have finished alignment.'.format(**cnt))"
   ]
  },
  {
   "cell_type": "code",
   "execution_count": 18,
   "metadata": {
    "code_folding": [
     0
    ],
    "collapsed": false
   },
   "outputs": [
    {
     "name": "stdout",
     "output_type": "stream",
     "text": [
      "2,750 same stranded SRRs that have finished pre-alignment.\n",
      "2,546 same stranded SRXs that have finished pre-alignment.\n"
     ]
    }
   ],
   "source": [
    "# Number of SRR passed pre-alignment stranded\n",
    "cnt = remap.aggregate([\n",
    "    {'$unwind': '$runs'},\n",
    "    {'$match': {'runs.pre_aln_flags': 'complete'}},\n",
    "    {'$match': {'runs.pre_aln_flags': 'same_strand'}},\n",
    "    {'$count': 'cnt'}\n",
    "]).next()\n",
    "\n",
    "print('{cnt:,} same stranded SRRs that have finished pre-alignment.'.format(**cnt))\n",
    "\n",
    "cnt = remap.aggregate([\n",
    "    {'$unwind': '$runs'},\n",
    "    {\n",
    "        '$match': {\n",
    "            '$and': [\n",
    "                {'runs.pre_aln_flags': 'complete'},\n",
    "                {'runs.pre_aln_flags': 'same_strand'},\n",
    "            ]\n",
    "        }\n",
    "    },\n",
    "    {\n",
    "        '$group': {\n",
    "            '_id': '$srx',\n",
    "            'cnt': {'$sum': 1}\n",
    "        }\n",
    "    },\n",
    "    {'$count': 'cnt'}\n",
    "]).next()\n",
    "\n",
    "print('{cnt:,} same stranded SRXs that have finished pre-alignment.'.format(**cnt))"
   ]
  },
  {
   "cell_type": "code",
   "execution_count": 19,
   "metadata": {
    "code_folding": [
     0
    ],
    "collapsed": false
   },
   "outputs": [
    {
     "name": "stdout",
     "output_type": "stream",
     "text": [
      "5,050 opposite stranded SRRs that have finished pre-alignment.\n",
      "4,812 opposite stranded SRXs that have finished pre-alignment.\n"
     ]
    }
   ],
   "source": [
    "# Number of SRR passed pre-alignment stranded\n",
    "cnt = remap.aggregate([\n",
    "    {'$unwind': '$runs'},\n",
    "    {'$match': {'runs.pre_aln_flags': 'complete'}},\n",
    "    {'$match': {'runs.pre_aln_flags': 'opposite_strand'}},\n",
    "    {'$count': 'cnt'}\n",
    "]).next()\n",
    "\n",
    "print('{cnt:,} opposite stranded SRRs that have finished pre-alignment.'.format(**cnt))\n",
    "\n",
    "cnt = remap.aggregate([\n",
    "    {'$unwind': '$runs'},\n",
    "    {\n",
    "        '$match': {\n",
    "            '$and': [\n",
    "                {'runs.pre_aln_flags': 'complete'},\n",
    "                {'runs.pre_aln_flags': 'opposite_strand'},\n",
    "            ]\n",
    "        }\n",
    "    },\n",
    "    {\n",
    "        '$group': {\n",
    "            '_id': '$srx',\n",
    "            'cnt': {'$sum': 1}\n",
    "        }\n",
    "    },\n",
    "    {'$count': 'cnt'}\n",
    "]).next()\n",
    "\n",
    "print('{cnt:,} opposite stranded SRXs that have finished pre-alignment.'.format(**cnt))"
   ]
  },
  {
   "cell_type": "code",
   "execution_count": 20,
   "metadata": {
    "code_folding": [
     0
    ],
    "collapsed": false
   },
   "outputs": [
    {
     "name": "stdout",
     "output_type": "stream",
     "text": [
      "11,401 unstranded SRRs that have finished pre-alignment.\n",
      "7,619 unstranded SRXs that have finished pre-alignment.\n"
     ]
    }
   ],
   "source": [
    "# Number of SRR passed pre-alignment stranded\n",
    "cnt = remap.aggregate([\n",
    "    {'$unwind': '$runs'},\n",
    "    {'$match': {'runs.pre_aln_flags': 'complete'}},\n",
    "    {'$match': {'runs.pre_aln_flags': 'unstranded'}},\n",
    "    {'$count': 'cnt'}\n",
    "]).next()\n",
    "\n",
    "print('{cnt:,} unstranded SRRs that have finished pre-alignment.'.format(**cnt))\n",
    "\n",
    "cnt = remap.aggregate([\n",
    "    {'$unwind': '$runs'},\n",
    "    {\n",
    "        '$match': {\n",
    "            '$and': [\n",
    "                {'runs.pre_aln_flags': 'complete'},\n",
    "                {'runs.pre_aln_flags': 'unstranded'},\n",
    "            ]\n",
    "        }\n",
    "    },\n",
    "    {\n",
    "        '$group': {\n",
    "            '_id': '$srx',\n",
    "            'cnt': {'$sum': 1}\n",
    "        }\n",
    "    },\n",
    "    {'$count': 'cnt'}\n",
    "]).next()\n",
    "\n",
    "print('{cnt:,} unstranded SRXs that have finished pre-alignment.'.format(**cnt))"
   ]
  },
  {
   "cell_type": "code",
   "execution_count": null,
   "metadata": {
    "collapsed": true
   },
   "outputs": [],
   "source": []
  }
 ],
 "metadata": {
  "anaconda-cloud": {},
  "kernelspec": {
   "display_name": "Python [conda env:ncbi_remap]",
   "language": "python",
   "name": "conda-env-ncbi_remap-py"
  },
  "language_info": {
   "codemirror_mode": {
    "name": "ipython",
    "version": 3
   },
   "file_extension": ".py",
   "mimetype": "text/x-python",
   "name": "python",
   "nbconvert_exporter": "python",
   "pygments_lexer": "ipython3",
   "version": "3.5.3"
  },
  "nav_menu": {},
  "toc": {
   "navigate_menu": true,
   "number_sections": true,
   "sideBar": true,
   "threshold": 6,
   "toc_cell": false,
   "toc_section_display": "block",
   "toc_window_display": false
  }
 },
 "nbformat": 4,
 "nbformat_minor": 2
}
