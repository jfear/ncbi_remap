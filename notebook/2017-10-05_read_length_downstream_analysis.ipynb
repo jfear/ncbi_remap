{
 "cells": [
  {
   "cell_type": "markdown",
   "metadata": {},
   "source": [
    "# Read Length"
   ]
  },
  {
   "cell_type": "markdown",
   "metadata": {},
   "source": [
    "### Story\n",
    "Read length is an important attribute because it can improve specificity of alignment. Read length has increased over time. Initially most studies used a read length of ~35bp, but as sequencing became cheaper and less error prone read length has increased to 50+ bp. The workflow removes reads that are shorter than <25 bp after trimming. Here I look at how read lengths differs across experiments and identify experiments with short read lengths. Read length can also help inform the technology used for sequencing. Illumina is typically ranges between 36bp to 150bp, while other technologies can go into kilobases.\n",
    "\n",
    "The vast majority of samples (n=24,677) have a read length between 25-160bp. With most samples having a read length of 51 (single end) or 2x95 (pair end). There are 890 samples that are too short (< 25bp), and 193 samples that are really long (≥ 300 bp).\n",
    "\n",
    "### Output\n",
    "* Distribution plot of read lengths separated by Single End and Pair End data. I focus on reads ≤ 160 bp for plots.\n",
    "* Output table with flags fitting different criteria. `../../output/read_length_downstream_analysis`\n",
    "    - `flag_too_short` True if the read length < 25 bp\n",
    "    - `flag_short` True if 25 bp ≤ read length < 45 bp\n",
    "    - `flag_good` True if 45 bp ≤ read length < 160 bp\n",
    "    - `flag_long`True if 160 bp ≤ read length < 300 bp\n",
    "    - `flag_really_long`True if 300 bp ≤ read length\n"
   ]
  },
  {
   "cell_type": "code",
   "execution_count": 3,
   "metadata": {
    "code_folding": [
     0
    ]
   },
   "outputs": [
    {
     "name": "stdout",
     "output_type": "stream",
     "text": [
      "last updated: 2017-10-05 \n",
      "Git hash: 6714964c9006c60449cf4e59630ca6f7bf5688e2\n"
     ]
    }
   ],
   "source": [
    "# %load ../start.py\n",
    "# Load useful extensions\n",
    "\n",
    "# Activate the autoreload extension for easy reloading of external packages\n",
    "%reload_ext autoreload\n",
    "%autoreload 2\n",
    "\n",
    "# Trun on the water mark\n",
    "%reload_ext watermark\n",
    "%watermark -u -d -g\n",
    "\n",
    "# Load ipycache extension\n",
    "%reload_ext ipycache\n",
    "from ipycache import CacheMagics\n",
    "CacheMagics.cachedir = '../cachedir'\n",
    "\n",
    "# Add project library to path\n",
    "import sys\n",
    "sys.path.insert(0, '../../lib/python')\n",
    "\n",
    "# The usual suspects\n",
    "import os\n",
    "import numpy as np\n",
    "import pandas as pd\n",
    "\n",
    "# plotting\n",
    "import matplotlib as mpl\n",
    "import matplotlib.pyplot as plt\n",
    "import seaborn as sns\n",
    "\n",
    "%matplotlib inline\n",
    "sns.set_context('notebook')\n",
    "\n",
    "# Turn off scientific notation\n",
    "np.set_printoptions(precision=5, suppress=True)\n"
   ]
  },
  {
   "cell_type": "code",
   "execution_count": 236,
   "metadata": {
    "code_folding": [
     0
    ],
    "collapsed": true
   },
   "outputs": [],
   "source": [
    "# %load ../../bin/load.py\n",
    "from pymongo import MongoClient\n",
    "with open('/home/fearjm/Projects/ncbi_remap/output/.mongodb_host', 'r') as fh:\n",
    "    host = fh.read().strip()\n",
    "client = MongoClient(host=host, port=27022)\n",
    "db = client['sra2']\n",
    "remap = db['remap']\n",
    "ncbi = db['ncbi']\n"
   ]
  },
  {
   "cell_type": "code",
   "execution_count": 124,
   "metadata": {
    "code_folding": [
     0
    ]
   },
   "outputs": [],
   "source": [
    "# Build data frame with read lengths.\n",
    "se = pd.DataFrame(list(remap.aggregate([\n",
    "    {'$unwind': '$runs'},\n",
    "    {\n",
    "        '$match': {\n",
    "            'runs.pre_aln_flags': 'SE',\n",
    "        }\n",
    "    },\n",
    "    {\n",
    "        '$project': {\n",
    "            '_id': 0,\n",
    "            'srx': '$srx',\n",
    "            'srr': '$runs.srr',\n",
    "            'read_length': {\n",
    "                '$cond': [\n",
    "                    {'$in': ['keep_R2', '$runs.pre_aln_flags']},\n",
    "                    '$runs.avgReadLen.R2',\n",
    "                    '$runs.avgReadLen.R1'\n",
    "                ]\n",
    "            }\n",
    "        }\n",
    "    },\n",
    "])))\n",
    "\n",
    "se.set_index(['srx', 'srr'], inplace=True)\n",
    "se['layout'] = 'SE'\n",
    "\n",
    "pe = pd.DataFrame(list(remap.aggregate([\n",
    "    {'$unwind': '$runs'},\n",
    "    {\n",
    "        '$match': {\n",
    "            'runs.pre_aln_flags': 'PE',\n",
    "        }\n",
    "    },\n",
    "    {\n",
    "        '$project': {\n",
    "            '_id': 0,\n",
    "            'srx': '$srx',\n",
    "            'srr': '$runs.srr',\n",
    "            'read_length': {\n",
    "                '$max': [\n",
    "                    '$runs.avgReadLen.R1',\n",
    "                    '$runs.avgReadLen.R2'\n",
    "                ]\n",
    "            }\n",
    "        }\n",
    "    },\n",
    "])))\n",
    "pe.set_index(['srx', 'srr'], inplace=True)\n",
    "pe['layout'] = 'PE'\n",
    "\n",
    "df = pd.concat([se, pe])\n",
    "\n",
    "# Convert floats (averages) to an int b/c don't care about decimals.\n",
    "df['read_length_norm'] = df.read_length.astype(int)"
   ]
  },
  {
   "cell_type": "code",
   "execution_count": 277,
   "metadata": {
    "code_folding": [],
    "collapsed": true
   },
   "outputs": [],
   "source": [
    "# Create layout masks incase I need to separate by layout.\n",
    "se = df.layout == 'SE'\n",
    "pe = df.layout == 'PE'\n",
    "short = df.read_length_norm <= 160"
   ]
  },
  {
   "cell_type": "code",
   "execution_count": 281,
   "metadata": {
    "code_folding": [
     0
    ]
   },
   "outputs": [
    {
     "data": {
      "image/png": "[encoded data removed]",
      "text/plain": [
       "<matplotlib.figure.Figure at 0x2aab064d4828>"
      ]
     },
     "metadata": {},
     "output_type": "display_data"
    }
   ],
   "source": [
    "# Plot distribution of SE and PE focus only on samples with read lengths ≤200 bp.\n",
    "## I found including all samples zoomed the dist out too far to be useful.\n",
    "fig, (ax1, ax2) = plt.subplots(1, 2, figsize=plt.figaspect(1/2), sharex=True, sharey=True)\n",
    "plt.suptitle('Read Length Distribution')\n",
    "\n",
    "sns.distplot(df[se & short].read_length_norm, ax=ax1, hist=False)\n",
    "ax1.set_xlabel('Read Length (bp)')\n",
    "ax1.set_ylabel('Density')\n",
    "ax1.set_title('Single End (≤ {} bp)'.format(160))\n",
    "\n",
    "sns.distplot(df[pe & short].read_length_norm, ax=ax2, hist=False)\n",
    "ax2.set_xlabel('Read Length (bp)')\n",
    "ax2.set_ylabel('')\n",
    "ax2.set_title('Pair End (≤ {} bp)'.format(160))\n",
    "plt.tight_layout(rect=[0, 0, 1, .95]);"
   ]
  },
  {
   "cell_type": "code",
   "execution_count": 206,
   "metadata": {
    "code_folding": [
     0
    ]
   },
   "outputs": [
    {
     "name": "stdout",
     "output_type": "stream",
     "text": [
      "There are a total of 27,138 samples.\n"
     ]
    },
    {
     "data": {
      "text/html": [
       "<div>\n",
       "<table border=\"1\" class=\"dataframe\">\n",
       "  <thead>\n",
       "    <tr>\n",
       "      <th></th>\n",
       "      <th colspan=\"4\" halign=\"left\">read_length_norm</th>\n",
       "    </tr>\n",
       "    <tr>\n",
       "      <th></th>\n",
       "      <th>min</th>\n",
       "      <th>max</th>\n",
       "      <th>median</th>\n",
       "      <th>count</th>\n",
       "    </tr>\n",
       "    <tr>\n",
       "      <th>bin</th>\n",
       "      <th></th>\n",
       "      <th></th>\n",
       "      <th></th>\n",
       "      <th></th>\n",
       "    </tr>\n",
       "  </thead>\n",
       "  <tbody>\n",
       "    <tr>\n",
       "      <th>(20, 40]</th>\n",
       "      <td>21</td>\n",
       "      <td>40</td>\n",
       "      <td>36</td>\n",
       "      <td>3,845</td>\n",
       "    </tr>\n",
       "    <tr>\n",
       "      <th>(40, 60]</th>\n",
       "      <td>41</td>\n",
       "      <td>60</td>\n",
       "      <td>51</td>\n",
       "      <td>8,066</td>\n",
       "    </tr>\n",
       "    <tr>\n",
       "      <th>(60, 80]</th>\n",
       "      <td>61</td>\n",
       "      <td>80</td>\n",
       "      <td>76</td>\n",
       "      <td>5,488</td>\n",
       "    </tr>\n",
       "    <tr>\n",
       "      <th>(80, 100]</th>\n",
       "      <td>81</td>\n",
       "      <td>100</td>\n",
       "      <td>95</td>\n",
       "      <td>6,552</td>\n",
       "    </tr>\n",
       "    <tr>\n",
       "      <th>(100, 120]</th>\n",
       "      <td>101</td>\n",
       "      <td>120</td>\n",
       "      <td>101</td>\n",
       "      <td>1,382</td>\n",
       "    </tr>\n",
       "    <tr>\n",
       "      <th>(120, 140]</th>\n",
       "      <td>123</td>\n",
       "      <td>140</td>\n",
       "      <td>125</td>\n",
       "      <td>221</td>\n",
       "    </tr>\n",
       "    <tr>\n",
       "      <th>(140, 160]</th>\n",
       "      <td>141</td>\n",
       "      <td>160</td>\n",
       "      <td>151</td>\n",
       "      <td>239</td>\n",
       "    </tr>\n",
       "    <tr>\n",
       "      <th>(160, 300]</th>\n",
       "      <td>164</td>\n",
       "      <td>298</td>\n",
       "      <td>240</td>\n",
       "      <td>344</td>\n",
       "    </tr>\n",
       "    <tr>\n",
       "      <th>(300, 2000]</th>\n",
       "      <td>395</td>\n",
       "      <td>1,852</td>\n",
       "      <td>536</td>\n",
       "      <td>171</td>\n",
       "    </tr>\n",
       "    <tr>\n",
       "      <th>(2000, inf]</th>\n",
       "      <td>2,097</td>\n",
       "      <td>6,340</td>\n",
       "      <td>4,026</td>\n",
       "      <td>22</td>\n",
       "    </tr>\n",
       "  </tbody>\n",
       "</table>\n",
       "</div>"
      ],
      "text/plain": [
       "            read_length_norm                     \n",
       "                         min    max median  count\n",
       "bin                                              \n",
       "(20, 40]                  21     40     36  3,845\n",
       "(40, 60]                  41     60     51  8,066\n",
       "(60, 80]                  61     80     76  5,488\n",
       "(80, 100]                 81    100     95  6,552\n",
       "(100, 120]               101    120    101  1,382\n",
       "(120, 140]               123    140    125    221\n",
       "(140, 160]               141    160    151    239\n",
       "(160, 300]               164    298    240    344\n",
       "(300, 2000]              395  1,852    536    171\n",
       "(2000, inf]            2,097  6,340  4,026     22"
      ]
     },
     "execution_count": 206,
     "metadata": {},
     "output_type": "execute_result"
    }
   ],
   "source": [
    "# Summary counts looking at different bins.\n",
    "print('There are a total of {:,} samples.'.format(df.shape[0]))\n",
    "df['bin'] = pd.cut(df.read_length_norm, [20, 40, 60, 80, 100, 120, 140, 160, 300, 2000, np.inf], labels=None)\n",
    "cnts = df.groupby('bin').agg({'read_length_norm': ['min', 'max', 'median', 'count']})\n",
    "cnts.applymap(lambda x: '{:,.0f}'.format(x))"
   ]
  },
  {
   "cell_type": "code",
   "execution_count": 254,
   "metadata": {
    "code_folding": [
     0
    ]
   },
   "outputs": [
    {
     "name": "stdout",
     "output_type": "stream",
     "text": [
      "Samples with read lengths > 160 bp are from these machines.\n"
     ]
    },
    {
     "data": {
      "text/html": [
       "<div>\n",
       "<table border=\"1\" class=\"dataframe\">\n",
       "  <thead>\n",
       "    <tr style=\"text-align: right;\">\n",
       "      <th></th>\n",
       "      <th>count</th>\n",
       "    </tr>\n",
       "  </thead>\n",
       "  <tbody>\n",
       "    <tr>\n",
       "      <th>454 GS</th>\n",
       "      <td>1</td>\n",
       "    </tr>\n",
       "    <tr>\n",
       "      <th>454 GS 20</th>\n",
       "      <td>4</td>\n",
       "    </tr>\n",
       "    <tr>\n",
       "      <th>454 GS FLX</th>\n",
       "      <td>29</td>\n",
       "    </tr>\n",
       "    <tr>\n",
       "      <th>454 GS FLX Titanium</th>\n",
       "      <td>39</td>\n",
       "    </tr>\n",
       "    <tr>\n",
       "      <th>454 GS FLX+</th>\n",
       "      <td>1</td>\n",
       "    </tr>\n",
       "    <tr>\n",
       "      <th>454 GS Junior</th>\n",
       "      <td>250</td>\n",
       "    </tr>\n",
       "    <tr>\n",
       "      <th>Illumina MiSeq</th>\n",
       "      <td>19</td>\n",
       "    </tr>\n",
       "    <tr>\n",
       "      <th>Ion Torrent PGM</th>\n",
       "      <td>3</td>\n",
       "    </tr>\n",
       "    <tr>\n",
       "      <th>MinION</th>\n",
       "      <td>1</td>\n",
       "    </tr>\n",
       "    <tr>\n",
       "      <th>PacBio RS</th>\n",
       "      <td>1</td>\n",
       "    </tr>\n",
       "  </tbody>\n",
       "</table>\n",
       "</div>"
      ],
      "text/plain": [
       "                     count\n",
       "454 GS                   1\n",
       "454 GS 20                4\n",
       "454 GS FLX              29\n",
       "454 GS FLX Titanium     39\n",
       "454 GS FLX+              1\n",
       "454 GS Junior          250\n",
       "Illumina MiSeq          19\n",
       "Ion Torrent PGM          3\n",
       "MinION                   1\n",
       "PacBio RS                1"
      ]
     },
     "execution_count": 254,
     "metadata": {},
     "output_type": "execute_result"
    }
   ],
   "source": [
    "# What instruments are the large fragments from\n",
    "srx = df[(df.read_length_norm > 160)].index.get_level_values(0).tolist()\n",
    "\n",
    "dd = pd.DataFrame(list(ncbi.aggregate([\n",
    "    {\n",
    "        '$match': {\n",
    "            '_id': {'$in': srx}\n",
    "        }\n",
    "    },\n",
    "    {\n",
    "        '$project': {\n",
    "            '_id': 0,\n",
    "            'srx': '$srx',\n",
    "            'library_strategy': '$sra.experiment.library_strategy',\n",
    "            'instrument_model': '$sra.experiment.instrument_model',\n",
    "        }\n",
    "    }\n",
    "])))\n",
    "\n",
    "print('Samples with read lengths > 160 bp are from these machines.')\n",
    "dd.instrument_model.value_counts().sort_index().to_frame().rename(\n",
    "    columns={\n",
    "        'instrument_model': 'count'\n",
    "    }\n",
    ")"
   ]
  },
  {
   "cell_type": "code",
   "execution_count": 283,
   "metadata": {
    "code_folding": []
   },
   "outputs": [
    {
     "data": {
      "text/html": [
       "<div>\n",
       "<table border=\"1\" class=\"dataframe\">\n",
       "  <thead>\n",
       "    <tr style=\"text-align: right;\">\n",
       "      <th></th>\n",
       "      <th>0</th>\n",
       "    </tr>\n",
       "  </thead>\n",
       "  <tbody>\n",
       "    <tr>\n",
       "      <th>flag_too_short</th>\n",
       "      <td>890</td>\n",
       "    </tr>\n",
       "    <tr>\n",
       "      <th>flag_short</th>\n",
       "      <td>4,104</td>\n",
       "    </tr>\n",
       "    <tr>\n",
       "      <th>flag_good</th>\n",
       "      <td>21,605</td>\n",
       "    </tr>\n",
       "    <tr>\n",
       "      <th>flag_long</th>\n",
       "      <td>346</td>\n",
       "    </tr>\n",
       "    <tr>\n",
       "      <th>flag_really_long</th>\n",
       "      <td>193</td>\n",
       "    </tr>\n",
       "  </tbody>\n",
       "</table>\n",
       "</div>"
      ],
      "text/plain": [
       "                       0\n",
       "flag_too_short       890\n",
       "flag_short         4,104\n",
       "flag_good         21,605\n",
       "flag_long            346\n",
       "flag_really_long     193"
      ]
     },
     "execution_count": 283,
     "metadata": {},
     "output_type": "execute_result"
    }
   ],
   "source": [
    "# Create output table\n",
    "output = pd.DataFrame(index=df.index)\n",
    "\n",
    "cutoffs = {\n",
    "    'too_short': lambda x: x < 25,\n",
    "    'short': lambda x: (x >= 25) & (x < 45),\n",
    "    'good': lambda x: (x >= 45) & (x < 160),\n",
    "    'long': lambda x: (x >= 160) & (x < 300),\n",
    "    'really_long': lambda x: (x >= 300),\n",
    "}\n",
    "\n",
    "output['flag_too_short'] = False\n",
    "output.loc[list(map(cutoffs['too_short'], df.read_length_norm)), 'flag_too_short'] = True\n",
    "\n",
    "output['flag_short'] = False\n",
    "output.loc[list(map(cutoffs['short'], df.read_length_norm)), 'flag_short'] = True\n",
    "\n",
    "output['flag_good'] = False\n",
    "output.loc[list(map(cutoffs['good'], df.read_length_norm)), 'flag_good'] = True\n",
    "\n",
    "output['flag_long'] = False\n",
    "output.loc[list(map(cutoffs['long'], df.read_length_norm)), 'flag_long'] = True\n",
    "\n",
    "output['flag_really_long'] = False\n",
    "output.loc[list(map(cutoffs['really_long'], df.read_length_norm)), 'flag_really_long'] = True\n",
    "\n",
    "# Output summary table\n",
    "output.to_pickle('../../output/read_length_downstream_analysis')\n",
    "# Quick summary table\n",
    "output.sum().to_frame().applymap(lambda x: '{:,}'.format(x))"
   ]
  },
  {
   "cell_type": "code",
   "execution_count": 275,
   "metadata": {
    "code_folding": []
   },
   "outputs": [],
   "source": [
    "# counts for summary\n",
    "num_samples = '{:,}'.format(df.shape[0])\n",
    "num_lt_160 = '{:,}'.format(output.flag_short.sum() + output.flag_good.sum())\n",
    "min_read = '{:,}'.format(df.read_length_norm.min())\n",
    "min_sample = '->'.join(df.read_length_norm.argmin())\n",
    "max_read = '{:,}'.format(df.read_length_norm.max())\n",
    "max_sample = '->'.join(df.read_length_norm.argmax())\n",
    "se_mode = df[se].read_length_norm.mode().values[0]\n",
    "pe_mode = df[pe].read_length_norm.mode().values[0]"
   ]
  },
  {
   "cell_type": "markdown",
   "metadata": {
    "variables": {
     "max_read": "6,340",
     "max_sample": "SRX499318-&gt;SRR1204481",
     "min_read": "10",
     "min_sample": "ERX249568-&gt;ERR297221",
     "num_le_160": "24,677",
     "num_samples": "27,138",
     "pe_mode": "95",
     "se_mode": "51"
    }
   },
   "source": [
    "### Summary\n",
    "\n",
    "There is a large spread of read lengths in SRA. Of the {{num_samples}} samples, the majority (n={{num_le_160}}) have reads between 25-160bp. The most frequent read length in Single End data was {{se_mode}} bp, while the most frequent read length in Pair End data was {{pe_mode}} bp. Sample {{min_sample}} had the minimum read length of {{min_read}}, while {{max_sample}} had the maximum read length of {{max_read}}.\n",
    "\n",
    "If we look at samples with read lengths greater than 160 bp are mostly from the *454 GS Junior* or other 454 machine. "
   ]
  },
  {
   "cell_type": "code",
   "execution_count": 282,
   "metadata": {},
   "outputs": [
    {
     "data": {
      "text/html": [
       "<div>\n",
       "<table border=\"1\" class=\"dataframe\">\n",
       "  <thead>\n",
       "    <tr style=\"text-align: right;\">\n",
       "      <th></th>\n",
       "      <th></th>\n",
       "      <th>flag_too_short</th>\n",
       "      <th>flag_short</th>\n",
       "      <th>flag_good</th>\n",
       "      <th>flag_long</th>\n",
       "      <th>flag_really_long</th>\n",
       "    </tr>\n",
       "    <tr>\n",
       "      <th>srx</th>\n",
       "      <th>srr</th>\n",
       "      <th></th>\n",
       "      <th></th>\n",
       "      <th></th>\n",
       "      <th></th>\n",
       "      <th></th>\n",
       "    </tr>\n",
       "  </thead>\n",
       "  <tbody>\n",
       "    <tr>\n",
       "      <th>SRX2556775</th>\n",
       "      <th>SRR5251041</th>\n",
       "      <td>False</td>\n",
       "      <td>False</td>\n",
       "      <td>True</td>\n",
       "      <td>False</td>\n",
       "      <td>False</td>\n",
       "    </tr>\n",
       "    <tr>\n",
       "      <th>SRX2556774</th>\n",
       "      <th>SRR5251040</th>\n",
       "      <td>False</td>\n",
       "      <td>False</td>\n",
       "      <td>True</td>\n",
       "      <td>False</td>\n",
       "      <td>False</td>\n",
       "    </tr>\n",
       "    <tr>\n",
       "      <th>SRX2556773</th>\n",
       "      <th>SRR5251039</th>\n",
       "      <td>False</td>\n",
       "      <td>False</td>\n",
       "      <td>True</td>\n",
       "      <td>False</td>\n",
       "      <td>False</td>\n",
       "    </tr>\n",
       "    <tr>\n",
       "      <th>SRX2556772</th>\n",
       "      <th>SRR5251038</th>\n",
       "      <td>False</td>\n",
       "      <td>False</td>\n",
       "      <td>True</td>\n",
       "      <td>False</td>\n",
       "      <td>False</td>\n",
       "    </tr>\n",
       "    <tr>\n",
       "      <th>SRX2556771</th>\n",
       "      <th>SRR5251037</th>\n",
       "      <td>False</td>\n",
       "      <td>False</td>\n",
       "      <td>True</td>\n",
       "      <td>False</td>\n",
       "      <td>False</td>\n",
       "    </tr>\n",
       "  </tbody>\n",
       "</table>\n",
       "</div>"
      ],
      "text/plain": [
       "                      flag_too_short flag_short flag_good flag_long  \\\n",
       "srx        srr                                                        \n",
       "SRX2556775 SRR5251041          False      False      True     False   \n",
       "SRX2556774 SRR5251040          False      False      True     False   \n",
       "SRX2556773 SRR5251039          False      False      True     False   \n",
       "SRX2556772 SRR5251038          False      False      True     False   \n",
       "SRX2556771 SRR5251037          False      False      True     False   \n",
       "\n",
       "                      flag_really_long  \n",
       "srx        srr                          \n",
       "SRX2556775 SRR5251041            False  \n",
       "SRX2556774 SRR5251040            False  \n",
       "SRX2556773 SRR5251039            False  \n",
       "SRX2556772 SRR5251038            False  \n",
       "SRX2556771 SRR5251037            False  "
      ]
     },
     "execution_count": 282,
     "metadata": {},
     "output_type": "execute_result"
    }
   ],
   "source": [
    "output.head()"
   ]
  },
  {
   "cell_type": "code",
   "execution_count": null,
   "metadata": {
    "collapsed": true
   },
   "outputs": [],
   "source": []
  },
  {
   "cell_type": "code",
   "execution_count": null,
   "metadata": {
    "collapsed": true
   },
   "outputs": [],
   "source": []
  },
  {
   "cell_type": "code",
   "execution_count": null,
   "metadata": {
    "collapsed": true
   },
   "outputs": [],
   "source": []
  },
  {
   "cell_type": "code",
   "execution_count": null,
   "metadata": {
    "collapsed": true
   },
   "outputs": [],
   "source": []
  }
 ],
 "metadata": {
  "kernelspec": {
   "display_name": "Python [conda env:ncbi_remap]",
   "language": "python",
   "name": "conda-env-ncbi_remap-py"
  },
  "language_info": {
   "codemirror_mode": {
    "name": "ipython",
    "version": 3
   },
   "file_extension": ".py",
   "mimetype": "text/x-python",
   "name": "python",
   "nbconvert_exporter": "python",
   "pygments_lexer": "ipython3",
   "version": "3.5.3"
  },
  "toc": {
   "nav_menu": {},
   "number_sections": false,
   "sideBar": true,
   "skip_h1_title": false,
   "toc_cell": false,
   "toc_position": {},
   "toc_section_display": "block",
   "toc_window_display": false
  }
 },
 "nbformat": 4,
 "nbformat_minor": 2
}
