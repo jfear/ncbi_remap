{
 "cells": [
  {
   "cell_type": "markdown",
   "metadata": {},
   "source": [
    "# Explore Tissue Coverage"
   ]
  },
  {
   "cell_type": "markdown",
   "metadata": {},
   "source": [
    "Looking to get a quick estimate of how many tissues are covered. This is a really quick metric."
   ]
  },
  {
   "cell_type": "code",
   "execution_count": 1,
   "metadata": {
    "code_folding": [
     0
    ],
    "collapsed": false
   },
   "outputs": [
    {
     "name": "stdout",
     "output_type": "stream",
     "text": [
      "last updated: 2017-03-17 \n",
      "Git hash: 94bf3c7800181bc8d9e74dfcc5a177068858242a\n"
     ]
    }
   ],
   "source": [
    "# %load ../start.py\n",
    "# Load useful extensions\n",
    "\n",
    "# Activate the autoreload extension for easy reloading of external packages\n",
    "%reload_ext autoreload\n",
    "%autoreload 2\n",
    "\n",
    "# Set up cashdir\n",
    "from ipycache import CacheMagics\n",
    "CacheMagics.cachedir = '../cachedir'\n",
    "\n",
    "# Trun on the water mark\n",
    "%reload_ext watermark\n",
    "%watermark -u -d -g\n",
    "\n",
    "# Load ipycache extension\n",
    "%reload_ext ipycache\n",
    "from ipycache import CacheMagics\n",
    "CacheMagics.cachedir = '../cachedir'\n",
    "\n",
    "# Add project library to path\n",
    "import sys\n",
    "sys.path.insert(0, '../../lib/python')\n",
    "\n",
    "# The usual suspects\n",
    "import os\n",
    "import numpy as np\n",
    "import pandas as pd\n",
    "\n",
    "# plotting\n",
    "import matplotlib as mpl\n",
    "import matplotlib.pyplot as plt\n",
    "import seaborn as sns\n",
    "\n",
    "%matplotlib inline\n",
    "sns.set_context('poster')\n",
    "\n",
    "# Turn off scientific notation\n",
    "np.set_printoptions(precision=5, suppress=True)\n"
   ]
  },
  {
   "cell_type": "code",
   "execution_count": 2,
   "metadata": {
    "code_folding": [],
    "collapsed": true
   },
   "outputs": [],
   "source": [
    "# connect to Mong\n",
    "from pymongo import MongoClient\n",
    "client = MongoClient(port=27022)\n",
    "db = client['sra2']\n",
    "ncbi = db.ncbi\n",
    "remap = db.remap"
   ]
  },
  {
   "cell_type": "code",
   "execution_count": null,
   "metadata": {
    "collapsed": true
   },
   "outputs": [],
   "source": []
  },
  {
   "cell_type": "code",
   "execution_count": 10,
   "metadata": {
    "collapsed": false,
    "scrolled": false
   },
   "outputs": [],
   "source": [
    "df = pd.DataFrame(list(ncbi.aggregate([\n",
    "    {\n",
    "        '$match': {\n",
    "             '$or': [\n",
    "                 {'sra.experiment.library_strategy': 'RNA-Seq'},\n",
    "                 {'sra.experiment.library_source': 'TRANSCRIPTOMIC'},\n",
    "             ]\n",
    "        }\n",
    "    },\n",
    "    {'$unwind': '$sra.sample.attributes'},\n",
    "    {'$group': {'_id': '$sra.sample.attributes.name', 'count': {'$sum': 1}}},\n",
    "    {'$sort': {'_id': 1}}\n",
    "])))"
   ]
  },
  {
   "cell_type": "code",
   "execution_count": 11,
   "metadata": {
    "collapsed": false
   },
   "outputs": [
    {
     "data": {
      "text/html": [
       "<div>\n",
       "<table border=\"1\" class=\"dataframe\">\n",
       "  <thead>\n",
       "    <tr style=\"text-align: right;\">\n",
       "      <th></th>\n",
       "      <th>_id</th>\n",
       "      <th>count</th>\n",
       "    </tr>\n",
       "  </thead>\n",
       "  <tbody>\n",
       "    <tr>\n",
       "      <th>0</th>\n",
       "      <td>None</td>\n",
       "      <td>8</td>\n",
       "    </tr>\n",
       "    <tr>\n",
       "      <th>1</th>\n",
       "      <td>Age</td>\n",
       "      <td>18</td>\n",
       "    </tr>\n",
       "    <tr>\n",
       "      <th>2</th>\n",
       "      <td>Alternate Taxon ID 1</td>\n",
       "      <td>7</td>\n",
       "    </tr>\n",
       "    <tr>\n",
       "      <th>3</th>\n",
       "      <td>Alternate Taxon ID 2</td>\n",
       "      <td>3</td>\n",
       "    </tr>\n",
       "    <tr>\n",
       "      <th>4</th>\n",
       "      <td>BioSampleModel</td>\n",
       "      <td>2109</td>\n",
       "    </tr>\n",
       "  </tbody>\n",
       "</table>\n",
       "</div>"
      ],
      "text/plain": [
       "                    _id  count\n",
       "0                  None      8\n",
       "1                   Age     18\n",
       "2  Alternate Taxon ID 1      7\n",
       "3  Alternate Taxon ID 2      3\n",
       "4        BioSampleModel   2109"
      ]
     },
     "execution_count": 11,
     "metadata": {},
     "output_type": "execute_result"
    }
   ],
   "source": [
    "df.head()"
   ]
  },
  {
   "cell_type": "code",
   "execution_count": 15,
   "metadata": {
    "collapsed": false
   },
   "outputs": [],
   "source": [
    "with open('/home/fearjm/bob.txt', 'w') as fh:\n",
    "    for row in df._id.values:\n",
    "        try:\n",
    "            fh.write(row + '\\n')\n",
    "        except:\n",
    "            pass"
   ]
  },
  {
   "cell_type": "code",
   "execution_count": null,
   "metadata": {
    "collapsed": true
   },
   "outputs": [],
   "source": []
  },
  {
   "cell_type": "code",
   "execution_count": 12,
   "metadata": {
    "collapsed": false
   },
   "outputs": [],
   "source": [
    "df = pd.read_html('../../data/jean/RunsDroso_4annot_9549_libraries.htm', header=0, index_col=0)[0]"
   ]
  },
  {
   "cell_type": "code",
   "execution_count": 9,
   "metadata": {
    "collapsed": false
   },
   "outputs": [
    {
     "data": {
      "text/plain": [
       "(9550, 59)"
      ]
     },
     "execution_count": 9,
     "metadata": {},
     "output_type": "execute_result"
    }
   ],
   "source": [
    "df.shape"
   ]
  },
  {
   "cell_type": "code",
   "execution_count": 10,
   "metadata": {
    "collapsed": false
   },
   "outputs": [
    {
     "data": {
      "text/html": [
       "<div>\n",
       "<table border=\"1\" class=\"dataframe\">\n",
       "  <thead>\n",
       "    <tr style=\"text-align: right;\">\n",
       "      <th></th>\n",
       "      <th>0</th>\n",
       "      <th>1</th>\n",
       "      <th>2</th>\n",
       "      <th>3</th>\n",
       "      <th>4</th>\n",
       "      <th>5</th>\n",
       "      <th>6</th>\n",
       "      <th>7</th>\n",
       "      <th>8</th>\n",
       "      <th>9</th>\n",
       "      <th>...</th>\n",
       "      <th>49</th>\n",
       "      <th>50</th>\n",
       "      <th>51</th>\n",
       "      <th>52</th>\n",
       "      <th>53</th>\n",
       "      <th>54</th>\n",
       "      <th>55</th>\n",
       "      <th>56</th>\n",
       "      <th>57</th>\n",
       "      <th>58</th>\n",
       "    </tr>\n",
       "  </thead>\n",
       "  <tbody>\n",
       "    <tr>\n",
       "      <th>0</th>\n",
       "      <td>Run in SRA (or group of runs from a single lib...</td>\n",
       "      <td>Runs from sublibraries (one library ran in mul...</td>\n",
       "      <td>From SRP project</td>\n",
       "      <td>Project description and aim</td>\n",
       "      <td>reference (pm stands for PMID)</td>\n",
       "      <td>Authors of the study (not always precise enoug...</td>\n",
       "      <td>Biosample ID (SAM*)</td>\n",
       "      <td>Summary of sample (information collected from ...</td>\n",
       "      <td>RNA aim: total, polyA, nascent, small RNA, 3',...</td>\n",
       "      <td>Experiment detail (manual)</td>\n",
       "      <td>...</td>\n",
       "      <td>Cell_type (Brian)</td>\n",
       "      <td>Cell line (D+J)</td>\n",
       "      <td>cell line details (D+J)</td>\n",
       "      <td>NLM cell line</td>\n",
       "      <td>Sample type (Zhenxia)</td>\n",
       "      <td>Sample type (Brian)</td>\n",
       "      <td>Tissue position (Brian)</td>\n",
       "      <td>Notes and flags (Brian)</td>\n",
       "      <td>Problem in SRA consistency or download</td>\n",
       "      <td>This SRR is a doublon of another (need to remo...</td>\n",
       "    </tr>\n",
       "    <tr>\n",
       "      <th>1</th>\n",
       "      <td>DRR001177</td>\n",
       "      <td>NaN</td>\n",
       "      <td>DRP000426</td>\n",
       "      <td>Chromatin associated RNAi components take part...</td>\n",
       "      <td>pm22056986</td>\n",
       "      <td>Cernilogar FM, Onorati MC, Kothe GO, 2011-11-0...</td>\n",
       "      <td>SAMD00016337</td>\n",
       "      <td>AGO2 IP no heat shock, SRig10098, DRS000734</td>\n",
       "      <td>NaN</td>\n",
       "      <td>NaN</td>\n",
       "      <td>...</td>\n",
       "      <td>S2</td>\n",
       "      <td>S2</td>\n",
       "      <td>NaN</td>\n",
       "      <td>NaN</td>\n",
       "      <td>cell_line</td>\n",
       "      <td>cell_line</td>\n",
       "      <td>NaN</td>\n",
       "      <td>NaN</td>\n",
       "      <td>NaN</td>\n",
       "      <td>NaN</td>\n",
       "    </tr>\n",
       "    <tr>\n",
       "      <th>2</th>\n",
       "      <td>DRR001178</td>\n",
       "      <td>NaN</td>\n",
       "      <td>DRP000426</td>\n",
       "      <td>Chromatin associated RNAi components take part...</td>\n",
       "      <td>pm22056986</td>\n",
       "      <td>Cernilogar FM, Onorati MC, Kothe GO, 2011-11-0...</td>\n",
       "      <td>SAMD00016336</td>\n",
       "      <td>Ago2 IP heat shock, SRig10099, DRS000735</td>\n",
       "      <td>NaN</td>\n",
       "      <td>NaN</td>\n",
       "      <td>...</td>\n",
       "      <td>S2</td>\n",
       "      <td>S2</td>\n",
       "      <td>NaN</td>\n",
       "      <td>NaN</td>\n",
       "      <td>cell_line</td>\n",
       "      <td>cell_line</td>\n",
       "      <td>NaN</td>\n",
       "      <td>NaN</td>\n",
       "      <td>NaN</td>\n",
       "      <td>NaN</td>\n",
       "    </tr>\n",
       "    <tr>\n",
       "      <th>3</th>\n",
       "      <td>DRR014222</td>\n",
       "      <td>NaN</td>\n",
       "      <td>DRP001250</td>\n",
       "      <td>mRNA 5 end sequencing (3 exp).</td>\n",
       "      <td>pm25003736</td>\n",
       "      <td>Machida RJ, Lin YY, ASGRC-WM, Academia Sinica ...</td>\n",
       "      <td>SAMD00012584</td>\n",
       "      <td>PCR2123, DRS012553</td>\n",
       "      <td>polyA</td>\n",
       "      <td>SMART method enriches for complete 5' 3'</td>\n",
       "      <td>...</td>\n",
       "      <td>NaN</td>\n",
       "      <td>NaN</td>\n",
       "      <td>NaN</td>\n",
       "      <td>NaN</td>\n",
       "      <td>whole_organism</td>\n",
       "      <td>NaN</td>\n",
       "      <td>NaN</td>\n",
       "      <td>NaN</td>\n",
       "      <td>NaN</td>\n",
       "      <td>NaN</td>\n",
       "    </tr>\n",
       "    <tr>\n",
       "      <th>4</th>\n",
       "      <td>DRR014223</td>\n",
       "      <td>NaN</td>\n",
       "      <td>DRP001250</td>\n",
       "      <td>mRNA 5 end sequencing (3 exp).</td>\n",
       "      <td>pm25003736</td>\n",
       "      <td>Machida RJ, Lin YY, ASGRC-WM, Academia Sinica ...</td>\n",
       "      <td>SAMD00012584</td>\n",
       "      <td>PCR2123, DRS012553</td>\n",
       "      <td>Cap_CAGE_RACE</td>\n",
       "      <td>Libraries prepared by ligation method, oligoca...</td>\n",
       "      <td>...</td>\n",
       "      <td>NaN</td>\n",
       "      <td>NaN</td>\n",
       "      <td>NaN</td>\n",
       "      <td>NaN</td>\n",
       "      <td>whole_organism</td>\n",
       "      <td>NaN</td>\n",
       "      <td>NaN</td>\n",
       "      <td>NaN</td>\n",
       "      <td>NaN</td>\n",
       "      <td>NaN</td>\n",
       "    </tr>\n",
       "  </tbody>\n",
       "</table>\n",
       "<p>5 rows × 59 columns</p>\n",
       "</div>"
      ],
      "text/plain": [
       "                                                  0   \\\n",
       "0  Run in SRA (or group of runs from a single lib...   \n",
       "1                                          DRR001177   \n",
       "2                                          DRR001178   \n",
       "3                                          DRR014222   \n",
       "4                                          DRR014223   \n",
       "\n",
       "                                                  1                 2   \\\n",
       "0  Runs from sublibraries (one library ran in mul...  From SRP project   \n",
       "1                                                NaN         DRP000426   \n",
       "2                                                NaN         DRP000426   \n",
       "3                                                NaN         DRP001250   \n",
       "4                                                NaN         DRP001250   \n",
       "\n",
       "                                                  3   \\\n",
       "0                        Project description and aim   \n",
       "1  Chromatin associated RNAi components take part...   \n",
       "2  Chromatin associated RNAi components take part...   \n",
       "3                     mRNA 5 end sequencing (3 exp).   \n",
       "4                     mRNA 5 end sequencing (3 exp).   \n",
       "\n",
       "                               4   \\\n",
       "0  reference (pm stands for PMID)   \n",
       "1                      pm22056986   \n",
       "2                      pm22056986   \n",
       "3                      pm25003736   \n",
       "4                      pm25003736   \n",
       "\n",
       "                                                  5                    6   \\\n",
       "0  Authors of the study (not always precise enoug...  Biosample ID (SAM*)   \n",
       "1  Cernilogar FM, Onorati MC, Kothe GO, 2011-11-0...         SAMD00016337   \n",
       "2  Cernilogar FM, Onorati MC, Kothe GO, 2011-11-0...         SAMD00016336   \n",
       "3  Machida RJ, Lin YY, ASGRC-WM, Academia Sinica ...         SAMD00012584   \n",
       "4  Machida RJ, Lin YY, ASGRC-WM, Academia Sinica ...         SAMD00012584   \n",
       "\n",
       "                                                  7   \\\n",
       "0  Summary of sample (information collected from ...   \n",
       "1        AGO2 IP no heat shock, SRig10098, DRS000734   \n",
       "2           Ago2 IP heat shock, SRig10099, DRS000735   \n",
       "3                                 PCR2123, DRS012553   \n",
       "4                                 PCR2123, DRS012553   \n",
       "\n",
       "                                                  8   \\\n",
       "0  RNA aim: total, polyA, nascent, small RNA, 3',...   \n",
       "1                                                NaN   \n",
       "2                                                NaN   \n",
       "3                                              polyA   \n",
       "4                                      Cap_CAGE_RACE   \n",
       "\n",
       "                                                  9   \\\n",
       "0                         Experiment detail (manual)   \n",
       "1                                                NaN   \n",
       "2                                                NaN   \n",
       "3           SMART method enriches for complete 5' 3'   \n",
       "4  Libraries prepared by ligation method, oligoca...   \n",
       "\n",
       "                         ...                                         49  \\\n",
       "0                        ...                          Cell_type (Brian)   \n",
       "1                        ...                                         S2   \n",
       "2                        ...                                         S2   \n",
       "3                        ...                                        NaN   \n",
       "4                        ...                                        NaN   \n",
       "\n",
       "                50                       51             52  \\\n",
       "0  Cell line (D+J)  cell line details (D+J)  NLM cell line   \n",
       "1               S2                      NaN            NaN   \n",
       "2               S2                      NaN            NaN   \n",
       "3              NaN                      NaN            NaN   \n",
       "4              NaN                      NaN            NaN   \n",
       "\n",
       "                      53                   54                       55  \\\n",
       "0  Sample type (Zhenxia)  Sample type (Brian)  Tissue position (Brian)   \n",
       "1              cell_line            cell_line                      NaN   \n",
       "2              cell_line            cell_line                      NaN   \n",
       "3         whole_organism                  NaN                      NaN   \n",
       "4         whole_organism                  NaN                      NaN   \n",
       "\n",
       "                        56                                      57  \\\n",
       "0  Notes and flags (Brian)  Problem in SRA consistency or download   \n",
       "1                      NaN                                     NaN   \n",
       "2                      NaN                                     NaN   \n",
       "3                      NaN                                     NaN   \n",
       "4                      NaN                                     NaN   \n",
       "\n",
       "                                                  58  \n",
       "0  This SRR is a doublon of another (need to remo...  \n",
       "1                                                NaN  \n",
       "2                                                NaN  \n",
       "3                                                NaN  \n",
       "4                                                NaN  \n",
       "\n",
       "[5 rows x 59 columns]"
      ]
     },
     "execution_count": 10,
     "metadata": {},
     "output_type": "execute_result"
    }
   ],
   "source": [
    "df.head()"
   ]
  },
  {
   "cell_type": "code",
   "execution_count": null,
   "metadata": {
    "collapsed": true
   },
   "outputs": [],
   "source": []
  }
 ],
 "metadata": {
  "anaconda-cloud": {},
  "kernelspec": {
   "display_name": "Python [conda env:ncbi_remap]",
   "language": "python",
   "name": "conda-env-ncbi_remap-py"
  },
  "language_info": {
   "codemirror_mode": {
    "name": "ipython",
    "version": 3
   },
   "file_extension": ".py",
   "mimetype": "text/x-python",
   "name": "python",
   "nbconvert_exporter": "python",
   "pygments_lexer": "ipython3",
   "version": "3.5.2"
  },
  "toc": {
   "colors": {
    "hover_highlight": "#DAA520",
    "running_highlight": "#FF0000",
    "selected_highlight": "#FFD700"
   },
   "moveMenuLeft": true,
   "nav_menu": {
    "height": "12px",
    "width": "252px"
   },
   "navigate_menu": true,
   "number_sections": false,
   "sideBar": true,
   "threshold": 4,
   "toc_cell": false,
   "toc_section_display": "block",
   "toc_window_display": false
  }
 },
 "nbformat": 4,
 "nbformat_minor": 2
}
