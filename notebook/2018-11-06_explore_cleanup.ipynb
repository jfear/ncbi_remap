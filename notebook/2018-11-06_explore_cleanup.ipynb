{
 "cells": [
  {
   "cell_type": "markdown",
   "metadata": {},
   "source": [
    "# Explore cleanup"
   ]
  },
  {
   "cell_type": "markdown",
   "metadata": {},
   "source": [
    "I am approaching my quota again. After some CLI magic I see that I need to cleanup the BAM files. However, I need to be really careful not to remove BAM files for RNA-Seq b/c they are still needed. This notebook is for thinking about the problem and estimating how useful cleanup will be. Currently I have ~29 TB in the aln-wf. If I remove all BAM that would be ~4TB.  "
   ]
  },
  {
   "cell_type": "code",
   "execution_count": 5,
   "metadata": {},
   "outputs": [],
   "source": [
    "import os\n",
    "import sys\n",
    "from pathlib import Path\n",
    "\n",
    "from IPython.display import display, HTML, Markdown\n",
    "import numpy as np\n",
    "import pandas as pd\n",
    "\n",
    "import matplotlib as mpl\n",
    "import matplotlib.pyplot as plt\n",
    "import seaborn as sns\n",
    "\n",
    "# Project level imports\n",
    "from ncbi_remap.notebook import Nb\n",
    "from ncbi_remap.plotting import make_figs"
   ]
  },
  {
   "cell_type": "code",
   "execution_count": 6,
   "metadata": {},
   "outputs": [
    {
     "name": "stdout",
     "output_type": "stream",
     "text": [
      "Please check output/fbgn2chrom.tsv. If it does not exist, run bin/fbgn2chrom.py\n",
      "last updated: 2018-11-06 \n",
      "Git hash: 2ab02467572949f50686ea6dc152955ca37f5633\n"
     ]
    }
   ],
   "source": [
    "# Setup notebook\n",
    "nbconfig = Nb.setup_notebook()"
   ]
  },
  {
   "cell_type": "code",
   "execution_count": 7,
   "metadata": {},
   "outputs": [],
   "source": [
    "# Connect to data store\n",
    "store = pd.HDFStore('../output/sra.h5', mode='r')"
   ]
  },
  {
   "cell_type": "code",
   "execution_count": 16,
   "metadata": {},
   "outputs": [],
   "source": [
    "pd.options.display.max_rows = 100"
   ]
  },
  {
   "cell_type": "code",
   "execution_count": 26,
   "metadata": {},
   "outputs": [],
   "source": [
    "complete = store['aln/complete'].srx.values\n",
    "metadata = pd.read_parquet('../output/metadata-wf/select_library_strategy.parquet')\n",
    "metadata = metadata.reindex(complete)"
   ]
  },
  {
   "cell_type": "code",
   "execution_count": 27,
   "metadata": {},
   "outputs": [
    {
     "data": {
      "text/plain": [
       "RNA-Seq                                18,459\n",
       "EST                                     4,699\n",
       "ChIP-Seq                                3,284\n",
       "4C-Seq                                  2,674\n",
       "WGS                                     2,071\n",
       "RNA-Seq|OTHER                           1,064\n",
       "ChIP-Seq|WGS                              208\n",
       "ChIP-Seq|OTHER                            185\n",
       "miRNA-Seq                                 115\n",
       "DNA-Seq                                   111\n",
       "Targeted-Capture                           93\n",
       "EST|OTHER                                  86\n",
       "AMPLICON                                   81\n",
       "WGS|OTHER                                  65\n",
       "STARR-Seq                                  56\n",
       "RAD-Seq                                    55\n",
       "RNA-Seq|RIP-Seq                            55\n",
       "ncRNA-Seq                                  54\n",
       "HiC-Seq                                    50\n",
       "3C-Seq|4C-Seq|ChIP-Seq|OTHER               50\n",
       "MNase-Seq|ChIP-Seq                         45\n",
       "PRO-Seq                                    44\n",
       "WGS|ChIP-Seq                               42\n",
       "ChIP-Seq|RNA-Seq                           34\n",
       "MNase-Seq                                  29\n",
       "GRO-Seq                                    29\n",
       "ChIP-Seq|MNase-Seq                         26\n",
       "PAL-Seq|RNA-Seq|OTHER                      25\n",
       "FAIRE-Seq|ChIP-Seq|FAIRE-seq               21\n",
       "STAP-Seq                                   18\n",
       "CLIP-Seq                                   15\n",
       "RNA-Seq|miRNA-Seq                          15\n",
       "RNA-Seq|ncRNA-Seq                          15\n",
       "ATAC-Seq                                   13\n",
       "4C-Seq|ChIP-Seq|MNase-Seq                  13\n",
       "DIP-Seq                                    13\n",
       "ChiRP-Seq                                  12\n",
       "RNA-Seq|ChIP-Seq                           10\n",
       "EST|RNA-Seq                                10\n",
       "DNase-Hypersensitivity|ChIP-Seq            10\n",
       "SNS-Seq                                     9\n",
       "WGS|RNA-Seq                                 9\n",
       "RNA-Seq|CLONEEND                            7\n",
       "Repli-Seq                                   6\n",
       "RNA-Seq|FL-cDNA                             6\n",
       "RIP-Seq                                     6\n",
       "WGA                                         5\n",
       "ChIP-Seq|AMPLICON                           5\n",
       "RNA-Seq|WGS                                 4\n",
       "mmPCR-Seq                                   4\n",
       "ChIP-Seq|POOLCLONE                          4\n",
       "DamID-Seq                                   4\n",
       "ChIP-Seq|MeDIP-Seq                          4\n",
       "FAIRE-Seq|WGS|FAIRE-seq                     4\n",
       "MNase-Seq|WGS                               4\n",
       "RNA-Seq|EST                                 3\n",
       "3C-Seq|4C-Seq|EST|OTHER                     3\n",
       "3C-Seq|4C-Seq|WGS|OTHER                     3\n",
       "DamID-Seq|ChIP-Seq|Targeted-Capture         3\n",
       "EST|Bisulfite-Seq                           2\n",
       "DIP-Seq|WGA|ChIP-Seq|OTHER                  2\n",
       "3C-Seq|4C-Seq|RNA-Seq|OTHER                 2\n",
       "ChIP-Seq|WGS|MNase-Seq                      2\n",
       "GRO-Seq|ChIP-Seq|RNA-Seq                    2\n",
       "EST|POOLCLONE                               2\n",
       "BS-Seq|RNA-Seq|Bisulfite-Seq                2\n",
       "RNA-Seq|POOLCLONE                           2\n",
       "EST|RIP-Seq                                 2\n",
       "Pool-Seq|ChIP-Seq|WGS                       2\n",
       "hMeRIP-Seq|RNA-Seq                          1\n",
       "4C-Seq|WGS|MNase-Seq                        1\n",
       "WGS|WGA                                     1\n",
       "RNA-Seq|CLONE                               1\n",
       "DIP-Seq|WGS|MeDIP-Seq                       1\n",
       "4C-Seq|RNA-Seq|miRNA-Seq                    1\n",
       "ChIP-Seq|EST                                1\n",
       "RNA-Seq|Bisulfite-Seq                       1\n",
       "CAP-Seq                                     1\n",
       "EST|FL-cDNA                                 1\n",
       "WGS|MeDIP-Seq                               1\n",
       "WGS|MNase-Seq                               1\n",
       "mmPCR-Seq|Targeted-Capture|WGS              1\n",
       "DNA-Seq|ChIP-Seq|WGS                        1\n",
       "4C-Seq|ChIP-Seq|WGS                         1\n",
       "3C-Seq                                      1\n",
       "Name: Fear_et_al_library_strategy, dtype: object"
      ]
     },
     "execution_count": 27,
     "metadata": {},
     "output_type": "execute_result"
    }
   ],
   "source": [
    "metadata.Fear_et_al_library_strategy.value_counts().map(lambda x: f\"{x:,}\")"
   ]
  },
  {
   "cell_type": "code",
   "execution_count": 36,
   "metadata": {},
   "outputs": [],
   "source": [
    "mask = metadata.Fear_et_al_library_strategy.str.contains('RNA-Seq') | \\\n",
    "    metadata.Fear_et_al_library_strategy.str.contains('EST')"
   ]
  },
  {
   "cell_type": "code",
   "execution_count": 82,
   "metadata": {},
   "outputs": [],
   "source": [
    "to_clean = metadata[~mask].copy()"
   ]
  },
  {
   "cell_type": "code",
   "execution_count": 84,
   "metadata": {},
   "outputs": [
    {
     "data": {
      "text/plain": [
       "ChIP-Seq                               3,284\n",
       "4C-Seq                                 2,674\n",
       "WGS                                    2,071\n",
       "ChIP-Seq|WGS                             208\n",
       "ChIP-Seq|OTHER                           185\n",
       "DNA-Seq                                  111\n",
       "Targeted-Capture                          93\n",
       "AMPLICON                                  81\n",
       "WGS|OTHER                                 65\n",
       "STARR-Seq                                 56\n",
       "RAD-Seq                                   55\n",
       "3C-Seq|4C-Seq|ChIP-Seq|OTHER              50\n",
       "HiC-Seq                                   50\n",
       "MNase-Seq|ChIP-Seq                        45\n",
       "PRO-Seq                                   44\n",
       "WGS|ChIP-Seq                              42\n",
       "MNase-Seq                                 29\n",
       "GRO-Seq                                   29\n",
       "ChIP-Seq|MNase-Seq                        26\n",
       "FAIRE-Seq|ChIP-Seq|FAIRE-seq              21\n",
       "STAP-Seq                                  18\n",
       "CLIP-Seq                                  15\n",
       "DIP-Seq                                   13\n",
       "ATAC-Seq                                  13\n",
       "4C-Seq|ChIP-Seq|MNase-Seq                 13\n",
       "ChiRP-Seq                                 12\n",
       "DNase-Hypersensitivity|ChIP-Seq           10\n",
       "SNS-Seq                                    9\n",
       "Repli-Seq                                  6\n",
       "RIP-Seq                                    6\n",
       "ChIP-Seq|AMPLICON                          5\n",
       "WGA                                        5\n",
       "FAIRE-Seq|WGS|FAIRE-seq                    4\n",
       "ChIP-Seq|POOLCLONE                         4\n",
       "MNase-Seq|WGS                              4\n",
       "DamID-Seq                                  4\n",
       "ChIP-Seq|MeDIP-Seq                         4\n",
       "mmPCR-Seq                                  4\n",
       "3C-Seq|4C-Seq|WGS|OTHER                    3\n",
       "DamID-Seq|ChIP-Seq|Targeted-Capture        3\n",
       "ChIP-Seq|WGS|MNase-Seq                     2\n",
       "DIP-Seq|WGA|ChIP-Seq|OTHER                 2\n",
       "Pool-Seq|ChIP-Seq|WGS                      2\n",
       "mmPCR-Seq|Targeted-Capture|WGS             1\n",
       "4C-Seq|ChIP-Seq|WGS                        1\n",
       "4C-Seq|WGS|MNase-Seq                       1\n",
       "WGS|MeDIP-Seq                              1\n",
       "DIP-Seq|WGS|MeDIP-Seq                      1\n",
       "DNA-Seq|ChIP-Seq|WGS                       1\n",
       "WGS|WGA                                    1\n",
       "WGS|MNase-Seq                              1\n",
       "3C-Seq                                     1\n",
       "CAP-Seq                                    1\n",
       "Name: Fear_et_al_library_strategy, dtype: object"
      ]
     },
     "execution_count": 84,
     "metadata": {},
     "output_type": "execute_result"
    }
   ],
   "source": [
    "to_clean.Fear_et_al_library_strategy.value_counts().map(lambda x: f'{x:,}')"
   ]
  },
  {
   "cell_type": "code",
   "execution_count": 89,
   "metadata": {},
   "outputs": [],
   "source": [
    "fsizes = []\n",
    "for srx in to_clean.index.tolist():\n",
    "    try:\n",
    "        fsizes.append(os.path.getsize(f'../output/aln-wf/samples/{srx}/{srx}.bam'))\n",
    "    except FileNotFoundError:\n",
    "        pass\n",
    "\n",
    "    try:\n",
    "        fsizes.append(os.path.getsize(f'../output/aln-wf/samples/{srx}/{srx}.bam.bai'))\n",
    "    except FileNotFoundError:\n",
    "        pass"
   ]
  },
  {
   "cell_type": "code",
   "execution_count": 90,
   "metadata": {},
   "outputs": [
    {
     "name": "stdout",
     "output_type": "stream",
     "text": [
      "17.53 TB\n"
     ]
    }
   ],
   "source": [
    "total = np.sum(fsizes)\n",
    "total /= 1e12\n",
    "print(f'{total:,.2f} TB')"
   ]
  },
  {
   "cell_type": "code",
   "execution_count": 91,
   "metadata": {},
   "outputs": [],
   "source": [
    "pth = Path(f'../output/aln-wf/samples/{srx}/{srx}.bam')"
   ]
  },
  {
   "cell_type": "code",
   "execution_count": 115,
   "metadata": {},
   "outputs": [
    {
     "data": {
      "text/plain": [
       "18.723946704"
      ]
     },
     "execution_count": 115,
     "metadata": {},
     "output_type": "execute_result"
    }
   ],
   "source": [
    "pth.stat().st_size / 1e9"
   ]
  },
  {
   "cell_type": "code",
   "execution_count": 94,
   "metadata": {},
   "outputs": [
    {
     "data": {
      "text/plain": [
       "18723946704"
      ]
     },
     "execution_count": 94,
     "metadata": {},
     "output_type": "execute_result"
    }
   ],
   "source": [
    "os.path.getsize(f'../output/aln-wf/samples/{srx}/{srx}.bam')"
   ]
  },
  {
   "cell_type": "code",
   "execution_count": 95,
   "metadata": {},
   "outputs": [
    {
     "data": {
      "text/plain": [
       "\u001b[0;31mSignature:\u001b[0m \u001b[0mpth\u001b[0m\u001b[0;34m.\u001b[0m\u001b[0munlink\u001b[0m\u001b[0;34m(\u001b[0m\u001b[0;34m)\u001b[0m\u001b[0;34m\u001b[0m\u001b[0m\n",
       "\u001b[0;31mDocstring:\u001b[0m\n",
       "Remove this file or link.\n",
       "If the path is a directory, use rmdir() instead.\n",
       "\u001b[0;31mFile:\u001b[0m      ~/miniconda3/envs/ncbi_remap/lib/python3.6/pathlib.py\n",
       "\u001b[0;31mType:\u001b[0m      method\n"
      ]
     },
     "metadata": {},
     "output_type": "display_data"
    }
   ],
   "source": [
    "pth.unlink?"
   ]
  },
  {
   "cell_type": "code",
   "execution_count": 96,
   "metadata": {},
   "outputs": [],
   "source": [
    "from ncbi_remap.logging import logger"
   ]
  },
  {
   "cell_type": "code",
   "execution_count": 105,
   "metadata": {},
   "outputs": [],
   "source": [
    "if not pth.exists():\n",
    "    print('bob')"
   ]
  },
  {
   "cell_type": "code",
   "execution_count": 110,
   "metadata": {},
   "outputs": [
    {
     "data": {
      "text/plain": [
       "18965"
      ]
     },
     "execution_count": 110,
     "metadata": {},
     "output_type": "execute_result"
    }
   ],
   "source": [
    "(~mask).sum()"
   ]
  },
  {
   "cell_type": "code",
   "execution_count": 113,
   "metadata": {},
   "outputs": [
    {
     "data": {
      "text/plain": [
       "Fear_et_al_library_strategy    ChIP-Seq\n",
       "Name: SRX681773, dtype: object"
      ]
     },
     "execution_count": 113,
     "metadata": {},
     "output_type": "execute_result"
    }
   ],
   "source": [
    "metadata.loc['SRX681773']"
   ]
  },
  {
   "cell_type": "code",
   "execution_count": 116,
   "metadata": {},
   "outputs": [
    {
     "data": {
      "text/plain": [
       "(43658, 1)"
      ]
     },
     "execution_count": 116,
     "metadata": {},
     "output_type": "execute_result"
    }
   ],
   "source": [
    "metadata.shape"
   ]
  },
  {
   "cell_type": "code",
   "execution_count": null,
   "metadata": {},
   "outputs": [],
   "source": []
  }
 ],
 "metadata": {
  "kernelspec": {
   "display_name": "Python [conda env:ncbi_remap]",
   "language": "python",
   "name": "conda-env-ncbi_remap-py"
  },
  "language_info": {
   "codemirror_mode": {
    "name": "ipython",
    "version": 3
   },
   "file_extension": ".py",
   "mimetype": "text/x-python",
   "name": "python",
   "nbconvert_exporter": "python",
   "pygments_lexer": "ipython3",
   "version": "3.6.5"
  }
 },
 "nbformat": 4,
 "nbformat_minor": 2
}
