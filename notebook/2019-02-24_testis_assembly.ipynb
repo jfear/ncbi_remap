{
 "cells": [
  {
   "cell_type": "code",
   "execution_count": 3,
   "metadata": {},
   "outputs": [],
   "source": [
    "from pathlib import Path\n",
    "\n",
    "import numpy as np\n",
    "import pandas as pd\n",
    "\n",
    "import matplotlib as mpl\n",
    "import matplotlib.pyplot as plt\n",
    "import seaborn as sns"
   ]
  },
  {
   "cell_type": "code",
   "execution_count": 132,
   "metadata": {},
   "outputs": [
    {
     "name": "stdout",
     "output_type": "stream",
     "text": [
      "/usr/bin/sh: module: line 1: syntax error: unexpected end of file\n",
      "/usr/bin/sh: error importing function definition for `module'\n",
      "/usr/bin/sh: _module_raw: line 1: syntax error: unexpected end of file\n",
      "/usr/bin/sh: error importing function definition for `_module_raw'\n",
      "/usr/bin/sh: switchml: line 1: syntax error: unexpected end of file\n",
      "/usr/bin/sh: error importing function definition for `switchml'\n",
      "/usr/bin/sh: scl: line 1: syntax error: unexpected end of file\n",
      "/usr/bin/sh: error importing function definition for `scl'\n",
      "dmel_r6-24.gtf\t\t     gffcmp_pacbio.w1118_testi1.collapsed.gff.refmap\n",
      "gffcmp_pacbio.annotated.gtf  gffcmp_pacbio.w1118_testi1.collapsed.gff.tmap\n",
      "gffcmp_pacbio.loci\t     testis.stringtie.gtf\n",
      "gffcmp_pacbio.stats\t     w1118_testi1.collapsed.gff\n",
      "gffcmp_pacbio.tracking\n"
     ]
    }
   ],
   "source": [
    "!ls /home/fearjm/scratch/gffcompare/"
   ]
  },
  {
   "cell_type": "code",
   "execution_count": 130,
   "metadata": {},
   "outputs": [],
   "source": [
    "DIR = Path('~/scratch/gffcompare').expanduser()"
   ]
  },
  {
   "cell_type": "code",
   "execution_count": 153,
   "metadata": {},
   "outputs": [],
   "source": [
    "df = pd.read_csv(DIR / 'gffcmp_pacbio.w1118_testi1.collapsed.gff.tmap', sep='\\t')"
   ]
  },
  {
   "cell_type": "code",
   "execution_count": 154,
   "metadata": {},
   "outputs": [
    {
     "name": "stdout",
     "output_type": "stream",
     "text": [
      "4,066\n"
     ]
    }
   ],
   "source": [
    "codes = ['=', 'c']\n",
    "num_matched = df.query(f'class_code == {codes}').qry_gene_id.unique().shape[0]\n",
    "print(f'{num_matched:,}')"
   ]
  },
  {
   "cell_type": "code",
   "execution_count": 155,
   "metadata": {},
   "outputs": [
    {
     "name": "stdout",
     "output_type": "stream",
     "text": [
      "16\n"
     ]
    }
   ],
   "source": [
    "codes = ['u',]\n",
    "num_unique = df.query(f'class_code == {codes}').qry_gene_id.unique().shape[0]\n",
    "print(f'{num_unique:,}')"
   ]
  },
  {
   "cell_type": "code",
   "execution_count": 156,
   "metadata": {},
   "outputs": [
    {
     "name": "stdout",
     "output_type": "stream",
     "text": [
      "PB.1520\n",
      "PB.3259\n",
      "PB.3780\n",
      "PB.4276\n"
     ]
    }
   ],
   "source": [
    "print('\\n'.join(df.query(f'class_code == {codes}').groupby('qry_gene_id').first().query('num_exons == \"2\"').index.tolist()))"
   ]
  },
  {
   "cell_type": "code",
   "execution_count": null,
   "metadata": {},
   "outputs": [],
   "source": []
  },
  {
   "cell_type": "code",
   "execution_count": 157,
   "metadata": {},
   "outputs": [
    {
     "name": "stdout",
     "output_type": "stream",
     "text": [
      "125\n"
     ]
    }
   ],
   "source": [
    "codes = ['m',]\n",
    "num_retained = df.query(f'class_code == {codes}').qry_gene_id.unique().shape[0]\n",
    "print(f'{num_retained:,}')"
   ]
  },
  {
   "cell_type": "code",
   "execution_count": 161,
   "metadata": {},
   "outputs": [
    {
     "name": "stdout",
     "output_type": "stream",
     "text": [
      "PB.1016\n",
      "PB.1150\n",
      "PB.1227\n",
      "PB.1259\n",
      "PB.1260\n",
      "PB.1279\n",
      "PB.1290\n",
      "PB.1297\n",
      "PB.136\n",
      "PB.1377\n",
      "PB.1419\n",
      "PB.1470\n",
      "PB.1489\n",
      "PB.1496\n",
      "PB.1504\n",
      "PB.1569\n",
      "PB.1603\n",
      "PB.1706\n",
      "PB.1721\n",
      "PB.1764\n",
      "PB.1768\n",
      "PB.1769\n",
      "PB.1810\n",
      "PB.1823\n",
      "PB.1833\n",
      "PB.1888\n",
      "PB.1935\n",
      "PB.2046\n",
      "PB.2064\n",
      "PB.2080\n",
      "PB.2119\n",
      "PB.2164\n",
      "PB.2169\n",
      "PB.2227\n",
      "PB.2229\n",
      "PB.2284\n",
      "PB.2321\n",
      "PB.2336\n",
      "PB.2353\n",
      "PB.2360\n",
      "PB.2389\n",
      "PB.239\n",
      "PB.2527\n",
      "PB.2535\n",
      "PB.2540\n",
      "PB.2662\n",
      "PB.2695\n",
      "PB.2745\n",
      "PB.2760\n",
      "PB.2936\n",
      "PB.2966\n",
      "PB.2987\n",
      "PB.3\n",
      "PB.3024\n",
      "PB.3055\n",
      "PB.3082\n",
      "PB.3102\n",
      "PB.3120\n",
      "PB.3196\n",
      "PB.3204\n",
      "PB.3214\n",
      "PB.3249\n",
      "PB.3277\n",
      "PB.3288\n",
      "PB.3322\n",
      "PB.3330\n",
      "PB.3357\n",
      "PB.3367\n",
      "PB.3388\n",
      "PB.3438\n",
      "PB.3441\n",
      "PB.3481\n",
      "PB.3527\n",
      "PB.3626\n",
      "PB.3670\n",
      "PB.3711\n",
      "PB.3767\n",
      "PB.3806\n",
      "PB.3810\n",
      "PB.3877\n",
      "PB.3896\n",
      "PB.3926\n",
      "PB.3932\n",
      "PB.3935\n",
      "PB.3965\n",
      "PB.4058\n",
      "PB.4107\n",
      "PB.4184\n",
      "PB.4185\n",
      "PB.4190\n",
      "PB.4313\n",
      "PB.4363\n",
      "PB.4389\n",
      "PB.492\n",
      "PB.57\n",
      "PB.62\n",
      "PB.638\n",
      "PB.689\n",
      "PB.735\n",
      "PB.961\n",
      "PB.990\n"
     ]
    }
   ],
   "source": [
    "print('\\n'.join(df.query(f'class_code == {codes}').groupby('qry_gene_id').first().query('num_exons >= 2').index.tolist()))"
   ]
  },
  {
   "cell_type": "code",
   "execution_count": null,
   "metadata": {},
   "outputs": [],
   "source": []
  },
  {
   "cell_type": "code",
   "execution_count": 162,
   "metadata": {},
   "outputs": [
    {
     "name": "stdout",
     "output_type": "stream",
     "text": [
      "104\n"
     ]
    }
   ],
   "source": [
    "codes = ['o',]\n",
    "num_other = df.query(f'class_code == {codes}').qry_gene_id.unique().shape[0]\n",
    "print(f'{num_other:,}')"
   ]
  },
  {
   "cell_type": "code",
   "execution_count": 163,
   "metadata": {},
   "outputs": [
    {
     "name": "stdout",
     "output_type": "stream",
     "text": [
      "PB.1025\n",
      "PB.1301\n",
      "PB.1337\n",
      "PB.1374\n",
      "PB.1378\n",
      "PB.1382\n",
      "PB.1449\n",
      "PB.1454\n",
      "PB.1595\n",
      "PB.1781\n",
      "PB.1904\n",
      "PB.1907\n",
      "PB.1951\n",
      "PB.2027\n",
      "PB.2210\n",
      "PB.2240\n",
      "PB.2328\n",
      "PB.2428\n",
      "PB.2523\n",
      "PB.2735\n",
      "PB.2751\n",
      "PB.2782\n",
      "PB.2828\n",
      "PB.2858\n",
      "PB.2887\n",
      "PB.291\n",
      "PB.2920\n",
      "PB.3059\n",
      "PB.307\n",
      "PB.3123\n",
      "PB.3127\n",
      "PB.3200\n",
      "PB.3226\n",
      "PB.3294\n",
      "PB.3320\n",
      "PB.3410\n",
      "PB.3480\n",
      "PB.3496\n",
      "PB.3561\n",
      "PB.3601\n",
      "PB.3614\n",
      "PB.3643\n",
      "PB.3646\n",
      "PB.3661\n",
      "PB.3732\n",
      "PB.3748\n",
      "PB.3801\n",
      "PB.4057\n",
      "PB.4119\n",
      "PB.4149\n",
      "PB.417\n",
      "PB.4191\n",
      "PB.4234\n",
      "PB.4241\n",
      "PB.4267\n",
      "PB.4411\n",
      "PB.463\n",
      "PB.616\n",
      "PB.665\n",
      "PB.709\n",
      "PB.747\n",
      "PB.767\n",
      "PB.850\n",
      "PB.904\n"
     ]
    }
   ],
   "source": [
    "print('\\n'.join(df.query(f'class_code == {codes}').groupby('qry_gene_id').first().query('num_exons >= 2').index.tolist()))"
   ]
  },
  {
   "cell_type": "code",
   "execution_count": null,
   "metadata": {},
   "outputs": [],
   "source": []
  }
 ],
 "metadata": {
  "jupytext": {
   "main_language": "python",
   "text_representation": {
    "extension": ".py",
    "format_name": "percent",
    "format_version": "1.2",
    "jupytext_version": "1.0.0"
   }
  },
  "kernelspec": {
   "display_name": "Python [conda env:ncbi_remap]",
   "language": "python",
   "name": "conda-env-ncbi_remap-py"
  },
  "language_info": {
   "codemirror_mode": {
    "name": "ipython",
    "version": 3
   },
   "file_extension": ".py",
   "mimetype": "text/x-python",
   "name": "python",
   "nbconvert_exporter": "python",
   "pygments_lexer": "ipython3",
   "version": "3.6.5"
  }
 },
 "nbformat": 4,
 "nbformat_minor": 2
}
