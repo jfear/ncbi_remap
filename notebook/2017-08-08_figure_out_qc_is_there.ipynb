{
 "cells": [
  {
   "cell_type": "markdown",
   "metadata": {},
   "source": [
    "Before finalizing RNA-seq criteria, I need to make sure that all required fields are there and that they are correct."
   ]
  },
  {
   "cell_type": "code",
   "execution_count": 146,
   "metadata": {
    "code_folding": [
     0
    ],
    "collapsed": false
   },
   "outputs": [
    {
     "name": "stdout",
     "output_type": "stream",
     "text": [
      "last updated: 2017-08-09 \n",
      "Git hash: 89854bd82cfe77e4a14beea9ea78773bf6a8e113\n"
     ]
    }
   ],
   "source": [
    "# %load ../start.py\n",
    "# Load useful extensions\n",
    "\n",
    "# Activate the autoreload extension for easy reloading of external packages\n",
    "%reload_ext autoreload\n",
    "%autoreload 2\n",
    "\n",
    "# Trun on the water mark\n",
    "%reload_ext watermark\n",
    "%watermark -u -d -g\n",
    "\n",
    "# Load ipycache extension\n",
    "%reload_ext ipycache\n",
    "from ipycache import CacheMagics\n",
    "CacheMagics.cachedir = '../cachedir'\n",
    "\n",
    "# Add project library to path\n",
    "import sys\n",
    "sys.path.insert(0, '../../lib/python')\n",
    "\n",
    "# The usual suspects\n",
    "import os\n",
    "import numpy as np\n",
    "import pandas as pd\n",
    "\n",
    "# plotting\n",
    "import matplotlib as mpl\n",
    "import matplotlib.pyplot as plt\n",
    "import seaborn as sns\n",
    "\n",
    "%matplotlib inline\n",
    "sns.set_context('poster')\n",
    "\n",
    "# Turn off scientific notation\n",
    "np.set_printoptions(precision=5, suppress=True)"
   ]
  },
  {
   "cell_type": "code",
   "execution_count": 147,
   "metadata": {
    "code_folding": [],
    "collapsed": true
   },
   "outputs": [],
   "source": [
    "# %load ../../bin/load.py\n",
    "from pymongo import MongoClient\n",
    "with open('/home/fearjm/Projects/ncbi_remap/output/.mongodb_host', 'r') as fh:\n",
    "    host = fh.read().strip()\n",
    "client = MongoClient(host=host, port=27022)\n",
    "db = client['sra2']\n",
    "ncbi = db['ncbi']\n",
    "remap = db['remap']"
   ]
  },
  {
   "cell_type": "code",
   "execution_count": 148,
   "metadata": {
    "collapsed": true
   },
   "outputs": [],
   "source": [
    "# Other imports\n"
   ]
  },
  {
   "cell_type": "code",
   "execution_count": 149,
   "metadata": {
    "code_folding": [],
    "collapsed": false,
    "scrolled": false
   },
   "outputs": [],
   "source": [
    "# Grab NCBI annotation and make data frame. Will be useful for coloring.\n",
    "anno = pd.DataFrame(list(ncbi.aggregate([\n",
    "    {'$unwind': '$sra.experiment'},\n",
    "    {\n",
    "        '$match': {\n",
    "            'runs.srr': {\"$exists\": 1}\n",
    "        }\n",
    "    },\n",
    "    {'$unwind': '$runs'},\n",
    "    {\n",
    "        '$project': {\n",
    "            '_id': 0,\n",
    "            'srx': '$srx',\n",
    "            'srr': '$runs.srr',\n",
    "            'flag_annotated_rnaseq': {\n",
    "                '$cond': [\n",
    "                    {\n",
    "                        # A run is annotated as rnaseq if one of these is true\n",
    "                        '$and': [\n",
    "                            {'$eq': ['RNA-Seq', '$sra.experiment.library_strategy']},\n",
    "                            {'$eq': ['PolyA', '$sra.experiment.library_selection']},\n",
    "                        ]\n",
    "                    }, \n",
    "                    True, \n",
    "                    False\n",
    "                ], \n",
    "            }\n",
    "        }\n",
    "    }\n",
    "])))\n",
    "anno.set_index(['srx', 'srr'], inplace=True)"
   ]
  },
  {
   "cell_type": "code",
   "execution_count": 150,
   "metadata": {
    "code_folding": [
     0
    ],
    "collapsed": false
   },
   "outputs": [
    {
     "data": {
      "text/plain": [
       "['quality_scores_bad',\n",
       " 'download_bad',\n",
       " 'SE',\n",
       " 'keep_R2',\n",
       " 'first_strand',\n",
       " 'complete',\n",
       " 'unstranded',\n",
       " 'second_strand',\n",
       " 'PE',\n",
       " 'same_strand',\n",
       " 'opposite_strand',\n",
       " 'alignment_bad',\n",
       " 'keep_R1',\n",
       " 'abi_solid']"
      ]
     },
     "execution_count": 150,
     "metadata": {},
     "output_type": "execute_result"
    }
   ],
   "source": [
    "# List of pre-aln-flags\n",
    "[x['_id'] for x in remap.aggregate([\n",
    "    {'$unwind': '$runs'},\n",
    "    {\n",
    "        '$project': {\n",
    "            '_id': 0,\n",
    "            'flags': '$runs.pre_aln_flags'\n",
    "        }\n",
    "    },\n",
    "    {'$unwind': '$flags'},\n",
    "    {'$group': {'_id': '$flags'}}\n",
    "])]"
   ]
  },
  {
   "cell_type": "code",
   "execution_count": 151,
   "metadata": {
    "code_folding": [
     0
    ],
    "collapsed": false
   },
   "outputs": [],
   "source": [
    "# Output samples that have featurecounts. Require at lease 60% alignment\n",
    "df = pd.DataFrame(list(remap.aggregate([\n",
    "    {'$unwind': '$runs'},\n",
    "    {\n",
    "        '$match': {\n",
    "            'runs.pre_aln_workflow.hisat2.per_alignment': {'$gt': 60},\n",
    "            'runs.pre_aln_workflow.featurecounts.Assigned': {'$exists': 1},\n",
    "            'runs.pre_aln_workflow.featurecounts.Assigned_Junction': {'$exists': 1}\n",
    "        }\n",
    "    },\n",
    "    {\n",
    "        '$project': {\n",
    "            '_id': 0,\n",
    "            'srx': '$srx',\n",
    "            'srr': '$runs.srr',\n",
    "            'jcount': '$runs.pre_aln_workflow.featurecounts.Assigned_Junction',\n",
    "            'assigned': '$runs.pre_aln_workflow.featurecounts.Assigned',\n",
    "        }\n",
    "    }\n",
    "])))\n",
    "df.set_index(['srx', 'srr'], inplace=True)"
   ]
  },
  {
   "cell_type": "code",
   "execution_count": 152,
   "metadata": {
    "collapsed": false
   },
   "outputs": [
    {
     "name": "stdout",
     "output_type": "stream",
     "text": [
      "(16229, 2)\n"
     ]
    },
    {
     "data": {
      "text/html": [
       "<div>\n",
       "<table border=\"1\" class=\"dataframe\">\n",
       "  <thead>\n",
       "    <tr style=\"text-align: right;\">\n",
       "      <th></th>\n",
       "      <th></th>\n",
       "      <th>assigned</th>\n",
       "      <th>jcount</th>\n",
       "    </tr>\n",
       "    <tr>\n",
       "      <th>srx</th>\n",
       "      <th>srr</th>\n",
       "      <th></th>\n",
       "      <th></th>\n",
       "    </tr>\n",
       "  </thead>\n",
       "  <tbody>\n",
       "    <tr>\n",
       "      <th>SRX2541782</th>\n",
       "      <th>SRR5234256</th>\n",
       "      <td>21131907</td>\n",
       "      <td>1590150</td>\n",
       "    </tr>\n",
       "    <tr>\n",
       "      <th>SRX2541781</th>\n",
       "      <th>SRR5234255</th>\n",
       "      <td>32744849</td>\n",
       "      <td>2297273</td>\n",
       "    </tr>\n",
       "    <tr>\n",
       "      <th>SRX2541780</th>\n",
       "      <th>SRR5234254</th>\n",
       "      <td>29308155</td>\n",
       "      <td>2208976</td>\n",
       "    </tr>\n",
       "    <tr>\n",
       "      <th>SRX2541779</th>\n",
       "      <th>SRR5234253</th>\n",
       "      <td>28013703</td>\n",
       "      <td>2117793</td>\n",
       "    </tr>\n",
       "    <tr>\n",
       "      <th>SRX2541778</th>\n",
       "      <th>SRR5234252</th>\n",
       "      <td>25203517</td>\n",
       "      <td>1960569</td>\n",
       "    </tr>\n",
       "  </tbody>\n",
       "</table>\n",
       "</div>"
      ],
      "text/plain": [
       "                       assigned   jcount\n",
       "srx        srr                          \n",
       "SRX2541782 SRR5234256  21131907  1590150\n",
       "SRX2541781 SRR5234255  32744849  2297273\n",
       "SRX2541780 SRR5234254  29308155  2208976\n",
       "SRX2541779 SRR5234253  28013703  2117793\n",
       "SRX2541778 SRR5234252  25203517  1960569"
      ]
     },
     "execution_count": 152,
     "metadata": {},
     "output_type": "execute_result"
    }
   ],
   "source": [
    "print(df.shape)\n",
    "df.head()"
   ]
  },
  {
   "cell_type": "code",
   "execution_count": 153,
   "metadata": {
    "collapsed": true
   },
   "outputs": [],
   "source": [
    "# Calculate the proportion of \n",
    "prop_junc = df['jcount'] / df['assigned']"
   ]
  },
  {
   "cell_type": "code",
   "execution_count": 154,
   "metadata": {
    "collapsed": false
   },
   "outputs": [],
   "source": [
    "mask = prop_junc.index.isin(anno[anno.flag_annotated_rnaseq].index)"
   ]
  },
  {
   "cell_type": "code",
   "execution_count": 159,
   "metadata": {
    "collapsed": false
   },
   "outputs": [
    {
     "data": {
      "text/plain": [
       "115"
      ]
     },
     "execution_count": 159,
     "metadata": {},
     "output_type": "execute_result"
    }
   ],
   "source": [
    "sum(mask)"
   ]
  },
  {
   "cell_type": "code",
   "execution_count": null,
   "metadata": {
    "collapsed": true
   },
   "outputs": [],
   "source": []
  },
  {
   "cell_type": "code",
   "execution_count": 161,
   "metadata": {
    "collapsed": false
   },
   "outputs": [
    {
     "data": {
      "text/plain": [
       "<matplotlib.axes._subplots.AxesSubplot at 0x2aab2c5710f0>"
      ]
     },
     "execution_count": 161,
     "metadata": {},
     "output_type": "execute_result"
    },
    {
     "data": {
      "image/png": "[encoded data removed]",
      "text/plain": [
       "<matplotlib.figure.Figure at 0x2aab2c4c4198>"
      ]
     },
     "metadata": {},
     "output_type": "display_data"
    }
   ],
   "source": [
    "sns.distplot(np.log10(prop_junc))\n",
    "sns.distplot(np.log10(prop_junc[mask]), hist=False, kde=False, rug=True)"
   ]
  },
  {
   "cell_type": "code",
   "execution_count": null,
   "metadata": {
    "collapsed": true
   },
   "outputs": [],
   "source": []
  }
 ],
 "metadata": {
  "anaconda-cloud": {},
  "kernelspec": {
   "display_name": "Python [conda env:ncbi_remap]",
   "language": "python",
   "name": "conda-env-ncbi_remap-py"
  },
  "language_info": {
   "codemirror_mode": {
    "name": "ipython",
    "version": 3
   },
   "file_extension": ".py",
   "mimetype": "text/x-python",
   "name": "python",
   "nbconvert_exporter": "python",
   "pygments_lexer": "ipython3",
   "version": "3.5.3"
  },
  "nav_menu": {},
  "toc": {
   "navigate_menu": true,
   "number_sections": true,
   "sideBar": true,
   "threshold": 6,
   "toc_cell": false,
   "toc_section_display": "block",
   "toc_window_display": false
  }
 },
 "nbformat": 4,
 "nbformat_minor": 2
}
