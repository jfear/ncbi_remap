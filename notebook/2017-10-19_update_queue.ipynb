{
 "cells": [
  {
   "cell_type": "markdown",
   "metadata": {},
   "source": [
    "# Work on updating queue"
   ]
  },
  {
   "cell_type": "markdown",
   "metadata": {},
   "source": [
    "When running my updated workflows I need to update the queue by checking if the outputs are there and if they are to remove the samples from the queue."
   ]
  },
  {
   "cell_type": "code",
   "execution_count": 1,
   "metadata": {},
   "outputs": [
    {
     "name": "stdout",
     "output_type": "stream",
     "text": [
      "last updated: 2017-10-20 \n",
      "Git hash: 0cccc7b3c485cf7ec0f83945ebdc172b9d875143\n"
     ]
    }
   ],
   "source": [
    "# %load ../start.py\n",
    "# Load useful extensions\n",
    "\n",
    "# Activate the autoreload extension for easy reloading of external packages\n",
    "%reload_ext autoreload\n",
    "%autoreload 2\n",
    "\n",
    "# Trun on the water mark\n",
    "%reload_ext watermark\n",
    "%watermark -u -d -g\n",
    "\n",
    "# Load ipycache extension\n",
    "%reload_ext ipycache\n",
    "from ipycache import CacheMagics\n",
    "CacheMagics.cachedir = '../cachedir'\n",
    "\n",
    "# Add project library to path\n",
    "import sys\n",
    "sys.path.insert(0, '../../lib/python')\n",
    "\n",
    "# The usual suspects\n",
    "import os\n",
    "import numpy as np\n",
    "import pandas as pd\n",
    "\n",
    "# plotting\n",
    "import matplotlib as mpl\n",
    "import matplotlib.pyplot as plt\n",
    "import seaborn as sns\n",
    "\n",
    "%matplotlib inline\n",
    "sns.set_context('poster')\n",
    "\n",
    "# Turn off scientific notation\n",
    "np.set_printoptions(precision=5, suppress=True)\n"
   ]
  },
  {
   "cell_type": "code",
   "execution_count": 2,
   "metadata": {},
   "outputs": [],
   "source": [
    "# more imports\n",
    "from lcdblib.snakemake import helpers\n",
    "from lcdblib.utils import utils\n",
    "\n",
    "from ncbi_remap.io import remove_chunk, add_table"
   ]
  },
  {
   "cell_type": "code",
   "execution_count": 72,
   "metadata": {},
   "outputs": [],
   "source": [
    "store = pd.HDFStore('../../sra.h5')"
   ]
  },
  {
   "cell_type": "code",
   "execution_count": 73,
   "metadata": {},
   "outputs": [
    {
     "data": {
      "text/plain": [
       "<class 'pandas.io.pytables.HDFStore'>\n",
       "File path: ../../sra.h5\n",
       "/aln/alignment_bad                    frame_table  (typ->appendable,nrows->84,ncols->2,indexers->[index],dc->[srr,srx])   \n",
       "/aln/complete                         frame_table  (typ->appendable,nrows->15157,ncols->2,indexers->[index],dc->[srr,srx])\n",
       "/aln/queue                            frame_table  (typ->appendable,nrows->3,ncols->2,indexers->[index],dc->[srx,srr])    \n",
       "/ids                                  frame_table  (typ->appendable,nrows->35363,ncols->2,indexers->[index],dc->[srx,srr])\n",
       "/prealn/abi_solid                     frame_table  (typ->appendable,nrows->224,ncols->2,indexers->[index],dc->[srr,srx])  \n",
       "/prealn/alignment_bad                 frame_table  (typ->appendable,nrows->2242,ncols->2,indexers->[index],dc->[srr,srx]) \n",
       "/prealn/complete                      frame_table  (typ->appendable,nrows->22194,ncols->2,indexers->[index],dc->[srr,srx])\n",
       "/prealn/download_bad                  frame_table  (typ->appendable,nrows->72,ncols->2,indexers->[index],dc->[srr,srx])   \n",
       "/prealn/quality_scores_bad            frame_table  (typ->appendable,nrows->4,ncols->2,indexers->[index],dc->[srr,srx])    \n",
       "/prealn/queue                         frame_table  (typ->appendable,nrows->10629,ncols->2,indexers->[index])              \n",
       "/strand/unstranded                    frame_table  (typ->appendable,nrows->3,ncols->2,indexers->[index],dc->[srr,srx])    \n",
       "/test/queue                           frame_table  (typ->appendable,nrows->10631,ncols->2,indexers->[index],dc->[srx,srr])"
      ]
     },
     "execution_count": 73,
     "metadata": {},
     "output_type": "execute_result"
    }
   ],
   "source": [
    "store"
   ]
  },
  {
   "cell_type": "markdown",
   "metadata": {},
   "source": [
    "# Set up a test queue"
   ]
  },
  {
   "cell_type": "code",
   "execution_count": 24,
   "metadata": {},
   "outputs": [
    {
     "data": {
      "text/plain": [
       "/test/queue/table (Table(10632,)) ''\n",
       "  description := {\n",
       "  \"index\": Int64Col(shape=(), dflt=0, pos=0),\n",
       "  \"srx\": StringCol(itemsize=10, shape=(), dflt=b'', pos=1),\n",
       "  \"srr\": StringCol(itemsize=10, shape=(), dflt=b'', pos=2)}\n",
       "  byteorder := 'little'\n",
       "  chunkshape := (2340,)\n",
       "  autoindex := True\n",
       "  colindexes := {\n",
       "    \"srx\": Index(9, full, shuffle, zlib(1)).is_csi=True,\n",
       "    \"srr\": Index(9, full, shuffle, zlib(1)).is_csi=True}"
      ]
     },
     "execution_count": 24,
     "metadata": {},
     "output_type": "execute_result"
    }
   ],
   "source": [
    "# Create a test queue from the real queue\n",
    "queue = store['prealn/queue']\n",
    "add_table(store, 'test/queue', queue, force=True, columns='all')\n",
    "store.root.test.queue.table"
   ]
  },
  {
   "cell_type": "code",
   "execution_count": 5,
   "metadata": {},
   "outputs": [],
   "source": [
    "# get the number of rows\n",
    "orig = store['test/queue'].shape[0]"
   ]
  },
  {
   "cell_type": "markdown",
   "metadata": {},
   "source": [
    "# Update queue"
   ]
  },
  {
   "cell_type": "code",
   "execution_count": 6,
   "metadata": {},
   "outputs": [
    {
     "data": {
      "text/html": [
       "<div>\n",
       "<table border=\"1\" class=\"dataframe\">\n",
       "  <thead>\n",
       "    <tr style=\"text-align: right;\">\n",
       "      <th></th>\n",
       "      <th>srx</th>\n",
       "      <th>srr</th>\n",
       "    </tr>\n",
       "  </thead>\n",
       "  <tbody>\n",
       "    <tr>\n",
       "      <th>7</th>\n",
       "      <td>SRX2551010</td>\n",
       "      <td>SRR5244308</td>\n",
       "    </tr>\n",
       "    <tr>\n",
       "      <th>8</th>\n",
       "      <td>SRX2551009</td>\n",
       "      <td>SRR5244306</td>\n",
       "    </tr>\n",
       "    <tr>\n",
       "      <th>39</th>\n",
       "      <td>SRX2541752</td>\n",
       "      <td>SRR5234226</td>\n",
       "    </tr>\n",
       "    <tr>\n",
       "      <th>40</th>\n",
       "      <td>SRX2541751</td>\n",
       "      <td>SRR5234225</td>\n",
       "    </tr>\n",
       "    <tr>\n",
       "      <th>41</th>\n",
       "      <td>SRX2541750</td>\n",
       "      <td>SRR5234224</td>\n",
       "    </tr>\n",
       "    <tr>\n",
       "      <th>42</th>\n",
       "      <td>SRX2541749</td>\n",
       "      <td>SRR5234223</td>\n",
       "    </tr>\n",
       "    <tr>\n",
       "      <th>43</th>\n",
       "      <td>SRX2541748</td>\n",
       "      <td>SRR5234222</td>\n",
       "    </tr>\n",
       "    <tr>\n",
       "      <th>44</th>\n",
       "      <td>SRX2541747</td>\n",
       "      <td>SRR5234221</td>\n",
       "    </tr>\n",
       "    <tr>\n",
       "      <th>87</th>\n",
       "      <td>SRX062905</td>\n",
       "      <td>SRR206928</td>\n",
       "    </tr>\n",
       "    <tr>\n",
       "      <th>88</th>\n",
       "      <td>SRX039370</td>\n",
       "      <td>SRR206929</td>\n",
       "    </tr>\n",
       "  </tbody>\n",
       "</table>\n",
       "</div>"
      ],
      "text/plain": [
       "           srx         srr\n",
       "7   SRX2551010  SRR5244308\n",
       "8   SRX2551009  SRR5244306\n",
       "39  SRX2541752  SRR5234226\n",
       "40  SRX2541751  SRR5234225\n",
       "41  SRX2541750  SRR5234224\n",
       "42  SRX2541749  SRR5234223\n",
       "43  SRX2541748  SRR5234222\n",
       "44  SRX2541747  SRR5234221\n",
       "87   SRX062905   SRR206928\n",
       "88   SRX039370   SRR206929"
      ]
     },
     "execution_count": 6,
     "metadata": {},
     "output_type": "execute_result"
    }
   ],
   "source": [
    "# grab a list of ids from the queue. doing a small set for speed.\n",
    "ids = store['test/queue'].head(10)\n",
    "ids"
   ]
  },
  {
   "cell_type": "code",
   "execution_count": 7,
   "metadata": {},
   "outputs": [],
   "source": [
    "# functions and constants\n",
    "# patterns from workflow\n",
    "patterns = {\n",
    "    'fastq': {\n",
    "        'r1': '../../prealn-wf/output/samples/{srx}/{srr}/{srr}_1.fastq.gz',\n",
    "        'r2': '../../prealn-wf/output/samples/{srx}/{srr}/{srr}_2.fastq.gz',\n",
    "        'summary': '../../prealn-wf/output/samples/{srx}/{srr}/{srr}.fastq.tsv',\n",
    "    },\n",
    "    'layout': '../../prealn-wf/output/samples/{srx}/{srr}/LAYOUT',\n",
    "    'fastq_screen': '../../prealn-wf/output/samples/{srx}/{srr}/{srr}_1.fastq_screen.txt',\n",
    "    'fastqc': {\n",
    "        'html': '../../prealn-wf/output/samples/{srx}/{srr}/{srr}_1.fastqc.html',\n",
    "        'zip': '../../prealn-wf/output/samples/{srx}/{srr}/{srr}_1.fastqc.zip',\n",
    "    },\n",
    "    'atropos': {\n",
    "        'r1': '../../prealn-wf/output/samples/{srx}/{srr}/{srr}_1.trim.clean.fastq.gz',\n",
    "        'r2': '../../prealn-wf/output/samples/{srx}/{srr}/{srr}_2.trim.clean.fastq.gz',\n",
    "    },\n",
    "    'hisat2': {\n",
    "        'splice_sites': '../../prealn-wf/output/known_splice_sites_r6-11.txt',\n",
    "        'bam': '../../prealn-wf/output/samples/{srx}/{srr}/{srr}.hisat2.bam',\n",
    "        'summary': '../../prealn-wf/output/samples/{srx}/{srr}/{srr}.hisat2.bam.tsv',\n",
    "    },\n",
    "    'bai': '../../prealn-wf/output/samples/{srx}/{srr}/{srr}.hisat2.bam.bai',\n",
    "    'feature_counts': {\n",
    "        'counts': '../../prealn-wf/output/samples/{srx}/{srr}/{srr}.hisat2.bam.feature_counts.counts',\n",
    "        'jcounts': '../../prealn-wf/output/samples/{srx}/{srr}/{srr}.hisat2.bam.feature_counts.counts.jcounts',\n",
    "        'summary': '../../prealn-wf/output/samples/{srx}/{srr}/{srr}.hisat2.bam.feature_counts.counts.summary',\n",
    "    },\n",
    "    'picard': {\n",
    "        'collectrnaseqmetrics': {\n",
    "            'metrics': {\n",
    "                'unstranded': '../../prealn-wf/output/samples/{srx}/{srr}/{srr}.hisat2.bam.NONE.picard.collectrnaseqmetrics',\n",
    "                'first': '../../prealn-wf/output/samples/{srx}/{srr}/{srr}.hisat2.bam.FIRST_READ_TRANSCRIPTION_STRAND.picard.collectrnaseqmetrics',\n",
    "                'second': '../../prealn-wf/output/samples/{srx}/{srr}/{srr}.hisat2.bam.SECOND_READ_TRANSCRIPTION_STRAND.picard.collectrnaseqmetrics',\n",
    "            },\n",
    "        },\n",
    "        'markduplicates': {\n",
    "            'bam': '../../prealn-wf/output/samples/{srx}/{srr}/{srr}.hisat2.bam.picard.markduplicates.bam',\n",
    "            'metrics': '../../prealn-wf/output/samples/{srx}/{srr}/{srr}.hisat2.bam.picard.markduplicates.metrics',\n",
    "        },\n",
    "    },\n",
    "    'strand': '../../prealn-wf/output/samples/{srx}/{srr}/STRAND',\n",
    "    'samtools_stats': '../../prealn-wf/output/samples/{srx}/{srr}/{srr}.hisat2.bam.samtools.stats',\n",
    "    'samtools_idxstats': '../../prealn-wf/output/samples/{srx}/{srr}/{srr}.hisat2.bam.samtools.idxstats',\n",
    "    'bamtools_stats': '../../prealn-wf/output/samples/{srx}/{srr}/{srr}.hisat2.bam.bamtools.stats',\n",
    "}\n",
    "\n",
    "def keepers(targets):\n",
    "    \"\"\"These are files we want to keep from the workflow.\"\"\"\n",
    "    return [\n",
    "        targets['fastq_screen'],\n",
    "        targets['hisat2']['summary'],\n",
    "        targets['feature_counts']['summary'],\n",
    "        targets['samtools_stats'],\n",
    "        targets['samtools_idxstats'],\n",
    "        targets['bamtools_stats'],\n",
    "        targets['picard']['markduplicates']['metrics']\n",
    "    ]\n",
    "\n",
    "def check(srx, srr, targets):\n",
    "    \"\"\"Check if all files are present\"\"\"\n",
    "    for fname in utils.flatten(keepers(targets)):\n",
    "        if not os.path.exists(fname):\n",
    "            return\n",
    "    return srx, srr"
   ]
  },
  {
   "cell_type": "code",
   "execution_count": 8,
   "metadata": {},
   "outputs": [],
   "source": [
    "# Pull out samples that have all of the files.\n",
    "done = []\n",
    "for i, row in ids.iterrows():\n",
    "    srx, srr = row.srx, row.srr\n",
    "    targets = helpers.fill_patterns(patterns, row)\n",
    "    value = check(srx, srr, targets)\n",
    "    if value is not None:\n",
    "        done.append(value)\n",
    "\n",
    "df = pd.DataFrame(done, columns=['srx', 'srr'])"
   ]
  },
  {
   "cell_type": "code",
   "execution_count": 9,
   "metadata": {},
   "outputs": [],
   "source": [
    "# Remove samples for test queue\n",
    "remove_chunk(store, 'test/queue', df.srr.tolist())\n",
    "updated = store['test/queue'].shape[0]\n",
    "\n",
    "# make sure the test queue now is shorter than the origin queue\n",
    "assert df.shape[0] == (orig - updated)\n",
    "\n",
    "# Make sure the dropped srrs are no longer in the queue\n",
    "assert store['test/queue'].srr.isin(df.srr).any() == False"
   ]
  },
  {
   "cell_type": "code",
   "execution_count": 10,
   "metadata": {},
   "outputs": [],
   "source": [
    "# Add samples to test aln queue\n",
    "add_table(store, 'test/aln/queue', data=df)\n",
    "\n",
    "# test that adding keeps unique\n",
    "new = store['test/aln/queue'].shape[0]\n",
    "add_table(store, 'test/aln/queue', data=df)\n",
    "assert new == store['test/aln/queue'].shape[0]"
   ]
  },
  {
   "cell_type": "markdown",
   "metadata": {},
   "source": [
    "# Clean up"
   ]
  },
  {
   "cell_type": "code",
   "execution_count": 11,
   "metadata": {},
   "outputs": [],
   "source": [
    "# remove test\n",
    "store.remove('test')"
   ]
  },
  {
   "cell_type": "code",
   "execution_count": 12,
   "metadata": {},
   "outputs": [
    {
     "data": {
      "text/plain": [
       "\u001b[0;31mSignature:\u001b[0m \u001b[0madd_table\u001b[0m\u001b[0;34m(\u001b[0m\u001b[0mstore\u001b[0m\u001b[0;34m,\u001b[0m \u001b[0mkey\u001b[0m\u001b[0;34m,\u001b[0m \u001b[0mdata\u001b[0m\u001b[0;34m=\u001b[0m\u001b[0;32mNone\u001b[0m\u001b[0;34m,\u001b[0m \u001b[0mforce\u001b[0m\u001b[0;34m=\u001b[0m\u001b[0;32mNone\u001b[0m\u001b[0;34m,\u001b[0m \u001b[0;34m**\u001b[0m\u001b[0mkwargs\u001b[0m\u001b[0;34m)\u001b[0m\u001b[0;34m\u001b[0m\u001b[0m\n",
       "\u001b[0;31mDocstring:\u001b[0m\n",
       "Create a new HDF5 table.\n",
       "\n",
       "Adds a dataframe to an HDF5 store and creates an index.\n",
       "\n",
       "Parameters\n",
       "----------\n",
       "store : pd.io.pytables.HDFStore\n",
       "    The data store to save to.\n",
       "key : str\n",
       "    The path in the HDF5 store to save data to.\n",
       "data : pd.DataFrame\n",
       "    The data to store.\n",
       "force : bool\n",
       "    If True then delete the previous store if it exists.\n",
       "\u001b[0;31mFile:\u001b[0m      /spin1/users/fearjm/ncbi_remap/lib/python/ncbi_remap/io.py\n",
       "\u001b[0;31mType:\u001b[0m      function\n"
      ]
     },
     "metadata": {},
     "output_type": "display_data"
    }
   ],
   "source": [
    "add_table?"
   ]
  },
  {
   "cell_type": "code",
   "execution_count": 13,
   "metadata": {},
   "outputs": [
    {
     "data": {
      "text/plain": [
       "\u001b[0;31mSignature:\u001b[0m \u001b[0mremove_chunk\u001b[0m\u001b[0;34m(\u001b[0m\u001b[0mstore\u001b[0m\u001b[0;34m,\u001b[0m \u001b[0mkey\u001b[0m\u001b[0;34m,\u001b[0m \u001b[0msrrs\u001b[0m\u001b[0;34m,\u001b[0m \u001b[0;34m**\u001b[0m\u001b[0mkwargs\u001b[0m\u001b[0;34m)\u001b[0m\u001b[0;34m\u001b[0m\u001b[0m\n",
       "\u001b[0;31mDocstring:\u001b[0m\n",
       "Removes an ID to the ids data store.\n",
       "\n",
       "If the SRR is not in the current collection, then append the srx and srr.\n",
       "\n",
       "Parameters\n",
       "----------\n",
       "store : pd.io.pytables.HDFStore\n",
       "    The data store to save to.\n",
       "key : str\n",
       "    The path in the HDF5 store to save data to.\n",
       "srrs : list\n",
       "    A list of SRRs to remove.\n",
       "\u001b[0;31mFile:\u001b[0m      /spin1/users/fearjm/ncbi_remap/lib/python/ncbi_remap/io.py\n",
       "\u001b[0;31mType:\u001b[0m      function\n"
      ]
     },
     "metadata": {},
     "output_type": "display_data"
    }
   ],
   "source": [
    "remove_chunk?"
   ]
  },
  {
   "cell_type": "code",
   "execution_count": 14,
   "metadata": {},
   "outputs": [],
   "source": [
    "if None:\n",
    "    print('bob')"
   ]
  },
  {
   "cell_type": "code",
   "execution_count": 17,
   "metadata": {},
   "outputs": [],
   "source": [
    "sr = df.iloc[0]"
   ]
  },
  {
   "cell_type": "code",
   "execution_count": 18,
   "metadata": {},
   "outputs": [
    {
     "data": {
      "text/plain": [
       "{'srr': 'SRR5244308', 'srx': 'SRX2551010'}"
      ]
     },
     "execution_count": 18,
     "metadata": {},
     "output_type": "execute_result"
    }
   ],
   "source": [
    "sr.to_dict()"
   ]
  },
  {
   "cell_type": "code",
   "execution_count": null,
   "metadata": {},
   "outputs": [],
   "source": []
  },
  {
   "cell_type": "code",
   "execution_count": 26,
   "metadata": {},
   "outputs": [],
   "source": [
    "first = store['test/queue'].iloc[0]"
   ]
  },
  {
   "cell_type": "code",
   "execution_count": 28,
   "metadata": {},
   "outputs": [
    {
     "data": {
      "text/plain": [
       "srx    SRX2551010\n",
       "srr    SRR5244308\n",
       "Name: 7, dtype: object"
      ]
     },
     "execution_count": 28,
     "metadata": {},
     "output_type": "execute_result"
    }
   ],
   "source": [
    "first"
   ]
  },
  {
   "cell_type": "code",
   "execution_count": 27,
   "metadata": {},
   "outputs": [],
   "source": [
    "from ncbi_remap.io import remove_id"
   ]
  },
  {
   "cell_type": "code",
   "execution_count": 34,
   "metadata": {},
   "outputs": [],
   "source": [
    "remove_id(store, 'test/queue', **first.to_dict())"
   ]
  },
  {
   "cell_type": "code",
   "execution_count": 30,
   "metadata": {},
   "outputs": [],
   "source": [
    "kwargs = first.to_dict()"
   ]
  },
  {
   "cell_type": "code",
   "execution_count": 31,
   "metadata": {},
   "outputs": [
    {
     "data": {
      "text/plain": [
       "{'srr': 'SRR5244308', 'srx': 'SRX2551010'}"
      ]
     },
     "execution_count": 31,
     "metadata": {},
     "output_type": "execute_result"
    }
   ],
   "source": [
    "kwargs"
   ]
  },
  {
   "cell_type": "code",
   "execution_count": 33,
   "metadata": {},
   "outputs": [
    {
     "data": {
      "text/html": [
       "<div>\n",
       "<table border=\"1\" class=\"dataframe\">\n",
       "  <thead>\n",
       "    <tr style=\"text-align: right;\">\n",
       "      <th></th>\n",
       "      <th>srx</th>\n",
       "      <th>srr</th>\n",
       "    </tr>\n",
       "  </thead>\n",
       "  <tbody>\n",
       "    <tr>\n",
       "      <th>8</th>\n",
       "      <td>SRX2551009</td>\n",
       "      <td>SRR5244306</td>\n",
       "    </tr>\n",
       "    <tr>\n",
       "      <th>39</th>\n",
       "      <td>SRX2541752</td>\n",
       "      <td>SRR5234226</td>\n",
       "    </tr>\n",
       "    <tr>\n",
       "      <th>40</th>\n",
       "      <td>SRX2541751</td>\n",
       "      <td>SRR5234225</td>\n",
       "    </tr>\n",
       "    <tr>\n",
       "      <th>41</th>\n",
       "      <td>SRX2541750</td>\n",
       "      <td>SRR5234224</td>\n",
       "    </tr>\n",
       "    <tr>\n",
       "      <th>42</th>\n",
       "      <td>SRX2541749</td>\n",
       "      <td>SRR5234223</td>\n",
       "    </tr>\n",
       "    <tr>\n",
       "      <th>43</th>\n",
       "      <td>SRX2541748</td>\n",
       "      <td>SRR5234222</td>\n",
       "    </tr>\n",
       "    <tr>\n",
       "      <th>44</th>\n",
       "      <td>SRX2541747</td>\n",
       "      <td>SRR5234221</td>\n",
       "    </tr>\n",
       "    <tr>\n",
       "      <th>87</th>\n",
       "      <td>SRX062905</td>\n",
       "      <td>SRR206928</td>\n",
       "    </tr>\n",
       "    <tr>\n",
       "      <th>88</th>\n",
       "      <td>SRX039370</td>\n",
       "      <td>SRR206929</td>\n",
       "    </tr>\n",
       "    <tr>\n",
       "      <th>89</th>\n",
       "      <td>SRX062906</td>\n",
       "      <td>SRR206930</td>\n",
       "    </tr>\n",
       "    <tr>\n",
       "      <th>94</th>\n",
       "      <td>SRX2504296</td>\n",
       "      <td>SRR5188374</td>\n",
       "    </tr>\n",
       "    <tr>\n",
       "      <th>95</th>\n",
       "      <td>SRX2504295</td>\n",
       "      <td>SRR5188373</td>\n",
       "    </tr>\n",
       "    <tr>\n",
       "      <th>96</th>\n",
       "      <td>SRX2504294</td>\n",
       "      <td>SRR5188372</td>\n",
       "    </tr>\n",
       "    <tr>\n",
       "      <th>97</th>\n",
       "      <td>SRX2504293</td>\n",
       "      <td>SRR5188371</td>\n",
       "    </tr>\n",
       "    <tr>\n",
       "      <th>547</th>\n",
       "      <td>SRX2185137</td>\n",
       "      <td>SRR4289582</td>\n",
       "    </tr>\n",
       "    <tr>\n",
       "      <th>548</th>\n",
       "      <td>SRX2185136</td>\n",
       "      <td>SRR4289581</td>\n",
       "    </tr>\n",
       "    <tr>\n",
       "      <th>549</th>\n",
       "      <td>SRX2185135</td>\n",
       "      <td>SRR4289580</td>\n",
       "    </tr>\n",
       "    <tr>\n",
       "      <th>550</th>\n",
       "      <td>SRX2185134</td>\n",
       "      <td>SRR4289579</td>\n",
       "    </tr>\n",
       "    <tr>\n",
       "      <th>551</th>\n",
       "      <td>SRX2185133</td>\n",
       "      <td>SRR4289578</td>\n",
       "    </tr>\n",
       "    <tr>\n",
       "      <th>552</th>\n",
       "      <td>SRX2185132</td>\n",
       "      <td>SRR4289577</td>\n",
       "    </tr>\n",
       "    <tr>\n",
       "      <th>553</th>\n",
       "      <td>SRX2185131</td>\n",
       "      <td>SRR4289576</td>\n",
       "    </tr>\n",
       "    <tr>\n",
       "      <th>554</th>\n",
       "      <td>SRX2185130</td>\n",
       "      <td>SRR4289575</td>\n",
       "    </tr>\n",
       "    <tr>\n",
       "      <th>555</th>\n",
       "      <td>SRX2185129</td>\n",
       "      <td>SRR4289574</td>\n",
       "    </tr>\n",
       "    <tr>\n",
       "      <th>556</th>\n",
       "      <td>SRX2185128</td>\n",
       "      <td>SRR4289573</td>\n",
       "    </tr>\n",
       "    <tr>\n",
       "      <th>557</th>\n",
       "      <td>SRX2185127</td>\n",
       "      <td>SRR4289572</td>\n",
       "    </tr>\n",
       "    <tr>\n",
       "      <th>558</th>\n",
       "      <td>SRX2185126</td>\n",
       "      <td>SRR4289571</td>\n",
       "    </tr>\n",
       "    <tr>\n",
       "      <th>559</th>\n",
       "      <td>SRX2185125</td>\n",
       "      <td>SRR4289570</td>\n",
       "    </tr>\n",
       "    <tr>\n",
       "      <th>560</th>\n",
       "      <td>SRX2185124</td>\n",
       "      <td>SRR4289569</td>\n",
       "    </tr>\n",
       "    <tr>\n",
       "      <th>561</th>\n",
       "      <td>SRX2185123</td>\n",
       "      <td>SRR4289568</td>\n",
       "    </tr>\n",
       "    <tr>\n",
       "      <th>562</th>\n",
       "      <td>SRX2185122</td>\n",
       "      <td>SRR4289567</td>\n",
       "    </tr>\n",
       "    <tr>\n",
       "      <th>...</th>\n",
       "      <td>...</td>\n",
       "      <td>...</td>\n",
       "    </tr>\n",
       "    <tr>\n",
       "      <th>35333</th>\n",
       "      <td>SRX1161046</td>\n",
       "      <td>SRR2176854</td>\n",
       "    </tr>\n",
       "    <tr>\n",
       "      <th>35334</th>\n",
       "      <td>SRX1161045</td>\n",
       "      <td>SRR2176853</td>\n",
       "    </tr>\n",
       "    <tr>\n",
       "      <th>35335</th>\n",
       "      <td>SRX1161044</td>\n",
       "      <td>SRR2176852</td>\n",
       "    </tr>\n",
       "    <tr>\n",
       "      <th>35336</th>\n",
       "      <td>SRX1161043</td>\n",
       "      <td>SRR2176851</td>\n",
       "    </tr>\n",
       "    <tr>\n",
       "      <th>35337</th>\n",
       "      <td>SRX1161042</td>\n",
       "      <td>SRR2176850</td>\n",
       "    </tr>\n",
       "    <tr>\n",
       "      <th>35338</th>\n",
       "      <td>SRX1161041</td>\n",
       "      <td>SRR2176849</td>\n",
       "    </tr>\n",
       "    <tr>\n",
       "      <th>35339</th>\n",
       "      <td>SRX1161040</td>\n",
       "      <td>SRR2176848</td>\n",
       "    </tr>\n",
       "    <tr>\n",
       "      <th>35340</th>\n",
       "      <td>SRX1161039</td>\n",
       "      <td>SRR2176847</td>\n",
       "    </tr>\n",
       "    <tr>\n",
       "      <th>35341</th>\n",
       "      <td>SRX1161038</td>\n",
       "      <td>SRR2176846</td>\n",
       "    </tr>\n",
       "    <tr>\n",
       "      <th>35342</th>\n",
       "      <td>SRX1161037</td>\n",
       "      <td>SRR2176845</td>\n",
       "    </tr>\n",
       "    <tr>\n",
       "      <th>35343</th>\n",
       "      <td>SRX1161036</td>\n",
       "      <td>SRR2176844</td>\n",
       "    </tr>\n",
       "    <tr>\n",
       "      <th>35344</th>\n",
       "      <td>SRX1161035</td>\n",
       "      <td>SRR2176843</td>\n",
       "    </tr>\n",
       "    <tr>\n",
       "      <th>35345</th>\n",
       "      <td>SRX1161034</td>\n",
       "      <td>SRR2176842</td>\n",
       "    </tr>\n",
       "    <tr>\n",
       "      <th>35346</th>\n",
       "      <td>SRX1161033</td>\n",
       "      <td>SRR2176841</td>\n",
       "    </tr>\n",
       "    <tr>\n",
       "      <th>35347</th>\n",
       "      <td>SRX1161032</td>\n",
       "      <td>SRR2176840</td>\n",
       "    </tr>\n",
       "    <tr>\n",
       "      <th>35348</th>\n",
       "      <td>SRX1161031</td>\n",
       "      <td>SRR2176839</td>\n",
       "    </tr>\n",
       "    <tr>\n",
       "      <th>35349</th>\n",
       "      <td>SRX1161030</td>\n",
       "      <td>SRR2176838</td>\n",
       "    </tr>\n",
       "    <tr>\n",
       "      <th>35350</th>\n",
       "      <td>SRX1161029</td>\n",
       "      <td>SRR2176837</td>\n",
       "    </tr>\n",
       "    <tr>\n",
       "      <th>35351</th>\n",
       "      <td>SRX1161028</td>\n",
       "      <td>SRR2176836</td>\n",
       "    </tr>\n",
       "    <tr>\n",
       "      <th>35352</th>\n",
       "      <td>SRX1161027</td>\n",
       "      <td>SRR2176835</td>\n",
       "    </tr>\n",
       "    <tr>\n",
       "      <th>35353</th>\n",
       "      <td>SRX1161026</td>\n",
       "      <td>SRR2176834</td>\n",
       "    </tr>\n",
       "    <tr>\n",
       "      <th>35354</th>\n",
       "      <td>SRX1161025</td>\n",
       "      <td>SRR2176833</td>\n",
       "    </tr>\n",
       "    <tr>\n",
       "      <th>35355</th>\n",
       "      <td>SRX1161024</td>\n",
       "      <td>SRR2176832</td>\n",
       "    </tr>\n",
       "    <tr>\n",
       "      <th>35356</th>\n",
       "      <td>SRX1161023</td>\n",
       "      <td>SRR2176831</td>\n",
       "    </tr>\n",
       "    <tr>\n",
       "      <th>35357</th>\n",
       "      <td>SRX1161022</td>\n",
       "      <td>SRR2176830</td>\n",
       "    </tr>\n",
       "    <tr>\n",
       "      <th>35358</th>\n",
       "      <td>SRX1161021</td>\n",
       "      <td>SRR2176829</td>\n",
       "    </tr>\n",
       "    <tr>\n",
       "      <th>35359</th>\n",
       "      <td>SRX1161020</td>\n",
       "      <td>SRR2176828</td>\n",
       "    </tr>\n",
       "    <tr>\n",
       "      <th>35360</th>\n",
       "      <td>SRX1161019</td>\n",
       "      <td>SRR2176827</td>\n",
       "    </tr>\n",
       "    <tr>\n",
       "      <th>35361</th>\n",
       "      <td>SRX1161018</td>\n",
       "      <td>SRR2176826</td>\n",
       "    </tr>\n",
       "    <tr>\n",
       "      <th>35362</th>\n",
       "      <td>SRX1161017</td>\n",
       "      <td>SRR2176825</td>\n",
       "    </tr>\n",
       "  </tbody>\n",
       "</table>\n",
       "<p>10631 rows × 2 columns</p>\n",
       "</div>"
      ],
      "text/plain": [
       "              srx         srr\n",
       "8      SRX2551009  SRR5244306\n",
       "39     SRX2541752  SRR5234226\n",
       "40     SRX2541751  SRR5234225\n",
       "41     SRX2541750  SRR5234224\n",
       "42     SRX2541749  SRR5234223\n",
       "43     SRX2541748  SRR5234222\n",
       "44     SRX2541747  SRR5234221\n",
       "87      SRX062905   SRR206928\n",
       "88      SRX039370   SRR206929\n",
       "89      SRX062906   SRR206930\n",
       "94     SRX2504296  SRR5188374\n",
       "95     SRX2504295  SRR5188373\n",
       "96     SRX2504294  SRR5188372\n",
       "97     SRX2504293  SRR5188371\n",
       "547    SRX2185137  SRR4289582\n",
       "548    SRX2185136  SRR4289581\n",
       "549    SRX2185135  SRR4289580\n",
       "550    SRX2185134  SRR4289579\n",
       "551    SRX2185133  SRR4289578\n",
       "552    SRX2185132  SRR4289577\n",
       "553    SRX2185131  SRR4289576\n",
       "554    SRX2185130  SRR4289575\n",
       "555    SRX2185129  SRR4289574\n",
       "556    SRX2185128  SRR4289573\n",
       "557    SRX2185127  SRR4289572\n",
       "558    SRX2185126  SRR4289571\n",
       "559    SRX2185125  SRR4289570\n",
       "560    SRX2185124  SRR4289569\n",
       "561    SRX2185123  SRR4289568\n",
       "562    SRX2185122  SRR4289567\n",
       "...           ...         ...\n",
       "35333  SRX1161046  SRR2176854\n",
       "35334  SRX1161045  SRR2176853\n",
       "35335  SRX1161044  SRR2176852\n",
       "35336  SRX1161043  SRR2176851\n",
       "35337  SRX1161042  SRR2176850\n",
       "35338  SRX1161041  SRR2176849\n",
       "35339  SRX1161040  SRR2176848\n",
       "35340  SRX1161039  SRR2176847\n",
       "35341  SRX1161038  SRR2176846\n",
       "35342  SRX1161037  SRR2176845\n",
       "35343  SRX1161036  SRR2176844\n",
       "35344  SRX1161035  SRR2176843\n",
       "35345  SRX1161034  SRR2176842\n",
       "35346  SRX1161033  SRR2176841\n",
       "35347  SRX1161032  SRR2176840\n",
       "35348  SRX1161031  SRR2176839\n",
       "35349  SRX1161030  SRR2176838\n",
       "35350  SRX1161029  SRR2176837\n",
       "35351  SRX1161028  SRR2176836\n",
       "35352  SRX1161027  SRR2176835\n",
       "35353  SRX1161026  SRR2176834\n",
       "35354  SRX1161025  SRR2176833\n",
       "35355  SRX1161024  SRR2176832\n",
       "35356  SRX1161023  SRR2176831\n",
       "35357  SRX1161022  SRR2176830\n",
       "35358  SRX1161021  SRR2176829\n",
       "35359  SRX1161020  SRR2176828\n",
       "35360  SRX1161019  SRR2176827\n",
       "35361  SRX1161018  SRR2176826\n",
       "35362  SRX1161017  SRR2176825\n",
       "\n",
       "[10631 rows x 2 columns]"
      ]
     },
     "execution_count": 33,
     "metadata": {},
     "output_type": "execute_result"
    }
   ],
   "source": [
    "store['test/queue']"
   ]
  },
  {
   "cell_type": "code",
   "execution_count": 41,
   "metadata": {},
   "outputs": [
    {
     "data": {
      "text/plain": [
       "/strand/unstranded/table (Table(2,)) ''\n",
       "  description := {\n",
       "  \"index\": Int64Col(shape=(), dflt=0, pos=0),\n",
       "  \"srr\": StringCol(itemsize=10, shape=(), dflt=b'', pos=1),\n",
       "  \"srx\": StringCol(itemsize=10, shape=(), dflt=b'', pos=2)}\n",
       "  byteorder := 'little'\n",
       "  chunkshape := (2340,)\n",
       "  autoindex := True\n",
       "  colindexes := {\n",
       "    \"srx\": Index(9, full, shuffle, zlib(1)).is_csi=True,\n",
       "    \"srr\": Index(9, full, shuffle, zlib(1)).is_csi=True}"
      ]
     },
     "execution_count": 41,
     "metadata": {},
     "output_type": "execute_result"
    }
   ],
   "source": [
    "store.root.strand.unstranded.table"
   ]
  },
  {
   "cell_type": "code",
   "execution_count": 47,
   "metadata": {},
   "outputs": [],
   "source": [
    "bob = store['strand/unstranded'].iloc[0].to_frame().T"
   ]
  },
  {
   "cell_type": "code",
   "execution_count": 49,
   "metadata": {},
   "outputs": [
    {
     "ename": "ValueError",
     "evalue": "cannot compute isin with a duplicate axis.",
     "output_type": "error",
     "traceback": [
      "\u001b[0;31m---------------------------------------------------------------------------\u001b[0m",
      "\u001b[0;31mValueError\u001b[0m                                Traceback (most recent call last)",
      "\u001b[0;32m<ipython-input-49-0642c431285a>\u001b[0m in \u001b[0;36m<module>\u001b[0;34m()\u001b[0m\n\u001b[0;32m----> 1\u001b[0;31m \u001b[0mbob\u001b[0m\u001b[0;34m.\u001b[0m\u001b[0misin\u001b[0m\u001b[0;34m(\u001b[0m\u001b[0mstore\u001b[0m\u001b[0;34m[\u001b[0m\u001b[0;34m'strand/unstranded'\u001b[0m\u001b[0;34m]\u001b[0m\u001b[0;34m)\u001b[0m\u001b[0;34m\u001b[0m\u001b[0m\n\u001b[0m",
      "\u001b[0;32m/data/fearjm/miniconda3/envs/ncbi_remap/lib/python3.5/site-packages/pandas/core/frame.py\u001b[0m in \u001b[0;36misin\u001b[0;34m(self, values)\u001b[0m\n\u001b[1;32m   5311\u001b[0m         \u001b[0;32melif\u001b[0m \u001b[0misinstance\u001b[0m\u001b[0;34m(\u001b[0m\u001b[0mvalues\u001b[0m\u001b[0;34m,\u001b[0m \u001b[0mDataFrame\u001b[0m\u001b[0;34m)\u001b[0m\u001b[0;34m:\u001b[0m\u001b[0;34m\u001b[0m\u001b[0m\n\u001b[1;32m   5312\u001b[0m             \u001b[0;32mif\u001b[0m \u001b[0;32mnot\u001b[0m \u001b[0;34m(\u001b[0m\u001b[0mvalues\u001b[0m\u001b[0;34m.\u001b[0m\u001b[0mcolumns\u001b[0m\u001b[0;34m.\u001b[0m\u001b[0mis_unique\u001b[0m \u001b[0;32mand\u001b[0m \u001b[0mvalues\u001b[0m\u001b[0;34m.\u001b[0m\u001b[0mindex\u001b[0m\u001b[0;34m.\u001b[0m\u001b[0mis_unique\u001b[0m\u001b[0;34m)\u001b[0m\u001b[0;34m:\u001b[0m\u001b[0;34m\u001b[0m\u001b[0m\n\u001b[0;32m-> 5313\u001b[0;31m                 raise ValueError(\"cannot compute isin with \"\n\u001b[0m\u001b[1;32m   5314\u001b[0m                                  \"a duplicate axis.\")\n\u001b[1;32m   5315\u001b[0m             \u001b[0;32mreturn\u001b[0m \u001b[0mself\u001b[0m\u001b[0;34m.\u001b[0m\u001b[0meq\u001b[0m\u001b[0;34m(\u001b[0m\u001b[0mvalues\u001b[0m\u001b[0;34m.\u001b[0m\u001b[0mreindex_like\u001b[0m\u001b[0;34m(\u001b[0m\u001b[0mself\u001b[0m\u001b[0;34m)\u001b[0m\u001b[0;34m)\u001b[0m\u001b[0;34m\u001b[0m\u001b[0m\n",
      "\u001b[0;31mValueError\u001b[0m: cannot compute isin with a duplicate axis."
     ]
    }
   ],
   "source": [
    "bob.isin(store['strand/unstranded'])"
   ]
  },
  {
   "cell_type": "code",
   "execution_count": 55,
   "metadata": {},
   "outputs": [],
   "source": [
    "bob.index = [10]"
   ]
  },
  {
   "cell_type": "code",
   "execution_count": 64,
   "metadata": {},
   "outputs": [
    {
     "data": {
      "text/html": [
       "<div>\n",
       "<table border=\"1\" class=\"dataframe\">\n",
       "  <thead>\n",
       "    <tr style=\"text-align: right;\">\n",
       "      <th></th>\n",
       "      <th>srr</th>\n",
       "      <th>srx</th>\n",
       "    </tr>\n",
       "  </thead>\n",
       "  <tbody>\n",
       "    <tr>\n",
       "      <th>0</th>\n",
       "      <td>True</td>\n",
       "      <td>True</td>\n",
       "    </tr>\n",
       "    <tr>\n",
       "      <th>0</th>\n",
       "      <td>False</td>\n",
       "      <td>False</td>\n",
       "    </tr>\n",
       "  </tbody>\n",
       "</table>\n",
       "</div>"
      ],
      "text/plain": [
       "     srr    srx\n",
       "0   True   True\n",
       "0  False  False"
      ]
     },
     "execution_count": 64,
     "metadata": {},
     "output_type": "execute_result"
    }
   ],
   "source": [
    "store['strand/unstranded'].isin(bob.to_dict('list'))"
   ]
  },
  {
   "cell_type": "code",
   "execution_count": 63,
   "metadata": {},
   "outputs": [
    {
     "data": {
      "text/plain": [
       "{'srr': ['SRR5244308'], 'srx': ['SRX2551010']}"
      ]
     },
     "execution_count": 63,
     "metadata": {},
     "output_type": "execute_result"
    }
   ],
   "source": [
    "bob.to_dict('list')"
   ]
  },
  {
   "cell_type": "code",
   "execution_count": 65,
   "metadata": {},
   "outputs": [
    {
     "data": {
      "text/html": [
       "<div>\n",
       "<table border=\"1\" class=\"dataframe\">\n",
       "  <thead>\n",
       "    <tr style=\"text-align: right;\">\n",
       "      <th></th>\n",
       "      <th>srr</th>\n",
       "      <th>srx</th>\n",
       "    </tr>\n",
       "  </thead>\n",
       "  <tbody>\n",
       "    <tr>\n",
       "      <th>10</th>\n",
       "      <td>True</td>\n",
       "      <td>True</td>\n",
       "    </tr>\n",
       "  </tbody>\n",
       "</table>\n",
       "</div>"
      ],
      "text/plain": [
       "     srr   srx\n",
       "10  True  True"
      ]
     },
     "execution_count": 65,
     "metadata": {},
     "output_type": "execute_result"
    }
   ],
   "source": [
    "bob.isin(store['strand/unstranded'].to_dict('list'))"
   ]
  },
  {
   "cell_type": "code",
   "execution_count": 70,
   "metadata": {},
   "outputs": [],
   "source": [
    "store.remove('aln/queue')"
   ]
  },
  {
   "cell_type": "code",
   "execution_count": 71,
   "metadata": {},
   "outputs": [],
   "source": [
    "store.close()"
   ]
  },
  {
   "cell_type": "code",
   "execution_count": null,
   "metadata": {},
   "outputs": [],
   "source": []
  }
 ],
 "metadata": {
  "kernelspec": {
   "display_name": "Python [conda env:ncbi_remap]",
   "language": "python",
   "name": "conda-env-ncbi_remap-py"
  },
  "language_info": {
   "codemirror_mode": {
    "name": "ipython",
    "version": 3
   },
   "file_extension": ".py",
   "mimetype": "text/x-python",
   "name": "python",
   "nbconvert_exporter": "python",
   "pygments_lexer": "ipython3",
   "version": "3.5.3"
  }
 },
 "nbformat": 4,
 "nbformat_minor": 2
}
