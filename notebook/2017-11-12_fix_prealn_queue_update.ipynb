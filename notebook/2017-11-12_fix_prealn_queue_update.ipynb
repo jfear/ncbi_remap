{
 "cells": [
  {
   "cell_type": "markdown",
   "metadata": {},
   "source": [
    "I am getting this error:\n",
    "\n",
    "```\n",
    "RuleException:\n",
    "ValueError in line 146 of /gpfs/gsfs6/users/MiegNCBI/ncbi_remap/prealn-wf/Snakefile:\n",
    "The passed where expression: srr == SRR2176824 & srx == SRX1161016\n",
    "            contains an invalid variable reference\n",
    "            all of the variable refrences must be a reference to\n",
    "            an axis (e.g. 'index' or 'columns'), or a data_column\n",
    "            The currently defined references are: index,columns\n",
    "\n",
    "  File \"/gpfs/gsfs6/users/MiegNCBI/ncbi_remap/prealn-wf/Snakefile\", line 146, in __rule_update_queue\n",
    "  File \"../lib/python/ncbi_remap/snakemake.py\", line 60, in check_download\n",
    "  File \"../lib/python/ncbi_remap/io.py\", line 105, in remove_id\n",
    "  File \"/data/fearjm/miniconda3/envs/ncbi_remap/lib/python3.5/site-packages/pandas/io/pytables.py\", line 941, in remove\n",
    "  File \"/data/fearjm/miniconda3/envs/ncbi_remap/lib/python3.5/site-packages/pandas/io/pytables.py\", line 4065, in delete\n",
    "  File \"/data/fearjm/miniconda3/envs/ncbi_remap/lib/python3.5/site-packages/pandas/io/pytables.py\", line 4685, in __init__\n",
    "  File \"/data/fearjm/miniconda3/envs/ncbi_remap/lib/python3.5/site-packages/pandas/io/pytables.py\", line 4710, in generate\n",
    "  File \"/data/fearjm/miniconda3/envs/ncbi_remap/lib/python3.5/concurrent/futures/thread.py\", line 55, in run\n",
    "  \n",
    "```\n",
    "\n",
    "I need to check the queue and make sure the query is working."
   ]
  },
  {
   "cell_type": "code",
   "execution_count": 4,
   "metadata": {},
   "outputs": [],
   "source": [
    "import sys\n",
    "from tempfile import NamedTemporaryFile\n",
    "\n",
    "import pandas as pd\n",
    "\n",
    "sys.path.insert(0, '../../lib/python')\n",
    "from ncbi_remap.io import add_data_columns"
   ]
  },
  {
   "cell_type": "code",
   "execution_count": 1,
   "metadata": {},
   "outputs": [
    {
     "data": {
      "text/plain": [
       "/prealn/queue/table (Table(9190,), shuffle, blosc(9)) ''\n",
       "  description := {\n",
       "  \"index\": Int64Col(shape=(), dflt=0, pos=0),\n",
       "  \"values_block_0\": StringCol(itemsize=10, shape=(2,), dflt=b'', pos=1)}\n",
       "  byteorder := 'little'\n",
       "  chunkshape := (2340,)\n",
       "  autoindex := True\n",
       "  colindexes := {\n",
       "    \"index\": Index(6, medium, shuffle, zlib(1)).is_csi=False}"
      ]
     },
     "execution_count": 1,
     "metadata": {},
     "output_type": "execute_result"
    }
   ],
   "source": [
    "store = pd.HDFStore('../../sra.h5')\n",
    "store.root.prealn.queue.table"
   ]
  },
  {
   "cell_type": "markdown",
   "metadata": {},
   "source": [
    "It looks like the srr/srx columns are no longer indexed."
   ]
  },
  {
   "cell_type": "code",
   "execution_count": 5,
   "metadata": {},
   "outputs": [
    {
     "data": {
      "text/html": [
       "<div>\n",
       "<style>\n",
       "    .dataframe thead tr:only-child th {\n",
       "        text-align: right;\n",
       "    }\n",
       "\n",
       "    .dataframe thead th {\n",
       "        text-align: left;\n",
       "    }\n",
       "\n",
       "    .dataframe tbody tr th {\n",
       "        vertical-align: top;\n",
       "    }\n",
       "</style>\n",
       "<table border=\"1\" class=\"dataframe\">\n",
       "  <thead>\n",
       "    <tr style=\"text-align: right;\">\n",
       "      <th></th>\n",
       "      <th>srx</th>\n",
       "      <th>srr</th>\n",
       "    </tr>\n",
       "  </thead>\n",
       "  <tbody>\n",
       "    <tr>\n",
       "      <th>873</th>\n",
       "      <td>SRX1968328</td>\n",
       "      <td>SRR3939099</td>\n",
       "    </tr>\n",
       "    <tr>\n",
       "      <th>874</th>\n",
       "      <td>SRX1968327</td>\n",
       "      <td>SRR3939098</td>\n",
       "    </tr>\n",
       "    <tr>\n",
       "      <th>875</th>\n",
       "      <td>SRX1968326</td>\n",
       "      <td>SRR3939097</td>\n",
       "    </tr>\n",
       "    <tr>\n",
       "      <th>876</th>\n",
       "      <td>SRX1968325</td>\n",
       "      <td>SRR3939096</td>\n",
       "    </tr>\n",
       "    <tr>\n",
       "      <th>877</th>\n",
       "      <td>SRX1968324</td>\n",
       "      <td>SRR3939095</td>\n",
       "    </tr>\n",
       "  </tbody>\n",
       "</table>\n",
       "</div>"
      ],
      "text/plain": [
       "            srx         srr\n",
       "873  SRX1968328  SRR3939099\n",
       "874  SRX1968327  SRR3939098\n",
       "875  SRX1968326  SRR3939097\n",
       "876  SRX1968325  SRR3939096\n",
       "877  SRX1968324  SRR3939095"
      ]
     },
     "execution_count": 5,
     "metadata": {},
     "output_type": "execute_result"
    }
   ],
   "source": [
    "store['prealn/queue'].head()"
   ]
  },
  {
   "cell_type": "markdown",
   "metadata": {},
   "source": [
    "I have two options: (1) re-build the queue with data_columns, (2) re-build the queue setting srx and srr as the index. I think (1) is the easiest solution because I have written all of the code to work with the queues the way they are. However, if I repack I will potentially run into this issue again. If I choose (2) I may break a bunch of stuff, but repacking should be ok."
   ]
  },
  {
   "cell_type": "markdown",
   "metadata": {},
   "source": [
    "Make a quick test and see how well things playout."
   ]
  },
  {
   "cell_type": "code",
   "execution_count": 45,
   "metadata": {},
   "outputs": [],
   "source": [
    "tmp = NamedTemporaryFile()\n",
    "store_tmp = pd.HDFStore(tmp.name, mode='w')"
   ]
  },
  {
   "cell_type": "code",
   "execution_count": 46,
   "metadata": {},
   "outputs": [
    {
     "data": {
      "text/html": [
       "<div>\n",
       "<style>\n",
       "    .dataframe thead tr:only-child th {\n",
       "        text-align: right;\n",
       "    }\n",
       "\n",
       "    .dataframe thead th {\n",
       "        text-align: left;\n",
       "    }\n",
       "\n",
       "    .dataframe tbody tr th {\n",
       "        vertical-align: top;\n",
       "    }\n",
       "</style>\n",
       "<table border=\"1\" class=\"dataframe\">\n",
       "  <thead>\n",
       "    <tr style=\"text-align: right;\">\n",
       "      <th></th>\n",
       "      <th>srx</th>\n",
       "    </tr>\n",
       "    <tr>\n",
       "      <th>srr</th>\n",
       "      <th></th>\n",
       "    </tr>\n",
       "  </thead>\n",
       "  <tbody>\n",
       "    <tr>\n",
       "      <th>SRR3939099</th>\n",
       "      <td>SRX1968328</td>\n",
       "    </tr>\n",
       "    <tr>\n",
       "      <th>SRR3939098</th>\n",
       "      <td>SRX1968327</td>\n",
       "    </tr>\n",
       "    <tr>\n",
       "      <th>SRR3939097</th>\n",
       "      <td>SRX1968326</td>\n",
       "    </tr>\n",
       "    <tr>\n",
       "      <th>SRR3939096</th>\n",
       "      <td>SRX1968325</td>\n",
       "    </tr>\n",
       "    <tr>\n",
       "      <th>SRR3939095</th>\n",
       "      <td>SRX1968324</td>\n",
       "    </tr>\n",
       "  </tbody>\n",
       "</table>\n",
       "</div>"
      ],
      "text/plain": [
       "                   srx\n",
       "srr                   \n",
       "SRR3939099  SRX1968328\n",
       "SRR3939098  SRX1968327\n",
       "SRR3939097  SRX1968326\n",
       "SRR3939096  SRX1968325\n",
       "SRR3939095  SRX1968324"
      ]
     },
     "execution_count": 46,
     "metadata": {},
     "output_type": "execute_result"
    }
   ],
   "source": [
    "df = store['prealn/queue']\n",
    "df.set_index('srr', inplace=True)\n",
    "df.head()"
   ]
  },
  {
   "cell_type": "code",
   "execution_count": 54,
   "metadata": {},
   "outputs": [
    {
     "name": "stdout",
     "output_type": "stream",
     "text": [
      "Yes using indexes screws up code.\n"
     ]
    }
   ],
   "source": [
    "store_tmp.append('test/queue', df)\n",
    "\n",
    "try:\n",
    "    store_tmp['test/queue'].srr\n",
    "except AttributeError:\n",
    "    print('Yes using indexes screws up pulling out srr.')"
   ]
  },
  {
   "cell_type": "markdown",
   "metadata": {},
   "source": [
    "That did not work. I will use option (1) and just reset the data_columns."
   ]
  },
  {
   "cell_type": "markdown",
   "metadata": {},
   "source": [
    "### Do a little test"
   ]
  },
  {
   "cell_type": "code",
   "execution_count": 58,
   "metadata": {},
   "outputs": [
    {
     "data": {
      "text/html": [
       "<div>\n",
       "<style>\n",
       "    .dataframe thead tr:only-child th {\n",
       "        text-align: right;\n",
       "    }\n",
       "\n",
       "    .dataframe thead th {\n",
       "        text-align: left;\n",
       "    }\n",
       "\n",
       "    .dataframe tbody tr th {\n",
       "        vertical-align: top;\n",
       "    }\n",
       "</style>\n",
       "<table border=\"1\" class=\"dataframe\">\n",
       "  <thead>\n",
       "    <tr style=\"text-align: right;\">\n",
       "      <th></th>\n",
       "      <th>srr</th>\n",
       "      <th>srx</th>\n",
       "    </tr>\n",
       "  </thead>\n",
       "  <tbody>\n",
       "    <tr>\n",
       "      <th>0</th>\n",
       "      <td>SRR3939099</td>\n",
       "      <td>SRX1968328</td>\n",
       "    </tr>\n",
       "    <tr>\n",
       "      <th>1</th>\n",
       "      <td>SRR3939098</td>\n",
       "      <td>SRX1968327</td>\n",
       "    </tr>\n",
       "    <tr>\n",
       "      <th>2</th>\n",
       "      <td>SRR3939097</td>\n",
       "      <td>SRX1968326</td>\n",
       "    </tr>\n",
       "    <tr>\n",
       "      <th>3</th>\n",
       "      <td>SRR3939096</td>\n",
       "      <td>SRX1968325</td>\n",
       "    </tr>\n",
       "    <tr>\n",
       "      <th>4</th>\n",
       "      <td>SRR3939095</td>\n",
       "      <td>SRX1968324</td>\n",
       "    </tr>\n",
       "  </tbody>\n",
       "</table>\n",
       "</div>"
      ],
      "text/plain": [
       "          srr         srx\n",
       "0  SRR3939099  SRX1968328\n",
       "1  SRR3939098  SRX1968327\n",
       "2  SRR3939097  SRX1968326\n",
       "3  SRR3939096  SRX1968325\n",
       "4  SRR3939095  SRX1968324"
      ]
     },
     "execution_count": 58,
     "metadata": {},
     "output_type": "execute_result"
    }
   ],
   "source": [
    "store_tmp.append('test/queue', df.reset_index(), append=False)\n",
    "store_tmp['test/queue'].head()"
   ]
  },
  {
   "cell_type": "code",
   "execution_count": 59,
   "metadata": {},
   "outputs": [
    {
     "data": {
      "text/plain": [
       "/test/queue/table (Table(9190,)) ''\n",
       "  description := {\n",
       "  \"index\": Int64Col(shape=(), dflt=0, pos=0),\n",
       "  \"values_block_0\": StringCol(itemsize=10, shape=(2,), dflt=b'', pos=1)}\n",
       "  byteorder := 'little'\n",
       "  chunkshape := (2340,)\n",
       "  autoindex := True\n",
       "  colindexes := {\n",
       "    \"index\": Index(6, medium, shuffle, zlib(1)).is_csi=False}"
      ]
     },
     "execution_count": 59,
     "metadata": {},
     "output_type": "execute_result"
    }
   ],
   "source": [
    "store_tmp.root.test.queue.table"
   ]
  },
  {
   "cell_type": "code",
   "execution_count": 60,
   "metadata": {},
   "outputs": [],
   "source": [
    "add_data_columns(store_tmp, 'test/queue', columns=['srx', 'srr'])"
   ]
  },
  {
   "cell_type": "code",
   "execution_count": 61,
   "metadata": {},
   "outputs": [
    {
     "data": {
      "text/plain": [
       "/test/queue/table (Table(9190,)) ''\n",
       "  description := {\n",
       "  \"index\": Int64Col(shape=(), dflt=0, pos=0),\n",
       "  \"srr\": StringCol(itemsize=10, shape=(), dflt=b'', pos=1),\n",
       "  \"srx\": StringCol(itemsize=10, shape=(), dflt=b'', pos=2)}\n",
       "  byteorder := 'little'\n",
       "  chunkshape := (2340,)\n",
       "  autoindex := True\n",
       "  colindexes := {\n",
       "    \"srx\": Index(9, full, shuffle, zlib(1)).is_csi=True,\n",
       "    \"srr\": Index(9, full, shuffle, zlib(1)).is_csi=True}"
      ]
     },
     "execution_count": 61,
     "metadata": {},
     "output_type": "execute_result"
    }
   ],
   "source": [
    "store_tmp.root.test.queue.table"
   ]
  },
  {
   "cell_type": "markdown",
   "metadata": {},
   "source": [
    "### Fix queue"
   ]
  },
  {
   "cell_type": "code",
   "execution_count": 7,
   "metadata": {},
   "outputs": [
    {
     "data": {
      "text/plain": [
       "/prealn/queue/table (Table(9190,), shuffle, blosc(9)) ''\n",
       "  description := {\n",
       "  \"index\": Int64Col(shape=(), dflt=0, pos=0),\n",
       "  \"srx\": StringCol(itemsize=10, shape=(), dflt=b'', pos=1),\n",
       "  \"srr\": StringCol(itemsize=10, shape=(), dflt=b'', pos=2)}\n",
       "  byteorder := 'little'\n",
       "  chunkshape := (2340,)\n",
       "  autoindex := True\n",
       "  colindexes := {\n",
       "    \"srx\": Index(9, full, shuffle, zlib(1)).is_csi=True,\n",
       "    \"srr\": Index(9, full, shuffle, zlib(1)).is_csi=True}"
      ]
     },
     "execution_count": 7,
     "metadata": {},
     "output_type": "execute_result"
    }
   ],
   "source": [
    "add_data_columns(store, 'prealn/queue', columns=['srx', 'srr'])\n",
    "store.root.prealn.queue.table"
   ]
  },
  {
   "cell_type": "code",
   "execution_count": 65,
   "metadata": {},
   "outputs": [],
   "source": [
    "store.close()"
   ]
  },
  {
   "cell_type": "code",
   "execution_count": null,
   "metadata": {},
   "outputs": [],
   "source": []
  }
 ],
 "metadata": {
  "kernelspec": {
   "display_name": "Python [conda env:ncbi_remap]",
   "language": "python",
   "name": "conda-env-ncbi_remap-py"
  },
  "language_info": {
   "codemirror_mode": {
    "name": "ipython",
    "version": 3
   },
   "file_extension": ".py",
   "mimetype": "text/x-python",
   "name": "python",
   "nbconvert_exporter": "python",
   "pygments_lexer": "ipython3",
   "version": "3.5.4"
  },
  "toc": {
   "nav_menu": {},
   "number_sections": true,
   "sideBar": true,
   "skip_h1_title": false,
   "toc_cell": false,
   "toc_position": {},
   "toc_section_display": "block",
   "toc_window_display": false
  }
 },
 "nbformat": 4,
 "nbformat_minor": 2
}
