{
 "cells": [
  {
   "cell_type": "markdown",
   "metadata": {},
   "source": [
    "# Look at Zhenxia's data"
   ]
  },
  {
   "cell_type": "markdown",
   "metadata": {},
   "source": [
    "We are wondering how much Zhenxia scooped us."
   ]
  },
  {
   "cell_type": "code",
   "execution_count": 9,
   "metadata": {},
   "outputs": [],
   "source": [
    "import pandas as pd\n",
    "from pymongo import MongoClient\n",
    "try:\n",
    "    with open('../output/.mongodb_host', 'r') as fh:\n",
    "        host = fh.read().strip()\n",
    "except FileNotFoundError:\n",
    "    host = 'localhost'\n",
    "\n",
    "mongoClient = MongoClient(host=host, port=27017)\n",
    "db = mongoClient['sramongo']\n",
    "ncbi = db['ncbi']"
   ]
  },
  {
   "cell_type": "code",
   "execution_count": 10,
   "metadata": {},
   "outputs": [],
   "source": [
    "zx = [\n",
    "    'SRP045429',\n",
    "    'SRP069203',\n",
    "    'SRP108530',\n",
    "]"
   ]
  },
  {
   "cell_type": "code",
   "execution_count": 11,
   "metadata": {},
   "outputs": [],
   "source": [
    "df = pd.DataFrame(list(ncbi.aggregate([\n",
    "    {\n",
    "        '$match': {\n",
    "            'sra.study.study_id': {\n",
    "                '$in': zx\n",
    "            }\n",
    "        }\n",
    "    },\n",
    "    {\n",
    "        '$unwind': {\n",
    "            'path': '$runs'\n",
    "        }\n",
    "    },\n",
    "    {\n",
    "        '$project': {\n",
    "            '_id': 0,\n",
    "            'srx': '$srx',\n",
    "            'srr': '$runs.srr'\n",
    "        }\n",
    "    }\n",
    "])))"
   ]
  },
  {
   "cell_type": "code",
   "execution_count": 14,
   "metadata": {},
   "outputs": [],
   "source": [
    "df.set_index('srr', inplace=True)"
   ]
  },
  {
   "cell_type": "code",
   "execution_count": 15,
   "metadata": {},
   "outputs": [],
   "source": [
    "zx_srr = [\n",
    "    'SRR3001908', 'SRR1543455', 'SRR1543644', 'SRR3001909', 'SRR3001820',\n",
    "    'SRR1543621', 'SRR3001804', 'SRR1543783', 'SRR1543566', 'SRR1543520',\n",
    "    'SRR1543628', 'SRR1543853', 'SRR1543271', 'SRR1543470', 'SRR1543755',\n",
    "    'SRR1543750', 'SRR1543817', 'SRR1543816', 'SRR1543514', 'SRR1543846',\n",
    "    'SRR1543667', 'SRR3001883', 'SRR1543838', 'SRR1543497', 'SRR1543383',\n",
    "    'SRR1543382', 'SRR3475967', 'SRR3475970', 'SRR3139856', 'SRR3139857',\n",
    "    'SRR3139870', 'SRR3139848', 'SRR3139861', 'SRR3139835', 'SRR3139834',\n",
    "    'SRR3139866', 'SRR3139808', 'SRR3475962', 'SRR3139794', 'SRR3139898',\n",
    "    'SRR3139864', 'SRR3139872', 'SRR3139842', 'SRR3139849', 'SRR3139882',\n",
    "    'SRR3139818', 'SRR3139823', 'SRR3139793', 'SRR3139877', 'SRR3139830',\n",
    "    'SRR3139902', 'SRR3139786', 'SRR3139896', 'SRR3139916', 'SRR3139887',\n",
    "    'SRR3139890', 'SRR3139828', 'SRR3139827', 'SRR3139782', 'SRR3139829',\n",
    "    'SRR3139910', 'SRR3139905', 'SRR3139792', 'SRR3139783', 'SRR3139798',\n",
    "    'SRR3139904', 'SRR5639616', 'SRR5639615', 'SRR5639614', 'SRR5639613',\n",
    "    'SRR5639612', 'SRR5639611', 'SRR5639568', 'SRR5639567', 'SRR5639566',\n",
    "    'SRR5639565', 'SRR5639564', 'SRR5639563', 'SRR5639622', 'SRR5639621',\n",
    "    'SRR5639620', 'SRR5639619', 'SRR5639618', 'SRR5639617', 'SRR5639574',\n",
    "    'SRR5639573', 'SRR5639572', 'SRR5639571', 'SRR5639570', 'SRR5639569',\n",
    "    'SRR6181114', 'SRR6181115', 'SRR6181130', 'SRR6181131', 'SRR5639628',\n",
    "    'SRR5639627', 'SRR5639626', 'SRR5639625', 'SRR5639624', 'SRR5639623',\n",
    "    'SRR5639580', 'SRR5639579', 'SRR5639578', 'SRR5639577', 'SRR5639576',\n",
    "    'SRR5639575', 'SRR6181116', 'SRR6181117', 'SRR6181132', 'SRR6181133',\n",
    "    'SRR5639634', 'SRR5639633', 'SRR5639632', 'SRR5639631', 'SRR5639630',\n",
    "    'SRR5639629', 'SRR5639586', 'SRR5639585', 'SRR5639584', 'SRR5639583',\n",
    "    'SRR5639582', 'SRR5639581', 'SRR6181118', 'SRR6181119', 'SRR6181134',\n",
    "    'SRR6181135', 'SRR5639640', 'SRR5639639', 'SRR5639638', 'SRR5639637',\n",
    "    'SRR5639636', 'SRR5639635', 'SRR5639592', 'SRR5639591', 'SRR5639590',\n",
    "    'SRR5639589', 'SRR5639588', 'SRR5639587', 'SRR6181120', 'SRR6181121',\n",
    "    'SRR6181136', 'SRR6181137', 'SRR5639646', 'SRR5639645', 'SRR5639644',\n",
    "    'SRR5639643', 'SRR5639642', 'SRR5639641', 'SRR5639598', 'SRR5639597',\n",
    "    'SRR5639596', 'SRR5639595', 'SRR5639594', 'SRR5639593', 'SRR5639652',\n",
    "    'SRR5639651', 'SRR5639650', 'SRR5639649', 'SRR5639648', 'SRR5639647',\n",
    "    'SRR5639604', 'SRR5639603', 'SRR5639602', 'SRR5639601', 'SRR5639600',\n",
    "    'SRR5639599',\n",
    "]"
   ]
  },
  {
   "cell_type": "code",
   "execution_count": 20,
   "metadata": {},
   "outputs": [
    {
     "data": {
      "text/plain": [
       "(165,)"
      ]
     },
     "execution_count": 20,
     "metadata": {},
     "output_type": "execute_result"
    }
   ],
   "source": [
    "df.reindex(zx_srr).srx.unique().shape"
   ]
  },
  {
   "cell_type": "code",
   "execution_count": 27,
   "metadata": {},
   "outputs": [
    {
     "name": "stdout",
     "output_type": "stream",
     "text": [
      "SRP045429: mRNA sequence data of individual Drosophila melanogaster male and female flies from 16 Drosophila Genetic Reference Panel lines reared in replicated environments\n",
      "SRP069203: Gene expression following: RNAi knockdown of grappa, lilliputian, or Suppressor of Triplolethal; induction of Cyclin-dependent kinase 9 dominant negative constructs, or ectopic expression of stand still in Drosophila melanogaster.\n",
      "SRP108530: RNA-seq of sexed adult tissues/body parts from eight Drosophila species\n"
     ]
    }
   ],
   "source": [
    "string = '{_id}: {title}'\n",
    "projs = [string.format(**x) for x in ncbi.aggregate([\n",
    "    {\n",
    "        '$match': {\n",
    "            'sra.study.study_id': {\n",
    "                '$in': zx\n",
    "            }\n",
    "        }\n",
    "    },\n",
    "    {\n",
    "        '$group': {\n",
    "            '_id': '$sra.study.study_id',\n",
    "            'title': {'$first': '$sra.study.title'},\n",
    "        }\n",
    "    },\n",
    "    {\n",
    "        '$limit': 10\n",
    "    }\n",
    "])]\n",
    "\n",
    "for proj in projs:\n",
    "    print(proj)"
   ]
  },
  {
   "cell_type": "code",
   "execution_count": 21,
   "metadata": {},
   "outputs": [
    {
     "data": {
      "text/plain": [
       "{'_id': 'SRX4104113',\n",
       " '_cls': 'Ncbi',\n",
       " 'sra': {'submission': {'submission_id': 'SRA707623',\n",
       "   'external_id': [],\n",
       "   'secondary_id': [],\n",
       "   'submitter_id': [],\n",
       "   'uuid': []},\n",
       "  'organization': {'organization_type': 'institute',\n",
       "   'name': 'Southern University of Science and Technology',\n",
       "   'email': 'shenwei4907@foxmail.com',\n",
       "   'first_name': 'wei',\n",
       "   'last_name': 'shen'},\n",
       "  'study': {'study_id': 'SRP148502',\n",
       "   'BioProject': 'PRJNA470784',\n",
       "   'external_id': [],\n",
       "   'secondary_id': [],\n",
       "   'submitter_id': [],\n",
       "   'uuid': [],\n",
       "   'title': 'Drosophila melanogaster PCR-free Hi-C Raw sequence reads',\n",
       "   'study_type': 'Whole Genome Sequencing',\n",
       "   'abstract': 'We modified on in situ Hi-C and developed new method which produces adequate DNA for direct High-throughput sequeuncing. Systematic comparison between non-amplified and amplified Hi-Cs were carried out.',\n",
       "   'center_name': 'BioProject',\n",
       "   'center_project_name': 'Drosophila melanogaster strain:S2',\n",
       "   'related_studies': [],\n",
       "   'url_links': [],\n",
       "   'xref_links': [],\n",
       "   'entrez_links': [],\n",
       "   'ddbj_links': [],\n",
       "   'ena_links': []},\n",
       "  'sample': {'sample_id': 'SRS3320019',\n",
       "   'BioSample': 'SAMN09104457',\n",
       "   'BioProject': '470784',\n",
       "   'external_id': [],\n",
       "   'secondary_id': [],\n",
       "   'submitter_id': [],\n",
       "   'uuid': [],\n",
       "   'title': 'Drosophila melanogaster S2 PCR free Hi-C',\n",
       "   'taxon_id': '7227',\n",
       "   'scientific_name': 'Drosophila melanogaster',\n",
       "   'attributes': [{'name': 'strain', 'value': 'S2'},\n",
       "    {'name': 'dev_stage', 'value': 'late stage (20-24hours old)'},\n",
       "    {'name': 'sex', 'value': 'male'},\n",
       "    {'name': 'tissue', 'value': 'embryo'},\n",
       "    {'name': 'cell_line', 'value': 'S2'},\n",
       "    {'name': 'BioSampleModel', 'value': 'Model organism or animal'}],\n",
       "   'url_links': [],\n",
       "   'xref_links': [],\n",
       "   'entrez_links': [],\n",
       "   'ddbj_links': [],\n",
       "   'ena_links': []},\n",
       "  'experiment': {'experiment_id': 'SRX4104113',\n",
       "   'external_id': [],\n",
       "   'secondary_id': [],\n",
       "   'submitter_id': [],\n",
       "   'uuid': [],\n",
       "   'title': 'non amplified',\n",
       "   'study_id': 'SRP148502',\n",
       "   'design': 'in situ Hi-C without PCR',\n",
       "   'library_name': 'PF0-rep1-2',\n",
       "   'library_strategy': 'HI-C',\n",
       "   'library_source': 'GENOMIC',\n",
       "   'library_selection': 'other',\n",
       "   'library_layout': 'PAIRED',\n",
       "   'platform': 'ILLUMINA',\n",
       "   'instrument_model': 'Illumina HiSeq X Ten',\n",
       "   'attributes': [],\n",
       "   'url_links': [],\n",
       "   'xref_links': [],\n",
       "   'entrez_links': [],\n",
       "   'ddbj_links': [],\n",
       "   'ena_links': []},\n",
       "  'pool': ['SRS3320019'],\n",
       "  'db_flags': ['PE'],\n",
       "  'db_imported': datetime.datetime(2018, 5, 29, 18, 26, 49, 710000)},\n",
       " 'biosample': [{'biosample_accn': 'SAMN09104457',\n",
       "   'biosample_id': '9104457',\n",
       "   'biosample_primary': 'SAMN09104457',\n",
       "   'sample_id': 'SRS3320019',\n",
       "   'title': 'Drosophila melanogaster S2 PCR free Hi-C',\n",
       "   'tax_id': '7227',\n",
       "   'tax_name': 'Drosophila melanogaster',\n",
       "   'organism_name': 'Drosophila melanogaster',\n",
       "   'institute': 'Southern University of Science and Technology',\n",
       "   'access': 'public',\n",
       "   'publication_date': '2018-05-10',\n",
       "   'last_update': '2018-05-19',\n",
       "   'submission_date': '2018-05-10',\n",
       "   'contacts': [{'email': 'shenwei4907@foxmail.com',\n",
       "     'first_name': 'wei',\n",
       "     'last_name': 'shen'}],\n",
       "   'models': ['Model organism or animal'],\n",
       "   'attributes': [{'name': 'strain', 'value': 'S2'},\n",
       "    {'name': 'dev_stage', 'value': 'late stage (20-24hours old)'},\n",
       "    {'name': 'sex', 'value': 'male'},\n",
       "    {'name': 'tissue', 'value': 'embryo'},\n",
       "    {'name': 'cell_line', 'value': 'S2'}]}],\n",
       " 'bioproject': {'bioproject_accn': 'PRJNA470784',\n",
       "  'bioproject_id': '470784',\n",
       "  'name': 'Drosophila melanogaster strain:S2',\n",
       "  'title': 'Drosophila melanogaster PCR-free Hi-C Raw sequence reads',\n",
       "  'description': 'We modified on in situ Hi-C and developed new method which produces adequate DNA for direct High-throughput sequeuncing. Systematic comparison between non-amplified and amplified Hi-Cs were carried out.',\n",
       "  'submission_id': 'SUB4020811',\n",
       "  'last_update': datetime.datetime(2018, 5, 10, 0, 0),\n",
       "  'submission_date': datetime.datetime(2018, 5, 10, 0, 0),\n",
       "  'external_id': []}}"
      ]
     },
     "execution_count": 21,
     "metadata": {},
     "output_type": "execute_result"
    }
   ],
   "source": [
    "ncbi.find_one({}, {'sra.run': 0})"
   ]
  },
  {
   "cell_type": "code",
   "execution_count": null,
   "metadata": {},
   "outputs": [],
   "source": []
  }
 ],
 "metadata": {
  "kernelspec": {
   "display_name": "Python [conda env:ncbi_remap]",
   "language": "python",
   "name": "conda-env-ncbi_remap-py"
  },
  "language_info": {
   "codemirror_mode": {
    "name": "ipython",
    "version": 3
   },
   "file_extension": ".py",
   "mimetype": "text/x-python",
   "name": "python",
   "nbconvert_exporter": "python",
   "pygments_lexer": "ipython3",
   "version": "3.6.5"
  }
 },
 "nbformat": 4,
 "nbformat_minor": 2
}
