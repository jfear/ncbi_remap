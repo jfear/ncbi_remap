{
 "cells": [
  {
   "cell_type": "markdown",
   "metadata": {},
   "source": [
    "# modEncode Runs"
   ]
  },
  {
   "cell_type": "markdown",
   "metadata": {},
   "source": [
    "I need to get a list of modEncode runs to start making some wiggle tracks. I want to focus on runs that the Thierry-Miegs decided to analyze since I am still figuring out what setting to use."
   ]
  },
  {
   "cell_type": "code",
   "execution_count": 2,
   "metadata": {
    "code_folding": [
     0
    ],
    "collapsed": false
   },
   "outputs": [
    {
     "name": "stdout",
     "output_type": "stream",
     "text": [
      "last updated: 2017-04-14 \n",
      "Git hash: d016341af9f7e0bf172fb8dbe9e83813da94ce03\n"
     ]
    }
   ],
   "source": [
    "# %load ../start.py\n",
    "# Load useful extensions\n",
    "\n",
    "# Activate the autoreload extension for easy reloading of external packages\n",
    "%reload_ext autoreload\n",
    "%autoreload 2\n",
    "\n",
    "# Trun on the water mark\n",
    "%reload_ext watermark\n",
    "%watermark -u -d -g\n",
    "\n",
    "# Load ipycache extension\n",
    "%reload_ext ipycache\n",
    "from ipycache import CacheMagics\n",
    "CacheMagics.cachedir = '../cachedir'\n",
    "\n",
    "# Add project library to path\n",
    "import sys\n",
    "sys.path.insert(0, '../../lib/python')\n",
    "\n",
    "# The usual suspects\n",
    "import os\n",
    "import numpy as np\n",
    "import pandas as pd\n",
    "\n",
    "# plotting\n",
    "import matplotlib as mpl\n",
    "import matplotlib.pyplot as plt\n",
    "import seaborn as sns\n",
    "\n",
    "%matplotlib inline\n",
    "sns.set_context('poster')\n",
    "\n",
    "# Turn off scientific notation\n",
    "np.set_printoptions(precision=5, suppress=True)"
   ]
  },
  {
   "cell_type": "code",
   "execution_count": 8,
   "metadata": {
    "code_folding": [
     0
    ],
    "collapsed": false
   },
   "outputs": [],
   "source": [
    "# connect to database to do some look ups\n",
    "from pymongo import MongoClient\n",
    "\n",
    "client = MongoClient(host='localhost', port=27022)\n",
    "db = client['sra2']\n",
    "ncbi = db['ncbi']\n",
    "remap = db['remap']"
   ]
  },
  {
   "cell_type": "code",
   "execution_count": 7,
   "metadata": {
    "code_folding": [
     0
    ],
    "collapsed": false
   },
   "outputs": [
    {
     "data": {
      "text/plain": [
       "(12, 598)"
      ]
     },
     "execution_count": 7,
     "metadata": {},
     "output_type": "execute_result"
    }
   ],
   "source": [
    "# Get a list of modEnocde runs from modEncode DataBase\n",
    "from intermine.webservice import Service\n",
    "service = Service(\"http://intermine.modencode.org/release-32/service\")\n",
    "\n",
    "# Get a new query on the class (table) you will be querying:\n",
    "query = service.new_query(\"Submission\")\n",
    "\n",
    "# The view specifies the output columns\n",
    "query.add_view(\"databaseRecords.accession\")\n",
    "\n",
    "# Uncomment and edit the line below (the default) to select a custom sort order:\n",
    "# query.add_sort_order(\"Submission.databaseRecords.accession\", \"ASC\")\n",
    "\n",
    "# You can edit the constraint values below\n",
    "query.add_constraint(\"databaseRecords.database\", \"=\", \"SRA\", code = \"A\")\n",
    "query.add_constraint(\"experimentType\", \"=\", \"RNA-seq\", code = \"B\")\n",
    "query.add_constraint(\"organism.species\", \"=\", \"melanogaster\", code = \"C\")\n",
    "\n",
    "# Uncomment and edit the code below to specify your own custom logic:\n",
    "# query.set_logic(\"A and B and C\")\n",
    "\n",
    "modEncode_srr = []\n",
    "modEncode_srx = []\n",
    "for row in query.rows():\n",
    "    curr =  row[\"databaseRecords.accession\"]\n",
    "    if curr.startswith('SRX'):\n",
    "        modEncode_srx.append(curr)\n",
    "    elif curr.startswith('SRR'):\n",
    "        modEncode_srr.append(curr)\n",
    "\n",
    "len(modEncode_srx), len(modEncode_srr)"
   ]
  },
  {
   "cell_type": "code",
   "execution_count": 19,
   "metadata": {
    "code_folding": [
     0
    ],
    "collapsed": true
   },
   "outputs": [],
   "source": [
    "# Found this list of BioProjects in Zhenxia's notes. Going to go ahead and query for them too.\n",
    "modEncodeProj = [\"PRJNA63469\", \"PRJNA168994\", \"PRJNA200701\", \"PRJNA75285\"]"
   ]
  },
  {
   "cell_type": "code",
   "execution_count": 40,
   "metadata": {
    "code_folding": [
     0
    ],
    "collapsed": true
   },
   "outputs": [],
   "source": [
    "# Query and build a list of srrs\n",
    "m = ncbi.aggregate([\n",
    "    {\n",
    "        '$unwind': '$sra.run'\n",
    "    },\n",
    "    {\n",
    "        '$match': {\n",
    "            '$or': [\n",
    "                {'sra.run.run_id': {'$in': modEncode_srr}},\n",
    "                {'_id': {'$in': modEncode_srx}},\n",
    "                {'bioproject.bioproject_accn': {'$in': modEncodeProj}}\n",
    "            ]\n",
    "        }\n",
    "    },\n",
    "    {\n",
    "        '$project': {\n",
    "            'srr': '$sra.run.run_id'\n",
    "        }\n",
    "    }\n",
    "])\n",
    "\n",
    "modEncodeSamples = [x['srr'] for x in m]"
   ]
  },
  {
   "cell_type": "code",
   "execution_count": null,
   "metadata": {
    "collapsed": true
   },
   "outputs": [],
   "source": []
  },
  {
   "cell_type": "code",
   "execution_count": 41,
   "metadata": {
    "code_folding": [],
    "collapsed": false
   },
   "outputs": [],
   "source": [
    "# Get a list of SRRs analyzed by Miegs\n",
    "with open('../../data/13495_runs_analyzed_by_mieg.txt') as fh:\n",
    "    miegs = [x.strip() for x in fh.readlines()]"
   ]
  },
  {
   "cell_type": "code",
   "execution_count": 44,
   "metadata": {
    "collapsed": false
   },
   "outputs": [],
   "source": [
    "# write a table to modEncode to analyze\n",
    "with open('../../data/modEncode_srrs.txt', 'w') as fh:\n",
    "    for srr in modEncodeSamples:\n",
    "        if srr in miegs:\n",
    "            fh.write(srr + '\\n')"
   ]
  }
 ],
 "metadata": {
  "anaconda-cloud": {},
  "kernelspec": {
   "display_name": "Python [conda env:ncbi_remap]",
   "language": "python",
   "name": "conda-env-ncbi_remap-py"
  },
  "language_info": {
   "codemirror_mode": {
    "name": "ipython",
    "version": 3
   },
   "file_extension": ".py",
   "mimetype": "text/x-python",
   "name": "python",
   "nbconvert_exporter": "python",
   "pygments_lexer": "ipython3",
   "version": "3.5.2"
  },
  "toc": {
   "colors": {
    "hover_highlight": "#DAA520",
    "running_highlight": "#FF0000",
    "selected_highlight": "#FFD700"
   },
   "moveMenuLeft": true,
   "nav_menu": {
    "height": "30px",
    "width": "252px"
   },
   "navigate_menu": true,
   "number_sections": false,
   "sideBar": true,
   "threshold": 4,
   "toc_cell": false,
   "toc_section_display": "block",
   "toc_window_display": false
  }
 },
 "nbformat": 4,
 "nbformat_minor": 2
}
