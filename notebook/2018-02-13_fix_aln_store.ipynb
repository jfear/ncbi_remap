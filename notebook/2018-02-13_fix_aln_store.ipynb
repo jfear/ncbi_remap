{
 "cells": [
  {
   "cell_type": "markdown",
   "metadata": {},
   "source": [
    "# Fix Alignment Workflow Store"
   ]
  },
  {
   "cell_type": "code",
   "execution_count": 26,
   "metadata": {},
   "outputs": [
    {
     "name": "stdout",
     "output_type": "stream",
     "text": [
      "last updated: 2018-02-14 \n",
      "Git hash: 975ee2428bfd16c0da0345c335ffaa399cba8ecd\n"
     ]
    }
   ],
   "source": [
    "import os\n",
    "import sys\n",
    "from pathlib import Path\n",
    "\n",
    "import numpy as np\n",
    "import pandas as pd\n",
    "from dask import delayed\n",
    "from dask.distributed import Client\n",
    "\n",
    "import matplotlib as mpl\n",
    "import matplotlib.pyplot as plt\n",
    "import seaborn as sns\n",
    "\n",
    "# Project level imports\n",
    "sys.path.insert(0, '../lib')\n",
    "from ncbi_remap.notebook import Nb\n",
    "from ncbi_remap.plotting import make_figs\n",
    "from ncbi_remap.parser import parse_hisat2\n",
    "\n",
    "# Setup notebook\n",
    "nbconfig = Nb.setup_notebook()\n",
    "\n",
    "# Connect to data store\n",
    "store = pd.HDFStore('../sra.h5', mode='a')\n",
    "client = Client()"
   ]
  },
  {
   "cell_type": "code",
   "execution_count": 27,
   "metadata": {},
   "outputs": [
    {
     "data": {
      "text/plain": [
       "/ (RootGroup) ''\n",
       "  children := ['aln' (Group), 'ids' (Group), 'layout' (Group), 'prealn' (Group), 'strand' (Group)]"
      ]
     },
     "execution_count": 27,
     "metadata": {},
     "output_type": "execute_result"
    }
   ],
   "source": [
    "store.root"
   ]
  },
  {
   "cell_type": "code",
   "execution_count": 3,
   "metadata": {},
   "outputs": [
    {
     "data": {
      "text/plain": [
       "/aln (Group) ''\n",
       "  children := ['alignment_bad' (Group), 'complete' (Group), 'queue' (Group)]"
      ]
     },
     "execution_count": 3,
     "metadata": {},
     "output_type": "execute_result"
    }
   ],
   "source": [
    "store.root.aln"
   ]
  },
  {
   "cell_type": "code",
   "execution_count": 4,
   "metadata": {},
   "outputs": [],
   "source": [
    "ids = store['ids']"
   ]
  },
  {
   "cell_type": "code",
   "execution_count": 13,
   "metadata": {},
   "outputs": [],
   "source": [
    "def check_log(srx, srr):\n",
    "    pattern = f'../aln-wf/output/samples/{srx}/{srr}/{srr}.fq.bam.log'\n",
    "    aln_bad = Path(f'../aln-wf/output/samples/{srx}/{srr}/ALIGNMENT_BAD')\n",
    "    try:\n",
    "        df = parse_hisat2(srx, srr, pattern)\n",
    "        if df.iloc[0, :]['per_alignment'] < 0.50:\n",
    "            aln_bad.touch()\n",
    "            return (srx, srr, True)\n",
    "    except FileNotFoundError:\n",
    "        pass\n",
    "    \n",
    "    return (srx, srr, False)\n",
    "        \n",
    "def check_logs():\n",
    "    futures = []\n",
    "    for idx, (srx, srr) in ids.iterrows():\n",
    "        futures.append(delayed(check_log)(srx, srr))\n",
    "\n",
    "    res = client.compute(futures)\n",
    "    return client.gather(res)"
   ]
  },
  {
   "cell_type": "code",
   "execution_count": null,
   "metadata": {},
   "outputs": [],
   "source": [
    "log_res = check_logs()"
   ]
  },
  {
   "cell_type": "code",
   "execution_count": 21,
   "metadata": {},
   "outputs": [
    {
     "data": {
      "text/plain": [
       "False    35242\n",
       "True       121\n",
       "Name: aln_bad, dtype: int64"
      ]
     },
     "execution_count": 21,
     "metadata": {},
     "output_type": "execute_result"
    }
   ],
   "source": [
    "pd.DataFrame(log_res, columns=['srx', 'srr', 'aln_bad']).set_index(['srx', 'srr']).iloc[:, 0].value_counts()"
   ]
  },
  {
   "cell_type": "code",
   "execution_count": 22,
   "metadata": {},
   "outputs": [],
   "source": [
    "def check_file(fname):\n",
    "    with open(fname, 'r') as fh:\n",
    "        return fh.read().strip()\n",
    "\n",
    "def get_val(srx, srr, pattern):\n",
    "    try:\n",
    "        fname = pattern\n",
    "        return [srx, srr, check_file(fname.format(srx=srx, srr=srr))]\n",
    "    except FileNotFoundError:\n",
    "        return [srx, srr, 'Missing']\n",
    "\n",
    "def get_vals(pattern):\n",
    "    futures = []\n",
    "    for idx, (srx, srr) in ids.iterrows():\n",
    "        futures.append(delayed(get_val)(srx, srr, pattern))\n",
    "\n",
    "    res = client.compute(futures)\n",
    "    return client.gather(res)"
   ]
  },
  {
   "cell_type": "code",
   "execution_count": 24,
   "metadata": {},
   "outputs": [],
   "source": [
    "dat = get_vals('../aln-wf/output/samples/{srx}/{srr}/ALIGNMENT_BAD')\n",
    "srs = pd.DataFrame(dat, columns=['srx', 'srr', 'alignment_bad']).set_index(['srx', 'srr']).iloc[:, 0]\n",
    "store['prealn/alignment_bad'] = srs.replace(to_replace='Missing', value=False).replace('', True)"
   ]
  },
  {
   "cell_type": "code",
   "execution_count": 30,
   "metadata": {},
   "outputs": [
    {
     "data": {
      "text/plain": [
       "False    35242\n",
       "True       121\n",
       "Name: alignment_bad, dtype: int64"
      ]
     },
     "execution_count": 30,
     "metadata": {},
     "output_type": "execute_result"
    }
   ],
   "source": [
    "store['prealn/alignment_bad'].value_counts()"
   ]
  },
  {
   "cell_type": "code",
   "execution_count": null,
   "metadata": {},
   "outputs": [],
   "source": []
  }
 ],
 "metadata": {
  "kernelspec": {
   "display_name": "Python [conda env:ncbi_remap]",
   "language": "python",
   "name": "conda-env-ncbi_remap-py"
  },
  "language_info": {
   "codemirror_mode": {
    "name": "ipython",
    "version": 3
   },
   "file_extension": ".py",
   "mimetype": "text/x-python",
   "name": "python",
   "nbconvert_exporter": "python",
   "pygments_lexer": "ipython3",
   "version": "3.6.3"
  }
 },
 "nbformat": 4,
 "nbformat_minor": 2
}
