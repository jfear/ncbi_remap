{
 "cells": [
  {
   "cell_type": "code",
   "execution_count": 1,
   "metadata": {},
   "outputs": [
    {
     "name": "stdout",
     "output_type": "stream",
     "text": [
      "Please check output/fbgn2chrom.tsv. If it does not exist, run bin/fbgn2chrom.py\n",
      "last updated: 2018-03-09 \n",
      "Git hash: 481186bc23484439db5d199bf22411933a1bca80\n"
     ]
    },
    {
     "data": {
      "text/html": [
       "<table style=\"border: 2px solid white;\">\n",
       "<tr>\n",
       "<td style=\"vertical-align: top; border: 0px solid white\">\n",
       "<h3>Client</h3>\n",
       "<ul>\n",
       "  <li><b>Scheduler: </b>tcp://127.0.0.1:38450\n",
       "  <li><b>Dashboard: </b><a href='http://127.0.0.1:8787/status' target='_blank'>http://127.0.0.1:8787/status</a>\n",
       "</ul>\n",
       "</td>\n",
       "<td style=\"vertical-align: top; border: 0px solid white\">\n",
       "<h3>Cluster</h3>\n",
       "<ul>\n",
       "  <li><b>Workers: </b>8</li>\n",
       "  <li><b>Cores: </b>8</li>\n",
       "  <li><b>Memory: </b>22.99 GB</li>\n",
       "</ul>\n",
       "</td>\n",
       "</tr>\n",
       "</table>"
      ],
      "text/plain": [
       "<Client: scheduler='tcp://127.0.0.1:38450' processes=8 cores=8>"
      ]
     },
     "execution_count": 1,
     "metadata": {},
     "output_type": "execute_result"
    }
   ],
   "source": [
    "# %load ../config/defaults.py\n",
    "import os\n",
    "import sys\n",
    "from pathlib import Path\n",
    "\n",
    "from IPython.display import display, HTML, Markdown\n",
    "import numpy as np\n",
    "import pandas as pd\n",
    "\n",
    "import matplotlib as mpl\n",
    "import matplotlib.pyplot as plt\n",
    "import seaborn as sns\n",
    "\n",
    "from dask.delayed import delayed\n",
    "from dask.distributed import Client\n",
    "import dask.dataframe as dd\n",
    "\n",
    "# Project level imports\n",
    "sys.path.insert(0, '../lib')\n",
    "from ncbi_remap.notebook import Nb\n",
    "from ncbi_remap.plotting import make_figs\n",
    "\n",
    "# Setup notebook\n",
    "nbconfig = Nb.setup_notebook()\n",
    "\n",
    "# Connect to data store\n",
    "store = pd.HDFStore('../sra.h5', mode='r')\n",
    "\n",
    "# Dask server\n",
    "client = Client()\n",
    "client"
   ]
  },
  {
   "cell_type": "code",
   "execution_count": 2,
   "metadata": {},
   "outputs": [
    {
     "data": {
      "text/plain": [
       "/prealn/workflow/collectrnaseqmetrics (Group) ''\n",
       "  children := ['first' (Group), 'genebody' (Group), 'second' (Group), 'unstranded' (Group)]"
      ]
     },
     "execution_count": 2,
     "metadata": {},
     "output_type": "execute_result"
    }
   ],
   "source": [
    "store.root.prealn.workflow.collectrnaseqmetrics"
   ]
  },
  {
   "cell_type": "code",
   "execution_count": 3,
   "metadata": {},
   "outputs": [],
   "source": [
    "# Select SRXs that passed QC and are in the complete\n",
    "prepass = store['prealn/merge_passed'].srx.unique()\n",
    "ready_srx = store.select('aln/complete', 'srx == prepass').srx.unique()"
   ]
  },
  {
   "cell_type": "code",
   "execution_count": 4,
   "metadata": {},
   "outputs": [],
   "source": [
    "first_strand = store.select('prealn/workflow/collectrnaseqmetrics/first', 'srx == ready_srx & PCT_CORRECT_STRAND_READS >= .99').index.get_level_values('srx').tolist()\n",
    "second_strand = store.select('prealn/workflow/collectrnaseqmetrics/second', 'srx == ready_srx & PCT_CORRECT_STRAND_READS >= .99').index.get_level_values('srx').tolist()\n",
    "stranded = set(first_strand)\n",
    "stranded |= set(second_strand)"
   ]
  },
  {
   "cell_type": "code",
   "execution_count": 5,
   "metadata": {},
   "outputs": [],
   "source": [
    "fnames = []\n",
    "for srx in stranded:\n",
    "    fnames.append(f'../aln-wf/output/junction_counts/{srx}.parquet')"
   ]
  },
  {
   "cell_type": "code",
   "execution_count": 6,
   "metadata": {},
   "outputs": [],
   "source": [
    "dfs = dd.read_parquet(fnames)\n",
    "dfs_chrom = dfs.query('Site1_chr == Site2_chr').persist()"
   ]
  },
  {
   "cell_type": "code",
   "execution_count": 10,
   "metadata": {},
   "outputs": [],
   "source": [
    "grps = dfs_chrom.groupby(['Site1_chr', 'Site1_location', 'Site2_location', 'PrimaryGene'])"
   ]
  },
  {
   "cell_type": "code",
   "execution_count": 12,
   "metadata": {},
   "outputs": [
    {
     "name": "stderr",
     "output_type": "stream",
     "text": [
      "/data/miniconda3/envs/ncbi_remap/lib/python3.6/site-packages/dask/optimize.py:20: UserWarning: DeprecationWarning: `dask.optimize.inline has moved to `dask.optimization.inline`, please update imports accordingly\n",
      "  warnings.warn(_msg.format(method))\n"
     ]
    }
   ],
   "source": [
    "totals = grps['count'].sum().compute()\n",
    "counts = grps['count'].count().compute()"
   ]
  },
  {
   "cell_type": "code",
   "execution_count": 13,
   "metadata": {},
   "outputs": [
    {
     "data": {
      "text/plain": [
       "Site1_chr  Site1_location  Site2_location  PrimaryGene\n",
       "chr2L      10545           10952           FBgn0002121       1\n",
       "           11169           11230           FBgn0002121      83\n",
       "           11344           11410           FBgn0002121    1413\n",
       "                           11779           FBgn0002121     271\n",
       "           11345           11412           FBgn0002121      15\n",
       "Name: count, dtype: int64"
      ]
     },
     "execution_count": 13,
     "metadata": {},
     "output_type": "execute_result"
    }
   ],
   "source": [
    "counts.head()"
   ]
  },
  {
   "cell_type": "code",
   "execution_count": 14,
   "metadata": {},
   "outputs": [
    {
     "name": "stderr",
     "output_type": "stream",
     "text": [
      "/data/miniconda3/envs/ncbi_remap/lib/python3.6/site-packages/dask/optimize.py:20: UserWarning: DeprecationWarning: `dask.optimize.inline has moved to `dask.optimization.inline`, please update imports accordingly\n",
      "  warnings.warn(_msg.format(method))\n"
     ]
    },
    {
     "data": {
      "text/html": [
       "<div>\n",
       "<style scoped>\n",
       "    .dataframe tbody tr th:only-of-type {\n",
       "        vertical-align: middle;\n",
       "    }\n",
       "\n",
       "    .dataframe tbody tr th {\n",
       "        vertical-align: top;\n",
       "    }\n",
       "\n",
       "    .dataframe thead th {\n",
       "        text-align: right;\n",
       "    }\n",
       "</style>\n",
       "<table border=\"1\" class=\"dataframe\">\n",
       "  <thead>\n",
       "    <tr style=\"text-align: right;\">\n",
       "      <th></th>\n",
       "      <th>PrimaryGene</th>\n",
       "      <th>Site1_chr</th>\n",
       "      <th>Site1_location</th>\n",
       "      <th>Site1_strand</th>\n",
       "      <th>Site2_chr</th>\n",
       "      <th>Site2_location</th>\n",
       "      <th>Site2_strand</th>\n",
       "      <th>count</th>\n",
       "      <th>srx</th>\n",
       "    </tr>\n",
       "  </thead>\n",
       "  <tbody>\n",
       "    <tr>\n",
       "      <th>269</th>\n",
       "      <td>FBgn0002121</td>\n",
       "      <td>chr2L</td>\n",
       "      <td>11345</td>\n",
       "      <td>NaN</td>\n",
       "      <td>chr2L</td>\n",
       "      <td>11412</td>\n",
       "      <td>NaN</td>\n",
       "      <td>1</td>\n",
       "      <td>SRX792878</td>\n",
       "    </tr>\n",
       "    <tr>\n",
       "      <th>100</th>\n",
       "      <td>FBgn0002121</td>\n",
       "      <td>chr2L</td>\n",
       "      <td>11345</td>\n",
       "      <td>NaN</td>\n",
       "      <td>chr2L</td>\n",
       "      <td>11412</td>\n",
       "      <td>NaN</td>\n",
       "      <td>1</td>\n",
       "      <td>SRX1491300</td>\n",
       "    </tr>\n",
       "    <tr>\n",
       "      <th>50</th>\n",
       "      <td>FBgn0002121</td>\n",
       "      <td>chr2L</td>\n",
       "      <td>11345</td>\n",
       "      <td>NaN</td>\n",
       "      <td>chr2L</td>\n",
       "      <td>11413</td>\n",
       "      <td>NaN</td>\n",
       "      <td>1</td>\n",
       "      <td>SRX1637700</td>\n",
       "    </tr>\n",
       "    <tr>\n",
       "      <th>141</th>\n",
       "      <td>FBgn0002121</td>\n",
       "      <td>chr2L</td>\n",
       "      <td>11345</td>\n",
       "      <td>NaN</td>\n",
       "      <td>chr2L</td>\n",
       "      <td>11412</td>\n",
       "      <td>NaN</td>\n",
       "      <td>1</td>\n",
       "      <td>SRX2540526</td>\n",
       "    </tr>\n",
       "    <tr>\n",
       "      <th>9</th>\n",
       "      <td>FBgn0002121</td>\n",
       "      <td>chr2L</td>\n",
       "      <td>11345</td>\n",
       "      <td>NaN</td>\n",
       "      <td>chr2L</td>\n",
       "      <td>11412</td>\n",
       "      <td>NaN</td>\n",
       "      <td>2</td>\n",
       "      <td>SRX029396</td>\n",
       "    </tr>\n",
       "    <tr>\n",
       "      <th>217</th>\n",
       "      <td>FBgn0002121</td>\n",
       "      <td>chr2L</td>\n",
       "      <td>11345</td>\n",
       "      <td>NaN</td>\n",
       "      <td>chr2L</td>\n",
       "      <td>11412</td>\n",
       "      <td>NaN</td>\n",
       "      <td>1</td>\n",
       "      <td>SRX823556</td>\n",
       "    </tr>\n",
       "    <tr>\n",
       "      <th>61</th>\n",
       "      <td>FBgn0002121</td>\n",
       "      <td>chr2L</td>\n",
       "      <td>11345</td>\n",
       "      <td>NaN</td>\n",
       "      <td>chr2L</td>\n",
       "      <td>11412</td>\n",
       "      <td>NaN</td>\n",
       "      <td>1</td>\n",
       "      <td>SRX161007</td>\n",
       "    </tr>\n",
       "    <tr>\n",
       "      <th>189</th>\n",
       "      <td>FBgn0002121</td>\n",
       "      <td>chr2L</td>\n",
       "      <td>11345</td>\n",
       "      <td>NaN</td>\n",
       "      <td>chr2L</td>\n",
       "      <td>11412</td>\n",
       "      <td>NaN</td>\n",
       "      <td>1</td>\n",
       "      <td>SRX2540527</td>\n",
       "    </tr>\n",
       "    <tr>\n",
       "      <th>65</th>\n",
       "      <td>FBgn0002121</td>\n",
       "      <td>chr2L</td>\n",
       "      <td>11345</td>\n",
       "      <td>NaN</td>\n",
       "      <td>chr2L</td>\n",
       "      <td>11412</td>\n",
       "      <td>NaN</td>\n",
       "      <td>1</td>\n",
       "      <td>SRX1054691</td>\n",
       "    </tr>\n",
       "    <tr>\n",
       "      <th>60</th>\n",
       "      <td>FBgn0002121</td>\n",
       "      <td>chr2L</td>\n",
       "      <td>11345</td>\n",
       "      <td>NaN</td>\n",
       "      <td>chr2L</td>\n",
       "      <td>11412</td>\n",
       "      <td>NaN</td>\n",
       "      <td>2</td>\n",
       "      <td>SRX045354</td>\n",
       "    </tr>\n",
       "    <tr>\n",
       "      <th>60</th>\n",
       "      <td>FBgn0002121</td>\n",
       "      <td>chr2L</td>\n",
       "      <td>11345</td>\n",
       "      <td>NaN</td>\n",
       "      <td>chr2L</td>\n",
       "      <td>11412</td>\n",
       "      <td>NaN</td>\n",
       "      <td>2</td>\n",
       "      <td>SRX160999</td>\n",
       "    </tr>\n",
       "    <tr>\n",
       "      <th>125</th>\n",
       "      <td>FBgn0002121</td>\n",
       "      <td>chr2L</td>\n",
       "      <td>11345</td>\n",
       "      <td>NaN</td>\n",
       "      <td>chr2L</td>\n",
       "      <td>11412</td>\n",
       "      <td>NaN</td>\n",
       "      <td>1</td>\n",
       "      <td>SRX823551</td>\n",
       "    </tr>\n",
       "    <tr>\n",
       "      <th>60</th>\n",
       "      <td>FBgn0002121</td>\n",
       "      <td>chr2L</td>\n",
       "      <td>11345</td>\n",
       "      <td>NaN</td>\n",
       "      <td>chr2L</td>\n",
       "      <td>11412</td>\n",
       "      <td>NaN</td>\n",
       "      <td>1</td>\n",
       "      <td>SRX1491298</td>\n",
       "    </tr>\n",
       "    <tr>\n",
       "      <th>140</th>\n",
       "      <td>FBgn0002121</td>\n",
       "      <td>chr2L</td>\n",
       "      <td>11345</td>\n",
       "      <td>NaN</td>\n",
       "      <td>chr2L</td>\n",
       "      <td>11412</td>\n",
       "      <td>NaN</td>\n",
       "      <td>1</td>\n",
       "      <td>SRX2540524</td>\n",
       "    </tr>\n",
       "    <tr>\n",
       "      <th>68</th>\n",
       "      <td>FBgn0002121</td>\n",
       "      <td>chr2L</td>\n",
       "      <td>11345</td>\n",
       "      <td>NaN</td>\n",
       "      <td>chr2L</td>\n",
       "      <td>11412</td>\n",
       "      <td>NaN</td>\n",
       "      <td>1</td>\n",
       "      <td>DRX073121</td>\n",
       "    </tr>\n",
       "    <tr>\n",
       "      <th>50</th>\n",
       "      <td>FBgn0002121</td>\n",
       "      <td>chr2L</td>\n",
       "      <td>11345</td>\n",
       "      <td>NaN</td>\n",
       "      <td>chr2L</td>\n",
       "      <td>11412</td>\n",
       "      <td>NaN</td>\n",
       "      <td>2</td>\n",
       "      <td>ERX1050475</td>\n",
       "    </tr>\n",
       "  </tbody>\n",
       "</table>\n",
       "</div>"
      ],
      "text/plain": [
       "     PrimaryGene Site1_chr  Site1_location  Site1_strand Site2_chr  \\\n",
       "269  FBgn0002121     chr2L           11345           NaN     chr2L   \n",
       "100  FBgn0002121     chr2L           11345           NaN     chr2L   \n",
       "50   FBgn0002121     chr2L           11345           NaN     chr2L   \n",
       "141  FBgn0002121     chr2L           11345           NaN     chr2L   \n",
       "9    FBgn0002121     chr2L           11345           NaN     chr2L   \n",
       "217  FBgn0002121     chr2L           11345           NaN     chr2L   \n",
       "61   FBgn0002121     chr2L           11345           NaN     chr2L   \n",
       "189  FBgn0002121     chr2L           11345           NaN     chr2L   \n",
       "65   FBgn0002121     chr2L           11345           NaN     chr2L   \n",
       "60   FBgn0002121     chr2L           11345           NaN     chr2L   \n",
       "60   FBgn0002121     chr2L           11345           NaN     chr2L   \n",
       "125  FBgn0002121     chr2L           11345           NaN     chr2L   \n",
       "60   FBgn0002121     chr2L           11345           NaN     chr2L   \n",
       "140  FBgn0002121     chr2L           11345           NaN     chr2L   \n",
       "68   FBgn0002121     chr2L           11345           NaN     chr2L   \n",
       "50   FBgn0002121     chr2L           11345           NaN     chr2L   \n",
       "\n",
       "     Site2_location  Site2_strand  count         srx  \n",
       "269           11412           NaN      1   SRX792878  \n",
       "100           11412           NaN      1  SRX1491300  \n",
       "50            11413           NaN      1  SRX1637700  \n",
       "141           11412           NaN      1  SRX2540526  \n",
       "9             11412           NaN      2   SRX029396  \n",
       "217           11412           NaN      1   SRX823556  \n",
       "61            11412           NaN      1   SRX161007  \n",
       "189           11412           NaN      1  SRX2540527  \n",
       "65            11412           NaN      1  SRX1054691  \n",
       "60            11412           NaN      2   SRX045354  \n",
       "60            11412           NaN      2   SRX160999  \n",
       "125           11412           NaN      1   SRX823551  \n",
       "60            11412           NaN      1  SRX1491298  \n",
       "140           11412           NaN      1  SRX2540524  \n",
       "68            11412           NaN      1   DRX073121  \n",
       "50            11412           NaN      2  ERX1050475  "
      ]
     },
     "execution_count": 14,
     "metadata": {},
     "output_type": "execute_result"
    }
   ],
   "source": [
    "dfs_chrom.query('Site1_chr == \"chr2L\" & Site1_location == 11345').compute()"
   ]
  },
  {
   "cell_type": "code",
   "execution_count": 20,
   "metadata": {},
   "outputs": [
    {
     "data": {
      "text/plain": [
       "<matplotlib.axes._subplots.AxesSubplot at 0x7f41a8542b70>"
      ]
     },
     "execution_count": 20,
     "metadata": {},
     "output_type": "execute_result"
    },
    {
     "data": {
      "image/png": "[encoded data removed]",
      "text/plain": [
       "<matplotlib.figure.Figure at 0x7f41a8517d30>"
      ]
     },
     "metadata": {},
     "output_type": "display_data"
    }
   ],
   "source": [
    "fig = plt.figure(figsize=(10,10))\n",
    "sns.kdeplot(counts[counts != 0])"
   ]
  },
  {
   "cell_type": "code",
   "execution_count": 22,
   "metadata": {},
   "outputs": [
    {
     "data": {
      "text/plain": [
       "<matplotlib.axes._subplots.AxesSubplot at 0x7f41a3d470f0>"
      ]
     },
     "execution_count": 22,
     "metadata": {},
     "output_type": "execute_result"
    },
    {
     "data": {
      "image/png": "[encoded data removed]",
      "text/plain": [
       "<matplotlib.figure.Figure at 0x7f41a3d47048>"
      ]
     },
     "metadata": {},
     "output_type": "display_data"
    }
   ],
   "source": [
    "fig = plt.figure(figsize=(10, 10))\n",
    "sns.kdeplot(totals)"
   ]
  },
  {
   "cell_type": "code",
   "execution_count": null,
   "metadata": {},
   "outputs": [],
   "source": []
  },
  {
   "cell_type": "code",
   "execution_count": null,
   "metadata": {},
   "outputs": [],
   "source": []
  },
  {
   "cell_type": "code",
   "execution_count": null,
   "metadata": {},
   "outputs": [],
   "source": []
  },
  {
   "cell_type": "code",
   "execution_count": null,
   "metadata": {},
   "outputs": [],
   "source": []
  }
 ],
 "metadata": {
  "kernelspec": {
   "display_name": "Python [conda env:ncbi_remap]",
   "language": "python",
   "name": "conda-env-ncbi_remap-py"
  },
  "language_info": {
   "codemirror_mode": {
    "name": "ipython",
    "version": 3
   },
   "file_extension": ".py",
   "mimetype": "text/x-python",
   "name": "python",
   "nbconvert_exporter": "python",
   "pygments_lexer": "ipython3",
   "version": "3.6.3"
  }
 },
 "nbformat": 4,
 "nbformat_minor": 2
}
