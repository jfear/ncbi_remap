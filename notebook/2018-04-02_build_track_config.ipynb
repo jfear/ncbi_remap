{
 "cells": [
  {
   "cell_type": "code",
   "execution_count": 3,
   "metadata": {},
   "outputs": [
    {
     "name": "stdout",
     "output_type": "stream",
     "text": [
      "Please check output/fbgn2chrom.tsv. If it does not exist, run bin/fbgn2chrom.py\n",
      "last updated: 2018-04-02 \n",
      "Git hash: 9b8b788ea8c41c64ba111a5698eead9fecb7a1ca\n"
     ]
    }
   ],
   "source": [
    "import os\n",
    "import sys\n",
    "from pathlib import Path\n",
    "from configparser import ConfigParser\n",
    "\n",
    "from IPython.display import display, HTML, Markdown\n",
    "import numpy as np\n",
    "import pandas as pd\n",
    "\n",
    "import matplotlib as mpl\n",
    "import matplotlib.pyplot as plt\n",
    "import seaborn as sns\n",
    "\n",
    "# Project level imports\n",
    "sys.path.insert(0, '../lib')\n",
    "from ncbi_remap.notebook import Nb\n",
    "from ncbi_remap.plotting import make_figs\n",
    "\n",
    "# Setup notebook\n",
    "nbconfig = Nb.setup_notebook()\n",
    "\n",
    "# Connect to data store\n",
    "store = pd.HDFStore('../output/sra.h5', mode='r')"
   ]
  },
  {
   "cell_type": "code",
   "execution_count": 6,
   "metadata": {},
   "outputs": [],
   "source": [
    "fb = pd.read_csv('../output/flybase_samples.tsv', sep='\\t', comment='#').srx.unique()"
   ]
  },
  {
   "cell_type": "code",
   "execution_count": 8,
   "metadata": {},
   "outputs": [
    {
     "data": {
      "text/plain": [
       "array(['SRX2541782', 'SRX2541781', 'SRX2541780', 'SRX2541779',\n",
       "       'SRX2541778', 'SRX2541777', 'SRX2541770', 'SRX2541769',\n",
       "       'SRX2541768', 'SRX2541767'], dtype=object)"
      ]
     },
     "execution_count": 8,
     "metadata": {},
     "output_type": "execute_result"
    }
   ],
   "source": [
    "fb[:10]"
   ]
  },
  {
   "cell_type": "code",
   "execution_count": null,
   "metadata": {},
   "outputs": [],
   "source": []
  },
  {
   "cell_type": "code",
   "execution_count": null,
   "metadata": {},
   "outputs": [],
   "source": []
  },
  {
   "cell_type": "code",
   "execution_count": 16,
   "metadata": {},
   "outputs": [],
   "source": [
    "config = ConfigParser()\n",
    "\n",
    "config['x-axis'] = {}\n",
    "\n",
    "config['spacer'] = {}\n",
    "\n",
    "for srx in fb[:20]:\n",
    "    config[f'{srx}.first'] = {\n",
    "        'file': f'output/samples/{srx}/{srx}.first.bw',\n",
    "        'title': f'{srx}',\n",
    "        'height': 1,\n",
    "        'color': '#0000ff80',\n",
    "        'min_value': 0,\n",
    "        'max_value': 30,\n",
    "        'number of bins': 500,\n",
    "        'nans to zeros': True,\n",
    "        'show data range': 'yes',\n",
    "        'file_type': 'bigwig',\n",
    "    }\n",
    "\n",
    "    config[f'{srx}.second'] = {\n",
    "        'file': f'output/samples/{srx}/{srx}.second.bw',\n",
    "        'overlay previous': 'yes',\n",
    "        'height': 1,\n",
    "        'color': '#ff000080',\n",
    "        'min_value': 0,\n",
    "        'max_value': 30,\n",
    "        'number of bins': 500,\n",
    "        'nans to zeros': True,\n",
    "        'show data range': 'no',\n",
    "        'file_type': 'bigwig',\n",
    "    }\n",
    "\n",
    "config['spacer'] = {}\n",
    "\n",
    "config['dmel_r6-11'] = {\n",
    "    'file': 'dmel_r6-11.sort.bed12',\n",
    "    'title': 'genes',\n",
    "    'height': 2,\n",
    "    'color': 'darkblue',\n",
    "    'height': 5,\n",
    "    'labels': 'on',\n",
    "    'fontsize': 10,\n",
    "    'style': 'flybase',\n",
    "    'file_type': 'bed',\n",
    "}\n",
    "\n",
    "with open(\"../aln-wf/test.ini\", 'w') as fh:\n",
    "    config.write(fh)"
   ]
  },
  {
   "cell_type": "code",
   "execution_count": null,
   "metadata": {},
   "outputs": [],
   "source": []
  }
 ],
 "metadata": {
  "kernelspec": {
   "display_name": "Python [conda env:ncbi_remap]",
   "language": "python",
   "name": "conda-env-ncbi_remap-py"
  },
  "language_info": {
   "codemirror_mode": {
    "name": "ipython",
    "version": 3
   },
   "file_extension": ".py",
   "mimetype": "text/x-python",
   "name": "python",
   "nbconvert_exporter": "python",
   "pygments_lexer": "ipython3",
   "version": "3.6.3"
  }
 },
 "nbformat": 4,
 "nbformat_minor": 2
}
