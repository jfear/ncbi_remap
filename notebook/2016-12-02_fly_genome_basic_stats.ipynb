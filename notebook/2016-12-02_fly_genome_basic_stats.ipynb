{
 "cells": [
  {
   "cell_type": "code",
   "execution_count": 1,
   "metadata": {
    "code_folding": [
     0
    ],
    "collapsed": false
   },
   "outputs": [
    {
     "name": "stdout",
     "output_type": "stream",
     "text": [
      "last updated: 2016-12-02 \n",
      "\n",
      "CPython 3.5.2\n",
      "IPython 5.1.0\n"
     ]
    }
   ],
   "source": [
    "# Load useful extensions\n",
    "\n",
    "# Activate the autoreload extension for easy reloading of external packages\n",
    "%reload_ext autoreload\n",
    "%autoreload 1\n",
    "\n",
    "# Set up cashdir\n",
    "from ipycache import CacheMagics\n",
    "CacheMagics.cachedir = '../cachedir'\n",
    "\n",
    "# Trun on the water mark\n",
    "%reload_ext watermark\n",
    "%watermark -u -d -v\n",
    "\n",
    "# Load ipycache extension\n",
    "%reload_ext ipycache\n",
    "from ipycache import CacheMagics\n",
    "CacheMagics.cachedir = '../cachedir'\n",
    "\n",
    "# Add project library to path\n",
    "import sys\n",
    "sys.path.insert(0, '../../lib/python')\n",
    "\n",
    "%matplotlib inline"
   ]
  },
  {
   "cell_type": "code",
   "execution_count": 2,
   "metadata": {
    "code_folding": [
     0
    ],
    "collapsed": true
   },
   "outputs": [],
   "source": [
    "# imports\n",
    "from collections import Counter\n",
    "\n",
    "import numpy as np\n",
    "import pandas as pd\n",
    "import matplotlib.pyplot as plt\n",
    "import seaborn as sns\n",
    "import ipycache\n",
    "from IPython.display import Markdown\n",
    "\n",
    "import gffutils\n",
    "\n",
    "sns.set_context('notebook')"
   ]
  },
  {
   "cell_type": "code",
   "execution_count": 3,
   "metadata": {
    "code_folding": [
     0
    ],
    "collapsed": false
   },
   "outputs": [],
   "source": [
    "# Import DB\n",
    "db = gffutils.FeatureDB('/data/Oliverlab/references/genomes/Dmelanogaster/dm6/annotation/FlyBase_6.09/dmel-all-r6.09.chr.gtf.db')"
   ]
  },
  {
   "cell_type": "markdown",
   "metadata": {},
   "source": [
    "# Sanity Check of GTF"
   ]
  },
  {
   "cell_type": "markdown",
   "metadata": {},
   "source": [
    "FlyBase GTF available types:"
   ]
  },
  {
   "cell_type": "code",
   "execution_count": 4,
   "metadata": {
    "code_folding": [
     0
    ],
    "collapsed": false
   },
   "outputs": [
    {
     "data": {
      "text/plain": [
       "['3UTR',\n",
       " '5UTR',\n",
       " 'CDS',\n",
       " 'exon',\n",
       " 'gene',\n",
       " 'mRNA',\n",
       " 'miRNA',\n",
       " 'ncRNA',\n",
       " 'pre_miRNA',\n",
       " 'pseudogene',\n",
       " 'rRNA',\n",
       " 'snRNA',\n",
       " 'snoRNA',\n",
       " 'start_codon',\n",
       " 'stop_codon',\n",
       " 'tRNA',\n",
       " 'transcript']"
      ]
     },
     "execution_count": 4,
     "metadata": {},
     "output_type": "execute_result"
    }
   ],
   "source": [
    "# List of feature types\n",
    "list(db.featuretypes())"
   ]
  },
  {
   "cell_type": "markdown",
   "metadata": {},
   "source": [
    "In the GTF there are both 'mRNA' and 'transcript'. I want to make sure I understand the differences. There are fewer mRNA compared to transcripts, which is because 'transcript' includes:\n",
    "\n",
    "* mRNA\n",
    "* pseudogenes\n",
    "* rRNA\n",
    "* tRNA\n",
    "* snRNA\n",
    "* snoRNA\n",
    "* ncRNA\n"
   ]
  },
  {
   "cell_type": "code",
   "execution_count": 5,
   "metadata": {
    "code_folding": [],
    "collapsed": false
   },
   "outputs": [
    {
     "name": "stdout",
     "output_type": "stream",
     "text": [
      "mRNAs: 30446\n",
      "transcripts:34411\n"
     ]
    }
   ],
   "source": [
    "# There are two feature types that could be of interest, need to figure why they are different\n",
    "mrna = db.features_of_type('mRNA')\n",
    "ts = db.features_of_type('transcript')\n",
    "\n",
    "# Make list of (id, start, end)\n",
    "mrnas = [(x.id, x.start, x.end) for x in mrna]\n",
    "tss = [(x.id, x.start, x.end) for x in ts]\n",
    "\n",
    "# Print differences in length\n",
    "# There are more tss than mRNAs, are mRNAs a subset?\n",
    "print('mRNAs: {}\\ntranscripts:{}'.format(len(mrnas), len(tss)))\n",
    "\n",
    "# Besides mRNA there are also these \n",
    "mirnas = [(x.id, x.start, x.end) for x in db.features_of_type('miRNA')]\n",
    "ncrnas = [(x.id, x.start, x.end) for x in db.features_of_type('ncRNA')]\n",
    "pseudogenes = [(x.id, x.start, x.end) for x in db.features_of_type('pseudogene')]\n",
    "rrnas = [(x.id, x.start, x.end) for x in db.features_of_type('rRNA')]\n",
    "snrnas = [(x.id, x.start, x.end) for x in db.features_of_type('snRNA')]\n",
    "snornas = [(x.id, x.start, x.end) for x in db.features_of_type('snoRNA')]\n",
    "trnas = [(x.id, x.start, x.end) for x in db.features_of_type('tRNA')]\n",
    "\n",
    "# yes mRNA are a subset of tss with everything but miRNAs\n",
    "assert len(tss) == np.sum([len(ncrnas), len(pseudogenes), len(rrnas), len(snrnas), len(snornas), len(trnas), len(mrnas)])"
   ]
  },
  {
   "cell_type": "markdown",
   "metadata": {},
   "source": [
    "# Basic Counts"
   ]
  },
  {
   "cell_type": "code",
   "execution_count": 6,
   "metadata": {
    "collapsed": false
   },
   "outputs": [
    {
     "data": {
      "text/markdown": [
       "**Number of Genes:** 17,646\n"
      ],
      "text/plain": [
       "<IPython.core.display.Markdown object>"
      ]
     },
     "execution_count": 6,
     "metadata": {},
     "output_type": "execute_result"
    }
   ],
   "source": [
    "Markdown(\"\"\"\\\n",
    "**Number of Genes:** {:,}\n",
    "\"\"\".format(len(list(db.features_of_type('gene')))))"
   ]
  },
  {
   "cell_type": "markdown",
   "metadata": {},
   "source": [
    "## Quartile distribution of the number of {transcripts, exons, introns}"
   ]
  },
  {
   "cell_type": "code",
   "execution_count": 202,
   "metadata": {
    "code_folding": [
     0
    ],
    "collapsed": false
   },
   "outputs": [
    {
     "data": {
      "text/html": [
       "<div>\n",
       "<table border=\"1\" class=\"dataframe\">\n",
       "  <thead>\n",
       "    <tr style=\"text-align: right;\">\n",
       "      <th></th>\n",
       "      <th>Number Transcripts Per Gene</th>\n",
       "      <th>Number Exons Per Gene</th>\n",
       "      <th>Number Introns Per Gene</th>\n",
       "    </tr>\n",
       "  </thead>\n",
       "  <tbody>\n",
       "    <tr>\n",
       "      <th>Minimum</th>\n",
       "      <td>1</td>\n",
       "      <td>1</td>\n",
       "      <td>0</td>\n",
       "    </tr>\n",
       "    <tr>\n",
       "      <th>25th Percentile</th>\n",
       "      <td>1</td>\n",
       "      <td>2</td>\n",
       "      <td>1</td>\n",
       "    </tr>\n",
       "    <tr>\n",
       "      <th>Median</th>\n",
       "      <td>1</td>\n",
       "      <td>4</td>\n",
       "      <td>2</td>\n",
       "    </tr>\n",
       "    <tr>\n",
       "      <th>75th Percentile</th>\n",
       "      <td>2</td>\n",
       "      <td>9</td>\n",
       "      <td>6</td>\n",
       "    </tr>\n",
       "    <tr>\n",
       "      <th>Maximum</th>\n",
       "      <td>75</td>\n",
       "      <td>1,798</td>\n",
       "      <td>210</td>\n",
       "    </tr>\n",
       "  </tbody>\n",
       "</table>\n",
       "</div>"
      ],
      "text/plain": [
       "                Number Transcripts Per Gene Number Exons Per Gene  \\\n",
       "Minimum                                   1                     1   \n",
       "25th Percentile                           1                     2   \n",
       "Median                                    1                     4   \n",
       "75th Percentile                           2                     9   \n",
       "Maximum                                  75                 1,798   \n",
       "\n",
       "                Number Introns Per Gene  \n",
       "Minimum                               0  \n",
       "25th Percentile                       1  \n",
       "Median                                2  \n",
       "75th Percentile                       6  \n",
       "Maximum                             210  "
      ]
     },
     "execution_count": 202,
     "metadata": {},
     "output_type": "execute_result"
    }
   ],
   "source": [
    "# Count the number of transcripts, exons, introns per Gene\n",
    "gene_ts = []\n",
    "gene_exon = []\n",
    "gene_intron = []\n",
    "for gene in db.features_of_type('gene'):\n",
    "    exons = []\n",
    "    introns = []\n",
    "    for ts in db.children(gene, featuretype='transcript'):\n",
    "        gene_ts.append(gene.id)\n",
    "        ts_exons = sorted(list(db.children(ts, featuretype='exon')), key=lambda x: (x.start, x.end))\n",
    "        exons.extend(ts_exons)\n",
    "        for i in range(len(exons)-1):\n",
    "            s = exons[i].end + 1\n",
    "            e = exons[i+1].start\n",
    "            l = e - s\n",
    "            introns.append((s, e, l))\n",
    "    gene_exon.extend([gene.id]*len(set(exons)))\n",
    "    gene_intron.extend([gene.id]*len(set(introns)))\n",
    "\n",
    "num_ts_per_gene = Counter(gene_ts)\n",
    "num_exon_per_gene = Counter(gene_exon)\n",
    "num_intron_per_gene = Counter(gene_intron)\n",
    "\n",
    "# Munge counts to DataFrame\n",
    "gene_cnts = pd.concat([pd.DataFrame.from_dict(num_ts_per_gene, orient='index'), \n",
    "                       pd.DataFrame.from_dict(num_exon_per_gene, orient='index'),\n",
    "                       pd.DataFrame.from_dict(num_intron_per_gene, orient='index')], axis=1)\n",
    "\n",
    "gene_cnts.columns = ['Number Transcripts Per Gene',\n",
    "                     'Number Exons Per Gene',\n",
    "                     'Number Introns Per Gene']\n",
    "\n",
    "gene_cnts = gene_cnts.fillna(0).astype(int)\n",
    "\n",
    "# Look at Quartiles\n",
    "q = [0, 25, 50, 75, 100]\n",
    "dd = pd.DataFrame({'Number Transcripts Per Gene': np.percentile(gene_cnts['Number Transcripts Per Gene'], q),\n",
    "                   'Number Exons Per Gene': np.percentile(gene_cnts['Number Exons Per Gene'], q),\n",
    "                   'Number Introns Per Gene': np.percentile(gene_cnts['Number Introns Per Gene'], q)},\n",
    "           index=['Minimum', '25th Percentile', 'Median', '75th Percentile', 'Maximum']).applymap(lambda x: '{:,.0f}'.format(x))\n",
    "\n",
    "dd[['Number Transcripts Per Gene', 'Number Exons Per Gene', 'Number Introns Per Gene']]"
   ]
  },
  {
   "cell_type": "markdown",
   "metadata": {},
   "source": [
    "## Gene counts by number of {transcripts, exons, introns}"
   ]
  },
  {
   "cell_type": "code",
   "execution_count": 201,
   "metadata": {
    "code_folding": [
     0
    ],
    "collapsed": false
   },
   "outputs": [
    {
     "data": {
      "text/html": [
       "<div>\n",
       "<table border=\"1\" class=\"dataframe\">\n",
       "  <thead>\n",
       "    <tr style=\"text-align: right;\">\n",
       "      <th></th>\n",
       "      <th>Number Genes (Transcripts)</th>\n",
       "      <th>Number Genes (Exons)</th>\n",
       "      <th>Number Genes (Introns)</th>\n",
       "    </tr>\n",
       "    <tr>\n",
       "      <th>Number Per Gene</th>\n",
       "      <th></th>\n",
       "      <th></th>\n",
       "      <th></th>\n",
       "    </tr>\n",
       "  </thead>\n",
       "  <tbody>\n",
       "    <tr>\n",
       "      <th>0</th>\n",
       "      <td>0</td>\n",
       "      <td>0</td>\n",
       "      <td>4,191</td>\n",
       "    </tr>\n",
       "    <tr>\n",
       "      <th>1</th>\n",
       "      <td>10,035</td>\n",
       "      <td>4,191</td>\n",
       "      <td>2,856</td>\n",
       "    </tr>\n",
       "    <tr>\n",
       "      <th>1 &lt; x ≤ 5</th>\n",
       "      <td>6,571</td>\n",
       "      <td>6,765</td>\n",
       "      <td>5,991</td>\n",
       "    </tr>\n",
       "    <tr>\n",
       "      <th>5 &lt; x ≤ 10</th>\n",
       "      <td>639</td>\n",
       "      <td>2,697</td>\n",
       "      <td>2,547</td>\n",
       "    </tr>\n",
       "    <tr>\n",
       "      <th>10 &lt; x ≤ 20</th>\n",
       "      <td>143</td>\n",
       "      <td>1,759</td>\n",
       "      <td>1,379</td>\n",
       "    </tr>\n",
       "    <tr>\n",
       "      <th>20 &lt; x ≤ 40</th>\n",
       "      <td>17</td>\n",
       "      <td>1,103</td>\n",
       "      <td>393</td>\n",
       "    </tr>\n",
       "    <tr>\n",
       "      <th>40 &lt; x ≤ 80</th>\n",
       "      <td>2</td>\n",
       "      <td>545</td>\n",
       "      <td>48</td>\n",
       "    </tr>\n",
       "    <tr>\n",
       "      <th>80 &lt; x ≤ 160</th>\n",
       "      <td>0</td>\n",
       "      <td>261</td>\n",
       "      <td>1</td>\n",
       "    </tr>\n",
       "    <tr>\n",
       "      <th>160 &lt; x ≤ 420</th>\n",
       "      <td>0</td>\n",
       "      <td>78</td>\n",
       "      <td>1</td>\n",
       "    </tr>\n",
       "    <tr>\n",
       "      <th>420 &lt; x ≤ 840</th>\n",
       "      <td>0</td>\n",
       "      <td>5</td>\n",
       "      <td>0</td>\n",
       "    </tr>\n",
       "    <tr>\n",
       "      <th>840 &lt; x ≤ 1,680</th>\n",
       "      <td>0</td>\n",
       "      <td>1</td>\n",
       "      <td>0</td>\n",
       "    </tr>\n",
       "    <tr>\n",
       "      <th>1,680 &lt; x</th>\n",
       "      <td>0</td>\n",
       "      <td>2</td>\n",
       "      <td>0</td>\n",
       "    </tr>\n",
       "  </tbody>\n",
       "</table>\n",
       "</div>"
      ],
      "text/plain": [
       "                Number Genes (Transcripts) Number Genes (Exons)  \\\n",
       "Number Per Gene                                                   \n",
       "0                                        0                    0   \n",
       "1                                   10,035                4,191   \n",
       "1 < x ≤ 5                            6,571                6,765   \n",
       "5 < x ≤ 10                             639                2,697   \n",
       "10 < x ≤ 20                            143                1,759   \n",
       "20 < x ≤ 40                             17                1,103   \n",
       "40 < x ≤ 80                              2                  545   \n",
       "80 < x ≤ 160                             0                  261   \n",
       "160 < x ≤ 420                            0                   78   \n",
       "420 < x ≤ 840                            0                    5   \n",
       "840 < x ≤ 1,680                          0                    1   \n",
       "1,680 < x                                0                    2   \n",
       "\n",
       "                Number Genes (Introns)  \n",
       "Number Per Gene                         \n",
       "0                                4,191  \n",
       "1                                2,856  \n",
       "1 < x ≤ 5                        5,991  \n",
       "5 < x ≤ 10                       2,547  \n",
       "10 < x ≤ 20                      1,379  \n",
       "20 < x ≤ 40                        393  \n",
       "40 < x ≤ 80                         48  \n",
       "80 < x ≤ 160                         1  \n",
       "160 < x ≤ 420                        1  \n",
       "420 < x ≤ 840                        0  \n",
       "840 < x ≤ 1,680                      0  \n",
       "1,680 < x                            0  "
      ]
     },
     "execution_count": 201,
     "metadata": {},
     "output_type": "execute_result"
    }
   ],
   "source": [
    "# Break into bins and count\n",
    "bins = [1, 5, 10, 20, 40, 80, 160, 420, 840, 1680, 99999]\n",
    "labels = [\n",
    "    '1 < x ≤ 5', \n",
    "    '5 < x ≤ 10', \n",
    "    '10 < x ≤ 20', \n",
    "    '20 < x ≤ 40', \n",
    "    '40 < x ≤ 80', \n",
    "    '80 < x ≤ 160', \n",
    "    '160 < x ≤ 420', \n",
    "    '420 < x ≤ 840', \n",
    "    '840 < x ≤ 1,680', \n",
    "    '1,680 < x',\n",
    "]\n",
    "\n",
    "# transcripts\n",
    "dfTS = pd.cut(gene_cnts['Number Transcripts Per Gene'], bins=bins, labels=labels)\n",
    "## Add 0 and 1 group\n",
    "dfTS.cat.add_categories(['0', '1'], inplace=True)\n",
    "dfTS[gene_cnts['Number Transcripts Per Gene'] == 0] = '0'\n",
    "dfTS[gene_cnts['Number Transcripts Per Gene'] == 1] = '1'\n",
    "\n",
    "# exons\n",
    "dfExon = pd.cut(gene_cnts['Number Exons Per Gene'], bins=bins, labels=labels)\n",
    "## Add 0 and 1 group\n",
    "dfExon.cat.add_categories(['0', '1'], inplace=True)\n",
    "dfExon[gene_cnts['Number Exons Per Gene'] == 0] = '0'\n",
    "dfExon[gene_cnts['Number Exons Per Gene'] == 1] = '1'\n",
    "\n",
    "# introns\n",
    "dfIntron = pd.cut(gene_cnts['Number Introns Per Gene'], bins=bins, labels=labels)\n",
    "## Add 0 and 1 group\n",
    "dfIntron.cat.add_categories(['0', '1'], inplace=True)\n",
    "dfIntron[gene_cnts['Number Introns Per Gene'] == 0] = '0'\n",
    "dfIntron[gene_cnts['Number Introns Per Gene'] == 1] = '1'\n",
    "\n",
    "# munge to data frame\n",
    "df3 = pd.concat([dfTS.groupby(dfTS).count().map(lambda x: '{:,}'.format(x)),\n",
    "           dfExon.groupby(dfExon).count().map(lambda x: '{:,}'.format(x)),\n",
    "           dfIntron.groupby(dfIntron).count().map(lambda x: '{:,}'.format(x))], axis=1)\n",
    "\n",
    "df3.index.name = 'Number Per Gene'\n",
    "\n",
    "df3.columns = ['Number Genes (Transcripts)',\n",
    "               'Number Genes (Exons)',\n",
    "               'Number Genes (Introns)']\n",
    "\n",
    "df3.loc[['0', '1'] + labels, ['Number Genes (Transcripts)', 'Number Genes (Exons)', 'Number Genes (Introns)']]"
   ]
  },
  {
   "cell_type": "markdown",
   "metadata": {},
   "source": [
    "# Intron Length Summary"
   ]
  },
  {
   "cell_type": "markdown",
   "metadata": {},
   "source": [
    "## Quartile distribution of intron length"
   ]
  },
  {
   "cell_type": "code",
   "execution_count": 203,
   "metadata": {
    "code_folding": [
     0
    ],
    "collapsed": false
   },
   "outputs": [
    {
     "data": {
      "text/html": [
       "<div>\n",
       "<table border=\"1\" class=\"dataframe\">\n",
       "  <thead>\n",
       "    <tr style=\"text-align: right;\">\n",
       "      <th></th>\n",
       "      <th>Intron Length (bp)</th>\n",
       "    </tr>\n",
       "  </thead>\n",
       "  <tbody>\n",
       "    <tr>\n",
       "      <th>Minimum</th>\n",
       "      <td>2</td>\n",
       "    </tr>\n",
       "    <tr>\n",
       "      <th>25th Percentile</th>\n",
       "      <td>62</td>\n",
       "    </tr>\n",
       "    <tr>\n",
       "      <th>Median</th>\n",
       "      <td>101</td>\n",
       "    </tr>\n",
       "    <tr>\n",
       "      <th>75th Percentile</th>\n",
       "      <td>751</td>\n",
       "    </tr>\n",
       "    <tr>\n",
       "      <th>Maximum</th>\n",
       "      <td>268,107</td>\n",
       "    </tr>\n",
       "  </tbody>\n",
       "</table>\n",
       "</div>"
      ],
      "text/plain": [
       "                Intron Length (bp)\n",
       "Minimum                          2\n",
       "25th Percentile                 62\n",
       "Median                         101\n",
       "75th Percentile                751\n",
       "Maximum                    268,107"
      ]
     },
     "execution_count": 203,
     "metadata": {},
     "output_type": "execute_result"
    }
   ],
   "source": [
    "# Get list of introns\n",
    "# Iterate over each gene and transcript to get a list of introns\n",
    "introns = set()\n",
    "for ts in db.features_of_type('transcript'):\n",
    "    exons = sorted(list(db.children(ts, featuretype='exon')), key=lambda x: (x.start, x.end))\n",
    "    for i in range(len(exons)-1):\n",
    "        s = exons[i].end + 1\n",
    "        e = exons[i+1].start\n",
    "        l = e - s\n",
    "        introns.add((s, e, l))\n",
    "\n",
    "# Summarize Intron length\n",
    "pd.DataFrame(['{:,.0f}'.format(x) for x in np.percentile([x[2] for x in introns], [0, 25, 50, 75, 100])],\n",
    "             index=['Minimum', '25th Percentile', 'Median', '75th Percentile', 'Maximum'], columns=['Intron Length (bp)'])"
   ]
  },
  {
   "cell_type": "markdown",
   "metadata": {},
   "source": [
    "## Intron counts by intron length"
   ]
  },
  {
   "cell_type": "code",
   "execution_count": 207,
   "metadata": {
    "code_folding": [
     0
    ],
    "collapsed": false
   },
   "outputs": [
    {
     "data": {
      "text/html": [
       "<div>\n",
       "<table border=\"1\" class=\"dataframe\">\n",
       "  <thead>\n",
       "    <tr style=\"text-align: right;\">\n",
       "      <th></th>\n",
       "      <th>Number of Introns</th>\n",
       "    </tr>\n",
       "    <tr>\n",
       "      <th>Intron Length (bp)</th>\n",
       "      <th></th>\n",
       "    </tr>\n",
       "  </thead>\n",
       "  <tbody>\n",
       "    <tr>\n",
       "      <th>0 &lt; x ≤ 100</th>\n",
       "      <td>30,130</td>\n",
       "    </tr>\n",
       "    <tr>\n",
       "      <th>100 &lt; x ≤ 500</th>\n",
       "      <td>12,130</td>\n",
       "    </tr>\n",
       "    <tr>\n",
       "      <th>500 &lt; x ≤ 1,000</th>\n",
       "      <td>4,918</td>\n",
       "    </tr>\n",
       "    <tr>\n",
       "      <th>1,000 &lt; x ≤ 5,000</th>\n",
       "      <td>8,420</td>\n",
       "    </tr>\n",
       "    <tr>\n",
       "      <th>5,000 &lt; x ≤ 10,000</th>\n",
       "      <td>2,226</td>\n",
       "    </tr>\n",
       "    <tr>\n",
       "      <th>10,000 &lt; x ≤ 50,000</th>\n",
       "      <td>2,237</td>\n",
       "    </tr>\n",
       "    <tr>\n",
       "      <th>50,000 &lt; x ≤ 100,000</th>\n",
       "      <td>172</td>\n",
       "    </tr>\n",
       "    <tr>\n",
       "      <th>100,000 &lt; x</th>\n",
       "      <td>38</td>\n",
       "    </tr>\n",
       "  </tbody>\n",
       "</table>\n",
       "</div>"
      ],
      "text/plain": [
       "                     Number of Introns\n",
       "Intron Length (bp)                    \n",
       "0 < x ≤ 100                     30,130\n",
       "100 < x ≤ 500                   12,130\n",
       "500 < x ≤ 1,000                  4,918\n",
       "1,000 < x ≤ 5,000                8,420\n",
       "5,000 < x ≤ 10,000               2,226\n",
       "10,000 < x ≤ 50,000              2,237\n",
       "50,000 < x ≤ 100,000               172\n",
       "100,000 < x                         38"
      ]
     },
     "execution_count": 207,
     "metadata": {},
     "output_type": "execute_result"
    }
   ],
   "source": [
    "# Summarize Number of introns with various lengths\n",
    "df = pd.DataFrame(list(introns), columns=['start', 'end', 'length'])\n",
    "\n",
    "bins = [0, 100, 500, 1000, 5000, 10000, 50000, 100000, 999999]\n",
    "labels = ['0 < x ≤ 100', \n",
    "          '100 < x ≤ 500', \n",
    "          '500 < x ≤ 1,000', \n",
    "          '1,000 < x ≤ 5,000', \n",
    "          '5,000 < x ≤ 10,000', \n",
    "          '10,000 < x ≤ 50,000', \n",
    "          '50,000 < x ≤ 100,000', \n",
    "          '100,000 < x',\n",
    "         ]\n",
    "\n",
    "dfIn = pd.cut(df.length, bins=bins, labels=labels)\n",
    "\n",
    "dd = pd.DataFrame(dfIn.groupby(dfIn).count().map(lambda x: '{:,}'.format(x)))\n",
    "dd.index.name = 'Intron Length (bp)'\n",
    "dd.columns = ['Number of Introns']\n",
    "dd"
   ]
  },
  {
   "cell_type": "markdown",
   "metadata": {},
   "source": [
    "# Exon Length Summary"
   ]
  },
  {
   "cell_type": "markdown",
   "metadata": {},
   "source": [
    "## Quartile distribution of exon lengths"
   ]
  },
  {
   "cell_type": "code",
   "execution_count": 210,
   "metadata": {
    "code_folding": [],
    "collapsed": false
   },
   "outputs": [
    {
     "data": {
      "text/html": [
       "<div>\n",
       "<table border=\"1\" class=\"dataframe\">\n",
       "  <thead>\n",
       "    <tr style=\"text-align: right;\">\n",
       "      <th></th>\n",
       "      <th>Exon Length (bp)</th>\n",
       "    </tr>\n",
       "  </thead>\n",
       "  <tbody>\n",
       "    <tr>\n",
       "      <th>Minimum</th>\n",
       "      <td>1</td>\n",
       "    </tr>\n",
       "    <tr>\n",
       "      <th>25th Percentile</th>\n",
       "      <td>145</td>\n",
       "    </tr>\n",
       "    <tr>\n",
       "      <th>Median</th>\n",
       "      <td>252</td>\n",
       "    </tr>\n",
       "    <tr>\n",
       "      <th>75th Percentile</th>\n",
       "      <td>556</td>\n",
       "    </tr>\n",
       "    <tr>\n",
       "      <th>Maximum</th>\n",
       "      <td>28,074</td>\n",
       "    </tr>\n",
       "  </tbody>\n",
       "</table>\n",
       "</div>"
      ],
      "text/plain": [
       "                Exon Length (bp)\n",
       "Minimum                        1\n",
       "25th Percentile              145\n",
       "Median                       252\n",
       "75th Percentile              556\n",
       "Maximum                   28,074"
      ]
     },
     "execution_count": 210,
     "metadata": {},
     "output_type": "execute_result"
    }
   ],
   "source": [
    "# Get list of exons\n",
    "exons = [(x.start, x.end, len(x)) for x in db.features_of_type('exon')]\n",
    "\n",
    "# Summarize exon length\n",
    "pd.DataFrame(['{:,.0f}'.format(x) for x in np.percentile([x[2] for x in exons], [0, 25, 50, 75, 100])],\n",
    "             index=['Minimum', '25th Percentile', 'Median', '75th Percentile', 'Maximum'], columns=['Exon Length (bp)'])"
   ]
  },
  {
   "cell_type": "markdown",
   "metadata": {},
   "source": [
    "## Exon counts by exon length"
   ]
  },
  {
   "cell_type": "code",
   "execution_count": 221,
   "metadata": {
    "code_folding": [
     0
    ],
    "collapsed": false
   },
   "outputs": [
    {
     "data": {
      "text/html": [
       "<div>\n",
       "<table border=\"1\" class=\"dataframe\">\n",
       "  <thead>\n",
       "    <tr style=\"text-align: right;\">\n",
       "      <th></th>\n",
       "      <th>Number of Exons</th>\n",
       "    </tr>\n",
       "    <tr>\n",
       "      <th>Exon Length (bp)</th>\n",
       "      <th></th>\n",
       "    </tr>\n",
       "  </thead>\n",
       "  <tbody>\n",
       "    <tr>\n",
       "      <th>0 &lt; x ≤ 100</th>\n",
       "      <td>21,748</td>\n",
       "    </tr>\n",
       "    <tr>\n",
       "      <th>100 &lt; x ≤ 500</th>\n",
       "      <td>112,814</td>\n",
       "    </tr>\n",
       "    <tr>\n",
       "      <th>500 &lt; x ≤ 1,000</th>\n",
       "      <td>30,432</td>\n",
       "    </tr>\n",
       "    <tr>\n",
       "      <th>1,000 &lt; x ≤ 5,000</th>\n",
       "      <td>21,018</td>\n",
       "    </tr>\n",
       "    <tr>\n",
       "      <th>5,000 &lt; x ≤ 10,000</th>\n",
       "      <td>613</td>\n",
       "    </tr>\n",
       "    <tr>\n",
       "      <th>10,000 &lt; x ≤ 50,000</th>\n",
       "      <td>58</td>\n",
       "    </tr>\n",
       "    <tr>\n",
       "      <th>50,000 &lt; x ≤ 100,000</th>\n",
       "      <td>0</td>\n",
       "    </tr>\n",
       "    <tr>\n",
       "      <th>100,000 &lt; x</th>\n",
       "      <td>0</td>\n",
       "    </tr>\n",
       "  </tbody>\n",
       "</table>\n",
       "</div>"
      ],
      "text/plain": [
       "                     Number of Exons\n",
       "Exon Length (bp)                    \n",
       "0 < x ≤ 100                   21,748\n",
       "100 < x ≤ 500                112,814\n",
       "500 < x ≤ 1,000               30,432\n",
       "1,000 < x ≤ 5,000             21,018\n",
       "5,000 < x ≤ 10,000               613\n",
       "10,000 < x ≤ 50,000               58\n",
       "50,000 < x ≤ 100,000               0\n",
       "100,000 < x                        0"
      ]
     },
     "execution_count": 221,
     "metadata": {},
     "output_type": "execute_result"
    }
   ],
   "source": [
    "# Summarize Number of introns with various lengths\n",
    "df = pd.DataFrame(exons, columns=['start', 'end', 'length'])\n",
    "bins = [0, 100, 500, 1000, 5000, 10000, 50000, 100000, 999999]\n",
    "labels = ['0 < x ≤ 100', \n",
    "          '100 < x ≤ 500', \n",
    "          '500 < x ≤ 1,000', \n",
    "          '1,000 < x ≤ 5,000', \n",
    "          '5,000 < x ≤ 10,000', \n",
    "          '10,000 < x ≤ 50,000', \n",
    "          '50,000 < x ≤ 100,000', \n",
    "          '100,000 < x',\n",
    "         ]\n",
    "\n",
    "dfEx = pd.cut(df.length, bins=bins, labels=labels)\n",
    "\n",
    "dd = pd.DataFrame(dfEx.groupby(dfEx).count())\n",
    "dd.index.name = 'Exon Length (bp)'\n",
    "dd.columns = ['Number of Exons']\n",
    "\n",
    "# Make sure my counts add up to the total\n",
    "assert dd.sum().values == len(df)\n",
    "\n",
    "dd.applymap(lambda x: '{:,}'.format(x))"
   ]
  }
 ],
 "metadata": {
  "anaconda-cloud": {},
  "kernelspec": {
   "display_name": "Python [conda env:ncbi_remap]",
   "language": "python",
   "name": "conda-env-ncbi_remap-py"
  },
  "language_info": {
   "codemirror_mode": {
    "name": "ipython",
    "version": 3
   },
   "file_extension": ".py",
   "mimetype": "text/x-python",
   "name": "python",
   "nbconvert_exporter": "python",
   "pygments_lexer": "ipython3",
   "version": "3.5.2"
  },
  "nav_menu": {},
  "toc": {
   "navigate_menu": true,
   "number_sections": true,
   "sideBar": true,
   "threshold": 6,
   "toc_cell": false,
   "toc_section_display": "block",
   "toc_window_display": false
  }
 },
 "nbformat": 4,
 "nbformat_minor": 1
}
