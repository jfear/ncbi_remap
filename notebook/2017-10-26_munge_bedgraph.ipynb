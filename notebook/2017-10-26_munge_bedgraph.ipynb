{
 "cells": [
  {
   "cell_type": "code",
   "execution_count": 77,
   "metadata": {},
   "outputs": [],
   "source": [
    "import os\n",
    "import pandas as pd"
   ]
  },
  {
   "cell_type": "code",
   "execution_count": 65,
   "metadata": {},
   "outputs": [],
   "source": [
    "prj = '../../output/genome-wf'"
   ]
  },
  {
   "cell_type": "code",
   "execution_count": 139,
   "metadata": {},
   "outputs": [],
   "source": [
    "dfi = pd.read_csv('../../output/genome-wf/genome_cov.bedgraph', sep='\\t', chunksize=100000, \n",
    "                  header=None, index_col=[0, 1, 2])\n",
    "\n",
    "dfs = []\n",
    "for df in dfi:\n",
    "    dfs.append(df[df.sum(axis=1) == 0].reset_index().iloc[:, :3])\n",
    "\n",
    "df = pd.concat(dfs)\n",
    "df.columns = ['chrom', 'start', 'end']\n",
    "df.set_index('chrom', inplace=True)\n",
    "df['count'] = df.end - df.start"
   ]
  },
  {
   "cell_type": "code",
   "execution_count": 140,
   "metadata": {},
   "outputs": [
    {
     "data": {
      "text/html": [
       "<div>\n",
       "<style>\n",
       "    .dataframe thead tr:only-child th {\n",
       "        text-align: right;\n",
       "    }\n",
       "\n",
       "    .dataframe thead th {\n",
       "        text-align: left;\n",
       "    }\n",
       "\n",
       "    .dataframe tbody tr th {\n",
       "        vertical-align: top;\n",
       "    }\n",
       "</style>\n",
       "<table border=\"1\" class=\"dataframe\">\n",
       "  <thead>\n",
       "    <tr style=\"text-align: right;\">\n",
       "      <th></th>\n",
       "      <th>start</th>\n",
       "      <th>end</th>\n",
       "      <th>count</th>\n",
       "    </tr>\n",
       "    <tr>\n",
       "      <th>chrom</th>\n",
       "      <th></th>\n",
       "      <th></th>\n",
       "      <th></th>\n",
       "    </tr>\n",
       "  </thead>\n",
       "  <tbody>\n",
       "    <tr>\n",
       "      <th>chr2L</th>\n",
       "      <td>0.0</td>\n",
       "      <td>4967.0</td>\n",
       "      <td>4967.0</td>\n",
       "    </tr>\n",
       "    <tr>\n",
       "      <th>chr2L</th>\n",
       "      <td>20947.0</td>\n",
       "      <td>20988.0</td>\n",
       "      <td>41.0</td>\n",
       "    </tr>\n",
       "    <tr>\n",
       "      <th>chr2L</th>\n",
       "      <td>47668.0</td>\n",
       "      <td>48264.0</td>\n",
       "      <td>596.0</td>\n",
       "    </tr>\n",
       "    <tr>\n",
       "      <th>chr2L</th>\n",
       "      <td>48563.0</td>\n",
       "      <td>49683.0</td>\n",
       "      <td>1120.0</td>\n",
       "    </tr>\n",
       "    <tr>\n",
       "      <th>chr2L</th>\n",
       "      <td>49805.0</td>\n",
       "      <td>50226.0</td>\n",
       "      <td>421.0</td>\n",
       "    </tr>\n",
       "  </tbody>\n",
       "</table>\n",
       "</div>"
      ],
      "text/plain": [
       "         start      end   count\n",
       "chrom                          \n",
       "chr2L      0.0   4967.0  4967.0\n",
       "chr2L  20947.0  20988.0    41.0\n",
       "chr2L  47668.0  48264.0   596.0\n",
       "chr2L  48563.0  49683.0  1120.0\n",
       "chr2L  49805.0  50226.0   421.0"
      ]
     },
     "execution_count": 140,
     "metadata": {},
     "output_type": "execute_result"
    }
   ],
   "source": [
    "df.head()"
   ]
  },
  {
   "cell_type": "code",
   "execution_count": 163,
   "metadata": {},
   "outputs": [
    {
     "data": {
      "text/html": [
       "<div>\n",
       "<style>\n",
       "    .dataframe thead tr:only-child th {\n",
       "        text-align: right;\n",
       "    }\n",
       "\n",
       "    .dataframe thead th {\n",
       "        text-align: left;\n",
       "    }\n",
       "\n",
       "    .dataframe tbody tr th {\n",
       "        vertical-align: top;\n",
       "    }\n",
       "</style>\n",
       "<table border=\"1\" class=\"dataframe\">\n",
       "  <thead>\n",
       "    <tr style=\"text-align: right;\">\n",
       "      <th></th>\n",
       "      <th>total</th>\n",
       "    </tr>\n",
       "    <tr>\n",
       "      <th>chrom</th>\n",
       "      <th></th>\n",
       "    </tr>\n",
       "  </thead>\n",
       "  <tbody>\n",
       "    <tr>\n",
       "      <th>chr2L</th>\n",
       "      <td>943933.0</td>\n",
       "    </tr>\n",
       "    <tr>\n",
       "      <th>chr2R</th>\n",
       "      <td>1393006.0</td>\n",
       "    </tr>\n",
       "    <tr>\n",
       "      <th>chr3L</th>\n",
       "      <td>1485256.0</td>\n",
       "    </tr>\n",
       "    <tr>\n",
       "      <th>chr3R</th>\n",
       "      <td>1236090.0</td>\n",
       "    </tr>\n",
       "    <tr>\n",
       "      <th>chr4</th>\n",
       "      <td>61343.0</td>\n",
       "    </tr>\n",
       "  </tbody>\n",
       "</table>\n",
       "</div>"
      ],
      "text/plain": [
       "           total\n",
       "chrom           \n",
       "chr2L   943933.0\n",
       "chr2R  1393006.0\n",
       "chr3L  1485256.0\n",
       "chr3R  1236090.0\n",
       "chr4     61343.0"
      ]
     },
     "execution_count": 163,
     "metadata": {},
     "output_type": "execute_result"
    }
   ],
   "source": [
    "totals = df.groupby(level=0).apply(lambda x: x['count'].sum()).to_frame()\n",
    "totals.columns = ['total']\n",
    "totals.head()"
   ]
  },
  {
   "cell_type": "code",
   "execution_count": 166,
   "metadata": {},
   "outputs": [
    {
     "data": {
      "text/html": [
       "<div>\n",
       "<style>\n",
       "    .dataframe thead tr:only-child th {\n",
       "        text-align: right;\n",
       "    }\n",
       "\n",
       "    .dataframe thead th {\n",
       "        text-align: left;\n",
       "    }\n",
       "\n",
       "    .dataframe tbody tr th {\n",
       "        vertical-align: top;\n",
       "    }\n",
       "</style>\n",
       "<table border=\"1\" class=\"dataframe\">\n",
       "  <thead>\n",
       "    <tr style=\"text-align: right;\">\n",
       "      <th></th>\n",
       "      <th>len</th>\n",
       "    </tr>\n",
       "    <tr>\n",
       "      <th>chrom</th>\n",
       "      <th></th>\n",
       "    </tr>\n",
       "  </thead>\n",
       "  <tbody>\n",
       "    <tr>\n",
       "      <th>chr3R</th>\n",
       "      <td>32079331</td>\n",
       "    </tr>\n",
       "    <tr>\n",
       "      <th>chr3L</th>\n",
       "      <td>28110227</td>\n",
       "    </tr>\n",
       "    <tr>\n",
       "      <th>chr2R</th>\n",
       "      <td>25286936</td>\n",
       "    </tr>\n",
       "    <tr>\n",
       "      <th>chrX</th>\n",
       "      <td>23542271</td>\n",
       "    </tr>\n",
       "    <tr>\n",
       "      <th>chr2L</th>\n",
       "      <td>23513712</td>\n",
       "    </tr>\n",
       "  </tbody>\n",
       "</table>\n",
       "</div>"
      ],
      "text/plain": [
       "            len\n",
       "chrom          \n",
       "chr3R  32079331\n",
       "chr3L  28110227\n",
       "chr2R  25286936\n",
       "chrX   23542271\n",
       "chr2L  23513712"
      ]
     },
     "execution_count": 166,
     "metadata": {},
     "output_type": "execute_result"
    }
   ],
   "source": [
    "sizes = pd.read_csv('../../output/dm6.chrom.sizes', header=None, sep='\\t', names=['chrom', 'len'], index_col=0)\n",
    "sizes.head()"
   ]
  },
  {
   "cell_type": "code",
   "execution_count": 167,
   "metadata": {},
   "outputs": [],
   "source": [
    "merged = sizes.join(totals)"
   ]
  },
  {
   "cell_type": "code",
   "execution_count": 170,
   "metadata": {},
   "outputs": [
    {
     "data": {
      "text/html": [
       "<div>\n",
       "<style>\n",
       "    .dataframe thead tr:only-child th {\n",
       "        text-align: right;\n",
       "    }\n",
       "\n",
       "    .dataframe thead th {\n",
       "        text-align: left;\n",
       "    }\n",
       "\n",
       "    .dataframe tbody tr th {\n",
       "        vertical-align: top;\n",
       "    }\n",
       "</style>\n",
       "<table border=\"1\" class=\"dataframe\">\n",
       "  <thead>\n",
       "    <tr style=\"text-align: right;\">\n",
       "      <th></th>\n",
       "      <th>len</th>\n",
       "      <th>total</th>\n",
       "    </tr>\n",
       "    <tr>\n",
       "      <th>chrom</th>\n",
       "      <th></th>\n",
       "      <th></th>\n",
       "    </tr>\n",
       "  </thead>\n",
       "  <tbody>\n",
       "    <tr>\n",
       "      <th>chr3R</th>\n",
       "      <td>32079331</td>\n",
       "      <td>1236090.0</td>\n",
       "    </tr>\n",
       "    <tr>\n",
       "      <th>chr3L</th>\n",
       "      <td>28110227</td>\n",
       "      <td>1485256.0</td>\n",
       "    </tr>\n",
       "    <tr>\n",
       "      <th>chr2R</th>\n",
       "      <td>25286936</td>\n",
       "      <td>1393006.0</td>\n",
       "    </tr>\n",
       "    <tr>\n",
       "      <th>chrX</th>\n",
       "      <td>23542271</td>\n",
       "      <td>1146321.0</td>\n",
       "    </tr>\n",
       "    <tr>\n",
       "      <th>chr2L</th>\n",
       "      <td>23513712</td>\n",
       "      <td>943933.0</td>\n",
       "    </tr>\n",
       "  </tbody>\n",
       "</table>\n",
       "</div>"
      ],
      "text/plain": [
       "            len      total\n",
       "chrom                     \n",
       "chr3R  32079331  1236090.0\n",
       "chr3L  28110227  1485256.0\n",
       "chr2R  25286936  1393006.0\n",
       "chrX   23542271  1146321.0\n",
       "chr2L  23513712   943933.0"
      ]
     },
     "execution_count": 170,
     "metadata": {},
     "output_type": "execute_result"
    }
   ],
   "source": [
    "merged.head()"
   ]
  },
  {
   "cell_type": "code",
   "execution_count": 173,
   "metadata": {},
   "outputs": [],
   "source": [
    "effective_chrom_size = (merged.len - merged.total).to_frame()"
   ]
  },
  {
   "cell_type": "code",
   "execution_count": 175,
   "metadata": {},
   "outputs": [
    {
     "data": {
      "text/plain": [
       "0    133997162.0\n",
       "dtype: float64"
      ]
     },
     "execution_count": 175,
     "metadata": {},
     "output_type": "execute_result"
    }
   ],
   "source": [
    "effective_chrom_size.sum()"
   ]
  },
  {
   "cell_type": "code",
   "execution_count": 176,
   "metadata": {},
   "outputs": [],
   "source": [
    "CHROMS = [\n",
    "    'chr2L', \n",
    "    'chr2R',\n",
    "    'chr3L', \n",
    "    'chr3R',\n",
    "    'chr4', \n",
    "    'chrX',\n",
    "    'chrY',\n",
    "]"
   ]
  },
  {
   "cell_type": "code",
   "execution_count": 185,
   "metadata": {},
   "outputs": [],
   "source": [
    "dm6 = effective_chrom_size[effective_chrom_size.index.isin(CHROMS)].sum().values[0]"
   ]
  },
  {
   "cell_type": "code",
   "execution_count": 180,
   "metadata": {},
   "outputs": [],
   "source": [
    "dm3 = 121400000 "
   ]
  },
  {
   "cell_type": "code",
   "execution_count": 188,
   "metadata": {},
   "outputs": [
    {
     "name": "stdout",
     "output_type": "stream",
     "text": [
      "129,848,422.0\n"
     ]
    }
   ],
   "source": [
    "print('{:,}'.format(dm6))"
   ]
  },
  {
   "cell_type": "code",
   "execution_count": null,
   "metadata": {},
   "outputs": [],
   "source": []
  }
 ],
 "metadata": {
  "kernelspec": {
   "display_name": "Python [conda env:ncbi_remap]",
   "language": "python",
   "name": "conda-env-ncbi_remap-py"
  },
  "language_info": {
   "codemirror_mode": {
    "name": "ipython",
    "version": 3
   },
   "file_extension": ".py",
   "mimetype": "text/x-python",
   "name": "python",
   "nbconvert_exporter": "python",
   "pygments_lexer": "ipython3",
   "version": "3.5.4"
  },
  "toc": {
   "nav_menu": {},
   "number_sections": true,
   "sideBar": true,
   "skip_h1_title": false,
   "toc_cell": false,
   "toc_position": {},
   "toc_section_display": "block",
   "toc_window_display": false
  }
 },
 "nbformat": 4,
 "nbformat_minor": 2
}
