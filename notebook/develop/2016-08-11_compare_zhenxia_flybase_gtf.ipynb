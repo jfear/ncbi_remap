{
 "cells": [
  {
   "cell_type": "markdown",
   "metadata": {},
   "source": [
    "# Compare Zhenxia and FlyBase GTFs\n",
    "\n",
    "Zhenxia has created a GTF file using Stringtie. There are a ton of transcript models for each gene, so we don't think this is a very good representation. However, I want to create some metrics to compare the two GTF files."
   ]
  },
  {
   "cell_type": "code",
   "execution_count": 142,
   "metadata": {
    "collapsed": false
   },
   "outputs": [],
   "source": [
    "# Imports\n",
    "import tempfile\n",
    "from subprocess import check_call, PIPE\n",
    "\n",
    "import numpy as np\n",
    "import pandas as pd\n",
    "\n",
    "import gffutils\n",
    "import gffutils.pybedtools_integration\n",
    "import pybedtools"
   ]
  },
  {
   "cell_type": "markdown",
   "metadata": {},
   "source": [
    "It will be best to focus on a small subset and go from there. I will start by only looking at genes on **Y**. "
   ]
  },
  {
   "cell_type": "markdown",
   "metadata": {},
   "source": [
    "## Create GTF databases for the Y chromosome\n",
    "\n",
    "For testing I want to filter out only the Y chromosome because it is small and easy to work with. I will make a Y only version of both the FlyBase and StringTie GTFs and then create the gffutils databases for those in memory. "
   ]
  },
  {
   "cell_type": "code",
   "execution_count": 237,
   "metadata": {
    "code_folding": [],
    "collapsed": false
   },
   "outputs": [
    {
     "name": "stderr",
     "output_type": "stream",
     "text": [
      "/Users/fearjm/opt/miniconda3/envs/ncbi_remap/lib/python3.5/site-packages/gffutils/create.py:714: UserWarning: It appears you have a gene feature in your GTF file. You may want to use the `disable_infer_genes` option to speed up database creation\n",
      "  \"It appears you have a gene feature in your GTF \"\n"
     ]
    }
   ],
   "source": [
    "# Create a temp file for FlyBase Y chrom GTF\n",
    "dmel = tempfile.mkstemp()[1]\n",
    "\n",
    "# Pull out only the Y chrom and write to tmp\n",
    "cmd = 'grep -e \"^chrY\" ../../output/dmel-all-r6.08.chr.gtf >{0};'.format(dmel)\n",
    "check_call(cmd, shell=True)\n",
    "\n",
    "FlyBaseDB = gffutils.create_db(dmel, \":memory:\", id_spec={'gene': 'gene_id', 'transcript': 'transcript_id'})"
   ]
  },
  {
   "cell_type": "code",
   "execution_count": 238,
   "metadata": {
    "code_folding": [],
    "collapsed": false
   },
   "outputs": [
    {
     "name": "stderr",
     "output_type": "stream",
     "text": [
      "/Users/fearjm/opt/miniconda3/envs/ncbi_remap/lib/python3.5/site-packages/gffutils/create.py:705: UserWarning: It appears you have a transcript feature in your GTF file. You may want to use the `disable_infer_transcripts` option to speed up database creation\n",
      "  \"It appears you have a transcript feature in your GTF \"\n"
     ]
    }
   ],
   "source": [
    "# Create a temp file for StringTie Y chrom GTF\n",
    "tie = tempfile.mkstemp()[1]\n",
    "\n",
    "# Pull out only the Y chrom and write to tmp\n",
    "cmd = 'grep -e \"^chrY\" ../../data/zhenxia/all.ucsc.gtf > {0}'.format(tie)\n",
    "check_call(cmd, shell=True)\n",
    "\n",
    "TieDB = gffutils.create_db(tie, \":memory:\", id_spec={'gene': 'gene_id', 'transcript': 'transcript_id'})"
   ]
  },
  {
   "cell_type": "code",
   "execution_count": 232,
   "metadata": {
    "collapsed": false
   },
   "outputs": [
    {
     "name": "stdout",
     "output_type": "stream",
     "text": [
      "These are the types of features in the FlyBase GTF\n"
     ]
    },
    {
     "data": {
      "text/plain": [
       "['3UTR',\n",
       " '5UTR',\n",
       " 'CDS',\n",
       " 'exon',\n",
       " 'gene',\n",
       " 'mRNA',\n",
       " 'ncRNA',\n",
       " 'pseudogene',\n",
       " 'start_codon',\n",
       " 'stop_codon',\n",
       " 'transcript']"
      ]
     },
     "execution_count": 232,
     "metadata": {},
     "output_type": "execute_result"
    }
   ],
   "source": [
    "print(\"These are the types of features in the FlyBase GTF\")\n",
    "list(FlyBaseDB.featuretypes())"
   ]
  },
  {
   "cell_type": "code",
   "execution_count": 233,
   "metadata": {
    "collapsed": false
   },
   "outputs": [
    {
     "name": "stdout",
     "output_type": "stream",
     "text": [
      "These are the types of features in the StringTie GTF\n"
     ]
    },
    {
     "data": {
      "text/plain": [
       "['exon', 'gene', 'transcript']"
      ]
     },
     "execution_count": 233,
     "metadata": {},
     "output_type": "execute_result"
    }
   ],
   "source": [
    "print(\"These are the types of features in the StringTie GTF\")\n",
    "list(TieDB.featuretypes())"
   ]
  },
  {
   "cell_type": "markdown",
   "metadata": {},
   "source": [
    "## Basic Summary Stats\n",
    "\n",
    "I will now look at some basic summary stats."
   ]
  },
  {
   "cell_type": "code",
   "execution_count": 82,
   "metadata": {
    "collapsed": false
   },
   "outputs": [],
   "source": [
    "def get_feature_len(features, func=np.mean):\n",
    "    return func(np.array([x.end - x.start for x in features]))"
   ]
  },
  {
   "cell_type": "code",
   "execution_count": 234,
   "metadata": {
    "collapsed": false
   },
   "outputs": [],
   "source": [
    "stats = {'FB': {}, 'TIE': {}, 'COMPARE':{}}\n",
    "\n",
    "stats['FB']['num_genes'] = len(list(FlyBaseDB.features_of_type('gene')))\n",
    "stats['TIE']['num_genes'] = len(list(TieDB.features_of_type('gene')))\n",
    "\n",
    "stats['FB']['num_ts'] = len(list(FlyBaseDB.features_of_type('transcript')))\n",
    "stats['TIE']['num_ts'] = len(list(TieDB.features_of_type('transcript')))\n",
    "\n",
    "stats['FB']['avg_ts_len'] = get_feature_len(FlyBaseDB.features_of_type('transcript'))\n",
    "stats['TIE']['avg_ts_len'] = get_feature_len(TieDB.features_of_type('transcript'))\n",
    "\n",
    "stats['FB']['med_ts_len'] = get_feature_len(FlyBaseDB.features_of_type('transcript'), func=np.median)\n",
    "stats['TIE']['med_ts_len'] = get_feature_len(TieDB.features_of_type('transcript'), func=np.median)\n",
    "\n",
    "stats['FB']['max_ts_len'] = get_feature_len(FlyBaseDB.features_of_type('transcript'), func=np.max)\n",
    "stats['TIE']['max_ts_len'] = get_feature_len(TieDB.features_of_type('transcript'), func=np.max)\n",
    "\n",
    "stats['FB']['min_ts_len'] = get_feature_len(FlyBaseDB.features_of_type('transcript'), func=np.min)\n",
    "stats['TIE']['min_ts_len'] = get_feature_len(TieDB.features_of_type('transcript'), func=np.min)\n",
    "\n",
    "stats['FB']['num_exons'] = len(list(FlyBaseDB.features_of_type('exon')))\n",
    "stats['TIE']['num_exons'] = len(list(TieDB.features_of_type('exon')))\n",
    "\n",
    "stats['FB']['avg_exon_len'] = get_feature_len(FlyBaseDB.features_of_type('exon'))\n",
    "stats['TIE']['avg_exon_len'] = get_feature_len(TieDB.features_of_type('exon'))\n",
    "\n",
    "stats['FB']['med_exon_len'] = get_feature_len(FlyBaseDB.features_of_type('exon'), func=np.median)\n",
    "stats['TIE']['med_exon_len'] = get_feature_len(TieDB.features_of_type('exon'), func=np.median)\n",
    "\n",
    "stats['FB']['max_exon_len'] = get_feature_len(FlyBaseDB.features_of_type('exon'), func=np.max)\n",
    "stats['TIE']['max_exon_len'] = get_feature_len(TieDB.features_of_type('exon'), func=np.max)\n",
    "\n",
    "stats['FB']['min_exon_len'] = get_feature_len(FlyBaseDB.features_of_type('exon'), func=np.min)\n",
    "stats['TIE']['min_exon_len'] = get_feature_len(TieDB.features_of_type('exon'), func=np.min)"
   ]
  },
  {
   "cell_type": "code",
   "execution_count": 137,
   "metadata": {
    "collapsed": true
   },
   "outputs": [],
   "source": [
    "def get_bedtools(fbFeature='exon', tieFeature='exon'):\n",
    "    fb = gffutils.pybedtools_integration.to_bedtool(FlyBaseDB.features_of_type(fbFeature))\n",
    "    tie = gffutils.pybedtools_integration.to_bedtool(TieDB.features_of_type(tieFeature))\n",
    "    return fb, tie"
   ]
  },
  {
   "cell_type": "code",
   "execution_count": 226,
   "metadata": {
    "collapsed": true
   },
   "outputs": [],
   "source": [
    "# Count the number of exons that perfectly match\n",
    "fb, tie = get_bedtools(fbFeature='exon', tieFeature='exon')\n",
    "inter = tie.intersect(fb, f=1.0, s=True)\n",
    "stats['COMPARE']['exon_exact_match'] = inter.saveas('../../output/stringTie_FlyBase_exact_match.gtf').count()"
   ]
  },
  {
   "cell_type": "code",
   "execution_count": 255,
   "metadata": {
    "collapsed": false
   },
   "outputs": [],
   "source": [
    "# Count the number of exons that perfectly match\n",
    "fb, tie = get_bedtools(fbFeature='exon', tieFeature='exon')\n",
    "inter = tie.saveas().intersect(a=tie, b=tie)\n",
    "#stats['COMPARE']['exon_partial_match'] = inter.saveas('../../output/stringTie_FlyBase_fuzy_unique.gtf').count()"
   ]
  },
  {
   "cell_type": "code",
   "execution_count": 256,
   "metadata": {
    "collapsed": false
   },
   "outputs": [],
   "source": [
    "inter.head()"
   ]
  },
  {
   "cell_type": "code",
   "execution_count": 274,
   "metadata": {
    "collapsed": true
   },
   "outputs": [],
   "source": [
    "fb, tie = get_bedtools(fbFeature='exon', tieFeature='exon')"
   ]
  },
  {
   "cell_type": "code",
   "execution_count": 275,
   "metadata": {
    "collapsed": false
   },
   "outputs": [],
   "source": [
    "fb, tie2 = get_bedtools(fbFeature='exon', tieFeature='exon')"
   ]
  },
  {
   "cell_type": "code",
   "execution_count": 276,
   "metadata": {
    "collapsed": false
   },
   "outputs": [],
   "source": [
    "merged = tie.intersect(tie2, f=.9, r=True, s=True).saveas('../../output/stringTie_FlyBase_fuzy_unique.gtf')"
   ]
  },
  {
   "cell_type": "code",
   "execution_count": 273,
   "metadata": {
    "collapsed": false
   },
   "outputs": [
    {
     "name": "stdout",
     "output_type": "stream",
     "text": [
      "chrY\tStringTie\texon\t1\t18\t1000\t-\t.\ttranscript_id \"MSTRG.9704.1\"; ; exon_number \"1\"; gene_id \"MSTRG.9704\"\n",
      " chrY\tStringTie\texon\t80\t1197\t1000\t-\t.\ttranscript_id \"MSTRG.9704.1\"; ; exon_number \"2\"; gene_id \"MSTRG.9704\"\n",
      " chrY\tStringTie\texon\t233\t486\t1000\t-\t.\ttranscript_id \"MSTRG.9704.1\"; ; exon_number \"2\"; gene_id \"MSTRG.9704\"\n",
      " chrY\tStringTie\texon\t555\t1197\t1000\t-\t.\ttranscript_id \"MSTRG.9704.1\"; ; exon_number \"2\"; gene_id \"MSTRG.9704\"\n",
      " chrY\tStringTie\texon\t251\t274\t1000\t-\t.\ttranscript_id \"MSTRG.9704.1\"; ; exon_number \"2\"; gene_id \"MSTRG.9704\"\n",
      " chrY\tStringTie\texon\t394\t1197\t1000\t-\t.\ttranscript_id \"MSTRG.9704.1\"; ; exon_number \"2\"; gene_id \"MSTRG.9704\"\n",
      " chrY\tStringTie\texon\t50330\t50352\t1000\t-\t.\ttranscript_id \"MSTRG.9704.1\"; ; exon_number \"3\"; gene_id \"MSTRG.9704\"\n",
      " chrY\tStringTie\texon\t233\t486\t1000\t+\t.\ttranscript_id \"MSTRG.9705.1\"; ; exon_number \"1\"; gene_id \"MSTRG.9705\"\n",
      " chrY\tStringTie\texon\t233\t486\t1000\t+\t.\ttranscript_id \"MSTRG.9705.1\"; ; exon_number \"1\"; gene_id \"MSTRG.9705\"\n",
      " chrY\tStringTie\texon\t251\t274\t1000\t+\t.\ttranscript_id \"MSTRG.9705.1\"; ; exon_number \"1\"; gene_id \"MSTRG.9705\"\n",
      " "
     ]
    }
   ],
   "source": [
    "merged.head()"
   ]
  },
  {
   "cell_type": "code",
   "execution_count": 225,
   "metadata": {
    "collapsed": false
   },
   "outputs": [
    {
     "data": {
      "text/plain": [
       "1482"
      ]
     },
     "execution_count": 225,
     "metadata": {},
     "output_type": "execute_result"
    }
   ],
   "source": [
    "merged.count()"
   ]
  },
  {
   "cell_type": "code",
   "execution_count": null,
   "metadata": {
    "collapsed": true
   },
   "outputs": [],
   "source": [
    "db.merge()"
   ]
  }
 ],
 "metadata": {
  "kernelspec": {
   "display_name": "Python 3",
   "language": "python",
   "name": "python3"
  },
  "language_info": {
   "codemirror_mode": {
    "name": "ipython",
    "version": 3
   },
   "file_extension": ".py",
   "mimetype": "text/x-python",
   "name": "python",
   "nbconvert_exporter": "python",
   "pygments_lexer": "ipython3",
   "version": "3.5.2"
  }
 },
 "nbformat": 4,
 "nbformat_minor": 0
}
