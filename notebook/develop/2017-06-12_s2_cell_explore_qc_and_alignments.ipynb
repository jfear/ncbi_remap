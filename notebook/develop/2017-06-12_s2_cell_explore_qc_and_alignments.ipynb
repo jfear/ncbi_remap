{
 "cells": [
  {
   "cell_type": "code",
   "execution_count": 1,
   "metadata": {
    "code_folding": [
     0
    ],
    "nbpresent": {
     "id": "6c688cf7-6004-46b7-99c9-0eed82205dbf"
    },
    "slideshow": {
     "slide_type": "skip"
    }
   },
   "outputs": [
    {
     "name": "stdout",
     "output_type": "stream",
     "text": [
      "last updated: 2017-06-13 \n",
      "Git hash: 5d75a010c3a45348c61a4d9d358243b80eba07e5\n"
     ]
    }
   ],
   "source": [
    "# %load ../start.py\n",
    "# Load useful extensions\n",
    "\n",
    "# Activate the autoreload extension for easy reloading of external packages\n",
    "%reload_ext autoreload\n",
    "%autoreload 2\n",
    "\n",
    "# Trun on the water mark\n",
    "%reload_ext watermark\n",
    "%watermark -u -d -g\n",
    "\n",
    "# Load ipycache extension\n",
    "%reload_ext ipycache\n",
    "from ipycache import CacheMagics\n",
    "CacheMagics.cachedir = '../cachedir'\n",
    "\n",
    "# Add project library to path\n",
    "import sys\n",
    "sys.path.insert(0, '../../lib/python')\n",
    "\n",
    "# The usual suspects\n",
    "import os\n",
    "import numpy as np\n",
    "import pandas as pd\n",
    "\n",
    "# plotting\n",
    "import matplotlib as mpl\n",
    "import matplotlib.pyplot as plt\n",
    "import seaborn as sns\n",
    "\n",
    "%matplotlib inline\n",
    "sns.set_context('notebook')\n",
    "\n",
    "# Turn off scientific notation\n",
    "np.set_printoptions(precision=5, suppress=True)\n"
   ]
  },
  {
   "cell_type": "code",
   "execution_count": 2,
   "metadata": {
    "code_folding": [],
    "nbpresent": {
     "id": "2833e68d-41e9-4e0d-98c0-e243971330eb"
    },
    "slideshow": {
     "slide_type": "skip"
    }
   },
   "outputs": [],
   "source": [
    "# Imports and settings\n",
    "from ncbi_remap.parser import parse_picardCollect_hist, parse_featureCounts_jcounts, parse_featureCounts_counts\n",
    "from sklearn import preprocessing, svm\n",
    "from sklearn.model_selection import train_test_split, GridSearchCV\n",
    "from sklearn.decomposition import PCA\n",
    "from sklearn.pipeline import Pipeline\n",
    "\n",
    "pd.options.display.max_columns = 999"
   ]
  },
  {
   "cell_type": "code",
   "execution_count": 3,
   "metadata": {
    "code_folding": [
     0
    ],
    "collapsed": true,
    "nbpresent": {
     "id": "2c23cd3a-3357-4604-9562-64581bc06dd1"
    },
    "slideshow": {
     "slide_type": "skip"
    }
   },
   "outputs": [],
   "source": [
    "# Connect to database\n",
    "# %load ../../bin/load.py\n",
    "from pymongo import MongoClient\n",
    "with open('/home/fearjm/Projects/ncbi_remap/output/.mongodb_host', 'r') as fh:\n",
    "    host = fh.read().strip()\n",
    "client = MongoClient(host=host, port=27022)\n",
    "db = client['sra']\n",
    "remap = db['remap']\n",
    "biometa = db['biometa']\n",
    "ncbi = db['ncbi']"
   ]
  },
  {
   "cell_type": "code",
   "execution_count": 4,
   "metadata": {
    "code_folding": [
     0
    ],
    "nbpresent": {
     "id": "0b93b588-a115-44cf-afba-b15fa22edb9f"
    },
    "slideshow": {
     "slide_type": "skip"
    }
   },
   "outputs": [],
   "source": [
    "# Create a list of s2 samples callsed `s2`\n",
    "with open('../../data/1508_s2_cell_brian_annot.txt', 'r') as fh:\n",
    "    s2 = [x.strip() for x in fh]"
   ]
  },
  {
   "cell_type": "markdown",
   "metadata": {
    "nbpresent": {
     "id": "ed33c832-8cc2-4c08-b92a-128e440bb941"
    },
    "slideshow": {
     "slide_type": "slide"
    }
   },
   "source": [
    "# S2 Cell Summary"
   ]
  },
  {
   "cell_type": "markdown",
   "metadata": {
    "nbpresent": {
     "id": "b307dd2a-da5c-4a0f-a5f2-4bc7e59008da"
    },
    "slideshow": {
     "slide_type": "-"
    },
    "variables": {
     " '{:,}'.format(len(s2)) ": "1,508"
    }
   },
   "source": [
    "This document explores putative S2 cell data. I quired all attribute fields of the [biometa database](https://github.com/jfear/ncbi_biometa) with the case insensitive regular expression `'^(\\s*|.*\\s)(s2|Schneider)(R\\+\\s|,\\s|\\s|\\s*).*$'`. This resulted in 1,243 BioSamples that appear to be related to S2 cells. From this list of BioSamples I extracted {{ '{:,}'.format(len(s2)) }} SRRs. "
   ]
  },
  {
   "cell_type": "code",
   "execution_count": 5,
   "metadata": {
    "code_folding": [
     0
    ],
    "nbpresent": {
     "id": "24668df0-faa1-46f4-bbdb-a40ffa0abc29"
    },
    "slideshow": {
     "slide_type": "-"
    }
   },
   "outputs": [
    {
     "data": {
      "image/png": "[encoded data removed]",
      "text/plain": [
       "<matplotlib.figure.Figure at 0x7ff5f906ce10>"
      ]
     },
     "metadata": {},
     "output_type": "display_data"
    }
   ],
   "source": [
    "# Plot various flags from pre-alngnment pipeline\n",
    "s2Flags = pd.DataFrame(list(remap.aggregate([\n",
    "    {'$unwind': '$runs'},\n",
    "    {\n",
    "        '$match': {\n",
    "            'runs.srr': {'$in': s2}, \n",
    "        }\n",
    "    },\n",
    "    {\n",
    "        '$project': {\n",
    "            '_id': 0,\n",
    "            'srr': '$runs.srr',\n",
    "            'flag_download_bad': {\n",
    "                '$cond': {\n",
    "                    'if': {'$in': ['download_bad', '$runs.pre_aln_flags']}, \n",
    "                    'then': 1, \n",
    "                    'else': 0\n",
    "                },\n",
    "            },\n",
    "            'flag_abi_solid': {\n",
    "                '$cond': {\n",
    "                    'if': {'$in': ['abi_solid', '$runs.pre_aln_flags']}, \n",
    "                    'then': 1, \n",
    "                    'else': 0\n",
    "                },\n",
    "            },\n",
    "            'flag_alignment_bad': {\n",
    "                '$cond': {\n",
    "                    'if': {'$in': ['alignment_bad', '$runs.pre_aln_flags']}, \n",
    "                    'then': 1, \n",
    "                    'else': 0\n",
    "                },\n",
    "            },\n",
    "            'flag_complete': {\n",
    "                '$cond': {\n",
    "                    'if': {'$in': ['complete', '$runs.pre_aln_flags']}, \n",
    "                    'then': 1, \n",
    "                    'else': 0\n",
    "                },\n",
    "            },\n",
    "        }\n",
    "    },\n",
    "])))\n",
    "\n",
    "s2Flags.set_index('srr', inplace=True)\n",
    "\n",
    "_df = s2Flags.sum().sort_values().to_frame().T\n",
    "fig, ax = plt.subplots(1,1, figsize=(10,5))\n",
    "_df.plot.barh(stacked=True, ax=ax)\n",
    "handles, labels = ax.get_legend_handles_labels()\n",
    "newLabels = []\n",
    "\n",
    "mapper = {\n",
    "    'flag_download_bad': 'Download Bad',\n",
    "    'flag_abi_solid': 'ABI Solid',\n",
    "    'flag_alignment_bad': 'Alignment Bad',\n",
    "    'flag_complete': 'Completed Processing'\n",
    "}\n",
    "\n",
    "for l in labels:\n",
    "    newLabels.append(mapper[l] + ' (n={:,})'.format(_df.ix[0, l]))\n",
    "plt.legend(handles, newLabels)\n",
    "ax.set_yticklabels([])\n",
    "ax.set_title('Problem Putative S2 (Total n={:,})'.format(s2Flags.shape[0]));"
   ]
  },
  {
   "cell_type": "markdown",
   "metadata": {
    "nbpresent": {
     "id": "cd28cba9-53a8-4ce8-b7ca-d3a4d343de55"
    },
    "slideshow": {
     "slide_type": "slide"
    }
   },
   "source": [
    "## Determining Library Strategy"
   ]
  },
  {
   "cell_type": "markdown",
   "metadata": {
    "heading_collapsed": true,
    "nbpresent": {
     "id": "58a846c7-ff71-4511-82e4-1f4feef307a3"
    },
    "slideshow": {
     "slide_type": "slide"
    }
   },
   "source": [
    "### Gene body coverage"
   ]
  },
  {
   "cell_type": "markdown",
   "metadata": {
    "hidden": true,
    "nbpresent": {
     "id": "2b16df47-1ea4-4493-a55b-3dda1da4346c"
    },
    "slideshow": {
     "slide_type": "-"
    }
   },
   "source": [
    "Gene body coverage is a measure of how evenly the gene body is covered by the data. In RNA-seq we typically see a slight dip in coverage near the 5' and 3' ends and uniform coverage across the center."
   ]
  },
  {
   "cell_type": "code",
   "execution_count": 6,
   "metadata": {
    "code_folding": [
     0
    ],
    "hidden": true,
    "nbpresent": {
     "id": "8e90d33f-0431-4cf9-819d-e5b8df75ebc3"
    },
    "slideshow": {
     "slide_type": "skip"
    }
   },
   "outputs": [
    {
     "name": "stdout",
     "output_type": "stream",
     "text": [
      "Missing Files for: SRX1951557 -> SRR3925163\n",
      "Missing Files for: SRX999968 -> SRR1980989\n",
      "Missing Files for: SRX999967 -> SRR1980988\n",
      "Missing Files for: SRX657937 -> SRR1521302\n",
      "Missing Files for: SRX367011 -> SRR1015574\n",
      "Missing Files for: SRX029067 -> SRR069830\n",
      "Missing Files for: SRX029066 -> SRR069829\n",
      "Missing Files for: SRX017849 -> SRR038284\n",
      "Missing Files for: SRX014801 -> SRR032096\n",
      "Missing Files for: SRX014799 -> SRR032094\n",
      "Missing Files for: SRX014798 -> SRR032093\n",
      "Missing Files for: SRX012159 -> SRR029030\n",
      "Missing Files for: SRX012158 -> SRR029029\n",
      "Missing Files for: SRX012157 -> SRR029028\n",
      "Missing Files for: SRX1598174 -> SRR3184775\n",
      "Missing Files for: SRX1598173 -> SRR3184774\n",
      "Missing Files for: SRX1364749 -> SRR2757173\n",
      "Missing Files for: SRX1364748 -> SRR2757108\n"
     ]
    }
   ],
   "source": [
    "# Get dataframe `hists` with histograms of genebody coverage and `metrics` with various metrics\n",
    "# Grab picard RNA-seq metrics from database\n",
    "agg = remap.aggregate([\n",
    "    {'$unwind': '$runs'},\n",
    "    {\n",
    "        '$match': {\n",
    "            '$and': [\n",
    "                {'runs.pre_aln_flags': 'complete'}, \n",
    "                {'runs.srr': {'$in': s2}},\n",
    "                {'runs.pre_aln_workflow.picard_collectrnaseqmetrics': {'$exists': 1}}\n",
    "            ]\n",
    "        }\n",
    "    },\n",
    "    {\n",
    "        '$project': {\n",
    "            '_id': 0,\n",
    "            'srx': '$_id',\n",
    "            'srr': '$runs.srr',\n",
    "            'flags': '$runs.pre_aln_flags',\n",
    "            'metrics': '$runs.pre_aln_workflow.picard_collectrnaseqmetrics'\n",
    "        }\n",
    "    },\n",
    "])\n",
    "\n",
    "_records = []\n",
    "for record in agg:\n",
    "    r = {}\n",
    "    r['srx'] = record['srx']\n",
    "    r['srr'] = record['srr']\n",
    "    if 'SE' in record['flags']:\n",
    "        r['strand'] = 'first'\n",
    "    elif 'PE' in record['flags']:\n",
    "        r['strand'] = 'second'\n",
    "    else:\n",
    "        r['strand'] = 'unstranded'\n",
    "    \n",
    "    for k, v in record['metrics'][r['strand']].items():\n",
    "        r[k] = v\n",
    "    _records.append(r)\n",
    "\n",
    "metrics = pd.DataFrame(_records)\n",
    "metrics.set_index(['srx', 'srr'], inplace=True)\n",
    "metrics.MEDIAN_5PRIME_TO_3PRIME_BIAS.replace('?', 0, inplace=True)\n",
    "metrics.MEDIAN_5PRIME_TO_3PRIME_BIAS.fillna(0, inplace=True)\n",
    "\n",
    "# Import picard RNA-seq metrics histograms\n",
    "_dfs = []\n",
    "_mapper = {\n",
    "    'first': 'FIRST_READ_TRANSCRIPTION_STRAND',\n",
    "    'second': 'SECOND_READ_TRANSCRIPTION_STRAND',\n",
    "    'unstranded': 'NONE'\n",
    "}\n",
    "for srx, srr, strand in metrics.reset_index()[['srx', 'srr', 'strand']].values:\n",
    "    try:\n",
    "        fname = '../../output/prealignment/raw/{srx}/{srr}/{srr}.hisat2.bam.{strand}.picard.collectrnaseqmetrics'.format(srx=srx, srr=srr, strand=_mapper[strand])\n",
    "        pic =  parse_picardCollect_hist(srr, fname)\n",
    "        if pic is None:\n",
    "            raise FileNotFoundError\n",
    "        _dfs.append(pic)\n",
    "    except FileNotFoundError:\n",
    "        print('Missing Files for: {}'.format(' -> '.join([srx, srr])))\n",
    "\n",
    "hists = pd.concat(_dfs)"
   ]
  },
  {
   "cell_type": "markdown",
   "metadata": {
    "hidden": true,
    "nbpresent": {
     "id": "c01fd561-e09a-41b7-b70a-e6986e1a64b4"
    },
    "slideshow": {
     "slide_type": "skip"
    }
   },
   "source": [
    "**NOTE: These 18 SRRs are missing the histogram from picard RNA-seq Metrics. I am not sure why because all the logs look good. Need to go back and run on a few of these and see if I can figure out why!!**"
   ]
  },
  {
   "cell_type": "code",
   "execution_count": 7,
   "metadata": {
    "code_folding": [
     0
    ],
    "hidden": true,
    "nbpresent": {
     "id": "74bdd252-6fe5-47f0-a5bc-69ef0e8b51d6"
    },
    "slideshow": {
     "slide_type": "subslide"
    }
   },
   "outputs": [
    {
     "data": {
      "image/png": "[encoded data removed]",
      "text/plain": [
       "<matplotlib.figure.Figure at 0x7ff5f906c6a0>"
      ]
     },
     "metadata": {},
     "output_type": "display_data"
    }
   ],
   "source": [
    "# Plot all data\n",
    "fig, ax = plt.subplots(1,1, figsize=(20,10))\n",
    "sns.heatmap(hists, yticklabels=False, robust=True, cmap=sns.dark_palette('yellow', as_cmap=True), ax=ax, cbar_kws={'label': 'Per Base Count'});\n",
    "ax.set_ylabel('SRRs')\n",
    "ax.set_title('Gene Body Coverage All Putative S2 Cell SRRs (n={:,})'.format(hists.shape[0]));"
   ]
  },
  {
   "cell_type": "markdown",
   "metadata": {
    "heading_collapsed": true,
    "nbpresent": {
     "id": "99cec12f-78bc-41cb-b440-49323e345294"
    },
    "slideshow": {
     "slide_type": "slide"
    }
   },
   "source": [
    "### Picard RNA-seq metrics"
   ]
  },
  {
   "cell_type": "markdown",
   "metadata": {
    "hidden": true,
    "nbpresent": {
     "id": "824dc84b-fa6e-4f23-840a-37640f049424"
    },
    "slideshow": {
     "slide_type": "-"
    }
   },
   "source": [
    "Picard has a program call RNA-seq metrics which calculates a variety of summary statistics including:\n",
    "\n",
    "* Percent Intergenic\n",
    "* Median CV\n",
    "* Median 5' to 3' Bias\n",
    "\n",
    "The CV and 5' 3' bias will give us a different look at the gene body coverage, while the percent intergenic will give an idea of if reads are even mapped to intergenic regions suggesting a the sample is not RNA-seq.\n"
   ]
  },
  {
   "cell_type": "code",
   "execution_count": 8,
   "metadata": {
    "code_folding": [
     0
    ],
    "hidden": true,
    "nbpresent": {
     "id": "56ae722d-4dd2-4734-a44e-1d99d2d87bf9"
    },
    "slideshow": {
     "slide_type": "skip"
    }
   },
   "outputs": [],
   "source": [
    "# Create dataframe `dups` with markduplicate results\n",
    "agg = remap.aggregate([\n",
    "    {'$unwind': '$runs'},\n",
    "    {\n",
    "        '$match': {\n",
    "            '$and': [\n",
    "                {'runs.pre_aln_flags': 'complete'}, \n",
    "                {'runs.srr': {'$in': s2}},\n",
    "                {'runs.pre_aln_workflow.picard_markduplicates': {'$exists': 1}}\n",
    "            ]\n",
    "        }\n",
    "    },\n",
    "    {\n",
    "        '$project': {\n",
    "            '_id': 0,\n",
    "            'srx': '$_id',\n",
    "            'srr': '$runs.srr',\n",
    "            'metrics': '$runs.pre_aln_workflow.picard_markduplicates'\n",
    "        }\n",
    "    },\n",
    "])\n",
    "\n",
    "_records = []\n",
    "for record in agg:\n",
    "    r = {}\n",
    "    r['srx'] = record['srx']\n",
    "    r['srr'] = record['srr']\n",
    "    for k, v in record['metrics'].items():\n",
    "        r[k] = v\n",
    "    _records.append(r)\n",
    "\n",
    "dups = pd.DataFrame(_records)\n",
    "dups.set_index(['srx', 'srr'], inplace=True)"
   ]
  },
  {
   "cell_type": "code",
   "execution_count": 9,
   "metadata": {
    "code_folding": [
     0
    ],
    "hidden": true,
    "nbpresent": {
     "id": "10628d6c-467f-49b6-977b-d1e37827efb5"
    },
    "slideshow": {
     "slide_type": "subslide"
    }
   },
   "outputs": [
    {
     "data": {
      "image/png": "[encoded data removed]",
      "text/plain": [
       "<matplotlib.figure.Figure at 0x7ff5f8313048>"
      ]
     },
     "metadata": {},
     "output_type": "display_data"
    }
   ],
   "source": [
    "# plot various metrics\n",
    "_metrics = metrics.copy()\n",
    "\n",
    "fig, (ax1, ax2, ax3, ax4) = plt.subplots(4, 1)\n",
    "sns.distplot(_metrics.PCT_INTERGENIC_BASES, ax=ax1)\n",
    "sns.distplot(_metrics.MEDIAN_CV_COVERAGE, ax=ax2)\n",
    "sns.distplot(_metrics.MEDIAN_5PRIME_BIAS, ax=ax3)\n",
    "sns.distplot(_metrics.MEDIAN_3PRIME_BIAS, ax=ax4)\n",
    "\n",
    "ax1.set_title('Percent Intergenic')\n",
    "ax1.set_xlabel('')\n",
    "ax2.set_title('Median CV')\n",
    "ax2.set_xlabel('')\n",
    "ax3.set_title('Median 5\\' Bias')\n",
    "ax3.set_xlabel('')\n",
    "ax4.set_title('Median 3\\' Bias')\n",
    "ax4.set_xlabel('')\n",
    "\n",
    "plt.suptitle('Picard RNA-seq Metrics All S2 Cell Data.', fontweight='bold')\n",
    "plt.tight_layout(rect=[0, 0, 1, .95])"
   ]
  },
  {
   "cell_type": "markdown",
   "metadata": {
    "heading_collapsed": true,
    "nbpresent": {
     "id": "92b719f4-d9d0-4f35-afbf-7edc0a2ff306"
    },
    "slideshow": {
     "slide_type": "slide"
    }
   },
   "source": [
    "### Junction Counts"
   ]
  },
  {
   "cell_type": "code",
   "execution_count": 10,
   "metadata": {
    "code_folding": [
     0
    ],
    "hidden": true,
    "nbpresent": {
     "id": "0252bf3e-ed4e-47ca-8728-2a6c293d2a7f"
    },
    "slideshow": {
     "slide_type": "skip"
    }
   },
   "outputs": [
    {
     "name": "stdout",
     "output_type": "stream",
     "text": [
      "Missing file: SRX501034 -> SRR1204770\n",
      "Missing file: SRX501033 -> SRR1204769\n",
      "Missing file: SRX501031 -> SRR1204767\n",
      "Missing file: SRX187086 -> SRR569914\n",
      "Missing file: SRX187085 -> SRR569913\n"
     ]
    }
   ],
   "source": [
    "# Create dataframe `featurecounts` with feature counts and junction counts from featurecounts\n",
    "agg = remap.aggregate([\n",
    "    {'$unwind': '$runs'},\n",
    "    {\n",
    "        '$match': {\n",
    "            '$and': [\n",
    "                {'runs.pre_aln_flags': 'complete'}, \n",
    "                {'runs.srr': {'$in': s2}},\n",
    "                {'runs.pre_aln_workflow.featurecounts': {'$exists': 1}}\n",
    "            ]\n",
    "        }\n",
    "    },\n",
    "    {\n",
    "        '$project': {\n",
    "            '_id': 0,\n",
    "            'srx': '$_id',\n",
    "            'srr': '$runs.srr',\n",
    "            'junction_counts': '$runs.pre_aln_workflow.featurecounts.Assigned_Junction'\n",
    "        }\n",
    "    },\n",
    "])\n",
    "\n",
    "_jcount = pd.DataFrame(list(agg))\n",
    "_jcount.set_index(['srx', 'srr'], inplace=True)\n",
    "\n",
    "# Get other Junction features\n",
    "_records = []\n",
    "for srx, srr in _jcount.index.tolist():\n",
    "    try:\n",
    "        _features = parse_featureCounts_counts(srr, \n",
    "            '../../output/prealignment/raw/{srx}/{srr}/{srr}.hisat2.bam.feature_counts.counts'.format(srx=srx, srr=srr))\n",
    "        _junctions = parse_featureCounts_jcounts(srr, \n",
    "             '../../output/prealignment/raw/{srx}/{srr}/{srr}.hisat2.bam.feature_counts.counts.jcounts'.format(srx=srx, srr=srr))\n",
    "        _junctions['diff'] = np.abs(_junctions.Site1_location - _junctions.Site2_location)\n",
    "\n",
    "        _filter = (\n",
    "            (~_junctions.PrimaryGene.isnull()) &\n",
    "            (_junctions.Site1_chr == _junctions.Site2_chr) &\n",
    "            (_junctions['diff'] > 10) &\n",
    "            (_junctions['diff'] < 300000) &\n",
    "            (_junctions['count'] > 5)\n",
    "        )\n",
    "\n",
    "        _records.append({\n",
    "            'srx': srx,\n",
    "            'srr': srr,\n",
    "            'num_junctions_covered': _junctions[_filter].shape[0],\n",
    "            'num_features_covered': _features[_features > 10].shape[0],\n",
    "        })\n",
    "    except FileNotFoundError:\n",
    "        print('Missing file: {srx} -> {srr}'.format(srx=srx, srr=srr))\n",
    "\n",
    "_df = pd.DataFrame(_records).set_index(['srx', 'srr'])\n",
    "featurecounts = _jcount.join(_df)"
   ]
  },
  {
   "cell_type": "code",
   "execution_count": 11,
   "metadata": {
    "code_folding": [
     0
    ],
    "hidden": true,
    "nbpresent": {
     "id": "1e412bd8-418a-4f01-ba74-fe1d5f6b5f0d"
    },
    "scrolled": false,
    "slideshow": {
     "slide_type": "subslide"
    }
   },
   "outputs": [
    {
     "data": {
      "image/png": "[encoded data removed]",
      "text/plain": [
       "<matplotlib.figure.Figure at 0x7ff5f872a198>"
      ]
     },
     "metadata": {},
     "output_type": "display_data"
    }
   ],
   "source": [
    "# plot number of reads spanning junctions all s2 data\n",
    "fig, axes = plt.subplots(3, 1)\n",
    "axes = axes.flatten()\n",
    "\n",
    "_jcount = featurecounts\n",
    "sns.distplot(_jcount.junction_counts, ax=axes[0])\n",
    "axes[0].set_title('Number of Junction Counts')\n",
    "axes[0].set_xlabel('')\n",
    "axes[0].set_yticklabels([])\n",
    "\n",
    "_jcount = featurecounts\n",
    "sns.distplot(_jcount.num_features_covered.dropna(), ax=axes[1])\n",
    "axes[1].set_title('Number of Features Covered (n_reads > 10)')\n",
    "axes[1].set_xlabel('')\n",
    "axes[1].set_yticklabels([])\n",
    "\n",
    "_jcount = featurecounts\n",
    "sns.distplot(_jcount.num_junctions_covered.dropna(), ax=axes[2])\n",
    "axes[2].set_title('Number of Junctions Covered (n_reads > 5)')\n",
    "axes[2].set_xlabel('')\n",
    "axes[2].set_yticklabels([])\n",
    "\n",
    "plt.suptitle('Junction Counts All S2 Cell Data.', fontweight='bold')\n",
    "plt.tight_layout(rect=[0, 0, 1, .95])"
   ]
  },
  {
   "cell_type": "markdown",
   "metadata": {},
   "source": [
    "## Machine Learning with RNA-seq features"
   ]
  },
  {
   "cell_type": "code",
   "execution_count": 12,
   "metadata": {
    "collapsed": true
   },
   "outputs": [],
   "source": [
    "from matplotlib.colors import ListedColormap\n",
    "\n",
    "def plot_decision_regions(X, y, classifier, test_idx=None, resolution=0.02):\n",
    "\n",
    "    # setup marker generator and color map\n",
    "    markers = ('s', 'x', 'o', '^', 'v')\n",
    "    colors = ('red', 'blue', 'lightgreen', 'gray', 'cyan')\n",
    "    cmap = ListedColormap(colors[:len(np.unique(y))])\n",
    "\n",
    "    # plot the decision surface\n",
    "    x1_min, x1_max = X[:, 0].min() - 1, X[:, 0].max() + 1\n",
    "    x2_min, x2_max = X[:, 1].min() - 1, X[:, 1].max() + 1\n",
    "    xx1, xx2 = np.meshgrid(np.arange(x1_min, x1_max, resolution),\n",
    "                         np.arange(x2_min, x2_max, resolution))\n",
    "    Z = classifier.predict(np.array([xx1.ravel(), xx2.ravel()]).T)\n",
    "    Z = Z.reshape(xx1.shape)\n",
    "    plt.contourf(xx1, xx2, Z, alpha=0.4, cmap=cmap)\n",
    "    plt.xlim(xx1.min(), xx1.max())\n",
    "    plt.ylim(xx2.min(), xx2.max())\n",
    "\n",
    "    # plot all samples\n",
    "    for idx, cl in enumerate(np.unique(y)):\n",
    "        plt.scatter(x=X[y == cl, 0], y=X[y == cl, 1],\n",
    "                    alpha=0.8, c=cmap(idx),\n",
    "                    marker=markers[idx], label=cl)\n",
    "        \n",
    "    # highlight test samples\n",
    "    if test_idx:\n",
    "        X_test, y_test = X[test_idx, :], y[test_idx]   \n",
    "        plt.scatter(X_test[:, 0], X_test[:, 1], c='', \n",
    "                alpha=1.0, linewidths=1, marker='o', \n",
    "                s=55, label='test set')"
   ]
  },
  {
   "cell_type": "code",
   "execution_count": 13,
   "metadata": {
    "code_folding": [
     0
    ]
   },
   "outputs": [
    {
     "data": {
      "text/plain": [
       "(1367, 109)"
      ]
     },
     "execution_count": 13,
     "metadata": {},
     "output_type": "execute_result"
    }
   ],
   "source": [
    "# Dataframe of features\n",
    "_metrics = metrics.copy()\n",
    "_metrics.index = _metrics.index.droplevel(0)\n",
    "_jcount = featurecounts.copy()\n",
    "_jcount.index = _jcount.index.droplevel(0)\n",
    "features = hists.join(_metrics[\n",
    "    ['PCT_INTERGENIC_BASES', 'PCT_INTRONIC_BASES', 'MEDIAN_CV_COVERAGE', \n",
    "     'MEDIAN_5PRIME_BIAS', 'MEDIAN_3PRIME_BIAS']\n",
    "]).join(_jcount)\n",
    "\n",
    "features.dropna(inplace=True)\n",
    "features.shape"
   ]
  },
  {
   "cell_type": "code",
   "execution_count": 14,
   "metadata": {
    "code_folding": [
     0
    ],
    "nbpresent": {
     "id": "997a993b-79e7-450d-8318-d881934ef6b4"
    },
    "slideshow": {
     "slide_type": "skip"
    }
   },
   "outputs": [],
   "source": [
    "# Get Brian' annotation several lists `mRNA`, `chip`, `star`, `miRNA` with lists of SRRs\n",
    "_bo = pd.read_excel('../../data/brian/20170428_s2cell_1243bo.xlsx', header=(0, 1))\n",
    "_boFlags = _bo.loc[:, ('oliver', 'notes_and_flags')].dropna()\n",
    "\n",
    "# Normalize Brian's flags \n",
    "mRNA_sample = _boFlags[_boFlags.str.lower().str.contains('mrna') | _boFlags.str.lower().str.contains('rnaseq')].index.tolist()\n",
    "chip_sample = _boFlags[_boFlags.str.lower().str.contains('chip')].index.tolist()\n",
    "star_sample = _boFlags[_boFlags.str.lower().str.contains('star')].index.tolist()\n",
    "miRNA_sample = _boFlags[_boFlags.str.lower().str.contains('mirna')].index.tolist()\n",
    "\n",
    "# Get the SRRs using BioSamples\n",
    "def get_srr(samples):\n",
    "    agg = remap.aggregate([\n",
    "        {'$unwind': '$runs'},\n",
    "        {\n",
    "            '$match': {\n",
    "                #'runs.pre_aln_flags': 'complete',\n",
    "                #'runs.srr': {'$in': s2},\n",
    "                'sample.biosample': {'$in': samples}      \n",
    "            }\n",
    "        },\n",
    "        {\n",
    "            '$project': {\n",
    "                '_id': 0,\n",
    "                'srr': '$runs.srr'\n",
    "            }\n",
    "        },\n",
    "    ])\n",
    "\n",
    "    return list(set([x['srr'] for x in agg]))\n",
    "\n",
    "mRNA = get_srr(mRNA_sample)\n",
    "chip = get_srr(chip_sample)\n",
    "star = get_srr(star_sample)\n",
    "miRNA = get_srr(miRNA_sample)"
   ]
  },
  {
   "cell_type": "code",
   "execution_count": 15,
   "metadata": {
    "code_folding": [],
    "collapsed": true
   },
   "outputs": [],
   "source": [
    "# Format data for classifier\n",
    "\n",
    "# Put together class Labels\n",
    "Y = pd.DataFrame(index=features.index, columns=['bo_annot'])\n",
    "Y[Y.index.isin(mRNA)] = 0\n",
    "Y[Y.index.isin(chip)] = 1\n",
    "Y[Y.index.isin(star)] = 2\n",
    "Y[Y.index.isin(miRNA)] = 3\n",
    "Y.dropna(inplace=True)\n",
    "Y_idx = Y.index.values\n",
    "Y = Y.values.astype(int).flatten()\n",
    "\n",
    "# Make matrix of features\n",
    "X = features[features.index.isin(Y_idx)].values.astype(float)\n",
    "\n",
    "# Split into train test datasets\n",
    "X_train, X_test, Y_train, Y_test = train_test_split(X, Y, test_size=.3, random_state=42)\n",
    "\n",
    "# Set up scaler (z-score)\n",
    "scaler = preprocessing.StandardScaler().fit(X_train)"
   ]
  },
  {
   "cell_type": "code",
   "execution_count": 16,
   "metadata": {
    "collapsed": true
   },
   "outputs": [],
   "source": [
    "# Standardize X_train and X_test\n",
    "X_train_std = scaler.transform(X_train)\n",
    "X_test_std = scaler.transform(X_test)"
   ]
  },
  {
   "cell_type": "code",
   "execution_count": 17,
   "metadata": {
    "code_folding": [
     0
    ]
   },
   "outputs": [
    {
     "data": {
      "image/png": "[encoded data removed]",
      "text/plain": [
       "<matplotlib.figure.Figure at 0x7ff5e76dfcf8>"
      ]
     },
     "metadata": {},
     "output_type": "display_data"
    }
   ],
   "source": [
    "# Features have a lot of correlation structure\n",
    "ax = sns.clustermap(pd.DataFrame(X_train_std, columns=features.columns).corr(), figsize=(20, 20))\n",
    "ax.ax_heatmap.set_yticklabels(ax.ax_heatmap.get_yticklabels(), rotation=0, fontsize=8);\n",
    "ax.ax_heatmap.set_xticklabels(ax.ax_heatmap.get_xticklabels(), rotation=90, fontsize=8);"
   ]
  },
  {
   "cell_type": "code",
   "execution_count": null,
   "metadata": {
    "collapsed": true
   },
   "outputs": [],
   "source": []
  },
  {
   "cell_type": "code",
   "execution_count": null,
   "metadata": {
    "collapsed": true
   },
   "outputs": [],
   "source": []
  },
  {
   "cell_type": "code",
   "execution_count": null,
   "metadata": {
    "collapsed": true
   },
   "outputs": [],
   "source": []
  },
  {
   "cell_type": "code",
   "execution_count": 18,
   "metadata": {},
   "outputs": [],
   "source": [
    "# Combine star, miRNA into OTHER\n",
    "Y[Y == 3] = 2\n",
    "\n",
    "# Split into train test\n",
    "X_train, X_test, Y_train, Y_test = train_test_split(X, Y)\n",
    "\n",
    "# fit scaler\n",
    "scaler.fit(X_train)\n",
    "\n",
    "# Scale data\n",
    "X_train_std = scaler.transform(X_train)\n",
    "X_test_std = scaler.transform(X_test)"
   ]
  },
  {
   "cell_type": "code",
   "execution_count": 19,
   "metadata": {},
   "outputs": [
    {
     "name": "stdout",
     "output_type": "stream",
     "text": [
      "0.915789473684\n"
     ]
    },
    {
     "data": {
      "text/plain": [
       "(0, 40)"
      ]
     },
     "execution_count": 19,
     "metadata": {},
     "output_type": "execute_result"
    },
    {
     "data": {
      "image/png": "[encoded data removed]",
      "text/plain": [
       "<matplotlib.figure.Figure at 0x7ff5e71d2908>"
      ]
     },
     "metadata": {},
     "output_type": "display_data"
    }
   ],
   "source": [
    "# Initialize PCA\n",
    "pca = PCA(random_state=42, whiten=True)\n",
    "pca.fit(X_train_std)\n",
    "\n",
    "# Plot PCA \n",
    "fig = plt.figure(figsize=(10, 10))\n",
    "plt.plot(pca.explained_variance_, marker='s')\n",
    "plt.xlabel('n_components')\n",
    "plt.ylabel('explained_variance_')\n",
    "\n",
    "# Initialize SVM\n",
    "svc = svm.SVC(C=1.0, kernel='linear')\n",
    "\n",
    "# Set up pipeline\n",
    "pipe = Pipeline(steps=[('pca', pca), ('svc', svc)])\n",
    "\n",
    "# Perform GridSearch to id parameters\n",
    "n_components = [5, 10, 30, 60, 100]\n",
    "Cs = np.logspace(-5, 5, 5)\n",
    "estimator = GridSearchCV(pipe, dict(pca__n_components=n_components, svc__C=Cs), n_jobs=4)\n",
    "estimator.fit(X_train_std, Y_train)\n",
    "\n",
    "# Print best estimator score\n",
    "print(estimator.best_estimator_.score(X_test_std, Y_test))\n",
    "\n",
    "# Draw line where we cutoff how many PCAs to use\n",
    "plt.axvline(estimator.best_estimator_.named_steps['pca'].n_components, linestyle=':');\n",
    "plt.xlim(0, 40)"
   ]
  },
  {
   "cell_type": "code",
   "execution_count": 20,
   "metadata": {},
   "outputs": [],
   "source": [
    "UK_ids = features[~features.index.isin(Y_idx)].index.values\n",
    "UK = features[~features.index.isin(Y_idx)].values.astype(float)"
   ]
  },
  {
   "cell_type": "code",
   "execution_count": 21,
   "metadata": {},
   "outputs": [],
   "source": [
    "UK_std = scaler.transform(UK)"
   ]
  },
  {
   "cell_type": "code",
   "execution_count": 22,
   "metadata": {},
   "outputs": [],
   "source": [
    "res = estimator.best_estimator_.predict(UK_std)"
   ]
  },
  {
   "cell_type": "code",
   "execution_count": 23,
   "metadata": {
    "collapsed": true
   },
   "outputs": [],
   "source": [
    "# remap class names\n",
    "_mapper = {\n",
    "    0: 'RNA-Seq',\n",
    "    1: 'ChIP-Seq',\n",
    "    2: 'OTHER',\n",
    "}\n",
    "resDf = pd.DataFrame(res, index=UK_ids, columns=['classification'])\n",
    "resSr = resDf.classification.map(lambda x: _mapper[x])"
   ]
  },
  {
   "cell_type": "code",
   "execution_count": null,
   "metadata": {
    "collapsed": true
   },
   "outputs": [],
   "source": []
  },
  {
   "cell_type": "code",
   "execution_count": 50,
   "metadata": {},
   "outputs": [
    {
     "data": {
      "text/plain": [
       "(0.99647887323943662, 0.94736842105263153)"
      ]
     },
     "execution_count": 50,
     "metadata": {},
     "output_type": "execute_result"
    }
   ],
   "source": [
    "svc = svm.SVC(C=1, kernel='linear', decision_function_shape='ovr')\n",
    "svc.fit(X_train_std, Y_train)\n",
    "svc.score(X_train_std, Y_train),  svc.score(X_test_std, Y_test)"
   ]
  },
  {
   "cell_type": "code",
   "execution_count": 68,
   "metadata": {},
   "outputs": [
    {
     "data": {
      "text/plain": [
       "array([0, 0, 0, 0, 0, 0, 0, 0, 0, 1, 0, 0, 0, 0, 0, 0, 0, 0, 0, 0, 0, 0, 0,\n",
       "       0, 0, 0, 0, 0, 0, 0, 0, 0, 1, 0, 0, 0, 0, 0, 0, 0, 0, 0, 1, 0, 0, 0,\n",
       "       0, 1, 1, 0, 0, 0, 1, 1, 0, 0, 0, 0, 0, 0, 0, 0, 0, 0, 0, 0, 0, 0, 0,\n",
       "       1, 0, 0, 0, 1, 0, 0, 0, 0, 0, 0, 1, 0, 1, 0, 0, 0, 0, 1, 0, 1, 0, 0,\n",
       "       0, 0, 0])"
      ]
     },
     "execution_count": 68,
     "metadata": {},
     "output_type": "execute_result"
    }
   ],
   "source": [
    "svc.predict(X_test_std)"
   ]
  },
  {
   "cell_type": "code",
   "execution_count": 88,
   "metadata": {},
   "outputs": [
    {
     "name": "stdout",
     "output_type": "stream",
     "text": [
      "0.01\t0.9331\t0.8632\t0.06994\n",
      "0.01711\t0.9472\t0.9053\t0.04192\n",
      "0.02929\t0.9577\t0.9158\t0.04196\n",
      "0.05012\t0.9577\t0.9263\t0.03143\n",
      "0.08577\t0.9613\t0.9368\t0.02443\n",
      "0.1468\t0.9613\t0.9474\t0.0139\n",
      "0.2512\t0.9718\t0.9684\t0.00341\n",
      "0.4299\t0.9789\t0.9684\t0.01045\n",
      "0.7356\t0.9894\t0.9579\t0.03154\n",
      "1.259\t0.993\t0.9579\t0.03506\n"
     ]
    }
   ],
   "source": [
    "for c in np.logspace(-2, .1, 10):\n",
    "    lsvc = svm.LinearSVC(loss='squared_hinge', penalty='l1', C=c, dual=False)\n",
    "    lsvc.fit(X_train_std, Y_train)\n",
    "    r = lsvc.score(X_train_std, Y_train)\n",
    "    t = lsvc.score(X_test_std, Y_test)\n",
    "    print('{:.4}\\t{:.4}\\t{:.4}\\t{:.4}'.format(c, r, t, r-t))"
   ]
  },
  {
   "cell_type": "code",
   "execution_count": 93,
   "metadata": {},
   "outputs": [
    {
     "name": "stdout",
     "output_type": "stream",
     "text": [
      "1.259\t0.9718\t0.9684\t0.00341\n"
     ]
    }
   ],
   "source": [
    "lsvc = svm.LinearSVC(loss='squared_hinge', penalty='l1', C=.25, dual=False)\n",
    "lsvc.fit(X_train_std, Y_train)\n",
    "r = lsvc.score(X_train_std, Y_train)\n",
    "t = lsvc.score(X_test_std, Y_test)\n",
    "print('{:.4}\\t{:.4}\\t{:.4}\\t{:.4}'.format(c, r, t, r-t))"
   ]
  },
  {
   "cell_type": "code",
   "execution_count": 95,
   "metadata": {},
   "outputs": [
    {
     "data": {
      "text/plain": [
       "array([ 0.15211,  0.15833,  0.     ,  0.     ,  0.     ,  0.     ,\n",
       "        0.     ,  0.     ,  0.     ,  0.     ,  0.     ,  0.     ,\n",
       "        0.     ,  0.0551 ,  0.     ,  0.0408 ,  0.     ,  0.     ,\n",
       "        0.     ,  0.     ,  0.     , -0.23871,  0.     ,  0.     ,\n",
       "        0.     ,  0.     , -0.00623,  0.     ,  0.08853,  0.     ,\n",
       "        0.     ,  0.47629,  0.     ,  0.     ,  0.     ,  0.     ,\n",
       "        0.     ,  0.     ,  0.     ,  0.     ,  0.     ,  0.     ,\n",
       "        0.     ,  0.     ,  0.     ,  0.     ,  0.     ,  0.     ,\n",
       "        0.     ,  0.02815,  0.     ,  0.     ,  0.     ,  0.     ,\n",
       "        0.     ,  0.     ,  0.     ,  0.     ,  0.     ,  0.     ,\n",
       "        0.     ,  0.     ,  0.     ,  0.     ,  0.     ,  0.     ,\n",
       "        0.     ,  0.     ,  0.     ,  0.     ,  0.20242,  0.13729,\n",
       "        0.     ,  0.03758,  0.     ,  0.     ,  0.     ,  0.     ,\n",
       "        0.     ,  0.     ,  0.     ,  0.     ,  0.     ,  0.     ,\n",
       "        0.     ,  0.     ,  0.     ,  0.     ,  0.05548,  0.     ,\n",
       "        0.     , -0.01075,  0.     ,  0.     ,  0.     ,  0.     ,\n",
       "        0.     ,  0.     ,  0.     , -0.07285,  0.33072, -0.0319 ,\n",
       "       -0.13263,  0.12445,  0.26891,  0.     , -0.00354,  0.0229 ,  0.     ])"
      ]
     },
     "execution_count": 95,
     "metadata": {},
     "output_type": "execute_result"
    }
   ],
   "source": [
    "lsvc.coef_.sum(axis=0)"
   ]
  },
  {
   "cell_type": "code",
   "execution_count": null,
   "metadata": {
    "collapsed": true
   },
   "outputs": [],
   "source": []
  },
  {
   "cell_type": "code",
   "execution_count": null,
   "metadata": {
    "collapsed": true
   },
   "outputs": [],
   "source": []
  },
  {
   "cell_type": "code",
   "execution_count": 110,
   "metadata": {},
   "outputs": [
    {
     "data": {
      "text/plain": [
       "array([0, 1, 2, 3, 4, 5, 6, 7, 8, 9, 10, 11, 12, 13, 14, 15, 16, 17, 18,\n",
       "       19, 20, 21, 22, 23, 24, 25, 26, 27, 28, 29, 30, 31, 32, 33, 34, 35,\n",
       "       36, 37, 38, 39, 40, 41, 42, 43, 44, 45, 46, 47, 48, 49, 50, 51, 52,\n",
       "       53, 54, 55, 56, 57, 58, 59, 60, 61, 62, 63, 64, 65, 66, 67, 68, 69,\n",
       "       70, 71, 72, 73, 74, 75, 76, 77, 78, 79, 80, 81, 82, 83, 84, 85, 86,\n",
       "       87, 88, 89, 90, 91, 92, 93, 94, 95, 96, 97, 98, 99, 100,\n",
       "       'PCT_INTERGENIC_BASES', 'PCT_INTRONIC_BASES', 'MEDIAN_CV_COVERAGE',\n",
       "       'MEDIAN_5PRIME_BIAS', 'MEDIAN_3PRIME_BIAS', 'junction_counts',\n",
       "       'num_features_covered', 'num_junctions_covered'], dtype=object)"
      ]
     },
     "execution_count": 110,
     "metadata": {},
     "output_type": "execute_result"
    }
   ],
   "source": [
    "feat_labels = features[features.index.isin(Y_idx)].columns.values"
   ]
  },
  {
   "cell_type": "code",
   "execution_count": 96,
   "metadata": {
    "collapsed": true
   },
   "outputs": [],
   "source": [
    "from sklearn.ensemble import RandomForestClassifier"
   ]
  },
  {
   "cell_type": "code",
   "execution_count": 97,
   "metadata": {
    "collapsed": true
   },
   "outputs": [],
   "source": [
    "forest = RandomForestClassifier(n_estimators=10000, random_state=0, n_jobs=4)"
   ]
  },
  {
   "cell_type": "code",
   "execution_count": 98,
   "metadata": {},
   "outputs": [
    {
     "data": {
      "text/plain": [
       "RandomForestClassifier(bootstrap=True, class_weight=None, criterion='gini',\n",
       "            max_depth=None, max_features='auto', max_leaf_nodes=None,\n",
       "            min_impurity_split=1e-07, min_samples_leaf=1,\n",
       "            min_samples_split=2, min_weight_fraction_leaf=0.0,\n",
       "            n_estimators=10000, n_jobs=4, oob_score=False, random_state=0,\n",
       "            verbose=0, warm_start=False)"
      ]
     },
     "execution_count": 98,
     "metadata": {},
     "output_type": "execute_result"
    }
   ],
   "source": [
    "forest.fit(X_train, Y_train)"
   ]
  },
  {
   "cell_type": "code",
   "execution_count": 99,
   "metadata": {},
   "outputs": [
    {
     "data": {
      "text/plain": [
       "0.95789473684210524"
      ]
     },
     "execution_count": 99,
     "metadata": {},
     "output_type": "execute_result"
    }
   ],
   "source": [
    "forest.score(X_test, Y_test)"
   ]
  },
  {
   "cell_type": "code",
   "execution_count": 100,
   "metadata": {
    "collapsed": true
   },
   "outputs": [],
   "source": [
    "importances = forest.feature_importances_"
   ]
  },
  {
   "cell_type": "code",
   "execution_count": 103,
   "metadata": {},
   "outputs": [],
   "source": [
    "indices = np.argsort(importances)[::-1]"
   ]
  },
  {
   "cell_type": "code",
   "execution_count": 111,
   "metadata": {
    "scrolled": false
   },
   "outputs": [
    {
     "name": "stdout",
     "output_type": "stream",
     "text": [
      " 1) 30                             0.044370\n",
      " 2) 31                             0.029659\n",
      " 3) 33                             0.027692\n",
      " 4) 66                             0.025507\n",
      " 5) 65                             0.025054\n",
      " 6) 68                             0.024642\n",
      " 7) 5                              0.023168\n",
      " 8) 64                             0.021961\n",
      " 9) 71                             0.021222\n",
      "10) 2                              0.020622\n",
      "11) 67                             0.019580\n",
      "12) 28                             0.019386\n",
      "13) 37                             0.018286\n",
      "14) num_features_covered           0.018113\n",
      "15) 58                             0.017816\n",
      "16) 55                             0.017670\n",
      "17) num_junctions_covered          0.017479\n",
      "18) 61                             0.017202\n",
      "19) 38                             0.016559\n",
      "20) 29                             0.016495\n",
      "21) 0                              0.016369\n",
      "22) 70                             0.015940\n",
      "23) 69                             0.015911\n",
      "24) 60                             0.015887\n",
      "25) 32                             0.015799\n",
      "26) junction_counts                0.015524\n",
      "27) 1                              0.015380\n",
      "28) 36                             0.014483\n",
      "29) MEDIAN_CV_COVERAGE             0.013904\n",
      "30) 53                             0.013416\n",
      "31) 4                              0.012021\n",
      "32) 59                             0.012012\n",
      "33) 45                             0.011586\n",
      "34) 62                             0.011120\n",
      "35) 3                              0.010923\n",
      "36) 54                             0.010632\n",
      "37) 57                             0.010051\n",
      "38) 34                             0.009588\n",
      "39) 7                              0.009190\n",
      "40) 44                             0.008667\n",
      "41) 6                              0.008121\n",
      "42) 47                             0.007995\n",
      "43) 46                             0.007932\n",
      "44) 27                             0.007824\n",
      "45) 13                             0.007575\n",
      "46) 48                             0.007328\n",
      "47) MEDIAN_5PRIME_BIAS             0.007086\n",
      "48) PCT_INTRONIC_BASES             0.007053\n",
      "49) 50                             0.006645\n",
      "50) 52                             0.006641\n",
      "51) 42                             0.006463\n",
      "52) 72                             0.006320\n",
      "53) 49                             0.006203\n",
      "54) 51                             0.006159\n",
      "55) 41                             0.006045\n",
      "56) 8                              0.005621\n",
      "57) 9                              0.005510\n",
      "58) 39                             0.005399\n",
      "59) MEDIAN_3PRIME_BIAS             0.005380\n",
      "60) 40                             0.005155\n",
      "61) 21                             0.004908\n",
      "62) 26                             0.004892\n",
      "63) 12                             0.004892\n",
      "64) 88                             0.004523\n",
      "65) 43                             0.004485\n",
      "66) 56                             0.004424\n",
      "67) 84                             0.004314\n",
      "68) 63                             0.004173\n",
      "69) 87                             0.004079\n",
      "70) 85                             0.004062\n",
      "71) 25                             0.004039\n",
      "72) 91                             0.004024\n",
      "73) 18                             0.004022\n",
      "74) 19                             0.003855\n",
      "75) 73                             0.003847\n",
      "76) 100                            0.003833\n",
      "77) 20                             0.003673\n",
      "78) 83                             0.003657\n",
      "79) 93                             0.003645\n",
      "80) 24                             0.003604\n",
      "81) 80                             0.003565\n",
      "82) PCT_INTERGENIC_BASES           0.003564\n",
      "83) 79                             0.003501\n",
      "84) 92                             0.003415\n",
      "85) 17                             0.003376\n",
      "86) 35                             0.003363\n",
      "87) 95                             0.003311\n",
      "88) 90                             0.003294\n",
      "89) 86                             0.003258\n",
      "90) 96                             0.003148\n",
      "91) 15                             0.003139\n",
      "92) 16                             0.003053\n",
      "93) 89                             0.002949\n",
      "94) 81                             0.002909\n",
      "95) 75                             0.002902\n",
      "96) 22                             0.002810\n",
      "97) 97                             0.002785\n",
      "98) 82                             0.002776\n",
      "99) 94                             0.002672\n",
      "100) 99                             0.002623\n",
      "101) 23                             0.002599\n",
      "102) 74                             0.002515\n",
      "103) 14                             0.002496\n",
      "104) 10                             0.002367\n",
      "105) 78                             0.002342\n",
      "106) 11                             0.002311\n",
      "107) 98                             0.002292\n",
      "108) 77                             0.002222\n",
      "109) 76                             0.002146\n"
     ]
    }
   ],
   "source": [
    "for f in range(X_train.shape[1]):\n",
    "...     print(\"%2d) %-*s %f\" % (f + 1, 30, \n",
    "...                             feat_labels[indices[f]], \n",
    "...                             importances[indices[f]]))"
   ]
  },
  {
   "cell_type": "code",
   "execution_count": null,
   "metadata": {
    "collapsed": true
   },
   "outputs": [],
   "source": []
  },
  {
   "cell_type": "code",
   "execution_count": null,
   "metadata": {
    "collapsed": true
   },
   "outputs": [],
   "source": []
  },
  {
   "cell_type": "code",
   "execution_count": null,
   "metadata": {
    "collapsed": true
   },
   "outputs": [],
   "source": []
  },
  {
   "cell_type": "code",
   "execution_count": null,
   "metadata": {
    "collapsed": true
   },
   "outputs": [],
   "source": []
  },
  {
   "cell_type": "markdown",
   "metadata": {
    "nbpresent": {
     "id": "a7b1aa69-47f5-43d0-ade8-778e159c4c73"
    },
    "slideshow": {
     "slide_type": "slide"
    }
   },
   "source": [
    "##### Compare classification to NCBI metadata"
   ]
  },
  {
   "cell_type": "markdown",
   "metadata": {
    "nbpresent": {
     "id": "232bfebf-4017-47c7-b62d-a810671b10ab"
    },
    "slideshow": {
     "slide_type": "-"
    }
   },
   "source": [
    "Typically with these kind of classification I should have split the training set into 75% training and 25% testing. However, with such a small training dataset I did not want to split it at this point. Another option is to compare with metadata from the NCBI.SRA database. I don't completely trust this metadata -- which is why I am just not using their annotations to begin with -- but they should be mostly right.\n",
    "\n",
    "The SRA database has additional classes ([here](http://sramongo.readthedocs.io/en/latest/sraConstants.html#library-strategy)) that I have not tried to separate, however it may be useful to see if these samples have some of these other classifiers. \n",
    "\n",
    "Ultimately it would be best to hand annotated additional samples and use them as a validation of the classifier."
   ]
  },
  {
   "cell_type": "code",
   "execution_count": 193,
   "metadata": {
    "code_folding": [],
    "nbpresent": {
     "id": "6c26eafa-3f44-4af8-a85a-711930d725bc"
    },
    "slideshow": {
     "slide_type": "subslide"
    }
   },
   "outputs": [
    {
     "data": {
      "text/html": [
       "<div>\n",
       "<table border=\"1\" class=\"dataframe\">\n",
       "  <thead>\n",
       "    <tr style=\"text-align: right;\">\n",
       "      <th>strategy</th>\n",
       "      <th>ChIP-Seq</th>\n",
       "      <th>DNase-Hypersensitivity</th>\n",
       "      <th>MNase-Seq</th>\n",
       "      <th>OTHER</th>\n",
       "      <th>POOLCLONE</th>\n",
       "      <th>RIP-Seq</th>\n",
       "      <th>RNA-Seq</th>\n",
       "      <th>WGS</th>\n",
       "      <th>miRNA-Seq</th>\n",
       "      <th>All</th>\n",
       "    </tr>\n",
       "    <tr>\n",
       "      <th>classification</th>\n",
       "      <th></th>\n",
       "      <th></th>\n",
       "      <th></th>\n",
       "      <th></th>\n",
       "      <th></th>\n",
       "      <th></th>\n",
       "      <th></th>\n",
       "      <th></th>\n",
       "      <th></th>\n",
       "      <th></th>\n",
       "    </tr>\n",
       "  </thead>\n",
       "  <tbody>\n",
       "    <tr>\n",
       "      <th>ChIP-Seq</th>\n",
       "      <td>251</td>\n",
       "      <td>6</td>\n",
       "      <td>34</td>\n",
       "      <td>89</td>\n",
       "      <td>1</td>\n",
       "      <td>2</td>\n",
       "      <td>37</td>\n",
       "      <td>36</td>\n",
       "      <td>4</td>\n",
       "      <td>460</td>\n",
       "    </tr>\n",
       "    <tr>\n",
       "      <th>OTHER</th>\n",
       "      <td>0</td>\n",
       "      <td>0</td>\n",
       "      <td>0</td>\n",
       "      <td>30</td>\n",
       "      <td>0</td>\n",
       "      <td>18</td>\n",
       "      <td>14</td>\n",
       "      <td>0</td>\n",
       "      <td>14</td>\n",
       "      <td>76</td>\n",
       "    </tr>\n",
       "    <tr>\n",
       "      <th>RNA-Seq</th>\n",
       "      <td>114</td>\n",
       "      <td>1</td>\n",
       "      <td>34</td>\n",
       "      <td>68</td>\n",
       "      <td>3</td>\n",
       "      <td>31</td>\n",
       "      <td>201</td>\n",
       "      <td>0</td>\n",
       "      <td>0</td>\n",
       "      <td>452</td>\n",
       "    </tr>\n",
       "    <tr>\n",
       "      <th>All</th>\n",
       "      <td>365</td>\n",
       "      <td>7</td>\n",
       "      <td>68</td>\n",
       "      <td>187</td>\n",
       "      <td>4</td>\n",
       "      <td>51</td>\n",
       "      <td>252</td>\n",
       "      <td>36</td>\n",
       "      <td>18</td>\n",
       "      <td>988</td>\n",
       "    </tr>\n",
       "  </tbody>\n",
       "</table>\n",
       "</div>"
      ],
      "text/plain": [
       "strategy        ChIP-Seq  DNase-Hypersensitivity  MNase-Seq  OTHER  POOLCLONE  \\\n",
       "classification                                                                  \n",
       "ChIP-Seq             251                       6         34     89          1   \n",
       "OTHER                  0                       0          0     30          0   \n",
       "RNA-Seq              114                       1         34     68          3   \n",
       "All                  365                       7         68    187          4   \n",
       "\n",
       "strategy        RIP-Seq  RNA-Seq  WGS  miRNA-Seq  All  \n",
       "classification                                         \n",
       "ChIP-Seq              2       37   36          4  460  \n",
       "OTHER                18       14    0         14   76  \n",
       "RNA-Seq              31      201    0          0  452  \n",
       "All                  51      252   36         18  988  "
      ]
     },
     "execution_count": 193,
     "metadata": {},
     "output_type": "execute_result"
    }
   ],
   "source": [
    "# Combine NCBI Metadata classification with SVM classification\n",
    "\n",
    "# Get NCBI annotation of library strategy\n",
    "ncbiAnno = pd.DataFrame(list(ncbi.aggregate([\n",
    "    {'$unwind': '$sra.run'},\n",
    "    {\n",
    "        '$match': {\n",
    "            'sra.run.run_id': {'$in': resSr.index.tolist()}\n",
    "        }\n",
    "    },\n",
    "    {\n",
    "        '$project': {\n",
    "            '_id': 0,\n",
    "            'srr': '$sra.run.run_id',\n",
    "            'strategy': '$sra.experiment.library_strategy',\n",
    "        }\n",
    "    },\n",
    "])))\n",
    "\n",
    "ncbiAnno.set_index('srr', inplace=True)\n",
    "ncbiAnno.strategy.unique()\n",
    "\n",
    "# Merge SVM class labels with NCBI labels\n",
    "mergedClasses = resSr.to_frame().join(ncbiAnno, how='left')\n",
    "\n",
    "# Look at differences between NCBI and classifier\n",
    "pd.crosstab(mergedClasses['classification'], mergedClasses['strategy'], margins=True)"
   ]
  },
  {
   "cell_type": "code",
   "execution_count": null,
   "metadata": {
    "collapsed": true
   },
   "outputs": [],
   "source": []
  },
  {
   "cell_type": "code",
   "execution_count": 199,
   "metadata": {
    "scrolled": false
   },
   "outputs": [
    {
     "data": {
      "text/html": [
       "<div>\n",
       "<table border=\"1\" class=\"dataframe\">\n",
       "  <thead>\n",
       "    <tr style=\"text-align: right;\">\n",
       "      <th></th>\n",
       "      <th>classification</th>\n",
       "      <th>strategy</th>\n",
       "    </tr>\n",
       "  </thead>\n",
       "  <tbody>\n",
       "    <tr>\n",
       "      <th>ERR435831</th>\n",
       "      <td>RNA-Seq</td>\n",
       "      <td>ChIP-Seq</td>\n",
       "    </tr>\n",
       "    <tr>\n",
       "      <th>ERR435842</th>\n",
       "      <td>RNA-Seq</td>\n",
       "      <td>ChIP-Seq</td>\n",
       "    </tr>\n",
       "    <tr>\n",
       "      <th>SRR037521</th>\n",
       "      <td>RNA-Seq</td>\n",
       "      <td>ChIP-Seq</td>\n",
       "    </tr>\n",
       "    <tr>\n",
       "      <th>SRR059122</th>\n",
       "      <td>RNA-Seq</td>\n",
       "      <td>ChIP-Seq</td>\n",
       "    </tr>\n",
       "    <tr>\n",
       "      <th>SRR059123</th>\n",
       "      <td>RNA-Seq</td>\n",
       "      <td>ChIP-Seq</td>\n",
       "    </tr>\n",
       "    <tr>\n",
       "      <th>SRR067908</th>\n",
       "      <td>RNA-Seq</td>\n",
       "      <td>ChIP-Seq</td>\n",
       "    </tr>\n",
       "    <tr>\n",
       "      <th>SRR067909</th>\n",
       "      <td>RNA-Seq</td>\n",
       "      <td>ChIP-Seq</td>\n",
       "    </tr>\n",
       "    <tr>\n",
       "      <th>SRR067910</th>\n",
       "      <td>RNA-Seq</td>\n",
       "      <td>ChIP-Seq</td>\n",
       "    </tr>\n",
       "    <tr>\n",
       "      <th>SRR067912</th>\n",
       "      <td>RNA-Seq</td>\n",
       "      <td>ChIP-Seq</td>\n",
       "    </tr>\n",
       "    <tr>\n",
       "      <th>SRR067916</th>\n",
       "      <td>RNA-Seq</td>\n",
       "      <td>ChIP-Seq</td>\n",
       "    </tr>\n",
       "    <tr>\n",
       "      <th>SRR1015601</th>\n",
       "      <td>RNA-Seq</td>\n",
       "      <td>ChIP-Seq</td>\n",
       "    </tr>\n",
       "    <tr>\n",
       "      <th>SRR1015602</th>\n",
       "      <td>RNA-Seq</td>\n",
       "      <td>ChIP-Seq</td>\n",
       "    </tr>\n",
       "    <tr>\n",
       "      <th>SRR1015603</th>\n",
       "      <td>RNA-Seq</td>\n",
       "      <td>ChIP-Seq</td>\n",
       "    </tr>\n",
       "    <tr>\n",
       "      <th>SRR1041450</th>\n",
       "      <td>RNA-Seq</td>\n",
       "      <td>ChIP-Seq</td>\n",
       "    </tr>\n",
       "    <tr>\n",
       "      <th>SRR1042412</th>\n",
       "      <td>RNA-Seq</td>\n",
       "      <td>ChIP-Seq</td>\n",
       "    </tr>\n",
       "    <tr>\n",
       "      <th>SRR1141010</th>\n",
       "      <td>RNA-Seq</td>\n",
       "      <td>ChIP-Seq</td>\n",
       "    </tr>\n",
       "    <tr>\n",
       "      <th>SRR1164537</th>\n",
       "      <td>RNA-Seq</td>\n",
       "      <td>ChIP-Seq</td>\n",
       "    </tr>\n",
       "    <tr>\n",
       "      <th>SRR1164538</th>\n",
       "      <td>RNA-Seq</td>\n",
       "      <td>ChIP-Seq</td>\n",
       "    </tr>\n",
       "    <tr>\n",
       "      <th>SRR1164541</th>\n",
       "      <td>RNA-Seq</td>\n",
       "      <td>ChIP-Seq</td>\n",
       "    </tr>\n",
       "    <tr>\n",
       "      <th>SRR1164542</th>\n",
       "      <td>RNA-Seq</td>\n",
       "      <td>ChIP-Seq</td>\n",
       "    </tr>\n",
       "    <tr>\n",
       "      <th>SRR1175700</th>\n",
       "      <td>RNA-Seq</td>\n",
       "      <td>ChIP-Seq</td>\n",
       "    </tr>\n",
       "    <tr>\n",
       "      <th>SRR1198782</th>\n",
       "      <td>RNA-Seq</td>\n",
       "      <td>ChIP-Seq</td>\n",
       "    </tr>\n",
       "    <tr>\n",
       "      <th>SRR1198783</th>\n",
       "      <td>RNA-Seq</td>\n",
       "      <td>ChIP-Seq</td>\n",
       "    </tr>\n",
       "    <tr>\n",
       "      <th>SRR1198794</th>\n",
       "      <td>RNA-Seq</td>\n",
       "      <td>ChIP-Seq</td>\n",
       "    </tr>\n",
       "    <tr>\n",
       "      <th>SRR1198795</th>\n",
       "      <td>RNA-Seq</td>\n",
       "      <td>ChIP-Seq</td>\n",
       "    </tr>\n",
       "    <tr>\n",
       "      <th>SRR121532</th>\n",
       "      <td>RNA-Seq</td>\n",
       "      <td>ChIP-Seq</td>\n",
       "    </tr>\n",
       "    <tr>\n",
       "      <th>SRR1217232</th>\n",
       "      <td>RNA-Seq</td>\n",
       "      <td>ChIP-Seq</td>\n",
       "    </tr>\n",
       "    <tr>\n",
       "      <th>SRR1217234</th>\n",
       "      <td>RNA-Seq</td>\n",
       "      <td>ChIP-Seq</td>\n",
       "    </tr>\n",
       "    <tr>\n",
       "      <th>SRR1265772</th>\n",
       "      <td>RNA-Seq</td>\n",
       "      <td>ChIP-Seq</td>\n",
       "    </tr>\n",
       "    <tr>\n",
       "      <th>SRR139079</th>\n",
       "      <td>RNA-Seq</td>\n",
       "      <td>ChIP-Seq</td>\n",
       "    </tr>\n",
       "    <tr>\n",
       "      <th>...</th>\n",
       "      <td>...</td>\n",
       "      <td>...</td>\n",
       "    </tr>\n",
       "    <tr>\n",
       "      <th>SRR3383182</th>\n",
       "      <td>RNA-Seq</td>\n",
       "      <td>ChIP-Seq</td>\n",
       "    </tr>\n",
       "    <tr>\n",
       "      <th>SRR3383183</th>\n",
       "      <td>RNA-Seq</td>\n",
       "      <td>ChIP-Seq</td>\n",
       "    </tr>\n",
       "    <tr>\n",
       "      <th>SRR360699</th>\n",
       "      <td>RNA-Seq</td>\n",
       "      <td>ChIP-Seq</td>\n",
       "    </tr>\n",
       "    <tr>\n",
       "      <th>SRR360700</th>\n",
       "      <td>RNA-Seq</td>\n",
       "      <td>ChIP-Seq</td>\n",
       "    </tr>\n",
       "    <tr>\n",
       "      <th>SRR4069180</th>\n",
       "      <td>RNA-Seq</td>\n",
       "      <td>ChIP-Seq</td>\n",
       "    </tr>\n",
       "    <tr>\n",
       "      <th>SRR5101089</th>\n",
       "      <td>RNA-Seq</td>\n",
       "      <td>ChIP-Seq</td>\n",
       "    </tr>\n",
       "    <tr>\n",
       "      <th>SRR5101090</th>\n",
       "      <td>RNA-Seq</td>\n",
       "      <td>ChIP-Seq</td>\n",
       "    </tr>\n",
       "    <tr>\n",
       "      <th>SRR5101091</th>\n",
       "      <td>RNA-Seq</td>\n",
       "      <td>ChIP-Seq</td>\n",
       "    </tr>\n",
       "    <tr>\n",
       "      <th>SRR522006</th>\n",
       "      <td>RNA-Seq</td>\n",
       "      <td>ChIP-Seq</td>\n",
       "    </tr>\n",
       "    <tr>\n",
       "      <th>SRR567539</th>\n",
       "      <td>RNA-Seq</td>\n",
       "      <td>ChIP-Seq</td>\n",
       "    </tr>\n",
       "    <tr>\n",
       "      <th>SRR585045</th>\n",
       "      <td>RNA-Seq</td>\n",
       "      <td>ChIP-Seq</td>\n",
       "    </tr>\n",
       "    <tr>\n",
       "      <th>SRR585046</th>\n",
       "      <td>RNA-Seq</td>\n",
       "      <td>ChIP-Seq</td>\n",
       "    </tr>\n",
       "    <tr>\n",
       "      <th>SRR585051</th>\n",
       "      <td>RNA-Seq</td>\n",
       "      <td>ChIP-Seq</td>\n",
       "    </tr>\n",
       "    <tr>\n",
       "      <th>SRR585052</th>\n",
       "      <td>RNA-Seq</td>\n",
       "      <td>ChIP-Seq</td>\n",
       "    </tr>\n",
       "    <tr>\n",
       "      <th>SRR585053</th>\n",
       "      <td>RNA-Seq</td>\n",
       "      <td>ChIP-Seq</td>\n",
       "    </tr>\n",
       "    <tr>\n",
       "      <th>SRR585054</th>\n",
       "      <td>RNA-Seq</td>\n",
       "      <td>ChIP-Seq</td>\n",
       "    </tr>\n",
       "    <tr>\n",
       "      <th>SRR585056</th>\n",
       "      <td>RNA-Seq</td>\n",
       "      <td>ChIP-Seq</td>\n",
       "    </tr>\n",
       "    <tr>\n",
       "      <th>SRR585057</th>\n",
       "      <td>RNA-Seq</td>\n",
       "      <td>ChIP-Seq</td>\n",
       "    </tr>\n",
       "    <tr>\n",
       "      <th>SRR585062</th>\n",
       "      <td>RNA-Seq</td>\n",
       "      <td>ChIP-Seq</td>\n",
       "    </tr>\n",
       "    <tr>\n",
       "      <th>SRR585065</th>\n",
       "      <td>RNA-Seq</td>\n",
       "      <td>ChIP-Seq</td>\n",
       "    </tr>\n",
       "    <tr>\n",
       "      <th>SRR585066</th>\n",
       "      <td>RNA-Seq</td>\n",
       "      <td>ChIP-Seq</td>\n",
       "    </tr>\n",
       "    <tr>\n",
       "      <th>SRR585067</th>\n",
       "      <td>RNA-Seq</td>\n",
       "      <td>ChIP-Seq</td>\n",
       "    </tr>\n",
       "    <tr>\n",
       "      <th>SRR585068</th>\n",
       "      <td>RNA-Seq</td>\n",
       "      <td>ChIP-Seq</td>\n",
       "    </tr>\n",
       "    <tr>\n",
       "      <th>SRR585070</th>\n",
       "      <td>RNA-Seq</td>\n",
       "      <td>ChIP-Seq</td>\n",
       "    </tr>\n",
       "    <tr>\n",
       "      <th>SRR585072</th>\n",
       "      <td>RNA-Seq</td>\n",
       "      <td>ChIP-Seq</td>\n",
       "    </tr>\n",
       "    <tr>\n",
       "      <th>SRR610267</th>\n",
       "      <td>RNA-Seq</td>\n",
       "      <td>ChIP-Seq</td>\n",
       "    </tr>\n",
       "    <tr>\n",
       "      <th>SRR869706</th>\n",
       "      <td>RNA-Seq</td>\n",
       "      <td>ChIP-Seq</td>\n",
       "    </tr>\n",
       "    <tr>\n",
       "      <th>SRR869707</th>\n",
       "      <td>RNA-Seq</td>\n",
       "      <td>ChIP-Seq</td>\n",
       "    </tr>\n",
       "    <tr>\n",
       "      <th>SRR869708</th>\n",
       "      <td>RNA-Seq</td>\n",
       "      <td>ChIP-Seq</td>\n",
       "    </tr>\n",
       "    <tr>\n",
       "      <th>SRR942039</th>\n",
       "      <td>RNA-Seq</td>\n",
       "      <td>ChIP-Seq</td>\n",
       "    </tr>\n",
       "  </tbody>\n",
       "</table>\n",
       "<p>114 rows × 2 columns</p>\n",
       "</div>"
      ],
      "text/plain": [
       "           classification  strategy\n",
       "ERR435831         RNA-Seq  ChIP-Seq\n",
       "ERR435842         RNA-Seq  ChIP-Seq\n",
       "SRR037521         RNA-Seq  ChIP-Seq\n",
       "SRR059122         RNA-Seq  ChIP-Seq\n",
       "SRR059123         RNA-Seq  ChIP-Seq\n",
       "SRR067908         RNA-Seq  ChIP-Seq\n",
       "SRR067909         RNA-Seq  ChIP-Seq\n",
       "SRR067910         RNA-Seq  ChIP-Seq\n",
       "SRR067912         RNA-Seq  ChIP-Seq\n",
       "SRR067916         RNA-Seq  ChIP-Seq\n",
       "SRR1015601        RNA-Seq  ChIP-Seq\n",
       "SRR1015602        RNA-Seq  ChIP-Seq\n",
       "SRR1015603        RNA-Seq  ChIP-Seq\n",
       "SRR1041450        RNA-Seq  ChIP-Seq\n",
       "SRR1042412        RNA-Seq  ChIP-Seq\n",
       "SRR1141010        RNA-Seq  ChIP-Seq\n",
       "SRR1164537        RNA-Seq  ChIP-Seq\n",
       "SRR1164538        RNA-Seq  ChIP-Seq\n",
       "SRR1164541        RNA-Seq  ChIP-Seq\n",
       "SRR1164542        RNA-Seq  ChIP-Seq\n",
       "SRR1175700        RNA-Seq  ChIP-Seq\n",
       "SRR1198782        RNA-Seq  ChIP-Seq\n",
       "SRR1198783        RNA-Seq  ChIP-Seq\n",
       "SRR1198794        RNA-Seq  ChIP-Seq\n",
       "SRR1198795        RNA-Seq  ChIP-Seq\n",
       "SRR121532         RNA-Seq  ChIP-Seq\n",
       "SRR1217232        RNA-Seq  ChIP-Seq\n",
       "SRR1217234        RNA-Seq  ChIP-Seq\n",
       "SRR1265772        RNA-Seq  ChIP-Seq\n",
       "SRR139079         RNA-Seq  ChIP-Seq\n",
       "...                   ...       ...\n",
       "SRR3383182        RNA-Seq  ChIP-Seq\n",
       "SRR3383183        RNA-Seq  ChIP-Seq\n",
       "SRR360699         RNA-Seq  ChIP-Seq\n",
       "SRR360700         RNA-Seq  ChIP-Seq\n",
       "SRR4069180        RNA-Seq  ChIP-Seq\n",
       "SRR5101089        RNA-Seq  ChIP-Seq\n",
       "SRR5101090        RNA-Seq  ChIP-Seq\n",
       "SRR5101091        RNA-Seq  ChIP-Seq\n",
       "SRR522006         RNA-Seq  ChIP-Seq\n",
       "SRR567539         RNA-Seq  ChIP-Seq\n",
       "SRR585045         RNA-Seq  ChIP-Seq\n",
       "SRR585046         RNA-Seq  ChIP-Seq\n",
       "SRR585051         RNA-Seq  ChIP-Seq\n",
       "SRR585052         RNA-Seq  ChIP-Seq\n",
       "SRR585053         RNA-Seq  ChIP-Seq\n",
       "SRR585054         RNA-Seq  ChIP-Seq\n",
       "SRR585056         RNA-Seq  ChIP-Seq\n",
       "SRR585057         RNA-Seq  ChIP-Seq\n",
       "SRR585062         RNA-Seq  ChIP-Seq\n",
       "SRR585065         RNA-Seq  ChIP-Seq\n",
       "SRR585066         RNA-Seq  ChIP-Seq\n",
       "SRR585067         RNA-Seq  ChIP-Seq\n",
       "SRR585068         RNA-Seq  ChIP-Seq\n",
       "SRR585070         RNA-Seq  ChIP-Seq\n",
       "SRR585072         RNA-Seq  ChIP-Seq\n",
       "SRR610267         RNA-Seq  ChIP-Seq\n",
       "SRR869706         RNA-Seq  ChIP-Seq\n",
       "SRR869707         RNA-Seq  ChIP-Seq\n",
       "SRR869708         RNA-Seq  ChIP-Seq\n",
       "SRR942039         RNA-Seq  ChIP-Seq\n",
       "\n",
       "[114 rows x 2 columns]"
      ]
     },
     "execution_count": 199,
     "metadata": {},
     "output_type": "execute_result"
    }
   ],
   "source": [
    "mergedClasses[(mergedClasses.classification == 'RNA-Seq') & (mergedClasses.strategy == 'ChIP-Seq')].sort_index()\n"
   ]
  },
  {
   "cell_type": "code",
   "execution_count": 201,
   "metadata": {},
   "outputs": [
    {
     "data": {
      "text/plain": [
       "['SRR015104',\n",
       " 'SRR015106',\n",
       " 'SRR015108',\n",
       " 'SRR015110',\n",
       " 'SRR015112',\n",
       " 'SRR015372',\n",
       " 'SRR031708',\n",
       " 'SRR031709',\n",
       " 'SRR031710',\n",
       " 'SRR031711',\n",
       " 'SRR031712',\n",
       " 'SRR031713',\n",
       " 'SRR031714',\n",
       " 'SRR031715',\n",
       " 'SRR031716',\n",
       " 'SRR031717',\n",
       " 'SRR031718',\n",
       " 'SRR031719',\n",
       " 'SRR031720',\n",
       " 'SRR031721',\n",
       " 'SRR031722',\n",
       " 'SRR031723',\n",
       " 'SRR031724',\n",
       " 'SRR031725',\n",
       " 'SRR031726',\n",
       " 'SRR031727',\n",
       " 'SRR031728',\n",
       " 'SRR031729',\n",
       " 'SRR031730',\n",
       " 'SRR031731',\n",
       " 'SRR031732',\n",
       " 'SRR031733',\n",
       " 'SRR031734',\n",
       " 'SRR031735',\n",
       " 'SRR031736',\n",
       " 'SRR031737',\n",
       " 'SRR031738',\n",
       " 'SRR031739',\n",
       " 'SRR031740',\n",
       " 'SRR031741',\n",
       " 'SRR031742',\n",
       " 'SRR031743',\n",
       " 'SRR031744',\n",
       " 'SRR031745',\n",
       " 'SRR031746',\n",
       " 'SRR031747',\n",
       " 'SRR031748',\n",
       " 'SRR031749',\n",
       " 'SRR031750',\n",
       " 'SRR031751',\n",
       " 'SRR031752',\n",
       " 'SRR031753',\n",
       " 'SRR031754',\n",
       " 'SRR031755',\n",
       " 'SRR031756',\n",
       " 'SRR031757',\n",
       " 'SRR031758',\n",
       " 'SRR031759',\n",
       " 'SRR031760',\n",
       " 'SRR031761',\n",
       " 'SRR031762',\n",
       " 'SRR031763',\n",
       " 'SRR031764',\n",
       " 'SRR031765',\n",
       " 'SRR031766',\n",
       " 'SRR031767',\n",
       " 'SRR031768',\n",
       " 'SRR031769',\n",
       " 'SRR031770',\n",
       " 'SRR031771',\n",
       " 'SRR031772',\n",
       " 'SRR031773',\n",
       " 'SRR031774',\n",
       " 'SRR031775',\n",
       " 'SRR031776',\n",
       " 'SRR031777',\n",
       " 'SRR031778',\n",
       " 'SRR031779',\n",
       " 'SRR031780',\n",
       " 'SRR031781',\n",
       " 'SRR031782',\n",
       " 'SRR031783',\n",
       " 'SRR032092',\n",
       " 'SRR032095',\n",
       " 'SRR032461',\n",
       " 'SRR032462',\n",
       " 'SRR034813',\n",
       " 'SRR034814',\n",
       " 'SRR034815',\n",
       " 'SRR034816',\n",
       " 'SRR034819',\n",
       " 'SRR034820',\n",
       " 'SRR034821',\n",
       " 'SRR034822',\n",
       " 'SRR034823',\n",
       " 'SRR034824',\n",
       " 'SRR034825',\n",
       " 'SRR034826',\n",
       " 'SRR034827',\n",
       " 'SRR034828',\n",
       " 'SRR034829',\n",
       " 'SRR034830',\n",
       " 'SRR038283',\n",
       " 'SRR038285',\n",
       " 'SRR038287',\n",
       " 'SRR038288',\n",
       " 'SRR039090',\n",
       " 'SRR039091',\n",
       " 'SRR039092',\n",
       " 'SRR039093',\n",
       " 'SRR039094',\n",
       " 'SRR039095',\n",
       " 'SRR039096',\n",
       " 'SRR039097',\n",
       " 'SRR039098',\n",
       " 'SRR039099',\n",
       " 'SRR039100',\n",
       " 'SRR039101',\n",
       " 'SRR039102',\n",
       " 'SRR039103',\n",
       " 'SRR039104',\n",
       " 'SRR039458',\n",
       " 'SRR039459',\n",
       " 'SRR039460',\n",
       " 'SRR039461',\n",
       " 'SRR039462',\n",
       " 'SRR039463',\n",
       " 'SRR039464',\n",
       " 'SRR039933',\n",
       " 'SRR039934',\n",
       " 'SRR039935',\n",
       " 'SRR054716',\n",
       " 'SRR054717',\n",
       " 'SRR054719',\n",
       " 'SRR054720',\n",
       " 'SRR064986',\n",
       " 'SRR064987',\n",
       " 'SRR065812',\n",
       " 'SRR067918',\n",
       " 'SRR074420',\n",
       " 'SRR074421',\n",
       " 'SRR074422',\n",
       " 'SRR074423',\n",
       " 'SRR074424',\n",
       " 'SRR074425',\n",
       " 'SRR074426',\n",
       " 'SRR074427',\n",
       " 'SRR074428',\n",
       " 'SRR074429',\n",
       " 'SRR074430',\n",
       " 'SRR074431',\n",
       " 'SRR074432',\n",
       " 'SRR074433',\n",
       " 'SRR074434',\n",
       " 'SRR074435',\n",
       " 'SRR074436',\n",
       " 'SRR074437',\n",
       " 'SRR074438',\n",
       " 'SRR074439',\n",
       " 'SRR074440',\n",
       " 'SRR074441',\n",
       " 'SRR074442',\n",
       " 'SRR074443',\n",
       " 'SRR074444',\n",
       " 'SRR074445',\n",
       " 'SRR074446',\n",
       " 'SRR074447',\n",
       " 'SRR074448',\n",
       " 'SRR074449',\n",
       " 'SRR074450',\n",
       " 'SRR074451',\n",
       " 'SRR074452',\n",
       " 'SRR074453',\n",
       " 'SRR074454',\n",
       " 'SRR074455',\n",
       " 'SRR074456',\n",
       " 'SRR074457',\n",
       " 'SRR074458',\n",
       " 'SRR074459',\n",
       " 'SRR074460',\n",
       " 'SRR074461',\n",
       " 'SRR074462',\n",
       " 'SRR074463',\n",
       " 'SRR074464',\n",
       " 'SRR074465',\n",
       " 'SRR074466',\n",
       " 'SRR074467',\n",
       " 'SRR074468',\n",
       " 'SRR074469',\n",
       " 'SRR074470',\n",
       " 'SRR074471',\n",
       " 'SRR074472',\n",
       " 'SRR074473',\n",
       " 'SRR074474',\n",
       " 'SRR074475',\n",
       " 'SRR074476',\n",
       " 'SRR074477',\n",
       " 'SRR074478',\n",
       " 'SRR074479',\n",
       " 'SRR074480',\n",
       " 'SRR074481',\n",
       " 'SRR074482',\n",
       " 'SRR074483',\n",
       " 'SRR074484',\n",
       " 'SRR074485',\n",
       " 'SRR074486',\n",
       " 'SRR074487',\n",
       " 'SRR074488',\n",
       " 'SRR074489',\n",
       " 'SRR074490',\n",
       " 'SRR074491',\n",
       " 'SRR074492',\n",
       " 'SRR074493',\n",
       " 'SRR074494',\n",
       " 'SRR074495',\n",
       " 'SRR074496',\n",
       " 'SRR074497',\n",
       " 'SRR074498',\n",
       " 'SRR074499',\n",
       " 'SRR074500',\n",
       " 'SRR074501',\n",
       " 'SRR074502',\n",
       " 'SRR074503',\n",
       " 'SRR074504',\n",
       " 'SRR074505',\n",
       " 'SRR074506',\n",
       " 'SRR074507',\n",
       " 'SRR074508',\n",
       " 'SRR074509',\n",
       " 'SRR074510',\n",
       " 'SRR074511',\n",
       " 'SRR074512',\n",
       " 'SRR074513',\n",
       " 'SRR074514',\n",
       " 'SRR074515',\n",
       " 'SRR074516',\n",
       " 'SRR074517',\n",
       " 'SRR074518',\n",
       " 'SRR074519',\n",
       " 'SRR074520',\n",
       " 'SRR074521',\n",
       " 'SRR074522',\n",
       " 'SRR074523',\n",
       " 'SRR074524',\n",
       " 'SRR074525',\n",
       " 'SRR074526',\n",
       " 'SRR074527',\n",
       " 'SRR074528',\n",
       " 'SRR074529',\n",
       " 'SRR074530',\n",
       " 'SRR074531',\n",
       " 'SRR074532',\n",
       " 'SRR074533',\n",
       " 'SRR074534',\n",
       " 'SRR074535',\n",
       " 'SRR074536',\n",
       " 'SRR074537',\n",
       " 'SRR074538',\n",
       " 'SRR074539',\n",
       " 'SRR074540',\n",
       " 'SRR074541',\n",
       " 'SRR074542',\n",
       " 'SRR074543',\n",
       " 'SRR074544',\n",
       " 'SRR074545',\n",
       " 'SRR074546',\n",
       " 'SRR074547',\n",
       " 'SRR074548',\n",
       " 'SRR074549',\n",
       " 'SRR074550',\n",
       " 'SRR1041347',\n",
       " 'SRR1054294',\n",
       " 'SRR1054295',\n",
       " 'SRR1054296',\n",
       " 'SRR1204762',\n",
       " 'SRR1204763',\n",
       " 'SRR1204764',\n",
       " 'SRR1204765',\n",
       " 'SRR1204768',\n",
       " 'SRR1660005',\n",
       " 'SRR1660006',\n",
       " 'SRR1660007',\n",
       " 'SRR1660008',\n",
       " 'SRR1660009',\n",
       " 'SRR1660010',\n",
       " 'SRR1660011',\n",
       " 'SRR1660012',\n",
       " 'SRR1660013',\n",
       " 'SRR1660014',\n",
       " 'SRR1660015',\n",
       " 'SRR1660016',\n",
       " 'SRR1660017',\n",
       " 'SRR1660018',\n",
       " 'SRR1660019',\n",
       " 'SRR1660020',\n",
       " 'SRR1660021',\n",
       " 'SRR1660022',\n",
       " 'SRR1660023',\n",
       " 'SRR1660024',\n",
       " 'SRR1660025',\n",
       " 'SRR1660026',\n",
       " 'SRR1660027',\n",
       " 'SRR1660028',\n",
       " 'SRR327604',\n",
       " 'SRR327605',\n",
       " 'SRR345566',\n",
       " 'SRR345567',\n",
       " 'SRR345568',\n",
       " 'SRR345569',\n",
       " 'SRR345570',\n",
       " 'SRR345571',\n",
       " 'SRR345572',\n",
       " 'SRR345574',\n",
       " 'SRR345575',\n",
       " 'SRR345576',\n",
       " 'SRR345577',\n",
       " 'SRR345578',\n",
       " 'SRR345579',\n",
       " 'SRR345580',\n",
       " 'SRR345581',\n",
       " 'SRR345582',\n",
       " 'SRR345583',\n",
       " 'SRR345584',\n",
       " 'SRR345585',\n",
       " 'SRR345586',\n",
       " 'SRR345587',\n",
       " 'SRR345588',\n",
       " 'SRR345589',\n",
       " 'SRR345590',\n",
       " 'SRR345591',\n",
       " 'SRR350624',\n",
       " 'SRR350625',\n",
       " 'SRR350626',\n",
       " 'SRR350627',\n",
       " 'SRR350628',\n",
       " 'SRR350629',\n",
       " 'SRR352499',\n",
       " 'SRR352500',\n",
       " 'SRR408555',\n",
       " 'SRR408556',\n",
       " 'SRR408557',\n",
       " 'SRR408558',\n",
       " 'SRR424185',\n",
       " 'SRR424186',\n",
       " 'SRR424187',\n",
       " 'SRR424188',\n",
       " 'SRR424189',\n",
       " 'SRR424190',\n",
       " 'SRR504969',\n",
       " 'SRR504970',\n",
       " 'SRR513507',\n",
       " 'SRR513508',\n",
       " 'SRR513509',\n",
       " 'SRR513510',\n",
       " 'SRR638042',\n",
       " 'SRR638043',\n",
       " 'SRR638050',\n",
       " 'SRR638051',\n",
       " 'SRR638060',\n",
       " 'SRR638068',\n",
       " 'SRR638069',\n",
       " 'SRR641380',\n",
       " 'SRR641381',\n",
       " 'SRR641383',\n",
       " 'SRR641384',\n",
       " 'SRR901293',\n",
       " 'SRR901294',\n",
       " 'SRR901295',\n",
       " 'SRR901296',\n",
       " 'SRR901297',\n",
       " 'SRR901298',\n",
       " 'SRR901299',\n",
       " 'SRR901300',\n",
       " 'SRR901301',\n",
       " 'SRR901302',\n",
       " 'SRR901303',\n",
       " 'SRR901304',\n",
       " 'SRR901305',\n",
       " 'SRR942042']"
      ]
     },
     "execution_count": 201,
     "metadata": {},
     "output_type": "execute_result"
    }
   ],
   "source": [
    "sorted(Y_idx)"
   ]
  },
  {
   "cell_type": "code",
   "execution_count": 204,
   "metadata": {},
   "outputs": [
    {
     "data": {
      "text/plain": [
       "classification    ChIP-Seq\n",
       "strategy          ChIP-Seq\n",
       "Name: SRR4069181, dtype: object"
      ]
     },
     "execution_count": 204,
     "metadata": {},
     "output_type": "execute_result"
    }
   ],
   "source": [
    "mergedClasses.loc['SRR4069181']"
   ]
  },
  {
   "cell_type": "code",
   "execution_count": null,
   "metadata": {
    "collapsed": true
   },
   "outputs": [],
   "source": []
  },
  {
   "cell_type": "code",
   "execution_count": null,
   "metadata": {
    "collapsed": true
   },
   "outputs": [],
   "source": []
  },
  {
   "cell_type": "code",
   "execution_count": null,
   "metadata": {
    "collapsed": true
   },
   "outputs": [],
   "source": []
  },
  {
   "cell_type": "code",
   "execution_count": null,
   "metadata": {
    "collapsed": true
   },
   "outputs": [],
   "source": []
  },
  {
   "cell_type": "code",
   "execution_count": null,
   "metadata": {
    "collapsed": true
   },
   "outputs": [],
   "source": []
  },
  {
   "cell_type": "code",
   "execution_count": null,
   "metadata": {
    "collapsed": true
   },
   "outputs": [],
   "source": []
  },
  {
   "cell_type": "code",
   "execution_count": null,
   "metadata": {
    "collapsed": true
   },
   "outputs": [],
   "source": []
  },
  {
   "cell_type": "code",
   "execution_count": null,
   "metadata": {
    "collapsed": true
   },
   "outputs": [],
   "source": []
  },
  {
   "cell_type": "markdown",
   "metadata": {
    "nbpresent": {
     "id": "c2d80d41-dcbf-4486-b38d-58bdf7287cab"
    },
    "slideshow": {
     "slide_type": "skip"
    }
   },
   "source": [
    "###### miRNA exploration"
   ]
  },
  {
   "cell_type": "code",
   "execution_count": 37,
   "metadata": {
    "code_folding": [
     0
    ],
    "nbpresent": {
     "id": "bb3d2ae7-38a9-4088-9739-4a31adfa9661"
    },
    "slideshow": {
     "slide_type": "skip"
    }
   },
   "outputs": [],
   "source": [
    "# Get list of miRNA SRRs and pull out BioSample to looking in biometa-app\n",
    "_miRNA = dfClasses[dfClasses['class'] == 'miRNA'].index.tolist()\n",
    "\n",
    "bs = [x['_id'] for x in biometa.find({'experiments.runs': {'$in': _miRNA}}, {'_id': 1})]"
   ]
  },
  {
   "cell_type": "markdown",
   "metadata": {
    "nbpresent": {
     "id": "69710a4e-b69f-4b21-b957-f29392f2978e"
    },
    "slideshow": {
     "slide_type": "skip"
    }
   },
   "source": [
    "There are 2 SRRs that the classifier calls miRNA-Seq, but NCBI says are RNA-seq. This translate into the following BioSamples:\n",
    "\n",
    "{{ ', '.join(bs) }}"
   ]
  },
  {
   "cell_type": "markdown",
   "metadata": {
    "collapsed": true,
    "nbpresent": {
     "id": "0b152db3-a741-4dc2-b8fc-6891b6780086"
    },
    "slideshow": {
     "slide_type": "skip"
    }
   },
   "source": [
    "Which corresponds to two BioProjects (PRJNA137667, PRJNA119663) submitted by the same authors (Perrimon group). Both Projects are shRNA knockdowns of *dpp* or *r2d2*. In the papers they state that these are actually small RNA libraries (19-24 nt)."
   ]
  },
  {
   "cell_type": "markdown",
   "metadata": {
    "collapsed": true,
    "nbpresent": {
     "id": "0c90dd5f-df8c-4e60-99f9-6baed0ddf6aa"
    },
    "slideshow": {
     "slide_type": "skip"
    }
   },
   "source": [
    "###### ChIP Seq exploration"
   ]
  },
  {
   "cell_type": "markdown",
   "metadata": {
    "nbpresent": {
     "id": "3cd7289d-9c76-4492-a610-b40bed91227b"
    },
    "slideshow": {
     "slide_type": "skip"
    }
   },
   "source": [
    "A quick look at samples that I classify as RNA-Seq that are ChIP-Seq in SRA is suggests that the classifier could use some work. The handful I looked at do seem like they are chip-seq.\n",
    "\n",
    "The biggest problem with SRA metadata is human error. While something like the miRNA example above seems likely because perhaps the miRNA-seq category did not exists at the time. These kind of errors are probably less likely with ChIP-Seq. "
   ]
  },
  {
   "cell_type": "code",
   "execution_count": 38,
   "metadata": {
    "nbpresent": {
     "id": "cf007e63-fde3-4d84-9978-435b341b980b"
    },
    "slideshow": {
     "slide_type": "skip"
    }
   },
   "outputs": [
    {
     "name": "stdout",
     "output_type": "stream",
     "text": [
      "There are 111 SRRs that the classifier annotated as RNA-Seq that NCBI annotated as ChIP-Seq. This corresponds to 98 BioSamples. \n"
     ]
    }
   ],
   "source": [
    "_chip = mergedClasses[(mergedClasses['class'] == 'RNA-Seq') & (mergedClasses['strategy'] == 'ChIP-Seq')].index.tolist()\n",
    "bs = [x['_id'] for x in biometa.find({'experiments.runs': {'$in': _chip}}, {'_id': 1})]\n",
    "\n",
    "print('There are {:,} SRRs that the classifier annotated '\n",
    "      'as RNA-Seq that NCBI annotated as ChIP-Seq. '\n",
    "      'This corresponds to {:,} BioSamples. '\n",
    "      .format(len(_chip), len(bs))\n",
    "     )"
   ]
  },
  {
   "cell_type": "code",
   "execution_count": null,
   "metadata": {
    "collapsed": true,
    "nbpresent": {
     "id": "f089e1a0-fca1-4713-995a-2afdf567fbed"
    },
    "slideshow": {
     "slide_type": "skip"
    }
   },
   "outputs": [],
   "source": []
  }
 ],
 "metadata": {
  "anaconda-cloud": {},
  "kernelspec": {
   "display_name": "Python [conda env:ncbi_remap]",
   "language": "python",
   "name": "conda-env-ncbi_remap-py"
  },
  "language_info": {
   "codemirror_mode": {
    "name": "ipython",
    "version": 3
   },
   "file_extension": ".py",
   "mimetype": "text/x-python",
   "name": "python",
   "nbconvert_exporter": "python",
   "pygments_lexer": "ipython3",
   "version": "3.5.2"
  },
  "nav_menu": {},
  "toc": {
   "colors": {
    "hover_highlight": "#DAA520",
    "running_highlight": "#FF0000",
    "selected_highlight": "#FFD700"
   },
   "moveMenuLeft": true,
   "nav_menu": {
    "height": "12px",
    "width": "252px"
   },
   "navigate_menu": true,
   "number_sections": false,
   "sideBar": true,
   "threshold": 6,
   "toc_cell": false,
   "toc_position": {
    "height": "1714px",
    "left": "0px",
    "right": "920px",
    "top": "106px",
    "width": "156px"
   },
   "toc_section_display": "none",
   "toc_window_display": false
  }
 },
 "nbformat": 4,
 "nbformat_minor": 2
}
