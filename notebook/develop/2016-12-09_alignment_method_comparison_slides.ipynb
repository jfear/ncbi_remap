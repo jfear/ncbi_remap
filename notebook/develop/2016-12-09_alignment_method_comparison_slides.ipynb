{
 "cells": [
  {
   "cell_type": "markdown",
   "metadata": {
    "nbpresent": {
     "id": "f4c6b02c-a1df-48bb-b362-c0034f65c4a1"
    },
    "slideshow": {
     "slide_type": "slide"
    }
   },
   "source": [
    "# Comparison of Alignment Strategies\n",
    "\n",
    "## SRA Project Meeting\n",
    "\n",
    "### December 12, 2016"
   ]
  },
  {
   "cell_type": "markdown",
   "metadata": {
    "nbpresent": {
     "id": "e718838c-c069-4d1f-8ae0-52cbb027dc73"
    },
    "slideshow": {
     "slide_type": "slide"
    }
   },
   "source": [
    "# Alignment Strategies\n",
    "\n",
    "* Magic\n",
    "* Magic Blast\n",
    "* Hisat2"
   ]
  },
  {
   "cell_type": "code",
   "execution_count": null,
   "metadata": {
    "collapsed": true,
    "nbpresent": {
     "id": "6dab49b5-a026-4ed2-9f0f-9d4da57813e1"
    }
   },
   "outputs": [],
   "source": []
  }
 ],
 "metadata": {
  "anaconda-cloud": {},
  "celltoolbar": "Slideshow",
  "kernelspec": {
   "display_name": "Python [conda env:ncbi_remap]",
   "language": "python",
   "name": "conda-env-ncbi_remap-py"
  },
  "language_info": {
   "codemirror_mode": {
    "name": "ipython",
    "version": 3
   },
   "file_extension": ".py",
   "mimetype": "text/x-python",
   "name": "python",
   "nbconvert_exporter": "python",
   "pygments_lexer": "ipython3",
   "version": "3.5.2"
  },
  "nav_menu": {},
  "nbpresent": {
   "slides": {
    "1bdb4ad2-8e81-4233-90ab-26b6fbadd1b0": {
     "id": "1bdb4ad2-8e81-4233-90ab-26b6fbadd1b0",
     "prev": "718b729b-61e7-4f01-bea0-818940d91d08",
     "regions": {
      "8f65706c-c5da-4dfa-817f-ee8f74a29c78": {
       "attrs": {
        "height": 0.8,
        "width": 0.8,
        "x": 0.1,
        "y": 0.1
       },
       "content": {
        "cell": "e718838c-c069-4d1f-8ae0-52cbb027dc73",
        "part": "whole"
       },
       "id": "8f65706c-c5da-4dfa-817f-ee8f74a29c78"
      }
     }
    },
    "718b729b-61e7-4f01-bea0-818940d91d08": {
     "id": "718b729b-61e7-4f01-bea0-818940d91d08",
     "prev": null,
     "regions": {
      "f5dc6ffd-44cd-4d99-93f8-8d2785942ee5": {
       "attrs": {
        "height": 0.8,
        "width": 0.8,
        "x": 0.1,
        "y": 0.1
       },
       "content": {
        "cell": "f4c6b02c-a1df-48bb-b362-c0034f65c4a1",
        "part": "whole"
       },
       "id": "f5dc6ffd-44cd-4d99-93f8-8d2785942ee5"
      }
     }
    },
    "9f75db32-2bd9-450f-89f4-fd82532c6594": {
     "id": "9f75db32-2bd9-450f-89f4-fd82532c6594",
     "prev": "f617a95a-9f24-4024-bc6b-d5e201053430",
     "regions": {
      "be0a78c1-55ab-4b5f-b20b-a22bced93346": {
       "attrs": {
        "height": 0.8,
        "width": 0.8,
        "x": 0.1,
        "y": 0.1
       },
       "content": {
        "cell": "6dab49b5-a026-4ed2-9f0f-9d4da57813e1",
        "part": "whole"
       },
       "id": "be0a78c1-55ab-4b5f-b20b-a22bced93346"
      }
     }
    },
    "f617a95a-9f24-4024-bc6b-d5e201053430": {
     "id": "f617a95a-9f24-4024-bc6b-d5e201053430",
     "prev": "1bdb4ad2-8e81-4233-90ab-26b6fbadd1b0",
     "regions": {
      "1c43f9aa-1e84-44df-ab44-22012e8bb2e7": {
       "attrs": {
        "height": 0.8,
        "width": 0.8,
        "x": 0.1,
        "y": 0.1
       },
       "content": {
        "cell": "1a6b5d5f-d842-4529-b748-66bdc0df1f7b",
        "part": "whole"
       },
       "id": "1c43f9aa-1e84-44df-ab44-22012e8bb2e7"
      }
     }
    }
   },
   "themes": {
    "default": "dc2a622d-8002-4ef7-92e2-686f6f5c9ef2",
    "theme": {
     "dc2a622d-8002-4ef7-92e2-686f6f5c9ef2": {
      "id": "dc2a622d-8002-4ef7-92e2-686f6f5c9ef2",
      "palette": {
       "19cc588f-0593-49c9-9f4b-e4d7cc113b1c": {
        "id": "19cc588f-0593-49c9-9f4b-e4d7cc113b1c",
        "rgb": [
         252,
         252,
         252
        ]
       },
       "31af15d2-7e15-44c5-ab5e-e04b16a89eff": {
        "id": "31af15d2-7e15-44c5-ab5e-e04b16a89eff",
        "rgb": [
         68,
         68,
         68
        ]
       },
       "50f92c45-a630-455b-aec3-788680ec7410": {
        "id": "50f92c45-a630-455b-aec3-788680ec7410",
        "rgb": [
         155,
         177,
         192
        ]
       },
       "c5cc3653-2ee1-402a-aba2-7caae1da4f6c": {
        "id": "c5cc3653-2ee1-402a-aba2-7caae1da4f6c",
        "rgb": [
         43,
         126,
         184
        ]
       },
       "efa7f048-9acb-414c-8b04-a26811511a21": {
        "id": "efa7f048-9acb-414c-8b04-a26811511a21",
        "rgb": [
         25.118061674008803,
         73.60176211453744,
         107.4819383259912
        ]
       }
      },
      "rules": {
       "blockquote": {
        "color": "50f92c45-a630-455b-aec3-788680ec7410"
       },
       "code": {
        "font-family": "Anonymous Pro"
       },
       "h1": {
        "color": "c5cc3653-2ee1-402a-aba2-7caae1da4f6c",
        "font-family": "Lato",
        "font-size": 8
       },
       "h2": {
        "color": "c5cc3653-2ee1-402a-aba2-7caae1da4f6c",
        "font-family": "Lato",
        "font-size": 6
       },
       "h3": {
        "color": "50f92c45-a630-455b-aec3-788680ec7410",
        "font-family": "Lato",
        "font-size": 5.5
       },
       "h4": {
        "color": "c5cc3653-2ee1-402a-aba2-7caae1da4f6c",
        "font-family": "Lato",
        "font-size": 5
       },
       "h5": {
        "font-family": "Lato"
       },
       "h6": {
        "font-family": "Lato"
       },
       "h7": {
        "font-family": "Lato"
       },
       "pre": {
        "font-family": "Anonymous Pro",
        "font-size": 4
       }
      },
      "text-base": {
       "font-family": "Merriweather",
       "font-size": 4
      }
     }
    }
   }
  },
  "toc": {
   "navigate_menu": true,
   "number_sections": false,
   "sideBar": true,
   "threshold": 6,
   "toc_cell": false,
   "toc_section_display": "none",
   "toc_window_display": false
  }
 },
 "nbformat": 4,
 "nbformat_minor": 2
}
