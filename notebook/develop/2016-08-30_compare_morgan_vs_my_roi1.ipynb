{
 "cells": [
  {
   "cell_type": "code",
   "execution_count": 12,
   "metadata": {
    "code_folding": [
     0
    ],
    "collapsed": false
   },
   "outputs": [
    {
     "name": "stdout",
     "output_type": "stream",
     "text": [
      "last updated: 2016-08-30 \n",
      "\n",
      "CPython 3.5.2\n",
      "IPython 5.1.0\n",
      "\n",
      "pandas 0.18.1\n",
      "host name: dk50r3-3341mac4\n",
      "Git hash: e41bf346ac4573753024da16fa914a14e3518f0f\n"
     ]
    }
   ],
   "source": [
    "# load extensions\n",
    "%reload_ext autoreload\n",
    "%autoreload 1\n",
    "\n",
    "%reload_ext watermark\n",
    "%watermark -u -d -v -g -h -p pandas"
   ]
  },
  {
   "cell_type": "code",
   "execution_count": 62,
   "metadata": {
    "code_folding": [
     0
    ],
    "collapsed": false
   },
   "outputs": [],
   "source": [
    "# imports\n",
    "import os\n",
    "import gzip\n",
    "\n",
    "import pandas as pd\n",
    "from Bio import SeqIO\n",
    "from Bio import pairwise2\n",
    "from Bio.SubsMat import MatrixInfo as matlist"
   ]
  },
  {
   "cell_type": "markdown",
   "metadata": {},
   "source": [
    "In order to understand what Morgan did, I decided to try to run the roi calling using the SMRT Portal. \n",
    "\n",
    "https://github.com/PacificBiosciences/Bioinformatics-Training/wiki/SMRT-Analysis-Virtual-Machine-Install\n",
    "\n",
    "Make sure to change the Vagrantfile machine allocations as follows (~line 10)\n",
    "\n",
    "```conf\n",
    "vb.customize [\"modifyvm\", :id, \"--memory\", \"20048\"]\n",
    "vb.customize [\"modifyvm\", :id, \"--cpus\", \"6\"]\n",
    "```\n",
    "\n",
    "I only ran a single sample ARL0001_1. This takes a long time even using 6 cores and 20 gb of RAM. From inside the portal software I downloaded the FASTQ file for ROI. When comparing the first read of these files, there is a 3bp insertion in my file. I think it is safe to say that the files are similar, but there are distinct differences. Perhaps a setting/version or maybe the algorithm is not deterministic and will not reproduce the exact same reads each time. "
   ]
  },
  {
   "cell_type": "code",
   "execution_count": 27,
   "metadata": {
    "collapsed": false
   },
   "outputs": [],
   "source": [
    "# Location of FATQ files on my local machine\n",
    "MORGANFQ = '/Users/fearjm/storage/fastq/PacBio/Data_20160630/ARL0001_1/roi1/reads_of_insert.fastq.gz'\n",
    "MYFQ = '/Users/fearjm/tmp/pacbio/me.fastq'"
   ]
  },
  {
   "cell_type": "code",
   "execution_count": 35,
   "metadata": {
    "code_folding": [
     0
    ],
    "collapsed": false
   },
   "outputs": [],
   "source": [
    "# get and hanlde for each\n",
    "morgan = SeqIO.parse(gzip.open(MORGANFQ, 'rt', encoding='utf-8'), 'fastq')\n",
    "me = SeqIO.parse(open(MYFQ, 'r'), 'fastq')\n",
    "\n",
    "# Get the first read\n",
    "curr_Morgan = next(morgan)\n",
    "curr_Me = next(me)\n",
    "\n",
    "# Make sure the ids are the same\n",
    "assert(curr_Morgan.id == curr_Me.id)"
   ]
  },
  {
   "cell_type": "code",
   "execution_count": 68,
   "metadata": {
    "code_folding": [],
    "collapsed": false
   },
   "outputs": [
    {
     "name": "stdout",
     "output_type": "stream",
     "text": [
      ">Morgan\n",
      "AAGCAGTGGTATCAACGCAGAGTACTTTTTTTTTTTTTTTTTTTTTTTTTTTTTT---CTTTTTTTTGAGGTTGGTCAATATTCATCATCGATTTATTACGACATTCCATCGCAGCGTCTTAGGTTAACAATAACATTCAGTGCAAAGGTTATGTTTAAGAAAAGATCCACGTTTGATTTATTATACTACATCCGTTGCTAAGAGTAGTTCGAATTCGGTTGATTTTCTAATTTTTGTGACGCTCGCAAAATGAAATAATAAATAACCAAAGACAGTTTCAAATTAAGAAGGCTAATATCAAATTAAGGCCGTGGACGTGTGTTAAGACAATTCACATTACAATCCGGCAACAATTATTGCTGGGTTCTCAACGGCAGCCTTTATTTTTCGCAGGAACAGGACCGCCTCACGTCCATCAATGATTCGGTGATCGTAGGTCAGGGCGATGTACATCATAGGACGTATCTTGACCTCTCCCTTGACAGCAATTGGCCGCTCAAAGATGCCGTGCATGCCGAGAATGGCACTCTGTGGCGGATTGATGATCGGCGTGCCCATCAGGGATCCGAACACTCCGCCATTGCTGATGGTGAAGGTGCCACCGTCCATGTCTTCCACGGTGATGGCATCCCGCCTGGCCTTATCGGCCAGACCGGCCAGTGCGATCTCGATGTCCGCATAGTTCATGCCCTCCACGTTGCGGATGACGGGTACCACCAATCCACGGGGCGTAGCCACGGCCACAGAGATGTCAACGTAGTCGCGATACACGATGTCCGTGCCATCGATGACGGCGTTCACTACGGGCTGATCCTGCAGCGCATAGGCACTAGCCTTGGTGAAGATCGACATGAATCCAAACTTAATACCATACTTCTTAGTGAACGCATCCAGATTCTGCTTTCGGAAGTCCATGGCATAGCTCATATCAACCTCGTTGAAAGTGGTGAGCATGGCACATGTGTTCTGGGCATCCTTCAAGCGGGCGGCAATCTTTAGACGCATGCGGTTCATCTTGACACGCTGCTCGGACCTAGTGCCTAGGATCTGCCGCGATCCGTCCGCTGGTGGCACCTTCACCTGGGCGACGGCCGGTTTGAGTGCAGCCACTGGAGCAGGTGGCGGTGGTCGAGGGCTGCCTTTGGTGGTGGCGGTGGTGGTGGCTTTGGTGCGCCGGCCGCAGGTGGTGGAGGTGCCGGCTTGGGTGCAGCAGCTGGAGCTGGTGCTGCTTTTGGGGCAGCAGGCGCAGGAGCAGCCGCTGGAGCAGCTGCCTTGGCGGGCGCTGCACCGGGCTTAATCTTGAACAGAGCCTGGCCGGGCTTGACGGTGTCGCCATCCTTCACCAGAATGTCGGTCAGAGTTCCGGAGAAGGGAGCTGGCACAGCCACCGTCGTCTTGTCGGTCTCGATTTCCATGACAGCCTCGTCAGCGGCGAATGAGTCACCCACCTTGCAAGTAAACTTGATGTCACCCTCGGCAATGGAGTCCGCAAAGGGTGGCACATTGACGGTCTGCTCCGACCACAAGCTCGACGTGGTGTGGATTCCCTGCCAGGTGAGAAGCCTGGTGGCCTCCTGGCAGCGATTCGAGCCATCCTGGCGAAGCAGTTGCTGCTGCTGGGCGGCGCAGGCAACTAACCGAGAATATTGGCGGATGCAGCGCTTTACCTCATTACTCCGCAGGGCTCGCATTCCCAAAGTTTGGGGCAGCCGTCTCGTTACGATCGAAATTATTCCCGTCATTGCTGCGACTCTGGTCCGCGAAATTCTGTTCGACGGTTGTTCTACTTTCAATTTATGTCAAAGCACTCGAATTTAAAACAGAGTTAGCGGCCAAGGCAAAGCAACGTCGATTTCTGCAGTCCCCCATGTACTCTGCGTTGATACCACTGCTT\n",
      ">Me\n",
      "AAGCAGTGGTATCAACGCAGAGTACTTTTTTTTTTTTTTTTTTTTTTTTTTTTTTTTTCTTTTTTTTGAGGTTGGTCAATATTCATCATCGATTTATTACGACATTCCATCGCAGCGTCTTAGGTTAACAATAACATTCAGTGCAAAGGTTATGTTTAAGAAAAGATCCACGTTTGATTTATTATACTACATCCGTTGCTAAGAGTAGTTCGAATTCGGTTGATTTTCTAATTTTTGTGACGCTCGCAAAATGAAATAATAAATAACCAAAGACAGTTTCAAATTAAGAAGGCTAATATCAAATTAAGGCCGTGGACGTGTGTTAAGACAATTCACATTACAATCCGGCAACAATTATTGCTGGGTTCTCAACGGCAGCCTTTATTTTTCGCAGGAACAGGACCGCCTCACGTCCATCAATGATTCGGTGATCGTAGGTCAGGGCGATGTACATCATAGGACGTATCTTGACCTCTCCCTTGACAGCAATTGGCCGCTCAAAGATGCCGTGCATGCCGAGAATGGCACTCTGTGGCGGATTGATGATCGGCGTGCCCATCAGGGATCCGAACACTCCGCCATTGCTGATGGTGAAGGTGCCACCGTCCATGTCTTCCACGGTGATGGCATCCCGCCTGGCCTTATCGGCCAGACCGGCCAGTGCGATCTCGATGTCCGCATAGTTCATGCCCTCCACGTTGCGGATGACGGGTACCACCAATCCACGGGGCGTAGCCACGGCCACAGAGATGTCAACGTAGTCGCGATACACGATGTCCGTGCCATCGATGACGGCGTTCACTACGGGCTGATCCTGCAGCGCATAGGCACTAGCCTTGGTGAAGATCGACATGAATCCAAACTTAATACCATACTTCTTAGTGAACGCATCCAGATTCTGCTTTCGGAAGTCCATGGCATAGCTCATATCAACCTCGTTGAAAGTGGTGAGCATGGCACATGTGTTCTGGGCATCCTTCAAGCGGGCGGCAATCTTTAGACGCATGCGGTTCATCTTGACACGCTGCTCGGACCTAGTGCCTAGGATCTGCCGCGATCCGTCCGCTGGTGGCACCTTCACCTGGGCGACGGCCG-TTTGAGTGCAGCCACTGGAGCAGGTGGCGGTGGTCGAGGGCTGCCTTTGGTGGTGGCGGTGGTGGTGGCTTTGGTGCGCCGGCCGCAGGTGGTGGAGGTGCCGGCTTGGGTGCAGCAGCTGGAGCTGGTGCTGCTTTTGGGGCAGCAGGCGCAGGAGCAGCCGCTGGAGCAGCTGCCTTGGCGGGCGCTGCACCGGGCTTAATCTTGAACAGAGCCTGGCCGGGCTTGACGGTGTCGCCATCCTTCACCAGAATGTCGGTCAGAGTTCCGGAGAAGGGAGCTGGCACAGCCACCGTCGTCTTGTCGGTCTCGATTTCCATGACAGCCTCGTCAGCGGCGAATGAGTCACCCACCTTGCAAGTAAACTTGATGTCACCCTCGGCAATGGAGTCCGCAAAGGGTGGCACATTGACGGTCTGCTCCGACCACAAGCTCGACGTGGTGTGGATTCCCTGCCAGGTGAGAAGCCTGGTGGCCTCCTGGCAGCGATTCGAGCCATCCTGGCGAAGCAGTTGCTGCTGCTGGGCGGCGCAGGCAACTAACCGAGAATATTGGCGGATGCAGCGCTTTACCTCATTACTCCGCAGGGCTCGCATTCCCAAAGTTTGGGGCAGCCGTCTCGTTACGATCGAAATTATTCCCGTCATTGCTGCGACTCTGGTCCGCGAAATTCTGTTCGACGGTTGTTCTACTTTCAATTTATGTCAAAGCACTCGAATTTAAAACAGAGTTAGCGGCCAAGGCAAAGCAACGTCGATTTCTGCAGTCCCCCATGTACTCTGCGTTGATACCACTGCTT\n"
     ]
    }
   ],
   "source": [
    "# Do a quick and dirty local alignment\n",
    "matrix = matlist.blosum62\n",
    "gap_open = -10\n",
    "gap_extend = -0.5\n",
    " \n",
    "alns = pairwise2.align.globalds(str(curr_Morgan.seq), str(curr_Me.seq), matrix, gap_open, gap_extend)\n",
    " \n",
    "top_aln = alns[0]\n",
    "aln_morgan, aln_me, score, begin, end = top_aln\n",
    "\n",
    "print(\">Morgan\\n\" + aln_morgan + \"\\n\" + \">Me\\n\" + aln_me)"
   ]
  },
  {
   "cell_type": "code",
   "execution_count": null,
   "metadata": {
    "collapsed": true
   },
   "outputs": [],
   "source": []
  }
 ],
 "metadata": {
  "anaconda-cloud": {},
  "kernelspec": {
   "display_name": "Python [conda env:ncbi_remap]",
   "language": "python",
   "name": "conda-env-ncbi_remap-py"
  },
  "language_info": {
   "codemirror_mode": {
    "name": "ipython",
    "version": 3
   },
   "file_extension": ".py",
   "mimetype": "text/x-python",
   "name": "python",
   "nbconvert_exporter": "python",
   "pygments_lexer": "ipython3",
   "version": "3.5.2"
  },
  "nav_menu": {},
  "report": {
   "author": "Justin M Fear",
   "date": "2016-08-30",
   "email": "justin.fear@nih.gov",
   "title": "Verifying ROI Generation: Comparing Morgan vs Me"
  },
  "toc": {
   "navigate_menu": true,
   "number_sections": true,
   "sideBar": true,
   "threshold": 6,
   "toc_cell": false,
   "toc_section_display": "block",
   "toc_window_display": false
  }
 },
 "nbformat": 4,
 "nbformat_minor": 1
}
