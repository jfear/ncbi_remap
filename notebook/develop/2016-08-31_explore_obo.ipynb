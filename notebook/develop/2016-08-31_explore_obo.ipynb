{
 "cells": [
  {
   "cell_type": "code",
   "execution_count": null,
   "metadata": {
    "collapsed": true
   },
   "outputs": [],
   "source": [
    "# %load ../start.py\n",
    "# Load useful extensions\n",
    "\n",
    "# Activate the autoreload extension for easy reloading of external packages\n",
    "%reload_ext autoreload\n",
    "%autoreload 1\n",
    "\n",
    "# Trun on the water mark\n",
    "%reload_ext watermark\n",
    "%watermark -u -d -v\n",
    "\n",
    "# Load ipycache extension\n",
    "%reload_ext ipycache\n",
    "from ipycache import CacheMagics\n",
    "CacheMagics.cachedir = '../cachedir'\n",
    "\n",
    "# Add project library to path\n",
    "import sys\n",
    "sys.path.insert(0, '../../lib/python')"
   ]
  },
  {
   "cell_type": "code",
   "execution_count": 2,
   "metadata": {
    "collapsed": false
   },
   "outputs": [
    {
     "name": "stdout",
     "output_type": "stream",
     "text": [
      "last updated: 2016-08-31 \n",
      "\n",
      "CPython 3.5.2\n",
      "IPython 5.1.0\n"
     ]
    }
   ],
   "source": [
    "# imports\n",
    "import pandas as "
   ]
  },
  {
   "cell_type": "markdown",
   "metadata": {},
   "source": [
    "One major question is about granularity and SRA metadata. Here I am exploring how to construct the controlled vocabulary hierarchy in network structure. For this I will need to parse FlyBase Obo files as well as construct a graph abased on their relationships. "
   ]
  },
  {
   "cell_type": "code",
   "execution_count": null,
   "metadata": {
    "collapsed": true
   },
   "outputs": [],
   "source": []
  }
 ],
 "metadata": {
  "kernelspec": {
   "display_name": "Python [conda env:ncbi_remap]",
   "language": "python",
   "name": "conda-env-ncbi_remap-py"
  },
  "language_info": {
   "codemirror_mode": {
    "name": "ipython",
    "version": 3
   },
   "file_extension": ".py",
   "mimetype": "text/x-python",
   "name": "python",
   "nbconvert_exporter": "python",
   "pygments_lexer": "ipython3",
   "version": "3.5.2"
  },
  "nav_menu": {},
  "toc": {
   "navigate_menu": true,
   "number_sections": true,
   "sideBar": true,
   "threshold": 6,
   "toc_cell": false,
   "toc_section_display": "block",
   "toc_window_display": false
  }
 },
 "nbformat": 4,
 "nbformat_minor": 0
}
