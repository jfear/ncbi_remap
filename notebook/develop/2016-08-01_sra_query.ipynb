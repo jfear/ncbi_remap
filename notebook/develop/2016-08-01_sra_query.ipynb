{
 "cells": [
  {
   "cell_type": "markdown",
   "metadata": {
    "run_control": {
     "marked": false
    }
   },
   "source": [
    "# SRA Query and XML Parsing\n",
    "\n",
    "Currently metadata was downloaded by hand using the web interface which generates a sample table. The goal of this notebook is to query the SRA database directly and generate this table without using the web interface. There is an R package `SRAdb` that allows easy querying of the SRA database, but it does not directly interact with the NCBI database. Instead `SRAdb` uses a pre-built SQLite database that is provided by the author. In my tests of this package the counts did not match what I was getting from the SRA web interface."
   ]
  },
  {
   "cell_type": "code",
   "execution_count": 9,
   "metadata": {
    "code_folding": [],
    "collapsed": false,
    "run_control": {
     "marked": false
    }
   },
   "outputs": [],
   "source": [
    "# Load useful extensions\n",
    "%reload_ext autoreload\n",
    "%autoreload 2\n",
    "\n",
    "%reload_ext ipycache"
   ]
  },
  {
   "cell_type": "code",
   "execution_count": 10,
   "metadata": {
    "code_folding": [],
    "collapsed": false,
    "run_control": {
     "marked": false
    }
   },
   "outputs": [],
   "source": [
    "# Imports\n",
    "import os\n",
    "import sys\n",
    "import re\n",
    "from xml.etree import ElementTree as ET\n",
    "\n",
    "import pandas as pd\n",
    "from Bio import Entrez\n",
    "\n",
    "from ipycache import CacheMagics\n",
    "CacheMagics.cachedir = '../../output/cache'\n",
    "\n",
    "# Import my libraries\n",
    "sys.path.insert(0, '../../lib/python/')\n",
    "import Sra\n",
    "\n",
    "pd.set_option('display.max_columns', 999)\n",
    "pd.set_option('display.max_rows', 999)\n",
    "Entrez.email = 'justin.fear@nih.gov'"
   ]
  },
  {
   "cell_type": "markdown",
   "metadata": {
    "run_control": {
     "marked": false
    }
   },
   "source": [
    "## Query SRA"
   ]
  },
  {
   "cell_type": "markdown",
   "metadata": {
    "run_control": {
     "marked": false
    }
   },
   "source": [
    "Using the Biopython implementation of E-utilities directly query SRA using the search term `\"Drosophila melanogaster\"[Orgn]`. Because there is a large number of entires use the web history feature of E-utilities."
   ]
  },
  {
   "cell_type": "code",
   "execution_count": 14,
   "metadata": {
    "code_folding": [],
    "collapsed": false,
    "run_control": {
     "marked": false
    }
   },
   "outputs": [
    {
     "name": "stdout",
     "output_type": "stream",
     "text": [
      "There were  22434  records return\n"
     ]
    }
   ],
   "source": [
    "# Query SRA\n",
    "handle = Entrez.esearch(db='sra', term='\"Drosophila melanogaster\"[Orgn]', retmax=99999, usehistory='y')\n",
    "records = Entrez.read(handle)\n",
    "print('There were ',records['Count'], ' records return')\n",
    "\n",
    "# Save history from eSearch, this will be used in eFetch\n",
    "webenv = records['WebEnv']\n",
    "query_key = records['QueryKey']"
   ]
  },
  {
   "cell_type": "markdown",
   "metadata": {
    "run_control": {
     "marked": false
    }
   },
   "source": [
    "## Download Full XML Results"
   ]
  },
  {
   "cell_type": "markdown",
   "metadata": {
    "run_control": {
     "marked": false
    }
   },
   "source": [
    "Download the XML records using the above query history. This process takes a long time and taxes the SRA system so only re-download if need."
   ]
  },
  {
   "cell_type": "code",
   "execution_count": 245,
   "metadata": {
    "code_folding": [],
    "collapsed": false,
    "run_control": {
     "marked": false
    },
    "scrolled": true
   },
   "outputs": [
    {
     "name": "stdout",
     "output_type": "stream",
     "text": [
      "You have  22344  XML records. This should match the number ofr results returned from your query. If they do not match then delete the file `../../ouput/sra_dump.xml`\n"
     ]
    }
   ],
   "source": [
    "# Check if I have already dumped the sra records. If \n",
    "# you want to update, simply delete the file and re-run.\n",
    "fname = '../../output/sra_dump.xml'\n",
    "if not os.path.exists(fname):\n",
    "    Sra.downloadSRA(count=records['Count'], webenv=webenv, \n",
    "                query_key=query_key, fname=fname)\n",
    "\n",
    "tree = ET.parse(fname)\n",
    "root = tree.getroot()\n",
    "ep = root.getchildren()\n",
    "print('You have ', len(ep), ' XML records. This should match the number ofr results returned from your',\n",
    "      'query. If they do not match then delete the file `../../ouput/sra_dump.xml`')"
   ]
  },
  {
   "cell_type": "markdown",
   "metadata": {
    "run_control": {
     "marked": false
    }
   },
   "source": [
    "## Parse XML Records"
   ]
  },
  {
   "cell_type": "markdown",
   "metadata": {
    "run_control": {
     "marked": false
    }
   },
   "source": [
    "E-utilities only provides an XML version of the results. XML needs parsed to generate a results table. A description of the SRA XML schema can be found here:\n",
    "\n",
    "http://www.ncbi.nlm.nih.gov/viewvc/v1/trunk/sra/doc/SRA_1-6a/\n",
    "\n",
    "There is a large number of fields in the SRA XML, and a lot of the data is repeated in multiple places. I need to decide which pieces of information to use. \n",
    "\n",
    "Here is an example tree with current fields being considered marked with a '⟹':"
   ]
  },
  {
   "cell_type": "code",
   "execution_count": null,
   "metadata": {
    "collapsed": true
   },
   "outputs": [],
   "source": [
    "ERR358180"
   ]
  },
  {
   "cell_type": "code",
   "execution_count": 321,
   "metadata": {
    "code_folding": [],
    "collapsed": false,
    "run_control": {
     "marked": false
    }
   },
   "outputs": [
    {
     "name": "stdout",
     "output_type": "stream",
     "text": [
      "EXPERIMENT {'alias': 'head 2', 'accession': 'SRX1842622'} None\n",
      "\tIDENTIFIERS {} None\n",
      "⟹\t\tPRIMARY_ID {} SRX1842622\n",
      "\t\tSUBMITTER_ID {'namespace': 'Institute of Zoology, CAS'} head 2\n",
      "\tTITLE {} Drosophila melanogaster 3 tissue Transcriptome Head 2\n",
      "\tSTUDY_REF {'accession': 'SRP057728'} None\n",
      "\t\tIDENTIFIERS {} None\n",
      "⟹\t\t\tPRIMARY_ID {} SRP057728\n",
      "⟹\t\t\tEXTERNAL_ID {'namespace': 'BioProject'} PRJNA282433\n",
      "\tDESIGN {} None\n",
      "\t\tDESIGN_DESCRIPTION {} None\n",
      "\t\tSAMPLE_DESCRIPTOR {'accession': 'SRS1501599'} None\n",
      "\t\t\tIDENTIFIERS {} None\n",
      "\t\t\t\tPRIMARY_ID {} SRS1501599\n",
      "\t\t\t\tEXTERNAL_ID {'namespace': 'BioSample'} SAMN05231878\n",
      "\t\tLIBRARY_DESCRIPTOR {} None\n",
      "\t\t\tLIBRARY_NAME {} None\n",
      "⟹\t\t\tLIBRARY_STRATEGY {} RNA-Seq\n",
      "⟹\t\t\tLIBRARY_SOURCE {} TRANSCRIPTOMIC\n",
      "⟹\t\t\tLIBRARY_SELECTION {} PolyA\n",
      "\t\t\tLIBRARY_LAYOUT {} None\n",
      "\t\t\t\tPAIRED {'NOMINAL_SDEV': '0.0E0'} None\n",
      "\t\tSPOT_DESCRIPTOR {} None\n",
      "\t\t\tSPOT_DECODE_SPEC {} None\n",
      "\t\t\t\tSPOT_LENGTH {} 300\n",
      "\t\t\t\tREAD_SPEC {} None\n",
      "\t\t\t\tREAD_SPEC {} None\n",
      "\tPLATFORM {} None\n",
      "⟹\t\tILLUMINA {} None\n",
      "⟹\t\t\tINSTRUMENT_MODEL {} Illumina HiSeq 4000\n",
      "SUBMISSION {'center_name': 'Institute of Zoology, CAS', 'alias': 'head 2', 'accession': 'SRA433757', 'lab_name': 'Computational & Evolutionary Genomics Group'} None\n",
      "\tIDENTIFIERS {} None\n",
      "⟹\t\tPRIMARY_ID {} SRA433757\n",
      "⟹\t\tSUBMITTER_ID {'namespace': 'Institute of Zoology, CAS'} head 2\n",
      "Organization {'type': 'center'} None\n",
      "\tName {} Institute of zoology, CAS\n",
      "\tContact {'email': 'hesm@ioz.ac.cn'} None\n",
      "\t\tName {} None\n",
      "\t\t\tFirst {} shunmin\n",
      "\t\t\tLast {} he\n",
      "\t\t\tMiddle {} None\n",
      "STUDY {'center_name': 'BioProject', 'alias': 'PRJNA282433', 'accession': 'SRP057728'} None\n",
      "\tIDENTIFIERS {} None\n",
      "\t\tPRIMARY_ID {} SRP057728\n",
      "\t\tEXTERNAL_ID {'label': 'primary', 'namespace': 'BioProject'} PRJNA282433\n",
      "\tDESCRIPTOR {} None\n",
      "\t\tSTUDY_TITLE {} Genome sequencing of six Drosophila melanogaster lines for the study of copy number variations\n",
      "\t\tSTUDY_TYPE {'existing_study_type': 'Other'} None\n",
      "\t\tSTUDY_ABSTRACT {} For six DGRP (Drosophila Genetic Reference Panel) lines including 208, 303, 307, 379, 399 and 517, we generated high coverage (30GB for each) and long read (2x250bp) sequencing data for each lines in order to detect polymorphic tandem duplications and retrocopies. Unfortunately, we discovered admixture or contamination between these six lines later on. So, these data could be only treated as pooled data.\n",
      "\t\tCENTER_PROJECT_NAME {} Drosophila melanogaster\n",
      "SAMPLE {'alias': 'Drosophila melanogaster 3 tissue Transcriptome Head 2', 'accession': 'SRS1501599'} None\n",
      "\tIDENTIFIERS {} None\n",
      "\t\tPRIMARY_ID {} SRS1501599\n",
      "\t\tEXTERNAL_ID {'namespace': 'BioSample'} SAMN05231878\n",
      "\t\tSUBMITTER_ID {'label': 'Sample name', 'namespace': 'pda|clamp131'} Drosophila melanogaster 3 tissue Transcriptome Head 2\n",
      "⟹\tTITLE {} Transcriptome from adult Drosophila melanogaster\n",
      "\tSAMPLE_NAME {} None\n",
      "⟹\t\tTAXON_ID {} 7227\n",
      "⟹\t\tSCIENTIFIC_NAME {} Drosophila melanogaster\n",
      "\tSAMPLE_LINKS {} None\n",
      "\t\tSAMPLE_LINK {} None\n",
      "\t\t\tXREF_LINK {} None\n",
      "\t\t\t\tDB {} bioproject\n",
      "\t\t\t\tID {} 325420\n",
      "\t\t\t\tLABEL {} PRJNA325420\n",
      "\tSAMPLE_ATTRIBUTES {} None\n",
      "\t\tSAMPLE_ATTRIBUTE {} None\n",
      "⟹\t\t\tTAG {} strain\n",
      "⟹\t\t\tVALUE {} DGRP line 208\n",
      "\t\tSAMPLE_ATTRIBUTE {} None\n",
      "⟹\t\t\tTAG {} dev_stage\n",
      "⟹\t\t\tVALUE {} adult\n",
      "\t\tSAMPLE_ATTRIBUTE {} None\n",
      "⟹\t\t\tTAG {} sex\n",
      "⟹\t\t\tVALUE {} pooled male and female\n",
      "\t\tSAMPLE_ATTRIBUTE {} None\n",
      "⟹\t\t\tTAG {} tissue\n",
      "⟹\t\t\tVALUE {} Head\n",
      "\t\tSAMPLE_ATTRIBUTE {} None\n",
      "⟹\t\t\tTAG {} BioSampleModel\n",
      "⟹\t\t\tVALUE {} Model organism or animal\n",
      "Pool {} None\n",
      "\tMember {'sample_title': 'Transcriptome from adult Drosophila melanogaster', 'accession': 'SRS1501599', 'spots': '42412249', 'organism': 'Drosophila melanogaster', 'member_name': '', 'sample_name': 'Drosophila melanogaster 3 tissue Transcriptome Head 2', 'bases': '12723674700', 'tax_id': '7227'} None\n",
      "\t\tIDENTIFIERS {} None\n",
      "\t\t\tPRIMARY_ID {} SRS1501599\n",
      "\t\t\tEXTERNAL_ID {'namespace': 'BioSample'} SAMN05231878\n",
      "\t\t\tSUBMITTER_ID {'label': 'Sample name', 'namespace': 'pda|clamp131'} Drosophila melanogaster 3 tissue Transcriptome Head 2\n",
      "RUN_SET {} None\n",
      "⟹\tRUN {'load_done': 'true', 'alias': 'head 2', 'accession': 'SRR3663861', 'static_data_available': '1', 'is_public': 'true', 'total_bases': '12723674700', 'total_spots': '42412249', 'size': '5061775781', 'published': '2016-06-20 00:00:00', 'cluster_name': 'public'} None\n",
      "\t\tIDENTIFIERS {} None\n",
      "\t\t\tPRIMARY_ID {} SRR3663861\n",
      "\t\t\tSUBMITTER_ID {'namespace': 'Institute of Zoology, CAS'} head 2\n",
      "\t\tEXPERIMENT_REF {'accession': 'SRX1842622'} None\n",
      "\t\tPool {} None\n",
      "\t\t\tMember {'sample_title': 'Transcriptome from adult Drosophila melanogaster', 'accession': 'SRS1501599', 'spots': '42412249', 'organism': 'Drosophila melanogaster', 'member_name': '', 'sample_name': 'Drosophila melanogaster 3 tissue Transcriptome Head 2', 'bases': '12723674700', 'tax_id': '7227'} None\n",
      "\t\t\t\tIDENTIFIERS {} None\n",
      "\t\tQualityCount {} None\n",
      "\t\tStatistics {'nspots': '42412249', 'nreads': '2'} None\n",
      "⟹\t\t\tRead {'count': '42412249', 'average': '150', 'index': '0', 'stdev': '0'} None\n",
      "⟹\t\t\tRead {'count': '42412249', 'average': '150', 'index': '1', 'stdev': '0'} None\n",
      "\t\tBases {'count': '12723674700', 'cs_native': 'false'} None\n"
     ]
    },
    {
     "name": "stderr",
     "output_type": "stream",
     "text": [
      "[autoreload of Sra failed: Traceback (most recent call last):\n",
      "  File \"/Users/fearjm/opt/miniconda3/envs/ncbi_remap/lib/python3.5/site-packages/IPython/extensions/autoreload.py\", line 247, in check\n",
      "    superreload(m, reload, self.old_objects)\n",
      "ValueError: get_Sex() requires a code object with 0 free vars, not 1\n",
      "]\n",
      "[autoreload of Sra failed: Traceback (most recent call last):\n",
      "  File \"/Users/fearjm/opt/miniconda3/envs/ncbi_remap/lib/python3.5/site-packages/IPython/extensions/autoreload.py\", line 247, in check\n",
      "    superreload(m, reload, self.old_objects)\n",
      "ValueError: get_Sex() requires a code object with 0 free vars, not 1\n",
      "]\n"
     ]
    }
   ],
   "source": [
    "# Print out an example Tree and mark fields used\n",
    "for experiment in ep:\n",
    "    if experiment.find('RUN_SET/RUN/IDENTIFIERS/PRIMARY_ID').text == 'SRR3663861':\n",
    "        break\n",
    "\n",
    "keep = ['EXPERIMENT/IDENTIFIERS/PRIMARY_ID',\n",
    "        'EXPERIMENT/STUDY_REF/IDENTIFIERS/PRIMARY_ID',\n",
    "        'EXPERIMENT/STUDY_REF/IDENTIFIERS/EXTERNAL_ID',\n",
    "        'EXPERIMENT/DESIGN/LIBRARY_DESCRIPTOR/LIBRARY_STRATEGY',\n",
    "        'EXPERIMENT/DESIGN/LIBRARY_DESCRIPTOR/LIBRARY_SOURCE',\n",
    "        'EXPERIMENT/DESIGN/LIBRARY_DESCRIPTOR/LIBRARY_SELECTION',\n",
    "        'EXPERIMENT/DESIGN/LIBRARY_DESCRIPTOR/LIBRARY_LAYOUT/SINGLE',\n",
    "        'EXPERIMENT/PLATFORM/ILLUMINA/INSTRUMENT_MODEL',\n",
    "        'EXPERIMENT/PLATFORM/ILLUMINA',\n",
    "        'SUBMISSION/IDENTIFIERS/PRIMARY_ID',\n",
    "        'SUBMISSION/IDENTIFIERS/SUBMITTER_ID',\n",
    "        'Organization/Address/Institution',\n",
    "        'SAMPLE/TITLE',\n",
    "        'SAMPLE/SAMPLE_NAME/TAXON_ID',\n",
    "        'SAMPLE/SAMPLE_NAME/SCIENTIFIC_NAME',\n",
    "        'SAMPLE/SAMPLE_NAME/COMMON_NAME',\n",
    "        'SAMPLE/SAMPLE_ATTRIBUTES/SAMPLE_ATTRIBUTE/TAG',\n",
    "        'SAMPLE/SAMPLE_ATTRIBUTES/SAMPLE_ATTRIBUTE/VALUE',\n",
    "        'RUN_SET/RUN',\n",
    "        'RUN_SET/RUN/Statistics/Read'\n",
    "       ]\n",
    "\n",
    "def print_tags(s, space='', path=''):\n",
    "    if (s.tag != 'Quality') & (s.tag != 'Base'):\n",
    "        if path in keep:\n",
    "            print( '⟹' + \"{space}{tag} {attrib} {text}\".format(tag=s.tag, attrib=s.attrib, text=s.text, space=space))\n",
    "        else:\n",
    "            print(\"{space}{tag} {attrib} {text}\".format(tag=s.tag, attrib=s.attrib, text=s.text, space=space))\n",
    "\n",
    "for i in experiment.getchildren():\n",
    "    path1 = i.tag\n",
    "    print_tags(i, path=path1)\n",
    "    for j in i.getchildren():\n",
    "        path2 = path1 + '/' + j.tag\n",
    "        print_tags(j, '\\t', path=path2)\n",
    "        for k in j.getchildren():\n",
    "            path3 = path2 + '/' + k.tag\n",
    "            print_tags(k, '\\t\\t', path=path3)\n",
    "            for l in k.getchildren():\n",
    "                path4 = path3 + '/' + l.tag\n",
    "                print_tags(l, '\\t\\t\\t', path=path4)\n",
    "                for m in l.getchildren():\n",
    "                    path5 = path4 + '/' + m.tag\n",
    "                    print_tags(m, '\\t\\t\\t\\t', path=path5)"
   ]
  },
  {
   "cell_type": "markdown",
   "metadata": {},
   "source": [
    "I am assuming the redundant information is populated by SRA and should be identical, but it would probably be safest to compare data points and flag those that do not match. I could do this a number of ways, first I could be a set of classes for each piece of information I am interested and then parse each bit of XML to check, or I could build a class for each bit of XML and check. The first one is probably easier. "
   ]
  },
  {
   "cell_type": "code",
   "execution_count": 306,
   "metadata": {
    "collapsed": false
   },
   "outputs": [],
   "source": [
    "p = ep[10].find('EXPERIMENT/PLATFORM')"
   ]
  },
  {
   "cell_type": "code",
   "execution_count": 308,
   "metadata": {
    "collapsed": false
   },
   "outputs": [
    {
     "data": {
      "text/plain": [
       "'ILLUMINA'"
      ]
     },
     "execution_count": 308,
     "metadata": {},
     "output_type": "execute_result"
    }
   ],
   "source": [
    "p.getchildren()[0].tag"
   ]
  },
  {
   "cell_type": "code",
   "execution_count": 276,
   "metadata": {
    "collapsed": false
   },
   "outputs": [
    {
     "data": {
      "text/plain": [
       "{0,\n",
       " 1,\n",
       " 2,\n",
       " 3,\n",
       " 4,\n",
       " 5,\n",
       " 6,\n",
       " 7,\n",
       " 8,\n",
       " 9,\n",
       " 10,\n",
       " 11,\n",
       " 12,\n",
       " 13,\n",
       " 14,\n",
       " 15,\n",
       " 16,\n",
       " 18,\n",
       " 20,\n",
       " 26,\n",
       " 32,\n",
       " 38,\n",
       " 41}"
      ]
     },
     "execution_count": 276,
     "metadata": {},
     "output_type": "execute_result"
    }
   ],
   "source": [
    "b = set()\n",
    "for e in ep:\n",
    "    b.add(len(e.findall('RUN_SET/RUN/Statistics/Read')))\n",
    "b"
   ]
  },
  {
   "cell_type": "code",
   "execution_count": 262,
   "metadata": {
    "collapsed": true
   },
   "outputs": [],
   "source": [
    "for r in e.findall('RUN_SET/RUN'):\n",
    "    pass"
   ]
  },
  {
   "cell_type": "code",
   "execution_count": 265,
   "metadata": {
    "collapsed": false
   },
   "outputs": [
    {
     "data": {
      "text/plain": [
       "'SRR2443145'"
      ]
     },
     "execution_count": 265,
     "metadata": {},
     "output_type": "execute_result"
    }
   ],
   "source": [
    "r.find('IDENTIFIERS/PRIMARY_ID').text"
   ]
  },
  {
   "cell_type": "markdown",
   "metadata": {
    "heading_collapsed": true,
    "run_control": {
     "marked": false
    }
   },
   "source": [
    "## Available Sample Attributes: "
   ]
  },
  {
   "cell_type": "markdown",
   "metadata": {
    "hidden": true,
    "run_control": {
     "marked": false
    }
   },
   "source": [
    "Sample attributes are entered as free text. Here is a list of attributes currently in the SRA. Some of these can collapsed into single categories."
   ]
  },
  {
   "cell_type": "code",
   "execution_count": 155,
   "metadata": {
    "collapsed": false,
    "hidden": true,
    "run_control": {
     "marked": false
    }
   },
   "outputs": [],
   "source": [
    "counts = {}\n",
    "for i in root.findall('SAMPLE_ATTRIBUTE/TAG'):\n",
    "    try:\n",
    "        text = i.text.lower()\n",
    "        if text in counts:\n",
    "            counts[text] += 1\n",
    "        else:\n",
    "            counts[text] = 1\n",
    "    except:\n",
    "        pass"
   ]
  },
  {
   "cell_type": "code",
   "execution_count": 156,
   "metadata": {
    "collapsed": false,
    "hidden": true,
    "run_control": {
     "marked": false
    },
    "scrolled": false
   },
   "outputs": [],
   "source": [
    "pd.Series(counts).to_csv('../../output/tmp.text', sep='\\t')"
   ]
  },
  {
   "cell_type": "code",
   "execution_count": 205,
   "metadata": {
    "collapsed": false,
    "hidden": true,
    "run_control": {
     "marked": false
    }
   },
   "outputs": [],
   "source": [
    "s = bob.find('SAMPLE')"
   ]
  },
  {
   "cell_type": "code",
   "execution_count": 206,
   "metadata": {
    "collapsed": false,
    "hidden": true,
    "run_control": {
     "marked": false
    },
    "scrolled": true
   },
   "outputs": [
    {
     "name": "stdout",
     "output_type": "stream",
     "text": [
      "SAMPLE {'accession': 'SRS1532953', 'alias': 'FR198N'} None\n",
      "IDENTIFIERS {} None\n",
      "PRIMARY_ID {} SRS1532953\n",
      "EXTERNAL_ID {'namespace': 'BioSample'} SAMN05330489\n",
      "SUBMITTER_ID {'namespace': 'pda|justin.lack@nih.gov', 'label': 'Sample name'} FR198N\n",
      "TITLE {} FR198N\n",
      "SAMPLE_NAME {} None\n",
      "TAXON_ID {} 7227\n",
      "SCIENTIFIC_NAME {} Drosophila melanogaster\n",
      "COMMON_NAME {} fruit fly\n",
      "SAMPLE_LINKS {} None\n",
      "SAMPLE_LINK {} None\n",
      "XREF_LINK {} None\n",
      "DB {} bioproject\n",
      "ID {} 327349\n",
      "LABEL {} PRJNA327349\n",
      "SAMPLE_ATTRIBUTES {} None\n",
      "SAMPLE_ATTRIBUTE {} None\n",
      "TAG {} strain\n",
      "VALUE {} FR198N\n",
      "SAMPLE_ATTRIBUTE {} None\n",
      "TAG {} dev_stage\n",
      "VALUE {} adult\n",
      "SAMPLE_ATTRIBUTE {} None\n",
      "TAG {} sex\n",
      "VALUE {} female\n",
      "SAMPLE_ATTRIBUTE {} None\n",
      "TAG {} tissue\n",
      "VALUE {} Whole organism\n",
      "SAMPLE_ATTRIBUTE {} None\n",
      "TAG {} BioSampleModel\n",
      "VALUE {} Model organism or animal\n"
     ]
    }
   ],
   "source": [
    "for i in s.iter():\n",
    "    print(i.tag, i.attrib, i.text)"
   ]
  },
  {
   "cell_type": "code",
   "execution_count": 211,
   "metadata": {
    "collapsed": false,
    "hidden": true,
    "run_control": {
     "marked": false
    }
   },
   "outputs": [
    {
     "name": "stdout",
     "output_type": "stream",
     "text": [
      "strain\n",
      "dev_stage\n",
      "sex\n",
      "tissue\n",
      "BioSampleModel\n"
     ]
    }
   ],
   "source": [
    "for attrib in s.findall('SAMPLE_ATTRIBUTES/SAMPLE_ATTRIBUTE'):\n",
    "    print(attrib.find('TAG').text)"
   ]
  },
  {
   "cell_type": "code",
   "execution_count": null,
   "metadata": {
    "collapsed": true,
    "hidden": true,
    "run_control": {
     "marked": false
    }
   },
   "outputs": [],
   "source": []
  },
  {
   "cell_type": "code",
   "execution_count": null,
   "metadata": {
    "collapsed": true,
    "hidden": true,
    "run_control": {
     "marked": false
    }
   },
   "outputs": [],
   "source": []
  },
  {
   "cell_type": "code",
   "execution_count": null,
   "metadata": {
    "collapsed": true,
    "hidden": true,
    "run_control": {
     "marked": false
    }
   },
   "outputs": [],
   "source": []
  }
 ],
 "metadata": {
  "kernelspec": {
   "display_name": "Python 3",
   "language": "python",
   "name": "python3"
  },
  "language_info": {
   "codemirror_mode": {
    "name": "ipython",
    "version": 3
   },
   "file_extension": ".py",
   "mimetype": "text/x-python",
   "name": "python",
   "nbconvert_exporter": "python",
   "pygments_lexer": "ipython3",
   "version": "3.5.2"
  }
 },
 "nbformat": 4,
 "nbformat_minor": 0
}
