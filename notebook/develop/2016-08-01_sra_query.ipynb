{
 "cells": [
  {
   "cell_type": "markdown",
   "metadata": {
    "run_control": {
     "marked": false
    }
   },
   "source": [
    "# SRA Query and XML Parsing\n",
    "\n",
    "Currently metadata was downloaded by hand using the web interface which generates a sample table. The goal of this notebook is to query the SRA database directly and generate this table without using the web interface. There is an R package `SRAdb` that allows easy querying of the SRA database, but it does not directly interact with the NCBI database. Instead `SRAdb` uses a pre-built SQLite database that is provided by the author. In my tests of this package the counts did not match what I was getting from the SRA web interface."
   ]
  },
  {
   "cell_type": "code",
   "execution_count": 1,
   "metadata": {
    "code_folding": [
     0
    ],
    "collapsed": false,
    "run_control": {
     "marked": false
    }
   },
   "outputs": [],
   "source": [
    "# Load useful extensions\n",
    "%reload_ext autoreload\n",
    "%autoreload 2\n",
    "\n",
    "%reload_ext ipycache"
   ]
  },
  {
   "cell_type": "code",
   "execution_count": 2,
   "metadata": {
    "code_folding": [
     0
    ],
    "collapsed": false,
    "run_control": {
     "marked": false
    }
   },
   "outputs": [],
   "source": [
    "# Imports\n",
    "import os\n",
    "import sys\n",
    "import re\n",
    "from xml.etree import ElementTree as ET\n",
    "\n",
    "import pandas as pd\n",
    "from Bio import Entrez\n",
    "\n",
    "from ipycache import CacheMagics\n",
    "CacheMagics.cachedir = '../../output/cache'\n",
    "\n",
    "# Import my libraries\n",
    "sys.path.insert(0, '../../lib/python/')\n",
    "import Sra\n",
    "\n",
    "pd.set_option('display.max_columns', 999)\n",
    "pd.set_option('display.max_rows', 999)\n",
    "Entrez.email = 'justin.fear@nih.gov'"
   ]
  },
  {
   "cell_type": "markdown",
   "metadata": {
    "heading_collapsed": true,
    "run_control": {
     "marked": false
    }
   },
   "source": [
    "## Query SRA"
   ]
  },
  {
   "cell_type": "markdown",
   "metadata": {
    "hidden": true,
    "run_control": {
     "marked": false
    }
   },
   "source": [
    "Using the Biopython implementation of E-utilities directly query SRA using the search term `\"Drosophila melanogaster\"[Orgn]`. Because there is a large number of entires use the web history feature of E-utilities."
   ]
  },
  {
   "cell_type": "code",
   "execution_count": 14,
   "metadata": {
    "code_folding": [],
    "collapsed": false,
    "hidden": true,
    "run_control": {
     "marked": false
    }
   },
   "outputs": [
    {
     "name": "stdout",
     "output_type": "stream",
     "text": [
      "There were  22434  records return\n"
     ]
    }
   ],
   "source": [
    "# Query SRA\n",
    "handle = Entrez.esearch(db='sra', term='\"Drosophila melanogaster\"[Orgn]', retmax=99999, usehistory='y')\n",
    "records = Entrez.read(handle)\n",
    "print('There were ',records['Count'], ' records return')\n",
    "\n",
    "# Save history from eSearch, this will be used in eFetch\n",
    "webenv = records['WebEnv']\n",
    "query_key = records['QueryKey']"
   ]
  },
  {
   "cell_type": "markdown",
   "metadata": {
    "heading_collapsed": true,
    "run_control": {
     "marked": false
    }
   },
   "source": [
    "## Download Full XML Results"
   ]
  },
  {
   "cell_type": "markdown",
   "metadata": {
    "hidden": true,
    "run_control": {
     "marked": false
    }
   },
   "source": [
    "Download the XML records using the above query history. This process takes a long time and taxes the SRA system so only re-download if need."
   ]
  },
  {
   "cell_type": "code",
   "execution_count": 4,
   "metadata": {
    "code_folding": [],
    "collapsed": false,
    "hidden": true,
    "run_control": {
     "marked": false
    },
    "scrolled": true
   },
   "outputs": [
    {
     "name": "stdout",
     "output_type": "stream",
     "text": [
      "You have  22344  XML records. This should match the number ofr results returned from your query. If they do not match then delete the file `../../ouput/sra_dump.xml`\n"
     ]
    }
   ],
   "source": [
    "# Check if I have already dumped the sra records. If \n",
    "# you want to update, simply delete the file and re-run.\n",
    "fname = '../../output/sra_dump.xml'\n",
    "if not os.path.exists(fname):\n",
    "    Sra.downloadSRA(count=records['Count'], webenv=webenv, \n",
    "                query_key=query_key, fname=fname)\n",
    "\n",
    "tree = ET.parse(fname)\n",
    "root = tree.getroot()\n",
    "ep = root.getchildren()\n",
    "print('You have ', len(ep), ' XML records. This should match the number ofr results returned from your',\n",
    "      'query. If they do not match then delete the file `../../ouput/sra_dump.xml`')"
   ]
  },
  {
   "cell_type": "markdown",
   "metadata": {
    "run_control": {
     "marked": false
    }
   },
   "source": [
    "## Parse XML Records"
   ]
  },
  {
   "cell_type": "markdown",
   "metadata": {
    "run_control": {
     "marked": false
    }
   },
   "source": [
    "E-utilities only provides an XML version of the results. XML needs parsed to generate a results table. A description of the SRA XML schema can be found here:\n",
    "\n",
    "http://www.ncbi.nlm.nih.gov/viewvc/v1/trunk/sra/doc/SRA_1-6a/\n",
    "\n",
    "There is a large number of fields in the SRA XML, and a lot of the data is repeated in multiple places. I need to decide which pieces of information to use."
   ]
  },
  {
   "cell_type": "code",
   "execution_count": 5,
   "metadata": {
    "code_folding": [
     0
    ],
    "collapsed": false,
    "run_control": {
     "marked": false
    }
   },
   "outputs": [
    {
     "name": "stdout",
     "output_type": "stream",
     "text": [
      "EXPERIMENT {'accession': 'SRX1542556', 'alias': 'lnc25'} None\n",
      "\tIDENTIFIERS {} None\n",
      "\t\tPRIMARY_ID {} SRX1542556\n",
      "\t\tSUBMITTER_ID {'namespace': 'Tsinghua University'} lnc25\n",
      "\tTITLE {} CR45542 knockout\n",
      "\tSTUDY_REF {'accession': 'SRP068880'} None\n",
      "\t\tIDENTIFIERS {} None\n",
      "\t\t\tPRIMARY_ID {} SRP068880\n",
      "\tDESIGN {} None\n",
      "\t\tDESIGN_DESCRIPTION {} None\n",
      "\t\tSAMPLE_DESCRIPTOR {'accession': 'SRS1231938'} None\n",
      "\t\t\tIDENTIFIERS {} None\n",
      "\t\t\t\tPRIMARY_ID {} SRS1231938\n",
      "\t\tLIBRARY_DESCRIPTOR {} None\n",
      "\t\t\tLIBRARY_NAME {} None\n",
      "\t\t\tLIBRARY_STRATEGY {} RNA-Seq\n",
      "\t\t\tLIBRARY_SOURCE {} TRANSCRIPTOMIC\n",
      "\t\t\tLIBRARY_SELECTION {} PolyA\n",
      "\t\t\tLIBRARY_LAYOUT {} None\n",
      "\t\t\t\tSINGLE {} None\n",
      "\t\tSPOT_DESCRIPTOR {} None\n",
      "\t\t\tSPOT_DECODE_SPEC {} None\n",
      "\t\t\t\tSPOT_LENGTH {} 49\n",
      "\t\t\t\tREAD_SPEC {} None\n",
      "\tPLATFORM {} None\n",
      "\t\tILLUMINA {} None\n",
      "\t\t\tINSTRUMENT_MODEL {} Illumina HiSeq 2000\n",
      "SUBMISSION {'submission_comment': 'five fly mutants and one wild-type', 'lab_name': '', 'accession': 'SRA325840', 'alias': 'lnc1', 'center_name': 'Tsinghua University'} None\n",
      "\tIDENTIFIERS {} None\n",
      "\t\tPRIMARY_ID {} SRA325840\n",
      "\t\tSUBMITTER_ID {'namespace': 'Tsinghua University'} lnc1\n",
      "Organization {'type': 'center'} None\n",
      "\tName {'abbr': 'Tsinghua University'} Tsinghua University\n",
      "\tContact {'email': 'lynhsiong@hotmail.com'} None\n",
      "\t\tName {} None\n",
      "\t\t\tFirst {} Tuanlin\n",
      "\t\t\tLast {} Xiong\n",
      "\t\t\tMiddle {} None\n",
      "STUDY {'accession': 'SRP068880', 'alias': 'PRJNA309866', 'center_name': 'BioProject'} None\n",
      "\tIDENTIFIERS {} None\n",
      "\t\tPRIMARY_ID {} SRP068880\n",
      "\t\tEXTERNAL_ID {'namespace': 'BioProject', 'label': 'primary'} PRJNA309866\n",
      "\tDESCRIPTOR {} None\n",
      "\t\tSTUDY_TITLE {} Drosophila melanogaster transcriptome\n",
      "\t\tSTUDY_TYPE {'existing_study_type': 'Transcriptome Analysis'} None\n",
      "\t\tSTUDY_ABSTRACT {} The goal of this study is learn the possible function of lncRNAs in fly testis development. We constructed five lncRNAs KO mutants, and sequenced their transcriptome with an extra wild type strain.\n",
      "\t\tCENTER_PROJECT_NAME {} Drosophila melanogaster\n",
      "SAMPLE {'accession': 'SRS1231938', 'alias': 'lncRNA25-CR45542'} None\n",
      "\tIDENTIFIERS {} None\n",
      "\t\tPRIMARY_ID {} SRS1231938\n",
      "\t\tEXTERNAL_ID {'namespace': 'BioSample'} SAMN04381902\n",
      "\t\tSUBMITTER_ID {'namespace': 'pda|bbxvxtl', 'label': 'Sample name'} lncRNA25-CR45542\n",
      "\tSAMPLE_NAME {} None\n",
      "\t\tTAXON_ID {} 7227\n",
      "\t\tSCIENTIFIC_NAME {} Drosophila melanogaster\n",
      "\tSAMPLE_ATTRIBUTES {} None\n",
      "\t\tSAMPLE_ATTRIBUTE {} None\n",
      "\t\t\tTAG {} breed\n",
      "\t\t\tVALUE {} w1118\n",
      "\t\tSAMPLE_ATTRIBUTE {} None\n",
      "\t\t\tTAG {} isolation_source\n",
      "\t\t\tVALUE {} mutants-lncRNA25-CR45542\n",
      "\t\tSAMPLE_ATTRIBUTE {} None\n",
      "\t\t\tTAG {} collection_date\n",
      "\t\t\tVALUE {} not applicable\n",
      "\t\tSAMPLE_ATTRIBUTE {} None\n",
      "\t\t\tTAG {} geo_loc_name\n",
      "\t\t\tVALUE {} USA: Bloomington Stock Center\n",
      "\t\tSAMPLE_ATTRIBUTE {} None\n",
      "\t\t\tTAG {} tissue\n",
      "\t\t\tVALUE {} testes\n",
      "\t\tSAMPLE_ATTRIBUTE {} None\n",
      "\t\t\tTAG {} BioSampleModel\n",
      "\t\t\tVALUE {} Invertebrate\n",
      "Pool {} None\n",
      "\tMember {'member_name': '', 'sample_name': 'lncRNA25-CR45542', 'organism': 'Drosophila melanogaster', 'tax_id': '7227', 'bases': '2598717352', 'spots': '53035048', 'accession': 'SRS1231938'} None\n",
      "\t\tIDENTIFIERS {} None\n",
      "\t\t\tPRIMARY_ID {} SRS1231938\n",
      "\t\t\tEXTERNAL_ID {'namespace': 'BioSample'} SAMN04381902\n",
      "\t\t\tSUBMITTER_ID {'namespace': 'pda|bbxvxtl', 'label': 'Sample name'} lncRNA25-CR45542\n",
      "RUN_SET {} None\n",
      "\tRUN {'load_done': 'true', 'is_public': 'true', 'total_bases': '1147106807', 'alias': 'lnc25', 'published': '2016-01-26 21:41:30', 'cluster_name': 'public', 'static_data_available': '1', 'accession': 'SRR3080522', 'total_spots': '23410343', 'size': '777224347'} None\n",
      "\t\tIDENTIFIERS {} None\n",
      "\t\t\tPRIMARY_ID {} SRR3080522\n",
      "\t\t\tSUBMITTER_ID {'namespace': 'Tsinghua University'} lnc25\n",
      "\t\tEXPERIMENT_REF {'accession': 'SRX1542556'} None\n",
      "\t\tPool {} None\n",
      "\t\t\tMember {'member_name': '', 'sample_name': 'lncRNA25-CR45542', 'organism': 'Drosophila melanogaster', 'tax_id': '7227', 'bases': '1147106807', 'spots': '23410343', 'accession': 'SRS1231938'} None\n",
      "\t\t\t\tIDENTIFIERS {} None\n",
      "\t\tQualityCount {} None\n",
      "\t\tStatistics {'nreads': '1', 'nspots': '23410343'} None\n",
      "\t\t\tRead {'count': '23410343', 'stdev': '0', 'average': '49', 'index': '0'} None\n",
      "\t\tBases {'count': '1147106807', 'cs_native': 'false'} None\n",
      "\tRUN {'load_done': 'true', 'is_public': 'true', 'total_bases': '1451610545', 'alias': 'CR45542_BioRep2', 'published': '2016-01-28 00:00:00', 'cluster_name': 'public', 'static_data_available': '1', 'accession': 'SRR3605533', 'total_spots': '29624705', 'size': '512585669'} None\n",
      "\t\tIDENTIFIERS {} None\n",
      "\t\t\tPRIMARY_ID {} SRR3605533\n",
      "\t\t\tSUBMITTER_ID {'namespace': 'Tsinghua University'} CR45542_BioRep2\n",
      "\t\tEXPERIMENT_REF {'accession': 'SRX1542556'} None\n",
      "\t\tRUN_ATTRIBUTES {} None\n",
      "\t\t\tRUN_ATTRIBUTE {} None\n",
      "\t\t\t\tTAG {} loader\n",
      "\t\t\t\tVALUE {} latf-load\n",
      "\t\t\t\tUNITS {} None\n",
      "\t\tPool {} None\n",
      "\t\t\tMember {'member_name': '', 'sample_name': 'lncRNA25-CR45542', 'organism': 'Drosophila melanogaster', 'tax_id': '7227', 'bases': '1451610545', 'spots': '29624705', 'accession': 'SRS1231938'} None\n",
      "\t\t\t\tIDENTIFIERS {} None\n",
      "\t\tQualityCount {} None\n",
      "\t\tStatistics {'nreads': '2', 'nspots': '29624705'} None\n",
      "\t\t\tRead {'count': '29624705', 'stdev': '0', 'average': '49', 'index': '0'} None\n",
      "\t\t\tRead {'count': '0', 'stdev': '0', 'average': '0', 'index': '1'} None\n",
      "\t\tDatabases {} None\n",
      "\t\t\tDatabase {} None\n",
      "\t\t\t\tTable {'name': 'SEQUENCE'} None\n",
      "\t\tBases {'count': '1451610545', 'cs_native': 'false'} None\n"
     ]
    }
   ],
   "source": [
    "# Print out an example Tree and mark fields used\n",
    "for experiment in ep:\n",
    "    try:\n",
    "        if experiment.find('RUN_SET/RUN/IDENTIFIERS/PRIMARY_ID').text == 'ERR358180':\n",
    "            break\n",
    "    except:\n",
    "        pass\n",
    "experiment = ep[802]\n",
    "keep = ['EXPERIMENT/IDENTIFIERS/PRIMARY_ID',\n",
    "        'EXPERIMENT/STUDY_REF/IDENTIFIERS/PRIMARY_ID',\n",
    "        'EXPERIMENT/STUDY_REF/IDENTIFIERS/EXTERNAL_ID',\n",
    "        'EXPERIMENT/DESIGN/LIBRARY_DESCRIPTOR/LIBRARY_STRATEGY',\n",
    "        'EXPERIMENT/DESIGN/LIBRARY_DESCRIPTOR/LIBRARY_SOURCE',\n",
    "        'EXPERIMENT/DESIGN/LIBRARY_DESCRIPTOR/LIBRARY_SELECTION',\n",
    "        'EXPERIMENT/DESIGN/LIBRARY_DESCRIPTOR/LIBRARY_LAYOUT/SINGLE',\n",
    "        'EXPERIMENT/PLATFORM/ILLUMINA/INSTRUMENT_MODEL',\n",
    "        'EXPERIMENT/PLATFORM/ILLUMINA',\n",
    "        'SUBMISSION/IDENTIFIERS/PRIMARY_ID',\n",
    "        'SUBMISSION/IDENTIFIERS/SUBMITTER_ID',\n",
    "        'Organization/Address/Institution',\n",
    "        'SAMPLE/TITLE',\n",
    "        'SAMPLE/SAMPLE_NAME/TAXON_ID',\n",
    "        'SAMPLE/SAMPLE_NAME/SCIENTIFIC_NAME',\n",
    "        'SAMPLE/SAMPLE_NAME/COMMON_NAME',\n",
    "        'SAMPLE/SAMPLE_ATTRIBUTES/SAMPLE_ATTRIBUTE/TAG',\n",
    "        'SAMPLE/SAMPLE_ATTRIBUTES/SAMPLE_ATTRIBUTE/VALUE',\n",
    "        'RUN_SET/RUN',\n",
    "        'RUN_SET/RUN/Statistics/Read'\n",
    "       ]\n",
    "\n",
    "def print_tags(s, space='', path=''):\n",
    "    if (s.tag != 'Quality') & (s.tag != 'Base'):\n",
    "        print(\"{space}{tag} {attrib} {text}\".format(tag=s.tag, attrib=s.attrib, text=s.text, space=space))\n",
    "\n",
    "for i in experiment.getchildren():\n",
    "    path1 = i.tag\n",
    "    print_tags(i, path=path1)\n",
    "    for j in i.getchildren():\n",
    "        path2 = path1 + '/' + j.tag\n",
    "        print_tags(j, '\\t', path=path2)\n",
    "        for k in j.getchildren():\n",
    "            path3 = path2 + '/' + k.tag\n",
    "            print_tags(k, '\\t\\t', path=path3)\n",
    "            for l in k.getchildren():\n",
    "                path4 = path3 + '/' + l.tag\n",
    "                print_tags(l, '\\t\\t\\t', path=path4)\n",
    "                for m in l.getchildren():\n",
    "                    path5 = path4 + '/' + m.tag\n",
    "                    print_tags(m, '\\t\\t\\t\\t', path=path5)"
   ]
  },
  {
   "cell_type": "markdown",
   "metadata": {},
   "source": [
    "I am assuming the redundant information is populated by SRA and should be identical, but it would probably be safest to compare data points and flag those that do not match. I could do this a number of ways, first I could be a set of classes for each piece of information I am interested and then parse each bit of XML to check, or I could build a class for each bit of XML and check. The first one is probably easier. \n",
    "\n",
    "Decided to just try to replicate the `Sra RunInfo` table as close as possible. I developed a class separately to do some error checking and parsing."
   ]
  },
  {
   "cell_type": "code",
   "execution_count": 30,
   "metadata": {
    "collapsed": false
   },
   "outputs": [
    {
     "data": {
      "text/plain": [
       "(29691, 48)"
      ]
     },
     "execution_count": 30,
     "metadata": {},
     "output_type": "execute_result"
    }
   ],
   "source": [
    "# Parse SRA XML\n",
    "res = Sra.SraResultsTable(fname)\n",
    "\n",
    "# Generate DataFrame representation of XML.\n",
    "exper = res.build_rows()\n",
    "\n",
    "exper.shape"
   ]
  },
  {
   "cell_type": "markdown",
   "metadata": {},
   "source": [
    "## Validate Parsed Table\n",
    "\n",
    "Now that I have a parsed table I need to make sure it is correct. There will be some iteration if there is something wrong with the table.\n",
    "\n",
    "The current table includes other types of samples besides RNA-seq data. I want to parse this out so that it matches the runinfo table. Note this does not account for samples that are not annotated correctly, this is just for verification of my XML parsing."
   ]
  },
  {
   "cell_type": "code",
   "execution_count": 31,
   "metadata": {
    "collapsed": false
   },
   "outputs": [
    {
     "data": {
      "text/plain": [
       "array(['GENOMIC', 'TRANSCRIPTOMIC', 'OTHER', 'SYNTHETIC', 'METAGENOMIC',\n",
       "       'METATRANSCRIPTOMIC'], dtype=object)"
      ]
     },
     "execution_count": 31,
     "metadata": {},
     "output_type": "execute_result"
    }
   ],
   "source": [
    "# List possible values of LibrarySource\n",
    "exper['LibrarySource'].unique()"
   ]
  },
  {
   "cell_type": "code",
   "execution_count": 103,
   "metadata": {
    "collapsed": false
   },
   "outputs": [
    {
     "name": "stdout",
     "output_type": "stream",
     "text": [
      "(14035, 48)\n"
     ]
    },
    {
     "data": {
      "text/html": [
       "<div>\n",
       "<table border=\"1\" class=\"dataframe\">\n",
       "  <thead>\n",
       "    <tr style=\"text-align: right;\">\n",
       "      <th></th>\n",
       "      <th>Run</th>\n",
       "      <th>RunSecondary</th>\n",
       "      <th>ReleaseDate</th>\n",
       "      <th>LoadDate</th>\n",
       "      <th>spots</th>\n",
       "      <th>bases</th>\n",
       "      <th>spots_with_mates</th>\n",
       "      <th>avgLength</th>\n",
       "      <th>size_MB</th>\n",
       "      <th>AssemblyName</th>\n",
       "      <th>download_path</th>\n",
       "      <th>Experiment</th>\n",
       "      <th>LibraryName</th>\n",
       "      <th>LibraryStrategy</th>\n",
       "      <th>LibrarySelection</th>\n",
       "      <th>LibrarySource</th>\n",
       "      <th>LibraryLayout</th>\n",
       "      <th>InsertSize</th>\n",
       "      <th>InsertDev</th>\n",
       "      <th>Platform</th>\n",
       "      <th>Model</th>\n",
       "      <th>SRAStudy</th>\n",
       "      <th>BioProject</th>\n",
       "      <th>Study_Pubmed_id</th>\n",
       "      <th>ProjectID</th>\n",
       "      <th>Sample</th>\n",
       "      <th>BioSample</th>\n",
       "      <th>SampleType</th>\n",
       "      <th>TaxID</th>\n",
       "      <th>ScientificName</th>\n",
       "      <th>SampleName</th>\n",
       "      <th>g1k_pop_code</th>\n",
       "      <th>source</th>\n",
       "      <th>g1k_analysis_group</th>\n",
       "      <th>Subject_ID</th>\n",
       "      <th>Sex</th>\n",
       "      <th>Disease</th>\n",
       "      <th>Tumor</th>\n",
       "      <th>Affection_Status</th>\n",
       "      <th>Analyte_Type</th>\n",
       "      <th>Histological_Type</th>\n",
       "      <th>Body_Site</th>\n",
       "      <th>CenterName</th>\n",
       "      <th>Submission</th>\n",
       "      <th>dbgap_study_accession</th>\n",
       "      <th>Consent</th>\n",
       "      <th>RunHash</th>\n",
       "      <th>ReadHash</th>\n",
       "    </tr>\n",
       "  </thead>\n",
       "  <tbody>\n",
       "    <tr>\n",
       "      <th>315</th>\n",
       "      <td>SRR3476589</td>\n",
       "      <td></td>\n",
       "      <td>2016-05-06</td>\n",
       "      <td></td>\n",
       "      <td>39131961</td>\n",
       "      <td>1956598050</td>\n",
       "      <td>0</td>\n",
       "      <td>50</td>\n",
       "      <td></td>\n",
       "      <td></td>\n",
       "      <td></td>\n",
       "      <td>SRX1743178</td>\n",
       "      <td>UNDEFINED</td>\n",
       "      <td>OTHER</td>\n",
       "      <td>other</td>\n",
       "      <td>TRANSCRIPTOMIC</td>\n",
       "      <td>SINGLE</td>\n",
       "      <td>0</td>\n",
       "      <td>0</td>\n",
       "      <td>ILLUMINA</td>\n",
       "      <td>Illumina HiSeq 2500</td>\n",
       "      <td>SRP074388</td>\n",
       "      <td>PRJNA320547</td>\n",
       "      <td></td>\n",
       "      <td></td>\n",
       "      <td>SRS1422417</td>\n",
       "      <td>SAMN04942830</td>\n",
       "      <td></td>\n",
       "      <td>7227</td>\n",
       "      <td>Drosophila melanogaster</td>\n",
       "      <td>GSM2142680</td>\n",
       "      <td></td>\n",
       "      <td></td>\n",
       "      <td></td>\n",
       "      <td></td>\n",
       "      <td></td>\n",
       "      <td></td>\n",
       "      <td>no</td>\n",
       "      <td></td>\n",
       "      <td></td>\n",
       "      <td></td>\n",
       "      <td></td>\n",
       "      <td>None</td>\n",
       "      <td>SRA423615</td>\n",
       "      <td></td>\n",
       "      <td>public</td>\n",
       "      <td></td>\n",
       "      <td></td>\n",
       "    </tr>\n",
       "    <tr>\n",
       "      <th>316</th>\n",
       "      <td>SRR3476587</td>\n",
       "      <td></td>\n",
       "      <td>2016-05-06</td>\n",
       "      <td></td>\n",
       "      <td>15895465</td>\n",
       "      <td>794773250</td>\n",
       "      <td>0</td>\n",
       "      <td>50</td>\n",
       "      <td></td>\n",
       "      <td></td>\n",
       "      <td></td>\n",
       "      <td>SRX1743176</td>\n",
       "      <td>UNDEFINED</td>\n",
       "      <td>RNA-Seq</td>\n",
       "      <td>cDNA</td>\n",
       "      <td>TRANSCRIPTOMIC</td>\n",
       "      <td>SINGLE</td>\n",
       "      <td>0</td>\n",
       "      <td>0</td>\n",
       "      <td>ILLUMINA</td>\n",
       "      <td>Illumina HiSeq 2500</td>\n",
       "      <td>SRP074388</td>\n",
       "      <td>PRJNA320547</td>\n",
       "      <td></td>\n",
       "      <td></td>\n",
       "      <td>SRS1422418</td>\n",
       "      <td>SAMN04942828</td>\n",
       "      <td></td>\n",
       "      <td>7227</td>\n",
       "      <td>Drosophila melanogaster</td>\n",
       "      <td>GSM2142678</td>\n",
       "      <td></td>\n",
       "      <td></td>\n",
       "      <td></td>\n",
       "      <td></td>\n",
       "      <td></td>\n",
       "      <td></td>\n",
       "      <td>no</td>\n",
       "      <td></td>\n",
       "      <td></td>\n",
       "      <td></td>\n",
       "      <td></td>\n",
       "      <td>None</td>\n",
       "      <td>SRA423615</td>\n",
       "      <td></td>\n",
       "      <td>public</td>\n",
       "      <td></td>\n",
       "      <td></td>\n",
       "    </tr>\n",
       "    <tr>\n",
       "      <th>317</th>\n",
       "      <td>SRR3476579</td>\n",
       "      <td></td>\n",
       "      <td>2016-05-06</td>\n",
       "      <td></td>\n",
       "      <td>20659277</td>\n",
       "      <td>3098891550</td>\n",
       "      <td>0</td>\n",
       "      <td>150</td>\n",
       "      <td></td>\n",
       "      <td></td>\n",
       "      <td></td>\n",
       "      <td>SRX1743168</td>\n",
       "      <td>UNDEFINED</td>\n",
       "      <td>RNA-Seq</td>\n",
       "      <td>cDNA</td>\n",
       "      <td>TRANSCRIPTOMIC</td>\n",
       "      <td>SINGLE</td>\n",
       "      <td>0</td>\n",
       "      <td>0</td>\n",
       "      <td>ILLUMINA</td>\n",
       "      <td>Illumina HiSeq 2500</td>\n",
       "      <td>SRP074388</td>\n",
       "      <td>PRJNA320547</td>\n",
       "      <td></td>\n",
       "      <td></td>\n",
       "      <td>SRS1422407</td>\n",
       "      <td>SAMN04942820</td>\n",
       "      <td></td>\n",
       "      <td>7227</td>\n",
       "      <td>Drosophila melanogaster</td>\n",
       "      <td>GSM2142670</td>\n",
       "      <td></td>\n",
       "      <td></td>\n",
       "      <td></td>\n",
       "      <td></td>\n",
       "      <td></td>\n",
       "      <td></td>\n",
       "      <td>no</td>\n",
       "      <td></td>\n",
       "      <td></td>\n",
       "      <td></td>\n",
       "      <td></td>\n",
       "      <td>None</td>\n",
       "      <td>SRA423615</td>\n",
       "      <td></td>\n",
       "      <td>public</td>\n",
       "      <td></td>\n",
       "      <td></td>\n",
       "    </tr>\n",
       "    <tr>\n",
       "      <th>318</th>\n",
       "      <td>SRR3476578</td>\n",
       "      <td></td>\n",
       "      <td>2016-05-06</td>\n",
       "      <td></td>\n",
       "      <td>14956121</td>\n",
       "      <td>2243418150</td>\n",
       "      <td>0</td>\n",
       "      <td>150</td>\n",
       "      <td></td>\n",
       "      <td></td>\n",
       "      <td></td>\n",
       "      <td>SRX1743167</td>\n",
       "      <td>UNDEFINED</td>\n",
       "      <td>RNA-Seq</td>\n",
       "      <td>cDNA</td>\n",
       "      <td>TRANSCRIPTOMIC</td>\n",
       "      <td>SINGLE</td>\n",
       "      <td>0</td>\n",
       "      <td>0</td>\n",
       "      <td>ILLUMINA</td>\n",
       "      <td>Illumina HiSeq 2500</td>\n",
       "      <td>SRP074388</td>\n",
       "      <td>PRJNA320547</td>\n",
       "      <td></td>\n",
       "      <td></td>\n",
       "      <td>SRS1422411</td>\n",
       "      <td>SAMN04942819</td>\n",
       "      <td></td>\n",
       "      <td>7227</td>\n",
       "      <td>Drosophila melanogaster</td>\n",
       "      <td>GSM2142669</td>\n",
       "      <td></td>\n",
       "      <td></td>\n",
       "      <td></td>\n",
       "      <td></td>\n",
       "      <td></td>\n",
       "      <td></td>\n",
       "      <td>no</td>\n",
       "      <td></td>\n",
       "      <td></td>\n",
       "      <td></td>\n",
       "      <td></td>\n",
       "      <td>None</td>\n",
       "      <td>SRA423615</td>\n",
       "      <td></td>\n",
       "      <td>public</td>\n",
       "      <td></td>\n",
       "      <td></td>\n",
       "    </tr>\n",
       "    <tr>\n",
       "      <th>319</th>\n",
       "      <td>SRR3476577</td>\n",
       "      <td></td>\n",
       "      <td>2016-05-06</td>\n",
       "      <td></td>\n",
       "      <td>8894958</td>\n",
       "      <td>1334243700</td>\n",
       "      <td>0</td>\n",
       "      <td>150</td>\n",
       "      <td></td>\n",
       "      <td></td>\n",
       "      <td></td>\n",
       "      <td>SRX1743166</td>\n",
       "      <td>UNDEFINED</td>\n",
       "      <td>RNA-Seq</td>\n",
       "      <td>cDNA</td>\n",
       "      <td>TRANSCRIPTOMIC</td>\n",
       "      <td>SINGLE</td>\n",
       "      <td>0</td>\n",
       "      <td>0</td>\n",
       "      <td>ILLUMINA</td>\n",
       "      <td>Illumina HiSeq 2500</td>\n",
       "      <td>SRP074388</td>\n",
       "      <td>PRJNA320547</td>\n",
       "      <td></td>\n",
       "      <td></td>\n",
       "      <td>SRS1422406</td>\n",
       "      <td>SAMN04942818</td>\n",
       "      <td></td>\n",
       "      <td>7227</td>\n",
       "      <td>Drosophila melanogaster</td>\n",
       "      <td>GSM2142668</td>\n",
       "      <td></td>\n",
       "      <td></td>\n",
       "      <td></td>\n",
       "      <td></td>\n",
       "      <td></td>\n",
       "      <td></td>\n",
       "      <td>no</td>\n",
       "      <td></td>\n",
       "      <td></td>\n",
       "      <td></td>\n",
       "      <td></td>\n",
       "      <td>None</td>\n",
       "      <td>SRA423615</td>\n",
       "      <td></td>\n",
       "      <td>public</td>\n",
       "      <td></td>\n",
       "      <td></td>\n",
       "    </tr>\n",
       "  </tbody>\n",
       "</table>\n",
       "</div>"
      ],
      "text/plain": [
       "            Run RunSecondary ReleaseDate LoadDate     spots       bases  \\\n",
       "315  SRR3476589               2016-05-06           39131961  1956598050   \n",
       "316  SRR3476587               2016-05-06           15895465   794773250   \n",
       "317  SRR3476579               2016-05-06           20659277  3098891550   \n",
       "318  SRR3476578               2016-05-06           14956121  2243418150   \n",
       "319  SRR3476577               2016-05-06            8894958  1334243700   \n",
       "\n",
       "    spots_with_mates avgLength size_MB AssemblyName download_path  Experiment  \\\n",
       "315                0        50                                     SRX1743178   \n",
       "316                0        50                                     SRX1743176   \n",
       "317                0       150                                     SRX1743168   \n",
       "318                0       150                                     SRX1743167   \n",
       "319                0       150                                     SRX1743166   \n",
       "\n",
       "    LibraryName LibraryStrategy LibrarySelection   LibrarySource  \\\n",
       "315   UNDEFINED           OTHER            other  TRANSCRIPTOMIC   \n",
       "316   UNDEFINED         RNA-Seq             cDNA  TRANSCRIPTOMIC   \n",
       "317   UNDEFINED         RNA-Seq             cDNA  TRANSCRIPTOMIC   \n",
       "318   UNDEFINED         RNA-Seq             cDNA  TRANSCRIPTOMIC   \n",
       "319   UNDEFINED         RNA-Seq             cDNA  TRANSCRIPTOMIC   \n",
       "\n",
       "    LibraryLayout InsertSize InsertDev  Platform                Model  \\\n",
       "315        SINGLE          0         0  ILLUMINA  Illumina HiSeq 2500   \n",
       "316        SINGLE          0         0  ILLUMINA  Illumina HiSeq 2500   \n",
       "317        SINGLE          0         0  ILLUMINA  Illumina HiSeq 2500   \n",
       "318        SINGLE          0         0  ILLUMINA  Illumina HiSeq 2500   \n",
       "319        SINGLE          0         0  ILLUMINA  Illumina HiSeq 2500   \n",
       "\n",
       "      SRAStudy   BioProject Study_Pubmed_id ProjectID      Sample  \\\n",
       "315  SRP074388  PRJNA320547                            SRS1422417   \n",
       "316  SRP074388  PRJNA320547                            SRS1422418   \n",
       "317  SRP074388  PRJNA320547                            SRS1422407   \n",
       "318  SRP074388  PRJNA320547                            SRS1422411   \n",
       "319  SRP074388  PRJNA320547                            SRS1422406   \n",
       "\n",
       "        BioSample SampleType TaxID           ScientificName  SampleName  \\\n",
       "315  SAMN04942830             7227  Drosophila melanogaster  GSM2142680   \n",
       "316  SAMN04942828             7227  Drosophila melanogaster  GSM2142678   \n",
       "317  SAMN04942820             7227  Drosophila melanogaster  GSM2142670   \n",
       "318  SAMN04942819             7227  Drosophila melanogaster  GSM2142669   \n",
       "319  SAMN04942818             7227  Drosophila melanogaster  GSM2142668   \n",
       "\n",
       "    g1k_pop_code source g1k_analysis_group Subject_ID Sex Disease Tumor  \\\n",
       "315                                                                  no   \n",
       "316                                                                  no   \n",
       "317                                                                  no   \n",
       "318                                                                  no   \n",
       "319                                                                  no   \n",
       "\n",
       "    Affection_Status Analyte_Type Histological_Type Body_Site CenterName  \\\n",
       "315                                                                 None   \n",
       "316                                                                 None   \n",
       "317                                                                 None   \n",
       "318                                                                 None   \n",
       "319                                                                 None   \n",
       "\n",
       "    Submission dbgap_study_accession Consent RunHash ReadHash  \n",
       "315  SRA423615                        public                   \n",
       "316  SRA423615                        public                   \n",
       "317  SRA423615                        public                   \n",
       "318  SRA423615                        public                   \n",
       "319  SRA423615                        public                   "
      ]
     },
     "execution_count": 103,
     "metadata": {},
     "output_type": "execute_result"
    }
   ],
   "source": [
    "# Filter out only Transcriptomic data\n",
    "ts = exper[(exper['LibrarySource'] == 'TRANSCRIPTOMIC') | (exper['LibrarySource'] == 'METATRANSCRIPTOMIC')]\n",
    "\n",
    "print(ts.shape)\n",
    "ts.head()"
   ]
  },
  {
   "cell_type": "markdown",
   "metadata": {},
   "source": [
    "There are <font color=\"#FF0000\">14,035</font> rows in the output, but the SRA RunInfo table has <font color=\"#FF0000\">14,072</font> rows. I need to figure out the difference."
   ]
  },
  {
   "cell_type": "code",
   "execution_count": 10,
   "metadata": {
    "collapsed": true
   },
   "outputs": [],
   "source": [
    "# Create list of Run IDs from my parsed table\n",
    "myRuns = set(ts.Run.tolist())"
   ]
  },
  {
   "cell_type": "code",
   "execution_count": 104,
   "metadata": {
    "collapsed": false
   },
   "outputs": [],
   "source": [
    "# Import the web downloaded table and create a list of Run IDs\n",
    "web = pd.read_csv('../../output/SraRunInfo_example.csv')\n",
    "webRuns = set(web.Run.tolist())"
   ]
  },
  {
   "cell_type": "code",
   "execution_count": 12,
   "metadata": {
    "collapsed": false
   },
   "outputs": [
    {
     "name": "stdout",
     "output_type": "stream",
     "text": [
      "36 {'SRR2660683', 'SRR2422937', 'SRR2660679', 'SRR2660688', 'SRR2195003', 'SRR2194895', 'SRR2195002', 'SRR2194955', 'SRR2660681', 'SRR3575267', 'SRR2660685', 'SRR2422940', 'SRR2422938', 'SRR2195005', 'SRR2660689', 'SRR2194872', 'SRR3575291', 'SRR2194957', 'SRR2422936', 'SRR2195004', 'SRR2660684', 'SRR2660678', 'SRR2660687', 'SRR2660677', 'SRR2660686', 'SRR2660690', 'SRR2660682', 'SRR2660680', 'SRR2422935', 'SRR2194944', 'SRR2194929', 'SRR2195001', 'SRR3575298', 'SRR2195006', 'SRR3575268', 'SRR2422939'}\n"
     ]
    }
   ],
   "source": [
    "# Use Sets to determine the differences between the tow lists\n",
    "myMissing = webRuns.difference(myRuns)\n",
    "print(len(myMissing), myMissing)"
   ]
  },
  {
   "cell_type": "markdown",
   "metadata": {},
   "source": [
    "It looks like these samples no longer exist because they have been updated. Looking at the XML, these values are now secondary IDs. I am going to go back and add them to my table output just to double check that this is the case.\n",
    "\n",
    "I went back and added a `RunSecondary` column which contains a list of seconary IDs."
   ]
  },
  {
   "cell_type": "code",
   "execution_count": 43,
   "metadata": {
    "collapsed": false
   },
   "outputs": [
    {
     "data": {
      "text/plain": [
       "{'',\n",
       " 'SRR2194872;SRR2194895',\n",
       " 'SRR2194929;SRR2194944',\n",
       " 'SRR2194955;SRR2194957',\n",
       " 'SRR2195001;SRR2195002',\n",
       " 'SRR2195003;SRR2195004',\n",
       " 'SRR2195005;SRR2195006',\n",
       " 'SRR3136809'}"
      ]
     },
     "execution_count": 43,
     "metadata": {},
     "output_type": "execute_result"
    }
   ],
   "source": [
    "# Create a list of secondary IDs\n",
    "secondaryIDs = set(ts.RunSecondary.tolist())\n",
    "secondaryIDs"
   ]
  },
  {
   "cell_type": "code",
   "execution_count": 41,
   "metadata": {
    "collapsed": false
   },
   "outputs": [
    {
     "data": {
      "text/plain": [
       "{'SRR2194872',\n",
       " 'SRR2194895',\n",
       " 'SRR2194929',\n",
       " 'SRR2194944',\n",
       " 'SRR2194955',\n",
       " 'SRR2194957',\n",
       " 'SRR2195001',\n",
       " 'SRR2195002',\n",
       " 'SRR2195003',\n",
       " 'SRR2195004',\n",
       " 'SRR2195005',\n",
       " 'SRR2195006',\n",
       " 'SRR3136809'}"
      ]
     },
     "execution_count": 41,
     "metadata": {},
     "output_type": "execute_result"
    }
   ],
   "source": [
    "# Expand out concatenated secondary IDs for easy comparison\n",
    "IDs = []\n",
    "for ID in secondaryIDs:\n",
    "    if ID != '':\n",
    "        IDs.extend(ID.split(';'))\n",
    "\n",
    "IDs = set(IDs)\n",
    "IDs"
   ]
  },
  {
   "cell_type": "code",
   "execution_count": 42,
   "metadata": {
    "collapsed": false
   },
   "outputs": [
    {
     "data": {
      "text/plain": [
       "{'SRR3136809'}"
      ]
     },
     "execution_count": 42,
     "metadata": {},
     "output_type": "execute_result"
    }
   ],
   "source": [
    "# Compare secondary IDs with missing IDs and find the difference\n",
    "IDs.difference(myMissing)"
   ]
  },
  {
   "cell_type": "code",
   "execution_count": 44,
   "metadata": {
    "collapsed": false
   },
   "outputs": [
    {
     "data": {
      "text/html": [
       "<div>\n",
       "<table border=\"1\" class=\"dataframe\">\n",
       "  <thead>\n",
       "    <tr style=\"text-align: right;\">\n",
       "      <th></th>\n",
       "      <th>Run</th>\n",
       "      <th>RunSecondary</th>\n",
       "      <th>ReleaseDate</th>\n",
       "      <th>LoadDate</th>\n",
       "      <th>spots</th>\n",
       "      <th>bases</th>\n",
       "      <th>spots_with_mates</th>\n",
       "      <th>avgLength</th>\n",
       "      <th>size_MB</th>\n",
       "      <th>AssemblyName</th>\n",
       "      <th>download_path</th>\n",
       "      <th>Experiment</th>\n",
       "      <th>LibraryName</th>\n",
       "      <th>LibraryStrategy</th>\n",
       "      <th>LibrarySelection</th>\n",
       "      <th>LibrarySource</th>\n",
       "      <th>LibraryLayout</th>\n",
       "      <th>InsertSize</th>\n",
       "      <th>InsertDev</th>\n",
       "      <th>Platform</th>\n",
       "      <th>Model</th>\n",
       "      <th>SRAStudy</th>\n",
       "      <th>BioProject</th>\n",
       "      <th>Study_Pubmed_id</th>\n",
       "      <th>ProjectID</th>\n",
       "      <th>Sample</th>\n",
       "      <th>BioSample</th>\n",
       "      <th>SampleType</th>\n",
       "      <th>TaxID</th>\n",
       "      <th>ScientificName</th>\n",
       "      <th>SampleName</th>\n",
       "      <th>g1k_pop_code</th>\n",
       "      <th>source</th>\n",
       "      <th>g1k_analysis_group</th>\n",
       "      <th>Subject_ID</th>\n",
       "      <th>Sex</th>\n",
       "      <th>Disease</th>\n",
       "      <th>Tumor</th>\n",
       "      <th>Affection_Status</th>\n",
       "      <th>Analyte_Type</th>\n",
       "      <th>Histological_Type</th>\n",
       "      <th>Body_Site</th>\n",
       "      <th>CenterName</th>\n",
       "      <th>Submission</th>\n",
       "      <th>dbgap_study_accession</th>\n",
       "      <th>Consent</th>\n",
       "      <th>RunHash</th>\n",
       "      <th>ReadHash</th>\n",
       "    </tr>\n",
       "  </thead>\n",
       "  <tbody>\n",
       "    <tr>\n",
       "      <th>1162</th>\n",
       "      <td>SRR3114090</td>\n",
       "      <td>SRR3136809</td>\n",
       "      <td>2016-02-10</td>\n",
       "      <td></td>\n",
       "      <td>14025</td>\n",
       "      <td>2920418</td>\n",
       "      <td>0</td>\n",
       "      <td>0</td>\n",
       "      <td></td>\n",
       "      <td></td>\n",
       "      <td></td>\n",
       "      <td>SRX1542109</td>\n",
       "      <td>MDR_RNAseq_map 91-C</td>\n",
       "      <td>RNA-Seq</td>\n",
       "      <td>RANDOM</td>\n",
       "      <td>TRANSCRIPTOMIC</td>\n",
       "      <td>UNDEFINED</td>\n",
       "      <td>0</td>\n",
       "      <td>0</td>\n",
       "      <td>ILLUMINA</td>\n",
       "      <td>Illumina HiSeq 2500</td>\n",
       "      <td>SRP068789</td>\n",
       "      <td>PRJNA309447</td>\n",
       "      <td></td>\n",
       "      <td></td>\n",
       "      <td>SRS1258611</td>\n",
       "      <td>SAMN04433043</td>\n",
       "      <td></td>\n",
       "      <td>7227</td>\n",
       "      <td>Drosophila melanogaster</td>\n",
       "      <td>Dmel_MDR_RNA_seq</td>\n",
       "      <td></td>\n",
       "      <td></td>\n",
       "      <td></td>\n",
       "      <td></td>\n",
       "      <td></td>\n",
       "      <td></td>\n",
       "      <td>no</td>\n",
       "      <td></td>\n",
       "      <td></td>\n",
       "      <td></td>\n",
       "      <td></td>\n",
       "      <td>None</td>\n",
       "      <td>SRA338296</td>\n",
       "      <td></td>\n",
       "      <td>public</td>\n",
       "      <td></td>\n",
       "      <td></td>\n",
       "    </tr>\n",
       "  </tbody>\n",
       "</table>\n",
       "</div>"
      ],
      "text/plain": [
       "             Run RunSecondary ReleaseDate LoadDate  spots    bases  \\\n",
       "1162  SRR3114090   SRR3136809  2016-02-10           14025  2920418   \n",
       "\n",
       "     spots_with_mates avgLength size_MB AssemblyName download_path  \\\n",
       "1162                0         0                                      \n",
       "\n",
       "      Experiment          LibraryName LibraryStrategy LibrarySelection  \\\n",
       "1162  SRX1542109  MDR_RNAseq_map 91-C         RNA-Seq           RANDOM   \n",
       "\n",
       "       LibrarySource LibraryLayout InsertSize InsertDev  Platform  \\\n",
       "1162  TRANSCRIPTOMIC     UNDEFINED          0         0  ILLUMINA   \n",
       "\n",
       "                    Model   SRAStudy   BioProject Study_Pubmed_id ProjectID  \\\n",
       "1162  Illumina HiSeq 2500  SRP068789  PRJNA309447                             \n",
       "\n",
       "          Sample     BioSample SampleType TaxID           ScientificName  \\\n",
       "1162  SRS1258611  SAMN04433043             7227  Drosophila melanogaster   \n",
       "\n",
       "            SampleName g1k_pop_code source g1k_analysis_group Subject_ID Sex  \\\n",
       "1162  Dmel_MDR_RNA_seq                                                         \n",
       "\n",
       "     Disease Tumor Affection_Status Analyte_Type Histological_Type Body_Site  \\\n",
       "1162            no                                                             \n",
       "\n",
       "     CenterName Submission dbgap_study_accession Consent RunHash ReadHash  \n",
       "1162       None  SRA338296                        public                   "
      ]
     },
     "execution_count": 44,
     "metadata": {},
     "output_type": "execute_result"
    }
   ],
   "source": [
    "ts[ts.RunSecondary == 'SRR3136809']"
   ]
  },
  {
   "cell_type": "markdown",
   "metadata": {},
   "source": [
    "OK, it looks like the all of the differences between my table and the SRA RunInfo table were do to secondary IDs caused by updating submissions. The majority of the updates were to fix the mistake of uploading each read of a paired end experiment as single ends. SRR3136809 is not in the web downloaded version of Sra RunInfo, so it is just an extra secondary ID in the databases. The parsed table has all of the correct rows."
   ]
  },
  {
   "cell_type": "markdown",
   "metadata": {},
   "source": [
    "Now I want to examen the columns and values to make sure they are similar to the Sra RunInfo Table."
   ]
  },
  {
   "cell_type": "code",
   "execution_count": 105,
   "metadata": {
    "collapsed": false
   },
   "outputs": [],
   "source": [
    "ts.set_index('Run', inplace=True)\n",
    "web.set_index('Run', inplace=True)"
   ]
  },
  {
   "cell_type": "code",
   "execution_count": 110,
   "metadata": {
    "collapsed": true
   },
   "outputs": [],
   "source": [
    "my = ts['ReleaseDate'].to_frame()"
   ]
  },
  {
   "cell_type": "code",
   "execution_count": 113,
   "metadata": {
    "collapsed": true
   },
   "outputs": [],
   "source": [
    "w = web['ReleaseDate'].to_frame()"
   ]
  },
  {
   "cell_type": "code",
   "execution_count": 114,
   "metadata": {
    "collapsed": false
   },
   "outputs": [
    {
     "data": {
      "text/html": [
       "<div>\n",
       "<table border=\"1\" class=\"dataframe\">\n",
       "  <thead>\n",
       "    <tr style=\"text-align: right;\">\n",
       "      <th></th>\n",
       "      <th>ReleaseDate</th>\n",
       "    </tr>\n",
       "    <tr>\n",
       "      <th>Run</th>\n",
       "      <th></th>\n",
       "    </tr>\n",
       "  </thead>\n",
       "  <tbody>\n",
       "    <tr>\n",
       "      <th>SRR3476589</th>\n",
       "      <td>2016-05-06</td>\n",
       "    </tr>\n",
       "    <tr>\n",
       "      <th>SRR3476587</th>\n",
       "      <td>2016-05-06</td>\n",
       "    </tr>\n",
       "    <tr>\n",
       "      <th>SRR3476579</th>\n",
       "      <td>2016-05-06</td>\n",
       "    </tr>\n",
       "    <tr>\n",
       "      <th>SRR3476578</th>\n",
       "      <td>2016-05-06</td>\n",
       "    </tr>\n",
       "    <tr>\n",
       "      <th>SRR3476577</th>\n",
       "      <td>2016-05-06</td>\n",
       "    </tr>\n",
       "  </tbody>\n",
       "</table>\n",
       "</div>"
      ],
      "text/plain": [
       "           ReleaseDate\n",
       "Run                   \n",
       "SRR3476589  2016-05-06\n",
       "SRR3476587  2016-05-06\n",
       "SRR3476579  2016-05-06\n",
       "SRR3476578  2016-05-06\n",
       "SRR3476577  2016-05-06"
      ]
     },
     "execution_count": 114,
     "metadata": {},
     "output_type": "execute_result"
    }
   ],
   "source": [
    "my.head()"
   ]
  },
  {
   "cell_type": "code",
   "execution_count": 115,
   "metadata": {
    "collapsed": false
   },
   "outputs": [
    {
     "data": {
      "text/html": [
       "<div>\n",
       "<table border=\"1\" class=\"dataframe\">\n",
       "  <thead>\n",
       "    <tr style=\"text-align: right;\">\n",
       "      <th></th>\n",
       "      <th>ReleaseDate</th>\n",
       "    </tr>\n",
       "    <tr>\n",
       "      <th>Run</th>\n",
       "      <th></th>\n",
       "    </tr>\n",
       "  </thead>\n",
       "  <tbody>\n",
       "    <tr>\n",
       "      <th>ERR358180</th>\n",
       "      <td>2016-06-16</td>\n",
       "    </tr>\n",
       "    <tr>\n",
       "      <th>ERR358181</th>\n",
       "      <td>2016-06-16</td>\n",
       "    </tr>\n",
       "    <tr>\n",
       "      <th>ERR358182</th>\n",
       "      <td>2016-06-16</td>\n",
       "    </tr>\n",
       "    <tr>\n",
       "      <th>ERR358183</th>\n",
       "      <td>2016-06-16</td>\n",
       "    </tr>\n",
       "    <tr>\n",
       "      <th>SRR3663861</th>\n",
       "      <td>2016-06-20</td>\n",
       "    </tr>\n",
       "  </tbody>\n",
       "</table>\n",
       "</div>"
      ],
      "text/plain": [
       "           ReleaseDate\n",
       "Run                   \n",
       "ERR358180   2016-06-16\n",
       "ERR358181   2016-06-16\n",
       "ERR358182   2016-06-16\n",
       "ERR358183   2016-06-16\n",
       "SRR3663861  2016-06-20"
      ]
     },
     "execution_count": 115,
     "metadata": {},
     "output_type": "execute_result"
    }
   ],
   "source": [
    "w.head()"
   ]
  },
  {
   "cell_type": "code",
   "execution_count": 123,
   "metadata": {
    "collapsed": true
   },
   "outputs": [],
   "source": [
    "merged = my.merge(w, how='left', left_index=True, right_index=True)"
   ]
  },
  {
   "cell_type": "code",
   "execution_count": 124,
   "metadata": {
    "collapsed": false
   },
   "outputs": [
    {
     "data": {
      "text/html": [
       "<div>\n",
       "<table border=\"1\" class=\"dataframe\">\n",
       "  <thead>\n",
       "    <tr style=\"text-align: right;\">\n",
       "      <th></th>\n",
       "      <th>ReleaseDate_x</th>\n",
       "      <th>ReleaseDate_y</th>\n",
       "    </tr>\n",
       "    <tr>\n",
       "      <th>Run</th>\n",
       "      <th></th>\n",
       "      <th></th>\n",
       "    </tr>\n",
       "  </thead>\n",
       "  <tbody>\n",
       "    <tr>\n",
       "      <th>SRR3476589</th>\n",
       "      <td>2016-05-06</td>\n",
       "      <td>2016-05-06</td>\n",
       "    </tr>\n",
       "    <tr>\n",
       "      <th>SRR3476587</th>\n",
       "      <td>2016-05-06</td>\n",
       "      <td>2016-05-06</td>\n",
       "    </tr>\n",
       "    <tr>\n",
       "      <th>SRR3476579</th>\n",
       "      <td>2016-05-06</td>\n",
       "      <td>2016-05-06</td>\n",
       "    </tr>\n",
       "    <tr>\n",
       "      <th>SRR3476578</th>\n",
       "      <td>2016-05-06</td>\n",
       "      <td>2016-05-06</td>\n",
       "    </tr>\n",
       "    <tr>\n",
       "      <th>SRR3476577</th>\n",
       "      <td>2016-05-06</td>\n",
       "      <td>2016-05-06</td>\n",
       "    </tr>\n",
       "  </tbody>\n",
       "</table>\n",
       "</div>"
      ],
      "text/plain": [
       "           ReleaseDate_x ReleaseDate_y\n",
       "Run                                   \n",
       "SRR3476589    2016-05-06    2016-05-06\n",
       "SRR3476587    2016-05-06    2016-05-06\n",
       "SRR3476579    2016-05-06    2016-05-06\n",
       "SRR3476578    2016-05-06    2016-05-06\n",
       "SRR3476577    2016-05-06    2016-05-06"
      ]
     },
     "execution_count": 124,
     "metadata": {},
     "output_type": "execute_result"
    }
   ],
   "source": [
    "merged.head()"
   ]
  },
  {
   "cell_type": "code",
   "execution_count": 56,
   "metadata": {
    "collapsed": false
   },
   "outputs": [
    {
     "data": {
      "text/plain": [
       "False"
      ]
     },
     "execution_count": 56,
     "metadata": {},
     "output_type": "execute_result"
    }
   ],
   "source": [
    "any(merged.ReleaseDate_x != merged.ReleaseDate_y)"
   ]
  },
  {
   "cell_type": "code",
   "execution_count": 129,
   "metadata": {
    "collapsed": true
   },
   "outputs": [],
   "source": [
    "def diff(ts, web, header):\n",
    "    my = ts[header].to_frame()\n",
    "    w = web[header].to_frame()\n",
    "    merged = my.merge(w, how='left', left_index=True, right_index=True)\n",
    "    return merged[header + '_x'] != merged[header + '_y']"
   ]
  },
  {
   "cell_type": "code",
   "execution_count": 61,
   "metadata": {
    "collapsed": false
   },
   "outputs": [
    {
     "data": {
      "text/plain": [
       "Index(['Run', 'ReleaseDate', 'LoadDate', 'spots', 'bases', 'spots_with_mates',\n",
       "       'avgLength', 'size_MB', 'AssemblyName', 'download_path', 'Experiment',\n",
       "       'LibraryName', 'LibraryStrategy', 'LibrarySelection', 'LibrarySource',\n",
       "       'LibraryLayout', 'InsertSize', 'InsertDev', 'Platform', 'Model',\n",
       "       'SRAStudy', 'BioProject', 'Study_Pubmed_id', 'ProjectID', 'Sample',\n",
       "       'BioSample', 'SampleType', 'TaxID', 'ScientificName', 'SampleName',\n",
       "       'g1k_pop_code', 'source', 'g1k_analysis_group', 'Subject_ID', 'Sex',\n",
       "       'Disease', 'Tumor', 'Affection_Status', 'Analyte_Type',\n",
       "       'Histological_Type', 'Body_Site', 'CenterName', 'Submission',\n",
       "       'dbgap_study_accession', 'Consent', 'RunHash', 'ReadHash'],\n",
       "      dtype='object')"
      ]
     },
     "execution_count": 61,
     "metadata": {},
     "output_type": "execute_result"
    }
   ],
   "source": [
    "web.columns"
   ]
  },
  {
   "cell_type": "markdown",
   "metadata": {},
   "source": [
    "The following columns have differences between the web SRA RunInfo and my parsed table. "
   ]
  },
  {
   "cell_type": "code",
   "execution_count": 79,
   "metadata": {
    "collapsed": false
   },
   "outputs": [
    {
     "name": "stdout",
     "output_type": "stream",
     "text": [
      "LoadDate\n",
      "spots\n",
      "bases\n",
      "spots_with_mates\n",
      "avgLength\n",
      "size_MB\n",
      "AssemblyName\n",
      "download_path\n",
      "LibraryName\n",
      "LibraryLayout\n",
      "InsertSize\n",
      "InsertDev\n",
      "BioProject\n",
      "Study_Pubmed_id\n",
      "ProjectID\n",
      "Sample\n",
      "BioSample\n",
      "SampleType\n",
      "TaxID\n",
      "ScientificName\n",
      "SampleName\n",
      "g1k_pop_code\n",
      "source\n",
      "g1k_analysis_group\n",
      "Subject_ID\n",
      "Sex\n",
      "Disease\n",
      "Affection_Status\n",
      "Analyte_Type\n",
      "Histological_Type\n",
      "Body_Site\n",
      "CenterName\n",
      "Submission\n",
      "dbgap_study_accession\n",
      "RunHash\n",
      "ReadHash\n"
     ]
    }
   ],
   "source": [
    "for c in web.columns.tolist()[1:]:\n",
    "    d = any(diff(ts, web, c))\n",
    "    if d:\n",
    "        print(c)"
   ]
  },
  {
   "cell_type": "code",
   "execution_count": 138,
   "metadata": {
    "collapsed": true
   },
   "outputs": [],
   "source": [
    "d = diff(ts, web, 'spots')"
   ]
  },
  {
   "cell_type": "code",
   "execution_count": 139,
   "metadata": {
    "collapsed": false
   },
   "outputs": [
    {
     "data": {
      "text/html": [
       "<div>\n",
       "<table border=\"1\" class=\"dataframe\">\n",
       "  <thead>\n",
       "    <tr style=\"text-align: right;\">\n",
       "      <th></th>\n",
       "      <th>RunSecondary</th>\n",
       "      <th>ReleaseDate</th>\n",
       "      <th>LoadDate</th>\n",
       "      <th>spots</th>\n",
       "      <th>bases</th>\n",
       "      <th>spots_with_mates</th>\n",
       "      <th>avgLength</th>\n",
       "      <th>size_MB</th>\n",
       "      <th>AssemblyName</th>\n",
       "      <th>download_path</th>\n",
       "      <th>Experiment</th>\n",
       "      <th>LibraryName</th>\n",
       "      <th>LibraryStrategy</th>\n",
       "      <th>LibrarySelection</th>\n",
       "      <th>LibrarySource</th>\n",
       "      <th>LibraryLayout</th>\n",
       "      <th>InsertSize</th>\n",
       "      <th>InsertDev</th>\n",
       "      <th>Platform</th>\n",
       "      <th>Model</th>\n",
       "      <th>SRAStudy</th>\n",
       "      <th>BioProject</th>\n",
       "      <th>Study_Pubmed_id</th>\n",
       "      <th>ProjectID</th>\n",
       "      <th>Sample</th>\n",
       "      <th>BioSample</th>\n",
       "      <th>SampleType</th>\n",
       "      <th>TaxID</th>\n",
       "      <th>ScientificName</th>\n",
       "      <th>SampleName</th>\n",
       "      <th>g1k_pop_code</th>\n",
       "      <th>source</th>\n",
       "      <th>g1k_analysis_group</th>\n",
       "      <th>Subject_ID</th>\n",
       "      <th>Sex</th>\n",
       "      <th>Disease</th>\n",
       "      <th>Tumor</th>\n",
       "      <th>Affection_Status</th>\n",
       "      <th>Analyte_Type</th>\n",
       "      <th>Histological_Type</th>\n",
       "      <th>Body_Site</th>\n",
       "      <th>CenterName</th>\n",
       "      <th>Submission</th>\n",
       "      <th>dbgap_study_accession</th>\n",
       "      <th>Consent</th>\n",
       "      <th>RunHash</th>\n",
       "      <th>ReadHash</th>\n",
       "    </tr>\n",
       "    <tr>\n",
       "      <th>Run</th>\n",
       "      <th></th>\n",
       "      <th></th>\n",
       "      <th></th>\n",
       "      <th></th>\n",
       "      <th></th>\n",
       "      <th></th>\n",
       "      <th></th>\n",
       "      <th></th>\n",
       "      <th></th>\n",
       "      <th></th>\n",
       "      <th></th>\n",
       "      <th></th>\n",
       "      <th></th>\n",
       "      <th></th>\n",
       "      <th></th>\n",
       "      <th></th>\n",
       "      <th></th>\n",
       "      <th></th>\n",
       "      <th></th>\n",
       "      <th></th>\n",
       "      <th></th>\n",
       "      <th></th>\n",
       "      <th></th>\n",
       "      <th></th>\n",
       "      <th></th>\n",
       "      <th></th>\n",
       "      <th></th>\n",
       "      <th></th>\n",
       "      <th></th>\n",
       "      <th></th>\n",
       "      <th></th>\n",
       "      <th></th>\n",
       "      <th></th>\n",
       "      <th></th>\n",
       "      <th></th>\n",
       "      <th></th>\n",
       "      <th></th>\n",
       "      <th></th>\n",
       "      <th></th>\n",
       "      <th></th>\n",
       "      <th></th>\n",
       "      <th></th>\n",
       "      <th></th>\n",
       "      <th></th>\n",
       "      <th></th>\n",
       "      <th></th>\n",
       "      <th></th>\n",
       "    </tr>\n",
       "  </thead>\n",
       "  <tbody>\n",
       "    <tr>\n",
       "      <th>SRR3476589</th>\n",
       "      <td></td>\n",
       "      <td>2016-05-06</td>\n",
       "      <td></td>\n",
       "      <td>39131961</td>\n",
       "      <td>1956598050</td>\n",
       "      <td>0</td>\n",
       "      <td>50</td>\n",
       "      <td></td>\n",
       "      <td></td>\n",
       "      <td></td>\n",
       "      <td>SRX1743178</td>\n",
       "      <td>UNDEFINED</td>\n",
       "      <td>OTHER</td>\n",
       "      <td>other</td>\n",
       "      <td>TRANSCRIPTOMIC</td>\n",
       "      <td>SINGLE</td>\n",
       "      <td>0</td>\n",
       "      <td>0</td>\n",
       "      <td>ILLUMINA</td>\n",
       "      <td>Illumina HiSeq 2500</td>\n",
       "      <td>SRP074388</td>\n",
       "      <td>PRJNA320547</td>\n",
       "      <td></td>\n",
       "      <td></td>\n",
       "      <td>SRS1422417</td>\n",
       "      <td>SAMN04942830</td>\n",
       "      <td></td>\n",
       "      <td>7227</td>\n",
       "      <td>Drosophila melanogaster</td>\n",
       "      <td>GSM2142680</td>\n",
       "      <td></td>\n",
       "      <td></td>\n",
       "      <td></td>\n",
       "      <td></td>\n",
       "      <td></td>\n",
       "      <td></td>\n",
       "      <td>no</td>\n",
       "      <td></td>\n",
       "      <td></td>\n",
       "      <td></td>\n",
       "      <td></td>\n",
       "      <td>None</td>\n",
       "      <td>SRA423615</td>\n",
       "      <td></td>\n",
       "      <td>public</td>\n",
       "      <td></td>\n",
       "      <td></td>\n",
       "    </tr>\n",
       "    <tr>\n",
       "      <th>SRR3476587</th>\n",
       "      <td></td>\n",
       "      <td>2016-05-06</td>\n",
       "      <td></td>\n",
       "      <td>15895465</td>\n",
       "      <td>794773250</td>\n",
       "      <td>0</td>\n",
       "      <td>50</td>\n",
       "      <td></td>\n",
       "      <td></td>\n",
       "      <td></td>\n",
       "      <td>SRX1743176</td>\n",
       "      <td>UNDEFINED</td>\n",
       "      <td>RNA-Seq</td>\n",
       "      <td>cDNA</td>\n",
       "      <td>TRANSCRIPTOMIC</td>\n",
       "      <td>SINGLE</td>\n",
       "      <td>0</td>\n",
       "      <td>0</td>\n",
       "      <td>ILLUMINA</td>\n",
       "      <td>Illumina HiSeq 2500</td>\n",
       "      <td>SRP074388</td>\n",
       "      <td>PRJNA320547</td>\n",
       "      <td></td>\n",
       "      <td></td>\n",
       "      <td>SRS1422418</td>\n",
       "      <td>SAMN04942828</td>\n",
       "      <td></td>\n",
       "      <td>7227</td>\n",
       "      <td>Drosophila melanogaster</td>\n",
       "      <td>GSM2142678</td>\n",
       "      <td></td>\n",
       "      <td></td>\n",
       "      <td></td>\n",
       "      <td></td>\n",
       "      <td></td>\n",
       "      <td></td>\n",
       "      <td>no</td>\n",
       "      <td></td>\n",
       "      <td></td>\n",
       "      <td></td>\n",
       "      <td></td>\n",
       "      <td>None</td>\n",
       "      <td>SRA423615</td>\n",
       "      <td></td>\n",
       "      <td>public</td>\n",
       "      <td></td>\n",
       "      <td></td>\n",
       "    </tr>\n",
       "    <tr>\n",
       "      <th>SRR3476579</th>\n",
       "      <td></td>\n",
       "      <td>2016-05-06</td>\n",
       "      <td></td>\n",
       "      <td>20659277</td>\n",
       "      <td>3098891550</td>\n",
       "      <td>0</td>\n",
       "      <td>150</td>\n",
       "      <td></td>\n",
       "      <td></td>\n",
       "      <td></td>\n",
       "      <td>SRX1743168</td>\n",
       "      <td>UNDEFINED</td>\n",
       "      <td>RNA-Seq</td>\n",
       "      <td>cDNA</td>\n",
       "      <td>TRANSCRIPTOMIC</td>\n",
       "      <td>SINGLE</td>\n",
       "      <td>0</td>\n",
       "      <td>0</td>\n",
       "      <td>ILLUMINA</td>\n",
       "      <td>Illumina HiSeq 2500</td>\n",
       "      <td>SRP074388</td>\n",
       "      <td>PRJNA320547</td>\n",
       "      <td></td>\n",
       "      <td></td>\n",
       "      <td>SRS1422407</td>\n",
       "      <td>SAMN04942820</td>\n",
       "      <td></td>\n",
       "      <td>7227</td>\n",
       "      <td>Drosophila melanogaster</td>\n",
       "      <td>GSM2142670</td>\n",
       "      <td></td>\n",
       "      <td></td>\n",
       "      <td></td>\n",
       "      <td></td>\n",
       "      <td></td>\n",
       "      <td></td>\n",
       "      <td>no</td>\n",
       "      <td></td>\n",
       "      <td></td>\n",
       "      <td></td>\n",
       "      <td></td>\n",
       "      <td>None</td>\n",
       "      <td>SRA423615</td>\n",
       "      <td></td>\n",
       "      <td>public</td>\n",
       "      <td></td>\n",
       "      <td></td>\n",
       "    </tr>\n",
       "    <tr>\n",
       "      <th>SRR3476578</th>\n",
       "      <td></td>\n",
       "      <td>2016-05-06</td>\n",
       "      <td></td>\n",
       "      <td>14956121</td>\n",
       "      <td>2243418150</td>\n",
       "      <td>0</td>\n",
       "      <td>150</td>\n",
       "      <td></td>\n",
       "      <td></td>\n",
       "      <td></td>\n",
       "      <td>SRX1743167</td>\n",
       "      <td>UNDEFINED</td>\n",
       "      <td>RNA-Seq</td>\n",
       "      <td>cDNA</td>\n",
       "      <td>TRANSCRIPTOMIC</td>\n",
       "      <td>SINGLE</td>\n",
       "      <td>0</td>\n",
       "      <td>0</td>\n",
       "      <td>ILLUMINA</td>\n",
       "      <td>Illumina HiSeq 2500</td>\n",
       "      <td>SRP074388</td>\n",
       "      <td>PRJNA320547</td>\n",
       "      <td></td>\n",
       "      <td></td>\n",
       "      <td>SRS1422411</td>\n",
       "      <td>SAMN04942819</td>\n",
       "      <td></td>\n",
       "      <td>7227</td>\n",
       "      <td>Drosophila melanogaster</td>\n",
       "      <td>GSM2142669</td>\n",
       "      <td></td>\n",
       "      <td></td>\n",
       "      <td></td>\n",
       "      <td></td>\n",
       "      <td></td>\n",
       "      <td></td>\n",
       "      <td>no</td>\n",
       "      <td></td>\n",
       "      <td></td>\n",
       "      <td></td>\n",
       "      <td></td>\n",
       "      <td>None</td>\n",
       "      <td>SRA423615</td>\n",
       "      <td></td>\n",
       "      <td>public</td>\n",
       "      <td></td>\n",
       "      <td></td>\n",
       "    </tr>\n",
       "    <tr>\n",
       "      <th>SRR3476577</th>\n",
       "      <td></td>\n",
       "      <td>2016-05-06</td>\n",
       "      <td></td>\n",
       "      <td>8894958</td>\n",
       "      <td>1334243700</td>\n",
       "      <td>0</td>\n",
       "      <td>150</td>\n",
       "      <td></td>\n",
       "      <td></td>\n",
       "      <td></td>\n",
       "      <td>SRX1743166</td>\n",
       "      <td>UNDEFINED</td>\n",
       "      <td>RNA-Seq</td>\n",
       "      <td>cDNA</td>\n",
       "      <td>TRANSCRIPTOMIC</td>\n",
       "      <td>SINGLE</td>\n",
       "      <td>0</td>\n",
       "      <td>0</td>\n",
       "      <td>ILLUMINA</td>\n",
       "      <td>Illumina HiSeq 2500</td>\n",
       "      <td>SRP074388</td>\n",
       "      <td>PRJNA320547</td>\n",
       "      <td></td>\n",
       "      <td></td>\n",
       "      <td>SRS1422406</td>\n",
       "      <td>SAMN04942818</td>\n",
       "      <td></td>\n",
       "      <td>7227</td>\n",
       "      <td>Drosophila melanogaster</td>\n",
       "      <td>GSM2142668</td>\n",
       "      <td></td>\n",
       "      <td></td>\n",
       "      <td></td>\n",
       "      <td></td>\n",
       "      <td></td>\n",
       "      <td></td>\n",
       "      <td>no</td>\n",
       "      <td></td>\n",
       "      <td></td>\n",
       "      <td></td>\n",
       "      <td></td>\n",
       "      <td>None</td>\n",
       "      <td>SRA423615</td>\n",
       "      <td></td>\n",
       "      <td>public</td>\n",
       "      <td></td>\n",
       "      <td></td>\n",
       "    </tr>\n",
       "  </tbody>\n",
       "</table>\n",
       "</div>"
      ],
      "text/plain": [
       "           RunSecondary ReleaseDate LoadDate     spots       bases  \\\n",
       "Run                                                                  \n",
       "SRR3476589               2016-05-06           39131961  1956598050   \n",
       "SRR3476587               2016-05-06           15895465   794773250   \n",
       "SRR3476579               2016-05-06           20659277  3098891550   \n",
       "SRR3476578               2016-05-06           14956121  2243418150   \n",
       "SRR3476577               2016-05-06            8894958  1334243700   \n",
       "\n",
       "           spots_with_mates avgLength size_MB AssemblyName download_path  \\\n",
       "Run                                                                        \n",
       "SRR3476589                0        50                                      \n",
       "SRR3476587                0        50                                      \n",
       "SRR3476579                0       150                                      \n",
       "SRR3476578                0       150                                      \n",
       "SRR3476577                0       150                                      \n",
       "\n",
       "            Experiment LibraryName LibraryStrategy LibrarySelection  \\\n",
       "Run                                                                   \n",
       "SRR3476589  SRX1743178   UNDEFINED           OTHER            other   \n",
       "SRR3476587  SRX1743176   UNDEFINED         RNA-Seq             cDNA   \n",
       "SRR3476579  SRX1743168   UNDEFINED         RNA-Seq             cDNA   \n",
       "SRR3476578  SRX1743167   UNDEFINED         RNA-Seq             cDNA   \n",
       "SRR3476577  SRX1743166   UNDEFINED         RNA-Seq             cDNA   \n",
       "\n",
       "             LibrarySource LibraryLayout InsertSize InsertDev  Platform  \\\n",
       "Run                                                                       \n",
       "SRR3476589  TRANSCRIPTOMIC        SINGLE          0         0  ILLUMINA   \n",
       "SRR3476587  TRANSCRIPTOMIC        SINGLE          0         0  ILLUMINA   \n",
       "SRR3476579  TRANSCRIPTOMIC        SINGLE          0         0  ILLUMINA   \n",
       "SRR3476578  TRANSCRIPTOMIC        SINGLE          0         0  ILLUMINA   \n",
       "SRR3476577  TRANSCRIPTOMIC        SINGLE          0         0  ILLUMINA   \n",
       "\n",
       "                          Model   SRAStudy   BioProject Study_Pubmed_id  \\\n",
       "Run                                                                       \n",
       "SRR3476589  Illumina HiSeq 2500  SRP074388  PRJNA320547                   \n",
       "SRR3476587  Illumina HiSeq 2500  SRP074388  PRJNA320547                   \n",
       "SRR3476579  Illumina HiSeq 2500  SRP074388  PRJNA320547                   \n",
       "SRR3476578  Illumina HiSeq 2500  SRP074388  PRJNA320547                   \n",
       "SRR3476577  Illumina HiSeq 2500  SRP074388  PRJNA320547                   \n",
       "\n",
       "           ProjectID      Sample     BioSample SampleType TaxID  \\\n",
       "Run                                                               \n",
       "SRR3476589            SRS1422417  SAMN04942830             7227   \n",
       "SRR3476587            SRS1422418  SAMN04942828             7227   \n",
       "SRR3476579            SRS1422407  SAMN04942820             7227   \n",
       "SRR3476578            SRS1422411  SAMN04942819             7227   \n",
       "SRR3476577            SRS1422406  SAMN04942818             7227   \n",
       "\n",
       "                     ScientificName  SampleName g1k_pop_code source  \\\n",
       "Run                                                                   \n",
       "SRR3476589  Drosophila melanogaster  GSM2142680                       \n",
       "SRR3476587  Drosophila melanogaster  GSM2142678                       \n",
       "SRR3476579  Drosophila melanogaster  GSM2142670                       \n",
       "SRR3476578  Drosophila melanogaster  GSM2142669                       \n",
       "SRR3476577  Drosophila melanogaster  GSM2142668                       \n",
       "\n",
       "           g1k_analysis_group Subject_ID Sex Disease Tumor Affection_Status  \\\n",
       "Run                                                                           \n",
       "SRR3476589                                              no                    \n",
       "SRR3476587                                              no                    \n",
       "SRR3476579                                              no                    \n",
       "SRR3476578                                              no                    \n",
       "SRR3476577                                              no                    \n",
       "\n",
       "           Analyte_Type Histological_Type Body_Site CenterName Submission  \\\n",
       "Run                                                                         \n",
       "SRR3476589                                                None  SRA423615   \n",
       "SRR3476587                                                None  SRA423615   \n",
       "SRR3476579                                                None  SRA423615   \n",
       "SRR3476578                                                None  SRA423615   \n",
       "SRR3476577                                                None  SRA423615   \n",
       "\n",
       "           dbgap_study_accession Consent RunHash ReadHash  \n",
       "Run                                                        \n",
       "SRR3476589                        public                   \n",
       "SRR3476587                        public                   \n",
       "SRR3476579                        public                   \n",
       "SRR3476578                        public                   \n",
       "SRR3476577                        public                   "
      ]
     },
     "execution_count": 139,
     "metadata": {},
     "output_type": "execute_result"
    }
   ],
   "source": [
    "ts[d].head()"
   ]
  },
  {
   "cell_type": "code",
   "execution_count": 140,
   "metadata": {
    "collapsed": false
   },
   "outputs": [
    {
     "name": "stderr",
     "output_type": "stream",
     "text": [
      "/Users/fearjm/opt/miniconda3/envs/ncbi_remap/lib/python3.5/site-packages/ipykernel/__main__.py:1: UserWarning: Boolean Series key will be reindexed to match DataFrame index.\n",
      "  if __name__ == '__main__':\n"
     ]
    },
    {
     "ename": "IndexingError",
     "evalue": "Unalignable boolean Series key provided",
     "output_type": "error",
     "traceback": [
      "\u001b[0;31m---------------------------------------------------------------------------\u001b[0m",
      "\u001b[0;31mIndexingError\u001b[0m                             Traceback (most recent call last)",
      "\u001b[0;32m<ipython-input-140-cf61e1849b50>\u001b[0m in \u001b[0;36m<module>\u001b[0;34m()\u001b[0m\n\u001b[0;32m----> 1\u001b[0;31m \u001b[0mweb\u001b[0m\u001b[0;34m[\u001b[0m\u001b[0md\u001b[0m\u001b[0;34m]\u001b[0m\u001b[0;34m.\u001b[0m\u001b[0mhead\u001b[0m\u001b[0;34m(\u001b[0m\u001b[0;34m)\u001b[0m\u001b[0;34m\u001b[0m\u001b[0m\n\u001b[0m",
      "\u001b[0;32m/Users/fearjm/opt/miniconda3/envs/ncbi_remap/lib/python3.5/site-packages/pandas/core/frame.py\u001b[0m in \u001b[0;36m__getitem__\u001b[0;34m(self, key)\u001b[0m\n\u001b[1;32m   1989\u001b[0m         \u001b[0;32mif\u001b[0m \u001b[0misinstance\u001b[0m\u001b[0;34m(\u001b[0m\u001b[0mkey\u001b[0m\u001b[0;34m,\u001b[0m \u001b[0;34m(\u001b[0m\u001b[0mSeries\u001b[0m\u001b[0;34m,\u001b[0m \u001b[0mnp\u001b[0m\u001b[0;34m.\u001b[0m\u001b[0mndarray\u001b[0m\u001b[0;34m,\u001b[0m \u001b[0mIndex\u001b[0m\u001b[0;34m,\u001b[0m \u001b[0mlist\u001b[0m\u001b[0;34m)\u001b[0m\u001b[0;34m)\u001b[0m\u001b[0;34m:\u001b[0m\u001b[0;34m\u001b[0m\u001b[0m\n\u001b[1;32m   1990\u001b[0m             \u001b[0;31m# either boolean or fancy integer index\u001b[0m\u001b[0;34m\u001b[0m\u001b[0;34m\u001b[0m\u001b[0m\n\u001b[0;32m-> 1991\u001b[0;31m             \u001b[0;32mreturn\u001b[0m \u001b[0mself\u001b[0m\u001b[0;34m.\u001b[0m\u001b[0m_getitem_array\u001b[0m\u001b[0;34m(\u001b[0m\u001b[0mkey\u001b[0m\u001b[0;34m)\u001b[0m\u001b[0;34m\u001b[0m\u001b[0m\n\u001b[0m\u001b[1;32m   1992\u001b[0m         \u001b[0;32melif\u001b[0m \u001b[0misinstance\u001b[0m\u001b[0;34m(\u001b[0m\u001b[0mkey\u001b[0m\u001b[0;34m,\u001b[0m \u001b[0mDataFrame\u001b[0m\u001b[0;34m)\u001b[0m\u001b[0;34m:\u001b[0m\u001b[0;34m\u001b[0m\u001b[0m\n\u001b[1;32m   1993\u001b[0m             \u001b[0;32mreturn\u001b[0m \u001b[0mself\u001b[0m\u001b[0;34m.\u001b[0m\u001b[0m_getitem_frame\u001b[0m\u001b[0;34m(\u001b[0m\u001b[0mkey\u001b[0m\u001b[0;34m)\u001b[0m\u001b[0;34m\u001b[0m\u001b[0m\n",
      "\u001b[0;32m/Users/fearjm/opt/miniconda3/envs/ncbi_remap/lib/python3.5/site-packages/pandas/core/frame.py\u001b[0m in \u001b[0;36m_getitem_array\u001b[0;34m(self, key)\u001b[0m\n\u001b[1;32m   2029\u001b[0m             \u001b[0;31m# check_bool_indexer will throw exception if Series key cannot\u001b[0m\u001b[0;34m\u001b[0m\u001b[0;34m\u001b[0m\u001b[0m\n\u001b[1;32m   2030\u001b[0m             \u001b[0;31m# be reindexed to match DataFrame rows\u001b[0m\u001b[0;34m\u001b[0m\u001b[0;34m\u001b[0m\u001b[0m\n\u001b[0;32m-> 2031\u001b[0;31m             \u001b[0mkey\u001b[0m \u001b[0;34m=\u001b[0m \u001b[0mcheck_bool_indexer\u001b[0m\u001b[0;34m(\u001b[0m\u001b[0mself\u001b[0m\u001b[0;34m.\u001b[0m\u001b[0mindex\u001b[0m\u001b[0;34m,\u001b[0m \u001b[0mkey\u001b[0m\u001b[0;34m)\u001b[0m\u001b[0;34m\u001b[0m\u001b[0m\n\u001b[0m\u001b[1;32m   2032\u001b[0m             \u001b[0mindexer\u001b[0m \u001b[0;34m=\u001b[0m \u001b[0mkey\u001b[0m\u001b[0;34m.\u001b[0m\u001b[0mnonzero\u001b[0m\u001b[0;34m(\u001b[0m\u001b[0;34m)\u001b[0m\u001b[0;34m[\u001b[0m\u001b[0;36m0\u001b[0m\u001b[0;34m]\u001b[0m\u001b[0;34m\u001b[0m\u001b[0m\n\u001b[1;32m   2033\u001b[0m             \u001b[0;32mreturn\u001b[0m \u001b[0mself\u001b[0m\u001b[0;34m.\u001b[0m\u001b[0mtake\u001b[0m\u001b[0;34m(\u001b[0m\u001b[0mindexer\u001b[0m\u001b[0;34m,\u001b[0m \u001b[0maxis\u001b[0m\u001b[0;34m=\u001b[0m\u001b[0;36m0\u001b[0m\u001b[0;34m,\u001b[0m \u001b[0mconvert\u001b[0m\u001b[0;34m=\u001b[0m\u001b[0;32mFalse\u001b[0m\u001b[0;34m)\u001b[0m\u001b[0;34m\u001b[0m\u001b[0m\n",
      "\u001b[0;32m/Users/fearjm/opt/miniconda3/envs/ncbi_remap/lib/python3.5/site-packages/pandas/core/indexing.py\u001b[0m in \u001b[0;36mcheck_bool_indexer\u001b[0;34m(ax, key)\u001b[0m\n\u001b[1;32m   1799\u001b[0m         \u001b[0mmask\u001b[0m \u001b[0;34m=\u001b[0m \u001b[0mcom\u001b[0m\u001b[0;34m.\u001b[0m\u001b[0misnull\u001b[0m\u001b[0;34m(\u001b[0m\u001b[0mresult\u001b[0m\u001b[0;34m.\u001b[0m\u001b[0m_values\u001b[0m\u001b[0;34m)\u001b[0m\u001b[0;34m\u001b[0m\u001b[0m\n\u001b[1;32m   1800\u001b[0m         \u001b[0;32mif\u001b[0m \u001b[0mmask\u001b[0m\u001b[0;34m.\u001b[0m\u001b[0many\u001b[0m\u001b[0;34m(\u001b[0m\u001b[0;34m)\u001b[0m\u001b[0;34m:\u001b[0m\u001b[0;34m\u001b[0m\u001b[0m\n\u001b[0;32m-> 1801\u001b[0;31m             \u001b[0;32mraise\u001b[0m \u001b[0mIndexingError\u001b[0m\u001b[0;34m(\u001b[0m\u001b[0;34m'Unalignable boolean Series key provided'\u001b[0m\u001b[0;34m)\u001b[0m\u001b[0;34m\u001b[0m\u001b[0m\n\u001b[0m\u001b[1;32m   1802\u001b[0m \u001b[0;34m\u001b[0m\u001b[0m\n\u001b[1;32m   1803\u001b[0m         \u001b[0mresult\u001b[0m \u001b[0;34m=\u001b[0m \u001b[0mresult\u001b[0m\u001b[0;34m.\u001b[0m\u001b[0mastype\u001b[0m\u001b[0;34m(\u001b[0m\u001b[0mbool\u001b[0m\u001b[0;34m)\u001b[0m\u001b[0;34m.\u001b[0m\u001b[0m_values\u001b[0m\u001b[0;34m\u001b[0m\u001b[0m\n",
      "\u001b[0;31mIndexingError\u001b[0m: Unalignable boolean Series key provided"
     ]
    }
   ],
   "source": [
    "web[d].head()"
   ]
  },
  {
   "cell_type": "markdown",
   "metadata": {
    "run_control": {
     "marked": false
    }
   },
   "source": [
    "## Available Sample Attributes: "
   ]
  },
  {
   "cell_type": "markdown",
   "metadata": {
    "run_control": {
     "marked": false
    }
   },
   "source": [
    "Sample attributes are entered as free text. Here is a list of attributes currently in the SRA. Some of these can collapsed into single categories."
   ]
  },
  {
   "cell_type": "code",
   "execution_count": 155,
   "metadata": {
    "collapsed": false,
    "run_control": {
     "marked": false
    }
   },
   "outputs": [],
   "source": [
    "counts = {}\n",
    "for i in root.findall('SAMPLE_ATTRIBUTE/TAG'):\n",
    "    try:\n",
    "        text = i.text.lower()\n",
    "        if text in counts:\n",
    "            counts[text] += 1\n",
    "        else:\n",
    "            counts[text] = 1\n",
    "    except:\n",
    "        pass"
   ]
  },
  {
   "cell_type": "code",
   "execution_count": 156,
   "metadata": {
    "collapsed": false,
    "run_control": {
     "marked": false
    },
    "scrolled": false
   },
   "outputs": [],
   "source": [
    "pd.Series(counts).to_csv('../../output/tmp.text', sep='\\t')"
   ]
  },
  {
   "cell_type": "code",
   "execution_count": 205,
   "metadata": {
    "collapsed": false,
    "run_control": {
     "marked": false
    }
   },
   "outputs": [],
   "source": [
    "s = bob.find('SAMPLE')"
   ]
  },
  {
   "cell_type": "code",
   "execution_count": 206,
   "metadata": {
    "collapsed": false,
    "run_control": {
     "marked": false
    },
    "scrolled": true
   },
   "outputs": [
    {
     "name": "stdout",
     "output_type": "stream",
     "text": [
      "SAMPLE {'accession': 'SRS1532953', 'alias': 'FR198N'} None\n",
      "IDENTIFIERS {} None\n",
      "PRIMARY_ID {} SRS1532953\n",
      "EXTERNAL_ID {'namespace': 'BioSample'} SAMN05330489\n",
      "SUBMITTER_ID {'namespace': 'pda|justin.lack@nih.gov', 'label': 'Sample name'} FR198N\n",
      "TITLE {} FR198N\n",
      "SAMPLE_NAME {} None\n",
      "TAXON_ID {} 7227\n",
      "SCIENTIFIC_NAME {} Drosophila melanogaster\n",
      "COMMON_NAME {} fruit fly\n",
      "SAMPLE_LINKS {} None\n",
      "SAMPLE_LINK {} None\n",
      "XREF_LINK {} None\n",
      "DB {} bioproject\n",
      "ID {} 327349\n",
      "LABEL {} PRJNA327349\n",
      "SAMPLE_ATTRIBUTES {} None\n",
      "SAMPLE_ATTRIBUTE {} None\n",
      "TAG {} strain\n",
      "VALUE {} FR198N\n",
      "SAMPLE_ATTRIBUTE {} None\n",
      "TAG {} dev_stage\n",
      "VALUE {} adult\n",
      "SAMPLE_ATTRIBUTE {} None\n",
      "TAG {} sex\n",
      "VALUE {} female\n",
      "SAMPLE_ATTRIBUTE {} None\n",
      "TAG {} tissue\n",
      "VALUE {} Whole organism\n",
      "SAMPLE_ATTRIBUTE {} None\n",
      "TAG {} BioSampleModel\n",
      "VALUE {} Model organism or animal\n"
     ]
    }
   ],
   "source": [
    "for i in s.iter():\n",
    "    print(i.tag, i.attrib, i.text)"
   ]
  },
  {
   "cell_type": "code",
   "execution_count": 211,
   "metadata": {
    "collapsed": false,
    "run_control": {
     "marked": false
    }
   },
   "outputs": [
    {
     "name": "stdout",
     "output_type": "stream",
     "text": [
      "strain\n",
      "dev_stage\n",
      "sex\n",
      "tissue\n",
      "BioSampleModel\n"
     ]
    }
   ],
   "source": [
    "for attrib in s.findall('SAMPLE_ATTRIBUTES/SAMPLE_ATTRIBUTE'):\n",
    "    print(attrib.find('TAG').text)"
   ]
  },
  {
   "cell_type": "code",
   "execution_count": null,
   "metadata": {
    "collapsed": true,
    "run_control": {
     "marked": false
    }
   },
   "outputs": [],
   "source": []
  },
  {
   "cell_type": "code",
   "execution_count": null,
   "metadata": {
    "collapsed": true,
    "run_control": {
     "marked": false
    }
   },
   "outputs": [],
   "source": []
  },
  {
   "cell_type": "code",
   "execution_count": null,
   "metadata": {
    "collapsed": true,
    "run_control": {
     "marked": false
    }
   },
   "outputs": [],
   "source": []
  }
 ],
 "metadata": {
  "kernelspec": {
   "display_name": "Python 3",
   "language": "python",
   "name": "python3"
  },
  "language_info": {
   "codemirror_mode": {
    "name": "ipython",
    "version": 3
   },
   "file_extension": ".py",
   "mimetype": "text/x-python",
   "name": "python",
   "nbconvert_exporter": "python",
   "pygments_lexer": "ipython3",
   "version": "3.5.2"
  }
 },
 "nbformat": 4,
 "nbformat_minor": 0
}
