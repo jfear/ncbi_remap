{
 "cells": [
  {
   "cell_type": "markdown",
   "metadata": {},
   "source": [
    "I have not been able to successfully get the PacBio SMRT-portal to run IsoSeq. I am currently running just the ROI to see if that is working. I would also like to run the CCS2 that Morgan did, but that requires to install the command line tools:\n",
    "\n",
    "https://github.com/PacificBiosciences/unanimity/blob/master/doc/INSTALL.md\n",
    "\n",
    "I have been struggling to get this compilation to work correctly. I tried on my local OSX install, but kept getting an error with htslib. I next tried on the PacBio VM, but the cmake library was out of date. I then tried on Biowulf, but I was again having problems compiling the htslib. \n",
    "\n",
    "Finally I have moved to my Ubuntu 16.04 VM. Set up is as follows.\n",
    "```sh\n",
    "$ sudo apt-get install libboost-dev cmake clang git zlib1g-dev libhts-dev python-pip swig\n",
    "\n",
    "$ git clone https://github.com/PacificBiosciences/unanimity\n",
    "$ cd unanimity\n",
    "$ git submodule update --init --remote\n",
    "$ mkdir build\n",
    "$ cd build\n",
    "$ cmake -DCMAKE_INSTALL_PREFIX=~/bin ..\n",
    "$ make -j install ccs\n",
    "```\n",
    "\n",
    "After figuring things out on ubuntu I was also able to get things to compile on OSX with the following.\n",
    "\n",
    "```sh\n",
    "brew install md5sha1sum swig cmake htslib boost gcc \n",
    "$ git clone https://github.com/PacificBiosciences/unanimity\n",
    "$ cd unanimity\n",
    "$ git submodule update --init --remote\n",
    "$ mkdir build\n",
    "$ cd build\n",
    "$ cmake -DCMAKE_INSTALL_PREFIX=~/bin ..\n",
    "$ make -j install ccs\n",
    "```\n",
    "\n",
    "\n",
    "I also had to install bax2bam\n",
    "\n",
    "```sh\n",
    "$ conda create -n py27 python=2.7\n",
    "$ source activate py27\n",
    "$ git clone https://github.com/PacificBiosciences/pitchfork\n",
    "$ cd pitchfork\n",
    "$ make bax2bam\n",
    "```"
   ]
  },
  {
   "cell_type": "code",
   "execution_count": 5,
   "metadata": {
    "collapsed": false
   },
   "outputs": [
    {
     "name": "stdout",
     "output_type": "stream",
     "text": [
      "Justin M Fear 2016-08-29 \n",
      "\n",
      "CPython 3.5.2\n",
      "IPython 5.1.0\n",
      "host name: cn2799\n",
      "Git hash: e41bf346ac4573753024da16fa914a14e3518f0f\n"
     ]
    }
   ],
   "source": [
    "%reload_ext watermark\n",
    "%watermark -a \"Justin M Fear\" -d -v -h -g"
   ]
  },
  {
   "cell_type": "code",
   "execution_count": null,
   "metadata": {
    "collapsed": true
   },
   "outputs": [],
   "source": []
  }
 ],
 "metadata": {
  "kernelspec": {
   "display_name": "Python 3",
   "language": "python",
   "name": "python3"
  },
  "language_info": {
   "codemirror_mode": {
    "name": "ipython",
    "version": 3
   },
   "file_extension": ".py",
   "mimetype": "text/x-python",
   "name": "python",
   "nbconvert_exporter": "python",
   "pygments_lexer": "ipython3",
   "version": "3.5.2"
  },
  "latex_envs": {
   "bibliofile": "biblio.bib",
   "cite_by": "apalike",
   "current_citInitial": 1,
   "eqLabelWithNumbers": true,
   "eqNumInitial": 0
  },
  "nav_menu": {},
  "toc": {
   "navigate_menu": true,
   "number_sections": true,
   "sideBar": true,
   "threshold": 6,
   "toc_cell": false,
   "toc_section_display": "block",
   "toc_window_display": false
  }
 },
 "nbformat": 4,
 "nbformat_minor": 0
}
