{
 "cells": [
  {
   "cell_type": "markdown",
   "metadata": {
    "deletable": true,
    "editable": true
   },
   "source": [
    "# Inverse Filter Testing"
   ]
  },
  {
   "cell_type": "markdown",
   "metadata": {
    "deletable": true,
    "editable": true
   },
   "source": [
    "Brian is wanting to know the location of all of reads that map to a non-annotated regions. These could be new genes, new exons/CDS, anti-sense transcripts, etc. I have played with several methods to pull these regions out, but they are difficult to capture because of technical reasons. The approach I am working out here:\n",
    "\n",
    "1) Create First/Second strand BedGraphs\n",
    "2) Iterate over BedGraph and expand out so that each position is a row in the file (BedGraphs collapse rows with the same counts).\n",
    "3) Use BedTools intersect on the inverse First/Second strands to produce BedGraphs:\n",
    "\n",
    "* first.sense.bg\n",
    "* first.antisense.bg\n",
    "* second.sense.bg\n",
    "* second.antisense.bg\n",
    "    \n",
    "4) Combine the sense or antisense BGs adding strand information\n",
    "\n",
    "In the end I should have two Bed files one is a list of locations that were un annotated sense and the other are anti-sense transcripts."
   ]
  },
  {
   "cell_type": "code",
   "execution_count": 2,
   "metadata": {
    "collapsed": false,
    "deletable": true,
    "editable": true
   },
   "outputs": [
    {
     "name": "stdout",
     "output_type": "stream",
     "text": [
      "last updated: 2017-04-21 \n",
      "Git hash: d9167e06cac5e4fe3468cd0c675caa30879df4ef\n"
     ]
    }
   ],
   "source": [
    "# %load ../start.py\n",
    "# Load useful extensions\n",
    "\n",
    "# Activate the autoreload extension for easy reloading of external packages\n",
    "%reload_ext autoreload\n",
    "%autoreload 2\n",
    "\n",
    "# Trun on the water mark\n",
    "%reload_ext watermark\n",
    "%watermark -u -d -g\n",
    "\n",
    "# Load ipycache extension\n",
    "%reload_ext ipycache\n",
    "from ipycache import CacheMagics\n",
    "CacheMagics.cachedir = '../cachedir'\n",
    "\n",
    "# Add project library to path\n",
    "import sys\n",
    "sys.path.insert(0, '../../lib/python')\n",
    "\n",
    "# The usual suspects\n",
    "import os\n",
    "import numpy as np\n",
    "import pandas as pd\n",
    "\n",
    "# plotting\n",
    "import matplotlib as mpl\n",
    "import matplotlib.pyplot as plt\n",
    "import seaborn as sns\n",
    "\n",
    "%matplotlib inline\n",
    "sns.set_context('poster')\n",
    "\n",
    "# Turn off scientific notation\n",
    "np.set_printoptions(precision=5, suppress=True)\n"
   ]
  },
  {
   "cell_type": "code",
   "execution_count": 3,
   "metadata": {
    "collapsed": true
   },
   "outputs": [],
   "source": [
    "import pybedtools"
   ]
  },
  {
   "cell_type": "code",
   "execution_count": 41,
   "metadata": {
    "collapsed": false
   },
   "outputs": [],
   "source": [
    "first = pybedtools.BedTool([x[:4] + ['.', '+'] for x in pybedtools.BedTool('../../output/alignment/raw/ERX455041/ERR489286/ERR489286.fq.first.bedgraph')])\n",
    "second = pybedtools.BedTool([x[:4] + ['.', '-'] for x in pybedtools.BedTool('../../output/alignment/raw/ERX455041/ERR489286/ERR489286.fq.second.bedgraph')])\n",
    "inverse_first = pybedtools.BedTool([x[:3] + ['.', '.', '+'] for x in pybedtools.BedTool('../../output/inverse_exons_20bp.first.bed')])\n",
    "inverse_second = pybedtools.BedTool([x[:3] + ['.', '.', '-'] for x in pybedtools.BedTool('../../output/inverse_exons_20bp.second.bed')])"
   ]
  },
  {
   "cell_type": "code",
   "execution_count": 44,
   "metadata": {
    "collapsed": false
   },
   "outputs": [
    {
     "data": {
      "text/plain": [
       "<BedTool(../../output/test.first.bed)>"
      ]
     },
     "execution_count": 44,
     "metadata": {},
     "output_type": "execute_result"
    }
   ],
   "source": [
    "intersect_sense = first.intersect(inverse_first, s=True)\n",
    "fil = intersect_sense.filter(lambda x: True if x[3] != '0' else False).saveas()\n",
    "pybedtools.BedTool([x[:3] for x in fil]).saveas('../../output/test.first.bed')"
   ]
  },
  {
   "cell_type": "code",
   "execution_count": 45,
   "metadata": {
    "collapsed": false,
    "deletable": true,
    "editable": true
   },
   "outputs": [
    {
     "data": {
      "text/plain": [
       "<BedTool(../../output/test.second.bed)>"
      ]
     },
     "execution_count": 45,
     "metadata": {},
     "output_type": "execute_result"
    }
   ],
   "source": [
    "intersect_antisense = second.intersect(inverse_second, s=True)\n",
    "fil = intersect_antisense.filter(lambda x: True if x[3] != '0' else False).saveas()\n",
    "pybedtools.BedTool([x[:3] for x in fil]).saveas('../../output/test.second.bed')"
   ]
  },
  {
   "cell_type": "code",
   "execution_count": null,
   "metadata": {
    "collapsed": true
   },
   "outputs": [],
   "source": []
  },
  {
   "cell_type": "code",
   "execution_count": null,
   "metadata": {
    "collapsed": true
   },
   "outputs": [],
   "source": []
  },
  {
   "cell_type": "code",
   "execution_count": null,
   "metadata": {
    "collapsed": true
   },
   "outputs": [],
   "source": []
  },
  {
   "cell_type": "code",
   "execution_count": 48,
   "metadata": {
    "collapsed": false,
    "deletable": true,
    "editable": true
   },
   "outputs": [],
   "source": [
    "intersect_sense = first.intersect(inverse_first, s=True).saveas('../../output/test.first.bedgraph')\n",
    "intersect_antisensesense = second.intersect(inverse_second, s=True).saveas('../../output/test.second.bedgraph')"
   ]
  },
  {
   "cell_type": "code",
   "execution_count": null,
   "metadata": {
    "collapsed": true
   },
   "outputs": [],
   "source": []
  },
  {
   "cell_type": "code",
   "execution_count": 49,
   "metadata": {
    "collapsed": false
   },
   "outputs": [
    {
     "name": "stdout",
     "output_type": "stream",
     "text": [
      "chr2L\t0\t7508\t0\t.\t+\n",
      " chr2L\t8136\t8172\t0\t.\t+\n",
      " chr2L\t9504\t11940\t0\t.\t+\n",
      " chr2L\t11940\t12000\t1\t.\t+\n",
      " chr2L\t12000\t12020\t0\t.\t+\n",
      " chr2L\t12020\t12080\t1\t.\t+\n",
      " chr2L\t12080\t12350\t0\t.\t+\n",
      " chr2L\t12350\t12410\t1\t.\t+\n",
      " chr2L\t12410\t12670\t0\t.\t+\n",
      " chr2L\t12670\t12730\t1\t.\t+\n",
      " "
     ]
    }
   ],
   "source": [
    "intersect_sense.head()"
   ]
  },
  {
   "cell_type": "code",
   "execution_count": null,
   "metadata": {
    "collapsed": true
   },
   "outputs": [],
   "source": []
  },
  {
   "cell_type": "code",
   "execution_count": null,
   "metadata": {
    "collapsed": true
   },
   "outputs": [],
   "source": []
  },
  {
   "cell_type": "code",
   "execution_count": null,
   "metadata": {
    "collapsed": true
   },
   "outputs": [],
   "source": []
  },
  {
   "cell_type": "code",
   "execution_count": null,
   "metadata": {
    "collapsed": true
   },
   "outputs": [],
   "source": []
  },
  {
   "cell_type": "code",
   "execution_count": null,
   "metadata": {
    "collapsed": true
   },
   "outputs": [],
   "source": []
  },
  {
   "cell_type": "code",
   "execution_count": null,
   "metadata": {
    "collapsed": true
   },
   "outputs": [],
   "source": []
  },
  {
   "cell_type": "code",
   "execution_count": null,
   "metadata": {
    "collapsed": true
   },
   "outputs": [],
   "source": []
  },
  {
   "cell_type": "code",
   "execution_count": null,
   "metadata": {
    "collapsed": true
   },
   "outputs": [],
   "source": []
  }
 ],
 "metadata": {
  "anaconda-cloud": {},
  "kernelspec": {
   "display_name": "Python [conda env:ncbi_remap]",
   "language": "python",
   "name": "conda-env-ncbi_remap-py"
  },
  "language_info": {
   "codemirror_mode": {
    "name": "ipython",
    "version": 3
   },
   "file_extension": ".py",
   "mimetype": "text/x-python",
   "name": "python",
   "nbconvert_exporter": "python",
   "pygments_lexer": "ipython3",
   "version": "3.5.2"
  },
  "toc": {
   "colors": {
    "hover_highlight": "#DAA520",
    "running_highlight": "#FF0000",
    "selected_highlight": "#FFD700"
   },
   "moveMenuLeft": true,
   "nav_menu": {
    "height": "30px",
    "width": "252px"
   },
   "navigate_menu": true,
   "number_sections": false,
   "sideBar": true,
   "threshold": 4,
   "toc_cell": false,
   "toc_section_display": "block",
   "toc_window_display": false
  }
 },
 "nbformat": 4,
 "nbformat_minor": 2
}
