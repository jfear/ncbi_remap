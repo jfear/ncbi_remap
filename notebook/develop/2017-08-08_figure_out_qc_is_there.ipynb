{
 "cells": [
  {
   "cell_type": "markdown",
   "metadata": {},
   "source": [
    "Before finalizing RNA-seq criteria, I need to make sure that all required fields are there and that they are correct."
   ]
  },
  {
   "cell_type": "code",
   "execution_count": 1,
   "metadata": {
    "code_folding": [
     0
    ],
    "collapsed": false
   },
   "outputs": [
    {
     "name": "stdout",
     "output_type": "stream",
     "text": [
      "last updated: 2017-08-08 \n",
      "Git hash: a2ed76a7701599bb189f432fbe96236078cf8174\n"
     ]
    }
   ],
   "source": [
    "# %load ../start.py\n",
    "# Load useful extensions\n",
    "\n",
    "# Activate the autoreload extension for easy reloading of external packages\n",
    "%reload_ext autoreload\n",
    "%autoreload 2\n",
    "\n",
    "# Trun on the water mark\n",
    "%reload_ext watermark\n",
    "%watermark -u -d -g\n",
    "\n",
    "# Load ipycache extension\n",
    "%reload_ext ipycache\n",
    "from ipycache import CacheMagics\n",
    "CacheMagics.cachedir = '../cachedir'\n",
    "\n",
    "# Add project library to path\n",
    "import sys\n",
    "sys.path.insert(0, '../../lib/python')\n",
    "\n",
    "# The usual suspects\n",
    "import os\n",
    "import numpy as np\n",
    "import pandas as pd\n",
    "\n",
    "# plotting\n",
    "import matplotlib as mpl\n",
    "import matplotlib.pyplot as plt\n",
    "import seaborn as sns\n",
    "\n",
    "%matplotlib inline\n",
    "sns.set_context('poster')\n",
    "\n",
    "# Turn off scientific notation\n",
    "np.set_printoptions(precision=5, suppress=True)"
   ]
  },
  {
   "cell_type": "code",
   "execution_count": 2,
   "metadata": {
    "collapsed": true
   },
   "outputs": [],
   "source": [
    "# %load ../../bin/load.py\n",
    "from pymongo import MongoClient\n",
    "with open('/home/fearjm/Projects/ncbi_remap/output/.mongodb_host', 'r') as fh:\n",
    "    host = fh.read().strip()\n",
    "client = MongoClient(host=host, port=27022)\n",
    "db = client['sra2']\n",
    "remap = db['remap']"
   ]
  },
  {
   "cell_type": "code",
   "execution_count": 3,
   "metadata": {
    "collapsed": false
   },
   "outputs": [
    {
     "data": {
      "text/plain": [
       "27598"
      ]
     },
     "execution_count": 3,
     "metadata": {},
     "output_type": "execute_result"
    }
   ],
   "source": [
    "remap.count()"
   ]
  },
  {
   "cell_type": "code",
   "execution_count": 4,
   "metadata": {
    "collapsed": false
   },
   "outputs": [
    {
     "data": {
      "text/plain": [
       "['quality_scores_bad',\n",
       " 'download_bad',\n",
       " 'SE',\n",
       " 'keep_R2',\n",
       " 'first_strand',\n",
       " 'complete',\n",
       " 'unstranded',\n",
       " 'second_strand',\n",
       " 'PE',\n",
       " 'same_strand',\n",
       " 'opposite_strand',\n",
       " 'alignment_bad',\n",
       " 'keep_R1',\n",
       " 'abi_solid']"
      ]
     },
     "execution_count": 4,
     "metadata": {},
     "output_type": "execute_result"
    }
   ],
   "source": [
    "# List of pre-aln-flags\n",
    "[x['_id'] for x in remap.aggregate([\n",
    "    {'$unwind': '$runs'},\n",
    "    {\n",
    "        '$project': {\n",
    "            '_id': 0,\n",
    "            'flags': '$runs.pre_aln_flags'\n",
    "        }\n",
    "    },\n",
    "    {'$unwind': '$flags'},\n",
    "    {'$group': {'_id': '$flags'}}\n",
    "])]"
   ]
  },
  {
   "cell_type": "code",
   "execution_count": 5,
   "metadata": {
    "collapsed": false
   },
   "outputs": [
    {
     "data": {
      "text/plain": [
       "{'_id': 'SRX2581987',\n",
       " 'bioproject': 'PRJNA357269',\n",
       " 'contacts': [{'email': 'marcelorivas@gmail.com',\n",
       "   'first_name': 'Marcelo',\n",
       "   'last_name': 'Rivas'}],\n",
       " 'papers': [],\n",
       " 'runs': [{'avgReadLen': {'R1': 142.97425121403273, 'R2': 143.68871950516282},\n",
       "   'libsize': {'R1': 17428278, 'R2': 17428278},\n",
       "   'md5': {'R1': '1ef1ee5447afb2a8852f52224abf3940',\n",
       "    'R2': '144600f42c19d3c2101b968d9f834567'},\n",
       "   'pre_aln_flags': ['PE', 'unstranded', 'complete'],\n",
       "   'pre_aln_workflow': {'bam_stat': {'non_unique': 292001,\n",
       "     'nonsplice_reads': 3841210,\n",
       "     'optical_pcr_duplicates': 0,\n",
       "     'proper_pair_map_to_different_chrom': 0,\n",
       "     'qc_failed': 0,\n",
       "     'read_1': 2098571,\n",
       "     'read_2': 1773091,\n",
       "     'reads_map_minus': 1935259,\n",
       "     'reads_map_plus': 1936403,\n",
       "     'reads_mapped_proper_pairs': 3238278,\n",
       "     'splice_reads': 30452,\n",
       "     'total_records': 35575122,\n",
       "     'unique': 3871662,\n",
       "     'unmapped_reads': 30692893},\n",
       "    'fastq_screen': {'adapters': {'multiple_hits_one_library_percent': 0.0},\n",
       "     'dm6': {'multiple_hits_one_library_percent': 2.53},\n",
       "     'ecoli': {'one_hit_multiple_libraries_percent': 0.0},\n",
       "     'ercc': {'multiple_hits_multiple_libraries_count': 1.0},\n",
       "     'hg19': {'multiple_hits_multiple_libraries_count': 753.0},\n",
       "     'phix': {'one_hit_one_library_count': 10460.0},\n",
       "     'rRNA': {'unmapped_count': 99720.0},\n",
       "     'wolbachia': {'one_hit_one_library_percent': 0.0},\n",
       "     'yeast': {'unmapped_percent': 99.74}},\n",
       "    'featurecounts': {'Assigned_Junction': 15039,\n",
       "     'PrimaryGene': 'Unassigned_Duplicate',\n",
       "     'SecondaryGenes': 0,\n",
       "     'Site1_chr': nan,\n",
       "     'Site1_location': nan,\n",
       "     'Site1_strand': nan,\n",
       "     'Site2_chr': nan,\n",
       "     'Site2_location': nan,\n",
       "     'Site2_strand': nan,\n",
       "     'count': nan},\n",
       "    'hisat2': {'num_concordant_multimappers': 394703.0,\n",
       "     'num_concordant_reads_unaligned': 15689049.0,\n",
       "     'num_concordant_reads_uniquely_aligned': 1344526.0,\n",
       "     'num_discordant_reads_aligned': 18408.0,\n",
       "     'num_multimappers': 151066.0,\n",
       "     'num_reads': 17428278.0,\n",
       "     'num_reads_paired': 17428278.0,\n",
       "     'num_unaligned': 30692893.0,\n",
       "     'num_uniquely_algined': 497323.0,\n",
       "     'per_alignment': 11.95},\n",
       "    'infer_expeirment': {'opposite_strand': 0.4497,\n",
       "     'same_strand': 0.4805,\n",
       "     'undertermined': 0.0698},\n",
       "    'picard_collectrnaseqmetrics': {'first': {'CODING_BASES': 183959307.0,\n",
       "      'CORRECT_STRAND_READS': 427095.0,\n",
       "      'IGNORED_READS': 0.0,\n",
       "      'INCORRECT_STRAND_READS': 388979.0,\n",
       "      'INTERGENIC_BASES': 166530170.0,\n",
       "      'INTRONIC_BASES': 190018903.0,\n",
       "      'LIBRARY': nan,\n",
       "      'MEDIAN_3PRIME_BIAS': 0.0,\n",
       "      'MEDIAN_5PRIME_BIAS': 0.001894,\n",
       "      'MEDIAN_5PRIME_TO_3PRIME_BIAS': 0.0,\n",
       "      'MEDIAN_CV_COVERAGE': 2.418909,\n",
       "      'NUM_R1_TRANSCRIPT_STRAND_READS': 145031.0,\n",
       "      'NUM_R2_TRANSCRIPT_STRAND_READS': 125440.0,\n",
       "      'NUM_UNEXPLAINED_READS': 172334.0,\n",
       "      'PCT_CODING_BASES': 0.31579,\n",
       "      'PCT_CORRECT_STRAND_READS': 0.523353,\n",
       "      'PCT_INTERGENIC_BASES': 0.28586999999999996,\n",
       "      'PCT_INTRONIC_BASES': 0.326192,\n",
       "      'PCT_MRNA_BASES': 0.387938,\n",
       "      'PCT_R1_TRANSCRIPT_STRAND_READS': 0.536216,\n",
       "      'PCT_R2_TRANSCRIPT_STRAND_READS': 0.46378400000000003,\n",
       "      'PCT_RIBOSOMAL_BASES': nan,\n",
       "      'PCT_USABLE_BASES': 0.045233999999999996,\n",
       "      'PCT_UTR_BASES': 0.072149,\n",
       "      'PF_ALIGNED_BASES': 582537692.0,\n",
       "      'PF_BASES': 4996041946.0,\n",
       "      'READ_GROUP': nan,\n",
       "      'RIBOSOMAL_BASES': nan,\n",
       "      'SAMPLE': nan,\n",
       "      'UTR_BASES': 42029312.0},\n",
       "     'second': {'CODING_BASES': 183959307.0,\n",
       "      'CORRECT_STRAND_READS': 388979.0,\n",
       "      'IGNORED_READS': 0.0,\n",
       "      'INCORRECT_STRAND_READS': 427095.0,\n",
       "      'INTERGENIC_BASES': 166530170.0,\n",
       "      'INTRONIC_BASES': 190018903.0,\n",
       "      'LIBRARY': nan,\n",
       "      'MEDIAN_3PRIME_BIAS': 0.0,\n",
       "      'MEDIAN_5PRIME_BIAS': 0.001894,\n",
       "      'MEDIAN_5PRIME_TO_3PRIME_BIAS': 0.0,\n",
       "      'MEDIAN_CV_COVERAGE': 2.418909,\n",
       "      'NUM_R1_TRANSCRIPT_STRAND_READS': 145031.0,\n",
       "      'NUM_R2_TRANSCRIPT_STRAND_READS': 125440.0,\n",
       "      'NUM_UNEXPLAINED_READS': 172334.0,\n",
       "      'PCT_CODING_BASES': 0.31579,\n",
       "      'PCT_CORRECT_STRAND_READS': 0.47664700000000004,\n",
       "      'PCT_INTERGENIC_BASES': 0.28586999999999996,\n",
       "      'PCT_INTRONIC_BASES': 0.326192,\n",
       "      'PCT_MRNA_BASES': 0.387938,\n",
       "      'PCT_R1_TRANSCRIPT_STRAND_READS': 0.536216,\n",
       "      'PCT_R2_TRANSCRIPT_STRAND_READS': 0.46378400000000003,\n",
       "      'PCT_RIBOSOMAL_BASES': nan,\n",
       "      'PCT_USABLE_BASES': 0.045233999999999996,\n",
       "      'PCT_UTR_BASES': 0.072149,\n",
       "      'PF_ALIGNED_BASES': 582537692.0,\n",
       "      'PF_BASES': 4996041946.0,\n",
       "      'READ_GROUP': nan,\n",
       "      'RIBOSOMAL_BASES': nan,\n",
       "      'SAMPLE': nan,\n",
       "      'UTR_BASES': 42029312.0},\n",
       "     'unstranded': {'CODING_BASES': 183959307.0,\n",
       "      'CORRECT_STRAND_READS': 0.0,\n",
       "      'IGNORED_READS': 0.0,\n",
       "      'INCORRECT_STRAND_READS': 0.0,\n",
       "      'INTERGENIC_BASES': 166530170.0,\n",
       "      'INTRONIC_BASES': 190018903.0,\n",
       "      'LIBRARY': nan,\n",
       "      'MEDIAN_3PRIME_BIAS': 0.0,\n",
       "      'MEDIAN_5PRIME_BIAS': 0.001894,\n",
       "      'MEDIAN_5PRIME_TO_3PRIME_BIAS': 0.0,\n",
       "      'MEDIAN_CV_COVERAGE': 2.418909,\n",
       "      'NUM_R1_TRANSCRIPT_STRAND_READS': 145031.0,\n",
       "      'NUM_R2_TRANSCRIPT_STRAND_READS': 125440.0,\n",
       "      'NUM_UNEXPLAINED_READS': 172334.0,\n",
       "      'PCT_CODING_BASES': 0.31579,\n",
       "      'PCT_CORRECT_STRAND_READS': 0.0,\n",
       "      'PCT_INTERGENIC_BASES': 0.28586999999999996,\n",
       "      'PCT_INTRONIC_BASES': 0.326192,\n",
       "      'PCT_MRNA_BASES': 0.387938,\n",
       "      'PCT_R1_TRANSCRIPT_STRAND_READS': 0.536216,\n",
       "      'PCT_R2_TRANSCRIPT_STRAND_READS': 0.46378400000000003,\n",
       "      'PCT_RIBOSOMAL_BASES': nan,\n",
       "      'PCT_USABLE_BASES': 0.045233999999999996,\n",
       "      'PCT_UTR_BASES': 0.072149,\n",
       "      'PF_ALIGNED_BASES': 582537692.0,\n",
       "      'PF_BASES': 4996041946.0,\n",
       "      'READ_GROUP': nan,\n",
       "      'RIBOSOMAL_BASES': nan,\n",
       "      'SAMPLE': nan,\n",
       "      'UTR_BASES': 42029312.0}},\n",
       "    'picard_markduplicates': {'ESTIMATED_LIBRARY_SIZE': 344967,\n",
       "     'LIBRARY': 'Unknown Library',\n",
       "     'PERCENT_DUPLICATION': 0.821551,\n",
       "     'READ_PAIRS_EXAMINED': 1777633,\n",
       "     'READ_PAIR_DUPLICATES': 1434660,\n",
       "     'READ_PAIR_OPTICAL_DUPLICATES': 0,\n",
       "     'SECONDARY_OR_SUPPLEMENTARY_RDS': 718566,\n",
       "     'UNMAPPED_READS': 30692893,\n",
       "     'UNPAIRED_READS_EXAMINED': 608397,\n",
       "     'UNPAIRED_READ_DUPLICATES': 551340},\n",
       "    'samtools_stats': {'1st_fragments': 17428278.0,\n",
       "     'average_length': 143.0,\n",
       "     'average_quality': 33.6,\n",
       "     'bases_duplicated': 0.0,\n",
       "     'bases_mapped': 585920955.0,\n",
       "     'bases_mapped_(cigar)': 582670594.0,\n",
       "     'bases_trimmed': 0.0,\n",
       "     'filtered_sequences': 0.0,\n",
       "     'insert_size_average': 379.6,\n",
       "     'insert_size_standard_deviation': 891.1,\n",
       "     'inward_oriented_pairs': 1339629.0,\n",
       "     'is_sorted': 1.0,\n",
       "     'last_fragments': 17428278.0,\n",
       "     'maximum_length': 151.0,\n",
       "     'mismatches': 3540532.0,\n",
       "     'non-primary_alignments': 718566.0,\n",
       "     'outward_oriented_pairs': 10201.0,\n",
       "     'pairs_on_different_chromosomes': 18735.0,\n",
       "     'pairs_with_other_orientation': 1418.0,\n",
       "     'raw_total_sequences': 34856556.0,\n",
       "     'reads_MQ0': 21224.0,\n",
       "     'reads_QC_failed': 0.0,\n",
       "     'reads_duplicated': 0.0,\n",
       "     'reads_mapped': 4163663.0,\n",
       "     'reads_mapped_and_paired': 3555266.0,\n",
       "     'reads_paired': 34856556.0,\n",
       "     'reads_properly_paired': 3478458.0,\n",
       "     'reads_unmapped': 30692893.0,\n",
       "     'sequences': 34856556.0,\n",
       "     'total_length': 4996041946.0}},\n",
       "   'srr': 'SRR5278103'}],\n",
       " 'sample': {'biosample': 'SAMN06140184',\n",
       "  'gsm': 'GSM2427901',\n",
       "  'srs': 'SRS1996012'},\n",
       " 'sra': 'SRA539405',\n",
       " 'srp': 'SRP100516'}"
      ]
     },
     "execution_count": 5,
     "metadata": {},
     "output_type": "execute_result"
    }
   ],
   "source": [
    "remap.find_one()"
   ]
  },
  {
   "cell_type": "code",
   "execution_count": 18,
   "metadata": {
    "collapsed": true
   },
   "outputs": [],
   "source": [
    "srx = 'SRX2581987'\n",
    "srr = 'SRR5278103'\n",
    "\n",
    "fname = '../../output/prealignment/raw/{srx}/{srr}/{srr}.hisat2.bam.feature_counts.counts.summary'.format(srx=srx, srr=srr)\n",
    "fname2 = '../../output/prealignment/raw/{srx}/{srr}/{srr}.hisat2.bam.feature_counts.counts.jcounts'.format(srx=srx, srr=srr)"
   ]
  },
  {
   "cell_type": "code",
   "execution_count": 9,
   "metadata": {
    "collapsed": true
   },
   "outputs": [],
   "source": [
    "from ncbi_remap.parser import parse_featureCounts_jcounts, parse_featureCounts_summary"
   ]
  },
  {
   "cell_type": "code",
   "execution_count": null,
   "metadata": {
    "collapsed": true
   },
   "outputs": [],
   "source": [
    "df = parse_featureCounts_summary(srr, fname)"
   ]
  },
  {
   "cell_type": "code",
   "execution_count": 19,
   "metadata": {
    "collapsed": true
   },
   "outputs": [],
   "source": [
    "df2 = parse_featureCounts_jcounts(srr, fname2)"
   ]
  },
  {
   "cell_type": "code",
   "execution_count": 20,
   "metadata": {
    "collapsed": false
   },
   "outputs": [
    {
     "data": {
      "text/html": [
       "<div>\n",
       "<table border=\"1\" class=\"dataframe\">\n",
       "  <thead>\n",
       "    <tr style=\"text-align: right;\">\n",
       "      <th></th>\n",
       "      <th>Assigned</th>\n",
       "      <th>Unassigned_Ambiguity</th>\n",
       "      <th>Unassigned_MultiMapping</th>\n",
       "      <th>Unassigned_NoFeatures</th>\n",
       "      <th>Unassigned_Unmapped</th>\n",
       "      <th>Unassigned_MappingQuality</th>\n",
       "      <th>Unassigned_FragmentLength</th>\n",
       "      <th>Unassigned_Chimera</th>\n",
       "      <th>Unassigned_Secondary</th>\n",
       "      <th>Unassigned_Nonjunction</th>\n",
       "      <th>Unassigned_Duplicate</th>\n",
       "    </tr>\n",
       "  </thead>\n",
       "  <tbody>\n",
       "    <tr>\n",
       "      <th>SRR5278103</th>\n",
       "      <td>1003825</td>\n",
       "      <td>52134</td>\n",
       "      <td>484051</td>\n",
       "      <td>1116050</td>\n",
       "      <td>15042248</td>\n",
       "      <td>0</td>\n",
       "      <td>109827</td>\n",
       "      <td>38381</td>\n",
       "      <td>0</td>\n",
       "      <td>0</td>\n",
       "      <td>0</td>\n",
       "    </tr>\n",
       "  </tbody>\n",
       "</table>\n",
       "</div>"
      ],
      "text/plain": [
       "            Assigned  Unassigned_Ambiguity  Unassigned_MultiMapping  \\\n",
       "SRR5278103   1003825                 52134                   484051   \n",
       "\n",
       "            Unassigned_NoFeatures  Unassigned_Unmapped  \\\n",
       "SRR5278103                1116050             15042248   \n",
       "\n",
       "            Unassigned_MappingQuality  Unassigned_FragmentLength  \\\n",
       "SRR5278103                          0                     109827   \n",
       "\n",
       "            Unassigned_Chimera  Unassigned_Secondary  Unassigned_Nonjunction  \\\n",
       "SRR5278103               38381                     0                       0   \n",
       "\n",
       "            Unassigned_Duplicate  \n",
       "SRR5278103                     0  "
      ]
     },
     "execution_count": 20,
     "metadata": {},
     "output_type": "execute_result"
    }
   ],
   "source": [
    "df.head()"
   ]
  },
  {
   "cell_type": "code",
   "execution_count": 21,
   "metadata": {
    "collapsed": false,
    "scrolled": true
   },
   "outputs": [
    {
     "data": {
      "text/html": [
       "<div>\n",
       "<table border=\"1\" class=\"dataframe\">\n",
       "  <thead>\n",
       "    <tr style=\"text-align: right;\">\n",
       "      <th></th>\n",
       "      <th>PrimaryGene</th>\n",
       "      <th>SecondaryGenes</th>\n",
       "      <th>Site1_chr</th>\n",
       "      <th>Site1_location</th>\n",
       "      <th>Site1_strand</th>\n",
       "      <th>Site2_chr</th>\n",
       "      <th>Site2_location</th>\n",
       "      <th>Site2_strand</th>\n",
       "      <th>count</th>\n",
       "    </tr>\n",
       "    <tr>\n",
       "      <th>sample</th>\n",
       "      <th></th>\n",
       "      <th></th>\n",
       "      <th></th>\n",
       "      <th></th>\n",
       "      <th></th>\n",
       "      <th></th>\n",
       "      <th></th>\n",
       "      <th></th>\n",
       "      <th></th>\n",
       "    </tr>\n",
       "  </thead>\n",
       "  <tbody>\n",
       "    <tr>\n",
       "      <th>SRR5278103</th>\n",
       "      <td>NaN</td>\n",
       "      <td>NaN</td>\n",
       "      <td>chrUn_CP007073v1</td>\n",
       "      <td>6601</td>\n",
       "      <td>NaN</td>\n",
       "      <td>chrUn_CP007073v1</td>\n",
       "      <td>9493</td>\n",
       "      <td>NaN</td>\n",
       "      <td>1</td>\n",
       "    </tr>\n",
       "    <tr>\n",
       "      <th>SRR5278103</th>\n",
       "      <td>NaN</td>\n",
       "      <td>NaN</td>\n",
       "      <td>chrUn_CP007074v1</td>\n",
       "      <td>26454</td>\n",
       "      <td>NaN</td>\n",
       "      <td>chrUn_CP007074v1</td>\n",
       "      <td>46418</td>\n",
       "      <td>NaN</td>\n",
       "      <td>1</td>\n",
       "    </tr>\n",
       "    <tr>\n",
       "      <th>SRR5278103</th>\n",
       "      <td>NaN</td>\n",
       "      <td>NaN</td>\n",
       "      <td>chrUn_CP007075v1</td>\n",
       "      <td>3082</td>\n",
       "      <td>NaN</td>\n",
       "      <td>chrUn_CP007075v1</td>\n",
       "      <td>4335</td>\n",
       "      <td>NaN</td>\n",
       "      <td>170</td>\n",
       "    </tr>\n",
       "    <tr>\n",
       "      <th>SRR5278103</th>\n",
       "      <td>NaN</td>\n",
       "      <td>NaN</td>\n",
       "      <td>chrUn_CP007075v1</td>\n",
       "      <td>3082</td>\n",
       "      <td>NaN</td>\n",
       "      <td>chrUn_CP007075v1</td>\n",
       "      <td>6741</td>\n",
       "      <td>NaN</td>\n",
       "      <td>127</td>\n",
       "    </tr>\n",
       "    <tr>\n",
       "      <th>SRR5278103</th>\n",
       "      <td>NaN</td>\n",
       "      <td>NaN</td>\n",
       "      <td>chrUn_CP007075v1</td>\n",
       "      <td>4393</td>\n",
       "      <td>NaN</td>\n",
       "      <td>chrUn_CP007075v1</td>\n",
       "      <td>6734</td>\n",
       "      <td>NaN</td>\n",
       "      <td>12</td>\n",
       "    </tr>\n",
       "  </tbody>\n",
       "</table>\n",
       "</div>"
      ],
      "text/plain": [
       "           PrimaryGene SecondaryGenes         Site1_chr  Site1_location  \\\n",
       "sample                                                                    \n",
       "SRR5278103         NaN            NaN  chrUn_CP007073v1            6601   \n",
       "SRR5278103         NaN            NaN  chrUn_CP007074v1           26454   \n",
       "SRR5278103         NaN            NaN  chrUn_CP007075v1            3082   \n",
       "SRR5278103         NaN            NaN  chrUn_CP007075v1            3082   \n",
       "SRR5278103         NaN            NaN  chrUn_CP007075v1            4393   \n",
       "\n",
       "            Site1_strand         Site2_chr  Site2_location  Site2_strand  \\\n",
       "sample                                                                     \n",
       "SRR5278103           NaN  chrUn_CP007073v1            9493           NaN   \n",
       "SRR5278103           NaN  chrUn_CP007074v1           46418           NaN   \n",
       "SRR5278103           NaN  chrUn_CP007075v1            4335           NaN   \n",
       "SRR5278103           NaN  chrUn_CP007075v1            6741           NaN   \n",
       "SRR5278103           NaN  chrUn_CP007075v1            6734           NaN   \n",
       "\n",
       "            count  \n",
       "sample             \n",
       "SRR5278103      1  \n",
       "SRR5278103      1  \n",
       "SRR5278103    170  \n",
       "SRR5278103    127  \n",
       "SRR5278103     12  "
      ]
     },
     "execution_count": 21,
     "metadata": {},
     "output_type": "execute_result"
    }
   ],
   "source": [
    "df2.head()"
   ]
  },
  {
   "cell_type": "code",
   "execution_count": 30,
   "metadata": {
    "collapsed": false
   },
   "outputs": [],
   "source": [
    "mask = ~(df2.PrimaryGene.isnull())"
   ]
  },
  {
   "cell_type": "code",
   "execution_count": 31,
   "metadata": {
    "collapsed": false
   },
   "outputs": [
    {
     "data": {
      "text/plain": [
       "15039"
      ]
     },
     "execution_count": 31,
     "metadata": {},
     "output_type": "execute_result"
    }
   ],
   "source": [
    "df2.loc[mask, 'count'].sum()"
   ]
  },
  {
   "cell_type": "code",
   "execution_count": 39,
   "metadata": {
    "collapsed": false
   },
   "outputs": [],
   "source": [
    "dd = pd.DataFrame(list(remap.aggregate([\n",
    "    {'$unwind': '$runs'},\n",
    "    {\n",
    "        '$match': {\n",
    "            'runs.pre_aln_workflow.featurecounts.Assigned_Junction': {'$exists': 1}\n",
    "        }\n",
    "    },\n",
    "    {\n",
    "        '$project': {\n",
    "            '_id': 0,\n",
    "            'srx': '$_id',\n",
    "            'jcount': '$runs.pre_aln_workflow.featurecounts.Assigned_Junction'\n",
    "        }\n",
    "    }\n",
    "])))"
   ]
  },
  {
   "cell_type": "code",
   "execution_count": 41,
   "metadata": {
    "collapsed": false
   },
   "outputs": [],
   "source": [
    "import seaborn as sns"
   ]
  },
  {
   "cell_type": "code",
   "execution_count": 43,
   "metadata": {
    "collapsed": false
   },
   "outputs": [],
   "source": [
    "dd.set_index('srx', inplace=True)"
   ]
  },
  {
   "cell_type": "code",
   "execution_count": 44,
   "metadata": {
    "collapsed": false
   },
   "outputs": [
    {
     "data": {
      "text/plain": [
       "<matplotlib.axes._subplots.AxesSubplot at 0x2aaaea35da20>"
      ]
     },
     "execution_count": 44,
     "metadata": {},
     "output_type": "execute_result"
    },
    {
     "data": {
      "image/png": "[encoded data removed]",
      "text/plain": [
       "<matplotlib.figure.Figure at 0x2aaaea3112b0>"
      ]
     },
     "metadata": {},
     "output_type": "display_data"
    }
   ],
   "source": [
    "sns.distplot(dd)"
   ]
  },
  {
   "cell_type": "code",
   "execution_count": null,
   "metadata": {
    "collapsed": true
   },
   "outputs": [],
   "source": []
  },
  {
   "cell_type": "code",
   "execution_count": null,
   "metadata": {
    "collapsed": true
   },
   "outputs": [],
   "source": []
  },
  {
   "cell_type": "code",
   "execution_count": null,
   "metadata": {
    "collapsed": true
   },
   "outputs": [],
   "source": []
  },
  {
   "cell_type": "code",
   "execution_count": null,
   "metadata": {
    "collapsed": true
   },
   "outputs": [],
   "source": []
  },
  {
   "cell_type": "code",
   "execution_count": 47,
   "metadata": {
    "collapsed": true
   },
   "outputs": [],
   "source": [
    "srx = 'SRX2581987'\n",
    "srr = 'SRR5278103'\n",
    "\n",
    "summary = '../../output/prealignment/raw/{srx}/{srr}/{srr}.hisat2.bam.feature_counts.counts.summary'.format(srx=srx, srr=srr)\n",
    "jcount = '../../output/prealignment/raw/{srx}/{srr}/{srr}.hisat2.bam.feature_counts.counts.jcounts'.format(srx=srx, srr=srr)"
   ]
  },
  {
   "cell_type": "code",
   "execution_count": 48,
   "metadata": {
    "collapsed": true
   },
   "outputs": [],
   "source": [
    "dfJ = parse_featureCounts_jcounts(srr, jcount)"
   ]
  },
  {
   "cell_type": "code",
   "execution_count": 51,
   "metadata": {
    "collapsed": false
   },
   "outputs": [],
   "source": [
    "if dfJ.shape[0] > 0:\n",
    "    num_junction_reads = dfJ.loc[~dfJ.PrimaryGene.isnull(), 'count'].sum()\n",
    "else:\n",
    "    num_junction_reads = 0"
   ]
  },
  {
   "cell_type": "code",
   "execution_count": 53,
   "metadata": {
    "collapsed": false
   },
   "outputs": [],
   "source": [
    "dfS = parse_featureCounts_summary(srr, summary)"
   ]
  },
  {
   "cell_type": "code",
   "execution_count": 54,
   "metadata": {
    "collapsed": true
   },
   "outputs": [],
   "source": [
    "dd = dfS.to_dict('index')[srr]"
   ]
  },
  {
   "cell_type": "code",
   "execution_count": 56,
   "metadata": {
    "collapsed": false
   },
   "outputs": [],
   "source": [
    "dd['Assigned_Junction'] = num_junction_reads"
   ]
  },
  {
   "cell_type": "code",
   "execution_count": 57,
   "metadata": {
    "collapsed": false
   },
   "outputs": [
    {
     "data": {
      "text/plain": [
       "{'Assigned': 1003825,\n",
       " 'Assigned_Junction': 15039,\n",
       " 'Unassigned_Ambiguity': 52134,\n",
       " 'Unassigned_Chimera': 38381,\n",
       " 'Unassigned_Duplicate': 0,\n",
       " 'Unassigned_FragmentLength': 109827,\n",
       " 'Unassigned_MappingQuality': 0,\n",
       " 'Unassigned_MultiMapping': 484051,\n",
       " 'Unassigned_NoFeatures': 1116050,\n",
       " 'Unassigned_Nonjunction': 0,\n",
       " 'Unassigned_Secondary': 0,\n",
       " 'Unassigned_Unmapped': 15042248}"
      ]
     },
     "execution_count": 57,
     "metadata": {},
     "output_type": "execute_result"
    }
   ],
   "source": [
    "dd"
   ]
  },
  {
   "cell_type": "code",
   "execution_count": 58,
   "metadata": {
    "collapsed": true
   },
   "outputs": [],
   "source": [
    "def clean_types(dic):\n",
    "    newDic = {}\n",
    "    for k, v in dic.items():\n",
    "        if isinstance(v, np.int64):\n",
    "            newDic[k] = int(v)\n",
    "        elif isinstance(v, np.float64):\n",
    "            newDic[k] = float(v)\n",
    "        elif v is np.nan:\n",
    "            pass\n",
    "        elif v is None:\n",
    "            pass\n",
    "        else:\n",
    "            newDic[k] = v\n",
    "    return newDic"
   ]
  },
  {
   "cell_type": "code",
   "execution_count": 59,
   "metadata": {
    "collapsed": false
   },
   "outputs": [
    {
     "data": {
      "text/plain": [
       "{'Assigned': 1003825,\n",
       " 'Assigned_Junction': 15039,\n",
       " 'Unassigned_Ambiguity': 52134,\n",
       " 'Unassigned_Chimera': 38381,\n",
       " 'Unassigned_Duplicate': 0,\n",
       " 'Unassigned_FragmentLength': 109827,\n",
       " 'Unassigned_MappingQuality': 0,\n",
       " 'Unassigned_MultiMapping': 484051,\n",
       " 'Unassigned_NoFeatures': 1116050,\n",
       " 'Unassigned_Nonjunction': 0,\n",
       " 'Unassigned_Secondary': 0,\n",
       " 'Unassigned_Unmapped': 15042248}"
      ]
     },
     "execution_count": 59,
     "metadata": {},
     "output_type": "execute_result"
    }
   ],
   "source": [
    "clean_types(dd)"
   ]
  },
  {
   "cell_type": "code",
   "execution_count": 67,
   "metadata": {
    "collapsed": false
   },
   "outputs": [
    {
     "data": {
      "text/plain": [
       "{'runs': [{'pre_aln_workflow': {'featurecounts': {'Assigned_Junction': 15039,\n",
       "     'PrimaryGene': 'Unassigned_Duplicate',\n",
       "     'SecondaryGenes': 0,\n",
       "     'Site1_chr': nan,\n",
       "     'Site1_location': nan,\n",
       "     'Site1_strand': nan,\n",
       "     'Site2_chr': nan,\n",
       "     'Site2_location': nan,\n",
       "     'Site2_strand': nan,\n",
       "     'count': nan}}}]}"
      ]
     },
     "execution_count": 67,
     "metadata": {},
     "output_type": "execute_result"
    }
   ],
   "source": [
    "curr_feature = remap.find_one({'runs.srr': srr}, {'_id': 0, 'runs.pre_aln_workflow.featurecounts': 1})\n",
    "curr_feature"
   ]
  },
  {
   "cell_type": "code",
   "execution_count": 68,
   "metadata": {
    "collapsed": false
   },
   "outputs": [
    {
     "data": {
      "text/plain": [
       "<pymongo.results.UpdateResult at 0x2aaaf7f6ebd0>"
      ]
     },
     "execution_count": 68,
     "metadata": {},
     "output_type": "execute_result"
    }
   ],
   "source": [
    "remap.update_one({'runs.srr': srr}, {'$set': {'runs.$.pre_aln_workflow.featurecounts': clean_types(dd)}})"
   ]
  },
  {
   "cell_type": "code",
   "execution_count": null,
   "metadata": {
    "collapsed": true
   },
   "outputs": [],
   "source": []
  },
  {
   "cell_type": "code",
   "execution_count": 69,
   "metadata": {
    "collapsed": false
   },
   "outputs": [
    {
     "data": {
      "text/plain": [
       "{'runs': [{'pre_aln_workflow': {'featurecounts': {'Assigned': 1003825,\n",
       "     'Assigned_Junction': 15039,\n",
       "     'Unassigned_Ambiguity': 52134,\n",
       "     'Unassigned_Chimera': 38381,\n",
       "     'Unassigned_Duplicate': 0,\n",
       "     'Unassigned_FragmentLength': 109827,\n",
       "     'Unassigned_MappingQuality': 0,\n",
       "     'Unassigned_MultiMapping': 484051,\n",
       "     'Unassigned_NoFeatures': 1116050,\n",
       "     'Unassigned_Nonjunction': 0,\n",
       "     'Unassigned_Secondary': 0,\n",
       "     'Unassigned_Unmapped': 15042248}}}]}"
      ]
     },
     "execution_count": 69,
     "metadata": {},
     "output_type": "execute_result"
    }
   ],
   "source": [
    "up_feature = remap.find_one({'runs.srr': srr}, {'_id': 0, 'runs.pre_aln_workflow.featurecounts': 1})\n",
    "up_feature"
   ]
  },
  {
   "cell_type": "code",
   "execution_count": null,
   "metadata": {
    "collapsed": true
   },
   "outputs": [],
   "source": []
  }
 ],
 "metadata": {
  "anaconda-cloud": {},
  "kernelspec": {
   "display_name": "Python [conda env:ncbi_remap]",
   "language": "python",
   "name": "conda-env-ncbi_remap-py"
  },
  "language_info": {
   "codemirror_mode": {
    "name": "ipython",
    "version": 3
   },
   "file_extension": ".py",
   "mimetype": "text/x-python",
   "name": "python",
   "nbconvert_exporter": "python",
   "pygments_lexer": "ipython3",
   "version": "3.5.3"
  },
  "nav_menu": {},
  "toc": {
   "navigate_menu": true,
   "number_sections": true,
   "sideBar": true,
   "threshold": 6,
   "toc_cell": false,
   "toc_section_display": "block",
   "toc_window_display": false
  }
 },
 "nbformat": 4,
 "nbformat_minor": 2
}
