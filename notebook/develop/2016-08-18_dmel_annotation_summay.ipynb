{
 "cells": [
  {
   "cell_type": "markdown",
   "metadata": {},
   "source": [
    "The goal of this notebook is to look at basic features of the current Drosophila annotation to get an idea of what \"normal\" is. Mostly it is just going to be a list of counts and lengths of things."
   ]
  },
  {
   "cell_type": "code",
   "execution_count": 1,
   "metadata": {
    "collapsed": false
   },
   "outputs": [],
   "source": [
    "# Imports\n",
    "import gffutils\n",
    "import pandas as pd"
   ]
  },
  {
   "cell_type": "markdown",
   "metadata": {
    "collapsed": false
   },
   "source": [
    "# FlyBase Fb6.09\n",
    "\n",
    "I am going to look at FB6.09, simply because I have the database already built for it."
   ]
  },
  {
   "cell_type": "code",
   "execution_count": 2,
   "metadata": {
    "collapsed": true
   },
   "outputs": [],
   "source": [
    "# load db\n",
    "db = gffutils.FeatureDB('/data/Oliverlab/references/genomes/Dmelanogaster/dm6/annotation/FlyBase_6.09/dmel-all-r6.09.chr.gff.db')"
   ]
  },
  {
   "cell_type": "code",
   "execution_count": 22,
   "metadata": {
    "collapsed": false
   },
   "outputs": [
    {
     "data": {
      "text/plain": [
       "['BAC_cloned_genomic_insert',\n",
       " 'CDS',\n",
       " 'DNA_motif',\n",
       " 'RNAi_reagent',\n",
       " 'TF_binding_site',\n",
       " 'breakpoint',\n",
       " 'chromosome',\n",
       " 'chromosome_band',\n",
       " 'complex_substitution',\n",
       " 'deletion',\n",
       " 'enhancer',\n",
       " 'exon',\n",
       " 'exon_junction',\n",
       " 'five_prime_UTR',\n",
       " 'gene',\n",
       " 'golden_path_region',\n",
       " 'insertion_site',\n",
       " 'insulator',\n",
       " 'intron',\n",
       " 'mRNA',\n",
       " 'match',\n",
       " 'match_part',\n",
       " 'mature_peptide',\n",
       " 'miRNA',\n",
       " 'modified_RNA_base_feature',\n",
       " 'ncRNA',\n",
       " 'oligonucleotide',\n",
       " 'origin_of_replication',\n",
       " 'orthologous_region',\n",
       " 'orthologous_to',\n",
       " 'pcr_product',\n",
       " 'point_mutation',\n",
       " 'polyA_site',\n",
       " 'pre_miRNA',\n",
       " 'protein',\n",
       " 'protein_binding_site',\n",
       " 'pseudogene',\n",
       " 'rRNA',\n",
       " 'region',\n",
       " 'regulatory_region',\n",
       " 'repeat_region',\n",
       " 'rescue_fragment',\n",
       " 'sequence_variant',\n",
       " 'silencer',\n",
       " 'snRNA',\n",
       " 'snoRNA',\n",
       " 'syntenic_region',\n",
       " 'tRNA',\n",
       " 'tandem_repeat',\n",
       " 'three_prime_UTR',\n",
       " 'transcription_start_site',\n",
       " 'transposable_element',\n",
       " 'transposable_element_insertion_site',\n",
       " 'uncharacterized_change_in_nucleotide_sequence']"
      ]
     },
     "execution_count": 22,
     "metadata": {},
     "output_type": "execute_result"
    }
   ],
   "source": [
    "list(db.featuretypes())"
   ]
  },
  {
   "cell_type": "code",
   "execution_count": 51,
   "metadata": {
    "collapsed": true
   },
   "outputs": [],
   "source": [
    "class summary(object):\n",
    "    def __init__(self, parent):\n",
    "        parent_map = {\n",
    "            'gene': 'mRNA',\n",
    "            'mRNA': 'exon'\n",
    "        }\n",
    "        self.parent = parent\n",
    "        self.length = len(parent)\n",
    "        if parent.featuretype != 'exon':\n",
    "            children = list(db.children(parent, featuretype=parent_map[parent.featuretype]))\n",
    "            self.num_children = len(children)\n",
    "            self.children = self.parse_child(children)\n",
    "    \n",
    "    @classmethod\n",
    "    def parse_child(cls, children):\n",
    "        childs = []\n",
    "        for child in children:\n",
    "            childs.append(cls(child))\n",
    "        return childs"
   ]
  },
  {
   "cell_type": "code",
   "execution_count": 23,
   "metadata": {
    "collapsed": false
   },
   "outputs": [],
   "source": [
    "gene = db['FBgn0264270']"
   ]
  },
  {
   "cell_type": "code",
   "execution_count": 24,
   "metadata": {
    "collapsed": false
   },
   "outputs": [
    {
     "data": {
      "text/plain": [
       "23504"
      ]
     },
     "execution_count": 24,
     "metadata": {},
     "output_type": "execute_result"
    }
   ],
   "source": [
    "len(gene)"
   ]
  },
  {
   "cell_type": "code",
   "execution_count": 43,
   "metadata": {
    "collapsed": false
   },
   "outputs": [],
   "source": [
    "bob = list(db.children(gene, featuretype='mRNA'))"
   ]
  },
  {
   "cell_type": "code",
   "execution_count": 50,
   "metadata": {
    "collapsed": false
   },
   "outputs": [
    {
     "data": {
      "text/plain": [
       "'mRNA'"
      ]
     },
     "execution_count": 50,
     "metadata": {},
     "output_type": "execute_result"
    }
   ],
   "source": [
    "bob[0].featuretype"
   ]
  },
  {
   "cell_type": "code",
   "execution_count": 52,
   "metadata": {
    "collapsed": false
   },
   "outputs": [],
   "source": [
    "s = summary(bob[0])"
   ]
  },
  {
   "cell_type": "code",
   "execution_count": 49,
   "metadata": {
    "collapsed": false
   },
   "outputs": [
    {
     "data": {
      "text/plain": [
       "[<Feature exon (chrX:7077871-7079367[-]) at 0x2aaae5e3b198>,\n",
       " <Feature exon (chrX:7084599-7084819[-]) at 0x2aaae5e3b5c0>,\n",
       " <Feature exon (chrX:7085158-7085339[-]) at 0x2aaae5e3b0f0>,\n",
       " <Feature exon (chrX:7085410-7085517[-]) at 0x2aaae5e3b6d8>,\n",
       " <Feature exon (chrX:7085619-7085954[-]) at 0x2aaae5e495f8>,\n",
       " <Feature exon (chrX:7087614-7087659[-]) at 0x2aaae5e49748>,\n",
       " <Feature exon (chrX:7091674-7092122[-]) at 0x2aaae5e495c0>,\n",
       " <Feature exon (chrX:7098001-7098053[-]) at 0x2aaae5e490b8>]"
      ]
     },
     "execution_count": 49,
     "metadata": {},
     "output_type": "execute_result"
    }
   ],
   "source": [
    "list(db.children(bob[0], featuretype='exon'))"
   ]
  },
  {
   "cell_type": "code",
   "execution_count": 53,
   "metadata": {
    "collapsed": false
   },
   "outputs": [
    {
     "data": {
      "text/plain": [
       "<__main__.summary at 0x2aaae5e3bf98>"
      ]
     },
     "execution_count": 53,
     "metadata": {},
     "output_type": "execute_result"
    }
   ],
   "source": [
    "s"
   ]
  },
  {
   "cell_type": "code",
   "execution_count": 55,
   "metadata": {
    "collapsed": false
   },
   "outputs": [
    {
     "ename": "AttributeError",
     "evalue": "'list' object has no attribute 'children'",
     "output_type": "error",
     "traceback": [
      "\u001b[0;31m---------------------------------------------------------------------------\u001b[0m",
      "\u001b[0;31mAttributeError\u001b[0m                            Traceback (most recent call last)",
      "\u001b[0;32m<ipython-input-55-29ed7657ddc6>\u001b[0m in \u001b[0;36m<module>\u001b[0;34m()\u001b[0m\n\u001b[0;32m----> 1\u001b[0;31m \u001b[0ms\u001b[0m\u001b[0;34m.\u001b[0m\u001b[0mchildren\u001b[0m\u001b[0;34m.\u001b[0m\u001b[0mchildren\u001b[0m\u001b[0;34m\u001b[0m\u001b[0m\n\u001b[0m",
      "\u001b[0;31mAttributeError\u001b[0m: 'list' object has no attribute 'children'"
     ]
    }
   ],
   "source": [
    "s.children.children"
   ]
  },
  {
   "cell_type": "code",
   "execution_count": null,
   "metadata": {
    "collapsed": true
   },
   "outputs": [],
   "source": []
  }
 ],
 "metadata": {
  "kernelspec": {
   "display_name": "Python 3",
   "language": "python",
   "name": "python3"
  },
  "language_info": {
   "codemirror_mode": {
    "name": "ipython",
    "version": 3
   },
   "file_extension": ".py",
   "mimetype": "text/x-python",
   "name": "python",
   "nbconvert_exporter": "python",
   "pygments_lexer": "ipython3",
   "version": "3.5.2"
  },
  "latex_envs": {
   "bibliofile": "biblio.bib",
   "cite_by": "apalike",
   "current_citInitial": 1,
   "eqLabelWithNumbers": true,
   "eqNumInitial": 0
  },
  "nav_menu": {},
  "report": {
   "author": "Justin Fear",
   "date": "2016-08-18",
   "email": "justin.m.fear@gmail.com",
   "title": "Summary of Drosophila Genes and Transcripts"
  },
  "toc": {
   "navigate_menu": true,
   "number_sections": false,
   "sideBar": true,
   "threshold": 6,
   "toc_cell": false,
   "toc_section_display": "block",
   "toc_window_display": true
  }
 },
 "nbformat": 4,
 "nbformat_minor": 0
}
