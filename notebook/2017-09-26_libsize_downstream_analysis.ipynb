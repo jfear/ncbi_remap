{
 "cells": [
  {
   "cell_type": "markdown",
   "metadata": {},
   "source": [
    "During the pre-pre-alignment workflow I estimate library size. I can be expected that a high quality sample should have a minimum library size of say 1 million reads. By looking at library sizes I can exclude potentially problematic samples with very low number of reads."
   ]
  },
  {
   "cell_type": "code",
   "execution_count": 1,
   "metadata": {
    "code_folding": [
     0
    ]
   },
   "outputs": [
    {
     "name": "stdout",
     "output_type": "stream",
     "text": [
      "last updated: 2017-09-26 \n",
      "Git hash: db5dd6c127e957b2eb686579f7d9fb7c0f2b1235\n"
     ]
    }
   ],
   "source": [
    "# %load ../start.py\n",
    "# Load useful extensions\n",
    "\n",
    "# Activate the autoreload extension for easy reloading of external packages\n",
    "%reload_ext autoreload\n",
    "%autoreload 2\n",
    "\n",
    "# Trun on the water mark\n",
    "%reload_ext watermark\n",
    "%watermark -u -d -g\n",
    "\n",
    "# Load ipycache extension\n",
    "%reload_ext ipycache\n",
    "from ipycache import CacheMagics\n",
    "CacheMagics.cachedir = '../cachedir'\n",
    "\n",
    "# Add project library to path\n",
    "import sys\n",
    "sys.path.insert(0, '../../lib/python')\n",
    "\n",
    "# The usual suspects\n",
    "import os\n",
    "import numpy as np\n",
    "import pandas as pd\n",
    "\n",
    "# plotting\n",
    "import matplotlib as mpl\n",
    "import matplotlib.pyplot as plt\n",
    "import seaborn as sns\n",
    "\n",
    "%matplotlib inline\n",
    "sns.set_context('notebook')\n",
    "\n",
    "# Turn off scientific notation\n",
    "np.set_printoptions(precision=5, suppress=True)\n"
   ]
  },
  {
   "cell_type": "code",
   "execution_count": 2,
   "metadata": {
    "code_folding": [
     0
    ],
    "collapsed": true
   },
   "outputs": [],
   "source": [
    "# %load ../../bin/load.py\n",
    "from pymongo import MongoClient\n",
    "with open('/home/fearjm/Projects/ncbi_remap/output/.mongodb_host', 'r') as fh:\n",
    "    host = fh.read().strip()\n",
    "client = MongoClient(host=host, port=27022)\n",
    "db = client['sra2']\n",
    "remap = db['remap']\n"
   ]
  },
  {
   "cell_type": "code",
   "execution_count": 3,
   "metadata": {
    "code_folding": [
     0
    ],
    "collapsed": true
   },
   "outputs": [],
   "source": [
    "# Query DB and get read information.\n",
    "\n",
    "## Quick count for sanity\n",
    "num_runs = list(remap.aggregate([\n",
    "    {'$unwind': '$runs'},\n",
    "    {\n",
    "        '$match': {\n",
    "            '$and': [\n",
    "                {'runs.pre_aln_flags': 'complete'},\n",
    "            ]\n",
    "        }\n",
    "    },\n",
    "    {'$count': 'cnt'}\n",
    "]))[0]['cnt']"
   ]
  },
  {
   "cell_type": "code",
   "execution_count": 4,
   "metadata": {
    "code_folding": [
     0
    ],
    "collapsed": true
   },
   "outputs": [],
   "source": [
    "# Make read information dataframes\n",
    "\n",
    "## Single End\n",
    "dfSE = pd.DataFrame(list(remap.aggregate([\n",
    "    {'$unwind': '$runs'},\n",
    "    {\n",
    "        '$match': {\n",
    "            '$and': [\n",
    "                {'runs.pre_aln_flags': 'complete'},\n",
    "                {'runs.pre_aln_flags': 'SE'},\n",
    "            ]\n",
    "        }\n",
    "    },\n",
    "    {\n",
    "        '$project': {\n",
    "            '_id': 0,\n",
    "            'srx': '$srx',\n",
    "            'srr': '$runs.srr',\n",
    "            'libsize': {\n",
    "                '$cond': [\n",
    "                    {'$in': ['keep_R2', '$runs.pre_aln_flags']}, \n",
    "                    '$runs.libsize.R2',\n",
    "                    '$runs.libsize.R1'\n",
    "                ]\n",
    "            },\n",
    "            'len': {\n",
    "                '$cond': [\n",
    "                    {'$in': ['keep_R2', '$runs.pre_aln_flags']}, \n",
    "                    '$runs.avgReadLen.R2',\n",
    "                    '$runs.avgReadLen.R1'\n",
    "                ]\n",
    "            },\n",
    "            'hisat_num_reads': '$runs.pre_aln_workflow.hisat2.num_reads',\n",
    "        }\n",
    "    },\n",
    "])))\n",
    "\n",
    "## Pair End \n",
    "dfPE = pd.DataFrame(list(remap.aggregate([ {'$unwind': '$runs'},\n",
    "    {\n",
    "        '$match': {\n",
    "            '$and': [\n",
    "                {'runs.pre_aln_flags': 'complete'},\n",
    "                {'runs.pre_aln_flags': 'PE'},\n",
    "            ]\n",
    "        }\n",
    "    },\n",
    "    {\n",
    "        '$project': {\n",
    "            '_id': 0,\n",
    "            'srx': '$srx',\n",
    "            'srr': '$runs.srr',\n",
    "            'libsize_R1': '$runs.libsize.R1',\n",
    "            'libsize_R2': '$runs.libsize.R2',\n",
    "            'len_R1': '$runs.avgReadLen.R1',\n",
    "            'len_R2': '$runs.avgReadLen.R2',\n",
    "            'hisat_num_reads': '$runs.pre_aln_workflow.hisat2.num_reads',\n",
    "        }\n",
    "    },\n",
    "])))\n",
    "\n",
    "## Make sure read 1 equals read 2. The pipeline should drop \n",
    "## unpaired reads so they should be the same\n",
    "assert (dfPE.libsize_R1 == dfPE.libsize_R2).all()\n",
    "\n",
    "## only keep R1 for easier matching with SE data.\n",
    "dfPE.drop('libsize_R2', axis=1, inplace=True)\n",
    "dfPE.drop('len_R2', axis=1, inplace=True)\n",
    "dfPE.rename(columns={'libsize_R1': 'libsize', 'len_R1': 'len'}, inplace=True)\n",
    "\n",
    "# concat SE and PE\n",
    "df = pd.concat([dfSE, dfPE])\n",
    "df.set_index(['srx', 'srr'], inplace=True)\n",
    "\n",
    "# Test that we have all of the completed samples.\n",
    "assert num_runs == df.shape[0]"
   ]
  },
  {
   "cell_type": "markdown",
   "metadata": {},
   "source": [
    "# Library Size"
   ]
  },
  {
   "cell_type": "code",
   "execution_count": 5,
   "metadata": {
    "code_folding": [
     0
    ]
   },
   "outputs": [
    {
     "data": {
      "image/png": "[encoded data removed]",
      "text/plain": [
       "<matplotlib.figure.Figure at 0x2aaadc00e128>"
      ]
     },
     "metadata": {},
     "output_type": "display_data"
    }
   ],
   "source": [
    "# plot distribution of library size\n",
    "ax = sns.distplot(np.log10(df.libsize))\n",
    "ax.axvline(np.log10(1e6), ls='--', lw=2, color='r', label='1 million reads')\n",
    "ax.axvline(np.log10(1e5), ls='--', lw=2, color=sns.xkcd_rgb['amber'], label='1 hundred thousand reads')\n",
    "ax.legend()\n",
    "ax.set_xlabel('log10 Number of Reads')\n",
    "ax.set_ylabel('Density')\n",
    "ax.set_title('Library Size Distribution');"
   ]
  },
  {
   "cell_type": "code",
   "execution_count": 6,
   "metadata": {
    "code_folding": [
     0
    ]
   },
   "outputs": [],
   "source": [
    "# Add flags for low library size\n",
    "df['flag_low_libsize'] = False\n",
    "df.loc[df.libsize < 1e5, 'flag_low_libsize'] = True"
   ]
  },
  {
   "cell_type": "code",
   "execution_count": 7,
   "metadata": {
    "code_folding": [
     0
    ]
   },
   "outputs": [
    {
     "data": {
      "text/plain": [
       "2102"
      ]
     },
     "execution_count": 7,
     "metadata": {},
     "output_type": "execute_result"
    }
   ],
   "source": [
    "# How many samples are filtered with this flag?\n",
    "df.flag_low_libsize.sum()"
   ]
  },
  {
   "cell_type": "markdown",
   "metadata": {},
   "source": [
    "# Read Length"
   ]
  },
  {
   "cell_type": "code",
   "execution_count": 13,
   "metadata": {
    "code_folding": [
     0
    ]
   },
   "outputs": [
    {
     "data": {
      "image/png": "[encoded data removed]",
      "text/plain": [
       "<matplotlib.figure.Figure at 0x2aaae8cfa8d0>"
      ]
     },
     "metadata": {},
     "output_type": "display_data"
    }
   ],
   "source": [
    "# plot distribution of read lengths\n",
    "ax = sns.distplot(df.len, bins=100)\n",
    "ax.set_xlim(0, 200);"
   ]
  },
  {
   "cell_type": "code",
   "execution_count": 20,
   "metadata": {
    "code_folding": []
   },
   "outputs": [],
   "source": [
    "# make flags for short reads\n",
    "df['flag_short_read_len'] = False\n",
    "df.loc[df.len < 30, 'flag_short_read_len'] = True"
   ]
  },
  {
   "cell_type": "code",
   "execution_count": 21,
   "metadata": {
    "code_folding": []
   },
   "outputs": [
    {
     "data": {
      "text/plain": [
       "697"
      ]
     },
     "execution_count": 21,
     "metadata": {},
     "output_type": "execute_result"
    }
   ],
   "source": [
    "# How many samples do we lose with short reads\n",
    "df.flag_short_read_len.sum()"
   ]
  },
  {
   "cell_type": "code",
   "execution_count": null,
   "metadata": {
    "collapsed": true
   },
   "outputs": [],
   "source": []
  }
 ],
 "metadata": {
  "kernelspec": {
   "display_name": "Python [conda env:ncbi_remap]",
   "language": "python",
   "name": "conda-env-ncbi_remap-py"
  },
  "toc": {
   "nav_menu": {},
   "number_sections": true,
   "sideBar": true,
   "skip_h1_title": false,
   "toc_cell": false,
   "toc_position": {},
   "toc_section_display": "block",
   "toc_window_display": false
  }
 },
 "nbformat": 4,
 "nbformat_minor": 2
}
