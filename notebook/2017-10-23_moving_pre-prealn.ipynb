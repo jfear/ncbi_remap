{
 "cells": [
  {
   "cell_type": "markdown",
   "metadata": {},
   "source": [
    "# Moving Pre Pre-alginment workflow"
   ]
  },
  {
   "cell_type": "markdown",
   "metadata": {
    "code_folding": []
   },
   "source": [
    "I have been refactoring the pre-pre and pre-aln workflows. Now I want to move the output over to its new location. "
   ]
  },
  {
   "cell_type": "code",
   "execution_count": 4,
   "metadata": {},
   "outputs": [
    {
     "name": "stdout",
     "output_type": "stream",
     "text": [
      "last updated: 2017-10-23 \n",
      "Git hash: f4928a44e103faef45c057e2d4a3c312df6f3bfb\n"
     ]
    }
   ],
   "source": [
    "# %load ../start.py\n",
    "# Load useful extensions\n",
    "\n",
    "# Activate the autoreload extension for easy reloading of external packages\n",
    "%reload_ext autoreload\n",
    "%autoreload 2\n",
    "\n",
    "# Trun on the water mark\n",
    "%reload_ext watermark\n",
    "%watermark -u -d -g\n",
    "\n",
    "# Load ipycache extension\n",
    "%reload_ext ipycache\n",
    "from ipycache import CacheMagics\n",
    "CacheMagics.cachedir = '../cachedir'\n",
    "\n",
    "# Add project library to path\n",
    "import sys\n",
    "sys.path.insert(0, '../../lib/python')\n",
    "\n",
    "# The usual suspects\n",
    "import os\n",
    "import numpy as np\n",
    "import pandas as pd\n",
    "\n",
    "# plotting\n",
    "import matplotlib as mpl\n",
    "import matplotlib.pyplot as plt\n",
    "import seaborn as sns\n",
    "\n",
    "%matplotlib inline\n",
    "sns.set_context('poster')\n",
    "\n",
    "# Turn off scientific notation\n",
    "np.set_printoptions(precision=5, suppress=True)\n"
   ]
  },
  {
   "cell_type": "code",
   "execution_count": 5,
   "metadata": {},
   "outputs": [],
   "source": [
    "# %load ../../bin/load.py\n",
    "from pymongo import MongoClient\n",
    "with open('/home/fearjm/Projects/ncbi_remap/output/.mongodb_host', 'r') as fh:\n",
    "    host = fh.read().strip()\n",
    "client = MongoClient(host=host, port=27022)\n",
    "db = client['sra2']\n",
    "remap = db['remap']\n"
   ]
  },
  {
   "cell_type": "code",
   "execution_count": 18,
   "metadata": {},
   "outputs": [],
   "source": [
    "import shutil\n",
    "from pathlib import Path"
   ]
  },
  {
   "cell_type": "code",
   "execution_count": 10,
   "metadata": {},
   "outputs": [],
   "source": [
    "store = pd.HDFStore('../../sra.h5', mode='r')"
   ]
  },
  {
   "cell_type": "code",
   "execution_count": 69,
   "metadata": {},
   "outputs": [],
   "source": [
    "def move_fastq(srx=None, srr=None, fname=None):\n",
    "    orig1 = '../../output/pre-prealignment/raw/{srx}/{srr}/{srr}_1.fastq.gz'.format(srx=srx, srr=srr)\n",
    "    orig2 = '../../output/pre-prealignment/raw/{srx}/{srr}/{srr}_2.fastq.gz'.format(srx=srx, srr=srr)\n",
    "    new1 = '../../output/prealn-wf/samples/{srx}/{srr}/{srr}_1.fastq.gz'.format(srx=srx, srr=srr)\n",
    "    new2 = '../../output/prealn-wf/samples/{srx}/{srr}/{srr}_2.fastq.gz'.format(srx=srx, srr=srr)\n",
    "    \n",
    "    os.makedirs(os.path.dirname(new1), exist_ok=True)\n",
    "    os.makedirs(os.path.dirname(new2), exist_ok=True)\n",
    "    \n",
    "    try:\n",
    "        if fname == 'SE':\n",
    "            shutil.move(orig1, new1)\n",
    "            Path(new2).touch()\n",
    "        elif fname == 'PE':\n",
    "            shutil.move(orig1, new1)\n",
    "            shutil.move(orig2, new2)\n",
    "        elif fname == 'keep_R1':\n",
    "            shutil.move(orig1, new1)\n",
    "            Path(new2).touch()\n",
    "        elif fname == 'keep_R2':\n",
    "            Path(new1).touch()\n",
    "            shutil.move(orig2, new2)\n",
    "    except FileNotFoundError as e:\n",
    "        pass"
   ]
  },
  {
   "cell_type": "code",
   "execution_count": 71,
   "metadata": {},
   "outputs": [],
   "source": [
    "for i, record in store['layout/SE'].iterrows():\n",
    "    move_fastq(fname='SE', **record.to_dict())"
   ]
  },
  {
   "cell_type": "code",
   "execution_count": 72,
   "metadata": {},
   "outputs": [],
   "source": [
    "for i, record in store['layout/PE'].iterrows():\n",
    "    move_fastq(fname='PE', **record.to_dict())"
   ]
  },
  {
   "cell_type": "code",
   "execution_count": 74,
   "metadata": {},
   "outputs": [],
   "source": [
    "for i, record in store['layout/keep_R1'].iterrows():\n",
    "    move_fastq(fname='keep_R1', **record.to_dict())"
   ]
  },
  {
   "cell_type": "code",
   "execution_count": 73,
   "metadata": {},
   "outputs": [],
   "source": [
    "for i, record in store['layout/keep_R2'].iterrows():\n",
    "    move_fastq(fname='keep_R2', **record.to_dict())"
   ]
  }
 ],
 "metadata": {
  "kernelspec": {
   "display_name": "Python [conda env:ncbi_remap]",
   "language": "python",
   "name": "conda-env-ncbi_remap-py"
  },
  "language_info": {
   "codemirror_mode": {
    "name": "ipython",
    "version": 3
   },
   "file_extension": ".py",
   "mimetype": "text/x-python",
   "name": "python",
   "nbconvert_exporter": "python",
   "pygments_lexer": "ipython3",
   "version": "3.5.4"
  },
  "toc": {
   "nav_menu": {},
   "number_sections": false,
   "sideBar": true,
   "skip_h1_title": false,
   "toc_cell": false,
   "toc_position": {},
   "toc_section_display": "block",
   "toc_window_display": false
  }
 },
 "nbformat": 4,
 "nbformat_minor": 2
}
