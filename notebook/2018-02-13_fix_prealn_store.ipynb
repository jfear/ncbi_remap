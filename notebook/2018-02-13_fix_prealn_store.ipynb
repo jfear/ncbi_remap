{
 "cells": [
  {
   "cell_type": "markdown",
   "metadata": {},
   "source": [
    "# Reset Pre-Aln Store"
   ]
  },
  {
   "cell_type": "markdown",
   "metadata": {},
   "source": [
    "A while ago I did some restructuring of the data store. I am running into some residual issues that I need to figure out and fix now."
   ]
  },
  {
   "cell_type": "code",
   "execution_count": 1,
   "metadata": {},
   "outputs": [
    {
     "name": "stdout",
     "output_type": "stream",
     "text": [
      "last updated: 2018-02-14 \n",
      "Git hash: 95602bf685870de470e3ae5acec5a8111e0b6da7\n"
     ]
    }
   ],
   "source": [
    "import os\n",
    "import sys\n",
    "import re\n",
    "import gzip\n",
    "\n",
    "import numpy as np\n",
    "import pandas as pd\n",
    "from dask import delayed, compute\n",
    "from dask.distributed import Client\n",
    "\n",
    "import matplotlib as mpl\n",
    "import matplotlib.pyplot as plt\n",
    "import seaborn as sns\n",
    "\n",
    "# Project level imports\n",
    "sys.path.insert(0, '../lib')\n",
    "from ncbi_remap.notebook import Nb\n",
    "from ncbi_remap.plotting import make_figs\n",
    "\n",
    "# Setup notebook\n",
    "nbconfig = Nb.setup_notebook()\n",
    "\n",
    "# Turn on cache\n",
    "from joblib import Memory\n",
    "memory = Memory(cachedir=nbconfig.cache, verbose=0)\n",
    "\n",
    "# Connect to data store\n",
    "store = pd.HDFStore('../sra.h5', mode='a')\n",
    "\n",
    "client = Client()"
   ]
  },
  {
   "cell_type": "code",
   "execution_count": 3,
   "metadata": {},
   "outputs": [],
   "source": [
    "# Which things to rebuild\n",
    "LAYOUT = False\n",
    "STRAND = False\n",
    "DOWNLOAD_BAD = False\n",
    "QUALITY_BAD = False\n",
    "ALIGNMENT_BAD = False\n",
    "ABI_SOLID = False"
   ]
  },
  {
   "cell_type": "code",
   "execution_count": 4,
   "metadata": {},
   "outputs": [
    {
     "data": {
      "text/plain": [
       "/ (RootGroup) ''\n",
       "  children := ['aln' (Group), 'ids' (Group), 'layout' (Group), 'prealn' (Group), 'strand' (Group)]"
      ]
     },
     "execution_count": 4,
     "metadata": {},
     "output_type": "execute_result"
    }
   ],
   "source": [
    "store.root"
   ]
  },
  {
   "cell_type": "code",
   "execution_count": 5,
   "metadata": {},
   "outputs": [
    {
     "data": {
      "text/plain": [
       "/prealn (Group) ''\n",
       "  children := ['abi_solid' (Group), 'alignment_bad' (Group), 'complete' (Group), 'download_bad' (Group), 'flags' (Group), 'qc_passed' (Group), 'quality_scores_bad' (Group), 'queue' (Group), 'spearman' (Group), 'workflow' (Group)]"
      ]
     },
     "execution_count": 5,
     "metadata": {},
     "output_type": "execute_result"
    }
   ],
   "source": [
    "store.root.prealn"
   ]
  },
  {
   "cell_type": "code",
   "execution_count": 6,
   "metadata": {},
   "outputs": [
    {
     "data": {
      "text/plain": [
       "/prealn/workflow (Group) ''\n",
       "  children := ['bamtools_stats' (Group), 'collectrnaseqmetrics' (Group), 'fastq' (Group), 'fastq_screen' (Group), 'feature_counts' (Group), 'hisat2' (Group), 'markduplicates' (Group), 'merge' (Group), 'samtools_idxstats' (Group), 'samtools_stats' (Group)]"
      ]
     },
     "execution_count": 6,
     "metadata": {},
     "output_type": "execute_result"
    }
   ],
   "source": [
    "store.root.prealn.workflow"
   ]
  },
  {
   "cell_type": "code",
   "execution_count": 7,
   "metadata": {},
   "outputs": [],
   "source": [
    "ids = store['ids']"
   ]
  },
  {
   "cell_type": "code",
   "execution_count": 8,
   "metadata": {},
   "outputs": [],
   "source": [
    "def check_file(fname):\n",
    "    with open(fname, 'r') as fh:\n",
    "        return fh.read().strip()\n",
    "\n",
    "def get_val(srx, srr, pattern):\n",
    "    try:\n",
    "        fname = pattern\n",
    "        return [srx, srr, check_file(fname.format(srx=srx, srr=srr))]\n",
    "    except FileNotFoundError:\n",
    "        return [srx, srr, 'Missing']\n",
    "\n",
    "def get_vals(pattern):\n",
    "    futures = []\n",
    "    for idx, (srx, srr) in ids.iterrows():\n",
    "        futures.append(delayed(get_val)(srx, srr, pattern))\n",
    "\n",
    "    res = client.compute(futures)\n",
    "    return client.gather(res)"
   ]
  },
  {
   "cell_type": "markdown",
   "metadata": {},
   "source": [
    "To track status go [here](http://localhost:8787)"
   ]
  },
  {
   "cell_type": "markdown",
   "metadata": {},
   "source": [
    "## Set Layout"
   ]
  },
  {
   "cell_type": "markdown",
   "metadata": {},
   "source": [
    "I noticed that somehow Layout and Strand are the same table. I am going to go head and re-build these datasets in the queue."
   ]
  },
  {
   "cell_type": "code",
   "execution_count": 9,
   "metadata": {},
   "outputs": [],
   "source": [
    "if LAYOUT:\n",
    "    dat = get_vals('../output/prealn-wf/samples/{srx}/{srr}/LAYOUT')\n",
    "    srs = pd.DataFrame(dat, columns=['srx', 'srr', 'layout']).set_index(['srx', 'srr']).iloc[:, 0]\n",
    "    store['layout'] = srs"
   ]
  },
  {
   "cell_type": "markdown",
   "metadata": {},
   "source": [
    "## Set Strand"
   ]
  },
  {
   "cell_type": "code",
   "execution_count": 10,
   "metadata": {},
   "outputs": [],
   "source": [
    "if STRAND:\n",
    "    dat = get_vals('../output/prealn-wf/samples/{srx}/{srr}/STRAND')\n",
    "    srs = pd.DataFrame(dat, columns=['srx', 'srr', 'strand']).set_index(['srx', 'srr']).iloc[:, 0]\n",
    "    store['strand'] = srs"
   ]
  },
  {
   "cell_type": "markdown",
   "metadata": {},
   "source": [
    "## Set Alignment Bad"
   ]
  },
  {
   "cell_type": "code",
   "execution_count": 11,
   "metadata": {},
   "outputs": [],
   "source": [
    "if ALIGNMENT_BAD:\n",
    "    dat = get_vals('../output/prealn-wf/samples/{srx}/{srr}/ALIGNMENT_BAD')\n",
    "    srs = pd.DataFrame(dat, columns=['srx', 'srr', 'alignment_bad']).set_index(['srx', 'srr']).iloc[:, 0]\n",
    "    store['prealn/alignment_bad'] = srs.replace(to_replace='Missing', value=False).replace('', True)"
   ]
  },
  {
   "cell_type": "markdown",
   "metadata": {},
   "source": [
    "## Set Download Bad"
   ]
  },
  {
   "cell_type": "code",
   "execution_count": 12,
   "metadata": {},
   "outputs": [],
   "source": [
    "if DOWNLOAD_BAD:\n",
    "    dat = get_vals('../output/prealn-wf/samples/{srx}/{srr}/DOWNLOAD_BAD')\n",
    "    srs = pd.DataFrame(dat, columns=['srx', 'srr', 'download_bad']).set_index(['srx', 'srr']).iloc[:, 0]\n",
    "    store['prealn/download_bad'] = srs.replace(to_replace='Missing', value=False).replace('', True)"
   ]
  },
  {
   "cell_type": "markdown",
   "metadata": {},
   "source": [
    "## Set Quality Scores Bad"
   ]
  },
  {
   "cell_type": "code",
   "execution_count": 13,
   "metadata": {},
   "outputs": [],
   "source": [
    "if QUALITY_BAD:\n",
    "    dat = get_vals('../output/prealn-wf/samples/{srx}/{srr}/QUALITY')\n",
    "    srs = pd.DataFrame(dat, columns=['srx', 'srr', 'quality_scores_bad']).set_index(['srx', 'srr']).iloc[:, 0]\n",
    "    store['prealn/quality_scores_bad'] = srs.replace(to_replace='Missing', value=False).replace('', True)"
   ]
  },
  {
   "cell_type": "markdown",
   "metadata": {},
   "source": [
    "## Set ABI SOLID"
   ]
  },
  {
   "cell_type": "code",
   "execution_count": 14,
   "metadata": {},
   "outputs": [],
   "source": [
    "def check_solid(srx, srr):\n",
    "    try:\n",
    "        layout = check_file(f'../output/prealn-wf/samples/{srx}/{srr}/LAYOUT')\n",
    "        if layout == 'SE' or layout == 'PE' or layout == 'keep_R1':\n",
    "            fname = f'../output/prealn-wf/samples/{srx}/{srr}/{srr}_1.fastq.gz'\n",
    "        else:\n",
    "            fname = f'../output/prealn-wf/samples/{srx}/{srr}/{srr}_2.fastq.gz'\n",
    "        \n",
    "        with gzip.open(fname, 'rt') as fh:\n",
    "            _, l = fh.readline(), fh.readline()\n",
    "            if l.startswith('T'): \n",
    "                return srx, srr, True\n",
    "            \n",
    "    except FileNotFoundError:\n",
    "        return srx, srr, 'Missing'\n",
    "    \n",
    "    return srx, srr, False"
   ]
  },
  {
   "cell_type": "code",
   "execution_count": 15,
   "metadata": {},
   "outputs": [],
   "source": [
    "if ABI_SOLID:\n",
    "    futures = []\n",
    "    for i, (srx, srr) in ids.iterrows():\n",
    "        futures.append(delayed(check_solid)(srx, srr))\n",
    "\n",
    "    res = client.gather(client.compute(futures))\n",
    "    _dd = pd.DataFrame(res, columns=['srx', 'srr', 'abi_solid'])\n",
    "    store['prealn/abi_solid'] = _dd.replace({'Missing': False}).set_index(['srx', 'srr']).iloc[:, 0]"
   ]
  },
  {
   "cell_type": "markdown",
   "metadata": {},
   "source": [
    "## Summary"
   ]
  },
  {
   "cell_type": "code",
   "execution_count": 16,
   "metadata": {},
   "outputs": [
    {
     "data": {
      "text/plain": [
       "SE         20338\n",
       "PE          7888\n",
       "Missing     6484\n",
       "keep_R1      536\n",
       "keep_R2      117\n",
       "Name: layout, dtype: int64"
      ]
     },
     "execution_count": 16,
     "metadata": {},
     "output_type": "execute_result"
    }
   ],
   "source": [
    "store['layout'].value_counts()"
   ]
  },
  {
   "cell_type": "code",
   "execution_count": 17,
   "metadata": {},
   "outputs": [
    {
     "data": {
      "text/plain": [
       "unstranded         18808\n",
       "Missing             8001\n",
       "opposite_strand     5482\n",
       "same_strand         3072\n",
       "Name: strand, dtype: int64"
      ]
     },
     "execution_count": 17,
     "metadata": {},
     "output_type": "execute_result"
    }
   ],
   "source": [
    "store['strand'].value_counts()"
   ]
  },
  {
   "cell_type": "code",
   "execution_count": 18,
   "metadata": {},
   "outputs": [
    {
     "data": {
      "text/plain": [
       "False    35082\n",
       "True       281\n",
       "Name: download_bad, dtype: int64"
      ]
     },
     "execution_count": 18,
     "metadata": {},
     "output_type": "execute_result"
    }
   ],
   "source": [
    "store['prealn/download_bad'].value_counts()"
   ]
  },
  {
   "cell_type": "code",
   "execution_count": 19,
   "metadata": {},
   "outputs": [
    {
     "data": {
      "text/plain": [
       "False    35359\n",
       "True         4\n",
       "Name: quality_scores_bad, dtype: int64"
      ]
     },
     "execution_count": 19,
     "metadata": {},
     "output_type": "execute_result"
    }
   ],
   "source": [
    "store['prealn/quality_scores_bad'].value_counts()"
   ]
  },
  {
   "cell_type": "code",
   "execution_count": 20,
   "metadata": {},
   "outputs": [
    {
     "data": {
      "text/plain": [
       "False    32389\n",
       "True      2974\n",
       "Name: abi_solid, dtype: int64"
      ]
     },
     "execution_count": 20,
     "metadata": {},
     "output_type": "execute_result"
    }
   ],
   "source": [
    "store['prealn/abi_solid'].value_counts()"
   ]
  },
  {
   "cell_type": "code",
   "execution_count": 21,
   "metadata": {},
   "outputs": [
    {
     "data": {
      "text/plain": [
       "False    33006\n",
       "True      2357\n",
       "Name: alignment_bad, dtype: int64"
      ]
     },
     "execution_count": 21,
     "metadata": {},
     "output_type": "execute_result"
    }
   ],
   "source": [
    "store['prealn/alignment_bad'].value_counts()"
   ]
  },
  {
   "cell_type": "code",
   "execution_count": 22,
   "metadata": {},
   "outputs": [],
   "source": [
    "store.close()"
   ]
  }
 ],
 "metadata": {
  "kernelspec": {
   "display_name": "Python [conda env:ncbi_remap]",
   "language": "python",
   "name": "conda-env-ncbi_remap-py"
  },
  "language_info": {
   "codemirror_mode": {
    "name": "ipython",
    "version": 3
   },
   "file_extension": ".py",
   "mimetype": "text/x-python",
   "name": "python",
   "nbconvert_exporter": "python",
   "pygments_lexer": "ipython3",
   "version": "3.6.3"
  }
 },
 "nbformat": 4,
 "nbformat_minor": 2
}
