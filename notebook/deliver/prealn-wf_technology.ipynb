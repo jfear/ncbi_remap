{
 "cells": [
  {
   "cell_type": "code",
   "execution_count": 1,
   "metadata": {
    "code_folding": [
     0
    ]
   },
   "outputs": [
    {
     "name": "stdout",
     "output_type": "stream",
     "text": [
      "last updated: 2017-11-02 \n",
      "Git hash: 77256d4c91158a79506f4adb8e290ae30d5f9ec0\n"
     ]
    }
   ],
   "source": [
    "# Imports\n",
    "import os\n",
    "import sys\n",
    "\n",
    "import numpy as np\n",
    "import pandas as pd\n",
    "\n",
    "import matplotlib as mpl\n",
    "import matplotlib.pyplot as plt\n",
    "import seaborn as sns\n",
    "\n",
    "# Project level imports\n",
    "sys.path.insert(0, '../../lib/python')\n",
    "from ncbi_remap.notebook import Nb\n",
    "from ncbi_remap.plotting import make_figs\n",
    "\n",
    "# Setup notebook\n",
    "nbconfig = Nb.setup_notebook(nb_name='prealn-wf_technology')\n",
    "\n",
    "# Turn on cache\n",
    "from joblib import Memory\n",
    "memory = Memory(cachedir=nbconfig.cache, verbose=0)\n",
    "\n",
    "# Connect to data store\n",
    "store = pd.HDFStore('../../sra.h5', mode='r')"
   ]
  },
  {
   "cell_type": "code",
   "execution_count": 53,
   "metadata": {
    "code_folding": []
   },
   "outputs": [],
   "source": [
    "# Constants\n"
   ]
  },
  {
   "cell_type": "markdown",
   "metadata": {},
   "source": [
    "NOTE: ADD unique mapping at feature\n"
   ]
  },
  {
   "cell_type": "markdown",
   "metadata": {},
   "source": [
    "# Sequencing Technology Classification"
   ]
  },
  {
   "cell_type": "markdown",
   "metadata": {},
   "source": [
    "Next I want to use different feature types to classify data."
   ]
  },
  {
   "cell_type": "markdown",
   "metadata": {},
   "source": [
    "## Feature Counts"
   ]
  },
  {
   "cell_type": "code",
   "execution_count": 30,
   "metadata": {
    "code_folding": []
   },
   "outputs": [
    {
     "data": {
      "image/png": "[encoded data removed]",
      "text/plain": [
       "<matplotlib.figure.Figure at 0x2aab31e7ce48>"
      ]
     },
     "metadata": {},
     "output_type": "display_data"
    }
   ],
   "source": [
    "# Plot distribution of proportion assigned reads\n",
    "@make_figs(nbconfig.fig_name('distplot_prop_assigned_reads'), styles=nbconfig.styles, \n",
    "           formats=nbconfig.formats)\n",
    "def plot(store):\n",
    "    df = store['prealn/workflow/feature_counts/summary']\n",
    "    df.set_index(['srx', 'srr'], inplace=True)\n",
    "    df['total'] = df.sum(axis=1)\n",
    "    df['prop_assigned'] = df.Assigned / df.total\n",
    "    \n",
    "    fig, ax = plt.subplots(1, 1)\n",
    "    sns.distplot(df.prop_assigned, ax=ax)\n",
    "    \n",
    "    ax.set_title('Distribution of Proporiton of Assigned Reads')\n",
    "    ax.set_xlabel('Proportion of Reads Assigned to Genomic Feature')\n",
    "    ax.set_ylabel('Density')\n",
    "    \n",
    "    return fig\n",
    "\n",
    "plot(store)"
   ]
  },
  {
   "cell_type": "code",
   "execution_count": null,
   "metadata": {},
   "outputs": [],
   "source": []
  },
  {
   "cell_type": "code",
   "execution_count": 33,
   "metadata": {},
   "outputs": [],
   "source": [
    "df = store['prealn/workflow/markduplicates']"
   ]
  },
  {
   "cell_type": "code",
   "execution_count": 34,
   "metadata": {},
   "outputs": [
    {
     "data": {
      "text/html": [
       "<div>\n",
       "<style>\n",
       "    .dataframe thead tr:only-child th {\n",
       "        text-align: right;\n",
       "    }\n",
       "\n",
       "    .dataframe thead th {\n",
       "        text-align: left;\n",
       "    }\n",
       "\n",
       "    .dataframe tbody tr th {\n",
       "        vertical-align: top;\n",
       "    }\n",
       "</style>\n",
       "<table border=\"1\" class=\"dataframe\">\n",
       "  <thead>\n",
       "    <tr style=\"text-align: right;\">\n",
       "      <th></th>\n",
       "      <th>srx</th>\n",
       "      <th>srr</th>\n",
       "      <th>LIBRARY</th>\n",
       "      <th>UNPAIRED_READS_EXAMINED</th>\n",
       "      <th>READ_PAIRS_EXAMINED</th>\n",
       "      <th>SECONDARY_OR_SUPPLEMENTARY_RDS</th>\n",
       "      <th>UNMAPPED_READS</th>\n",
       "      <th>UNPAIRED_READ_DUPLICATES</th>\n",
       "      <th>READ_PAIR_DUPLICATES</th>\n",
       "      <th>READ_PAIR_OPTICAL_DUPLICATES</th>\n",
       "      <th>PERCENT_DUPLICATION</th>\n",
       "      <th>ESTIMATED_LIBRARY_SIZE</th>\n",
       "    </tr>\n",
       "  </thead>\n",
       "  <tbody>\n",
       "    <tr>\n",
       "      <th>0</th>\n",
       "      <td>SRX2581987</td>\n",
       "      <td>SRR5278103</td>\n",
       "      <td>Unknown Library</td>\n",
       "      <td>608397</td>\n",
       "      <td>1777633</td>\n",
       "      <td>718566</td>\n",
       "      <td>30692893</td>\n",
       "      <td>551340</td>\n",
       "      <td>1434660</td>\n",
       "      <td>0</td>\n",
       "      <td>0.821551</td>\n",
       "      <td>344967.0</td>\n",
       "    </tr>\n",
       "    <tr>\n",
       "      <th>1</th>\n",
       "      <td>SRX2556775</td>\n",
       "      <td>SRR5251041</td>\n",
       "      <td>Unknown Library</td>\n",
       "      <td>764496</td>\n",
       "      <td>0</td>\n",
       "      <td>72476</td>\n",
       "      <td>1418095</td>\n",
       "      <td>676306</td>\n",
       "      <td>0</td>\n",
       "      <td>0</td>\n",
       "      <td>0.884643</td>\n",
       "      <td>NaN</td>\n",
       "    </tr>\n",
       "    <tr>\n",
       "      <th>2</th>\n",
       "      <td>SRX2556774</td>\n",
       "      <td>SRR5251040</td>\n",
       "      <td>Unknown Library</td>\n",
       "      <td>180326</td>\n",
       "      <td>0</td>\n",
       "      <td>19633</td>\n",
       "      <td>604487</td>\n",
       "      <td>128277</td>\n",
       "      <td>0</td>\n",
       "      <td>0</td>\n",
       "      <td>0.711362</td>\n",
       "      <td>NaN</td>\n",
       "    </tr>\n",
       "    <tr>\n",
       "      <th>3</th>\n",
       "      <td>SRX2556773</td>\n",
       "      <td>SRR5251039</td>\n",
       "      <td>Unknown Library</td>\n",
       "      <td>841415</td>\n",
       "      <td>0</td>\n",
       "      <td>95391</td>\n",
       "      <td>2022701</td>\n",
       "      <td>728862</td>\n",
       "      <td>0</td>\n",
       "      <td>0</td>\n",
       "      <td>0.866234</td>\n",
       "      <td>NaN</td>\n",
       "    </tr>\n",
       "    <tr>\n",
       "      <th>4</th>\n",
       "      <td>SRX2556772</td>\n",
       "      <td>SRR5251038</td>\n",
       "      <td>Unknown Library</td>\n",
       "      <td>639582</td>\n",
       "      <td>0</td>\n",
       "      <td>66892</td>\n",
       "      <td>1925506</td>\n",
       "      <td>534834</td>\n",
       "      <td>0</td>\n",
       "      <td>0</td>\n",
       "      <td>0.836224</td>\n",
       "      <td>NaN</td>\n",
       "    </tr>\n",
       "  </tbody>\n",
       "</table>\n",
       "</div>"
      ],
      "text/plain": [
       "          srx         srr          LIBRARY  UNPAIRED_READS_EXAMINED  \\\n",
       "0  SRX2581987  SRR5278103  Unknown Library                   608397   \n",
       "1  SRX2556775  SRR5251041  Unknown Library                   764496   \n",
       "2  SRX2556774  SRR5251040  Unknown Library                   180326   \n",
       "3  SRX2556773  SRR5251039  Unknown Library                   841415   \n",
       "4  SRX2556772  SRR5251038  Unknown Library                   639582   \n",
       "\n",
       "   READ_PAIRS_EXAMINED  SECONDARY_OR_SUPPLEMENTARY_RDS  UNMAPPED_READS  \\\n",
       "0              1777633                          718566        30692893   \n",
       "1                    0                           72476         1418095   \n",
       "2                    0                           19633          604487   \n",
       "3                    0                           95391         2022701   \n",
       "4                    0                           66892         1925506   \n",
       "\n",
       "   UNPAIRED_READ_DUPLICATES  READ_PAIR_DUPLICATES  \\\n",
       "0                    551340               1434660   \n",
       "1                    676306                     0   \n",
       "2                    128277                     0   \n",
       "3                    728862                     0   \n",
       "4                    534834                     0   \n",
       "\n",
       "   READ_PAIR_OPTICAL_DUPLICATES  PERCENT_DUPLICATION  ESTIMATED_LIBRARY_SIZE  \n",
       "0                             0             0.821551                344967.0  \n",
       "1                             0             0.884643                     NaN  \n",
       "2                             0             0.711362                     NaN  \n",
       "3                             0             0.866234                     NaN  \n",
       "4                             0             0.836224                     NaN  "
      ]
     },
     "execution_count": 34,
     "metadata": {},
     "output_type": "execute_result"
    }
   ],
   "source": [
    "df.head()"
   ]
  },
  {
   "cell_type": "code",
   "execution_count": 35,
   "metadata": {},
   "outputs": [
    {
     "data": {
      "text/plain": [
       "<matplotlib.axes._subplots.AxesSubplot at 0x2aab323d2c18>"
      ]
     },
     "execution_count": 35,
     "metadata": {},
     "output_type": "execute_result"
    },
    {
     "data": {
      "image/png": "[encoded data removed]",
      "text/plain": [
       "<matplotlib.figure.Figure at 0x2aab323d2a20>"
      ]
     },
     "metadata": {},
     "output_type": "display_data"
    }
   ],
   "source": [
    "sns.distplot(df.PERCENT_DUPLICATION)"
   ]
  },
  {
   "cell_type": "code",
   "execution_count": null,
   "metadata": {},
   "outputs": [],
   "source": []
  },
  {
   "cell_type": "code",
   "execution_count": 32,
   "metadata": {},
   "outputs": [
    {
     "data": {
      "text/plain": [
       "/prealn/workflow/markduplicates (Group) ''\n",
       "  children := ['table' (Table)]"
      ]
     },
     "execution_count": 32,
     "metadata": {},
     "output_type": "execute_result"
    }
   ],
   "source": [
    "store.root.prealn.workflow.markduplicates"
   ]
  },
  {
   "cell_type": "markdown",
   "metadata": {},
   "source": [
    "For example, in RNA-Seq experiments large amounts of multimapping reads indicate large either PCR duplication or a failure to remove rRNA during polyA selection. However, in ChIP-Seq experiments there is an enrichment for small regions of the genome leading to an expected decrease in library complexity. \n",
    "\n",
    "A sample may have a low unique mapping if that sample is contaminated or has low sequence complexity. There is a distinct distribution patter when looking at the distribution of proportion of unique mapping reads. This distribution resembles a normal distribution with a extremely fat tail on the lower end of values. The natural inflection point is around 0.3 or 0.35. Here I selected a quality cutoff of 0.3 (30% reads mapping uniquely).\n",
    "\n",
    "Next I was interested in seeing if SRRs within an SRX have similar mapability. An SRR is supposed to be a technical replicate of an SRX. It is possible that if an SRX has highly variable SRRs that it may be made up of different libraries. There are other feature sets that I will explore regarding these relationships, here I just quickly look at the standard deviation of SRRs within an SRX. In general, the distribution looks almost normally distributed with a slight left skew toward smaller STDs as expected. By far the worst sample was (SRX352887: SRR989483) which had only 3 reads mapping uniquely, suggesting a contamination problem."
   ]
  },
  {
   "cell_type": "code",
   "execution_count": null,
   "metadata": {},
   "outputs": [],
   "source": [
    "# Plot distribution of proportion uniquely mapping reads.\n",
    "@make_figs(nbconfig.fig_name('distplot_unique_mapping'), styles=nbconfig.styles_wide, \n",
    "           formats=nbconfig.formats)\n",
    "def plot(store):\n",
    "    from ncbi_remap.prealn_wf import keep_rows\n",
    "    se = store['prealn/workflow/hisat2/SE'][['srx', 'srr', 'num_reads', 'num_uniquely_aligned']]\n",
    "    se['prop_unique_aligned'] = se['num_uniquely_aligned'] / se['num_reads']\n",
    "    se = keep_rows(se, 'srr', mapping_ok.srr)\n",
    "\n",
    "    pe = store['prealn/workflow/hisat2/PE'][['srx', 'srr', 'num_reads', 'num_concordant_reads_uniquely_aligned']]\n",
    "    pe['prop_unique_aligned'] = pe['num_concordant_reads_uniquely_aligned'] / pe['num_reads']\n",
    "    pe = keep_rows(pe, 'srr', mapping_ok.srr)\n",
    "\n",
    "    fig, ax = plt.subplots(1, 1)\n",
    "    sns.distplot(se.prop_unique_aligned, ax=ax, label='Single Ended')\n",
    "    sns.distplot(pe.prop_unique_aligned, ax=ax, label='Pair Ended')\n",
    "    ax.legend()\n",
    "    ax.set_title('Distribution of Unique Mapping')\n",
    "    ax.set_xlabel('Proportion of Uniquely Mapping Reads')\n",
    "    ax.set_ylabel('Density');\n",
    "    \n",
    "plot(store)"
   ]
  },
  {
   "cell_type": "code",
   "execution_count": null,
   "metadata": {},
   "outputs": [],
   "source": []
  },
  {
   "cell_type": "code",
   "execution_count": null,
   "metadata": {},
   "outputs": [],
   "source": []
  },
  {
   "cell_type": "code",
   "execution_count": null,
   "metadata": {},
   "outputs": [],
   "source": []
  },
  {
   "cell_type": "code",
   "execution_count": null,
   "metadata": {},
   "outputs": [],
   "source": []
  },
  {
   "cell_type": "code",
   "execution_count": null,
   "metadata": {},
   "outputs": [],
   "source": []
  },
  {
   "cell_type": "code",
   "execution_count": null,
   "metadata": {},
   "outputs": [],
   "source": []
  },
  {
   "cell_type": "code",
   "execution_count": null,
   "metadata": {},
   "outputs": [],
   "source": []
  },
  {
   "cell_type": "code",
   "execution_count": null,
   "metadata": {},
   "outputs": [],
   "source": []
  },
  {
   "cell_type": "code",
   "execution_count": null,
   "metadata": {},
   "outputs": [],
   "source": []
  },
  {
   "cell_type": "code",
   "execution_count": null,
   "metadata": {},
   "outputs": [],
   "source": []
  },
  {
   "cell_type": "code",
   "execution_count": null,
   "metadata": {},
   "outputs": [],
   "source": []
  },
  {
   "cell_type": "code",
   "execution_count": null,
   "metadata": {},
   "outputs": [],
   "source": []
  },
  {
   "cell_type": "code",
   "execution_count": null,
   "metadata": {},
   "outputs": [],
   "source": []
  },
  {
   "cell_type": "code",
   "execution_count": null,
   "metadata": {},
   "outputs": [],
   "source": []
  },
  {
   "cell_type": "code",
   "execution_count": null,
   "metadata": {},
   "outputs": [],
   "source": []
  },
  {
   "cell_type": "code",
   "execution_count": 22,
   "metadata": {},
   "outputs": [],
   "source": [
    "from ncbi_remap.io import add_id, remove_id\n",
    "\n",
    "#srx = 'SRX648309'\n",
    "#srr = 'SRR1509506'\n",
    "\n",
    "#store.select('prealn/complete', 'srr == {}'.format(srr))\n",
    "#remove_id(store, 'prealn/complete', srr=srr)\n",
    "#\n",
    "#store.select('prealn/complete', 'srr == {}'.format(srr))\n",
    "#add_id(store, 'prealn/complete', srx=srx, srr=srr)\n",
    "#\n",
    "#(store['prealn/complete'].srr == srr).any()"
   ]
  },
  {
   "cell_type": "code",
   "execution_count": null,
   "metadata": {},
   "outputs": [],
   "source": []
  }
 ],
 "metadata": {
  "kernelspec": {
   "display_name": "Python [conda env:ncbi_remap]",
   "language": "python",
   "name": "conda-env-ncbi_remap-py"
  },
  "language_info": {
   "codemirror_mode": {
    "name": "ipython",
    "version": 3
   },
   "file_extension": ".py",
   "mimetype": "text/x-python",
   "name": "python",
   "nbconvert_exporter": "python",
   "pygments_lexer": "ipython3",
   "version": "3.5.4"
  },
  "toc": {
   "nav_menu": {},
   "number_sections": false,
   "sideBar": true,
   "skip_h1_title": false,
   "toc_cell": false,
   "toc_position": {},
   "toc_section_display": "block",
   "toc_window_display": false
  }
 },
 "nbformat": 4,
 "nbformat_minor": 2
}
