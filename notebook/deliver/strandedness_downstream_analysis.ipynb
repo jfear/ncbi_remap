{
 "cells": [
  {
   "cell_type": "markdown",
   "metadata": {},
   "source": [
    "Sequencing protocols have two major variations (stranded, non-stranded). Stranded versions are needed for looking at things like annotation, while non-stranded protocols are acceptable for things like expression profiling. Their use may also vary based on the type of sequencing done (e.g., RNA-seq, ChIP-seq, DNA-seq) may have different proportions of studies that used stranded vs non-stranded.\n",
    "\n",
    "**Outputs**\n",
    "* Distribution plot showing distribution of SRRs looking at the proportion of reads aligning to a specific strand.\n",
    "* Summary table `output/strandedness_downstream_analysis.pkl` with the following columns:\n",
    "    * Indexed by SRX, SRR\n",
    "    * `first_strand` is the value of PicardRNASeqMetrics when aligned in first strand mode.\n",
    "    * `second_strand` is the value of PicardRNASeqMetrics when aligned in second strand mode.\n",
    "    * `indicator_strand` is an indicator variable of strandedness\n",
    "        - 0 == unstranded\n",
    "        - 1 == moderate first stranded\n",
    "        - 2 == well first stranded\n",
    "        - -1 == moderate second stranded\n",
    "        - -2 == well second stranded\n",
    "    * `num_srr` is the number of SRRs for an SRX\n",
    "    * `flag_strand_identical_among_srr` is a flag where `True` if strandedness was the same across all SRRs within an SRX. \n",
    "        - This only looks for direction not magnitude (i.e., 1 and 2 are treated as the same, but 1 and 0 or 1 and -1 are different)."
   ]
  },
  {
   "cell_type": "code",
   "execution_count": 11,
   "metadata": {
    "code_folding": [
     0
    ]
   },
   "outputs": [
    {
     "name": "stdout",
     "output_type": "stream",
     "text": [
      "last updated: 2017-09-26 \n",
      "Git hash: 0091350c4f0688420f60e0e5f95c4c4c123158f4\n"
     ]
    }
   ],
   "source": [
    "# %load ../start.py\n",
    "# Load useful extensions\n",
    "\n",
    "# Activate the autoreload extension for easy reloading of external packages\n",
    "%reload_ext autoreload\n",
    "%autoreload 2\n",
    "\n",
    "# Trun on the water mark\n",
    "%reload_ext watermark\n",
    "%watermark -u -d -g\n",
    "\n",
    "# Load ipycache extension\n",
    "%reload_ext ipycache\n",
    "from ipycache import CacheMagics\n",
    "CacheMagics.cachedir = '../cachedir'\n",
    "\n",
    "# Add project library to path\n",
    "import sys\n",
    "sys.path.insert(0, '../../lib/python')\n",
    "\n",
    "# The usual suspects\n",
    "import os\n",
    "import numpy as np\n",
    "import pandas as pd\n",
    "\n",
    "# plotting\n",
    "import matplotlib as mpl\n",
    "import matplotlib.pyplot as plt\n",
    "import seaborn as sns\n",
    "\n",
    "%matplotlib inline\n",
    "sns.set_context('poster')\n",
    "\n",
    "# Turn off scientific notation\n",
    "np.set_printoptions(precision=5, suppress=True)\n"
   ]
  },
  {
   "cell_type": "code",
   "execution_count": 72,
   "metadata": {
    "code_folding": [
     0
    ],
    "collapsed": true
   },
   "outputs": [],
   "source": [
    "# Plotting settings\n",
    "sns.set_context('notebook')\n",
    "sns.set_style('white')\n",
    "c1 = sns.xkcd_rgb['dusty purple']\n",
    "c2 = sns.xkcd_rgb['amber']\n",
    "c3 = 'black'"
   ]
  },
  {
   "cell_type": "code",
   "execution_count": 12,
   "metadata": {
    "code_folding": [
     0
    ],
    "collapsed": true
   },
   "outputs": [],
   "source": [
    "# %load ../../bin/load.py\n",
    "from pymongo import MongoClient\n",
    "with open('/home/fearjm/Projects/ncbi_remap/output/.mongodb_host', 'r') as fh:\n",
    "    host = fh.read().strip()\n",
    "client = MongoClient(host=host, port=27022)\n",
    "db = client['sra2']\n",
    "remap = db['remap']"
   ]
  },
  {
   "cell_type": "code",
   "execution_count": 13,
   "metadata": {
    "code_folding": [
     0
    ],
    "collapsed": true
   },
   "outputs": [],
   "source": [
    "# Query DB and get strand information.\n",
    "\n",
    "## Quick count for sanity\n",
    "num_runs = list(remap.aggregate([\n",
    "    {'$unwind': '$runs'},\n",
    "    {\n",
    "        '$match': {\n",
    "            'runs.pre_aln_flags': 'complete'\n",
    "        }\n",
    "    },\n",
    "    {'$count': 'cnt'}\n",
    "]))[0]['cnt']\n",
    "\n",
    "## Make strand dataframe\n",
    "df = pd.DataFrame(list(remap.aggregate([\n",
    "    {'$unwind': '$runs'},\n",
    "    {\n",
    "        '$match': {\n",
    "            'runs.pre_aln_flags': 'complete'\n",
    "        }\n",
    "    },\n",
    "    {\n",
    "        '$project': {\n",
    "            '_id': 0,\n",
    "            'srx': '$_id',\n",
    "            'srr': '$runs.srr',\n",
    "            'first_strand': '$runs.pre_aln_workflow.picard_collectrnaseqmetrics.first.PCT_CORRECT_STRAND_READS',\n",
    "            'second_strand': '$runs.pre_aln_workflow.picard_collectrnaseqmetrics.second.PCT_CORRECT_STRAND_READS'\n",
    "        }\n",
    "    },\n",
    "])))\n",
    "\n",
    "# Sanity checks\n",
    "num_srrs = df.shape[0]\n",
    "num_srxs = df.srx.unique().size\n",
    "assert num_srrs == num_runs"
   ]
  },
  {
   "cell_type": "code",
   "execution_count": 73,
   "metadata": {
    "code_folding": [
     0
    ]
   },
   "outputs": [
    {
     "data": {
      "image/png": "[encoded data removed]",
      "text/plain": [
       "<matplotlib.figure.Figure at 0x2aab08f420b8>"
      ]
     },
     "metadata": {},
     "output_type": "display_data"
    }
   ],
   "source": [
    "# Distribution plot\n",
    "ax = sns.distplot(df.first_strand, bins=100)\n",
    "ax.set_title('Strand Distribution of Reads')\n",
    "ax.set_xlabel('Proportion Reads Aligning to First Strand')\n",
    "ax.set_ylabel('Density')\n",
    "ax.axvline(0.75, ls='--', lw=2, color=c1)\n",
    "ax.axvline(0.25, ls='--', lw=2, color=c1)\n",
    "ax.axvline(0.95, ls='--', lw=2, color=c2)\n",
    "ax.axvline(0.05, ls='--', lw=2, color=c2)\n",
    "\n",
    "ax.annotate(xy=(0.75, 23), s='stranded\\nfirst', xytext=(10, 0), textcoords='offset points', color=c1)\n",
    "ax.annotate(xy=(0.25, 23), s='stranded\\nsecond', ha='right', xytext=(-10, 0), textcoords='offset points', color=c1)\n",
    "\n",
    "ax.annotate(xy=(0.95, 22), s='well stranded\\nfirst', xytext=(10, 0), textcoords='offset points', color=c2)\n",
    "ax.annotate(xy=(0.05, 22), s='well stranded\\nsecond', ha='right', xytext=(-10, 0), textcoords='offset points', color=c2)\n",
    "\n",
    "ax.annotate(xy=(.5, 25), s='non-stranded', ha='center', color='k')\n",
    "ax.set_ylim(0, 26)\n",
    "plt.tight_layout();"
   ]
  },
  {
   "cell_type": "code",
   "execution_count": 15,
   "metadata": {
    "code_folding": [
     0
    ],
    "collapsed": true
   },
   "outputs": [],
   "source": [
    "# Create indicators based on proporiton of reads aligning to specific strand.\n",
    "## 0 == unstranded\n",
    "## 1 == moderate first stranded\n",
    "## 2 == well first stranded\n",
    "## -1 == moderate second stranded\n",
    "## -2 == well second stranded\n",
    "\n",
    "df['indicator_strand'] = 0\n",
    "df.loc[df.first_strand >= .75, 'indicator_strand'] = 1\n",
    "df.loc[df.first_strand >= .95, 'indicator_strand'] = 2\n",
    "df.loc[df.second_strand >= .75, 'indicator_strand'] = -1\n",
    "df.loc[df.second_strand >= .95, 'indicator_strand'] = -2"
   ]
  },
  {
   "cell_type": "code",
   "execution_count": 16,
   "metadata": {
    "code_folding": [
     0
    ],
    "collapsed": true
   },
   "outputs": [],
   "source": [
    "# Count the number of srrs per srx and check for consitent strandedness\n",
    "def test_strand(x):\n",
    "    return x.indicator_strand.replace(2, 1).replace(-2, -1).unique().size == 1\n",
    "\n",
    "srx_counts = df[['srx', 'srr']].groupby('srx').count()\n",
    "srx_tests = df[['srx', 'indicator_strand']].groupby('srx').agg(test_strand)\n",
    "srx_tests.rename(columns={'indicator_strand': 'flag_strand_identical_among_srr'}, inplace=True)\n",
    "srx = srx_counts.join(srx_tests)\n",
    "srx.rename(columns={'srr': 'num_srr'}, inplace=True)\n",
    "\n",
    "num_srx = '{:,}'.format(srx.shape[0])\n",
    "num_srx_multi = '{:,}'.format(srx[srx.num_srr > 1].shape[0])\n",
    "num_multi_srr_identical = '{:,}'.format(srx[(srx.num_srr >1) & srx.flag_strand_identical_among_srr].shape[0])\n",
    "num_multi_srr_diff = '{:,}'.format(srx[(srx.num_srr >1) & ~srx.flag_strand_identical_among_srr].shape[0])"
   ]
  },
  {
   "cell_type": "markdown",
   "metadata": {
    "variables": {
     "num_multi_srr_diff": "40",
     "num_multi_srr_identical": "2,331",
     "num_srx": "15,830",
     "num_srx_multi": "2,371"
    }
   },
   "source": [
    "Of the {{num_srx}} SRXs, there are {{num_srx_multi}} SRXs that have multiple SRRs. The majority ({{num_multi_srr_identical}}) are classified as having the same strandedness, but there are {{num_multi_srr_diff}} that do not show consistent strandedness across SRRs."
   ]
  },
  {
   "cell_type": "code",
   "execution_count": 17,
   "metadata": {
    "code_folding": []
   },
   "outputs": [
    {
     "data": {
      "text/html": [
       "<div>\n",
       "<table border=\"1\" class=\"dataframe\">\n",
       "  <thead>\n",
       "    <tr style=\"text-align: right;\">\n",
       "      <th></th>\n",
       "      <th>first_strand</th>\n",
       "      <th>second_strand</th>\n",
       "      <th>srr</th>\n",
       "      <th>srx</th>\n",
       "      <th>indicator_strand</th>\n",
       "    </tr>\n",
       "  </thead>\n",
       "  <tbody>\n",
       "    <tr>\n",
       "      <th>968</th>\n",
       "      <td>0.326839</td>\n",
       "      <td>0.673161</td>\n",
       "      <td>ERR393593</td>\n",
       "      <td>ERX365267</td>\n",
       "      <td>0</td>\n",
       "    </tr>\n",
       "    <tr>\n",
       "      <th>969</th>\n",
       "      <td>0.353633</td>\n",
       "      <td>0.646367</td>\n",
       "      <td>ERR395048</td>\n",
       "      <td>ERX365267</td>\n",
       "      <td>0</td>\n",
       "    </tr>\n",
       "    <tr>\n",
       "      <th>970</th>\n",
       "      <td>0.185983</td>\n",
       "      <td>0.814017</td>\n",
       "      <td>ERR394451</td>\n",
       "      <td>ERX365267</td>\n",
       "      <td>-1</td>\n",
       "    </tr>\n",
       "    <tr>\n",
       "      <th>971</th>\n",
       "      <td>0.370150</td>\n",
       "      <td>0.629850</td>\n",
       "      <td>ERR393012</td>\n",
       "      <td>ERX365267</td>\n",
       "      <td>0</td>\n",
       "    </tr>\n",
       "    <tr>\n",
       "      <th>972</th>\n",
       "      <td>0.165767</td>\n",
       "      <td>0.834233</td>\n",
       "      <td>ERR393035</td>\n",
       "      <td>ERX365267</td>\n",
       "      <td>-1</td>\n",
       "    </tr>\n",
       "    <tr>\n",
       "      <th>991</th>\n",
       "      <td>0.401504</td>\n",
       "      <td>0.598496</td>\n",
       "      <td>ERR394739</td>\n",
       "      <td>ERX365170</td>\n",
       "      <td>0</td>\n",
       "    </tr>\n",
       "    <tr>\n",
       "      <th>992</th>\n",
       "      <td>0.402173</td>\n",
       "      <td>0.597827</td>\n",
       "      <td>ERR393838</td>\n",
       "      <td>ERX365170</td>\n",
       "      <td>0</td>\n",
       "    </tr>\n",
       "    <tr>\n",
       "      <th>993</th>\n",
       "      <td>0.311647</td>\n",
       "      <td>0.688353</td>\n",
       "      <td>ERR395084</td>\n",
       "      <td>ERX365170</td>\n",
       "      <td>0</td>\n",
       "    </tr>\n",
       "    <tr>\n",
       "      <th>994</th>\n",
       "      <td>0.211200</td>\n",
       "      <td>0.788800</td>\n",
       "      <td>ERR392700</td>\n",
       "      <td>ERX365170</td>\n",
       "      <td>-1</td>\n",
       "    </tr>\n",
       "    <tr>\n",
       "      <th>995</th>\n",
       "      <td>0.183073</td>\n",
       "      <td>0.816927</td>\n",
       "      <td>ERR393097</td>\n",
       "      <td>ERX365170</td>\n",
       "      <td>-1</td>\n",
       "    </tr>\n",
       "  </tbody>\n",
       "</table>\n",
       "</div>"
      ],
      "text/plain": [
       "     first_strand  second_strand        srr        srx  indicator_strand\n",
       "968      0.326839       0.673161  ERR393593  ERX365267                 0\n",
       "969      0.353633       0.646367  ERR395048  ERX365267                 0\n",
       "970      0.185983       0.814017  ERR394451  ERX365267                -1\n",
       "971      0.370150       0.629850  ERR393012  ERX365267                 0\n",
       "972      0.165767       0.834233  ERR393035  ERX365267                -1\n",
       "991      0.401504       0.598496  ERR394739  ERX365170                 0\n",
       "992      0.402173       0.597827  ERR393838  ERX365170                 0\n",
       "993      0.311647       0.688353  ERR395084  ERX365170                 0\n",
       "994      0.211200       0.788800  ERR392700  ERX365170                -1\n",
       "995      0.183073       0.816927  ERR393097  ERX365170                -1"
      ]
     },
     "execution_count": 17,
     "metadata": {},
     "output_type": "execute_result"
    }
   ],
   "source": [
    "# Sanity check the 40 that differ\n",
    "diff = srx[(srx.num_srr >1) & ~srx.flag_strand_identical_among_srr].index\n",
    "df[df.srx.isin(diff)].head(10)"
   ]
  },
  {
   "cell_type": "code",
   "execution_count": 91,
   "metadata": {
    "code_folding": [
     0
    ]
   },
   "outputs": [],
   "source": [
    "# Sanity check that there are none with opposite strandedness\n",
    "splits = df.loc[df.srx.isin(diff), ['srx', 'indicator_strand']].groupby('srx').aggregate(['min', 'max'])\n",
    "str_splits = ', '.join(splits[\n",
    "    (splits[('indicator_strand', 'min')] < 0) &  (splits[('indicator_strand', 'max')] > 0)\n",
    "].index.tolist())"
   ]
  },
  {
   "cell_type": "markdown",
   "metadata": {
    "variables": {
     "str_splits": "SRX249383, SRX369142, SRX369144"
    }
   },
   "source": [
    "These SRX's [{{str_splits}}] had SRRs that showed strandedness in the opposite direction."
   ]
  },
  {
   "cell_type": "code",
   "execution_count": 74,
   "metadata": {
    "code_folding": [
     0
    ]
   },
   "outputs": [],
   "source": [
    "# Merge everything together\n",
    "merged = df.merge(srx, left_on='srx', right_index=True, how='outer').set_index(['srx', 'srr'])\n",
    "merged.to_pickle('../../output/strandedness_downstream_analysis.pkl')"
   ]
  },
  {
   "cell_type": "code",
   "execution_count": 75,
   "metadata": {},
   "outputs": [
    {
     "data": {
      "text/html": [
       "<div>\n",
       "<table border=\"1\" class=\"dataframe\">\n",
       "  <thead>\n",
       "    <tr style=\"text-align: right;\">\n",
       "      <th></th>\n",
       "      <th></th>\n",
       "      <th>first_strand</th>\n",
       "      <th>second_strand</th>\n",
       "      <th>indicator_strand</th>\n",
       "      <th>num_srr</th>\n",
       "      <th>flag_strand_identical_among_srr</th>\n",
       "    </tr>\n",
       "    <tr>\n",
       "      <th>srx</th>\n",
       "      <th>srr</th>\n",
       "      <th></th>\n",
       "      <th></th>\n",
       "      <th></th>\n",
       "      <th></th>\n",
       "      <th></th>\n",
       "    </tr>\n",
       "  </thead>\n",
       "  <tbody>\n",
       "    <tr>\n",
       "      <th>SRX2581987</th>\n",
       "      <th>SRR5278103</th>\n",
       "      <td>0.523353</td>\n",
       "      <td>0.476647</td>\n",
       "      <td>0</td>\n",
       "      <td>1</td>\n",
       "      <td>True</td>\n",
       "    </tr>\n",
       "    <tr>\n",
       "      <th>SRX2556775</th>\n",
       "      <th>SRR5251041</th>\n",
       "      <td>0.988778</td>\n",
       "      <td>0.011222</td>\n",
       "      <td>2</td>\n",
       "      <td>1</td>\n",
       "      <td>True</td>\n",
       "    </tr>\n",
       "    <tr>\n",
       "      <th>SRX2556774</th>\n",
       "      <th>SRR5251040</th>\n",
       "      <td>0.985756</td>\n",
       "      <td>0.014244</td>\n",
       "      <td>2</td>\n",
       "      <td>1</td>\n",
       "      <td>True</td>\n",
       "    </tr>\n",
       "    <tr>\n",
       "      <th>SRX2556773</th>\n",
       "      <th>SRR5251039</th>\n",
       "      <td>0.984342</td>\n",
       "      <td>0.015658</td>\n",
       "      <td>2</td>\n",
       "      <td>1</td>\n",
       "      <td>True</td>\n",
       "    </tr>\n",
       "    <tr>\n",
       "      <th>SRX2556772</th>\n",
       "      <th>SRR5251038</th>\n",
       "      <td>0.983578</td>\n",
       "      <td>0.016422</td>\n",
       "      <td>2</td>\n",
       "      <td>1</td>\n",
       "      <td>True</td>\n",
       "    </tr>\n",
       "  </tbody>\n",
       "</table>\n",
       "</div>"
      ],
      "text/plain": [
       "                       first_strand  second_strand  indicator_strand  num_srr  \\\n",
       "srx        srr                                                                  \n",
       "SRX2581987 SRR5278103      0.523353       0.476647                 0        1   \n",
       "SRX2556775 SRR5251041      0.988778       0.011222                 2        1   \n",
       "SRX2556774 SRR5251040      0.985756       0.014244                 2        1   \n",
       "SRX2556773 SRR5251039      0.984342       0.015658                 2        1   \n",
       "SRX2556772 SRR5251038      0.983578       0.016422                 2        1   \n",
       "\n",
       "                      flag_strand_identical_among_srr  \n",
       "srx        srr                                         \n",
       "SRX2581987 SRR5278103                            True  \n",
       "SRX2556775 SRR5251041                            True  \n",
       "SRX2556774 SRR5251040                            True  \n",
       "SRX2556773 SRR5251039                            True  \n",
       "SRX2556772 SRR5251038                            True  "
      ]
     },
     "execution_count": 75,
     "metadata": {},
     "output_type": "execute_result"
    }
   ],
   "source": [
    "merged.head()"
   ]
  },
  {
   "cell_type": "code",
   "execution_count": null,
   "metadata": {
    "collapsed": true
   },
   "outputs": [],
   "source": []
  }
 ],
 "metadata": {
  "kernelspec": {
   "display_name": "Python [conda env:ncbi_remap]",
   "language": "python",
   "name": "conda-env-ncbi_remap-py"
  },
  "language_info": {
   "codemirror_mode": {
    "name": "ipython",
    "version": 3
   },
   "file_extension": ".py",
   "mimetype": "text/x-python",
   "name": "python",
   "nbconvert_exporter": "python",
   "pygments_lexer": "ipython3",
   "version": "3.5.3"
  },
  "toc": {
   "nav_menu": {},
   "number_sections": true,
   "sideBar": true,
   "skip_h1_title": false,
   "toc_cell": false,
   "toc_position": {},
   "toc_section_display": "block",
   "toc_window_display": false
  }
 },
 "nbformat": 4,
 "nbformat_minor": 2
}
