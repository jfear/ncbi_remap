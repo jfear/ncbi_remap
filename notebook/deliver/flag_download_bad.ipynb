{
 "cells": [
  {
   "cell_type": "markdown",
   "metadata": {},
   "source": [
    "We flagged 71 samples that could not be downloaded from SRA because they were no longer in the database. When attempting to download SRA gives an Access denied error when trying to resolve the accession. We identified these samples by trying to download from SRA at least 3 times and receiving this error. Then we flagged these samples as `'download_bad'` and ignored them for remaining analyses."
   ]
  },
  {
   "cell_type": "markdown",
   "metadata": {},
   "source": [
    "Example Error:\n",
    "\n",
    "```\n",
    "fastq-dump -O $TMPDIR -M 0 --split-files SRR3497498\n",
    "2017-09-18T09:57:18 fastq-dump.2.8.1 err: query unauthorized while resolving tree within virtual file system module - failed to resolve accession 'SRR3497498' - Access denied - object has not been published ( 403 )\n",
    "2017-09-18T09:57:18 fastq-dump.2.8.1 err: item not found while constructing within virtual database module - the path 'SRR3497498' cannot be opened as database or table\n",
    "Error in job fastq_dump while creating output file ../output/pre-prealignment/raw/SRX1756361/SRR3497498/SRR3497498_1.fastq.gz.\n",
    "RuleException:\n",
    "CalledProcessError in line 265 of /gpfs/gsfs6/users/MiegNCBI/ncbi_remap/bin/pre-prealignment.snake:\n",
    "Command 'fastq-dump -O $TMPDIR -M 0 --split-files SRR3497498' returned non-zero exit status 3\n",
    "  File \"/gpfs/gsfs6/users/MiegNCBI/ncbi_remap/bin/pre-prealignment.snake\", line 265, in __rule_fastq_dump\n",
    "  File \"/data/fearjm/miniconda3/envs/ncbi_remap/lib/python3.5/concurrent/futures/thread.py\", line 55, in run\n",
    "Exiting because a job execution failed. Look above for error message\n",
    "```"
   ]
  },
  {
   "cell_type": "code",
   "execution_count": 3,
   "metadata": {
    "code_folding": [
     0
    ]
   },
   "outputs": [
    {
     "name": "stdout",
     "output_type": "stream",
     "text": [
      "last updated: 2017-09-18 \n",
      "Git hash: e3171f9271da826a89324a653b2d0f134c002600\n"
     ]
    }
   ],
   "source": [
    "# %load ../start.py\n",
    "# Load useful extensions\n",
    "\n",
    "# Activate the autoreload extension for easy reloading of external packages\n",
    "%reload_ext autoreload\n",
    "%autoreload 2\n",
    "\n",
    "# Trun on the water mark\n",
    "%reload_ext watermark\n",
    "%watermark -u -d -g\n",
    "\n",
    "# Load ipycache extension\n",
    "%reload_ext ipycache\n",
    "from ipycache import CacheMagics\n",
    "CacheMagics.cachedir = '../cachedir'\n",
    "\n",
    "# Add project library to path\n",
    "import sys\n",
    "sys.path.insert(0, '../../lib/python')\n",
    "\n",
    "# The usual suspects\n",
    "import os\n",
    "import numpy as np\n",
    "import pandas as pd\n",
    "\n",
    "# plotting\n",
    "import matplotlib as mpl\n",
    "import matplotlib.pyplot as plt\n",
    "import seaborn as sns\n",
    "\n",
    "%matplotlib inline\n",
    "sns.set_context('poster')\n",
    "\n",
    "# Turn off scientific notation\n",
    "np.set_printoptions(precision=5, suppress=True)\n"
   ]
  },
  {
   "cell_type": "code",
   "execution_count": 5,
   "metadata": {
    "code_folding": [
     0
    ],
    "collapsed": true
   },
   "outputs": [],
   "source": [
    "# %load ../../bin/load.py\n",
    "from pymongo import MongoClient\n",
    "with open('/home/fearjm/Projects/ncbi_remap/output/.mongodb_host', 'r') as fh:\n",
    "    host = fh.read().strip()\n",
    "client = MongoClient(host=host, port=27022)\n",
    "db = client['sra2']\n",
    "remap = db['remap']\n"
   ]
  },
  {
   "cell_type": "code",
   "execution_count": 11,
   "metadata": {
    "code_folding": [
     0,
     1
    ]
   },
   "outputs": [],
   "source": [
    "# These accession cannot be downloaded with fastq-dump\n",
    "srrs_problem = [\n",
    "    'ERR034184',\n",
    "    'ERR034185',\n",
    "    'ERR649342',\n",
    "    'ERR649410',\n",
    "    'ERR979810',\n",
    "    'ERR979834',\n",
    "    'ERR982787',\n",
    "    'ERR982788',\n",
    "    'ERR982790',\n",
    "    'ERR982791',\n",
    "    'ERR982792',\n",
    "    'ERR982793',\n",
    "    'SRR000909',\n",
    "    'SRR032480',\n",
    "    'SRR1989536',\n",
    "    'SRR1989537',\n",
    "    'SRR1989538',\n",
    "    'SRR1989539',\n",
    "    'SRR1989540',\n",
    "    'SRR1989541',\n",
    "    'SRR1990455',\n",
    "    'SRR1990456',\n",
    "    'SRR1990457',\n",
    "    'SRR1990458',\n",
    "    'SRR1990459',\n",
    "    'SRR1991085',\n",
    "    'SRR1991086',\n",
    "    'SRR1991087',\n",
    "    'SRR1991088',\n",
    "    'SRR1991089',\n",
    "    'SRR1991564',\n",
    "    'SRR1991565',\n",
    "    'SRR1991566',\n",
    "    'SRR1991893',\n",
    "    'SRR1991894',\n",
    "    'SRR1991895',\n",
    "    'SRR1992218',\n",
    "    'SRR1992219',\n",
    "    'SRR1992220',\n",
    "    'SRR1992495',\n",
    "    'SRR1992496',\n",
    "    'SRR1992497',\n",
    "    'SRR1992722',\n",
    "    'SRR1992723',\n",
    "    'SRR1992724',\n",
    "    'SRR1994869',\n",
    "    'SRR1994870',\n",
    "    'SRR2063776',\n",
    "    'SRR2063778',\n",
    "    'SRR2063788',\n",
    "    'SRR2063789',\n",
    "    'SRR2176673',\n",
    "    'SRR2176676',\n",
    "    'SRR2176684',\n",
    "    'SRR2176685',\n",
    "    'SRR2176686',\n",
    "    'SRR2176692',\n",
    "    'SRR2176695',\n",
    "    'SRR2176698',\n",
    "    'SRR2176717',\n",
    "    'SRR2176904',\n",
    "    'SRR2176921',\n",
    "    'SRR2176937',\n",
    "    'SRR2176945',\n",
    "    'SRR2984042',\n",
    "    'SRR3497498',\n",
    "    'SRR3497499',\n",
    "    'SRR3497540',\n",
    "    'SRR3497541',\n",
    "    'SRR4015206',\n",
    "    'SRR4015207',\n",
    "]"
   ]
  },
  {
   "cell_type": "code",
   "execution_count": 16,
   "metadata": {
    "code_folding": [
     0
    ]
   },
   "outputs": [
    {
     "data": {
      "text/plain": [
       "0"
      ]
     },
     "execution_count": 16,
     "metadata": {},
     "output_type": "execute_result"
    }
   ],
   "source": [
    "# Update the database keep running until returns 0\n",
    "remap.update_many({'runs.srr': {'$in': srrs_problem}}, \n",
    "                  {'$addToSet': {'runs.$.pre_aln_flags': 'download_bad'}}).modified_count"
   ]
  },
  {
   "cell_type": "code",
   "execution_count": 28,
   "metadata": {
    "code_folding": [
     0
    ]
   },
   "outputs": [
    {
     "name": "stdout",
     "output_type": "stream",
     "text": [
      "71\n"
     ]
    }
   ],
   "source": [
    "# Run check to make sure all are updated. If retuns error then something is wrong.\n",
    "check = next(remap.aggregate([\n",
    "    {\"$unwind\": '$runs'},\n",
    "    {\n",
    "        '$match': {\n",
    "            'runs.pre_aln_flags': 'download_bad'\n",
    "        }\n",
    "    },\n",
    "    {\n",
    "        '$project': {\n",
    "            '_id': 0,\n",
    "            'srr': '$runs.srr',\n",
    "            'flags': '$runs.pre_aln_flags'\n",
    "        }\n",
    "    },\n",
    "    {'$count': 'cnt'}\n",
    "]))['cnt']\n",
    "\n",
    "assert len(srrs_problem) == check\n",
    "print(check)"
   ]
  },
  {
   "cell_type": "code",
   "execution_count": null,
   "metadata": {
    "collapsed": true
   },
   "outputs": [],
   "source": []
  }
 ],
 "metadata": {
  "kernelspec": {
   "display_name": "Python [conda env:ncbi_remap]",
   "language": "python",
   "name": "conda-env-ncbi_remap-py"
  },
  "language_info": {
   "codemirror_mode": {
    "name": "ipython",
    "version": 3
   },
   "file_extension": ".py",
   "mimetype": "text/x-python",
   "name": "python",
   "nbconvert_exporter": "python",
   "pygments_lexer": "ipython3",
   "version": "3.5.3"
  },
  "toc": {
   "nav_menu": {},
   "number_sections": true,
   "sideBar": true,
   "skip_h1_title": false,
   "toc_cell": false,
   "toc_position": {},
   "toc_section_display": "block",
   "toc_window_display": false
  }
 },
 "nbformat": 4,
 "nbformat_minor": 2
}
