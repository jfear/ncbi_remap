{
 "cells": [
  {
   "cell_type": "markdown",
   "metadata": {},
   "source": [
    "I have been working on other projects and have not thought about this project for a month. Need to re-familiarize myself with what has been done and what needs to be done. This notebook is an attempt just to remind myself what is going on."
   ]
  },
  {
   "cell_type": "code",
   "execution_count": 2,
   "metadata": {
    "code_folding": [
     0
    ]
   },
   "outputs": [
    {
     "name": "stdout",
     "output_type": "stream",
     "text": [
      "last updated: 2017-09-15 \n",
      "Git hash: ec5e4e30da99e64bf7cdc77a7333868aa6ba278e\n"
     ]
    }
   ],
   "source": [
    "# %load ../start.py\n",
    "# Load useful extensions\n",
    "\n",
    "# Activate the autoreload extension for easy reloading of external packages\n",
    "%reload_ext autoreload\n",
    "%autoreload 2\n",
    "\n",
    "# Trun on the water mark\n",
    "%reload_ext watermark\n",
    "%watermark -u -d -g\n",
    "\n",
    "# Load ipycache extension\n",
    "%reload_ext ipycache\n",
    "from ipycache import CacheMagics\n",
    "CacheMagics.cachedir = '../cachedir'\n",
    "\n",
    "# Add project library to path\n",
    "import sys\n",
    "sys.path.insert(0, '../../lib/python')\n",
    "\n",
    "# The usual suspects\n",
    "import os\n",
    "import numpy as np\n",
    "import pandas as pd\n",
    "\n",
    "# plotting\n",
    "import matplotlib as mpl\n",
    "import matplotlib.pyplot as plt\n",
    "import seaborn as sns\n",
    "\n",
    "%matplotlib inline\n",
    "sns.set_context('poster')\n",
    "\n",
    "# Turn off scientific notation\n",
    "np.set_printoptions(precision=5, suppress=True)\n"
   ]
  },
  {
   "cell_type": "code",
   "execution_count": 3,
   "metadata": {
    "code_folding": [
     0
    ],
    "collapsed": true
   },
   "outputs": [],
   "source": [
    "# %load ../../bin/load.py\n",
    "from pymongo import MongoClient\n",
    "with open('/home/fearjm/Projects/ncbi_remap/output/.mongodb_host', 'r') as fh:\n",
    "    host = fh.read().strip()\n",
    "client = MongoClient(host=host, port=27022)\n",
    "db = client['sra2']\n",
    "ncbi = db['ncbi']\n",
    "remap = db['remap']"
   ]
  },
  {
   "cell_type": "code",
   "execution_count": 4,
   "metadata": {
    "collapsed": true
   },
   "outputs": [],
   "source": [
    "# imports\n"
   ]
  },
  {
   "cell_type": "code",
   "execution_count": 5,
   "metadata": {
    "code_folding": [
     0
    ]
   },
   "outputs": [
    {
     "data": {
      "text/plain": [
       "[{'cnt': 35363}]"
      ]
     },
     "execution_count": 5,
     "metadata": {},
     "output_type": "execute_result"
    }
   ],
   "source": [
    "# Number of runs\n",
    "list(remap.aggregate([\n",
    "    {'$unwind': '$runs'},\n",
    "    {\n",
    "        '$match': {\n",
    "            'runs.pre_aln_flags': {'$exists': 1}\n",
    "        }\n",
    "    },\n",
    "    {'$count': 'cnt'}\n",
    "]))"
   ]
  },
  {
   "cell_type": "code",
   "execution_count": 6,
   "metadata": {
    "code_folding": [
     0
    ]
   },
   "outputs": [
    {
     "data": {
      "text/plain": [
       "[{'cnt': 21228}]"
      ]
     },
     "execution_count": 6,
     "metadata": {},
     "output_type": "execute_result"
    }
   ],
   "source": [
    "# Number of runs completed\n",
    "list(remap.aggregate([\n",
    "    {'$unwind': '$runs'},\n",
    "    {\n",
    "        '$match': {\n",
    "            'runs.pre_aln_flags': 'complete'\n",
    "        }\n",
    "    },\n",
    "    {'$count': 'cnt'}\n",
    "]))"
   ]
  },
  {
   "cell_type": "code",
   "execution_count": 7,
   "metadata": {
    "code_folding": [
     0
    ]
   },
   "outputs": [
    {
     "name": "stdout",
     "output_type": "stream",
     "text": [
      "There are 11,804 srx that are probably RNA-seq\n",
      "There are 15,689 srr that are probably RNA-seq.\n",
      "There are 15,045 srr that are probably RNA-seq and have completed the pre-align workflow\n"
     ]
    }
   ],
   "source": [
    "# Number of \"RNA-seq\" runs \n",
    "\n",
    "# Get list of srx that look like RNA-seq\n",
    "srxs = [x['srx'] for x in ncbi.aggregate([\n",
    "    {\n",
    "        '$match': {\n",
    "            'sra.experiment.library_strategy': 'RNA-Seq'\n",
    "        }\n",
    "    },\n",
    "    {\n",
    "        '$project': {\n",
    "            '_id': 0,\n",
    "            'srx': '$srx'\n",
    "        }\n",
    "    }\n",
    "])]\n",
    "print('There are {:,} srx that are probably RNA-seq'.format(len(srxs)))\n",
    "\n",
    "srrs = [x['srr'] for x in remap.aggregate([\n",
    "    {\n",
    "        '$match': {\n",
    "            '_id': {'$in': srxs}\n",
    "        }\n",
    "    },\n",
    "    {'$unwind': '$runs'},\n",
    "    {\n",
    "        '$project': {\n",
    "            '_id': 0,\n",
    "            'srr': '$runs.srr'\n",
    "        }\n",
    "    }\n",
    "])]\n",
    "print('There are {:,} srr that are probably RNA-seq.'.format(len(srrs)))\n",
    "\n",
    "srrs_done = [x['srr'] for x in remap.aggregate([\n",
    "    {'$unwind': '$runs'},\n",
    "    {\n",
    "        '$match': {\n",
    "            'runs.srr': {'$in': srrs},\n",
    "            'runs.pre_aln_flags': 'complete'\n",
    "        }\n",
    "    },\n",
    "    {\n",
    "        '$project': {\n",
    "            '_id': 0,\n",
    "            'srr': '$runs.srr'\n",
    "        }\n",
    "    }\n",
    "])]\n",
    "print('There are {:,} srr that are probably RNA-seq and have completed the pre-align workflow'.format(len(srrs_done)))"
   ]
  },
  {
   "cell_type": "code",
   "execution_count": 8,
   "metadata": {
    "code_folding": [
     0
    ],
    "collapsed": true
   },
   "outputs": [],
   "source": [
    "# Why are the ones missing?\n",
    "srrs_not_done = list(remap.aggregate([\n",
    "    {'$unwind': '$runs'},\n",
    "    {\n",
    "        '$match': {\n",
    "            'runs.srr': {'$in': srrs},\n",
    "            'runs.pre_aln_flags': {'$ne': 'complete'}\n",
    "        }\n",
    "    },\n",
    "    {\n",
    "        '$project': {\n",
    "            '_id': 0,\n",
    "            'srr': '$runs.srr',\n",
    "            'flags': '$runs.pre_aln_flags'\n",
    "        }\n",
    "    }\n",
    "]))"
   ]
  },
  {
   "cell_type": "code",
   "execution_count": 9,
   "metadata": {
    "code_folding": [
     0
    ]
   },
   "outputs": [
    {
     "name": "stdout",
     "output_type": "stream",
     "text": [
      "There are 163 srrs that need run.\n"
     ]
    }
   ],
   "source": [
    "# make list of srrs that need running\n",
    "need_running = []\n",
    "for x in srrs_not_done:\n",
    "    if ('alignment_bad' not in x['flags']) and ('download_bad' not in x['flags']) and \\\n",
    "       ('abi_solid' not in x['flags']) and ('quality_scores_bad' not in x['flags']):\n",
    "        need_running.append(x['srr'])\n",
    "print('There are {:,} srrs that need run.'.format(len(need_running)))"
   ]
  },
  {
   "cell_type": "code",
   "execution_count": 10,
   "metadata": {
    "code_folding": [],
    "collapsed": true
   },
   "outputs": [],
   "source": [
    "# Export a priority list\n",
    "with open('../../data/priority.txt', 'w') as fh:\n",
    "    fh.write('\\n'.join(need_running))"
   ]
  },
  {
   "cell_type": "code",
   "execution_count": null,
   "metadata": {
    "collapsed": true
   },
   "outputs": [],
   "source": []
  },
  {
   "cell_type": "code",
   "execution_count": null,
   "metadata": {
    "collapsed": true
   },
   "outputs": [],
   "source": []
  },
  {
   "cell_type": "code",
   "execution_count": 44,
   "metadata": {},
   "outputs": [],
   "source": [
    "jcounts = pd.DataFrame(list(remap.aggregate([\n",
    "    {'$unwind': '$runs'},\n",
    "    {\n",
    "        '$match': {\n",
    "            'runs.pre_aln_flags': 'complete'\n",
    "        }\n",
    "    },\n",
    "    {\n",
    "        '$project': {\n",
    "            '_id': 0,\n",
    "            'srx': '$srx',\n",
    "            'srr': '$runs.srr',\n",
    "            'jcount': '$runs.pre_aln_workflow.featurecounts.Assigned_Junction',\n",
    "            'assigned': '$runs.pre_aln_workflow.featurecounts.Assigned',\n",
    "            'prop_junc': {\n",
    "                '$log10': {\n",
    "                    '$add': [\n",
    "                        {\n",
    "                            '$divide': [\n",
    "                                '$runs.pre_aln_workflow.featurecounts.Assigned_Junction',\n",
    "                                '$runs.pre_aln_workflow.featurecounts.Assigned'\n",
    "                            ]\n",
    "                        },\n",
    "                        1\n",
    "                    ]\n",
    "                }\n",
    "                    \n",
    "            }\n",
    "        }\n",
    "    }\n",
    "])))\n"
   ]
  },
  {
   "cell_type": "code",
   "execution_count": 45,
   "metadata": {},
   "outputs": [
    {
     "data": {
      "text/html": [
       "<div>\n",
       "<table border=\"1\" class=\"dataframe\">\n",
       "  <thead>\n",
       "    <tr style=\"text-align: right;\">\n",
       "      <th></th>\n",
       "      <th>assigned</th>\n",
       "      <th>jcount</th>\n",
       "      <th>prop_junc</th>\n",
       "      <th>srr</th>\n",
       "      <th>srx</th>\n",
       "    </tr>\n",
       "  </thead>\n",
       "  <tbody>\n",
       "    <tr>\n",
       "      <th>0</th>\n",
       "      <td>1003825</td>\n",
       "      <td>15039</td>\n",
       "      <td>0.006458</td>\n",
       "      <td>SRR5278103</td>\n",
       "      <td>SRX2581987</td>\n",
       "    </tr>\n",
       "    <tr>\n",
       "      <th>1</th>\n",
       "      <td>591224</td>\n",
       "      <td>106242</td>\n",
       "      <td>0.071771</td>\n",
       "      <td>SRR5251041</td>\n",
       "      <td>SRX2556775</td>\n",
       "    </tr>\n",
       "    <tr>\n",
       "      <th>2</th>\n",
       "      <td>134674</td>\n",
       "      <td>26199</td>\n",
       "      <td>0.077199</td>\n",
       "      <td>SRR5251040</td>\n",
       "      <td>SRX2556774</td>\n",
       "    </tr>\n",
       "    <tr>\n",
       "      <th>3</th>\n",
       "      <td>637926</td>\n",
       "      <td>126951</td>\n",
       "      <td>0.078821</td>\n",
       "      <td>SRR5251039</td>\n",
       "      <td>SRX2556773</td>\n",
       "    </tr>\n",
       "    <tr>\n",
       "      <th>4</th>\n",
       "      <td>491531</td>\n",
       "      <td>94518</td>\n",
       "      <td>0.076383</td>\n",
       "      <td>SRR5251038</td>\n",
       "      <td>SRX2556772</td>\n",
       "    </tr>\n",
       "  </tbody>\n",
       "</table>\n",
       "</div>"
      ],
      "text/plain": [
       "   assigned  jcount  prop_junc         srr         srx\n",
       "0   1003825   15039   0.006458  SRR5278103  SRX2581987\n",
       "1    591224  106242   0.071771  SRR5251041  SRX2556775\n",
       "2    134674   26199   0.077199  SRR5251040  SRX2556774\n",
       "3    637926  126951   0.078821  SRR5251039  SRX2556773\n",
       "4    491531   94518   0.076383  SRR5251038  SRX2556772"
      ]
     },
     "execution_count": 45,
     "metadata": {},
     "output_type": "execute_result"
    }
   ],
   "source": [
    "jcountsuntsnts.head()"
   ]
  },
  {
   "cell_type": "code",
   "execution_count": 18,
   "metadata": {
    "collapsed": true
   },
   "outputs": [],
   "source": [
    "jcounts['log_prop'] = np.log10(jcounts.prop_junc + 1)"
   ]
  },
  {
   "cell_type": "code",
   "execution_count": 19,
   "metadata": {
    "collapsed": true
   },
   "outputs": [],
   "source": [
    "mask = jcounts.srr.isin(srrs_done)"
   ]
  },
  {
   "cell_type": "code",
   "execution_count": 40,
   "metadata": {},
   "outputs": [
    {
     "data": {
      "text/html": [
       "<div>\n",
       "<table border=\"1\" class=\"dataframe\">\n",
       "  <thead>\n",
       "    <tr style=\"text-align: right;\">\n",
       "      <th></th>\n",
       "      <th>assigned</th>\n",
       "      <th>jcount</th>\n",
       "      <th>prop_junc</th>\n",
       "      <th>srr</th>\n",
       "      <th>srx</th>\n",
       "      <th>log_prop</th>\n",
       "      <th>class</th>\n",
       "    </tr>\n",
       "  </thead>\n",
       "  <tbody>\n",
       "    <tr>\n",
       "      <th>0</th>\n",
       "      <td>1003825</td>\n",
       "      <td>15039</td>\n",
       "      <td>0.014982</td>\n",
       "      <td>SRR5278103</td>\n",
       "      <td>SRX2581987</td>\n",
       "      <td>0.006458</td>\n",
       "      <td>Unknown</td>\n",
       "    </tr>\n",
       "    <tr>\n",
       "      <th>1</th>\n",
       "      <td>591224</td>\n",
       "      <td>106242</td>\n",
       "      <td>0.179698</td>\n",
       "      <td>SRR5251041</td>\n",
       "      <td>SRX2556775</td>\n",
       "      <td>0.071771</td>\n",
       "      <td>RNA-Seq</td>\n",
       "    </tr>\n",
       "    <tr>\n",
       "      <th>2</th>\n",
       "      <td>134674</td>\n",
       "      <td>26199</td>\n",
       "      <td>0.194536</td>\n",
       "      <td>SRR5251040</td>\n",
       "      <td>SRX2556774</td>\n",
       "      <td>0.077199</td>\n",
       "      <td>RNA-Seq</td>\n",
       "    </tr>\n",
       "    <tr>\n",
       "      <th>3</th>\n",
       "      <td>637926</td>\n",
       "      <td>126951</td>\n",
       "      <td>0.199006</td>\n",
       "      <td>SRR5251039</td>\n",
       "      <td>SRX2556773</td>\n",
       "      <td>0.078821</td>\n",
       "      <td>RNA-Seq</td>\n",
       "    </tr>\n",
       "    <tr>\n",
       "      <th>4</th>\n",
       "      <td>491531</td>\n",
       "      <td>94518</td>\n",
       "      <td>0.192293</td>\n",
       "      <td>SRR5251038</td>\n",
       "      <td>SRX2556772</td>\n",
       "      <td>0.076383</td>\n",
       "      <td>RNA-Seq</td>\n",
       "    </tr>\n",
       "  </tbody>\n",
       "</table>\n",
       "</div>"
      ],
      "text/plain": [
       "   assigned  jcount  prop_junc         srr         srx  log_prop    class\n",
       "0   1003825   15039   0.014982  SRR5278103  SRX2581987  0.006458  Unknown\n",
       "1    591224  106242   0.179698  SRR5251041  SRX2556775  0.071771  RNA-Seq\n",
       "2    134674   26199   0.194536  SRR5251040  SRX2556774  0.077199  RNA-Seq\n",
       "3    637926  126951   0.199006  SRR5251039  SRX2556773  0.078821  RNA-Seq\n",
       "4    491531   94518   0.192293  SRR5251038  SRX2556772  0.076383  RNA-Seq"
      ]
     },
     "execution_count": 40,
     "metadata": {},
     "output_type": "execute_result"
    }
   ],
   "source": [
    "jcounts.head()"
   ]
  },
  {
   "cell_type": "code",
   "execution_count": 14,
   "metadata": {
    "collapsed": true
   },
   "outputs": [],
   "source": [
    "import seaborn as sns"
   ]
  },
  {
   "cell_type": "code",
   "execution_count": 15,
   "metadata": {},
   "outputs": [
    {
     "data": {
      "text/plain": [
       "<matplotlib.axes._subplots.AxesSubplot at 0x2aaae8d1f1d0>"
      ]
     },
     "execution_count": 15,
     "metadata": {},
     "output_type": "execute_result"
    },
    {
     "data": {
      "image/png": "[encoded data removed]",
      "text/plain": [
       "<matplotlib.figure.Figure at 0x2aaae8ccd550>"
      ]
     },
     "metadata": {},
     "output_type": "display_data"
    }
   ],
   "source": [
    "sns.distplot(jcounts[~mask].log_prop)\n",
    "sns.distplot(jcounts[mask].log_prop)"
   ]
  },
  {
   "cell_type": "code",
   "execution_count": null,
   "metadata": {
    "collapsed": true
   },
   "outputs": [],
   "source": []
  },
  {
   "cell_type": "code",
   "execution_count": 20,
   "metadata": {
    "collapsed": true
   },
   "outputs": [],
   "source": [
    "jcounts.loc[mask, 'class'] = 'RNA-Seq'\n",
    "jcounts.loc[~mask, 'class'] = 'Unknown'"
   ]
  },
  {
   "cell_type": "code",
   "execution_count": 39,
   "metadata": {},
   "outputs": [
    {
     "data": {
      "text/plain": [
       "<matplotlib.axes._subplots.AxesSubplot at 0x2aaae999e278>"
      ]
     },
     "execution_count": 39,
     "metadata": {},
     "output_type": "execute_result"
    },
    {
     "data": {
      "image/png": "[encoded data removed]",
      "text/plain": [
       "<matplotlib.figure.Figure at 0x2aaae9a6d240>"
      ]
     },
     "metadata": {},
     "output_type": "display_data"
    }
   ],
   "source": [
    "sns.violinplot(x='class', y='log_prop', data=jcounts, inner=\"box\", scale=\"count\")"
   ]
  },
  {
   "cell_type": "code",
   "execution_count": null,
   "metadata": {
    "collapsed": true
   },
   "outputs": [],
   "source": []
  },
  {
   "cell_type": "code",
   "execution_count": null,
   "metadata": {
    "collapsed": true
   },
   "outputs": [],
   "source": []
  },
  {
   "cell_type": "code",
   "execution_count": 95,
   "metadata": {},
   "outputs": [
    {
     "data": {
      "text/html": [
       "<div>\n",
       "<table border=\"1\" class=\"dataframe\">\n",
       "  <thead>\n",
       "    <tr style=\"text-align: right;\">\n",
       "      <th></th>\n",
       "      <th>assigned</th>\n",
       "      <th>jcount</th>\n",
       "      <th>prop_junc</th>\n",
       "      <th>srr</th>\n",
       "      <th>srx</th>\n",
       "    </tr>\n",
       "  </thead>\n",
       "  <tbody>\n",
       "    <tr>\n",
       "      <th>0</th>\n",
       "      <td>591224</td>\n",
       "      <td>106242</td>\n",
       "      <td>0.179698</td>\n",
       "      <td>SRR5251041</td>\n",
       "      <td>SRX2556775</td>\n",
       "    </tr>\n",
       "    <tr>\n",
       "      <th>1</th>\n",
       "      <td>134674</td>\n",
       "      <td>26199</td>\n",
       "      <td>0.194536</td>\n",
       "      <td>SRR5251040</td>\n",
       "      <td>SRX2556774</td>\n",
       "    </tr>\n",
       "    <tr>\n",
       "      <th>2</th>\n",
       "      <td>637926</td>\n",
       "      <td>126951</td>\n",
       "      <td>0.199006</td>\n",
       "      <td>SRR5251039</td>\n",
       "      <td>SRX2556773</td>\n",
       "    </tr>\n",
       "    <tr>\n",
       "      <th>3</th>\n",
       "      <td>491531</td>\n",
       "      <td>94518</td>\n",
       "      <td>0.192293</td>\n",
       "      <td>SRR5251038</td>\n",
       "      <td>SRX2556772</td>\n",
       "    </tr>\n",
       "    <tr>\n",
       "      <th>4</th>\n",
       "      <td>520724</td>\n",
       "      <td>99359</td>\n",
       "      <td>0.190809</td>\n",
       "      <td>SRR5251037</td>\n",
       "      <td>SRX2556771</td>\n",
       "    </tr>\n",
       "  </tbody>\n",
       "</table>\n",
       "</div>"
      ],
      "text/plain": [
       "   assigned  jcount  prop_junc         srr         srx\n",
       "0    591224  106242   0.179698  SRR5251041  SRX2556775\n",
       "1    134674   26199   0.194536  SRR5251040  SRX2556774\n",
       "2    637926  126951   0.199006  SRR5251039  SRX2556773\n",
       "3    491531   94518   0.192293  SRR5251038  SRX2556772\n",
       "4    520724   99359   0.190809  SRR5251037  SRX2556771"
      ]
     },
     "execution_count": 95,
     "metadata": {},
     "output_type": "execute_result"
    }
   ],
   "source": [
    "jcounts.head()"
   ]
  },
  {
   "cell_type": "code",
   "execution_count": null,
   "metadata": {
    "collapsed": true
   },
   "outputs": [],
   "source": []
  },
  {
   "cell_type": "code",
   "execution_count": null,
   "metadata": {
    "collapsed": true
   },
   "outputs": [],
   "source": []
  },
  {
   "cell_type": "code",
   "execution_count": null,
   "metadata": {
    "collapsed": true
   },
   "outputs": [],
   "source": []
  },
  {
   "cell_type": "code",
   "execution_count": null,
   "metadata": {
    "collapsed": true
   },
   "outputs": [],
   "source": []
  },
  {
   "cell_type": "code",
   "execution_count": null,
   "metadata": {
    "collapsed": true
   },
   "outputs": [],
   "source": []
  },
  {
   "cell_type": "code",
   "execution_count": null,
   "metadata": {
    "collapsed": true
   },
   "outputs": [],
   "source": []
  },
  {
   "cell_type": "code",
   "execution_count": null,
   "metadata": {
    "collapsed": true
   },
   "outputs": [],
   "source": []
  },
  {
   "cell_type": "code",
   "execution_count": null,
   "metadata": {
    "collapsed": true
   },
   "outputs": [],
   "source": []
  },
  {
   "cell_type": "code",
   "execution_count": null,
   "metadata": {
    "collapsed": true
   },
   "outputs": [],
   "source": []
  },
  {
   "cell_type": "code",
   "execution_count": null,
   "metadata": {
    "collapsed": true
   },
   "outputs": [],
   "source": []
  },
  {
   "cell_type": "code",
   "execution_count": 56,
   "metadata": {
    "code_folding": [
     0
    ]
   },
   "outputs": [
    {
     "name": "stdout",
     "output_type": "stream",
     "text": [
      "There are 3,474 srx that are probably ChIP-seq\n",
      "There are 3,921 srr that are probably ChIP-seq.\n",
      "There are 630 srr that are probably ChIP-seq and have completed the pre-align workflow\n"
     ]
    }
   ],
   "source": [
    "# What about chip-seq\n",
    "# Get list of srx that look like ChIP-Seq\n",
    "chip_srxs = [x['srx'] for x in ncbi.aggregate([\n",
    "    {\n",
    "        '$match': {\n",
    "            'sra.experiment.library_strategy': 'ChIP-Seq'\n",
    "        }\n",
    "    },\n",
    "    {\n",
    "        '$project': {\n",
    "            '_id': 0,\n",
    "            'srx': '$srx'\n",
    "        }\n",
    "    }\n",
    "])]\n",
    "print('There are {:,} srx that are probably ChIP-seq'.format(len(chip_srxs)))\n",
    "\n",
    "# Get a list of srrs for these srxs\n",
    "chip_srrs = [x['srr'] for x in remap.aggregate([\n",
    "    {\n",
    "        '$match': {\n",
    "            '_id': {'$in': chip_srxs}\n",
    "        }\n",
    "    },\n",
    "    {'$unwind': '$runs'},\n",
    "    {\n",
    "        '$project': {\n",
    "            '_id': 0,\n",
    "            'srr': '$runs.srr'\n",
    "        }\n",
    "    }\n",
    "])]\n",
    "print('There are {:,} srr that are probably ChIP-seq.'.format(len(chip_srrs)))\n",
    "\n",
    "# Get list of complete srrs\n",
    "chip_srrs_done = [x['srr'] for x in remap.aggregate([\n",
    "    {'$unwind': '$runs'},\n",
    "    {\n",
    "        '$match': {\n",
    "            'runs.srr': {'$in': chip_srrs},\n",
    "            'runs.pre_aln_flags': 'complete'\n",
    "        }\n",
    "    },\n",
    "    {\n",
    "        '$project': {\n",
    "            '_id': 0,\n",
    "            'srr': '$runs.srr'\n",
    "        }\n",
    "    }\n",
    "])]\n",
    "print('There are {:,} srr that are probably ChIP-seq and have completed the pre-align workflow'.format(len(chip_srrs_done)))"
   ]
  },
  {
   "cell_type": "code",
   "execution_count": null,
   "metadata": {
    "collapsed": true
   },
   "outputs": [],
   "source": []
  },
  {
   "cell_type": "code",
   "execution_count": null,
   "metadata": {
    "collapsed": true
   },
   "outputs": [],
   "source": []
  },
  {
   "cell_type": "code",
   "execution_count": null,
   "metadata": {
    "collapsed": true
   },
   "outputs": [],
   "source": []
  },
  {
   "cell_type": "code",
   "execution_count": null,
   "metadata": {
    "collapsed": true
   },
   "outputs": [],
   "source": []
  }
 ],
 "metadata": {
  "kernelspec": {
   "display_name": "Python [conda env:ncbi_remap]",
   "language": "python",
   "name": "conda-env-ncbi_remap-py"
  },
  "language_info": {
   "codemirror_mode": {
    "name": "ipython",
    "version": 3
   },
   "file_extension": ".py",
   "mimetype": "text/x-python",
   "name": "python",
   "nbconvert_exporter": "python",
   "pygments_lexer": "ipython3",
   "version": "3.5.3"
  },
  "toc": {
   "nav_menu": {},
   "number_sections": true,
   "sideBar": true,
   "skip_h1_title": false,
   "toc_cell": false,
   "toc_position": {},
   "toc_section_display": "block",
   "toc_window_display": false
  }
 },
 "nbformat": 4,
 "nbformat_minor": 2
}
