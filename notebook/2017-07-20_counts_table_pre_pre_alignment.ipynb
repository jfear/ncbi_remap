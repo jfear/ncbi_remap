{
 "cells": [
  {
   "cell_type": "markdown",
   "metadata": {},
   "source": [
    "# Counts Table pre-pre_aln"
   ]
  },
  {
   "cell_type": "code",
   "execution_count": 1,
   "metadata": {
    "code_folding": [
     0
    ],
    "collapsed": false
   },
   "outputs": [
    {
     "name": "stdout",
     "output_type": "stream",
     "text": [
      "last updated: 2017-07-21 \n",
      "Git hash: 667797bb512f88c9803b2342738a55cbf0c9297a\n"
     ]
    }
   ],
   "source": [
    "# %load ../start.py\n",
    "# Load useful extensions\n",
    "\n",
    "# Activate the autoreload extension for easy reloading of external packages\n",
    "%reload_ext autoreload\n",
    "%autoreload 2\n",
    "\n",
    "# Trun on the water mark\n",
    "%reload_ext watermark\n",
    "%watermark -u -d -g\n",
    "\n",
    "# Load ipycache extension\n",
    "%reload_ext ipycache\n",
    "from ipycache import CacheMagics\n",
    "CacheMagics.cachedir = '../cachedir'\n",
    "\n",
    "# Add project library to path\n",
    "import sys\n",
    "sys.path.insert(0, '../../lib/python')\n",
    "\n",
    "# The usual suspects\n",
    "import os\n",
    "import numpy as np\n",
    "import pandas as pd\n",
    "\n",
    "# plotting\n",
    "import matplotlib as mpl\n",
    "import matplotlib.pyplot as plt\n",
    "import seaborn as sns\n",
    "\n",
    "%matplotlib inline\n",
    "sns.set_context('poster')\n",
    "\n",
    "# Turn off scientific notation\n",
    "np.set_printoptions(precision=5, suppress=True)\n"
   ]
  },
  {
   "cell_type": "markdown",
   "metadata": {},
   "source": [
    "I envision Table S1 being a summary of the pre-pre-alignment workflow.\n",
    "\n",
    "Workflow:\n",
    "* Download FASTQ file\n",
    "* Determine library layout (aka SE vs PE)\n",
    "* Calculate md5sum of FASTQ(s)\n",
    "* Count the total number of reads for FASTQ(s)\n",
    "* Calculate the average read length for FASTQ(s)"
   ]
  },
  {
   "cell_type": "code",
   "execution_count": 2,
   "metadata": {
    "code_folding": [
     0
    ],
    "collapsed": true
   },
   "outputs": [],
   "source": [
    "# %load ../../bin/load.py\n",
    "from pymongo import MongoClient\n",
    "with open('/home/fearjm/Projects/ncbi_remap/output/.mongodb_host', 'r') as fh:\n",
    "    host = fh.read().strip()\n",
    "client = MongoClient(host=host, port=27022)\n",
    "db = client['sra2']\n",
    "remap = db['remap']"
   ]
  },
  {
   "cell_type": "code",
   "execution_count": 7,
   "metadata": {
    "code_folding": [
     0
    ],
    "collapsed": false
   },
   "outputs": [
    {
     "name": "stdout",
     "output_type": "stream",
     "text": [
      "There are 35,382 runs in the current database.\n"
     ]
    }
   ],
   "source": [
    "# Total number\n",
    "tot = remap.aggregate([\n",
    "    {'$unwind': '$runs'},\n",
    "    {'$count': 'cnt'}\n",
    "]).next()['cnt']\n",
    "\n",
    "print('There are {:,} runs in the current database.'.format(tot))"
   ]
  },
  {
   "cell_type": "code",
   "execution_count": 4,
   "metadata": {
    "code_folding": [],
    "collapsed": false
   },
   "outputs": [
    {
     "name": "stdout",
     "output_type": "stream",
     "text": [
      "There are 35,382 runs that have been downloaded and examine.\n"
     ]
    }
   ],
   "source": [
    "# Number of runs with pre_aln_flags\n",
    "preDone = remap.aggregate([\n",
    "    {'$unwind': '$runs'},\n",
    "    {\n",
    "        '$match': {\n",
    "            'runs.pre_aln_flags': {'$exists': 1},\n",
    "        }\n",
    "    },\n",
    "    {'$count': 'cnt'}\n",
    "]).next()['cnt']\n",
    "\n",
    "print('There are {:,} runs that have been downloaded and examine.'.format(preDone))"
   ]
  },
  {
   "cell_type": "code",
   "execution_count": 8,
   "metadata": {
    "code_folding": [
     0
    ],
    "collapsed": false
   },
   "outputs": [
    {
     "name": "stdout",
     "output_type": "stream",
     "text": [
      "There are 49 runs I could not download.\n"
     ]
    }
   ],
   "source": [
    "# Number of runs with pre_aln_flags = download_bad\n",
    "downloadFail = remap.aggregate([\n",
    "    {'$unwind': '$runs'},\n",
    "    {\n",
    "        '$match': {\n",
    "            'runs.pre_aln_flags': 'download_bad'\n",
    "        }\n",
    "    },\n",
    "    {'$count': 'cnt'}\n",
    "]).next()['cnt']\n",
    "\n",
    "print('There are {:,} runs I could not download.'.format(downloadFail))"
   ]
  },
  {
   "cell_type": "code",
   "execution_count": 11,
   "metadata": {
    "code_folding": [
     0
    ],
    "collapsed": false
   },
   "outputs": [
    {
     "name": "stdout",
     "output_type": "stream",
     "text": [
      "There are 13,935 SE runs.\n"
     ]
    }
   ],
   "source": [
    "# Number of runs with pre_aln_flags = SE\n",
    "se = remap.aggregate([\n",
    "    {'$unwind': '$runs'},\n",
    "    {\n",
    "        '$match': {\n",
    "            'runs.pre_aln_flags': 'SE'\n",
    "        }\n",
    "    },\n",
    "    {'$count': 'cnt'}\n",
    "]).next()['cnt']\n",
    "\n",
    "print('There are {:,} SE runs.'.format(se))"
   ]
  },
  {
   "cell_type": "code",
   "execution_count": 12,
   "metadata": {
    "code_folding": [
     0
    ],
    "collapsed": false
   },
   "outputs": [
    {
     "name": "stdout",
     "output_type": "stream",
     "text": [
      "There are 5,214 PE runs.\n"
     ]
    }
   ],
   "source": [
    "# Number of runs with pre_aln_flags = PE\n",
    "pe = remap.aggregate([\n",
    "    {'$unwind': '$runs'},\n",
    "    {\n",
    "        '$match': {\n",
    "            'runs.pre_aln_flags': 'PE',\n",
    "        }\n",
    "    },\n",
    "    {'$count': 'cnt'}\n",
    "]).next()['cnt']\n",
    "\n",
    "print('There are {:,} PE runs.'.format(pe))"
   ]
  },
  {
   "cell_type": "code",
   "execution_count": 13,
   "metadata": {
    "code_folding": [
     0
    ],
    "collapsed": false
   },
   "outputs": [
    {
     "name": "stdout",
     "output_type": "stream",
     "text": [
      "There are 432 runs that looked PE, but had a problem mate.\n"
     ]
    }
   ],
   "source": [
    "# Number of runs with pre_aln_flags = keep aka PE reads with bad mate pair\n",
    "keep = remap.aggregate([\n",
    "    {'$unwind': '$runs'},\n",
    "    {\n",
    "        '$match': {\n",
    "            'runs.pre_aln_flags': {'$in': ['keep_R1', 'keep_R2']},\n",
    "        }\n",
    "    },\n",
    "    {'$count': 'cnt'}\n",
    "]).next()['cnt']\n",
    "\n",
    "print('There are {:,} runs that looked PE, but had a problem mate.'.format(keep))"
   ]
  },
  {
   "cell_type": "code",
   "execution_count": null,
   "metadata": {
    "collapsed": true
   },
   "outputs": [],
   "source": []
  },
  {
   "cell_type": "code",
   "execution_count": null,
   "metadata": {
    "code_folding": [
     0
    ],
    "collapsed": false
   },
   "outputs": [],
   "source": [
    "# Number of runs with pre_aln_flags = keep aka PE reads with bad mate pair\n",
    "list(remap.aggregate([\n",
    "    {'$unwind': '$runs'},\n",
    "    {'$unwind': '$runs.pre_aln_flags'},\n",
    "    {\n",
    "        '$project': {\n",
    "            '_id': 0,\n",
    "            'pre': '$runs.pre_aln_flags'\n",
    "        }\n",
    "    },\n",
    "    {\n",
    "        '$group': {\n",
    "            '_id': '$pre',\n",
    "            'cnt': {'$sum': 1}\n",
    "        }\n",
    "    }\n",
    "]))"
   ]
  },
  {
   "cell_type": "code",
   "execution_count": null,
   "metadata": {
    "collapsed": true
   },
   "outputs": [],
   "source": []
  }
 ],
 "metadata": {
  "anaconda-cloud": {},
  "kernelspec": {
   "display_name": "Python [conda env:ncbi_remap]",
   "language": "python",
   "name": "conda-env-ncbi_remap-py"
  },
  "language_info": {
   "codemirror_mode": {
    "name": "ipython",
    "version": 3
   },
   "file_extension": ".py",
   "mimetype": "text/x-python",
   "name": "python",
   "nbconvert_exporter": "python",
   "pygments_lexer": "ipython3",
   "version": "3.5.3"
  },
  "nav_menu": {},
  "toc": {
   "navigate_menu": true,
   "number_sections": false,
   "sideBar": true,
   "threshold": 6,
   "toc_cell": false,
   "toc_section_display": "block",
   "toc_window_display": false
  }
 },
 "nbformat": 4,
 "nbformat_minor": 2
}
