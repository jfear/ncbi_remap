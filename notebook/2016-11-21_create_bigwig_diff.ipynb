{
 "cells": [
  {
   "cell_type": "code",
   "execution_count": 1,
   "metadata": {
    "code_folding": [],
    "collapsed": false
   },
   "outputs": [
    {
     "name": "stdout",
     "output_type": "stream",
     "text": [
      "last updated: 2016-11-21 \n",
      "\n",
      "CPython 3.5.2\n",
      "IPython 5.1.0\n"
     ]
    }
   ],
   "source": [
    "# %load ../start.py\n",
    "# Activate the autoreload extension for easy reloading of external packages\n",
    "%reload_ext autoreload\n",
    "%autoreload 1\n",
    "\n",
    "# Trun on the water mark\n",
    "%reload_ext watermark\n",
    "%watermark -u -d -v"
   ]
  },
  {
   "cell_type": "markdown",
   "metadata": {
    "collapsed": true
   },
   "source": [
    "Sequence gazing with Hisat2 and Magic alginment files has shown that there are some differences between the two, but these differences appear to be moderate. To look more closely at these differences I am taking the differences `Hisat2 - Magic` and creating a new track. A normalization schema is needed to compare these two file because overall the Hisat2 is aligning more reads. I have decided on a simple rank based quantile normalization. Basic logic is as follow:\n",
    "\n",
    "For Hisat2 and Magic I have bigwig files which associate position with a count.\n",
    "\n",
    "|position | Hisat2 | Magic|\n",
    "|-------------------------|\n",
    "|1        | 5      | 4    |\n",
    "|2        | 2      | 1    |\n",
    "|3        | 3      | 4    |\n",
    "|4        | 4      | 2    |\n",
    "\n",
    "For each chromosome determine the ranks of each value for Hisat2 and Magic separately.\n",
    "\n",
    "|position | Hisat2 | Magic|\n",
    "|-------------------------|\n",
    "|1        | iv     | iii  |\n",
    "|2        | i      | i    |\n",
    "|3        | ii     | iii  |\n",
    "|4        | iii    | ii   |\n",
    "\n",
    "Then sort the Hisat2 values by its ranks and the Magic values by its ranks and average across rows.\n",
    "\n",
    "|rank     | Hisat2 | Magic| Mean |\n",
    "|--------------------------------|\n",
    "|i        | 2      | 1    | 1.5  |\n",
    "|ii       | 3      | 2    | 2.5  |\n",
    "|iii      | 4      | 4    | 4    |\n",
    "|iv       | 5      | 4    | 4.5  |\n",
    "\n",
    "Replace the original values with its ranks corresponding Mean.\n",
    "\n",
    "|position | Hisat2 | Magic|\n",
    "|-------------------------|\n",
    "|1        | 4.5    | 4    |\n",
    "|2        | 1.5    | 1.5  |\n",
    "|3        | 2.5    | 4    |\n",
    "|4        | 4      | 2.5  |\n",
    "\n",
    "Then take difference of `Hisat2 - Magic`\n",
    "\n",
    "|position | Hisat2 | Magic| Diff |\n",
    "|-------------------------|------|\n",
    "|1        | 4.5    | 4    | 0.5  |\n",
    "|2        | 1.5    | 1.5  | 0    |\n",
    "|3        | 2.5    | 4    | -1.5 |\n",
    "|4        | 4      | 2.5  | 1.5  |\n",
    "\n",
    "New tracks can be found in a number of places:\n",
    "\n",
    "**On DGS**\n",
    "\n",
    "smb://niddkb8na2.niddk.nih.gov/LCDB_DGS/people/Fearjm/IGV_Stuff/diff_magic_zhenxia_318_golden_set_2016-06-14_plus.bw\n",
    "\n",
    "smb://niddkb8na2.niddk.nih.gov/LCDB_DGS/people/Fearjm/IGV_Stuff/diff_magic_zhenxia_318_golden_set_2016-06-14_minus.bw\n",
    "\n",
    "**Download BigWigs**\n",
    "\n",
    "https://helix.nih.gov/~fearjm/ncbi_remap/dm6/diff_magic_zhenxia_318_golden_set_2016-06-14_plus.bw\n",
    "\n",
    "https://helix.nih.gov/~fearjm/ncbi_remap/dm6/diff_magic_zhenxia_318_golden_set_2016-06-14_minus.bw\n",
    "\n",
    "\n",
    "**View on UCSC**\n",
    "\n",
    "http://genome.ucsc.edu/cgi-bin/hgTracks?db=dm6&hubUrl=https://helix.nih.gov/~fearjm/ncbi_remap/hub.txt"
   ]
  },
  {
   "cell_type": "code",
   "execution_count": 2,
   "metadata": {
    "code_folding": [],
    "collapsed": false
   },
   "outputs": [],
   "source": [
    "# Imports\n",
    "import numpy as np\n",
    "import scipy as sp\n",
    "from scipy.stats import rankdata\n",
    "\n",
    "import pyBigWig"
   ]
  },
  {
   "cell_type": "code",
   "execution_count": 3,
   "metadata": {
    "code_folding": [],
    "collapsed": true
   },
   "outputs": [],
   "source": [
    "def normalize(array1, array2):\n",
    "    \"\"\" Quantile normalize two arrays and return the difference of array1 - array2\n",
    "    \n",
    "    Parameters\n",
    "    ----------\n",
    "    array1: numpy.array\n",
    "        A genomic array where each position is a base on a chromosome from one bigwig file.\n",
    "        \n",
    "    array2: numpy.array\n",
    "        A genomic array where each position is a base on a chromosome from one bigwig file.\n",
    "        \n",
    "    Returns\n",
    "    -------\n",
    "    numpy.array: Difference between array1 - array2\n",
    "    \n",
    "    Example\n",
    "    -------\n",
    "    >>> array1 = np.array([25, 10, 5, 20])\n",
    "    >>> array2 = np.array([20, 25, 10, 40])\n",
    "    >>> normalize(array1, array2)\n",
    "    array([ 17,  -7,   0, -10])\n",
    "    \n",
    "    \"\"\"\n",
    "    # make sure the arrays are numpy arrays\n",
    "    array1 = np.array(array1)\n",
    "    array2 = np.array(array2)\n",
    "    \n",
    "    # Fill NaN's with 0's\n",
    "    ## Many positions are not in the big wig file because we droped 0's\n",
    "    array1[np.isnan(array1)] = 0\n",
    "    array2[np.isnan(array2)] = 0\n",
    "    \n",
    "    # Make sure these are floats for latter\n",
    "    array1 = array1.astype('float')\n",
    "    array2 = array2.astype('float')\n",
    "    \n",
    "    # get ranks of each array\n",
    "    rank1 = rankdata(array1, method='dense')\n",
    "    rank2 = rankdata(array2, method='dense')\n",
    "    \n",
    "    # Get rank sort order\n",
    "    sort1 = np.argsort(rank1)\n",
    "    sort2 = np.argsort(rank2)\n",
    "    \n",
    "    # Calculate avgerage value for each rank\n",
    "    ## sort original values by rank order\n",
    "    ## take mean for each position\n",
    "    avg = np.mean([array1[sort1], array2[sort2]], axis=0)\n",
    "    \n",
    "    # replace original values with rank average\n",
    "    array1[sort1] = avg\n",
    "    array2[sort2] = avg\n",
    "    \n",
    "    # Return the difference\n",
    "    return array1 - array2"
   ]
  },
  {
   "cell_type": "markdown",
   "metadata": {},
   "source": [
    "# Compare Forward Strand"
   ]
  },
  {
   "cell_type": "code",
   "execution_count": 24,
   "metadata": {
    "code_folding": [],
    "collapsed": false
   },
   "outputs": [],
   "source": [
    "# Load Zhenxia's bigwigs\n",
    "zbw = pyBigWig.open('../../output/312_sample_golden_set_2016-06-14.Sf.deeptools.merged.bw', 'r')"
   ]
  },
  {
   "cell_type": "code",
   "execution_count": 25,
   "metadata": {
    "code_folding": [],
    "collapsed": false
   },
   "outputs": [],
   "source": [
    "# Load Magic's bigwigs\n",
    "mbw = pyBigWig.open('/data/MiegNCBI/bigwig/droso.magic.318_runs.strand_plus.unique_complete.bw', 'r')"
   ]
  },
  {
   "cell_type": "code",
   "execution_count": 6,
   "metadata": {
    "collapsed": true
   },
   "outputs": [],
   "source": [
    "# Create a bigwig for the difference\n",
    "dbw = pyBigWig.open('../../output/diff_magic_zhenxia_318_golden_set_2016-06-14_plus.bw', 'w')\n",
    "\n",
    "# add chromosome header to new bigwig file\n",
    "chroms = sorted([(k, v) for k, v in mbw.chroms().items()], key=lambda x: x[0])\n",
    "dbw.addHeader(chroms)"
   ]
  },
  {
   "cell_type": "code",
   "execution_count": 7,
   "metadata": {
    "collapsed": false,
    "run_control": {
     "marked": false
    }
   },
   "outputs": [],
   "source": [
    "# Make sure we have the same chromosomes in Hisat2 and Magic\n",
    "assert zbw.chroms() == mbw.chroms()"
   ]
  },
  {
   "cell_type": "code",
   "execution_count": 8,
   "metadata": {
    "collapsed": false
   },
   "outputs": [],
   "source": [
    "# Iterate over each chromosome, normalize, and take the difference\n",
    "for ch, l in chroms:\n",
    "    diffs = normalize(zbw.values(ch, 0, l), mbw.values(ch, 0, l))\n",
    "    chrom = [ch, ] * len(diffs)\n",
    "    start = np.array(range(0, len(diffs)))\n",
    "    end = start + 1\n",
    "    dbw.addEntries(chrom, start.tolist(), ends=end.tolist(), values=diffs.tolist())"
   ]
  },
  {
   "cell_type": "code",
   "execution_count": 9,
   "metadata": {
    "collapsed": true
   },
   "outputs": [],
   "source": [
    "# Close the diff bigwig file\n",
    "dbw.close()"
   ]
  },
  {
   "cell_type": "code",
   "execution_count": 26,
   "metadata": {
    "collapsed": false
   },
   "outputs": [
    {
     "name": "stdout",
     "output_type": "stream",
     "text": [
      "Hisat2 Forward Strand Basic Stats\n",
      "{'minVal': 1, 'maxVal': 8829180, 'version': 4, 'sumData': 384498468270, 'sumSquared': 243219925029647520, 'nBasesCovered': 130771288, 'nLevels': 10}\n",
      "\n",
      "Magic Forward Strand Basic Stats\n",
      "{'minVal': 0, 'maxVal': 6660606, 'version': 4, 'sumData': 318486315892, 'sumSquared': 157557043153038208, 'nBasesCovered': 139294268, 'nLevels': 10}\n",
      "\n",
      "Difference Forward Strand Basic Stats\n",
      "{'minVal': -6263941, 'maxVal': 7067759, 'version': 4, 'sumData': 0, 'sumSquared': 29212293615965500, 'nBasesCovered': 137547960, 'nLevels': 8}\n"
     ]
    }
   ],
   "source": [
    "# Print basic stats for each file\n",
    "print('Hisat2 Forward Strand Basic Stats')\n",
    "print(zbw.header())\n",
    "\n",
    "print('\\nMagic Forward Strand Basic Stats')\n",
    "print(mbw.header())\n",
    "\n",
    "dbw = pyBigWig.open('../../output/diff_magic_zhenxia_318_golden_set_2016-06-14_plus.bw', 'r')\n",
    "print('\\nDifference Forward Strand Basic Stats')\n",
    "print(dbw.header())"
   ]
  },
  {
   "cell_type": "code",
   "execution_count": null,
   "metadata": {
    "collapsed": true
   },
   "outputs": [],
   "source": [
    "# Close all of the open BigWig Files\n",
    "dbw.close()\n",
    "zbw.close()\n",
    "mbw.close()"
   ]
  },
  {
   "cell_type": "markdown",
   "metadata": {},
   "source": [
    "# Compare Reverse Strand"
   ]
  },
  {
   "cell_type": "code",
   "execution_count": 20,
   "metadata": {
    "code_folding": [],
    "collapsed": false
   },
   "outputs": [],
   "source": [
    "# Load Zhenxia's bigwigs\n",
    "zbw = pyBigWig.open('../../output/312_sample_golden_set_2016-06-14.Sr.deeptools.merged.bw', 'r')"
   ]
  },
  {
   "cell_type": "code",
   "execution_count": 21,
   "metadata": {
    "code_folding": [],
    "collapsed": false
   },
   "outputs": [],
   "source": [
    "# Load Magic's bigwigs\n",
    "mbw = pyBigWig.open('/data/MiegNCBI/bigwig/droso.magic.318_runs.strand_minus.unique_complete.bw', 'r')"
   ]
  },
  {
   "cell_type": "code",
   "execution_count": 14,
   "metadata": {
    "collapsed": true
   },
   "outputs": [],
   "source": [
    "# Create a bigwig for the difference\n",
    "dbw = pyBigWig.open('../../output/diff_magic_zhenxia_318_golden_set_2016-06-14_minus.bw', 'w')\n",
    "\n",
    "# add chromosome header to new bigwig file\n",
    "chroms = sorted([(k, v) for k, v in mbw.chroms().items()], key=lambda x: x[0])\n",
    "dbw.addHeader(chroms)"
   ]
  },
  {
   "cell_type": "code",
   "execution_count": 15,
   "metadata": {
    "collapsed": false,
    "run_control": {
     "marked": false
    }
   },
   "outputs": [],
   "source": [
    "# Make sure we have the same chromosomes in Hisat2 and Magic\n",
    "assert zbw.chroms() == mbw.chroms()"
   ]
  },
  {
   "cell_type": "code",
   "execution_count": 16,
   "metadata": {
    "collapsed": false
   },
   "outputs": [],
   "source": [
    "# Iterate over each chromosome, normalize, and take the difference\n",
    "for ch, l in chroms:\n",
    "    diffs = normalize(zbw.values(ch, 0, l), mbw.values(ch, 0, l))\n",
    "    chrom = [ch, ] * len(diffs)\n",
    "    start = np.array(range(0, len(diffs)))\n",
    "    end = start + 1\n",
    "    dbw.addEntries(chrom, start.tolist(), ends=end.tolist(), values=diffs.tolist())"
   ]
  },
  {
   "cell_type": "code",
   "execution_count": 17,
   "metadata": {
    "collapsed": true
   },
   "outputs": [],
   "source": [
    "# Close the diff bigwig file\n",
    "dbw.close()"
   ]
  },
  {
   "cell_type": "code",
   "execution_count": 23,
   "metadata": {
    "collapsed": false
   },
   "outputs": [
    {
     "name": "stdout",
     "output_type": "stream",
     "text": [
      "Hisat2 Forward Strand Basic Stats\n",
      "{'minVal': 1, 'maxVal': 10248600, 'version': 4, 'sumData': 381893625429, 'sumSquared': 274580790932070464, 'nBasesCovered': 129618008, 'nLevels': 10}\n",
      "\n",
      "Magic Forward Strand Basic Stats\n",
      "{'minVal': 0, 'maxVal': 7414655, 'version': 4, 'sumData': 321505643003, 'sumSquared': 158525168523731008, 'nBasesCovered': 139294397, 'nLevels': 10}\n",
      "\n",
      "Difference Forward Strand Basic Stats\n",
      "{'minVal': -4054536, 'maxVal': 6817810, 'version': 4, 'sumData': 0, 'sumSquared': 49636485695617072, 'nBasesCovered': 137547960, 'nLevels': 8}\n"
     ]
    }
   ],
   "source": [
    "# Print basic stats for each file\n",
    "print('Hisat2 Forward Strand Basic Stats')\n",
    "print(zbw.header())\n",
    "\n",
    "print('\\nMagic Forward Strand Basic Stats')\n",
    "print(mbw.header())\n",
    "\n",
    "dbw = pyBigWig.open('../../output/diff_magic_zhenxia_318_golden_set_2016-06-14_minus.bw', 'r')\n",
    "print('\\nDifference Forward Strand Basic Stats')\n",
    "print(dbw.header())"
   ]
  },
  {
   "cell_type": "code",
   "execution_count": 19,
   "metadata": {
    "collapsed": true
   },
   "outputs": [],
   "source": [
    "# Close all of the open BigWig Files\n",
    "dbw.close()\n",
    "zbw.close()\n",
    "mbw.close()"
   ]
  },
  {
   "cell_type": "code",
   "execution_count": null,
   "metadata": {
    "collapsed": true
   },
   "outputs": [],
   "source": []
  }
 ],
 "metadata": {
  "anaconda-cloud": {},
  "kernelspec": {
   "display_name": "Python [conda env:ncbi_remap]",
   "language": "python",
   "name": "conda-env-ncbi_remap-py"
  },
  "language_info": {
   "codemirror_mode": {
    "name": "ipython",
    "version": 3
   },
   "file_extension": ".py",
   "mimetype": "text/x-python",
   "name": "python",
   "nbconvert_exporter": "python",
   "pygments_lexer": "ipython3",
   "version": "3.5.2"
  },
  "nav_menu": {},
  "report": {
   "author": "Justin Fear",
   "date": "2016-08-31",
   "email": "justin.fear@nih.gov",
   "title": "Compare and Contrast Magic and Zhenxia BigWigs"
  },
  "toc": {
   "navigate_menu": true,
   "number_sections": false,
   "sideBar": true,
   "threshold": 6,
   "toc_cell": false,
   "toc_section_display": "block",
   "toc_window_display": true
  }
 },
 "nbformat": 4,
 "nbformat_minor": 0
}
