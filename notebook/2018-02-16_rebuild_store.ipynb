{
 "cells": [
  {
   "cell_type": "markdown",
   "metadata": {},
   "source": [
    "# Rebuild SRA Store"
   ]
  },
  {
   "cell_type": "code",
   "execution_count": 1,
   "metadata": {},
   "outputs": [
    {
     "name": "stdout",
     "output_type": "stream",
     "text": [
      "Please check output/fbgn2chrom.tsv. If it does not exist, run bin/fbgn2chrom.py\n",
      "last updated: 2018-02-18 \n",
      "Git hash: 52de887b1e498cf97f88ca6e19510826d15109e4\n"
     ]
    }
   ],
   "source": [
    "import os\n",
    "import sys\n",
    "from pathlib import Path\n",
    "import gzip\n",
    "\n",
    "from IPython.display import display, HTML, Markdown\n",
    "import numpy as np\n",
    "import pandas as pd\n",
    "from dask.delayed import delayed\n",
    "from dask.distributed import Client\n",
    "\n",
    "import matplotlib as mpl\n",
    "import matplotlib.pyplot as plt\n",
    "import seaborn as sns\n",
    "\n",
    "# Project level imports\n",
    "sys.path.insert(0, '../lib')\n",
    "from ncbi_remap.config import DATA_STORE\n",
    "from ncbi_remap.notebook import Nb\n",
    "from ncbi_remap.plotting import make_figs\n",
    "\n",
    "# Setup notebook\n",
    "nbconfig = Nb.setup_notebook()\n",
    "\n",
    "# Connect to data store\n",
    "store = pd.HDFStore('../sra_new.h5')\n",
    "\n",
    "# Start up cluster\n",
    "client = Client()"
   ]
  },
  {
   "cell_type": "code",
   "execution_count": 2,
   "metadata": {},
   "outputs": [],
   "source": [
    "from pymongo import MongoClient\n",
    "try:\n",
    "    with open('../output/.mongodb_host', 'r') as fh:\n",
    "        host = fh.read().strip()\n",
    "except FileNotFoundError:\n",
    "    host = 'localhost'\n",
    "\n",
    "mongoClient = MongoClient(host=host, port=27022)\n",
    "db = mongoClient['sra']\n",
    "ncbi = db['ncbi']"
   ]
  },
  {
   "cell_type": "markdown",
   "metadata": {},
   "source": [
    "## Initialize Store with IDS from SRA Mongo"
   ]
  },
  {
   "cell_type": "code",
   "execution_count": 5,
   "metadata": {},
   "outputs": [],
   "source": [
    "def get_update_db_ids():\n",
    "    from pymongo import MongoClient\n",
    "    try:\n",
    "        with open('../output/.mongodb_host', 'r') as fh:\n",
    "            host = fh.read().strip()\n",
    "    except FileNotFoundError:\n",
    "        host = 'localhost'\n",
    "\n",
    "    mongoClient = MongoClient(host=host, port=27022)\n",
    "    db = mongoClient['sra']\n",
    "    ncbi = db['ncbi']\n",
    "\n",
    "    # Dump all ids out of database\n",
    "    df = pd.DataFrame(list(ncbi.aggregate([\n",
    "        {\n",
    "            '$unwind': '$sra.run'\n",
    "        },\n",
    "        {\n",
    "            '$match': {\n",
    "                'sra.run.run_id': {'$exists': 1}\n",
    "            }\n",
    "        },\n",
    "        {\n",
    "            '$project': {\n",
    "                '_id': 0,\n",
    "                'srx': '$_id',\n",
    "                'srr': '$sra.run.run_id'\n",
    "            }\n",
    "        },\n",
    "    ])))\n",
    "\n",
    "    return df[['srx', 'srr']]"
   ]
  },
  {
   "cell_type": "code",
   "execution_count": 6,
   "metadata": {},
   "outputs": [],
   "source": [
    "curr_sra = get_update_db_ids()"
   ]
  },
  {
   "cell_type": "code",
   "execution_count": 8,
   "metadata": {},
   "outputs": [],
   "source": [
    "store['ids'] = curr_sra"
   ]
  },
  {
   "cell_type": "code",
   "execution_count": 9,
   "metadata": {},
   "outputs": [
    {
     "data": {
      "text/plain": [
       "(51036, 2)"
      ]
     },
     "execution_count": 9,
     "metadata": {},
     "output_type": "execute_result"
    }
   ],
   "source": [
    "store['ids'].shape"
   ]
  },
  {
   "cell_type": "code",
   "execution_count": 10,
   "metadata": {},
   "outputs": [],
   "source": [
    "store.put('prealn/queue', store['ids'], data_columns=True, format='table')"
   ]
  },
  {
   "cell_type": "code",
   "execution_count": 11,
   "metadata": {},
   "outputs": [
    {
     "data": {
      "text/plain": [
       "(51036, 2)"
      ]
     },
     "execution_count": 11,
     "metadata": {},
     "output_type": "execute_result"
    }
   ],
   "source": [
    "store['prealn/queue'].shape"
   ]
  },
  {
   "cell_type": "markdown",
   "metadata": {},
   "source": [
    "## Pre-Alignment Workflow"
   ]
  },
  {
   "cell_type": "code",
   "execution_count": 3,
   "metadata": {},
   "outputs": [],
   "source": [
    "def check_file(fname):\n",
    "    with open(fname, 'r') as fh:\n",
    "        return fh.read().strip()\n",
    "\n",
    "def get_val(srx, srr, pattern, *args):\n",
    "    try:\n",
    "        fname = pattern\n",
    "        return [srx, srr, check_file(fname.format(srx=srx, srr=srr))]\n",
    "    except FileNotFoundError:\n",
    "        return [srx, srr, np.nan]\n",
    "    \n",
    "    \n",
    "def check_solid(srx, srr, *args):\n",
    "    try:\n",
    "        layout = check_file(f'../output/prealn-wf/samples/{srx}/{srr}/LAYOUT')\n",
    "        if layout == 'SE' or layout == 'PE' or layout == 'keep_R1':\n",
    "            fname = f'../output/prealn-wf/samples/{srx}/{srr}/{srr}_1.fastq.gz'\n",
    "        else:\n",
    "            fname = f'../output/prealn-wf/samples/{srx}/{srr}/{srr}_2.fastq.gz'\n",
    "        \n",
    "        with gzip.open(fname, 'rt') as fh:\n",
    "            _, l = fh.readline(), fh.readline()\n",
    "            if l.startswith('T'): \n",
    "                return srx, srr, True\n",
    "    except:\n",
    "        pass\n",
    "    \n",
    "    return srx, srr, np.nan\n",
    "\n",
    "\n",
    "def get_vals(pattern, func=get_val, ids=store['ids']):\n",
    "    futures = []\n",
    "    for idx, (srx, srr) in ids.iterrows():\n",
    "        futures.append(delayed(func)(srx, srr, pattern))\n",
    "\n",
    "    res = client.compute(futures)\n",
    "    return client.gather(res)"
   ]
  },
  {
   "cell_type": "markdown",
   "metadata": {},
   "source": [
    "### Layout"
   ]
  },
  {
   "cell_type": "code",
   "execution_count": 15,
   "metadata": {},
   "outputs": [],
   "source": [
    "dat = get_vals('../output/prealn-wf/samples/{srx}/{srr}/LAYOUT')\n",
    "srs = pd.DataFrame(dat, columns=['srx', 'srr', 'layout']).set_index(['srx', 'srr']).iloc[:, 0].dropna()\n",
    "store.put('layout', srs, data_columns=True, format='table')"
   ]
  },
  {
   "cell_type": "markdown",
   "metadata": {},
   "source": [
    "### Strand"
   ]
  },
  {
   "cell_type": "code",
   "execution_count": 25,
   "metadata": {},
   "outputs": [],
   "source": [
    "dat = get_vals('../output/prealn-wf/samples/{srx}/{srr}/STRAND')\n",
    "srs = pd.DataFrame(dat, columns=['srx', 'srr', 'strand']).set_index(['srx', 'srr']).iloc[:, 0].dropna()\n",
    "store.put('strand', srs, data_columns=True, format='table')"
   ]
  },
  {
   "cell_type": "markdown",
   "metadata": {},
   "source": [
    "### Alignment Bad"
   ]
  },
  {
   "cell_type": "code",
   "execution_count": 32,
   "metadata": {},
   "outputs": [],
   "source": [
    "dat = get_vals('../output/prealn-wf/samples/{srx}/{srr}/ALIGNMENT_BAD')\n",
    "srs = pd.DataFrame(dat, columns=['srx', 'srr', 'alignment_bad']).dropna().drop('alignment_bad', axis=1).reset_index(drop=True)\n",
    "store.put('prealn/alignment_bad', srs, data_columns=True, format='table')"
   ]
  },
  {
   "cell_type": "markdown",
   "metadata": {},
   "source": [
    "### Download Bad"
   ]
  },
  {
   "cell_type": "code",
   "execution_count": 46,
   "metadata": {},
   "outputs": [],
   "source": [
    "dat = get_vals('../output/prealn-wf/samples/{srx}/{srr}/DOWNLOAD_BAD')\n",
    "srs = pd.DataFrame(dat, columns=['srx', 'srr', 'download_bad']).dropna().drop('download_bad', axis=1).reset_index(drop=True)\n",
    "store.put('prealn/download_bad', srs, data_columns=True, format='table')"
   ]
  },
  {
   "cell_type": "markdown",
   "metadata": {},
   "source": [
    "### Quality Scores Bad"
   ]
  },
  {
   "cell_type": "code",
   "execution_count": 64,
   "metadata": {},
   "outputs": [],
   "source": [
    "dat = get_vals('../output/prealn-wf/samples/{srx}/{srr}/QUALITY')\n",
    "srs = pd.DataFrame(dat, columns=['srx', 'srr', 'quality_scores_bad']).dropna().drop('quality_scores_bad', axis=1).reset_index(drop=True)\n",
    "store.put('prealn/quality_scores_bad', srs, data_columns=True, format='table')"
   ]
  },
  {
   "cell_type": "markdown",
   "metadata": {},
   "source": [
    "### Abi Solid"
   ]
  },
  {
   "cell_type": "code",
   "execution_count": 4,
   "metadata": {},
   "outputs": [],
   "source": [
    "dat = get_vals('', func=check_solid)\n",
    "srs = pd.DataFrame(dat, columns=['srx', 'srr', 'abi_solid']).dropna().drop('abi_solid', axis=1).reset_index(drop=True)\n",
    "store.put('prealn/abi_solid', srs, data_columns=True, format='table')"
   ]
  },
  {
   "cell_type": "code",
   "execution_count": null,
   "metadata": {},
   "outputs": [],
   "source": []
  },
  {
   "cell_type": "code",
   "execution_count": null,
   "metadata": {},
   "outputs": [],
   "source": []
  },
  {
   "cell_type": "code",
   "execution_count": 31,
   "metadata": {},
   "outputs": [],
   "source": [
    "bob = store['layout'].head(3)"
   ]
  },
  {
   "cell_type": "code",
   "execution_count": 35,
   "metadata": {},
   "outputs": [],
   "source": [
    "mask = bob.index.isin(store['layout'].index)"
   ]
  },
  {
   "cell_type": "code",
   "execution_count": 40,
   "metadata": {},
   "outputs": [],
   "source": [
    "store.append('layout', bob[~mask], data_columns=True, format='t')"
   ]
  },
  {
   "cell_type": "code",
   "execution_count": 41,
   "metadata": {},
   "outputs": [
    {
     "data": {
      "text/plain": [
       "(28823,)"
      ]
     },
     "execution_count": 41,
     "metadata": {},
     "output_type": "execute_result"
    }
   ],
   "source": [
    "store['layout'].shape"
   ]
  },
  {
   "cell_type": "code",
   "execution_count": null,
   "metadata": {},
   "outputs": [],
   "source": []
  }
 ],
 "metadata": {
  "kernelspec": {
   "display_name": "Python [conda env:ncbi_remap]",
   "language": "python",
   "name": "conda-env-ncbi_remap-py"
  },
  "language_info": {
   "codemirror_mode": {
    "name": "ipython",
    "version": 3
   },
   "file_extension": ".py",
   "mimetype": "text/x-python",
   "name": "python",
   "nbconvert_exporter": "python",
   "pygments_lexer": "ipython3",
   "version": "3.6.3"
  }
 },
 "nbformat": 4,
 "nbformat_minor": 2
}
