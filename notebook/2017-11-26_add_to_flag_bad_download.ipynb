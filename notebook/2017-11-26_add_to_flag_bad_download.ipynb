{
 "cells": [
  {
   "cell_type": "code",
   "execution_count": 30,
   "metadata": {
    "code_folding": [
     0
    ]
   },
   "outputs": [
    {
     "name": "stdout",
     "output_type": "stream",
     "text": [
      "last updated: 2017-11-26 \n",
      "Git hash: d93d3e9dec278c9175123b44f16939fc03a6ef06\n"
     ]
    }
   ],
   "source": [
    "# %load ../start2.py\n",
    "# Imports\n",
    "import os\n",
    "import sys\n",
    "from pathlib import Path\n",
    "\n",
    "import numpy as np\n",
    "import pandas as pd\n",
    "\n",
    "import matplotlib as mpl\n",
    "import matplotlib.pyplot as plt\n",
    "import seaborn as sns\n",
    "\n",
    "# Project level imports\n",
    "sys.path.insert(0, '../../lib/python')\n",
    "from ncbi_remap.notebook import Nb\n",
    "from ncbi_remap.plotting import make_figs\n",
    "from ncbi_remap.io import add_data_columns, remove_id, add_id\n",
    "\n",
    "# Setup notebook\n",
    "nbconfig = Nb.setup_notebook()\n",
    "\n",
    "# Turn on cache\n",
    "from joblib import Memory\n",
    "memory = Memory(cachedir=nbconfig.cache, verbose=0)\n",
    "\n",
    "# Connect to data store\n",
    "store = pd.HDFStore('../../sra.h5', mode='a')"
   ]
  },
  {
   "cell_type": "markdown",
   "metadata": {},
   "source": [
    "I had a set of SRRs that fastq-dump was timing out on. I have decided to remove them here and can revisit in the future."
   ]
  },
  {
   "cell_type": "code",
   "execution_count": null,
   "metadata": {},
   "outputs": [],
   "source": [
    "# List of srrs that were giving me problems.\n",
    "srrs = [\n",
    "    'SRR1171029',  'SRR1171036',  'SRR1171039',  'SRR1211256',  'SRR1525685',  'SRR1525694', \n",
    "    'SRR1525695',  'SRR1525696',  'SRR1525698',  'SRR1525768',  'SRR1525769',  'SRR1525771', \n",
    "    'SRR1525772',  'SRR1525774',  'SRR1688626',  'SRR1769729',  'SRR1988509',  'SRR1988510', \n",
    "    'SRR1988512',  'SRR1988513',  'SRR1988514',  'SRR1988515',  'SRR1988517',  'SRR1988518', \n",
    "    'SRR1994856',  'SRR2006603',  'SRR2044310',  'SRR2071689',  'SRR2071692',  'SRR2071698', \n",
    "    'SRR2071708',  'SRR2071731',  'SRR2071744',  'SRR2071745',  'SRR2071750',  'SRR3939051', \n",
    "    'SRR3939058',  'SRR3939091',  'SRR3939099',  'SRR514297',  'SRR514298',  'SRR514299', \n",
    "    'SRR514300',  'SRR514301',  'SRR514302',  'SRR543922',  'SRR543924',  'SRR543927', \n",
    "    'SRR543929',  'SRR543931',  'SRR543932',  'SRR543934',  'SRR543937',  'SRR834512', \n",
    "    'SRR835219',  'SRR835221',  'SRR835223',  'SRR835228',  'SRR835236',  'SRR835242', \n",
    "    'SRR835247',  'SRR835252',  'SRR835256',  'SRR835326',  'SRR835329',  'SRR835333', \n",
    "    'SRR835338',  'SRR835341',  'SRR835343',  'SRR835345',  'SRR835347',  'SRR835349', \n",
    "    'SRR835939',  'SRR835942',  'SRR933565',  'SRR933571',  'SRR933572',  'SRR933579'\n",
    "]"
   ]
  },
  {
   "cell_type": "code",
   "execution_count": 28,
   "metadata": {},
   "outputs": [
    {
     "data": {
      "text/plain": [
       "(78, 2)"
      ]
     },
     "execution_count": 28,
     "metadata": {},
     "output_type": "execute_result"
    }
   ],
   "source": [
    "# Get srrs from queue to get their SRXs\n",
    "\n",
    "try:\n",
    "    bad = store.select('prealn/queue', 'srr == srrs')\n",
    "except NameError:\n",
    "    add_data_columns(store, 'prealn/queue')\n",
    "    bad = store.select('prealn/queue', 'srr == srrs')\n",
    "\n",
    "bad.shape"
   ]
  },
  {
   "cell_type": "code",
   "execution_count": 29,
   "metadata": {},
   "outputs": [],
   "source": [
    "pattern = '../../prealn-wf/output/samples/{srx}/{srr}/DOWNLOAD_BAD'"
   ]
  },
  {
   "cell_type": "code",
   "execution_count": 41,
   "metadata": {},
   "outputs": [],
   "source": [
    "for _, row in bad.iterrows():\n",
    "\n",
    "    # Create flag to indicate bad download\n",
    "    flagBad = Path(pattern.format(srx=row.srx, srr=row.srr))\n",
    "    flagBad.touch()\n",
    "\n",
    "    # Update store\n",
    "    remove_id(store, 'prealn/queue', srx=row.srx, srr=row.srr)\n",
    "    add_id(store, 'prealn/download_bad', srx=row.srx, srr=row.srr)"
   ]
  },
  {
   "cell_type": "code",
   "execution_count": 33,
   "metadata": {},
   "outputs": [],
   "source": [
    "# Reverse the process\n",
    "#for _, row in bad.iterrows():\n",
    "#\n",
    "#    # Create flag to indicate bad download\n",
    "#    flagBad = Path(pattern.format(srx=row.srx, srr=row.srr))\n",
    "#    flagBad.unlink()\n",
    "#\n",
    "#    # Update store\n",
    "#    remove_id(store, 'prealn/download_bad', srx=row.srx, srr=row.srr)\n",
    "#    add_id(store, 'prealn/queue', srx=row.srx, srr=row.srr)"
   ]
  },
  {
   "cell_type": "code",
   "execution_count": 42,
   "metadata": {},
   "outputs": [],
   "source": [
    "store.close()"
   ]
  }
 ],
 "metadata": {
  "kernelspec": {
   "display_name": "Python [conda env:ncbi_remap]",
   "language": "python",
   "name": "conda-env-ncbi_remap-py"
  },
  "language_info": {
   "codemirror_mode": {
    "name": "ipython",
    "version": 3
   },
   "file_extension": ".py",
   "mimetype": "text/x-python",
   "name": "python",
   "nbconvert_exporter": "python",
   "pygments_lexer": "ipython3",
   "version": "3.5.4"
  },
  "toc": {
   "nav_menu": {},
   "number_sections": true,
   "sideBar": true,
   "skip_h1_title": false,
   "toc_cell": false,
   "toc_position": {},
   "toc_section_display": "block",
   "toc_window_display": false
  }
 },
 "nbformat": 4,
 "nbformat_minor": 2
}
