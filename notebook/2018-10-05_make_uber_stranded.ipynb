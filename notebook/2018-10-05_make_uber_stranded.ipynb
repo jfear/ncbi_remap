{
 "cells": [
  {
   "cell_type": "code",
   "execution_count": 2,
   "metadata": {},
   "outputs": [],
   "source": [
    "import os\n",
    "import sys\n",
    "from pathlib import Path\n",
    "\n",
    "from IPython.display import display, HTML, Markdown\n",
    "import numpy as np\n",
    "import pandas as pd\n",
    "\n",
    "import matplotlib as mpl\n",
    "import matplotlib.pyplot as plt\n",
    "import seaborn as sns\n",
    "\n",
    "# Project level imports\n",
    "sys.path.insert(0, '../lib')\n",
    "from ncbi_remap.notebook import Nb\n",
    "from ncbi_remap.plotting import make_figs"
   ]
  },
  {
   "cell_type": "code",
   "execution_count": 3,
   "metadata": {},
   "outputs": [
    {
     "name": "stdout",
     "output_type": "stream",
     "text": [
      "Please check output/fbgn2chrom.tsv. If it does not exist, run bin/fbgn2chrom.py\n",
      "last updated: 2018-10-05 \n",
      "Git hash: d9f50945fa864956cc17f22a30aafc5244874783\n"
     ]
    }
   ],
   "source": [
    "# Setup notebook\n",
    "nbconfig = Nb.setup_notebook()"
   ]
  },
  {
   "cell_type": "code",
   "execution_count": 4,
   "metadata": {},
   "outputs": [],
   "source": [
    "# Connect to data store\n",
    "store = pd.HDFStore('../output/sra.h5', mode='r')"
   ]
  },
  {
   "cell_type": "code",
   "execution_count": 5,
   "metadata": {},
   "outputs": [],
   "source": [
    "complete_srx = store['aln/complete'].srx.unique().tolist()"
   ]
  },
  {
   "cell_type": "code",
   "execution_count": 6,
   "metadata": {},
   "outputs": [],
   "source": [
    "from pymongo import MongoClient\n",
    "try:\n",
    "    with open('../output/.mongodb_host', 'r') as fh:\n",
    "        host = fh.read().strip()\n",
    "except FileNotFoundError:\n",
    "    host = 'localhost'\n",
    "\n",
    "mongoClient = MongoClient(host=host, port=27017)\n",
    "db = mongoClient['sra']\n",
    "ncbi = db['ncbi']"
   ]
  },
  {
   "cell_type": "code",
   "execution_count": 7,
   "metadata": {},
   "outputs": [],
   "source": [
    "# Get list of RNA-Seq that are completed\n",
    "libstrat = pd.DataFrame(list(ncbi.aggregate([\n",
    "    {\n",
    "        '$match': {\n",
    "            '_id': {'$in': complete_srx},\n",
    "        }\n",
    "    },\n",
    "    {\n",
    "        '$unwind': {\n",
    "            'path': \"$sra.run\"\n",
    "        }\n",
    "    },\n",
    "    {\n",
    "        '$project': {\n",
    "            '_id': 0,\n",
    "            'srx': '$_id',\n",
    "            'srr': '$sra.run.run_id',\n",
    "            'library_strategy': '$sra.experiment.library_strategy'\n",
    "        }\n",
    "    }\n",
    "]))).set_index(['srx', 'srr'])\n",
    "\n",
    "srxs = libstrat.query('library_strategy == \"RNA-Seq\"').index.get_level_values('srx').unique()\n",
    "srrs = libstrat.query('library_strategy == \"RNA-Seq\"').index.get_level_values('srr').unique()"
   ]
  },
  {
   "cell_type": "code",
   "execution_count": 9,
   "metadata": {},
   "outputs": [
    {
     "name": "stdout",
     "output_type": "stream",
     "text": [
      "There are 2,293 super stranded SRXs or 2,429 SRRs.\n"
     ]
    }
   ],
   "source": [
    "# Pull out super stranded tracks\n",
    "flag_well_stranded = store.select('prealn/workflow/collectrnaseqmetrics/second', where='srx == srxs', columns=['PCT_CORRECT_STRAND_READS']) >= .99\n",
    "\n",
    "stranded_srx = flag_well_stranded[flag_well_stranded.iloc[:, 0]].index.get_level_values('srx').unique()\n",
    "stranded_srr = flag_well_stranded[flag_well_stranded.iloc[:, 0]].index.get_level_values('srr').unique()\n",
    "\n",
    "print(f'There are {len(stranded_srx):,} super stranded SRXs or {len(stranded_srr):,} SRRs.')"
   ]
  },
  {
   "cell_type": "code",
   "execution_count": 10,
   "metadata": {},
   "outputs": [],
   "source": [
    "# Get super stranded metadata\n",
    "metadata = pd.read_csv('../output/geo-wf/rnaseq_metadata.tsv', sep='\\t')\n",
    "\n",
    "stranded_meta = metadata.query(f'sample_name == {stranded_srx.tolist()}')\n",
    "stranded_meta.set_index('sample_name', inplace=True)"
   ]
  },
  {
   "cell_type": "code",
   "execution_count": 11,
   "metadata": {},
   "outputs": [
    {
     "data": {
      "text/plain": [
       "whole body                                          564\n",
       "ovary                                                71\n",
       "embryo                                               64\n",
       "head                                                 50\n",
       "wing disc                                            21\n",
       "gut                                                  20\n",
       "antenna                                              18\n",
       "imaginal disc                                        15\n",
       "gonad                                                15\n",
       "digestive system                                     13\n",
       "thorax without digestive system                      11\n",
       "head and thorax                                      11\n",
       "fat body                                             10\n",
       "eye disc                                             10\n",
       "abdomen without digestive or reproductive system     10\n",
       "reproductive system without gonad and genitalia      10\n",
       "indirect flight muscle                               10\n",
       "genitalia                                             9\n",
       "ventral nerve cord                                    9\n",
       "fat body and ovary                                    8\n",
       "muscle                                                8\n",
       "brain                                                 4\n",
       "haltere disc                                          3\n",
       "eye-antennal disc                                     3\n",
       "testis                                                3\n",
       "midgut                                                2\n",
       "leg                                                   2\n",
       "seminal vesicle                                       2\n",
       "thorax                                                1\n",
       "Name: tissue, dtype: int64"
      ]
     },
     "execution_count": 11,
     "metadata": {},
     "output_type": "execute_result"
    }
   ],
   "source": [
    "# Tissue\n",
    "stranded_meta.tissue.value_counts()"
   ]
  },
  {
   "cell_type": "code",
   "execution_count": 12,
   "metadata": {},
   "outputs": [
    {
     "data": {
      "text/plain": [
       "S2R+              782\n",
       "S2                 23\n",
       "neuroblast         13\n",
       "Kc167              10\n",
       "OSS                 8\n",
       "gut progenitor      2\n",
       "OSC                 2\n",
       "Name: cell type, dtype: int64"
      ]
     },
     "execution_count": 12,
     "metadata": {},
     "output_type": "execute_result"
    }
   ],
   "source": [
    "# Cell Type\n",
    "stranded_meta['cell type'].value_counts()"
   ]
  },
  {
   "cell_type": "code",
   "execution_count": 13,
   "metadata": {},
   "outputs": [
    {
     "data": {
      "text/plain": [
       "adult                               393\n",
       "third instar larval stage           117\n",
       "adult stage 0-10 days               115\n",
       "larval stage                         59\n",
       "pupal stage                          59\n",
       "embryonic stage 2 h (ael)            28\n",
       "embryonic stage 10-14 h (ael)        15\n",
       "embryonic stage                      11\n",
       "embryonic stage 2-3 h (ael)           9\n",
       "pupal stage 8 h (apf)                 6\n",
       "pupal stage 72 h (apf)                6\n",
       "embryonic stage 2-4 h (ael)           6\n",
       "pupal stage 40 h (apf)                6\n",
       "embryonic stage 10-12 h (ael)         4\n",
       "embryonic stage 6-8 h (ael)           4\n",
       "embryonic stage 0-4 h (ael)           3\n",
       "pupal stage 48 h (apf)                3\n",
       "pupal stage 30 h (apf)                2\n",
       "pupal stage 90 h (apf)                2\n",
       "embryonic stage 18-24 h (ael)         1\n",
       "embryonic stage 0.75-1.5 h (ael)      1\n",
       "first instar larval stage             1\n",
       "pupal stage 24 h (apf)                1\n",
       "embryonic stage 0.75 h (ael)          1\n",
       "embryonic stage 12-18 h (ael)         1\n",
       "embryonic stage 6-12 h (ael)          1\n",
       "embryonic stage 1.5-6 h (ael)         1\n",
       "Name: developmental stage, dtype: int64"
      ]
     },
     "execution_count": 13,
     "metadata": {},
     "output_type": "execute_result"
    }
   ],
   "source": [
    "# Developmental stage\n",
    "stranded_meta['developmental stage'].value_counts()"
   ]
  },
  {
   "cell_type": "code",
   "execution_count": null,
   "metadata": {},
   "outputs": [],
   "source": []
  }
 ],
 "metadata": {
  "kernelspec": {
   "display_name": "Python [conda env:ncbi_remap]",
   "language": "python",
   "name": "conda-env-ncbi_remap-py"
  },
  "language_info": {
   "codemirror_mode": {
    "name": "ipython",
    "version": 3
   },
   "file_extension": ".py",
   "mimetype": "text/x-python",
   "name": "python",
   "nbconvert_exporter": "python",
   "pygments_lexer": "ipython3",
   "version": "3.6.5"
  }
 },
 "nbformat": 4,
 "nbformat_minor": 2
}
