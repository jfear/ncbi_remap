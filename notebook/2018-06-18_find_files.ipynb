{
 "cells": [
  {
   "cell_type": "code",
   "execution_count": 39,
   "metadata": {},
   "outputs": [],
   "source": [
    "import os\n",
    "import sys\n",
    "from pathlib import Path\n",
    "from yaml import load\n",
    "import shutil as sh\n",
    "from collections import namedtuple\n",
    "\n",
    "from IPython.display import display, HTML, Markdown\n",
    "import numpy as np\n",
    "import pandas as pd\n",
    "\n",
    "import matplotlib as mpl\n",
    "import matplotlib.pyplot as plt\n",
    "import seaborn as sns\n",
    "\n",
    "# Project level imports\n",
    "sys.path.insert(0, '../lib')\n",
    "from ncbi_remap.notebook import Nb\n",
    "from ncbi_remap.plotting import make_figs"
   ]
  },
  {
   "cell_type": "code",
   "execution_count": 4,
   "metadata": {},
   "outputs": [
    {
     "name": "stdout",
     "output_type": "stream",
     "text": [
      "Please check output/fbgn2chrom.tsv. If it does not exist, run bin/fbgn2chrom.py\n",
      "last updated: 2018-06-18 \n",
      "Git hash: cbfc1259618cdb40eb1267c1692922d08b50a37a\n"
     ]
    }
   ],
   "source": [
    "# Setup notebook\n",
    "nbconfig = Nb.setup_notebook()\n",
    "\n",
    "# Connect to data store\n",
    "store = pd.HDFStore('../output/sra.h5', mode='r')"
   ]
  },
  {
   "cell_type": "code",
   "execution_count": 66,
   "metadata": {},
   "outputs": [],
   "source": [
    "with open('../aln-wf/patterns.yaml', 'r') as fh:\n",
    "    patterns = load(fh)\n",
    "\n",
    "samples = store['aln/complete'].srx.values"
   ]
  },
  {
   "cell_type": "code",
   "execution_count": 79,
   "metadata": {},
   "outputs": [],
   "source": [
    "uploadSize = 0\n",
    "failed = []\n",
    "for srx in samples:\n",
    "    data_files = [\n",
    "        Path('../aln-wf', patterns['srxMerge']['bigWig'].format(srx=srx, strand='first')),\n",
    "        Path('../aln-wf', patterns['srxMerge']['bigWig'].format(srx=srx, strand='first')),\n",
    "        Path('../aln-wf', patterns['srxMerge']['feature_counts']['counts'].format(srx=srx)),\n",
    "        Path('../aln-wf', patterns['srxMerge']['feature_counts']['jcounts'].format(srx=srx)),\n",
    "        Path('../aln-wf', patterns['srxMerge']['feature_counts_intergenic']['counts'].format(srx=srx)),\n",
    "        Path('../aln-wf', patterns['srxMerge']['feature_counts_intergenic']['jcounts'].format(srx=srx)),\n",
    "    ]\n",
    "\n",
    "    try:\n",
    "        assert np.asarray([x.exists() for x in data_files]).all()\n",
    "    except AssertionError as e:\n",
    "        failed.append(srx)\n",
    "        continue\n",
    "    \n",
    "    for f in data_files:\n",
    "        uploadSize += f.stat().st_size"
   ]
  },
  {
   "cell_type": "code",
   "execution_count": 80,
   "metadata": {},
   "outputs": [],
   "source": [
    "def sizeof_fmt(num, suffix='B'):\n",
    "    for unit in ['','Ki','Mi','Gi','Ti']:\n",
    "        if abs(num) < 1024.0:\n",
    "            return f\"{num:3.1f}{unit}{suffix}\"\n",
    "        num /= 1024.0"
   ]
  },
  {
   "cell_type": "code",
   "execution_count": 81,
   "metadata": {},
   "outputs": [
    {
     "data": {
      "text/plain": [
       "'1.7TiB'"
      ]
     },
     "execution_count": 81,
     "metadata": {},
     "output_type": "execute_result"
    }
   ],
   "source": [
    "sizeof_fmt(uploadSize)"
   ]
  },
  {
   "cell_type": "code",
   "execution_count": 82,
   "metadata": {},
   "outputs": [
    {
     "data": {
      "text/plain": [
       "[]"
      ]
     },
     "execution_count": 82,
     "metadata": {},
     "output_type": "execute_result"
    }
   ],
   "source": [
    "failed"
   ]
  },
  {
   "cell_type": "code",
   "execution_count": null,
   "metadata": {},
   "outputs": [],
   "source": []
  }
 ],
 "metadata": {
  "kernelspec": {
   "display_name": "Python [conda env:ncbi_remap]",
   "language": "python",
   "name": "conda-env-ncbi_remap-py"
  },
  "language_info": {
   "codemirror_mode": {
    "name": "ipython",
    "version": 3
   },
   "file_extension": ".py",
   "mimetype": "text/x-python",
   "name": "python",
   "nbconvert_exporter": "python",
   "pygments_lexer": "ipython3",
   "version": "3.6.5"
  }
 },
 "nbformat": 4,
 "nbformat_minor": 2
}
