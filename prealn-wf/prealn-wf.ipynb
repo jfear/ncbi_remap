{
 "cells": [
  {
   "cell_type": "code",
   "execution_count": 1,
   "metadata": {},
   "outputs": [],
   "source": [
    "from pathlib import Path\n",
    "import pandas as pd\n",
    "from pymongo import MongoClient\n",
    "from IPython.display import display, Markdown"
   ]
  },
  {
   "cell_type": "code",
   "execution_count": 2,
   "metadata": {},
   "outputs": [],
   "source": [
    "# Connect to SraMongo\n",
    "client = MongoClient()\n",
    "db = client[\"sramongo\"]\n",
    "ncbi = db[\"ncbi\"]"
   ]
  },
  {
   "cell_type": "markdown",
   "metadata": {},
   "source": [
    "# Pre-Alignment Workflow"
   ]
  },
  {
   "cell_type": "code",
   "execution_count": 3,
   "metadata": {},
   "outputs": [
    {
     "output_type": "display_data",
     "data": {
      "text/plain": "<IPython.core.display.Markdown object>",
      "text/markdown": "## Number of Samples Downloaded"
     },
     "metadata": {}
    },
    {
     "output_type": "stream",
     "name": "stdout",
     "text": "Downloaded on:\tFri Mar 13 16:21:26 EDT 2020\n\nSRXs = 62,927\nSRRs = 73,539\n"
    }
   ],
   "source": [
    "display(Markdown(\"## Number of Samples Downloaded\"))\n",
    "print(\"Downloaded on:\", open(\"../output/db_download.date\").read(), sep=\"\\t\")\n",
    "n_srxs = ncbi.count()\n",
    "n_srrs = len(list(ncbi.aggregate([{\"$unwind\": {\"path\": \"$runs\"}}, {\"$project\": {\"_id\": 1}}])))\n",
    "print(f\"SRXs = {n_srxs:,}\", f\"SRRs = {n_srrs:,}\", sep=\"\\n\")"
   ]
  },
  {
   "cell_type": "code",
   "execution_count": 4,
   "metadata": {},
   "outputs": [
    {
     "output_type": "stream",
     "name": "stdout",
     "text": "Download bad: 107\nABI Solid: 4,923\n"
    }
   ],
   "source": [
    "n_download_bad = len(list(Path(\"../output/fastq-wf/download_bad/\").iterdir()))\n",
    "print(f\"Download bad: {n_download_bad:,}\")\n",
    "\n",
    "n_solid = len(list(Path(\"../output/fastq-wf/abi_solid/\").iterdir()))\n",
    "print(f\"ABI Solid: {n_solid:,}\")"
   ]
  },
  {
   "cell_type": "code",
   "execution_count": 5,
   "metadata": {},
   "outputs": [
    {
     "output_type": "display_data",
     "data": {
      "text/plain": "<IPython.core.display.Markdown object>",
      "text/markdown": "## Library Size (avg)"
     },
     "metadata": {}
    },
    {
     "output_type": "execute_result",
     "data": {
      "text/plain": "         library_size\ncount       53,781.00\nmean    14,249,560.28\nstd     22,887,570.28\nmin          1,001.00\n25%        731,534.00\n50%      6,622,368.00\n75%     19,525,308.00\nmax    745,596,549.00",
      "text/html": "<div>\n<style scoped>\n    .dataframe tbody tr th:only-of-type {\n        vertical-align: middle;\n    }\n\n    .dataframe tbody tr th {\n        vertical-align: top;\n    }\n\n    .dataframe thead th {\n        text-align: right;\n    }\n</style>\n<table border=\"1\" class=\"dataframe\">\n  <thead>\n    <tr style=\"text-align: right;\">\n      <th></th>\n      <th>library_size</th>\n    </tr>\n  </thead>\n  <tbody>\n    <tr>\n      <th>count</th>\n      <td>53,781.00</td>\n    </tr>\n    <tr>\n      <th>mean</th>\n      <td>14,249,560.28</td>\n    </tr>\n    <tr>\n      <th>std</th>\n      <td>22,887,570.28</td>\n    </tr>\n    <tr>\n      <th>min</th>\n      <td>1,001.00</td>\n    </tr>\n    <tr>\n      <th>25%</th>\n      <td>731,534.00</td>\n    </tr>\n    <tr>\n      <th>50%</th>\n      <td>6,622,368.00</td>\n    </tr>\n    <tr>\n      <th>75%</th>\n      <td>19,525,308.00</td>\n    </tr>\n    <tr>\n      <th>max</th>\n      <td>745,596,549.00</td>\n    </tr>\n  </tbody>\n</table>\n</div>"
     },
     "metadata": {},
     "execution_count": 5
    }
   ],
   "source": [
    "display(Markdown(\"## Library Size (avg)\"))\n",
    "libsize = pd.read_parquet(\"../output/fastq-wf/libsize\")\n",
    "libsize[[\"libsize_R1\", \"libsize_R2\"]].max(axis=1).describe().map(lambda x: f\"{x:,.2f}\").rename(\"library_size\").to_frame()"
   ]
  },
  {
   "cell_type": "code",
   "execution_count": 6,
   "metadata": {},
   "outputs": [
    {
     "output_type": "display_data",
     "data": {
      "text/plain": "<IPython.core.display.Markdown object>",
      "text/markdown": "## Library Layout"
     },
     "metadata": {}
    },
    {
     "output_type": "display_data",
     "data": {
      "text/plain": "Library Layout\nSE         22,466\nPE         13,242\nkeep_R1     8,763\nkeep_R2       172\nName: # of SRXs, dtype: object"
     },
     "metadata": {}
    },
    {
     "output_type": "stream",
     "name": "stdout",
     "text": "Single-Ended: 31,401\n"
    }
   ],
   "source": [
    "display(Markdown(\"## Library Layout\"))\n",
    "srx2srr = pd.read_csv(\"../output/srx2srr.csv\")\n",
    "layout = pd.read_parquet(\"../output/fastq-wf/layout\").layout\n",
    "layout_cnts = (\n",
    "    srx2srr.merge(layout, on=\"srr\")\n",
    "    .groupby(\"srx\").layout.first()\n",
    "    .value_counts()\n",
    "    .rename_axis(\"Library Layout\")\n",
    "    .rename(\"# of SRXs\")\n",
    ")\n",
    "display(layout_cnts.map(lambda x: f\"{x:,}\"))\n",
    "print(f\"Single-Ended: {layout_cnts.drop('PE').sum():,}\")"
   ]
  },
  {
   "cell_type": "code",
   "execution_count": 8,
   "metadata": {},
   "outputs": [
    {
     "output_type": "display_data",
     "data": {
      "text/plain": "<IPython.core.display.Markdown object>",
      "text/markdown": "## Top 10 Library Strategy Table"
     },
     "metadata": {}
    },
    {
     "output_type": "execute_result",
     "data": {
      "text/plain": "                       Number of Samples\nLibrary Strategy                        \nRNA-Seq                           24,270\nOTHER                             12,111\nWGS                                8,472\nEST                                7,324\nChIP-Seq                           6,556\nmiRNA-Seq                            756\nncRNA-Seq                            733\nAMPLICON                             713\nRIP-Seq                              438\nATAC-seq                             405\nMNase-Seq                            370\nHi-C                                 130\nTargeted-Capture                     126\nBisulfite-Seq                        116\nFAIRE-seq                            115\nWGA                                   83\nDNase-Hypersensitivity                53\nSELEX                                 36\nRAD-Seq                               22\nMeDIP-Seq                             21\nCLONEEND                              21\nTn-Seq                                19\nFL-cDNA                               13\nPOOLCLONE                              8\nSynthetic-Long-Read                    6\nMRE-Seq                                4\nCLONE                                  4\nChIA-PET                               2",
      "text/html": "<div>\n<style scoped>\n    .dataframe tbody tr th:only-of-type {\n        vertical-align: middle;\n    }\n\n    .dataframe tbody tr th {\n        vertical-align: top;\n    }\n\n    .dataframe thead th {\n        text-align: right;\n    }\n</style>\n<table border=\"1\" class=\"dataframe\">\n  <thead>\n    <tr style=\"text-align: right;\">\n      <th></th>\n      <th>Number of Samples</th>\n    </tr>\n    <tr>\n      <th>Library Strategy</th>\n      <th></th>\n    </tr>\n  </thead>\n  <tbody>\n    <tr>\n      <th>RNA-Seq</th>\n      <td>24,270</td>\n    </tr>\n    <tr>\n      <th>OTHER</th>\n      <td>12,111</td>\n    </tr>\n    <tr>\n      <th>WGS</th>\n      <td>8,472</td>\n    </tr>\n    <tr>\n      <th>EST</th>\n      <td>7,324</td>\n    </tr>\n    <tr>\n      <th>ChIP-Seq</th>\n      <td>6,556</td>\n    </tr>\n    <tr>\n      <th>miRNA-Seq</th>\n      <td>756</td>\n    </tr>\n    <tr>\n      <th>ncRNA-Seq</th>\n      <td>733</td>\n    </tr>\n    <tr>\n      <th>AMPLICON</th>\n      <td>713</td>\n    </tr>\n    <tr>\n      <th>RIP-Seq</th>\n      <td>438</td>\n    </tr>\n    <tr>\n      <th>ATAC-seq</th>\n      <td>405</td>\n    </tr>\n    <tr>\n      <th>MNase-Seq</th>\n      <td>370</td>\n    </tr>\n    <tr>\n      <th>Hi-C</th>\n      <td>130</td>\n    </tr>\n    <tr>\n      <th>Targeted-Capture</th>\n      <td>126</td>\n    </tr>\n    <tr>\n      <th>Bisulfite-Seq</th>\n      <td>116</td>\n    </tr>\n    <tr>\n      <th>FAIRE-seq</th>\n      <td>115</td>\n    </tr>\n    <tr>\n      <th>WGA</th>\n      <td>83</td>\n    </tr>\n    <tr>\n      <th>DNase-Hypersensitivity</th>\n      <td>53</td>\n    </tr>\n    <tr>\n      <th>SELEX</th>\n      <td>36</td>\n    </tr>\n    <tr>\n      <th>RAD-Seq</th>\n      <td>22</td>\n    </tr>\n    <tr>\n      <th>MeDIP-Seq</th>\n      <td>21</td>\n    </tr>\n    <tr>\n      <th>CLONEEND</th>\n      <td>21</td>\n    </tr>\n    <tr>\n      <th>Tn-Seq</th>\n      <td>19</td>\n    </tr>\n    <tr>\n      <th>FL-cDNA</th>\n      <td>13</td>\n    </tr>\n    <tr>\n      <th>POOLCLONE</th>\n      <td>8</td>\n    </tr>\n    <tr>\n      <th>Synthetic-Long-Read</th>\n      <td>6</td>\n    </tr>\n    <tr>\n      <th>MRE-Seq</th>\n      <td>4</td>\n    </tr>\n    <tr>\n      <th>CLONE</th>\n      <td>4</td>\n    </tr>\n    <tr>\n      <th>ChIA-PET</th>\n      <td>2</td>\n    </tr>\n  </tbody>\n</table>\n</div>"
     },
     "metadata": {},
     "execution_count": 8
    }
   ],
   "source": [
    "display(Markdown(\"## Top 10 Library Strategy Table\"))\n",
    "(\n",
    "    pd.read_parquet(\"../output/library_strategy-wf/sra_strategy_selection.parquet\")\n",
    "    .library_strategy.value_counts()\n",
    "    .rename(\"Number of Samples\")\n",
    "    .rename_axis(\"Library Strategy\")\n",
    "    .map(lambda x: f\"{x:,}\")\n",
    "    .to_frame()\n",
    ")"
   ]
  },
  {
   "cell_type": "code",
   "execution_count": null,
   "metadata": {},
   "outputs": [],
   "source": []
  }
 ],
 "metadata": {
  "language_info": {
   "codemirror_mode": {
    "name": "ipython",
    "version": 3
   },
   "file_extension": ".py",
   "mimetype": "text/x-python",
   "name": "python",
   "nbconvert_exporter": "python",
   "pygments_lexer": "ipython3",
   "version": "3.7.3-final"
  },
  "orig_nbformat": 2,
  "kernelspec": {
   "name": "python3",
   "display_name": "Python 3"
  }
 },
 "nbformat": 4,
 "nbformat_minor": 2
}