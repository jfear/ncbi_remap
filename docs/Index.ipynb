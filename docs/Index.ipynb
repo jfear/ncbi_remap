{
 "cells": [
  {
   "cell_type": "markdown",
   "metadata": {},
   "source": [
    "# NCBI Remap"
   ]
  },
  {
   "cell_type": "markdown",
   "metadata": {},
   "source": [
    "When designing and performing experiments it is important to understand how your\n",
    "work fits in current scientific knowledge. \n",
    "This has traditionally been done by\n",
    "looking at the large body of literature. \n",
    "For sequencing studies we have the\n",
    "added benefit of large databases containing terabytes of worlds sequencing data.\n",
    "A worthwhile endeavor is to try to integrate these data into new experiments as\n",
    "they are performed. \n",
    "In order to do these types of analyses, data needs to be\n",
    "summarized using a similar processing pipeline and quality needs to be assessed.\n",
    "Here we this summarization for *Drosophila melanogaster*. \n",
    "\n",
    "This process has\n",
    "been broken down into two fundamental stages.\n",
    "The first stage, pre-alignment\n",
    "workflow, downloads and processes all datasets assessing their quality and\n",
    "measuring various sequencing metrics.\n",
    "The second stage, alignment workflow, take\n",
    "technical metadata determined in the pre-alignment workflow and re-aligns\n",
    "quality datasets.\n",
    "The alignment workflow builds all final outputs including\n",
    "coverage count tables and genome browser tracks."
   ]
  },
  {
   "cell_type": "markdown",
   "metadata": {},
   "source": [
    "## Table of Contents"
   ]
  },
  {
   "cell_type": "code",
   "execution_count": null,
   "metadata": {},
   "outputs": [],
   "source": []
  }
 ],
 "metadata": {
  "kernelspec": {
   "display_name": "Python [conda env:ncbi_remap]",
   "language": "python",
   "name": "conda-env-ncbi_remap-py"
  },
  "language_info": {
   "codemirror_mode": {
    "name": "ipython",
    "version": 3
   },
   "file_extension": ".py",
   "mimetype": "text/x-python",
   "name": "python",
   "nbconvert_exporter": "python",
   "pygments_lexer": "ipython3",
   "version": "3.6.3"
  }
 },
 "nbformat": 4,
 "nbformat_minor": 2
}
