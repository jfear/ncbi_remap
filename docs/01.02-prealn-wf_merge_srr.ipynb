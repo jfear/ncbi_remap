{
 "cells": [
  {
   "cell_type": "markdown",
   "metadata": {},
   "source": [
    "# Merging SRXs"
   ]
  },
  {
   "cell_type": "code",
   "execution_count": 1,
   "metadata": {
    "attributes": {
     "classes": [],
     "id": "",
     "n": "1"
    }
   },
   "outputs": [
    {
     "name": "stdout",
     "output_type": "stream",
     "text": [
      "Please check output/fbgn2chrom.tsv. If it does not exist, run bin/fbgn2chrom.py\n",
      "last updated: 2018-03-05 \n",
      "Git hash: 4796afefa0895931d55d062e3e0486bdb22d8cf4\n"
     ]
    }
   ],
   "source": [
    "import os\n",
    "import sys\n",
    "from pathlib import Path\n",
    "\n",
    "from IPython.display import display, HTML, Markdown\n",
    "import numpy as np\n",
    "import pandas as pd\n",
    "\n",
    "import matplotlib as mpl\n",
    "import matplotlib.pyplot as plt\n",
    "import seaborn as sns\n",
    "\n",
    "import dask.dataframe as dd\n",
    "from dask import delayed\n",
    "from dask.distributed import Client\n",
    "\n",
    "# Project level imports\n",
    "sys.path.insert(0, '../lib')\n",
    "from ncbi_remap.notebook import Nb\n",
    "from ncbi_remap.plotting import make_figs\n",
    "from ncbi_remap.prealn_analysis import srr_per_srx, srx_reproducibility_score, SPEARMAN_CUTOFF\n",
    "from ncbi_remap.normalization import cpm\n",
    "\n",
    "# Setup notebook\n",
    "nbconfig = Nb.setup_notebook('prealn-wf_merge_srr')\n",
    "\n",
    "# Connect to data store\n",
    "store = pd.HDFStore('../sra.h5')\n",
    "\n",
    "# Start dask cluster\n",
    "client = Client()"
   ]
  },
  {
   "cell_type": "code",
   "execution_count": 2,
   "metadata": {
    "attributes": {
     "classes": [],
     "id": "",
     "n": "2"
    }
   },
   "outputs": [
    {
     "data": {
      "text/markdown": [
       "\n",
       "In the SRA, runs (SRR) are considered technical replicates. \n",
       "However, we have found instances where users have uploaded biological replicates or different samples as the same SRX. \n",
       "We want to provide browser tracks and summarized coverage counts at the library (SRX) level, requiring SRRs to be merged. \n",
       "Instead of blindly merging SRRs, we want to verify that SRRs within an SRX behave like a technical replicate. \n",
       "I am starting with the 18,904 SRRs that passed all QC metrics.\n",
       "I have explored multiple criteria (including SERE), but I have settled on using pairwise Spearman correlation. \n",
       "Here I require a correlation of ≥0.95 for an SRR to be considered a technical replicate. \n",
       "I also require that all SRRs within an SRX behave like technical replicates. \n",
       "There are cases where an SRX has 3 or more SRR with a small fraction behaving differently. \n",
       "Currently I am excluding these SRXs, but it may be worth while to try to create pseudo SRXs made up of these different groups of SRRs that behave similarly.\n"
      ],
      "text/plain": [
       "<IPython.core.display.Markdown object>"
      ]
     },
     "execution_count": 2,
     "metadata": {},
     "output_type": "execute_result"
    }
   ],
   "source": [
    "num_samples = '{:,}'.format(store['prealn/qc_passed'].shape[0])\n",
    "\n",
    "Markdown(f\"\"\"\n",
    "In the SRA, runs (SRR) are considered technical replicates. \n",
    "However, we have found instances where users have uploaded biological replicates or different samples as the same SRX. \n",
    "We want to provide browser tracks and summarized coverage counts at the library (SRX) level, requiring SRRs to be merged. \n",
    "Instead of blindly merging SRRs, we want to verify that SRRs within an SRX behave like a technical replicate. \n",
    "I am starting with the {num_samples} SRRs that passed all QC metrics.\n",
    "I have explored multiple criteria (including SERE), but I have settled on using pairwise Spearman correlation. \n",
    "Here I require a correlation of ≥{SPEARMAN_CUTOFF} for an SRR to be considered a technical replicate. \n",
    "I also require that all SRRs within an SRX behave like technical replicates. \n",
    "There are cases where an SRX has 3 or more SRR with a small fraction behaving differently. \n",
    "Currently I am excluding these SRXs, but it may be worth while to try to create pseudo SRXs made up of these different groups of SRRs that behave similarly.\n",
    "\"\"\")"
   ]
  },
  {
   "cell_type": "markdown",
   "metadata": {},
   "source": [
    "## Number of SRRs Per SRX"
   ]
  },
  {
   "cell_type": "code",
   "execution_count": 3,
   "metadata": {
    "attributes": {
     "classes": [],
     "id": "",
     "n": "3"
    }
   },
   "outputs": [
    {
     "data": {
      "text/markdown": [
       "\n",
       "The majority of SRXs (n=13,392) have a single SRR, while the remaining 1,738 SRXs have more than one SRR that need to be merged.\n",
       "\n",
       "<table border=\"1\" class=\"dataframe table table-striped\">\n",
       "  <thead>\n",
       "    <tr style=\"text-align: right;\">\n",
       "      <th></th>\n",
       "      <th>Number of SRXs</th>\n",
       "    </tr>\n",
       "    <tr>\n",
       "      <th>Number of SRRs</th>\n",
       "      <th></th>\n",
       "    </tr>\n",
       "  </thead>\n",
       "  <tbody>\n",
       "    <tr>\n",
       "      <th>1</th>\n",
       "      <td>13,392</td>\n",
       "    </tr>\n",
       "    <tr>\n",
       "      <th>2</th>\n",
       "      <td>899</td>\n",
       "    </tr>\n",
       "    <tr>\n",
       "      <th>3</th>\n",
       "      <td>287</td>\n",
       "    </tr>\n",
       "    <tr>\n",
       "      <th>5</th>\n",
       "      <td>247</td>\n",
       "    </tr>\n",
       "    <tr>\n",
       "      <th>4</th>\n",
       "      <td>181</td>\n",
       "    </tr>\n",
       "    <tr>\n",
       "      <th>6</th>\n",
       "      <td>70</td>\n",
       "    </tr>\n",
       "    <tr>\n",
       "      <th>8</th>\n",
       "      <td>38</td>\n",
       "    </tr>\n",
       "    <tr>\n",
       "      <th>7</th>\n",
       "      <td>6</td>\n",
       "    </tr>\n",
       "    <tr>\n",
       "      <th>14</th>\n",
       "      <td>3</td>\n",
       "    </tr>\n",
       "    <tr>\n",
       "      <th>13</th>\n",
       "      <td>3</td>\n",
       "    </tr>\n",
       "    <tr>\n",
       "      <th>15</th>\n",
       "      <td>1</td>\n",
       "    </tr>\n",
       "    <tr>\n",
       "      <th>12</th>\n",
       "      <td>1</td>\n",
       "    </tr>\n",
       "    <tr>\n",
       "      <th>11</th>\n",
       "      <td>1</td>\n",
       "    </tr>\n",
       "    <tr>\n",
       "      <th>9</th>\n",
       "      <td>1</td>\n",
       "    </tr>\n",
       "  </tbody>\n",
       "</table>\n"
      ],
      "text/plain": [
       "<IPython.core.display.Markdown object>"
      ]
     },
     "execution_count": 3,
     "metadata": {},
     "output_type": "execute_result"
    }
   ],
   "source": [
    "df = store['prealn/qc_passed'].groupby('srx').size().value_counts().to_frame()\n",
    "df.index.name = 'Number of SRRs'\n",
    "df.columns = ['Number of SRXs']\n",
    "\n",
    "single = df.loc[1, 'Number of SRXs']\n",
    "multi = df.iloc[1:, 0].sum()\n",
    "\n",
    "Markdown(f\"\"\"\n",
    "The majority of SRXs (n={single:,}) have a single SRR, while the remaining {multi:,} SRXs have more than one SRR that need to be merged.\n",
    "\n",
    "{df.applymap(lambda x: '{:,}'.format(x)).to_html(classes=\"table table-striped\")}\n",
    "\"\"\")\n"
   ]
  },
  {
   "cell_type": "markdown",
   "metadata": {},
   "source": [
    "## Calculate Correlations"
   ]
  },
  {
   "cell_type": "code",
   "execution_count": 4,
   "metadata": {
    "attributes": {
     "classes": [],
     "id": "",
     "n": "4"
    }
   },
   "outputs": [],
   "source": [
    "@delayed\n",
    "def calc_min_corr(srx):\n",
    "    df = pd.read_parquet(f'../prealn-wf/output/gene_counts/{srx}.parquet')\n",
    "    spearman = df.pivot(columns='srr', values='count').corr(method='spearman').min().min()\n",
    "    return pd.DataFrame({'min_spearman': [spearman,]}, index=pd.Index([srx, ], name='srx'))\n",
    "\n",
    "df = store['prealn/qc_passed'].groupby('srx').size()\n",
    "srxs = df[df > 1].index.tolist()\n",
    "lazy = [calc_min_corr(srx) for srx in srxs]\n",
    "corrs = client.gather(client.compute(dd.from_delayed(lazy))).min_spearman"
   ]
  },
  {
   "cell_type": "code",
   "execution_count": 5,
   "metadata": {
    "attributes": {
     "classes": [],
     "id": "",
     "n": "5"
    }
   },
   "outputs": [
    {
     "data": {
      "text/markdown": [
       "\n",
       "For each SRX with multiple SRRs I calculate the pairwise Spearman correlations among SRRs.\n",
       "I then took the minimum spearman correlation among samples.\n",
       "There are 815 samples whose minimum spearman correlation falls below 0.95 and are therefore removed from analysis.\n",
       "While there are 923 SRXs who pass merging criteria.\n"
      ],
      "text/plain": [
       "<IPython.core.display.Markdown object>"
      ]
     },
     "execution_count": 5,
     "metadata": {},
     "output_type": "execute_result"
    }
   ],
   "source": [
    "n_lt_cutoff = '{:,}'.format((corrs < SPEARMAN_CUTOFF).sum())\n",
    "n_gt_cutoff = '{:,}'.format((corrs >= SPEARMAN_CUTOFF).sum())\n",
    "\n",
    "Markdown(f\"\"\"\n",
    "For each SRX with multiple SRRs I calculate the pairwise Spearman correlations among SRRs.\n",
    "I then took the minimum spearman correlation among samples.\n",
    "There are {n_lt_cutoff} samples whose minimum spearman correlation falls below {SPEARMAN_CUTOFF} and are therefore removed from analysis.\n",
    "While there are {n_gt_cutoff} SRXs who pass merging criteria.\n",
    "\"\"\")"
   ]
  },
  {
   "cell_type": "code",
   "execution_count": 6,
   "metadata": {
    "attributes": {
     "classes": [],
     "id": "",
     "n": "6"
    }
   },
   "outputs": [
    {
     "data": {
      "image/png": "[encoded data removed]",
      "text/plain": [
       "<matplotlib.figure.Figure at 0x7f3d0c4bd0f0>"
      ]
     },
     "metadata": {},
     "output_type": "display_data"
    }
   ],
   "source": [
    "from ncbi_remap.prealn_analysis import SPEARMAN_CUTOFF\n",
    "\n",
    "@make_figs(nbconfig.fig_name('distplot_spearman'), \n",
    "           styles=nbconfig.styles_wide, formats=nbconfig.formats)\n",
    "def _plot():\n",
    "    fig, ax = plt.subplots(1, 1)\n",
    "    sns.distplot(corrs, ax=ax)\n",
    "    ax.axvline(SPEARMAN_CUTOFF, color=nbconfig.color_c1, ls='--', lw=2, label=f'Spearman Cutoff {SPEARMAN_CUTOFF}')\n",
    "    ax.set_xlabel('Minimum Spearman Correlation')\n",
    "    ax.set_ylabel('Density')\n",
    "    ax.set_title('Distribution of SRX Minimum Spearman Correlation')\n",
    "    ax.legend()\n",
    "    return fig\n",
    "\n",
    "_plot()"
   ]
  },
  {
   "cell_type": "code",
   "execution_count": 7,
   "metadata": {
    "attributes": {
     "classes": [],
     "id": "",
     "n": "7"
    }
   },
   "outputs": [],
   "source": [
    "ok_merge = corrs[corrs >= SPEARMAN_CUTOFF].index.tolist()"
   ]
  },
  {
   "cell_type": "code",
   "execution_count": 8,
   "metadata": {
    "attributes": {
     "classes": [],
     "id": "",
     "n": "8"
    }
   },
   "outputs": [],
   "source": [
    "df = store['prealn/qc_passed'].groupby('srx').size()\n",
    "singles = df[df == 1].index.tolist()"
   ]
  },
  {
   "cell_type": "code",
   "execution_count": 9,
   "metadata": {
    "attributes": {
     "classes": [],
     "id": "",
     "n": "9"
    }
   },
   "outputs": [],
   "source": [
    "ok_srx = store['prealn/qc_passed'][store['prealn/qc_passed'].srx.isin(singles + ok_merge)]"
   ]
  },
  {
   "cell_type": "code",
   "execution_count": 10,
   "metadata": {
    "attributes": {
     "classes": [],
     "id": "",
     "n": "10"
    }
   },
   "outputs": [],
   "source": [
    "store['prealn/merge_passed'] = ok_srx"
   ]
  },
  {
   "cell_type": "code",
   "execution_count": 11,
   "metadata": {
    "attributes": {
     "classes": [],
     "id": "",
     "n": "11"
    }
   },
   "outputs": [],
   "source": [
    "store.close()"
   ]
  }
 ],
 "metadata": {
  "kernelspec": {
   "display_name": "Python [conda env:ncbi_remap]",
   "language": "python",
   "name": "conda-env-ncbi_remap-py"
  },
  "language_info": {
   "codemirror_mode": {
    "name": "ipython",
    "version": 3
   },
   "file_extension": ".py",
   "mimetype": "text/x-python",
   "name": "python",
   "nbconvert_exporter": "python",
   "pygments_lexer": "ipython3",
   "version": "3.6.3"
  }
 },
 "nbformat": 4,
 "nbformat_minor": 2
}
