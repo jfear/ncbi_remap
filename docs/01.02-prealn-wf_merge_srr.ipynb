{
 "cells": [
  {
   "cell_type": "markdown",
   "metadata": {},
   "source": [
    "# Merging SRXs"
   ]
  },
  {
   "cell_type": "code",
   "execution_count": 14,
   "metadata": {
    "code_folding": []
   },
   "outputs": [
    {
     "name": "stdout",
     "output_type": "stream",
     "text": [
      "last updated: 2017-12-13 \n",
      "Git hash: 7f6244abd2860817c178a98e105de5efb13092b0\n"
     ]
    }
   ],
   "source": [
    "import os\n",
    "import sys\n",
    "\n",
    "import numpy as np\n",
    "import pandas as pd\n",
    "\n",
    "import matplotlib as mpl\n",
    "import matplotlib.pyplot as plt\n",
    "import seaborn as sns\n",
    "\n",
    "# Project level imports\n",
    "sys.path.insert(0, '../lib')\n",
    "from ncbi_remap.notebook import Nb\n",
    "from ncbi_remap.io import add_table\n",
    "from ncbi_remap.plotting import make_figs\n",
    "from ncbi_remap.prealn_wf import srr_per_srx, srx_reproducibility_score\n",
    "from ncbi_remap.normalization import cpm\n",
    "\n",
    "# Setup notebook\n",
    "nbconfig = Nb.setup_notebook(nb_name='prealn-wf_merge_srr')\n",
    "\n",
    "# Turn on cache\n",
    "from joblib import Memory\n",
    "memory = Memory(cachedir=nbconfig.cache, verbose=0)\n",
    "\n",
    "# Connect to data store\n",
    "store = pd.HDFStore('../sra.h5')\n",
    "\n",
    "# Constants\n",
    "from ncbi_remap.prealn_wf import SPEARMAN_CUTOFF"
   ]
  },
  {
   "cell_type": "markdown",
   "metadata": {},
   "source": [
    "In the SRA, runs (SRR) are considered technical replicates. However, we have found instances where users have uploaded biological replicates or different samples as the same SRX. We want to provide browser tracks and summarized coverage counts at the library (SRX) level, requiring SRRs to be merged. Instead of blindly merging SRRs, we want to verify that SRRs within an SRX behave like a technical replicate. I have explored multiple criteria (including SERE), but I have settled on using pairwise Spearman correlation using genes with at least 1 read. Here I require a correlation of ≥0.95 for an SRR to be considered a technical replicate. I also require that all SRRs within an SRX behave like technical replicates. There are cases where an SRX has 3 or more SRR with a small fraction behaving differently. Currently I am excluding these SRXs, but it may be worth while to try to create pseudo SRXs made up of these different groups of SRRs that behave similarly."
   ]
  },
  {
   "cell_type": "markdown",
   "metadata": {},
   "source": [
    "## Number of SRRs Per SRX"
   ]
  },
  {
   "cell_type": "markdown",
   "metadata": {
    "variables": {
     "'{:,}'.format(len(single_srr_srx))": "17,072",
     "'{:,}'.format(len(two_srr_srx + multi_srr_srx))": "2,602"
    }
   },
   "source": [
    "The majority of SRXs (n=17,072) have a single SRR. For the remaning 2,602 SRXs."
   ]
  },
  {
   "cell_type": "code",
   "execution_count": 2,
   "metadata": {
    "code_folding": [
     0
    ]
   },
   "outputs": [
    {
     "data": {
      "image/png": "[encoded data removed]",
      "text/plain": [
       "<matplotlib.figure.Figure at 0x2aab2a0c9f98>"
      ]
     },
     "metadata": {},
     "output_type": "display_data"
    }
   ],
   "source": [
    "# Plot distribution of proportion uniquely mapping reads.\n",
    "@make_figs(nbconfig.fig_name('histogram_number_srr_per_srx'), styles=nbconfig.styles, \n",
    "           formats=nbconfig.formats)\n",
    "def plot(store):\n",
    "    df = srr_per_srx(store).iloc[:, 0]\n",
    "    bins = list(range(1, df.value_counts().index.max() + 1))\n",
    "    fig, ax = plt.subplots(1, 1)\n",
    "    sns.distplot(df, bins=bins, ax=ax, kde=False, hist_kws={'align': 'left'})\n",
    "    ax.set_title('SRRs per SRX')\n",
    "    ax.set_ylabel('Number of SRXs')\n",
    "    ax.set_xlabel('Number of SRRs')\n",
    "    ax.set_xticks(bins)\n",
    "    return fig\n",
    "\n",
    "plot(store)"
   ]
  },
  {
   "cell_type": "code",
   "execution_count": 3,
   "metadata": {
    "code_folding": []
   },
   "outputs": [
    {
     "data": {
      "text/html": [
       "<div>\n",
       "<style>\n",
       "    .dataframe thead tr:only-child th {\n",
       "        text-align: right;\n",
       "    }\n",
       "\n",
       "    .dataframe thead th {\n",
       "        text-align: left;\n",
       "    }\n",
       "\n",
       "    .dataframe tbody tr th {\n",
       "        vertical-align: top;\n",
       "    }\n",
       "</style>\n",
       "<table border=\"1\" class=\"dataframe\">\n",
       "  <thead>\n",
       "    <tr style=\"text-align: right;\">\n",
       "      <th></th>\n",
       "      <th>Number SRXs</th>\n",
       "    </tr>\n",
       "    <tr>\n",
       "      <th>Number of SRR</th>\n",
       "      <th></th>\n",
       "    </tr>\n",
       "  </thead>\n",
       "  <tbody>\n",
       "    <tr>\n",
       "      <th>1</th>\n",
       "      <td>17,072</td>\n",
       "    </tr>\n",
       "    <tr>\n",
       "      <th>2</th>\n",
       "      <td>1,216</td>\n",
       "    </tr>\n",
       "    <tr>\n",
       "      <th>3</th>\n",
       "      <td>433</td>\n",
       "    </tr>\n",
       "    <tr>\n",
       "      <th>5</th>\n",
       "      <td>362</td>\n",
       "    </tr>\n",
       "    <tr>\n",
       "      <th>8</th>\n",
       "      <td>222</td>\n",
       "    </tr>\n",
       "    <tr>\n",
       "      <th>4</th>\n",
       "      <td>192</td>\n",
       "    </tr>\n",
       "    <tr>\n",
       "      <th>6</th>\n",
       "      <td>85</td>\n",
       "    </tr>\n",
       "    <tr>\n",
       "      <th>7</th>\n",
       "      <td>61</td>\n",
       "    </tr>\n",
       "    <tr>\n",
       "      <th>9</th>\n",
       "      <td>14</td>\n",
       "    </tr>\n",
       "    <tr>\n",
       "      <th>13</th>\n",
       "      <td>6</td>\n",
       "    </tr>\n",
       "    <tr>\n",
       "      <th>10</th>\n",
       "      <td>4</td>\n",
       "    </tr>\n",
       "    <tr>\n",
       "      <th>14</th>\n",
       "      <td>3</td>\n",
       "    </tr>\n",
       "    <tr>\n",
       "      <th>15</th>\n",
       "      <td>1</td>\n",
       "    </tr>\n",
       "    <tr>\n",
       "      <th>12</th>\n",
       "      <td>1</td>\n",
       "    </tr>\n",
       "    <tr>\n",
       "      <th>11</th>\n",
       "      <td>1</td>\n",
       "    </tr>\n",
       "    <tr>\n",
       "      <th>26</th>\n",
       "      <td>1</td>\n",
       "    </tr>\n",
       "  </tbody>\n",
       "</table>\n",
       "</div>"
      ],
      "text/plain": [
       "              Number SRXs\n",
       "Number of SRR            \n",
       "1                  17,072\n",
       "2                   1,216\n",
       "3                     433\n",
       "5                     362\n",
       "8                     222\n",
       "4                     192\n",
       "6                      85\n",
       "7                      61\n",
       "9                      14\n",
       "13                      6\n",
       "10                      4\n",
       "14                      3\n",
       "15                      1\n",
       "12                      1\n",
       "11                      1\n",
       "26                      1"
      ]
     },
     "execution_count": 3,
     "metadata": {},
     "output_type": "execute_result"
    }
   ],
   "source": [
    "# Make Flags\n",
    "srx_counts = srr_per_srx(store)\n",
    "single_srr_srx = srx_counts[(srx_counts == 1)['srr']].index.tolist()\n",
    "two_srr_srx = srx_counts[(srx_counts == 2)['srr']].index.tolist()\n",
    "multi_srr_srx = srx_counts[(srx_counts > 2)['srr']].index.tolist()\n",
    "\n",
    "flag_srx_merge = set(single_srr_srx)\n",
    "\n",
    "# Table of counts\n",
    "df_num_srr = srx_counts.srr.value_counts().apply(lambda x: '{:,}'.format(x)).to_frame()\n",
    "df_num_srr.index.name = 'Number of SRR'\n",
    "df_num_srr.columns=['Number SRXs']\n",
    "df_num_srr"
   ]
  },
  {
   "cell_type": "markdown",
   "metadata": {},
   "source": [
    "## Pairs of SRX\n",
    "\n",
    "I started by looking at SRXs with a pair of SRRS (n=1,216). The majority of these samples (n=858) have a Spearman correlation ≥0.95 and should be merged. The remaining 358 will be removed from further analysis for now."
   ]
  },
  {
   "cell_type": "code",
   "execution_count": 4,
   "metadata": {
    "code_folding": []
   },
   "outputs": [],
   "source": [
    "@memory.cache\n",
    "def calc_score(srxs, method='spearman', multi='pairwise', TH=1, show_warn=True, **kwargs):\n",
    "    dfs = []\n",
    "    for srx in srxs:\n",
    "        dfs.extend(srx_reproducibility_score(store, srx, method=method, multi=multi, TH=TH, show_warn=show_warn, **kwargs))\n",
    "        \n",
    "    return pd.DataFrame(dfs, columns=['srx', 'srrs', method])"
   ]
  },
  {
   "cell_type": "code",
   "execution_count": 5,
   "metadata": {},
   "outputs": [
    {
     "name": "stdout",
     "output_type": "stream",
     "text": [
      "Cutoff: 0.95\n"
     ]
    },
    {
     "data": {
      "text/html": [
       "<div>\n",
       "<style>\n",
       "    .dataframe thead tr:only-child th {\n",
       "        text-align: right;\n",
       "    }\n",
       "\n",
       "    .dataframe thead th {\n",
       "        text-align: left;\n",
       "    }\n",
       "\n",
       "    .dataframe tbody tr th {\n",
       "        vertical-align: top;\n",
       "    }\n",
       "</style>\n",
       "<table border=\"1\" class=\"dataframe\">\n",
       "  <thead>\n",
       "    <tr style=\"text-align: right;\">\n",
       "      <th></th>\n",
       "      <th>Number of SRX</th>\n",
       "    </tr>\n",
       "  </thead>\n",
       "  <tbody>\n",
       "    <tr>\n",
       "      <th>Drop (&lt;0.95)</th>\n",
       "      <td>358</td>\n",
       "    </tr>\n",
       "    <tr>\n",
       "      <th>Merge (≥0.95)</th>\n",
       "      <td>858</td>\n",
       "    </tr>\n",
       "  </tbody>\n",
       "</table>\n",
       "</div>"
      ],
      "text/plain": [
       "               Number of SRX\n",
       "Drop (<0.95)             358\n",
       "Merge (≥0.95)            858"
      ]
     },
     "execution_count": 5,
     "metadata": {},
     "output_type": "execute_result"
    }
   ],
   "source": [
    "# Calculate correalation and count ok\n",
    "pair_th1 = calc_score(two_srr_srx, TH=1)\n",
    "pair_th1_ok = (pair_th1['spearman'] >= .95)\n",
    "\n",
    "_df = pair_th1_ok.value_counts().to_frame()\n",
    "_df.index = _df.index.map(lambda x: {True: 'Merge (≥0.95)', False: 'Drop (<0.95)'}[x])\n",
    "_df.columns = ['Number of SRX']\n",
    "print('Cutoff: {}'.format(SPEARMAN_CUTOFF))\n",
    "_df.sort_index()"
   ]
  },
  {
   "cell_type": "code",
   "execution_count": 6,
   "metadata": {},
   "outputs": [],
   "source": [
    "flag_srx_merge |= set(pair_th1.srx[pair_th1_ok].values)"
   ]
  },
  {
   "cell_type": "markdown",
   "metadata": {},
   "source": [
    "## More than 2 SRR per SRX\n",
    "\n",
    "Next I looked at the 1,386 SRXs that have 3 or more SRRs. Here I find 261 SRX that have a Spearman correlation ≥0.95 among all SRRs. The remaining 1,125 SRXs will be removed from further analysis. I breifly looked at these SRX that show some SRR with low correlation. There are a number of SRXs with a fraction of SRRs with low correlation, while the remaining SRRs have higher correlation; or examples where it looks like two groups of samples were merged together into a single SRX. It would be nice to revist this but for now I am going to ignore these samples."
   ]
  },
  {
   "cell_type": "code",
   "execution_count": 7,
   "metadata": {},
   "outputs": [
    {
     "name": "stdout",
     "output_type": "stream",
     "text": [
      "Cutoff: 0.95\n"
     ]
    },
    {
     "data": {
      "text/html": [
       "<div>\n",
       "<style>\n",
       "    .dataframe thead tr:only-child th {\n",
       "        text-align: right;\n",
       "    }\n",
       "\n",
       "    .dataframe thead th {\n",
       "        text-align: left;\n",
       "    }\n",
       "\n",
       "    .dataframe tbody tr th {\n",
       "        vertical-align: top;\n",
       "    }\n",
       "</style>\n",
       "<table border=\"1\" class=\"dataframe\">\n",
       "  <thead>\n",
       "    <tr style=\"text-align: right;\">\n",
       "      <th></th>\n",
       "      <th>Number of SRX</th>\n",
       "    </tr>\n",
       "  </thead>\n",
       "  <tbody>\n",
       "    <tr>\n",
       "      <th>Drop (&lt;0.95)</th>\n",
       "      <td>1,125</td>\n",
       "    </tr>\n",
       "    <tr>\n",
       "      <th>Merge (≥0.95)</th>\n",
       "      <td>261</td>\n",
       "    </tr>\n",
       "  </tbody>\n",
       "</table>\n",
       "</div>"
      ],
      "text/plain": [
       "              Number of SRX\n",
       "Drop (<0.95)          1,125\n",
       "Merge (≥0.95)           261"
      ]
     },
     "execution_count": 7,
     "metadata": {},
     "output_type": "execute_result"
    }
   ],
   "source": [
    "# Calculate correlation\n",
    "multi_th1 = calc_score(multi_srr_srx, TH=1)\n",
    "multi_th1_ok = (multi_th1.groupby('srx').spearman.min() >= SPEARMAN_CUTOFF)\n",
    "\n",
    "_df = multi_th1_ok.value_counts().map(lambda x: '{:,}'.format(x)).to_frame()\n",
    "_df.index = _df.index.map(lambda x: {True: 'Merge (≥{})'.format(SPEARMAN_CUTOFF), False: 'Drop (<{})'.format(SPEARMAN_CUTOFF)}[x])\n",
    "_df.columns = ['Number of SRX']\n",
    "print('Cutoff: {}'.format(SPEARMAN_CUTOFF))\n",
    "_df.sort_index()"
   ]
  },
  {
   "cell_type": "code",
   "execution_count": 8,
   "metadata": {},
   "outputs": [],
   "source": [
    "flag_srx_merge |= set(multi_th1_ok.index[multi_th1_ok].values)"
   ]
  },
  {
   "cell_type": "code",
   "execution_count": null,
   "metadata": {},
   "outputs": [],
   "source": []
  },
  {
   "cell_type": "code",
   "execution_count": 9,
   "metadata": {},
   "outputs": [],
   "source": [
    "# Create a list of mergable SRXs"
   ]
  },
  {
   "cell_type": "code",
   "execution_count": 10,
   "metadata": {},
   "outputs": [],
   "source": [
    "mergable = store.select('prealn/complete', 'srx == flag_srx_merge')"
   ]
  },
  {
   "cell_type": "code",
   "execution_count": 11,
   "metadata": {},
   "outputs": [],
   "source": [
    "add_table(store, 'prealn/workflow/merge', data=mergable, force=True, columns='all')"
   ]
  },
  {
   "cell_type": "code",
   "execution_count": 12,
   "metadata": {},
   "outputs": [],
   "source": [
    "store.close()"
   ]
  },
  {
   "cell_type": "code",
   "execution_count": null,
   "metadata": {},
   "outputs": [],
   "source": []
  }
 ],
 "metadata": {
  "kernelspec": {
   "display_name": "Python [conda env:ncbi_remap]",
   "language": "python",
   "name": "conda-env-ncbi_remap-py"
  },
  "language_info": {
   "codemirror_mode": {
    "name": "ipython",
    "version": 3
   },
   "file_extension": ".py",
   "mimetype": "text/x-python",
   "name": "python",
   "nbconvert_exporter": "python",
   "pygments_lexer": "ipython3",
   "version": "3.5.4"
  },
  "toc": {
   "nav_menu": {},
   "number_sections": false,
   "sideBar": true,
   "skip_h1_title": false,
   "toc_cell": false,
   "toc_position": {},
   "toc_section_display": "block",
   "toc_window_display": false
  }
 },
 "nbformat": 4,
 "nbformat_minor": 2
}
