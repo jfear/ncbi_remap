{
 "cells": [
  {
   "cell_type": "markdown",
   "metadata": {},
   "source": [
    "# Merging SRXs"
   ]
  },
  {
   "cell_type": "code",
   "execution_count": 43,
   "metadata": {
    "code_folding": []
   },
   "outputs": [
    {
     "name": "stdout",
     "output_type": "stream",
     "text": [
      "last updated: 2018-01-19 \n",
      "Git hash: 06f9cdb0e1127a415b918fe5173d6a65ca6975bf\n"
     ]
    }
   ],
   "source": [
    "import os\n",
    "import sys\n",
    "\n",
    "import numpy as np\n",
    "import pandas as pd\n",
    "\n",
    "import matplotlib as mpl\n",
    "import matplotlib.pyplot as plt\n",
    "import seaborn as sns\n",
    "from IPython.display import Markdown, HTML, display\n",
    "\n",
    "# Project level imports\n",
    "sys.path.insert(0, '../lib')\n",
    "from ncbi_remap.notebook import Nb\n",
    "from ncbi_remap.io import add_table\n",
    "from ncbi_remap.plotting import make_figs\n",
    "from ncbi_remap.prealn_wf import srr_per_srx, srx_reproducibility_score\n",
    "from ncbi_remap.normalization import cpm\n",
    "\n",
    "# Setup notebook\n",
    "nbconfig = Nb.setup_notebook(nb_name='prealn-wf_merge_srr')\n",
    "\n",
    "# Turn on cache\n",
    "from joblib import Memory\n",
    "memory = Memory(cachedir=nbconfig.cache, verbose=0)\n",
    "\n",
    "# Connect to data store\n",
    "store = pd.HDFStore('../sra.h5')\n",
    "\n",
    "# Constants\n",
    "from ncbi_remap.prealn_wf import SPEARMAN_CUTOFF"
   ]
  },
  {
   "cell_type": "code",
   "execution_count": 61,
   "metadata": {},
   "outputs": [
    {
     "data": {
      "text/markdown": [
       "\n",
       "In the SRA, runs (SRR) are considered technical replicates. \n",
       "However, we have found instances where users have uploaded biological replicates or different samples as the same SRX. \n",
       "We want to provide browser tracks and summarized coverage counts at the library (SRX) level, requiring SRRs to be merged. \n",
       "Instead of blindly merging SRRs, we want to verify that SRRs within an SRX behave like a technical replicate. \n",
       "I have explored multiple criteria (including SERE), but I have settled on using pairwise Spearman correlation using genes with at least 1 read. \n",
       "Here I require a correlation of ≥0.95 for an SRR to be considered a technical replicate. \n",
       "I also require that all SRRs within an SRX behave like technical replicates. \n",
       "There are cases where an SRX has 3 or more SRR with a small fraction behaving differently. \n",
       "Currently I am excluding these SRXs, but it may be worth while to try to create pseudo SRXs made up of these different groups of SRRs that behave similarly.\n"
      ],
      "text/plain": [
       "<IPython.core.display.Markdown object>"
      ]
     },
     "execution_count": 61,
     "metadata": {},
     "output_type": "execute_result"
    }
   ],
   "source": [
    "Markdown(f\"\"\"\n",
    "In the SRA, runs (SRR) are considered technical replicates. \n",
    "However, we have found instances where users have uploaded biological replicates or different samples as the same SRX. \n",
    "We want to provide browser tracks and summarized coverage counts at the library (SRX) level, requiring SRRs to be merged. \n",
    "Instead of blindly merging SRRs, we want to verify that SRRs within an SRX behave like a technical replicate. \n",
    "I have explored multiple criteria (including SERE), but I have settled on using pairwise Spearman correlation using genes with at least 1 read. \n",
    "Here I require a correlation of ≥{SPEARMAN_CUTOFF} for an SRR to be considered a technical replicate. \n",
    "I also require that all SRRs within an SRX behave like technical replicates. \n",
    "There are cases where an SRX has 3 or more SRR with a small fraction behaving differently. \n",
    "Currently I am excluding these SRXs, but it may be worth while to try to create pseudo SRXs made up of these different groups of SRRs that behave similarly.\n",
    "\"\"\")"
   ]
  },
  {
   "cell_type": "markdown",
   "metadata": {},
   "source": [
    "## Number of SRRs Per SRX"
   ]
  },
  {
   "cell_type": "code",
   "execution_count": 62,
   "metadata": {},
   "outputs": [
    {
     "data": {
      "text/markdown": [
       "\n",
       "The majority of SRXs (n=17,072) have a single SRR, while the remaning 2,602 SRXs have more than one.\n"
      ],
      "text/plain": [
       "<IPython.core.display.Markdown object>"
      ]
     },
     "execution_count": 62,
     "metadata": {},
     "output_type": "execute_result"
    }
   ],
   "source": [
    "cnts = srr_per_srx(store).srr.value_counts()\n",
    "single = cnts[1]\n",
    "multi = cnts.iloc[1:].sum()\n",
    "\n",
    "Markdown(f\"\"\"\n",
    "The majority of SRXs (n={single:,}) have a single SRR, while the remaning {multi:,} SRXs have more than one.\n",
    "\"\"\")"
   ]
  },
  {
   "cell_type": "code",
   "execution_count": 63,
   "metadata": {
    "code_folding": []
   },
   "outputs": [
    {
     "data": {
      "image/png": "[encoded data removed]",
      "text/plain": [
       "<matplotlib.figure.Figure at 0x7f4730c82550>"
      ]
     },
     "metadata": {},
     "output_type": "display_data"
    }
   ],
   "source": [
    "# Plot distribution of proportion uniquely mapping reads.\n",
    "@make_figs(nbconfig.fig_name('histogram_number_srr_per_srx'), styles=nbconfig.styles, \n",
    "           formats=nbconfig.formats)\n",
    "def plot(store):\n",
    "    df = srr_per_srx(store).iloc[:, 0]\n",
    "    bins = list(range(1, df.value_counts().index.max() + 1))\n",
    "    fig, ax = plt.subplots(1, 1)\n",
    "    sns.distplot(df, bins=bins, ax=ax, kde=False, hist_kws={'align': 'left'})\n",
    "    ax.set_title('SRRs per SRX')\n",
    "    ax.set_ylabel('Number of SRXs')\n",
    "    ax.set_xlabel('Number of SRRs')\n",
    "    ax.set_xticks(bins)\n",
    "    return fig\n",
    "\n",
    "plot(store)"
   ]
  },
  {
   "cell_type": "code",
   "execution_count": 65,
   "metadata": {
    "code_folding": []
   },
   "outputs": [
    {
     "data": {
      "text/markdown": [
       "\n",
       "<table border=\"1\" class=\"dataframe table table-striped\">\n",
       "  <thead>\n",
       "    <tr style=\"text-align: right;\">\n",
       "      <th></th>\n",
       "      <th>Number SRXs</th>\n",
       "    </tr>\n",
       "    <tr>\n",
       "      <th>Number of SRR</th>\n",
       "      <th></th>\n",
       "    </tr>\n",
       "  </thead>\n",
       "  <tbody>\n",
       "    <tr>\n",
       "      <th>1</th>\n",
       "      <td>17,072</td>\n",
       "    </tr>\n",
       "    <tr>\n",
       "      <th>2</th>\n",
       "      <td>1,216</td>\n",
       "    </tr>\n",
       "    <tr>\n",
       "      <th>3</th>\n",
       "      <td>433</td>\n",
       "    </tr>\n",
       "    <tr>\n",
       "      <th>5</th>\n",
       "      <td>362</td>\n",
       "    </tr>\n",
       "    <tr>\n",
       "      <th>8</th>\n",
       "      <td>222</td>\n",
       "    </tr>\n",
       "    <tr>\n",
       "      <th>4</th>\n",
       "      <td>192</td>\n",
       "    </tr>\n",
       "    <tr>\n",
       "      <th>6</th>\n",
       "      <td>85</td>\n",
       "    </tr>\n",
       "    <tr>\n",
       "      <th>7</th>\n",
       "      <td>61</td>\n",
       "    </tr>\n",
       "    <tr>\n",
       "      <th>9</th>\n",
       "      <td>14</td>\n",
       "    </tr>\n",
       "    <tr>\n",
       "      <th>13</th>\n",
       "      <td>6</td>\n",
       "    </tr>\n",
       "    <tr>\n",
       "      <th>10</th>\n",
       "      <td>4</td>\n",
       "    </tr>\n",
       "    <tr>\n",
       "      <th>14</th>\n",
       "      <td>3</td>\n",
       "    </tr>\n",
       "    <tr>\n",
       "      <th>15</th>\n",
       "      <td>1</td>\n",
       "    </tr>\n",
       "    <tr>\n",
       "      <th>12</th>\n",
       "      <td>1</td>\n",
       "    </tr>\n",
       "    <tr>\n",
       "      <th>11</th>\n",
       "      <td>1</td>\n",
       "    </tr>\n",
       "    <tr>\n",
       "      <th>26</th>\n",
       "      <td>1</td>\n",
       "    </tr>\n",
       "  </tbody>\n",
       "</table>\n"
      ],
      "text/plain": [
       "<IPython.core.display.Markdown object>"
      ]
     },
     "execution_count": 65,
     "metadata": {},
     "output_type": "execute_result"
    }
   ],
   "source": [
    "# Make Flags\n",
    "srx_counts = srr_per_srx(store)\n",
    "single_srr_srx = srx_counts[(srx_counts == 1)['srr']].index.tolist()\n",
    "two_srr_srx = srx_counts[(srx_counts == 2)['srr']].index.tolist()\n",
    "multi_srr_srx = srx_counts[(srx_counts > 2)['srr']].index.tolist()\n",
    "\n",
    "srx_merge = set(single_srr_srx)\n",
    "\n",
    "# Table of counts\n",
    "df_num_srr = srx_counts.srr.value_counts().apply(lambda x: '{:,}'.format(x)).to_frame()\n",
    "df_num_srr.index.name = 'Number of SRR'\n",
    "df_num_srr.columns=['Number SRXs']\n",
    "\n",
    "Markdown(f\"\"\"\n",
    "{df_num_srr.to_html(classes=\"table table-striped\")}\n",
    "\"\"\")"
   ]
  },
  {
   "cell_type": "markdown",
   "metadata": {},
   "source": [
    "## Calculate Correlations"
   ]
  },
  {
   "cell_type": "code",
   "execution_count": 74,
   "metadata": {},
   "outputs": [
    {
     "data": {
      "text/markdown": [
       "\n",
       "For each SRX with multiple SRRs I calculate the pairwise Spearman correlations among SRRs.\n",
       "For the 1,216 SRXs that have two SRRs, I remove SRXs whose SRRs have a correlation less than 0.95.\n",
       "For the 1,386 SRXs that have more than two SRRs, it is a more complicated metric could be used to select SRRS.\n",
       "Currently I removing an SRX if any of the SRRs have less than 0.95 spearman correlation.\n"
      ],
      "text/plain": [
       "<IPython.core.display.Markdown object>"
      ]
     },
     "execution_count": 74,
     "metadata": {},
     "output_type": "execute_result"
    }
   ],
   "source": [
    "Markdown(f\"\"\"\n",
    "For each SRX with multiple SRRs I calculate the pairwise Spearman correlations among SRRs.\n",
    "For the {len(two_srr_srx):,} SRXs that have two SRRs, I remove SRXs whose SRRs have a correlation less than {SPEARMAN_CUTOFF}.\n",
    "For the {len(multi_srr_srx):,} SRXs that have more than two SRRs, it is a more complicated metric could be used to select SRRS.\n",
    "Currently I removing an SRX if any of the SRRs have less than {SPEARMAN_CUTOFF} spearman correlation.\n",
    "\"\"\")"
   ]
  },
  {
   "cell_type": "code",
   "execution_count": 57,
   "metadata": {},
   "outputs": [],
   "source": [
    "def calc_spearman(srx):\n",
    "    counts = store.select('prealn/workflow/feature_counts/counts', 'srx == srx')\n",
    "    corr = counts.unstack(1).corr(method='spearman')\n",
    "    _min = corr.min().min()\n",
    "    rows = []\n",
    "    for k, v in corr.to_dict().items():\n",
    "        res = []\n",
    "        for kk, vv in v.items():\n",
    "            if k == kk:\n",
    "                continue\n",
    "            res.append(f'{kk}:{round(vv, 2)}')\n",
    "        rows.append({'srx': f'{srx}', 'srr': f'{k}', 'spearman': '|'.join(res), 'spearman_min': round(_min, 2)})\n",
    "    return pd.DataFrame(rows).set_index(['srx', 'srr'])\n",
    "\n",
    "@memory.cache\n",
    "def iter_corr(srxs):\n",
    "    \n",
    "    dfs = []\n",
    "    for srx in srxs:\n",
    "        dfs.append(calc_spearman(srx))\n",
    "    return pd.concat(dfs)\n",
    "\n",
    "corrs = iter_corr(two_srr_srx + multi_srr_srx)"
   ]
  },
  {
   "cell_type": "code",
   "execution_count": 67,
   "metadata": {},
   "outputs": [
    {
     "data": {
      "text/markdown": [
       "\n",
       "## Pairs of SRX\n",
       "\n",
       "I started by looking at SRXs with a pair of SRRS (n=1,216). \n",
       "The majority of these samples (n=894) have a Spearman correlation ≥0.95 and should be merged. \n",
       "The remaining 322 will be removed from further analysis for now.\n"
      ],
      "text/plain": [
       "<IPython.core.display.Markdown object>"
      ]
     },
     "execution_count": 67,
     "metadata": {},
     "output_type": "execute_result"
    }
   ],
   "source": [
    "pairs_min = corrs.loc[(two_srr_srx, slice(None)), 'spearman_min'].groupby(level=0).min()\n",
    "pairs_ok = (pairs_min >= SPEARMAN_CUTOFF).sum()\n",
    "pairs_bad = (~(pairs_min >= SPEARMAN_CUTOFF)).sum()\n",
    "\n",
    "Markdown(f\"\"\"\n",
    "## Pairs of SRX\n",
    "\n",
    "I started by looking at SRXs with a pair of SRRS (n={len(two_srr_srx):,}). \n",
    "The majority of these samples (n={pairs_ok:,}) have a Spearman correlation ≥{SPEARMAN_CUTOFF} and should be merged. \n",
    "The remaining {pairs_bad:,} will be removed from further analysis for now.\n",
    "\"\"\")"
   ]
  },
  {
   "cell_type": "code",
   "execution_count": 81,
   "metadata": {},
   "outputs": [
    {
     "name": "stdout",
     "output_type": "stream",
     "text": [
      "Cutoff: 0.95\n"
     ]
    },
    {
     "data": {
      "text/html": [
       "<table border=\"1\" class=\"dataframe table table-striped\">\n",
       "  <thead>\n",
       "    <tr style=\"text-align: right;\">\n",
       "      <th></th>\n",
       "      <th>Number of SRX</th>\n",
       "    </tr>\n",
       "  </thead>\n",
       "  <tbody>\n",
       "    <tr>\n",
       "      <th>Merge (≥0.95)</th>\n",
       "      <td>894</td>\n",
       "    </tr>\n",
       "    <tr>\n",
       "      <th>Drop(&lt;0.95)</th>\n",
       "      <td>322</td>\n",
       "    </tr>\n",
       "  </tbody>\n",
       "</table>"
      ],
      "text/plain": [
       "<IPython.core.display.HTML object>"
      ]
     },
     "execution_count": 81,
     "metadata": {},
     "output_type": "execute_result"
    }
   ],
   "source": [
    "# Calculate correalation and count ok\n",
    "_df = pd.DataFrame([f'{pairs_ok:,}', f'{pairs_bad:,}'], index=[f'Merge (≥{SPEARMAN_CUTOFF})', f'Drop(<{SPEARMAN_CUTOFF})'], columns = ['Number of SRX'])\n",
    "print('Cutoff: {}'.format(SPEARMAN_CUTOFF))\n",
    "HTML(_df.to_html(classes=\"table table-striped\"))"
   ]
  },
  {
   "cell_type": "code",
   "execution_count": 69,
   "metadata": {},
   "outputs": [],
   "source": [
    "srx_merge |= set(pairs_min[pairs_min >= SPEARMAN_CUTOFF].index.values)"
   ]
  },
  {
   "cell_type": "markdown",
   "metadata": {},
   "source": [
    "## More than 2 SRR per SRX"
   ]
  },
  {
   "cell_type": "code",
   "execution_count": 82,
   "metadata": {},
   "outputs": [
    {
     "data": {
      "text/markdown": [
       "\n",
       "Next I looked at the 1,386 SRXs that have 3 or more SRRs. \n",
       "Here I find 321 SRX that have a Spearman correlation ≥0.95 among all SRRs. \n",
       "The remaining 1,065 SRXs will be removed from further analysis. \n",
       "I breifly looked at these SRX that show some SRR with low correlation. \n",
       "There are a number of SRXs with a fraction of SRRs with low correlation, while the remaining SRRs have higher correlation; or examples where it looks like two groups of samples were merged together into a single SRX. \n",
       "It would be nice to revist this but for now I am going to ignore these samples.\n"
      ],
      "text/plain": [
       "<IPython.core.display.Markdown object>"
      ]
     },
     "execution_count": 82,
     "metadata": {},
     "output_type": "execute_result"
    }
   ],
   "source": [
    "multi_min = corrs.loc[(multi_srr_srx, slice(None)), 'spearman_min'].groupby(level=0).min()\n",
    "multi_ok = (multi_min >= SPEARMAN_CUTOFF).sum()\n",
    "multi_bad = (~(multi_min >= SPEARMAN_CUTOFF)).sum()\n",
    "\n",
    "Markdown(f\"\"\"\n",
    "Next I looked at the {len(multi_srr_srx):,} SRXs that have 3 or more SRRs. \n",
    "Here I find {multi_ok:,} SRX that have a Spearman correlation ≥{SPEARMAN_CUTOFF} among all SRRs. \n",
    "The remaining {multi_bad:,} SRXs will be removed from further analysis. \n",
    "I breifly looked at these SRX that show some SRR with low correlation. \n",
    "There are a number of SRXs with a fraction of SRRs with low correlation, while the remaining SRRs have higher correlation; or examples where it looks like two groups of samples were merged together into a single SRX. \n",
    "It would be nice to revist this but for now I am going to ignore these samples.\n",
    "\"\"\")"
   ]
  },
  {
   "cell_type": "code",
   "execution_count": 85,
   "metadata": {},
   "outputs": [
    {
     "name": "stdout",
     "output_type": "stream",
     "text": [
      "Cutoff: 0.95\n"
     ]
    },
    {
     "data": {
      "text/html": [
       "<table border=\"1\" class=\"dataframe table table-striped\">\n",
       "  <thead>\n",
       "    <tr style=\"text-align: right;\">\n",
       "      <th></th>\n",
       "      <th>Number of SRX</th>\n",
       "    </tr>\n",
       "  </thead>\n",
       "  <tbody>\n",
       "    <tr>\n",
       "      <th>Merge (≥0.95)</th>\n",
       "      <td>321</td>\n",
       "    </tr>\n",
       "    <tr>\n",
       "      <th>Drop(&lt;0.95)</th>\n",
       "      <td>1,065</td>\n",
       "    </tr>\n",
       "  </tbody>\n",
       "</table>"
      ],
      "text/plain": [
       "<IPython.core.display.HTML object>"
      ]
     },
     "execution_count": 85,
     "metadata": {},
     "output_type": "execute_result"
    }
   ],
   "source": [
    "# Calculate correalation and count ok\n",
    "_df = pd.DataFrame([f'{multi_ok:,}', f'{multi_bad:,}'], index=[f'Merge (≥{SPEARMAN_CUTOFF})', f'Drop(<{SPEARMAN_CUTOFF})'], columns = ['Number of SRX'])\n",
    "print('Cutoff: {}'.format(SPEARMAN_CUTOFF))\n",
    "HTML(_df.to_html(classes=\"table table-striped\"))"
   ]
  },
  {
   "cell_type": "code",
   "execution_count": 86,
   "metadata": {},
   "outputs": [],
   "source": [
    "srx_merge |= set(multi_min[multi_min >= SPEARMAN_CUTOFF].index.values)"
   ]
  },
  {
   "cell_type": "markdown",
   "metadata": {
    "code_folding": []
   },
   "source": [
    "## Create a list of mergable SRXs"
   ]
  },
  {
   "cell_type": "code",
   "execution_count": 87,
   "metadata": {},
   "outputs": [],
   "source": [
    "flags = store['prealn/flags']\n",
    "flags['flag_merge'] = False\n",
    "flags.loc[(list(srx_merge), slice(None)), 'flag_merge'] = True\n",
    "store['prealn/flags'] = flags"
   ]
  },
  {
   "cell_type": "code",
   "execution_count": 89,
   "metadata": {},
   "outputs": [],
   "source": [
    "store.close()"
   ]
  }
 ],
 "metadata": {
  "kernelspec": {
   "display_name": "Python [conda env:ncbi_remap]",
   "language": "python",
   "name": "conda-env-ncbi_remap-py"
  },
  "language_info": {
   "codemirror_mode": {
    "name": "ipython",
    "version": 3
   },
   "file_extension": ".py",
   "mimetype": "text/x-python",
   "name": "python",
   "nbconvert_exporter": "python",
   "pygments_lexer": "ipython3",
   "version": "3.6.3"
  },
  "toc": {
   "colors": {
    "hover_highlight": "#DAA520",
    "navigate_num": "#000000",
    "navigate_text": "#333333",
    "running_highlight": "#FF0000",
    "selected_highlight": "#FFD700",
    "sidebar_border": "#EEEEEE",
    "wrapper_background": "#FFFFFF"
   },
   "moveMenuLeft": true,
   "nav_menu": {},
   "navigate_menu": true,
   "number_sections": false,
   "sideBar": true,
   "skip_h1_title": false,
   "threshold": 4,
   "toc_cell": false,
   "toc_position": {},
   "toc_section_display": "block",
   "toc_window_display": false,
   "widenNotebook": false
  }
 },
 "nbformat": 4,
 "nbformat_minor": 2
}
