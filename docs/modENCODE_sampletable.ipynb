{
 "cells": [
  {
   "cell_type": "markdown",
   "metadata": {},
   "source": [
    "modENCODE may be a good reference point. They had a large variety and number of data sets. There may be some issues with this data because it is kind of old ~2012. Here I generate a sample table using the modENCODE database. I query their DB for all D. melanogaster sequencing data and use my copy of SRA to fill in SRX and SRR information. I then look at some basic summaries and output a sample sheet."
   ]
  },
  {
   "cell_type": "code",
   "execution_count": 1,
   "metadata": {
    "code_folding": [
     0
    ]
   },
   "outputs": [
    {
     "name": "stdout",
     "output_type": "stream",
     "text": [
      "last updated: 2017-09-15 \n",
      "Git hash: ec5e4e30da99e64bf7cdc77a7333868aa6ba278e\n"
     ]
    }
   ],
   "source": [
    "# %load ../config/defaults.py\n",
    "# Load useful extensions\n",
    "\n",
    "# Activate the autoreload extension for easy reloading of external packages\n",
    "%reload_ext autoreload\n",
    "%autoreload 2\n",
    "\n",
    "# Trun on the water mark\n",
    "%reload_ext watermark\n",
    "%watermark -u -d -g\n",
    "\n",
    "# Load ipycache extension\n",
    "%reload_ext ipycache\n",
    "from ipycache import CacheMagics\n",
    "CacheMagics.cachedir = '../cachedir'\n",
    "\n",
    "# Add project library to path\n",
    "import sys\n",
    "sys.path.insert(0, '../../lib/python')\n",
    "\n",
    "# The usual suspects\n",
    "import os\n",
    "import numpy as np\n",
    "import pandas as pd\n",
    "\n",
    "# plotting\n",
    "import matplotlib as mpl\n",
    "import matplotlib.pyplot as plt\n",
    "import seaborn as sns\n",
    "\n",
    "%matplotlib inline\n",
    "sns.set_context('poster')\n",
    "\n",
    "# Turn off scientific notation\n",
    "np.set_printoptions(precision=5, suppress=True)\n"
   ]
  },
  {
   "cell_type": "code",
   "execution_count": 89,
   "metadata": {
    "code_folding": [
     0
    ],
    "collapsed": true
   },
   "outputs": [],
   "source": [
    "# %load ../../bin/load.py\n",
    "from pymongo import MongoClient\n",
    "with open('/home/fearjm/Projects/ncbi_remap/output/.mongodb_host', 'r') as fh:\n",
    "    host = fh.read().strip()\n",
    "client = MongoClient(host=host, port=27022)\n",
    "db = client['sra2']\n",
    "ncbi = db['ncbi']\n",
    "remap = db['remap']"
   ]
  },
  {
   "cell_type": "markdown",
   "metadata": {},
   "source": [
    "# Building the table"
   ]
  },
  {
   "cell_type": "code",
   "execution_count": 183,
   "metadata": {
    "code_folding": [
     0
    ]
   },
   "outputs": [],
   "source": [
    "# helper functions to complete srr and srx information from my database\n",
    "def get_srx(srr):\n",
    "    try:\n",
    "        return ncbi.find_one({'sra.run.run_id': srr}, {})['_id']\n",
    "    except TypeError:\n",
    "        return None\n",
    "\n",
    "def get_srr(srx):\n",
    "    try:\n",
    "        return [x['srr'] for x in ncbi.aggregate([\n",
    "            {\n",
    "                '$match': {\n",
    "                    '_id': srx\n",
    "                }\n",
    "            },\n",
    "            {'$unwind': '$sra.run'},\n",
    "            {\n",
    "                '$project': {\n",
    "                    '_id': 0,\n",
    "                    'srr': '$sra.run.run_id'\n",
    "                }\n",
    "            }\n",
    "        ])]\n",
    "    except TypeError:\n",
    "        return None\n",
    "\n",
    "def get_geo(gsm):\n",
    "    try:\n",
    "        return ncbi.find_one({'sra.sample.GEO': gsm}, {})['_id']\n",
    "    except:\n",
    "        pass\n",
    "    try:\n",
    "        return ncbi.find_one({'sra.study.GEO': gsm}, {})['_id']\n",
    "    except:\n",
    "        return None\n",
    "\n",
    "def get_strategy(srx):\n",
    "    try:\n",
    "        return next(ncbi.aggregate([\n",
    "            {\n",
    "                '$match': {\n",
    "                    '_id': srx\n",
    "                }\n",
    "            },\n",
    "            {\n",
    "                '$project': {\n",
    "                    '_id': 0,\n",
    "                    'strat': '$sra.experiment.library_strategy'\n",
    "                }\n",
    "            }\n",
    "        ]))['strat']\n",
    "    except:\n",
    "        return None"
   ]
  },
  {
   "cell_type": "code",
   "execution_count": 219,
   "metadata": {
    "code_folding": [
     0
    ]
   },
   "outputs": [
    {
     "name": "stdout",
     "output_type": "stream",
     "text": [
      "TMPID:GEO:3323_lane_1 modENCODE_3323\n",
      "TMPID:GEO:3323_lane_2 modENCODE_3323\n",
      "TMPID:GEO:3324_lane_1 modENCODE_3324\n",
      "TMPID:GEO:3324_lane_2 modENCODE_3324\n",
      "TMPID:GEO:3324_lane_3 modENCODE_3324\n",
      "TMPID:GEO:3325_lane_1 modENCODE_3325\n",
      "TMPID:GEO:3325_lane_2 modENCODE_3325\n",
      "TMPID:GEO:3325_lane_3 modENCODE_3325\n"
     ]
    }
   ],
   "source": [
    "# Download modENCODE table from modMine\n",
    "from intermine.webservice import Service\n",
    "service = Service(\"http://intermine.modencode.org/release-33/service\")\n",
    "\n",
    "# Get a new query on the class (table) you will be querying:\n",
    "query = service.new_query(\"Submission\")\n",
    "\n",
    "# The view specifies the output columns\n",
    "query.add_view(\"DCCid\", \"assayFactor\", \"experimentType\", \"databaseRecords.accession\")\n",
    "\n",
    "# Uncomment and edit the line below (the default) to select a custom sort order:\n",
    "# query.add_sort_order(\"Submission.DCCid\", \"ASC\")\n",
    "\n",
    "# You can edit the constraint values below\n",
    "query.add_constraint(\"organism.species\", \"=\", \"melanogaster\", code = \"A\")\n",
    "query.add_constraint(\"databaseRecords.database\", \"ONE OF\", [\"GEO\", \"SRA\"], code = \"B\")\n",
    "query.add_constraint(\"experimentType\", \"ONE OF\", [\n",
    "    \"RNA-seq\", \"ChIP-seq\", \"RNA-seq, RNAi\", \"Computational annotation\", \"RIP-seq\",\n",
    "    \"DNA-seq\", \"CAGE\", \"RACE\", \n",
    "], code = \"C\")\n",
    "\n",
    "# Uncomment and edit the code below to specify your own custom logic:\n",
    "# query.set_logic(\"A\")\n",
    "\n",
    "rows = []\n",
    "for row in query.rows():\n",
    "    acc = row[\"databaseRecords.accession\"].strip()\n",
    "    \n",
    "    if acc.startswith('SRR'):\n",
    "        srrs = [acc]\n",
    "        srx = get_srx(acc)\n",
    "    elif acc.startswith('SRX'):\n",
    "        srx = acc\n",
    "        srrs = get_srr(srx)\n",
    "    elif acc.startswith('GSM') or acc.startswith('GSE'):\n",
    "        srx = get_geo(acc)\n",
    "        srrs = get_srr(srx)\n",
    "    else:\n",
    "        print(acc, row['DCCid'])\n",
    "        continue\n",
    "    \n",
    "    strat = get_strategy(srx)\n",
    "    \n",
    "    for srr in srrs:\n",
    "        rows.append([srx, srr, row[\"DCCid\"], row[\"assayFactor\"], row[\"experimentType\"], strat])\n",
    "        \n",
    "df = pd.DataFrame(rows, columns=['srx', 'srr', 'modENCODE_id', 'modENCODE_assay', 'modENCODE_type', 'sra_strategy'])"
   ]
  },
  {
   "cell_type": "markdown",
   "metadata": {},
   "source": [
    "The above samples had strange entries for the GEO accessions. There is not much I can do with this data, so I just ignore these samples."
   ]
  },
  {
   "cell_type": "code",
   "execution_count": 220,
   "metadata": {},
   "outputs": [
    {
     "data": {
      "text/html": [
       "<div>\n",
       "<table border=\"1\" class=\"dataframe\">\n",
       "  <thead>\n",
       "    <tr style=\"text-align: right;\">\n",
       "      <th></th>\n",
       "      <th>srx</th>\n",
       "      <th>srr</th>\n",
       "      <th>modENCODE_id</th>\n",
       "      <th>modENCODE_assay</th>\n",
       "      <th>modENCODE_type</th>\n",
       "      <th>sra_strategy</th>\n",
       "    </tr>\n",
       "  </thead>\n",
       "  <tbody>\n",
       "    <tr>\n",
       "      <th>542</th>\n",
       "      <td>None</td>\n",
       "      <td>SRR069507</td>\n",
       "      <td>modENCODE_3193</td>\n",
       "      <td>small-RNA</td>\n",
       "      <td>RNA-seq</td>\n",
       "      <td>None</td>\n",
       "    </tr>\n",
       "    <tr>\n",
       "      <th>1058</th>\n",
       "      <td>None</td>\n",
       "      <td>SRR124149</td>\n",
       "      <td>modENCODE_4409</td>\n",
       "      <td>total-RNA</td>\n",
       "      <td>RNA-seq</td>\n",
       "      <td>None</td>\n",
       "    </tr>\n",
       "    <tr>\n",
       "      <th>1363</th>\n",
       "      <td>None</td>\n",
       "      <td>SRR488719</td>\n",
       "      <td>modENCODE_4771</td>\n",
       "      <td>small-RNA</td>\n",
       "      <td>RNA-seq</td>\n",
       "      <td>None</td>\n",
       "    </tr>\n",
       "  </tbody>\n",
       "</table>\n",
       "</div>"
      ],
      "text/plain": [
       "       srx        srr    modENCODE_id modENCODE_assay modENCODE_type  \\\n",
       "542   None  SRR069507  modENCODE_3193       small-RNA        RNA-seq   \n",
       "1058  None  SRR124149  modENCODE_4409       total-RNA        RNA-seq   \n",
       "1363  None  SRR488719  modENCODE_4771       small-RNA        RNA-seq   \n",
       "\n",
       "     sra_strategy  \n",
       "542          None  \n",
       "1058         None  \n",
       "1363         None  "
      ]
     },
     "execution_count": 220,
     "metadata": {},
     "output_type": "execute_result"
    }
   ],
   "source": [
    "df[df.isnull().any(axis=1)]"
   ]
  },
  {
   "cell_type": "markdown",
   "metadata": {},
   "source": [
    "The above 3 samples no longer exists in NCBI's SRA database. I double checked everything through the web interface, so I am just going to ignore these samples."
   ]
  },
  {
   "cell_type": "code",
   "execution_count": 227,
   "metadata": {},
   "outputs": [
    {
     "name": "stdout",
     "output_type": "stream",
     "text": [
      "My table has 2,311 samples from modENCODE\n"
     ]
    }
   ],
   "source": [
    "# Create cleaned dataset\n",
    "df_clean = df.dropna().drop_duplicates()\n",
    "print('My table has {:,} samples from modENCODE'.format(df_clean.shape[0]))"
   ]
  },
  {
   "cell_type": "markdown",
   "metadata": {},
   "source": [
    "# Basic summary counts"
   ]
  },
  {
   "cell_type": "markdown",
   "metadata": {},
   "source": [
    "## compare modENCODES assay type to SRA's."
   ]
  },
  {
   "cell_type": "code",
   "execution_count": 223,
   "metadata": {},
   "outputs": [
    {
     "data": {
      "text/html": [
       "<div>\n",
       "<table border=\"1\" class=\"dataframe\">\n",
       "  <thead>\n",
       "    <tr style=\"text-align: right;\">\n",
       "      <th>sra_strategy</th>\n",
       "      <th>ChIP-Seq</th>\n",
       "      <th>EST</th>\n",
       "      <th>OTHER</th>\n",
       "      <th>RNA-Seq</th>\n",
       "      <th>WGS</th>\n",
       "      <th>All</th>\n",
       "    </tr>\n",
       "    <tr>\n",
       "      <th>modENCODE_type</th>\n",
       "      <th></th>\n",
       "      <th></th>\n",
       "      <th></th>\n",
       "      <th></th>\n",
       "      <th></th>\n",
       "      <th></th>\n",
       "    </tr>\n",
       "  </thead>\n",
       "  <tbody>\n",
       "    <tr>\n",
       "      <th>CAGE</th>\n",
       "      <td>0</td>\n",
       "      <td>0</td>\n",
       "      <td>0</td>\n",
       "      <td>55</td>\n",
       "      <td>0</td>\n",
       "      <td>55</td>\n",
       "    </tr>\n",
       "    <tr>\n",
       "      <th>ChIP-seq</th>\n",
       "      <td>963</td>\n",
       "      <td>0</td>\n",
       "      <td>0</td>\n",
       "      <td>0</td>\n",
       "      <td>0</td>\n",
       "      <td>963</td>\n",
       "    </tr>\n",
       "    <tr>\n",
       "      <th>Computational annotation</th>\n",
       "      <td>0</td>\n",
       "      <td>32</td>\n",
       "      <td>68</td>\n",
       "      <td>58</td>\n",
       "      <td>0</td>\n",
       "      <td>158</td>\n",
       "    </tr>\n",
       "    <tr>\n",
       "      <th>DNA-seq</th>\n",
       "      <td>8</td>\n",
       "      <td>0</td>\n",
       "      <td>22</td>\n",
       "      <td>0</td>\n",
       "      <td>27</td>\n",
       "      <td>57</td>\n",
       "    </tr>\n",
       "    <tr>\n",
       "      <th>RACE</th>\n",
       "      <td>0</td>\n",
       "      <td>0</td>\n",
       "      <td>0</td>\n",
       "      <td>24</td>\n",
       "      <td>0</td>\n",
       "      <td>24</td>\n",
       "    </tr>\n",
       "    <tr>\n",
       "      <th>RIP-seq</th>\n",
       "      <td>0</td>\n",
       "      <td>0</td>\n",
       "      <td>68</td>\n",
       "      <td>0</td>\n",
       "      <td>0</td>\n",
       "      <td>68</td>\n",
       "    </tr>\n",
       "    <tr>\n",
       "      <th>RNA-seq</th>\n",
       "      <td>0</td>\n",
       "      <td>553</td>\n",
       "      <td>25</td>\n",
       "      <td>201</td>\n",
       "      <td>0</td>\n",
       "      <td>779</td>\n",
       "    </tr>\n",
       "    <tr>\n",
       "      <th>RNA-seq, RNAi</th>\n",
       "      <td>0</td>\n",
       "      <td>0</td>\n",
       "      <td>0</td>\n",
       "      <td>207</td>\n",
       "      <td>0</td>\n",
       "      <td>207</td>\n",
       "    </tr>\n",
       "    <tr>\n",
       "      <th>All</th>\n",
       "      <td>971</td>\n",
       "      <td>585</td>\n",
       "      <td>183</td>\n",
       "      <td>545</td>\n",
       "      <td>27</td>\n",
       "      <td>2311</td>\n",
       "    </tr>\n",
       "  </tbody>\n",
       "</table>\n",
       "</div>"
      ],
      "text/plain": [
       "sra_strategy              ChIP-Seq  EST  OTHER  RNA-Seq  WGS   All\n",
       "modENCODE_type                                                    \n",
       "CAGE                             0    0      0       55    0    55\n",
       "ChIP-seq                       963    0      0        0    0   963\n",
       "Computational annotation         0   32     68       58    0   158\n",
       "DNA-seq                          8    0     22        0   27    57\n",
       "RACE                             0    0      0       24    0    24\n",
       "RIP-seq                          0    0     68        0    0    68\n",
       "RNA-seq                          0  553     25      201    0   779\n",
       "RNA-seq, RNAi                    0    0      0      207    0   207\n",
       "All                            971  585    183      545   27  2311"
      ]
     },
     "execution_count": 223,
     "metadata": {},
     "output_type": "execute_result"
    }
   ],
   "source": [
    "pd.crosstab(df_clean.modENCODE_type, df_clean.sra_strategy, margins=True)"
   ]
  },
  {
   "cell_type": "markdown",
   "metadata": {},
   "source": [
    "## Compare modENCODES assay Factors to SRAs assay types."
   ]
  },
  {
   "cell_type": "markdown",
   "metadata": {},
   "source": [
    "modENCODE has a collumn called assay factor. This column contains some general values like 'PolyA-RNA', it also has ChIP-seq targets that I am ignoring here."
   ]
  },
  {
   "cell_type": "code",
   "execution_count": 228,
   "metadata": {},
   "outputs": [
    {
     "data": {
      "text/html": [
       "<div>\n",
       "<table border=\"1\" class=\"dataframe\">\n",
       "  <thead>\n",
       "    <tr style=\"text-align: right;\">\n",
       "      <th>sra_strategy</th>\n",
       "      <th>EST</th>\n",
       "      <th>OTHER</th>\n",
       "      <th>RNA-Seq</th>\n",
       "      <th>WGS</th>\n",
       "      <th>All</th>\n",
       "    </tr>\n",
       "    <tr>\n",
       "      <th>modENCODE_assay</th>\n",
       "      <th></th>\n",
       "      <th></th>\n",
       "      <th></th>\n",
       "      <th></th>\n",
       "      <th></th>\n",
       "    </tr>\n",
       "  </thead>\n",
       "  <tbody>\n",
       "    <tr>\n",
       "      <th>5-prime-UTR</th>\n",
       "      <td>0</td>\n",
       "      <td>0</td>\n",
       "      <td>55</td>\n",
       "      <td>0</td>\n",
       "      <td>55</td>\n",
       "    </tr>\n",
       "    <tr>\n",
       "      <th>PolyA-RNA</th>\n",
       "      <td>0</td>\n",
       "      <td>0</td>\n",
       "      <td>24</td>\n",
       "      <td>0</td>\n",
       "      <td>24</td>\n",
       "    </tr>\n",
       "    <tr>\n",
       "      <th>UTR</th>\n",
       "      <td>0</td>\n",
       "      <td>0</td>\n",
       "      <td>24</td>\n",
       "      <td>0</td>\n",
       "      <td>24</td>\n",
       "    </tr>\n",
       "    <tr>\n",
       "      <th>genomic_sequence</th>\n",
       "      <td>0</td>\n",
       "      <td>0</td>\n",
       "      <td>0</td>\n",
       "      <td>21</td>\n",
       "      <td>21</td>\n",
       "    </tr>\n",
       "    <tr>\n",
       "      <th>small-RNA</th>\n",
       "      <td>5</td>\n",
       "      <td>25</td>\n",
       "      <td>58</td>\n",
       "      <td>0</td>\n",
       "      <td>88</td>\n",
       "    </tr>\n",
       "    <tr>\n",
       "      <th>total-RNA</th>\n",
       "      <td>568</td>\n",
       "      <td>5</td>\n",
       "      <td>140</td>\n",
       "      <td>0</td>\n",
       "      <td>713</td>\n",
       "    </tr>\n",
       "    <tr>\n",
       "      <th>All</th>\n",
       "      <td>573</td>\n",
       "      <td>30</td>\n",
       "      <td>301</td>\n",
       "      <td>21</td>\n",
       "      <td>925</td>\n",
       "    </tr>\n",
       "  </tbody>\n",
       "</table>\n",
       "</div>"
      ],
      "text/plain": [
       "sra_strategy      EST  OTHER  RNA-Seq  WGS  All\n",
       "modENCODE_assay                                \n",
       "5-prime-UTR         0      0       55    0   55\n",
       "PolyA-RNA           0      0       24    0   24\n",
       "UTR                 0      0       24    0   24\n",
       "genomic_sequence    0      0        0   21   21\n",
       "small-RNA           5     25       58    0   88\n",
       "total-RNA         568      5      140    0  713\n",
       "All               573     30      301   21  925"
      ]
     },
     "execution_count": 228,
     "metadata": {},
     "output_type": "execute_result"
    }
   ],
   "source": [
    "factors =  df_clean.modENCODE_assay.isin(['5-prime-UTR', 'UTR', 'genomic_sequence', 'small-RNA', 'total-RNA', 'PolyA-RNA'])\n",
    "pd.crosstab(df_clean[factors].modENCODE_assay, df_clean[factors].sra_strategy, margins=True)"
   ]
  },
  {
   "cell_type": "markdown",
   "metadata": {},
   "source": [
    "## Output sample table."
   ]
  },
  {
   "cell_type": "code",
   "execution_count": 225,
   "metadata": {},
   "outputs": [
    {
     "data": {
      "text/html": [
       "<div>\n",
       "<table border=\"1\" class=\"dataframe\">\n",
       "  <thead>\n",
       "    <tr style=\"text-align: right;\">\n",
       "      <th></th>\n",
       "      <th>srx</th>\n",
       "      <th>srr</th>\n",
       "      <th>modENCODE_id</th>\n",
       "      <th>modENCODE_assay</th>\n",
       "      <th>modENCODE_type</th>\n",
       "      <th>sra_strategy</th>\n",
       "    </tr>\n",
       "  </thead>\n",
       "  <tbody>\n",
       "    <tr>\n",
       "      <th>0</th>\n",
       "      <td>SRX002599</td>\n",
       "      <td>SRR013488</td>\n",
       "      <td>modENCODE_1040</td>\n",
       "      <td>UTR</td>\n",
       "      <td>RACE</td>\n",
       "      <td>RNA-Seq</td>\n",
       "    </tr>\n",
       "    <tr>\n",
       "      <th>1</th>\n",
       "      <td>SRX002600</td>\n",
       "      <td>SRR013489</td>\n",
       "      <td>modENCODE_1040</td>\n",
       "      <td>UTR</td>\n",
       "      <td>RACE</td>\n",
       "      <td>RNA-Seq</td>\n",
       "    </tr>\n",
       "    <tr>\n",
       "      <th>2</th>\n",
       "      <td>SRX002600</td>\n",
       "      <td>SRR013490</td>\n",
       "      <td>modENCODE_1040</td>\n",
       "      <td>UTR</td>\n",
       "      <td>RACE</td>\n",
       "      <td>RNA-Seq</td>\n",
       "    </tr>\n",
       "    <tr>\n",
       "      <th>3</th>\n",
       "      <td>SRX002601</td>\n",
       "      <td>SRR013491</td>\n",
       "      <td>modENCODE_1040</td>\n",
       "      <td>UTR</td>\n",
       "      <td>RACE</td>\n",
       "      <td>RNA-Seq</td>\n",
       "    </tr>\n",
       "    <tr>\n",
       "      <th>4</th>\n",
       "      <td>SRX002602</td>\n",
       "      <td>SRR013492</td>\n",
       "      <td>modENCODE_1040</td>\n",
       "      <td>UTR</td>\n",
       "      <td>RACE</td>\n",
       "      <td>RNA-Seq</td>\n",
       "    </tr>\n",
       "  </tbody>\n",
       "</table>\n",
       "</div>"
      ],
      "text/plain": [
       "         srx        srr    modENCODE_id modENCODE_assay modENCODE_type  \\\n",
       "0  SRX002599  SRR013488  modENCODE_1040             UTR           RACE   \n",
       "1  SRX002600  SRR013489  modENCODE_1040             UTR           RACE   \n",
       "2  SRX002600  SRR013490  modENCODE_1040             UTR           RACE   \n",
       "3  SRX002601  SRR013491  modENCODE_1040             UTR           RACE   \n",
       "4  SRX002602  SRR013492  modENCODE_1040             UTR           RACE   \n",
       "\n",
       "  sra_strategy  \n",
       "0      RNA-Seq  \n",
       "1      RNA-Seq  \n",
       "2      RNA-Seq  \n",
       "3      RNA-Seq  \n",
       "4      RNA-Seq  "
      ]
     },
     "execution_count": 225,
     "metadata": {},
     "output_type": "execute_result"
    }
   ],
   "source": [
    "df_clean.head()"
   ]
  },
  {
   "cell_type": "code",
   "execution_count": 229,
   "metadata": {
    "collapsed": true
   },
   "outputs": [],
   "source": [
    "df_clean.to_csv('../../output/modENCODE_sampletable.tsv', sep='\\t', index=False)"
   ]
  },
  {
   "cell_type": "code",
   "execution_count": null,
   "metadata": {
    "collapsed": true
   },
   "outputs": [],
   "source": []
  }
 ],
 "metadata": {
  "kernelspec": {
   "display_name": "Python [conda env:ncbi_remap]",
   "language": "python",
   "name": "conda-env-ncbi_remap-py"
  },
  "language_info": {
   "codemirror_mode": {
    "name": "ipython",
    "version": 3
   },
   "file_extension": ".py",
   "mimetype": "text/x-python",
   "name": "python",
   "nbconvert_exporter": "python",
   "pygments_lexer": "ipython3",
   "version": "3.5.3"
  },
  "toc": {
   "nav_menu": {},
   "number_sections": true,
   "sideBar": true,
   "skip_h1_title": false,
   "toc_cell": false,
   "toc_position": {},
   "toc_section_display": "block",
   "toc_window_display": false
  }
 },
 "nbformat": 4,
 "nbformat_minor": 2
}
