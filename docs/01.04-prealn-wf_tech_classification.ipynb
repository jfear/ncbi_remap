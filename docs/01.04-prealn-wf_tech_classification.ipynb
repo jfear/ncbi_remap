{
 "cells": [
  {
   "cell_type": "markdown",
   "metadata": {},
   "source": [
    "# Technical Metadata Classification"
   ]
  },
  {
   "cell_type": "code",
   "execution_count": 1,
   "metadata": {
    "attributes": {
     "classes": [],
     "id": "",
     "n": "1"
    }
   },
   "outputs": [
    {
     "name": "stdout",
     "output_type": "stream",
     "text": [
      "Please check output/fbgn2chrom.tsv. If it does not exist, run bin/fbgn2chrom.py\n",
      "last updated: 2018-06-27 \n",
      "Git hash: 4c20d01e6681b8c7b88b8839bd26945d510a9c60\n"
     ]
    }
   ],
   "source": [
    "import os\n",
    "import sys\n",
    "from pathlib import Path\n",
    "import itertools\n",
    "\n",
    "from IPython.display import display, HTML, Markdown\n",
    "import numpy as np\n",
    "import pandas as pd\n",
    "\n",
    "import matplotlib as mpl\n",
    "import matplotlib.pyplot as plt\n",
    "import seaborn as sns\n",
    "\n",
    "from sklearn.model_selection import train_test_split\n",
    "from sklearn.ensemble import RandomForestClassifier\n",
    "from sklearn.metrics import confusion_matrix\n",
    "\n",
    "# Project level imports\n",
    "sys.path.insert(0, '../lib')\n",
    "from ncbi_remap.notebook import Nb\n",
    "from ncbi_remap.plotting import make_figs\n",
    "\n",
    "# Setup notebook\n",
    "nbconfig = Nb.setup_notebook(nb_name='01.04-prealn-wf_tech_classification')\n",
    "\n",
    "# Connect to data store\n",
    "store = pd.HDFStore('../sra.h5', mode='r')"
   ]
  },
  {
   "cell_type": "markdown",
   "metadata": {},
   "source": [
    "This is still a work in progress.\n",
    "In the SRA there is a field called\n",
    "`library_strategy`.\n",
    "This field describes what kind of experiment was done (i.e.,\n",
    "RNA-Seq vs ChIP-Seq vs WGS vs ...).\n",
    "On the previous page I went through the\n",
    "process of selecting various metrics in order to try to separate these types of\n",
    "data.\n",
    "This is a tricky problem because we would expect most labels to be\n",
    "correct, and there are some dataset types like RNA-Seq that have thousands of\n",
    "datasets and other like FAIRE-seq to have few samples.\n",
    "\n",
    "Here I want to classify\n",
    "samples using a data driven approach.\n",
    "I am primarily interested in identifying\n",
    "samples in `OTHER` that below to RNA-Seq and ChIP-Seq, and removing samples that\n",
    "are in RNA-Seq but behave badly.\n",
    "I am using the random forest ensemble approach\n",
    "because it outputs feature importances and seems to behave pretty well with\n",
    "these types of data."
   ]
  },
  {
   "cell_type": "code",
   "execution_count": 2,
   "metadata": {
    "attributes": {
     "classes": [],
     "id": "",
     "n": "2"
    }
   },
   "outputs": [],
   "source": [
    "# %load ../config/mongo.py\n",
    "from pymongo import MongoClient\n",
    "try:\n",
    "    with open('../output/.mongodb_host', 'r') as fh:\n",
    "        host = fh.read().strip()\n",
    "except FileNotFoundError:\n",
    "    host = 'localhost'\n",
    "\n",
    "mongoClient = MongoClient(host=host, port=27017)\n",
    "db = mongoClient['sra']\n",
    "ncbi = db['ncbi']"
   ]
  },
  {
   "cell_type": "code",
   "execution_count": 3,
   "metadata": {
    "attributes": {
     "classes": [],
     "id": "",
     "n": "3"
    }
   },
   "outputs": [],
   "source": [
    "# Grab list of samples that passed merge\n",
    "samples = store['prealn/merge_passed']\n",
    "srxs = samples.srx.unique().tolist()\n",
    "srrs = samples.srr.unique().tolist()\n",
    "num_samples = samples.shape[0]\n",
    "idx = samples.set_index(['srx', 'srr']).index"
   ]
  },
  {
   "cell_type": "code",
   "execution_count": 4,
   "metadata": {
    "attributes": {
     "classes": [],
     "id": "",
     "n": "4"
    }
   },
   "outputs": [],
   "source": [
    "# Pull out current annotations\n",
    "db_anno = pd.DataFrame(list(ncbi.aggregate([\n",
    "    {\n",
    "        '$match': {\n",
    "            '_id': {'$in': srxs}\n",
    "        }\n",
    "    },\n",
    "    {\n",
    "        '$project': {\n",
    "            '_id': 0,\n",
    "            'srx': '$_id',\n",
    "            'library_strategy': '$sra.experiment.library_strategy'\n",
    "        }\n",
    "    }\n",
    "])))\n",
    "\n",
    "anno = {}\n",
    "for i, _df in db_anno.groupby('library_strategy'):\n",
    "    if len(_df) > 100:\n",
    "        anno[i] = _df.srx.tolist()\n",
    "\n",
    "db_anno.set_index('srx', inplace=True)"
   ]
  },
  {
   "cell_type": "code",
   "execution_count": 5,
   "metadata": {
    "attributes": {
     "classes": [],
     "id": "",
     "n": "5"
    }
   },
   "outputs": [
    {
     "data": {
      "text/markdown": [
       "\n",
       "**Current Database Annotations**\n",
       "\n",
       "<table border=\"1\" class=\"dataframe table table-stripped\">\n",
       "  <thead>\n",
       "    <tr style=\"text-align: right;\">\n",
       "      <th></th>\n",
       "      <th>Number of SRXs</th>\n",
       "    </tr>\n",
       "    <tr>\n",
       "      <th>Library Strategy</th>\n",
       "      <th></th>\n",
       "    </tr>\n",
       "  </thead>\n",
       "  <tbody>\n",
       "    <tr>\n",
       "      <th>RNA-Seq</th>\n",
       "      <td>10,583</td>\n",
       "    </tr>\n",
       "    <tr>\n",
       "      <th>ChIP-Seq</th>\n",
       "      <td>2,556</td>\n",
       "    </tr>\n",
       "    <tr>\n",
       "      <th>WGS</th>\n",
       "      <td>1,802</td>\n",
       "    </tr>\n",
       "    <tr>\n",
       "      <th>OTHER</th>\n",
       "      <td>1,186</td>\n",
       "    </tr>\n",
       "    <tr>\n",
       "      <th>EST</th>\n",
       "      <td>279</td>\n",
       "    </tr>\n",
       "    <tr>\n",
       "      <th>Targeted-Capture</th>\n",
       "      <td>68</td>\n",
       "    </tr>\n",
       "    <tr>\n",
       "      <th>MNase-Seq</th>\n",
       "      <td>62</td>\n",
       "    </tr>\n",
       "    <tr>\n",
       "      <th>FAIRE-seq</th>\n",
       "      <td>17</td>\n",
       "    </tr>\n",
       "    <tr>\n",
       "      <th>DNase-Hypersensitivity</th>\n",
       "      <td>9</td>\n",
       "    </tr>\n",
       "    <tr>\n",
       "      <th>WGA</th>\n",
       "      <td>6</td>\n",
       "    </tr>\n",
       "    <tr>\n",
       "      <th>ncRNA-Seq</th>\n",
       "      <td>5</td>\n",
       "    </tr>\n",
       "    <tr>\n",
       "      <th>POOLCLONE</th>\n",
       "      <td>4</td>\n",
       "    </tr>\n",
       "    <tr>\n",
       "      <th>AMPLICON</th>\n",
       "      <td>4</td>\n",
       "    </tr>\n",
       "    <tr>\n",
       "      <th>MeDIP-Seq</th>\n",
       "      <td>4</td>\n",
       "    </tr>\n",
       "    <tr>\n",
       "      <th>miRNA-Seq</th>\n",
       "      <td>1</td>\n",
       "    </tr>\n",
       "    <tr>\n",
       "      <th>RIP-Seq</th>\n",
       "      <td>1</td>\n",
       "    </tr>\n",
       "  </tbody>\n",
       "</table>\n",
       "\n"
      ],
      "text/plain": [
       "<IPython.core.display.Markdown object>"
      ]
     },
     "execution_count": 5,
     "metadata": {},
     "output_type": "execute_result"
    }
   ],
   "source": [
    "_df = db_anno.library_strategy.value_counts().to_frame().applymap(lambda x: '{:,}'.format(x))\n",
    "_df.columns = ['Number of SRXs']\n",
    "_df.index.name = 'Library Strategy'\n",
    "Markdown(f\"\"\"\n",
    "**Current Database Annotations**\n",
    "\n",
    "{_df.to_html(classes='table table-stripped')}\n",
    "\n",
    "\"\"\")"
   ]
  },
  {
   "cell_type": "markdown",
   "metadata": {},
   "source": [
    "## Random Forest"
   ]
  },
  {
   "cell_type": "code",
   "execution_count": 6,
   "metadata": {
    "attributes": {
     "classes": [],
     "id": "",
     "n": "45"
    }
   },
   "outputs": [],
   "source": [
    "# get features imported and split\n",
    "features = store.select('/prealn/analysis/tech_metadata_features', 'index == srxs')\n",
    "X = features.loc[srxs, :]\n",
    "Y = db_anno.loc[srxs, :]\n",
    "\n",
    "# Split data\n",
    "X_train, X_test, Y_train, Y_test = train_test_split(X, Y.library_strategy, test_size=.30)"
   ]
  },
  {
   "cell_type": "code",
   "execution_count": 7,
   "metadata": {
    "attributes": {
     "classes": [],
     "id": "",
     "n": "121"
    }
   },
   "outputs": [
    {
     "data": {
      "text/markdown": [
       "\n",
       "I used a 10 tree random forest with the feature sets described on the previous page.\n",
       "For training the model I am using the database annotations without any kind of curation.\n",
       "The model performs pretty well with an accuracy of 0.9267.\n",
       "The features are printed below in the order of their importance in the model.\n"
      ],
      "text/plain": [
       "<IPython.core.display.Markdown object>"
      ]
     },
     "execution_count": 7,
     "metadata": {},
     "output_type": "execute_result"
    }
   ],
   "source": [
    "# Random forest classifier\n",
    "forest = RandomForestClassifier(n_estimators=10, n_jobs=4, max_depth=4)\n",
    "forest.fit(X_train, Y_train)\n",
    "\n",
    "# How does this perform on our test dataset?\n",
    "_score = forest.score(X_test, Y_test)\n",
    "\n",
    "Markdown(f\"\"\"\n",
    "I used a 10 tree random forest with the feature sets described on the previous page.\n",
    "For training the model I am using the database annotations without any kind of curation.\n",
    "The model performs pretty well with an accuracy of {_score:0.04f}.\n",
    "The features are printed below in the order of their importance in the model.\n",
    "\"\"\")"
   ]
  },
  {
   "cell_type": "code",
   "execution_count": 8,
   "metadata": {
    "attributes": {
     "classes": [],
     "id": "",
     "n": "112"
    }
   },
   "outputs": [
    {
     "name": "stdout",
     "output_type": "stream",
     "text": [
      "PCT_UTR_BASES       \t0.19010788529166717\n",
      "chr3L               \t0.165464040402097\n",
      "MEDIAN_CV_COVERAGE  \t0.11231952042479036\n",
      "PCT_INTERGENIC_BASES\t0.09957788655844281\n",
      "PERCENT_DUPLICATION \t0.08567886915926438\n",
      "PCT_CODING_BASES    \t0.07258082143713514\n",
      "PCT_INTRONIC_BASES  \t0.05449904275817204\n",
      "MEDIAN_5PRIME_BIAS  \t0.046378500641550593\n",
      "cv_5Prime           \t0.03749619841131353\n",
      "chrY                \t0.03365571156370224\n",
      "junction_count      \t0.031690920833686784\n",
      "chrX                \t0.01565753359961039\n",
      "cv_middle           \t0.011349896996772014\n",
      "prop_features_assigned\t0.010103648113630827\n",
      "prop_rRNA           \t0.009987493150487324\n",
      "MEDIAN_3PRIME_BIAS  \t0.00923489743783949\n",
      "chr2R               \t0.006716318512467979\n",
      "chrM                \t0.0038364541617832487\n",
      "cv_3Prime           \t0.001434965837331125\n",
      "chr3R               \t0.0011520556443345789\n",
      "chr4                \t0.000553388662863617\n",
      "chr2L               \t0.000523950401057226\n"
     ]
    }
   ],
   "source": [
    "# Look at feature importance\n",
    "idx = list(reversed(np.argsort(forest.feature_importances_)))\n",
    "for i, feature in zip(idx, features.columns[idx]):\n",
    "    print(f'{feature:20}\\t{forest.feature_importances_[i]:8}')"
   ]
  },
  {
   "cell_type": "code",
   "execution_count": 9,
   "metadata": {
    "attributes": {
     "classes": [],
     "id": "",
     "n": "124"
    }
   },
   "outputs": [
    {
     "data": {
      "text/html": [
       "<div>\n",
       "<style scoped>\n",
       "    .dataframe tbody tr th:only-of-type {\n",
       "        vertical-align: middle;\n",
       "    }\n",
       "\n",
       "    .dataframe tbody tr th {\n",
       "        vertical-align: top;\n",
       "    }\n",
       "\n",
       "    .dataframe thead th {\n",
       "        text-align: right;\n",
       "    }\n",
       "</style>\n",
       "<table border=\"1\" class=\"dataframe\">\n",
       "  <thead>\n",
       "    <tr style=\"text-align: right;\">\n",
       "      <th></th>\n",
       "      <th>class1</th>\n",
       "      <th>class2</th>\n",
       "    </tr>\n",
       "  </thead>\n",
       "  <tbody>\n",
       "    <tr>\n",
       "      <th>RNA-Seq</th>\n",
       "      <td>11031</td>\n",
       "      <td>774</td>\n",
       "    </tr>\n",
       "    <tr>\n",
       "      <th>ChIP-Seq</th>\n",
       "      <td>2999</td>\n",
       "      <td>1923</td>\n",
       "    </tr>\n",
       "    <tr>\n",
       "      <th>WGS</th>\n",
       "      <td>1808</td>\n",
       "      <td>2331</td>\n",
       "    </tr>\n",
       "    <tr>\n",
       "      <th>OTHER</th>\n",
       "      <td>730</td>\n",
       "      <td>2424</td>\n",
       "    </tr>\n",
       "    <tr>\n",
       "      <th>Targeted-Capture</th>\n",
       "      <td>19</td>\n",
       "      <td>15</td>\n",
       "    </tr>\n",
       "  </tbody>\n",
       "</table>\n",
       "</div>"
      ],
      "text/plain": [
       "                  class1  class2\n",
       "RNA-Seq            11031     774\n",
       "ChIP-Seq            2999    1923\n",
       "WGS                 1808    2331\n",
       "OTHER                730    2424\n",
       "Targeted-Capture      19      15"
      ]
     },
     "execution_count": 9,
     "metadata": {},
     "output_type": "execute_result"
    }
   ],
   "source": [
    "# Take all data and get predictions\n",
    "predictions = forest.predict_proba(X)\n",
    "\n",
    "res = []\n",
    "for sample in predictions:\n",
    "    _sort = np.argsort(sample)\n",
    "    idx_1 = _sort[-1]\n",
    "    idx_2 = _sort[-2]\n",
    "    class_1 = forest.classes_[idx_1]\n",
    "    prob_1 = sample[idx_1]\n",
    "    class_2 = forest.classes_[idx_2]\n",
    "    prob_2 = sample[idx_2]\n",
    "    res.append([class_1, prob_1, class_2, prob_2])\n",
    "\n",
    "_dd = pd.DataFrame(res, index=features.index, columns=['class1', 'probClass1', 'class2', 'probClass2'])\n",
    "_dd.class1.value_counts().to_frame().join(_dd.class2.value_counts().to_frame())"
   ]
  },
  {
   "cell_type": "code",
   "execution_count": 10,
   "metadata": {
    "attributes": {
     "classes": [],
     "id": "",
     "n": "132"
    }
   },
   "outputs": [
    {
     "data": {
      "text/markdown": [
       "\n",
       "Finally I take the entire dataset and run the classifier.\n",
       "In addition to class labels the classifier also abouts a probability score.\n",
       "I captured the two most likely classes {`class1`, `class2`}.\n",
       "Finally, I plot the Confusion matrix showing the changes from the database annotations to the predicted class labels.\n",
       "\n",
       "As expected the low count classes are often relabeld.\n",
       "I am thinking about enforcing library strategy for the low count classes.\n",
       "Because of their uniqueness, I expect these specialized classes would be less likely to be wrong.\n",
       "\n",
       "Using this method, I have identified an additional 200 `OTHER` samples that were classified ChIP-Seq and 150\n",
       "samples that are now classified as RNA-Seq.\n",
       "\n"
      ],
      "text/plain": [
       "<IPython.core.display.Markdown object>"
      ]
     },
     "metadata": {},
     "output_type": "display_data"
    },
    {
     "name": "stdout",
     "output_type": "stream",
     "text": [
      "Confusion matrix, without normalization\n"
     ]
    },
    {
     "data": {
      "image/png": "[encoded data removed]",
      "text/plain": [
       "<Figure size 720x720 with 2 Axes>"
      ]
     },
     "metadata": {},
     "output_type": "display_data"
    }
   ],
   "source": [
    "# Look at the confusion matrix to see what is changing\n",
    "cnf = confusion_matrix(Y.library_strategy, _dd.class1)\n",
    "\n",
    "display(Markdown(f\"\"\"\n",
    "Finally I take the entire dataset and run the classifier.\n",
    "In addition to class labels the classifier also abouts a probability score.\n",
    "I captured the two most likely classes {{`class1`, `class2`}}.\n",
    "Finally, I plot the Confusion matrix showing the changes from the database annotations to the predicted class labels.\n",
    "\n",
    "As expected the low count classes are often relabeld.\n",
    "I am thinking about enforcing library strategy for the low count classes.\n",
    "Because of their uniqueness, I expect these specialized classes would be less likely to be wrong.\n",
    "\n",
    "Using this method, I have identified an additional {cnf[7, 1]:,} `OTHER` samples that were classified ChIP-Seq and {cnf[7,10]}\n",
    "samples that are now classified as RNA-Seq.\n",
    "\n",
    "\"\"\"))\n",
    "\n",
    "def plot_confusion_matrix(cm, classes,\n",
    "                          normalize=False,\n",
    "                          title='Confusion matrix',\n",
    "                          cmap=plt.cm.Blues):\n",
    "    \"\"\"\n",
    "    This function prints and plots the confusion matrix.\n",
    "    Normalization can be applied by setting `normalize=True`.\n",
    "    \"\"\"\n",
    "    if normalize:\n",
    "        cm = cm.astype('float') / cm.sum(axis=1)[:, np.newaxis]\n",
    "        print(\"Normalized confusion matrix\")\n",
    "    else:\n",
    "        print('Confusion matrix, without normalization')\n",
    "\n",
    "    plt.imshow(cm, interpolation='nearest', cmap=cmap)\n",
    "    plt.title(title)\n",
    "    plt.colorbar()\n",
    "    tick_marks = np.arange(len(classes))\n",
    "    plt.xticks(tick_marks, classes, rotation=45)\n",
    "    plt.yticks(tick_marks, classes)\n",
    "\n",
    "    fmt = '.2f' if normalize else 'd'\n",
    "    thresh = cm.max() / 2.\n",
    "    for i, j in itertools.product(range(cm.shape[0]), range(cm.shape[1])):\n",
    "        plt.text(j, i, format(cm[i, j], fmt),\n",
    "                 horizontalalignment=\"center\",\n",
    "                 color=\"white\" if cm[i, j] > thresh else \"black\")\n",
    "\n",
    "    plt.tight_layout()\n",
    "    plt.ylabel('True label')\n",
    "    plt.xlabel('Predicted label')\n",
    "\n",
    "plt.figure(figsize=(10, 10))\n",
    "plot_confusion_matrix(cnf, forest.classes_)"
   ]
  },
  {
   "cell_type": "code",
   "execution_count": null,
   "metadata": {},
   "outputs": [],
   "source": []
  }
 ],
 "metadata": {
  "kernelspec": {
   "display_name": "Python [conda env:ncbi_remap]",
   "language": "python",
   "name": "conda-env-ncbi_remap-py"
  },
  "language_info": {
   "codemirror_mode": {
    "name": "ipython",
    "version": 3
   },
   "file_extension": ".py",
   "mimetype": "text/x-python",
   "name": "python",
   "nbconvert_exporter": "python",
   "pygments_lexer": "ipython3",
   "version": "3.6.5"
  }
 },
 "nbformat": 4,
 "nbformat_minor": 2
}
