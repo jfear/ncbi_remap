{
 "cells": [
  {
   "cell_type": "markdown",
   "metadata": {},
   "source": [
    "Sequencing technology has change a lot in the past 5 years. There has been a substantial increase in the number of reads produced by a single sequencing run, and an increase in the number of bases that can be sequenced. During the pre-pre-alignment workflow I estimate library size and calculate the average read length. I would like to remove overtly low quality samples that have a small number of reads and reads that are very short. \n",
    "\n",
    "Here I look at these distributions and I can see that most samples have more than 1 million reads. There is a small number of samples (~2k) that have fewer than 100,000 reads. I have decided to flag these samples as having a low library size. If I further summarize to SRX, there are ~400 experiments with fewer than 100k total reads.\n",
    "\n",
    "In addition I looked at the average read length and found that most samples either have a read length of 50 or 75-100 bp. There are ~700 samples that have an average read length less than 30. I have flagged these samples as having a low read length. Note the alignment pipeline throws out individual reads that are ≤20 bp.\n",
    "\n",
    "**Output**\n",
    "* This notebook generates distribution plots of library size and average read length.\n",
    "* This notebook outputs a table with flags `../../output/libsize_downstream_analysis.pkl`\n",
    "    * `libsize` The total number of reads (for PE only R1).\n",
    "    * `len` Average read length (for PE only R1).\n",
    "    * `flag_low_libsize` Flag is True when library size < 100,000 reads.\n",
    "    * `flag_short_read_len` Flag is True when read length < 30 bp."
   ]
  },
  {
   "cell_type": "code",
   "execution_count": 1,
   "metadata": {
    "code_folding": [
     0
    ]
   },
   "outputs": [
    {
     "name": "stdout",
     "output_type": "stream",
     "text": [
      "last updated: 2017-09-26 \n",
      "Git hash: 3a65830db8822599370f17669b4b3d2b5ea20bd5\n"
     ]
    }
   ],
   "source": [
    "# %load ../config/defaults.py\n",
    "# Load useful extensions\n",
    "\n",
    "# Activate the autoreload extension for easy reloading of external packages\n",
    "%reload_ext autoreload\n",
    "%autoreload 2\n",
    "\n",
    "# Trun on the water mark\n",
    "%reload_ext watermark\n",
    "%watermark -u -d -g\n",
    "\n",
    "# Load ipycache extension\n",
    "%reload_ext ipycache\n",
    "from ipycache import CacheMagics\n",
    "CacheMagics.cachedir = '../cachedir'\n",
    "\n",
    "# Add project library to path\n",
    "import sys\n",
    "sys.path.insert(0, '../../lib/python')\n",
    "\n",
    "# The usual suspects\n",
    "import os\n",
    "import numpy as np\n",
    "import pandas as pd\n",
    "\n",
    "# plotting\n",
    "import matplotlib as mpl\n",
    "import matplotlib.pyplot as plt\n",
    "import seaborn as sns\n",
    "\n",
    "%matplotlib inline\n",
    "sns.set_context('notebook')\n",
    "sns.set_style('white')\n",
    "\n",
    "# Turn off scientific notation\n",
    "np.set_printoptions(precision=5, suppress=True)\n"
   ]
  },
  {
   "cell_type": "code",
   "execution_count": 2,
   "metadata": {
    "code_folding": [
     0
    ],
    "collapsed": true
   },
   "outputs": [],
   "source": [
    "# %load ../../bin/load.py\n",
    "from pymongo import MongoClient\n",
    "with open('/home/fearjm/Projects/ncbi_remap/output/.mongodb_host', 'r') as fh:\n",
    "    host = fh.read().strip()\n",
    "client = MongoClient(host=host, port=27022)\n",
    "db = client['sra2']\n",
    "remap = db['remap']\n"
   ]
  },
  {
   "cell_type": "code",
   "execution_count": 3,
   "metadata": {
    "code_folding": [
     0
    ],
    "collapsed": true
   },
   "outputs": [],
   "source": [
    "# Query DB and get read information.\n",
    "\n",
    "## Quick count for sanity\n",
    "num_runs = list(remap.aggregate([\n",
    "    {'$unwind': '$runs'},\n",
    "    {\n",
    "        '$match': {\n",
    "            '$and': [\n",
    "                {'runs.pre_aln_flags': 'complete'},\n",
    "            ]\n",
    "        }\n",
    "    },\n",
    "    {'$count': 'cnt'}\n",
    "]))[0]['cnt']"
   ]
  },
  {
   "cell_type": "code",
   "execution_count": 4,
   "metadata": {
    "code_folding": [
     0
    ],
    "collapsed": true
   },
   "outputs": [],
   "source": [
    "# Make read information dataframes\n",
    "\n",
    "## Single End\n",
    "dfSE = pd.DataFrame(list(remap.aggregate([\n",
    "    {'$unwind': '$runs'},\n",
    "    {\n",
    "        '$match': {\n",
    "            '$and': [\n",
    "                {'runs.pre_aln_flags': 'complete'},\n",
    "                {'runs.pre_aln_flags': 'SE'},\n",
    "            ]\n",
    "        }\n",
    "    },\n",
    "    {\n",
    "        '$project': {\n",
    "            '_id': 0,\n",
    "            'srx': '$srx',\n",
    "            'srr': '$runs.srr',\n",
    "            'libsize': {\n",
    "                '$cond': [\n",
    "                    {'$in': ['keep_R2', '$runs.pre_aln_flags']}, \n",
    "                    '$runs.libsize.R2',\n",
    "                    '$runs.libsize.R1'\n",
    "                ]\n",
    "            },\n",
    "            'len': {\n",
    "                '$cond': [\n",
    "                    {'$in': ['keep_R2', '$runs.pre_aln_flags']}, \n",
    "                    '$runs.avgReadLen.R2',\n",
    "                    '$runs.avgReadLen.R1'\n",
    "                ]\n",
    "            },\n",
    "            'hisat_num_reads': '$runs.pre_aln_workflow.hisat2.num_reads',\n",
    "        }\n",
    "    },\n",
    "])))\n",
    "\n",
    "## Pair End \n",
    "dfPE = pd.DataFrame(list(remap.aggregate([ {'$unwind': '$runs'},\n",
    "    {\n",
    "        '$match': {\n",
    "            '$and': [\n",
    "                {'runs.pre_aln_flags': 'complete'},\n",
    "                {'runs.pre_aln_flags': 'PE'},\n",
    "            ]\n",
    "        }\n",
    "    },\n",
    "    {\n",
    "        '$project': {\n",
    "            '_id': 0,\n",
    "            'srx': '$srx',\n",
    "            'srr': '$runs.srr',\n",
    "            'libsize_R1': '$runs.libsize.R1',\n",
    "            'libsize_R2': '$runs.libsize.R2',\n",
    "            'len_R1': '$runs.avgReadLen.R1',\n",
    "            'len_R2': '$runs.avgReadLen.R2',\n",
    "        }\n",
    "    },\n",
    "])))\n",
    "\n",
    "## Make sure read 1 equals read 2. The pipeline should drop \n",
    "## unpaired reads so they should be the same\n",
    "assert (dfPE.libsize_R1 == dfPE.libsize_R2).all()\n",
    "\n",
    "## only keep R1 for easier matching with SE data.\n",
    "dfPE.drop('libsize_R2', axis=1, inplace=True)\n",
    "dfPE.drop('len_R2', axis=1, inplace=True)\n",
    "dfPE.rename(columns={'libsize_R1': 'libsize', 'len_R1': 'len'}, inplace=True)\n",
    "\n",
    "# concat SE and PE\n",
    "df = pd.concat([dfSE, dfPE])\n",
    "df.set_index(['srx', 'srr'], inplace=True)\n",
    "\n",
    "# Test that we have all of the completed samples.\n",
    "assert num_runs == df.shape[0]"
   ]
  },
  {
   "cell_type": "markdown",
   "metadata": {},
   "source": [
    "# Library Size"
   ]
  },
  {
   "cell_type": "code",
   "execution_count": 5,
   "metadata": {
    "code_folding": [
     0
    ]
   },
   "outputs": [
    {
     "data": {
      "image/png": "[encoded data removed]",
      "text/plain": [
       "<matplotlib.figure.Figure at 0x2aaaf423c4a8>"
      ]
     },
     "metadata": {},
     "output_type": "display_data"
    }
   ],
   "source": [
    "# plot distribution of library size\n",
    "ax = sns.distplot(np.log10(df.libsize))\n",
    "ax.axvline(np.log10(1e6), ls='--', lw=2, color='r', label='1 million reads')\n",
    "ax.axvline(np.log10(1e5), ls='--', lw=2, color=sns.xkcd_rgb['amber'], label='1 hundred thousand reads')\n",
    "ax.legend()\n",
    "ax.set_xlabel('log10 Number of Reads')\n",
    "ax.set_ylabel('Density')\n",
    "ax.set_title('Library Size Distribution');"
   ]
  },
  {
   "cell_type": "code",
   "execution_count": 6,
   "metadata": {
    "code_folding": [
     0
    ],
    "collapsed": true
   },
   "outputs": [],
   "source": [
    "# Add flags for low library size\n",
    "df['flag_low_libsize'] = False\n",
    "df.loc[df.libsize < 1e5, 'flag_low_libsize'] = True"
   ]
  },
  {
   "cell_type": "code",
   "execution_count": 12,
   "metadata": {
    "code_folding": [
     0
    ]
   },
   "outputs": [
    {
     "name": "stdout",
     "output_type": "stream",
     "text": [
      "There were 2,102 runs that had less than 100,000 reads.\n"
     ]
    }
   ],
   "source": [
    "# How many samples are filtered with this flag?\n",
    "print(\n",
    "    'There were {:,} runs that had less than 100,000 reads.'.format(df.flag_low_libsize.sum())\n",
    ")"
   ]
  },
  {
   "cell_type": "code",
   "execution_count": 24,
   "metadata": {
    "code_folding": [
     0
    ]
   },
   "outputs": [
    {
     "name": "stdout",
     "output_type": "stream",
     "text": [
      "Sample SRR1992316 had the smallest library size (73 reads).\n"
     ]
    }
   ],
   "source": [
    "# What is the smallest libsize?\n",
    "print(\n",
    "    'Sample {} had the smallest library size ({} reads).'.format(df.libsize.argmin()[1], df.libsize.min())\n",
    ")"
   ]
  },
  {
   "cell_type": "markdown",
   "metadata": {},
   "source": [
    "# Read Length"
   ]
  },
  {
   "cell_type": "code",
   "execution_count": 20,
   "metadata": {
    "code_folding": [
     0
    ]
   },
   "outputs": [
    {
     "data": {
      "image/png": "[encoded data removed]",
      "text/plain": [
       "<matplotlib.figure.Figure at 0x2aaaf99976a0>"
      ]
     },
     "metadata": {},
     "output_type": "display_data"
    }
   ],
   "source": [
    "# plot distribution of read lengths\n",
    "ax = sns.distplot(df.len, bins=100)\n",
    "ax.set_xlabel('Average Read Length')\n",
    "ax.set_ylabel('Density')\n",
    "ax.set_xlim(0, 200)\n",
    "ax.set_title('Read length distribution');\n",
    "ax.axvline(30, ls='--', lw=2, color='r', label='30 base pairs')\n",
    "ax.legend();"
   ]
  },
  {
   "cell_type": "code",
   "execution_count": 9,
   "metadata": {
    "code_folding": [
     0
    ],
    "collapsed": true
   },
   "outputs": [],
   "source": [
    "# make flags for short reads\n",
    "df['flag_short_read_len'] = False\n",
    "df.loc[df.len < 30, 'flag_short_read_len'] = True"
   ]
  },
  {
   "cell_type": "code",
   "execution_count": 21,
   "metadata": {
    "code_folding": [
     0
    ]
   },
   "outputs": [
    {
     "name": "stdout",
     "output_type": "stream",
     "text": [
      "There were 697 runs with average read lengths less than 30bp.\n"
     ]
    }
   ],
   "source": [
    "# How many samples do we lose with short reads\n",
    "print(\n",
    "    'There were {:,} runs with average read lengths less than 30bp.'.format(\n",
    "        df.flag_short_read_len.sum())\n",
    ")"
   ]
  },
  {
   "cell_type": "code",
   "execution_count": 28,
   "metadata": {
    "code_folding": [
     0
    ]
   },
   "outputs": [
    {
     "name": "stdout",
     "output_type": "stream",
     "text": [
      "Sample ERR297221 had the smallest average read length (~10.02 bp).\n"
     ]
    }
   ],
   "source": [
    "# What is the shortest avg read length\n",
    "print(\n",
    "    'Sample {} had the smallest average read length (~{:.2f} bp).'.format(\n",
    "        df.len.argmin()[1],\n",
    "        df.len.min()\n",
    "    )\n",
    ")"
   ]
  },
  {
   "cell_type": "markdown",
   "metadata": {
    "collapsed": true
   },
   "source": [
    "# Create table"
   ]
  },
  {
   "cell_type": "code",
   "execution_count": 45,
   "metadata": {
    "code_folding": [
     0
    ]
   },
   "outputs": [
    {
     "data": {
      "text/html": [
       "<div>\n",
       "<table border=\"1\" class=\"dataframe\">\n",
       "  <thead>\n",
       "    <tr style=\"text-align: right;\">\n",
       "      <th></th>\n",
       "      <th></th>\n",
       "      <th>libsize</th>\n",
       "      <th>len</th>\n",
       "      <th>flag_low_libsize</th>\n",
       "      <th>flag_short_read_len</th>\n",
       "    </tr>\n",
       "    <tr>\n",
       "      <th>srx</th>\n",
       "      <th>srr</th>\n",
       "      <th></th>\n",
       "      <th></th>\n",
       "      <th></th>\n",
       "      <th></th>\n",
       "    </tr>\n",
       "  </thead>\n",
       "  <tbody>\n",
       "    <tr>\n",
       "      <th>SRX2556775</th>\n",
       "      <th>SRR5251041</th>\n",
       "      <td>2182591</td>\n",
       "      <td>151.0</td>\n",
       "      <td>False</td>\n",
       "      <td>False</td>\n",
       "    </tr>\n",
       "    <tr>\n",
       "      <th>SRX2556774</th>\n",
       "      <th>SRR5251040</th>\n",
       "      <td>784813</td>\n",
       "      <td>151.0</td>\n",
       "      <td>False</td>\n",
       "      <td>False</td>\n",
       "    </tr>\n",
       "    <tr>\n",
       "      <th>SRX2556773</th>\n",
       "      <th>SRR5251039</th>\n",
       "      <td>2864116</td>\n",
       "      <td>151.0</td>\n",
       "      <td>False</td>\n",
       "      <td>False</td>\n",
       "    </tr>\n",
       "    <tr>\n",
       "      <th>SRX2556772</th>\n",
       "      <th>SRR5251038</th>\n",
       "      <td>2565088</td>\n",
       "      <td>151.0</td>\n",
       "      <td>False</td>\n",
       "      <td>False</td>\n",
       "    </tr>\n",
       "    <tr>\n",
       "      <th>SRX2556771</th>\n",
       "      <th>SRR5251037</th>\n",
       "      <td>2253895</td>\n",
       "      <td>151.0</td>\n",
       "      <td>False</td>\n",
       "      <td>False</td>\n",
       "    </tr>\n",
       "  </tbody>\n",
       "</table>\n",
       "</div>"
      ],
      "text/plain": [
       "                       libsize    len flag_low_libsize flag_short_read_len\n",
       "srx        srr                                                            \n",
       "SRX2556775 SRR5251041  2182591  151.0            False               False\n",
       "SRX2556774 SRR5251040   784813  151.0            False               False\n",
       "SRX2556773 SRR5251039  2864116  151.0            False               False\n",
       "SRX2556772 SRR5251038  2565088  151.0            False               False\n",
       "SRX2556771 SRR5251037  2253895  151.0            False               False"
      ]
     },
     "execution_count": 45,
     "metadata": {},
     "output_type": "execute_result"
    }
   ],
   "source": [
    "# prep dataframe and export to pickle\n",
    "df = df[['libsize',  'len', 'flag_low_libsize', 'flag_short_read_len']].copy()\n",
    "df.to_pickle('../../output/libsize_downstream_analysis.pkl')\n",
    "\n",
    "df.head()"
   ]
  },
  {
   "cell_type": "markdown",
   "metadata": {},
   "source": [
    "# Combine library sizes to SRX level"
   ]
  },
  {
   "cell_type": "code",
   "execution_count": 37,
   "metadata": {
    "code_folding": [
     0
    ]
   },
   "outputs": [],
   "source": [
    "# Summarize to srx level\n",
    "srx = df.libsize.groupby(level=0).sum().to_frame()"
   ]
  },
  {
   "cell_type": "code",
   "execution_count": 41,
   "metadata": {
    "code_folding": [
     0
    ]
   },
   "outputs": [
    {
     "data": {
      "image/png": "[encoded data removed]",
      "text/plain": [
       "<matplotlib.figure.Figure at 0x2aaaf9ec6898>"
      ]
     },
     "metadata": {},
     "output_type": "display_data"
    }
   ],
   "source": [
    "# Plot distribution at SRX level\n",
    "ax = sns.distplot(np.log10(srx.libsize))\n",
    "ax.axvline(np.log10(1e6), ls='--', lw=2, color='r', label='1 million reads')\n",
    "ax.axvline(np.log10(1e5), ls='--', lw=2, color=sns.xkcd_rgb['amber'], label='1 hundred thousand reads')\n",
    "ax.legend()\n",
    "ax.set_xlabel('log10 Number of Reads')\n",
    "ax.set_ylabel('Density')\n",
    "ax.set_title('Library Size Distribution (SRX)');"
   ]
  },
  {
   "cell_type": "code",
   "execution_count": 44,
   "metadata": {
    "code_folding": [
     0
    ]
   },
   "outputs": [
    {
     "name": "stdout",
     "output_type": "stream",
     "text": [
      "There are 369 SRX that have less than 100,000 total reads.\n"
     ]
    }
   ],
   "source": [
    "# How many SRX are below 100k cutoff?\n",
    "print(\n",
    "    'There are {:,} SRX that have less than 100,000 total reads.'.format(\n",
    "        (srx.libsize < 1e5).sum()\n",
    "    )\n",
    ")"
   ]
  },
  {
   "cell_type": "code",
   "execution_count": null,
   "metadata": {
    "collapsed": true
   },
   "outputs": [],
   "source": []
  }
 ],
 "metadata": {
  "kernelspec": {
   "display_name": "Python [conda env:ncbi_remap]",
   "language": "python",
   "name": "conda-env-ncbi_remap-py"
  },
  "language_info": {
   "codemirror_mode": {
    "name": "ipython",
    "version": 3
   },
   "file_extension": ".py",
   "mimetype": "text/x-python",
   "name": "python",
   "nbconvert_exporter": "python",
   "pygments_lexer": "ipython3",
   "version": "3.5.3"
  },
  "toc": {
   "nav_menu": {},
   "number_sections": true,
   "sideBar": true,
   "skip_h1_title": false,
   "toc_cell": false,
   "toc_position": {},
   "toc_section_display": "block",
   "toc_window_display": false
  }
 },
 "nbformat": 4,
 "nbformat_minor": 2
}
