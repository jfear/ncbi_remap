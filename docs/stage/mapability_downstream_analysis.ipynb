{
 "cells": [
  {
   "cell_type": "markdown",
   "metadata": {},
   "source": [
    "One important quality metric is how well reads align to the genome. Here we look at the overall mapping quality and see if there are any criteria which would require filtering of low quality samples. A sample may have a low unique mapping if that sample is contaminated or has low sequence complexity. There is a distinct distribution patter when looking at the distribution of proportion of unique mapping reads. This distribution resembles a normal distribution with a extremely fat tail on the lower end of values. The natural inflection point is around 0.3 or 0.35. Here I selected a quality cutoff of 0.3 (30% reads mapping uniquely).\n",
    "\n",
    "Next I was interested in seeing if SRRs within an SRX have similar mapability. An SRR is supposed to be a technical replicate of an SRX. It is possible that if an SRX has highly variable SRRs that it may be made up of different libraries. There are other feature sets that I will explore regarding these relationships, here I just quickly look at the standard deviation of SRRs within an SRX. In general, the distribution looks almost normally distributed with a slight left skew toward smaller STDs as expected. By far the worst sample was (SRX352887: SRR989483) which had only 3 reads mapping uniquely, suggesting a contamination problem.\n",
    "\n",
    "**Output**\n",
    "* This notebook generate distribution plots of\n",
    "    * Proportion of Uniquely Mapping Reads\n",
    "    * Number of SRRs per SRX\n",
    "    * Standard deviation of SRRs within SRX\n",
    "    \n",
    "* This notebook outputs a table with flags to `../../output/mapability_downstream_analysis.pkl`\n",
    "    * `num_reads` Total number of reads (i.e. libsize)\n",
    "    * `num_unaligned` The number of reads that failed to align\n",
    "    * `num_multimappers` The number of reads that mapped to multiple locations\n",
    "    * `num_uniquely_aligned` The number of reads that aligned to a single location\n",
    "    * `prop_unique` The proportion of reads aligning to a single location (`num_uniquely_aligned / num_reads`)\n",
    "    * `flag_low_unique_alignment` Flag is True if `prop_unique` ≤ 0.30"
   ]
  },
  {
   "cell_type": "code",
   "execution_count": 1,
   "metadata": {
    "code_folding": [
     0
    ]
   },
   "outputs": [
    {
     "name": "stdout",
     "output_type": "stream",
     "text": [
      "last updated: 2017-10-10 \n",
      "Git hash: 8c83e87b7c4eac097d2ea2f50eee0e3a81393eaa\n"
     ]
    }
   ],
   "source": [
    "# %load ../config/defaults.py\n",
    "# Load useful extensions\n",
    "\n",
    "# Activate the autoreload extension for easy reloading of external packages\n",
    "%reload_ext autoreload\n",
    "%autoreload 2\n",
    "\n",
    "# Trun on the water mark\n",
    "%reload_ext watermark\n",
    "%watermark -u -d -g\n",
    "\n",
    "# Load ipycache extension\n",
    "%reload_ext ipycache\n",
    "from ipycache import CacheMagics\n",
    "CacheMagics.cachedir = '../cachedir'\n",
    "\n",
    "# Add project library to path\n",
    "import sys\n",
    "sys.path.insert(0, '../../lib/python')\n",
    "\n",
    "# The usual suspects\n",
    "import os\n",
    "import numpy as np\n",
    "import pandas as pd\n",
    "\n",
    "# plotting\n",
    "import matplotlib as mpl\n",
    "import matplotlib.pyplot as plt\n",
    "import seaborn as sns\n",
    "\n",
    "%matplotlib inline\n",
    "sns.set_context('poster')\n",
    "\n",
    "# Turn off scientific notation\n",
    "np.set_printoptions(precision=5, suppress=True)\n"
   ]
  },
  {
   "cell_type": "code",
   "execution_count": 2,
   "metadata": {
    "code_folding": [
     0
    ]
   },
   "outputs": [],
   "source": [
    "# %load ../../bin/load.py\n",
    "import pymongo\n",
    "from pymongo import MongoClient\n",
    "with open('/home/fearjm/Projects/ncbi_remap/output/.mongodb_host', 'r') as fh:\n",
    "    host = fh.read().strip()\n",
    "client = MongoClient(host=host, port=27022)\n",
    "db = client['sra2']\n",
    "remap = db['remap']"
   ]
  },
  {
   "cell_type": "code",
   "execution_count": 3,
   "metadata": {
    "code_folding": [
     0
    ]
   },
   "outputs": [],
   "source": [
    "# Quick count for sanity: calculate the number of complete runs\n",
    "num_runs = list(remap.aggregate([\n",
    "    {'$unwind': '$runs'},\n",
    "    {\n",
    "        '$match': {\n",
    "            'runs.pre_aln_flags': 'complete'\n",
    "        }\n",
    "    },\n",
    "    {'$count': 'cnt'}\n",
    "]))[0]['cnt']"
   ]
  },
  {
   "cell_type": "code",
   "execution_count": 4,
   "metadata": {
    "code_folding": [
     0
    ]
   },
   "outputs": [
    {
     "data": {
      "text/html": [
       "<div>\n",
       "<table border=\"1\" class=\"dataframe\">\n",
       "  <thead>\n",
       "    <tr style=\"text-align: right;\">\n",
       "      <th></th>\n",
       "      <th>num_multimappers</th>\n",
       "      <th>num_reads</th>\n",
       "      <th>num_unaligned</th>\n",
       "      <th>num_uniquely_aligned</th>\n",
       "      <th>srr</th>\n",
       "      <th>srx</th>\n",
       "      <th>prop_unique</th>\n",
       "    </tr>\n",
       "  </thead>\n",
       "  <tbody>\n",
       "    <tr>\n",
       "      <th>0</th>\n",
       "      <td>303461.0</td>\n",
       "      <td>2182591.0</td>\n",
       "      <td>1418095.0</td>\n",
       "      <td>461035.0</td>\n",
       "      <td>SRR5251041</td>\n",
       "      <td>SRX2556775</td>\n",
       "      <td>0.211233</td>\n",
       "    </tr>\n",
       "    <tr>\n",
       "      <th>1</th>\n",
       "      <td>77304.0</td>\n",
       "      <td>784813.0</td>\n",
       "      <td>604487.0</td>\n",
       "      <td>103022.0</td>\n",
       "      <td>SRR5251040</td>\n",
       "      <td>SRX2556774</td>\n",
       "      <td>0.131269</td>\n",
       "    </tr>\n",
       "    <tr>\n",
       "      <th>2</th>\n",
       "      <td>344225.0</td>\n",
       "      <td>2864116.0</td>\n",
       "      <td>2022701.0</td>\n",
       "      <td>497190.0</td>\n",
       "      <td>SRR5251039</td>\n",
       "      <td>SRX2556773</td>\n",
       "      <td>0.173593</td>\n",
       "    </tr>\n",
       "    <tr>\n",
       "      <th>3</th>\n",
       "      <td>254981.0</td>\n",
       "      <td>2565088.0</td>\n",
       "      <td>1925506.0</td>\n",
       "      <td>384601.0</td>\n",
       "      <td>SRR5251038</td>\n",
       "      <td>SRX2556772</td>\n",
       "      <td>0.149937</td>\n",
       "    </tr>\n",
       "    <tr>\n",
       "      <th>4</th>\n",
       "      <td>277811.0</td>\n",
       "      <td>2253895.0</td>\n",
       "      <td>1566243.0</td>\n",
       "      <td>409841.0</td>\n",
       "      <td>SRR5251037</td>\n",
       "      <td>SRX2556771</td>\n",
       "      <td>0.181837</td>\n",
       "    </tr>\n",
       "  </tbody>\n",
       "</table>\n",
       "</div>"
      ],
      "text/plain": [
       "   num_multimappers  num_reads  num_unaligned  num_uniquely_aligned  \\\n",
       "0          303461.0  2182591.0      1418095.0              461035.0   \n",
       "1           77304.0   784813.0       604487.0              103022.0   \n",
       "2          344225.0  2864116.0      2022701.0              497190.0   \n",
       "3          254981.0  2565088.0      1925506.0              384601.0   \n",
       "4          277811.0  2253895.0      1566243.0              409841.0   \n",
       "\n",
       "          srr         srx  prop_unique  \n",
       "0  SRR5251041  SRX2556775     0.211233  \n",
       "1  SRR5251040  SRX2556774     0.131269  \n",
       "2  SRR5251039  SRX2556773     0.173593  \n",
       "3  SRR5251038  SRX2556772     0.149937  \n",
       "4  SRR5251037  SRX2556771     0.181837  "
      ]
     },
     "execution_count": 4,
     "metadata": {},
     "output_type": "execute_result"
    }
   ],
   "source": [
    "# Pull out hisat2 results for SE and PE runs and make dataset.\n",
    "dfSE = pd.DataFrame(list(remap.aggregate([\n",
    "    {'$unwind': '$runs'},\n",
    "    {\n",
    "        '$match': {\n",
    "            '$and': [\n",
    "                {'runs.pre_aln_flags': 'complete'},\n",
    "                {'runs.pre_aln_flags': 'SE'},\n",
    "                \n",
    "            ]\n",
    "        }\n",
    "    },\n",
    "    {\n",
    "        '$project': {\n",
    "            '_id': 0,\n",
    "            'srx': '$srx',\n",
    "            'srr': '$runs.srr',\n",
    "            'num_reads': '$runs.pre_aln_workflow.hisat2.num_reads',\n",
    "            'num_uniquely_aligned': '$runs.pre_aln_workflow.hisat2.num_uniquely_aligned',\n",
    "            'num_unaligned': '$runs.pre_aln_workflow.hisat2.num_unaligned',\n",
    "            'num_multimappers': '$runs.pre_aln_workflow.hisat2.num_multimappers',\n",
    "        }\n",
    "    },\n",
    "])))\n",
    "\n",
    "dfPE = pd.DataFrame(list(remap.aggregate([\n",
    "    {'$unwind': '$runs'},\n",
    "    {\n",
    "        '$match': {\n",
    "            '$and': [\n",
    "                {'runs.pre_aln_flags': 'complete'},\n",
    "                {'runs.pre_aln_flags': 'PE'},\n",
    "            ]\n",
    "        }\n",
    "    },\n",
    "    {\n",
    "        '$project': {\n",
    "            '_id': 0,\n",
    "            'srx': '$srx',\n",
    "            'srr': '$runs.srr',\n",
    "            'num_reads': '$runs.pre_aln_workflow.hisat2.num_reads',\n",
    "            'num_uniquely_aligned': '$runs.pre_aln_workflow.hisat2.num_concordant_reads_uniquely_aligned',\n",
    "            'num_unaligned': '$runs.pre_aln_workflow.hisat2.num_concordant_reads_unaligned',\n",
    "            'num_multimappers': '$runs.pre_aln_workflow.hisat2.num_concordant_multimappers',\n",
    "        }\n",
    "    },\n",
    "])))\n",
    "\n",
    "df = pd.concat([dfSE, dfPE])\n",
    "df['prop_unique'] = df.num_uniquely_aligned / df.num_reads\n",
    "\n",
    "# Make sure there are no missing values\n",
    "assert df.isnull().any().any() == False\n",
    "\n",
    "# Make sure my rows add up to the total number of samples\n",
    "assert num_runs == df.shape[0]\n",
    "\n",
    "df.head()"
   ]
  },
  {
   "cell_type": "markdown",
   "metadata": {},
   "source": [
    "# Distribution of the proportion of unique mapping reads."
   ]
  },
  {
   "cell_type": "code",
   "execution_count": 12,
   "metadata": {
    "code_folding": [
     0
    ]
   },
   "outputs": [
    {
     "data": {
      "image/png": "[encoded data removed]",
      "text/plain": [
       "<matplotlib.figure.Figure at 0x2aaae9545940>"
      ]
     },
     "metadata": {},
     "output_type": "display_data"
    }
   ],
   "source": [
    "# Plot distribution of proportion uniquely mapping reads.\n",
    "cutoff = .30\n",
    "cutoff_label = '30% Unique Mapping'\n",
    "\n",
    "fig, ax = plt.subplots(1, 1, figsize=plt.figaspect(1/2)*2)\n",
    "sns.distplot(df.prop_unique, ax=ax)\n",
    "ax.axvline(cutoff, color='r', ls='--', lw=2, label=cutoff_label)\n",
    "ax.legend()\n",
    "ax.set_title('Distribution of Unique Mapping')\n",
    "ax.set_xlabel('Proportion of Uniquely Mapping Reads')\n",
    "ax.set_ylabel('Density');"
   ]
  },
  {
   "cell_type": "markdown",
   "metadata": {
    "collapsed": true
   },
   "source": [
    "# Is there a clear cutoff criteria that we should implement?\n",
    "\n",
    "If I cutoff below 30% I tend to trim the skewed portion of the distribution. "
   ]
  },
  {
   "cell_type": "code",
   "execution_count": 11,
   "metadata": {
    "code_folding": [
     0
    ]
   },
   "outputs": [
    {
     "name": "stdout",
     "output_type": "stream",
     "text": [
      "There are 3,534 samples below a cutoff of 0.3.\n"
     ]
    }
   ],
   "source": [
    "# Create boolean array using cutoff and figure out how many samples are flagged\n",
    "mask = df.prop_unique <= cutoff\n",
    "num_below = (mask).sum()\n",
    "print('There are {:,} samples below a cutoff of {:.2}.'.format(num_below, cutoff))\n",
    "\n",
    "# Make formal flag\n",
    "flag = 'flag_low_unique_alignment'\n",
    "df[flag] = False\n",
    "df.loc[mask, flag] = True"
   ]
  },
  {
   "cell_type": "code",
   "execution_count": 12,
   "metadata": {
    "code_folding": [
     0,
     1
    ]
   },
   "outputs": [
    {
     "data": {
      "text/html": [
       "<div>\n",
       "<table border=\"1\" class=\"dataframe\">\n",
       "  <thead>\n",
       "    <tr style=\"text-align: right;\">\n",
       "      <th></th>\n",
       "      <th></th>\n",
       "      <th>num_reads</th>\n",
       "      <th>num_unaligned</th>\n",
       "      <th>num_multimappers</th>\n",
       "      <th>num_uniquely_aligned</th>\n",
       "      <th>prop_unique</th>\n",
       "      <th>flag_low_unique_alignment</th>\n",
       "    </tr>\n",
       "    <tr>\n",
       "      <th>srx</th>\n",
       "      <th>srr</th>\n",
       "      <th></th>\n",
       "      <th></th>\n",
       "      <th></th>\n",
       "      <th></th>\n",
       "      <th></th>\n",
       "      <th></th>\n",
       "    </tr>\n",
       "  </thead>\n",
       "  <tbody>\n",
       "    <tr>\n",
       "      <th>SRX2556775</th>\n",
       "      <th>SRR5251041</th>\n",
       "      <td>2182591.0</td>\n",
       "      <td>1418095.0</td>\n",
       "      <td>303461.0</td>\n",
       "      <td>461035.0</td>\n",
       "      <td>0.211233</td>\n",
       "      <td>True</td>\n",
       "    </tr>\n",
       "    <tr>\n",
       "      <th>SRX2556774</th>\n",
       "      <th>SRR5251040</th>\n",
       "      <td>784813.0</td>\n",
       "      <td>604487.0</td>\n",
       "      <td>77304.0</td>\n",
       "      <td>103022.0</td>\n",
       "      <td>0.131269</td>\n",
       "      <td>True</td>\n",
       "    </tr>\n",
       "    <tr>\n",
       "      <th>SRX2556773</th>\n",
       "      <th>SRR5251039</th>\n",
       "      <td>2864116.0</td>\n",
       "      <td>2022701.0</td>\n",
       "      <td>344225.0</td>\n",
       "      <td>497190.0</td>\n",
       "      <td>0.173593</td>\n",
       "      <td>True</td>\n",
       "    </tr>\n",
       "    <tr>\n",
       "      <th>SRX2556772</th>\n",
       "      <th>SRR5251038</th>\n",
       "      <td>2565088.0</td>\n",
       "      <td>1925506.0</td>\n",
       "      <td>254981.0</td>\n",
       "      <td>384601.0</td>\n",
       "      <td>0.149937</td>\n",
       "      <td>True</td>\n",
       "    </tr>\n",
       "    <tr>\n",
       "      <th>SRX2556771</th>\n",
       "      <th>SRR5251037</th>\n",
       "      <td>2253895.0</td>\n",
       "      <td>1566243.0</td>\n",
       "      <td>277811.0</td>\n",
       "      <td>409841.0</td>\n",
       "      <td>0.181837</td>\n",
       "      <td>True</td>\n",
       "    </tr>\n",
       "  </tbody>\n",
       "</table>\n",
       "</div>"
      ],
      "text/plain": [
       "                       num_reads  num_unaligned  num_multimappers  \\\n",
       "srx        srr                                                      \n",
       "SRX2556775 SRR5251041  2182591.0      1418095.0          303461.0   \n",
       "SRX2556774 SRR5251040   784813.0       604487.0           77304.0   \n",
       "SRX2556773 SRR5251039  2864116.0      2022701.0          344225.0   \n",
       "SRX2556772 SRR5251038  2565088.0      1925506.0          254981.0   \n",
       "SRX2556771 SRR5251037  2253895.0      1566243.0          277811.0   \n",
       "\n",
       "                       num_uniquely_aligned  prop_unique  \\\n",
       "srx        srr                                             \n",
       "SRX2556775 SRR5251041              461035.0     0.211233   \n",
       "SRX2556774 SRR5251040              103022.0     0.131269   \n",
       "SRX2556773 SRR5251039              497190.0     0.173593   \n",
       "SRX2556772 SRR5251038              384601.0     0.149937   \n",
       "SRX2556771 SRR5251037              409841.0     0.181837   \n",
       "\n",
       "                      flag_low_unique_alignment  \n",
       "srx        srr                                   \n",
       "SRX2556775 SRR5251041                      True  \n",
       "SRX2556774 SRR5251040                      True  \n",
       "SRX2556773 SRR5251039                      True  \n",
       "SRX2556772 SRR5251038                      True  \n",
       "SRX2556771 SRR5251037                      True  "
      ]
     },
     "execution_count": 12,
     "metadata": {},
     "output_type": "execute_result"
    }
   ],
   "source": [
    "# Organize table to output\n",
    "output = df.set_index(['srx', 'srr'])[['num_reads', 'num_unaligned', 'num_multimappers', \n",
    "                              'num_uniquely_aligned', 'prop_unique', \n",
    "                              'flag_low_unique_alignment']]\n",
    "output.to_pickle('../../output/mapability_downstream_analysis.pkl')\n",
    "output.head()"
   ]
  },
  {
   "cell_type": "markdown",
   "metadata": {},
   "source": [
    "# Do runs within an SRX have similar unique mappings?\n",
    "\n",
    "Yes, as expected most SRRs look similar to other SRRs within the same experiment (SRX). The distribution of strandard deviations is skewed toward smaller STDs.  "
   ]
  },
  {
   "cell_type": "code",
   "execution_count": 13,
   "metadata": {
    "code_folding": [
     0
    ]
   },
   "outputs": [
    {
     "data": {
      "image/png": "[encoded data removed]",
      "text/plain": [
       "<matplotlib.figure.Figure at 0x2aaaf4445e80>"
      ]
     },
     "metadata": {},
     "output_type": "display_data"
    }
   ],
   "source": [
    "# figure out which SRX have multiple samples\n",
    "cnt = df.groupby('srx').num_reads.count()\n",
    "\n",
    "# Plot distribution of counts\n",
    "ax = sns.distplot(cnt[cnt > 1])\n",
    "ax.set_title('Distribution of Number of SRR')\n",
    "ax.set_xlabel('Number of SRRs Per SRX');"
   ]
  },
  {
   "cell_type": "code",
   "execution_count": 14,
   "metadata": {
    "code_folding": [
     0
    ],
    "collapsed": true
   },
   "outputs": [],
   "source": [
    "# Group by SRX, for SRX with multiple SRR calculate standard deviation\n",
    "agg = df[df.srx.isin(cnt[cnt > 1].index)].groupby('srx').num_uniquely_aligned.std()"
   ]
  },
  {
   "cell_type": "code",
   "execution_count": 15,
   "metadata": {
    "code_folding": [
     0
    ]
   },
   "outputs": [
    {
     "data": {
      "image/png": "[encoded data removed]",
      "text/plain": [
       "<matplotlib.figure.Figure at 0x2aaaf4646ac8>"
      ]
     },
     "metadata": {},
     "output_type": "display_data"
    }
   ],
   "source": [
    "# Plot distribution of standard deviation\n",
    "ax = sns.distplot(np.log10(agg + 1), label='SRRs within SRX')\n",
    "ax.set_title('Distribution of Standard Deviation Among SRR within an SRX')\n",
    "ax.set_xlabel('Log 10 Standard Deviation of SRR within SRX');"
   ]
  },
  {
   "cell_type": "markdown",
   "metadata": {
    "collapsed": true
   },
   "source": [
    "# What is the worst SRR?"
   ]
  },
  {
   "cell_type": "code",
   "execution_count": 16,
   "metadata": {
    "code_folding": [
     0
    ]
   },
   "outputs": [
    {
     "name": "stdout",
     "output_type": "stream",
     "text": [
      "SRR989483 had the lowest percent unique mapping\n"
     ]
    },
    {
     "data": {
      "text/html": [
       "<div>\n",
       "<table border=\"1\" class=\"dataframe\">\n",
       "  <thead>\n",
       "    <tr style=\"text-align: right;\">\n",
       "      <th></th>\n",
       "      <th></th>\n",
       "      <th>num_multimappers</th>\n",
       "      <th>num_reads</th>\n",
       "      <th>num_unaligned</th>\n",
       "      <th>num_uniquely_aligned</th>\n",
       "      <th>prop_unique</th>\n",
       "      <th>flag_low_unique_alignment</th>\n",
       "    </tr>\n",
       "    <tr>\n",
       "      <th>srx</th>\n",
       "      <th>srr</th>\n",
       "      <th></th>\n",
       "      <th></th>\n",
       "      <th></th>\n",
       "      <th></th>\n",
       "      <th></th>\n",
       "      <th></th>\n",
       "    </tr>\n",
       "  </thead>\n",
       "  <tbody>\n",
       "    <tr>\n",
       "      <th>SRX352887</th>\n",
       "      <th>SRR989483</th>\n",
       "      <td>5.0</td>\n",
       "      <td>11468018.0</td>\n",
       "      <td>11468010.0</td>\n",
       "      <td>3.0</td>\n",
       "      <td>2.615971e-07</td>\n",
       "      <td>True</td>\n",
       "    </tr>\n",
       "  </tbody>\n",
       "</table>\n",
       "</div>"
      ],
      "text/plain": [
       "                     num_multimappers   num_reads  num_unaligned  \\\n",
       "srx       srr                                                      \n",
       "SRX352887 SRR989483               5.0  11468018.0     11468010.0   \n",
       "\n",
       "                     num_uniquely_aligned   prop_unique  \\\n",
       "srx       srr                                             \n",
       "SRX352887 SRR989483                   3.0  2.615971e-07   \n",
       "\n",
       "                    flag_low_unique_alignment  \n",
       "srx       srr                                  \n",
       "SRX352887 SRR989483                      True  "
      ]
     },
     "execution_count": 16,
     "metadata": {},
     "output_type": "execute_result"
    }
   ],
   "source": [
    "# find the worst srr\n",
    "worst_srr = df.iloc[df.prop_unique.argmin()].srr\n",
    "print('{} had the lowest percent unique mapping'.format(worst_srr))\n",
    "df[df.srr == worst_srr].set_index(['srx', 'srr'])"
   ]
  },
  {
   "cell_type": "markdown",
   "metadata": {
    "collapsed": true
   },
   "source": [
    "# What is the worst SRX?"
   ]
  },
  {
   "cell_type": "code",
   "execution_count": 17,
   "metadata": {
    "code_folding": [
     0
    ]
   },
   "outputs": [
    {
     "name": "stdout",
     "output_type": "stream",
     "text": [
      "SRX352887 had the lowest total percent unique mapping\n"
     ]
    },
    {
     "data": {
      "text/html": [
       "<div>\n",
       "<table border=\"1\" class=\"dataframe\">\n",
       "  <thead>\n",
       "    <tr style=\"text-align: right;\">\n",
       "      <th></th>\n",
       "      <th></th>\n",
       "      <th>num_multimappers</th>\n",
       "      <th>num_reads</th>\n",
       "      <th>num_unaligned</th>\n",
       "      <th>num_uniquely_aligned</th>\n",
       "      <th>prop_unique</th>\n",
       "      <th>flag_low_unique_alignment</th>\n",
       "    </tr>\n",
       "    <tr>\n",
       "      <th>srx</th>\n",
       "      <th>srr</th>\n",
       "      <th></th>\n",
       "      <th></th>\n",
       "      <th></th>\n",
       "      <th></th>\n",
       "      <th></th>\n",
       "      <th></th>\n",
       "    </tr>\n",
       "  </thead>\n",
       "  <tbody>\n",
       "    <tr>\n",
       "      <th>SRX352887</th>\n",
       "      <th>SRR989483</th>\n",
       "      <td>5.0</td>\n",
       "      <td>11468018.0</td>\n",
       "      <td>11468010.0</td>\n",
       "      <td>3.0</td>\n",
       "      <td>2.615971e-07</td>\n",
       "      <td>True</td>\n",
       "    </tr>\n",
       "  </tbody>\n",
       "</table>\n",
       "</div>"
      ],
      "text/plain": [
       "                     num_multimappers   num_reads  num_unaligned  \\\n",
       "srx       srr                                                      \n",
       "SRX352887 SRR989483               5.0  11468018.0     11468010.0   \n",
       "\n",
       "                     num_uniquely_aligned   prop_unique  \\\n",
       "srx       srr                                             \n",
       "SRX352887 SRR989483                   3.0  2.615971e-07   \n",
       "\n",
       "                    flag_low_unique_alignment  \n",
       "srx       srr                                  \n",
       "SRX352887 SRR989483                      True  "
      ]
     },
     "execution_count": 17,
     "metadata": {},
     "output_type": "execute_result"
    }
   ],
   "source": [
    "# sum srrs and find the worst srx\n",
    "srx_level = df.groupby('srx').agg({'num_reads': 'sum', 'num_uniquely_aligned': 'sum'})\n",
    "srx_level['prop_uniquely_aligned'] = srx_level.num_uniquely_aligned / srx_level.num_reads\n",
    "\n",
    "worst_srx = srx_level.prop_uniquely_aligned.argmin()\n",
    "print('{} had the lowest total percent unique mapping'.format(worst_srx))\n",
    "df[df.srx == worst_srx].set_index(['srx', 'srr'])"
   ]
  },
  {
   "cell_type": "code",
   "execution_count": null,
   "metadata": {
    "collapsed": true
   },
   "outputs": [],
   "source": []
  },
  {
   "cell_type": "code",
   "execution_count": null,
   "metadata": {
    "collapsed": true
   },
   "outputs": [],
   "source": []
  }
 ],
 "metadata": {
  "kernelspec": {
   "display_name": "Python [conda env:ncbi_remap]",
   "language": "python",
   "name": "conda-env-ncbi_remap-py"
  },
  "language_info": {
   "codemirror_mode": {
    "name": "ipython",
    "version": 3
   },
   "file_extension": ".py",
   "mimetype": "text/x-python",
   "name": "python",
   "nbconvert_exporter": "python",
   "pygments_lexer": "ipython3",
   "version": "3.5.3"
  },
  "toc": {
   "nav_menu": {},
   "number_sections": true,
   "sideBar": true,
   "skip_h1_title": false,
   "toc_cell": false,
   "toc_position": {},
   "toc_section_display": "block",
   "toc_window_display": false
  }
 },
 "nbformat": 4,
 "nbformat_minor": 2
}
