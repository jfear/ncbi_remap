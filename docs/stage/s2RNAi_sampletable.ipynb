{
 "cells": [
  {
   "cell_type": "markdown",
   "metadata": {},
   "source": [
    "We have a large RNA-seq dataset from the lab that I also want to use as an example dataset for classification. These were the SRA study SRP074593."
   ]
  },
  {
   "cell_type": "code",
   "execution_count": 2,
   "metadata": {
    "code_folding": [
     0
    ]
   },
   "outputs": [
    {
     "name": "stdout",
     "output_type": "stream",
     "text": [
      "last updated: 2017-09-15 \n",
      "Git hash: 5185ab6dc10f8090cb502805e2f296a8c2d0b431\n"
     ]
    }
   ],
   "source": [
    "# %load ../config/defaults.py\n",
    "# Load useful extensions\n",
    "\n",
    "# Activate the autoreload extension for easy reloading of external packages\n",
    "%reload_ext autoreload\n",
    "%autoreload 2\n",
    "\n",
    "# Trun on the water mark\n",
    "%reload_ext watermark\n",
    "%watermark -u -d -g\n",
    "\n",
    "# Load ipycache extension\n",
    "%reload_ext ipycache\n",
    "from ipycache import CacheMagics\n",
    "CacheMagics.cachedir = '../cachedir'\n",
    "\n",
    "# Add project library to path\n",
    "import sys\n",
    "sys.path.insert(0, '../../lib/python')\n",
    "\n",
    "# The usual suspects\n",
    "import os\n",
    "import numpy as np\n",
    "import pandas as pd\n",
    "\n",
    "# plotting\n",
    "import matplotlib as mpl\n",
    "import matplotlib.pyplot as plt\n",
    "import seaborn as sns\n",
    "\n",
    "%matplotlib inline\n",
    "sns.set_context('poster')\n",
    "\n",
    "# Turn off scientific notation\n",
    "np.set_printoptions(precision=5, suppress=True)\n"
   ]
  },
  {
   "cell_type": "code",
   "execution_count": 5,
   "metadata": {
    "code_folding": [
     0
    ],
    "collapsed": true
   },
   "outputs": [],
   "source": [
    "# %load ../../bin/load.py\n",
    "from pymongo import MongoClient\n",
    "with open('/home/fearjm/Projects/ncbi_remap/output/.mongodb_host', 'r') as fh:\n",
    "    host = fh.read().strip()\n",
    "client = MongoClient(host=host, port=27022)\n",
    "db = client['sra2']\n",
    "ncbi = db['ncbi']\n",
    "remap = db['remap']"
   ]
  },
  {
   "cell_type": "code",
   "execution_count": 21,
   "metadata": {
    "code_folding": [
     0
    ]
   },
   "outputs": [],
   "source": [
    "# Query database for SRP\n",
    "agg = ncbi.aggregate([\n",
    "    {\n",
    "        '$match': {\n",
    "            'sra.study.study_id': 'SRP074593'\n",
    "        }\n",
    "    },\n",
    "    {'$unwind': '$runs'},\n",
    "    {\n",
    "        '$project': {\n",
    "            '_id': 0,\n",
    "            'srx': '$srx',\n",
    "            'srr': '$runs.srr',\n",
    "            'attrs': '$biosample.attributes'\n",
    "        }\n",
    "    }\n",
    "])\n",
    "\n",
    "samples = []\n",
    "for row in agg:\n",
    "    for attr in row['attrs'][0]:\n",
    "        if attr['name'] == 'cell_line':\n",
    "            row['cell_line'] = attr['value']\n",
    "        elif attr['name'] == 'RNAi target gene name':\n",
    "            row['target_gene'] = attr['value']\n",
    "        elif attr['name'] == 'RNAi reagent from harvard drosophila rnai screening center':\n",
    "            row['drsc'] = attr['value']\n",
    "    \n",
    "    row['library_strategy'] = 'RNA-Seq'\n",
    "    del row['attrs']\n",
    "    samples.append(row)"
   ]
  },
  {
   "cell_type": "code",
   "execution_count": 26,
   "metadata": {
    "code_folding": [
     0
    ]
   },
   "outputs": [],
   "source": [
    "# make dataframe\n",
    "df = pd.DataFrame(samples)\n",
    "\n",
    "# Re-order columns\n",
    "df = df[['srr', 'srx', 'library_strategy', 'cell_line', 'drsc', 'target_gene']]"
   ]
  },
  {
   "cell_type": "code",
   "execution_count": 28,
   "metadata": {},
   "outputs": [
    {
     "name": "stdout",
     "output_type": "stream",
     "text": [
      "(1900, 6)\n"
     ]
    },
    {
     "data": {
      "text/html": [
       "<div>\n",
       "<table border=\"1\" class=\"dataframe\">\n",
       "  <thead>\n",
       "    <tr style=\"text-align: right;\">\n",
       "      <th></th>\n",
       "      <th>srr</th>\n",
       "      <th>srx</th>\n",
       "      <th>library_strategy</th>\n",
       "      <th>cell_line</th>\n",
       "      <th>drsc</th>\n",
       "      <th>target_gene</th>\n",
       "    </tr>\n",
       "  </thead>\n",
       "  <tbody>\n",
       "    <tr>\n",
       "      <th>0</th>\n",
       "      <td>SRR3488543</td>\n",
       "      <td>SRX1750547</td>\n",
       "      <td>RNA-Seq</td>\n",
       "      <td>S2R+</td>\n",
       "      <td>DRSC27017</td>\n",
       "      <td>CG11560</td>\n",
       "    </tr>\n",
       "    <tr>\n",
       "      <th>1</th>\n",
       "      <td>SRR3488542</td>\n",
       "      <td>SRX1750546</td>\n",
       "      <td>RNA-Seq</td>\n",
       "      <td>S2R+</td>\n",
       "      <td>DRSC23043</td>\n",
       "      <td>CG8765</td>\n",
       "    </tr>\n",
       "    <tr>\n",
       "      <th>2</th>\n",
       "      <td>SRR3488541</td>\n",
       "      <td>SRX1750545</td>\n",
       "      <td>RNA-Seq</td>\n",
       "      <td>S2R+</td>\n",
       "      <td>DRSC14626</td>\n",
       "      <td>CG13624</td>\n",
       "    </tr>\n",
       "    <tr>\n",
       "      <th>3</th>\n",
       "      <td>SRR3488540</td>\n",
       "      <td>SRX1750544</td>\n",
       "      <td>RNA-Seq</td>\n",
       "      <td>S2R+</td>\n",
       "      <td>DRSC08148</td>\n",
       "      <td>Bgb</td>\n",
       "    </tr>\n",
       "    <tr>\n",
       "      <th>4</th>\n",
       "      <td>SRR3488539</td>\n",
       "      <td>SRX1750543</td>\n",
       "      <td>RNA-Seq</td>\n",
       "      <td>S2R+</td>\n",
       "      <td>DRSC37662</td>\n",
       "      <td>Taf6</td>\n",
       "    </tr>\n",
       "  </tbody>\n",
       "</table>\n",
       "</div>"
      ],
      "text/plain": [
       "          srr         srx library_strategy cell_line       drsc target_gene\n",
       "0  SRR3488543  SRX1750547          RNA-Seq      S2R+  DRSC27017     CG11560\n",
       "1  SRR3488542  SRX1750546          RNA-Seq      S2R+  DRSC23043      CG8765\n",
       "2  SRR3488541  SRX1750545          RNA-Seq      S2R+  DRSC14626     CG13624\n",
       "3  SRR3488540  SRX1750544          RNA-Seq      S2R+  DRSC08148         Bgb\n",
       "4  SRR3488539  SRX1750543          RNA-Seq      S2R+  DRSC37662        Taf6"
      ]
     },
     "execution_count": 28,
     "metadata": {},
     "output_type": "execute_result"
    }
   ],
   "source": [
    "print(df.shape)\n",
    "df.head()"
   ]
  },
  {
   "cell_type": "code",
   "execution_count": 29,
   "metadata": {
    "collapsed": true
   },
   "outputs": [],
   "source": [
    "df.to_csv('../../output/s2rnai_sampletable.tsv', sep='\\t', index=False)"
   ]
  },
  {
   "cell_type": "code",
   "execution_count": null,
   "metadata": {
    "collapsed": true
   },
   "outputs": [],
   "source": []
  }
 ],
 "metadata": {
  "kernelspec": {
   "display_name": "Python [conda env:ncbi_remap]",
   "language": "python",
   "name": "conda-env-ncbi_remap-py"
  },
  "language_info": {
   "codemirror_mode": {
    "name": "ipython",
    "version": 3
   },
   "file_extension": ".py",
   "mimetype": "text/x-python",
   "name": "python",
   "nbconvert_exporter": "python",
   "pygments_lexer": "ipython3",
   "version": "3.5.3"
  },
  "toc": {
   "nav_menu": {},
   "number_sections": true,
   "sideBar": true,
   "skip_h1_title": false,
   "toc_cell": false,
   "toc_position": {},
   "toc_section_display": "block",
   "toc_window_display": false
  }
 },
 "nbformat": 4,
 "nbformat_minor": 2
}
